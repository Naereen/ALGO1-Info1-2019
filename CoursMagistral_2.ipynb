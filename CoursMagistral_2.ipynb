{
 "cells": [
  {
   "cell_type": "markdown",
   "metadata": {
    "toc": "true"
   },
   "source": [
    "# Table of Contents\n",
    " <p><div class=\"lev1 toc-item\"><a href=\"#ALGO1-:-Introduction-à-l'algorithmique\" data-toc-modified-id=\"ALGO1-:-Introduction-à-l'algorithmique-1\"><span class=\"toc-item-num\">1&nbsp;&nbsp;</span><a href=\"https://perso.crans.org/besson/teach/info1_algo1_2019/\" target=\"_blank\">ALGO1 : Introduction à l'algorithmique</a></a></div><div class=\"lev1 toc-item\"><a href=\"#Cours-Magistral-2\" data-toc-modified-id=\"Cours-Magistral-2-2\"><span class=\"toc-item-num\">2&nbsp;&nbsp;</span>Cours Magistral 2</a></div><div class=\"lev2 toc-item\"><a href=\"#Structures-de-données-pour-représenter-un-ensemble-de-valeurs-distinctes\" data-toc-modified-id=\"Structures-de-données-pour-représenter-un-ensemble-de-valeurs-distinctes-21\"><span class=\"toc-item-num\">2.1&nbsp;&nbsp;</span>Structures de données pour représenter un ensemble de valeurs distinctes</a></div><div class=\"lev2 toc-item\"><a href=\"#Type-abstrait\" data-toc-modified-id=\"Type-abstrait-22\"><span class=\"toc-item-num\">2.2&nbsp;&nbsp;</span>Type abstrait</a></div><div class=\"lev2 toc-item\"><a href=\"#Implémentation-des-opérations-non-primitives-à-partir-des-opérations-primitives\" data-toc-modified-id=\"Implémentation-des-opérations-non-primitives-à-partir-des-opérations-primitives-23\"><span class=\"toc-item-num\">2.3&nbsp;&nbsp;</span>Implémentation des opérations non primitives à partir des opérations primitives</a></div><div class=\"lev2 toc-item\"><a href=\"#Tests-communs-aux-différentes-implémentations\" data-toc-modified-id=\"Tests-communs-aux-différentes-implémentations-24\"><span class=\"toc-item-num\">2.4&nbsp;&nbsp;</span>Tests communs aux différentes implémentations</a></div><div class=\"lev2 toc-item\"><a href=\"#Implémentation-naïve-avec-une-structure-linéaire-(liste,-tableau-etc)\" data-toc-modified-id=\"Implémentation-naïve-avec-une-structure-linéaire-(liste,-tableau-etc)-25\"><span class=\"toc-item-num\">2.5&nbsp;&nbsp;</span>Implémentation naïve avec une structure linéaire (liste, tableau etc)</a></div><div class=\"lev2 toc-item\"><a href=\"#Implémentation-native-avec-set-en-Python\" data-toc-modified-id=\"Implémentation-native-avec-set-en-Python-26\"><span class=\"toc-item-num\">2.6&nbsp;&nbsp;</span>Implémentation native avec <code>set</code> en Python</a></div><div class=\"lev2 toc-item\"><a href=\"#Bidouillage-1/1-:-implémentation-avec-des-entiers-32/64-bits\" data-toc-modified-id=\"Bidouillage-1/1-:-implémentation-avec-des-entiers-32/64-bits-27\"><span class=\"toc-item-num\">2.7&nbsp;&nbsp;</span>Bidouillage 1/1 : implémentation avec des entiers 32/64 bits</a></div><div class=\"lev2 toc-item\"><a href=\"#Bidouillage-2/2-:-implémentation-avec-des-entiers-en-précision-infinie-avec-Python\" data-toc-modified-id=\"Bidouillage-2/2-:-implémentation-avec-des-entiers-en-précision-infinie-avec-Python-28\"><span class=\"toc-item-num\">2.8&nbsp;&nbsp;</span>Bidouillage 2/2 : implémentation avec des entiers en précision infinie avec Python</a></div><div class=\"lev2 toc-item\"><a href=\"#Implémentation-avec-des-tables-de-hachage-?\" data-toc-modified-id=\"Implémentation-avec-des-tables-de-hachage-?-29\"><span class=\"toc-item-num\">2.9&nbsp;&nbsp;</span>Implémentation avec des tables de hachage ?</a></div><div class=\"lev2 toc-item\"><a href=\"#Implémentation-avec-des-arbres-binaires-de-recherche-?\" data-toc-modified-id=\"Implémentation-avec-des-arbres-binaires-de-recherche-?-210\"><span class=\"toc-item-num\">2.10&nbsp;&nbsp;</span>Implémentation avec des arbres binaires de recherche ?</a></div><div class=\"lev2 toc-item\"><a href=\"#Conclusion\" data-toc-modified-id=\"Conclusion-211\"><span class=\"toc-item-num\">2.11&nbsp;&nbsp;</span>Conclusion</a></div>"
   ]
  },
  {
   "cell_type": "markdown",
   "metadata": {},
   "source": [
    "# [ALGO1 : Introduction à l'algorithmique](https://perso.crans.org/besson/teach/info1_algo1_2019/)\n",
    "\n",
    "- [Page du cours](https://perso.crans.org/besson/teach/info1_algo1_2019/) : https://perso.crans.org/besson/teach/info1_algo1_2019/\n",
    "- Magistère d'Informatique de Rennes - ENS Rennes - Année 2019/2020\n",
    "- Intervenants :\n",
    "  + Cours : [Lilian Besson](https://perso.crans.org/besson/)\n",
    "  + Travaux dirigés : [Raphaël Truffet](http://perso.eleves.ens-rennes.fr/people/Raphael.Truffet/)\n",
    "- Références :\n",
    "  + [Open Data Structures](http://opendatastructures.org/ods-python.pdf)"
   ]
  },
  {
   "cell_type": "markdown",
   "metadata": {},
   "source": [
    "# Cours Magistral 2"
   ]
  },
  {
   "cell_type": "markdown",
   "metadata": {},
   "source": [
    "## Structures de données pour représenter un ensemble de valeurs distinctes\n",
    "\n",
    "- Après avoir étudié comment représenter $<a_1,\\dots,a_n>$ une *séquence ordonnée* de valeurs $a_i$ dans un domaine $D$ (e.g., des entiers), on s'intéresse aujourd'hui à représenter un *ensemble non ordonné* de valeurs : $\\{a_1,\\dots,a_n\\}$.\n",
    "- On va utiliser des valeurs entières, par concision : $D=\\mathbb{N}$, `d = int`."
   ]
  },
  {
   "cell_type": "markdown",
   "metadata": {},
   "source": [
    "## Type abstrait\n",
    "- On fixe $D$ le domaine de nos valeurs, et `d` leur type.\n",
    "- On définit `Set<d>` le type abstrait des ensembles (collections non ordonnés) de valeurs de type `d`.\n",
    "\n",
    "On veut les opérations suivantes :\n",
    "\n",
    "    newEmptySet : () -> Set<d>          // créer un ensemble vide\n",
    "    len         : Set<d> -> int         // donner le nombre d'éléments de cet ensemble\n",
    "    contains    : Set<d> * d -> bool    // tester l'appartenance\n",
    "    add         : Set<d> * d -> Set<d>  // ajouter un élément à cet ensemble\n",
    "    pop         : Set<d> * d -> Set<d>  // retirer un élément à cet ensemble (s'il est présent)\n",
    "    values      : Set<d> -> List<d>     // retourne la liste de valeurs présentes dans l'ensemble"
   ]
  },
  {
   "cell_type": "markdown",
   "metadata": {},
   "source": [
    "On peut aussi vouloir les opérations suivantes, qui peuvent toutes s'implémenter avec les primitives ci-dessus :\n",
    "\n",
    "    isEmpty : Set<d> -> bool    // test si l'ensemble est vide\n",
    "    copy    : Set<d> -> Set<d>  // copie l'ensemble\n",
    "\n",
    "On peut aussi vouloir les opérations entre ensembles suivantes, qui peuvent toutes s'implémenter avec les primitives ci-dessus :\n",
    "\n",
    "    union                : Set<d> * Set<d> -> Set<d>\n",
    "    // contient les éléments présents dans au moins un des deux ensembles\n",
    "    \n",
    "    intersection         : Set<d> * Set<d> -> Set<d>\n",
    "    // contient les éléments présents dans les deux ensembles\n",
    "    \n",
    "    difference           : Set<d> * Set<d> -> Set<d>\n",
    "    // contient les éléments présents dans le premier mais pas le deuxième ensemble\n",
    "    \n",
    "    symmetric_difference : Set<d> * Set<d> -> Set<d>\n",
    "    // contient les éléments présents dans le premier mais pas le deuxième ensemble ou dans le deuxième mais pas le premier (xor)\n",
    "    \n",
    "    issubset             : Set<d> * Set<d> -> bool\n",
    "    // test si le premier ensemble est contenu dans le second\n",
    "    \n",
    "    issuperset           : Set<d> * Set<d> -> bool\n",
    "    // test si le premier ensemble est contenu dans le second"
   ]
  },
  {
   "cell_type": "markdown",
   "metadata": {},
   "source": [
    "## Implémentation des opérations non primitives à partir des opérations primitives\n",
    "- Avec OCaml, on pourrait écrire un foncteur.\n",
    "- Avec Python, on va écrire une classe, et on pourra obtenir différentes implémentations complètes de la structure de données d'ensemble, à partir de différentes implémentations partielles des opérations primitives. C'est assez naïf : le code est indépendant de l'implémentation sous jacente de `add`/`pop` et de l'itérations :"
   ]
  },
  {
   "cell_type": "code",
   "execution_count": 58,
   "metadata": {
    "code_folding": [
     0
    ]
   },
   "outputs": [],
   "source": [
    "class SetIterator():\n",
    "    def __init__(self, a_set):\n",
    "        self.values = a_set.values()\n",
    "        self.maxcurrent = len(a_set)\n",
    "        self.current = 0\n",
    "    \n",
    "    def __iter__(self):\n",
    "        return self\n",
    "    \n",
    "    def __next__(self):\n",
    "        if self.current >= self.maxcurrent:\n",
    "            raise StopIteration\n",
    "        else:\n",
    "            self.current += 1\n",
    "            return self.values[self.current - 1]"
   ]
  },
  {
   "cell_type": "code",
   "execution_count": 63,
   "metadata": {},
   "outputs": [],
   "source": [
    "class SetWithNonPrimOperations():\n",
    "    def isEmpty(self):\n",
    "        return len(self) == 0\n",
    "\n",
    "    def __iter__(self):\n",
    "        return SetIterator(self)\n",
    "    \n",
    "    def copy(self):\n",
    "        \"\"\" A new set containing the same values.\"\"\"\n",
    "        new_set = self.__class__()\n",
    "        for value in self:\n",
    "            new_set.add(value)\n",
    "        return new_set\n",
    "    \n",
    "    def difference(self, other_set):\n",
    "        \"\"\" A new set containing the values in self but not other_set.\"\"\"\n",
    "        new_set = self.__class__()\n",
    "        for value in self:\n",
    "            if value not in other_set:\n",
    "                new_set.add(value)\n",
    "        return new_set\n",
    "    \n",
    "    def symmetric_difference(self, other_set):\n",
    "        \"\"\" A new set containing the values in self but not other_set and the values in other_set but not self (XOR).\"\"\"\n",
    "        new_set = self.__class__()\n",
    "        for value in self:\n",
    "            if value not in other_set:\n",
    "                new_set.add(value)\n",
    "        for value in other_set:\n",
    "            if value not in self:\n",
    "                new_set.add(value)\n",
    "        return new_set\n",
    "    \n",
    "    def intersection(self, other_set):\n",
    "        \"\"\" A new set containing the values in self and in other_set.\"\"\"\n",
    "        new_set = self.__class__()\n",
    "        for value in self:\n",
    "            if value in other_set:\n",
    "                new_set.add(value)\n",
    "        return new_set\n",
    "    \n",
    "    def union(self, other_set):\n",
    "        \"\"\" A new set containing the values in self or in other_set.\"\"\"\n",
    "        new_set = self.__class__()\n",
    "        for value in self:\n",
    "            new_set.add(value)\n",
    "        for value in other_set:\n",
    "            new_set.add(value)\n",
    "        return new_set\n",
    "\n",
    "    def isdisjoint(self, other_set):\n",
    "        \"\"\" True if all the values in self are not in other_set.\"\"\"\n",
    "        for value in self:\n",
    "            if value in other_set:\n",
    "                return False\n",
    "        return True\n",
    "\n",
    "    def issubset(self, other_set):\n",
    "        \"\"\" True if all the values in self are in other_set.\"\"\"\n",
    "        for value in self:\n",
    "            if value not in other_set:\n",
    "                return False\n",
    "        return True\n",
    "\n",
    "    def issuperset(self, other_set):\n",
    "        \"\"\" True if all the values in other_set are in self.\"\"\"\n",
    "        for value in other_set:\n",
    "            if value not in self:\n",
    "                return False\n",
    "        return True\n",
    "\n",
    "    def clear(self):\n",
    "        \"\"\" Remove (pop) all the values in self.\"\"\"\n",
    "        for value in self:\n",
    "            self.pop(value)\n",
    "    \n",
    "    def __str__(self):\n",
    "        \"\"\" Represent the values of the set in a string {a1,...,an}.\"\"\"\n",
    "        str_list = str(self.values())\n",
    "        return \"{\" + str_list.strip(\"[]\") + \"}\""
   ]
  },
  {
   "cell_type": "markdown",
   "metadata": {},
   "source": [
    "## Tests communs aux différentes implémentations"
   ]
  },
  {
   "cell_type": "code",
   "execution_count": 64,
   "metadata": {},
   "outputs": [],
   "source": [
    "def un_petit_test_avec_une_structure_densemble(SetClass):\n",
    "    ens = SetClass()\n",
    "    print(ens)\n",
    "    assert not ens\n",
    "    for x in range(10):\n",
    "        assert x not in ens\n",
    "        ens.add(x)\n",
    "        assert x in ens\n",
    "        print(ens)\n",
    "    # ens = {0, 1, 2, 3, 4, 5, 6, 7, 8, 9}\n",
    "    assert ens\n",
    "    assert str(ens) == \"{0, 1, 2, 3, 4, 5, 6, 7, 8, 9}\"\n",
    "    print(\"S1 =\", ens)\n",
    "    for x in range(20, 30):\n",
    "        assert x not in ens\n",
    "    \n",
    "    ens2 = SetClass()\n",
    "    print(ens2)\n",
    "    for x in range(5, 10):\n",
    "        assert x not in ens2\n",
    "        ens2.add(x)\n",
    "        assert x in ens2\n",
    "        print(ens2)\n",
    "    # ens2 = {5, 6, 7, 8, 9}\n",
    "    assert str(ens2) == \"{5, 6, 7, 8, 9}\"\n",
    "    print(\"S2 =\", ens2)\n",
    "    assert ens2.issubset(ens)\n",
    "    assert ens.issuperset(ens2)\n",
    "    \n",
    "    assert [v for v in ens.intersection(ens2)] == [v for v in ens2]\n",
    "    assert [v for v in ens.intersection(ens2)] == [5, 6, 7, 8, 9]\n",
    "    assert [v for v in ens.difference(ens2)] == [0, 1, 2, 3, 4]\n",
    "    \n",
    "    ens3 = SetClass()\n",
    "    print(ens3)\n",
    "    for x in range(20, 25):\n",
    "        assert x not in ens3\n",
    "        ens3.add(x)\n",
    "        assert x in ens3\n",
    "        print(ens3)\n",
    "    assert len(ens3) == 5\n",
    "    for x in range(20, 25):\n",
    "        ens3.add(x)\n",
    "        assert x in ens3\n",
    "        print(ens3)\n",
    "    assert len(ens3) == 5\n",
    "    # ens3 = {20, 21, 22, 23, 24}\n",
    "    assert str(ens3) == \"{20, 21, 22, 23, 24}\"\n",
    "    print(\"S3 =\", ens3)\n",
    "\n",
    "    assert not ens.issubset(ens3)\n",
    "    assert not ens.issuperset(ens3)\n",
    "    assert not ens3.issubset(ens)\n",
    "    assert not ens3.issuperset(ens)\n",
    "    \n",
    "    assert not ens3.intersection(ens)\n",
    "    assert not ens.intersection(ens3)\n",
    "    \n",
    "    print(\"S1 union S2 =\", ens.union(ens2), \" = S2 union S1 =\", ens2.union(ens))\n",
    "    print(\"S1 union S3 =\", ens.union(ens3))\n",
    "    print(\"S2 union S3 =\", ens2.union(ens3))\n",
    "\n",
    "    print(\"S1 inter S2 =\", ens.intersection(ens2), \" != S2 inter S1 =\", ens2.intersection(ens))\n",
    "    print(\"S1 inter S3 =\", ens.intersection(ens3), \" != S3 inter S1 =\", ens3.intersection(ens))\n",
    "    print(\"S2 inter S3 =\", ens2.intersection(ens3), \" != S3 inter S2 =\", ens3.intersection(ens2))\n",
    "\n",
    "    print(\"S1 diff S2 =\", ens.difference(ens2), \" != S2 diff S1 =\", ens2.difference(ens))\n",
    "    print(\"S1 diff S3 =\", ens.difference(ens3), \" != S3 diff S1 =\", ens3.difference(ens))\n",
    "    print(\"S2 diff S3 =\", ens2.difference(ens3), \" != S3 diff S2 =\", ens3.difference(ens2))\n",
    "\n",
    "    print(\"S1 diff sym S2 =\", ens.symmetric_difference(ens2), \" != S2 diff sym S1 =\", ens2.symmetric_difference(ens))\n",
    "    print(\"S1 diff sym S3 =\", ens.symmetric_difference(ens3), \" != S3 diff sym S1 =\", ens3.symmetric_difference(ens))\n",
    "    print(\"S2 diff sym S3 =\", ens2.symmetric_difference(ens3), \" != S3 diff sym S2 =\", ens3.symmetric_difference(ens2))\n",
    "    "
   ]
  },
  {
   "cell_type": "markdown",
   "metadata": {},
   "source": [
    "## Implémentation naïve avec une structure linéaire (liste, tableau etc)\n",
    "- On utilise une liste ou un tableau (en Python, `list<d>`) pour stocker les valeurs.\n",
    "- Voyons les implémentations concrètes (les complexités sont discutées pour chacune plus bas)."
   ]
  },
  {
   "cell_type": "code",
   "execution_count": 65,
   "metadata": {},
   "outputs": [],
   "source": [
    "class SetWithList(SetWithNonPrimOperations):\n",
    "    def __init__(self):\n",
    "        self._values = []\n",
    "\n",
    "    def __len__(self):\n",
    "        \"\"\" Return n the current size of the set.\"\"\"\n",
    "        return len(self._values)\n",
    "\n",
    "    def contains(self, value):\n",
    "        \"\"\" Test if value is in the set.\n",
    "        \n",
    "        - Test linearly the equality with all values in the list.\n",
    "        - Takes O(n) time in worst case.\"\"\"\n",
    "        for other_value in self._values:\n",
    "            if other_value == value:\n",
    "                return True\n",
    "        return False\n",
    "        # equivalent to\n",
    "        # return value in self._values\n",
    "    __contains__ = contains\n",
    "\n",
    "    def add(self, value):\n",
    "        \"\"\" Add value in the set if it is not present.\n",
    "        \n",
    "        - Takes O(n) time in worst case.\"\"\"\n",
    "        if value not in self:\n",
    "            self._values.append(value)\n",
    "\n",
    "    def pop(self, value):\n",
    "        \"\"\" Add value in the set if it is not present.\n",
    "        \n",
    "        - Takes O(n) time in worst case.\"\"\"\n",
    "        if value in self:  # O(n)\n",
    "            location = self._values.index(value)  # O(n), but happens only once\n",
    "            del self._values[location]  # O(n)\n",
    "    \n",
    "    def values(self):\n",
    "        \"\"\" Return a fresh list of the values of the set (not the actual list, to protect it).\n",
    "        \n",
    "        - Takes O(n) time in worst case.\"\"\"\n",
    "        return list(self._values)"
   ]
  },
  {
   "cell_type": "markdown",
   "metadata": {},
   "source": [
    "On test :"
   ]
  },
  {
   "cell_type": "code",
   "execution_count": 66,
   "metadata": {},
   "outputs": [
    {
     "name": "stdout",
     "output_type": "stream",
     "text": [
      "{}\n",
      "{0}\n",
      "{0, 1}\n",
      "{0, 1, 2}\n",
      "{0, 1, 2, 3}\n",
      "{0, 1, 2, 3, 4}\n",
      "{0, 1, 2, 3, 4, 5}\n",
      "{0, 1, 2, 3, 4, 5, 6}\n",
      "{0, 1, 2, 3, 4, 5, 6, 7}\n",
      "{0, 1, 2, 3, 4, 5, 6, 7, 8}\n",
      "{0, 1, 2, 3, 4, 5, 6, 7, 8, 9}\n",
      "S1 = {0, 1, 2, 3, 4, 5, 6, 7, 8, 9}\n",
      "{}\n",
      "{5}\n",
      "{5, 6}\n",
      "{5, 6, 7}\n",
      "{5, 6, 7, 8}\n",
      "{5, 6, 7, 8, 9}\n",
      "S2 = {5, 6, 7, 8, 9}\n",
      "{}\n",
      "{20}\n",
      "{20, 21}\n",
      "{20, 21, 22}\n",
      "{20, 21, 22, 23}\n",
      "{20, 21, 22, 23, 24}\n",
      "{20, 21, 22, 23, 24}\n",
      "{20, 21, 22, 23, 24}\n",
      "{20, 21, 22, 23, 24}\n",
      "{20, 21, 22, 23, 24}\n",
      "{20, 21, 22, 23, 24}\n",
      "S3 = {20, 21, 22, 23, 24}\n",
      "S1 union S2 = {0, 1, 2, 3, 4, 5, 6, 7, 8, 9}  = S2 union S1 = {5, 6, 7, 8, 9, 0, 1, 2, 3, 4}\n",
      "S1 union S3 = {0, 1, 2, 3, 4, 5, 6, 7, 8, 9, 20, 21, 22, 23, 24}\n",
      "S2 union S3 = {5, 6, 7, 8, 9, 20, 21, 22, 23, 24}\n",
      "S1 inter S2 = {5, 6, 7, 8, 9}  != S2 inter S1 = {5, 6, 7, 8, 9}\n",
      "S1 inter S3 = {}  != S3 inter S1 = {}\n",
      "S2 inter S3 = {}  != S3 inter S2 = {}\n",
      "S1 diff S2 = {0, 1, 2, 3, 4}  != S2 diff S1 = {}\n",
      "S1 diff S3 = {0, 1, 2, 3, 4, 5, 6, 7, 8, 9}  != S3 diff S1 = {20, 21, 22, 23, 24}\n",
      "S2 diff S3 = {5, 6, 7, 8, 9}  != S3 diff S2 = {20, 21, 22, 23, 24}\n",
      "S1 diff sym S2 = {0, 1, 2, 3, 4}  != S2 diff sym S1 = {0, 1, 2, 3, 4}\n",
      "S1 diff sym S3 = {0, 1, 2, 3, 4, 5, 6, 7, 8, 9, 20, 21, 22, 23, 24}  != S3 diff sym S1 = {20, 21, 22, 23, 24, 0, 1, 2, 3, 4, 5, 6, 7, 8, 9}\n",
      "S2 diff sym S3 = {5, 6, 7, 8, 9, 20, 21, 22, 23, 24}  != S3 diff sym S2 = {20, 21, 22, 23, 24, 5, 6, 7, 8, 9}\n"
     ]
    }
   ],
   "source": [
    "un_petit_test_avec_une_structure_densemble(SetWithList)"
   ]
  },
  {
   "cell_type": "markdown",
   "metadata": {},
   "source": [
    "- On pourrait faire pareil avec n'importe quelle structure linéaire : liste simplement ou doublement chaînée, tableau dynamique (ce qu'on a fait avec `list` de Python), file/pile d'attente, etc.\n",
    "\n",
    "- Le bilan des complexités des opérations est le suivant (si $n=\\texttt{len}(S_1)$ et $m=\\texttt{len}(S_2)$) :\n",
    "\n",
    "| Opérations | Complexité pire cas | Complexité moyenne* |\n",
    "|------------|------------|------------|\n",
    "| `newEmptySet()` | $O(1)$ | $O(1)$ |\n",
    "| `len(S1)` | $O(n)$ | $O(n)$ |\n",
    "| `contains(S1, x)` | $O(n)$ | $O(n)$ |\n",
    "| `add(S1, x)` | $O(n)$ | $O(n)$ |\n",
    "| `pop(S1, x)` | $O(n)$ | $O(n)$ |\n",
    "| `values(S1)` | $O(n)$ | $O(n)$ |\n",
    "| `isEmpty(S1)` | $O(n)$ | $O(n)$ |\n",
    "| `copy(S1)` | $O(n)$ | $O(n)$ |\n",
    "| `union(S1, S2)` | $O(n + m)$ | $O(n + m)$ |\n",
    "| `intersection(S1, S2)` | $O(n + m)$ | $O(n + m)$ |\n",
    "| `difference(S1, S2)` | $O(n + m)$ | $O(n + m)$ |\n",
    "| `symmetric_difference(S1, S2)` | $O(n + m)$ | $O(n + m)$ |\n",
    "| `issubset(S1, S2)` | $O(n + m)$ | $O(n + m)$ |\n",
    "| `issuperset(S1, S2)` | $O(n + m)$ | $O(n + m)$ |\n",
    "\n",
    "> Il reste à définir ce que signifie complexité moyenne. Regardez par exemple dans [Introduction à l'Algorithmique, de Cormen et al]."
   ]
  },
  {
   "cell_type": "markdown",
   "metadata": {},
   "source": [
    "## Implémentation native avec `set` en Python"
   ]
  },
  {
   "cell_type": "code",
   "execution_count": 31,
   "metadata": {},
   "outputs": [],
   "source": [
    "NativeSet = set  # et c'est tout"
   ]
  },
  {
   "cell_type": "code",
   "execution_count": 38,
   "metadata": {},
   "outputs": [
    {
     "name": "stdout",
     "output_type": "stream",
     "text": [
      "set()\n",
      "{0}\n",
      "{0, 1}\n",
      "{0, 1, 2}\n",
      "{0, 1, 2, 3}\n",
      "{0, 1, 2, 3, 4}\n",
      "{0, 1, 2, 3, 4, 5}\n",
      "{0, 1, 2, 3, 4, 5, 6}\n",
      "{0, 1, 2, 3, 4, 5, 6, 7}\n",
      "{0, 1, 2, 3, 4, 5, 6, 7, 8}\n",
      "{0, 1, 2, 3, 4, 5, 6, 7, 8, 9}\n",
      "S1 = {0, 1, 2, 3, 4, 5, 6, 7, 8, 9}\n",
      "set()\n",
      "{5}\n",
      "{5, 6}\n",
      "{5, 6, 7}\n",
      "{8, 5, 6, 7}\n",
      "{5, 6, 7, 8, 9}\n",
      "S2 = {5, 6, 7, 8, 9}\n",
      "set()\n",
      "{20}\n",
      "{20, 21}\n",
      "{20, 21, 22}\n",
      "{20, 21, 22, 23}\n",
      "{20, 21, 22, 23, 24}\n",
      "{20, 21, 22, 23, 24}\n",
      "{20, 21, 22, 23, 24}\n",
      "{20, 21, 22, 23, 24}\n",
      "{20, 21, 22, 23, 24}\n",
      "{20, 21, 22, 23, 24}\n",
      "S3 = {20, 21, 22, 23, 24}\n",
      "S1 union S2 = {0, 1, 2, 3, 4, 5, 6, 7, 8, 9}  = S2 union S1 = {0, 1, 2, 3, 4, 5, 6, 7, 8, 9}\n",
      "S1 union S3 = {0, 1, 2, 3, 4, 5, 6, 7, 8, 9, 20, 21, 22, 23, 24}\n",
      "S2 union S3 = {5, 6, 7, 8, 9, 20, 21, 22, 23, 24}\n",
      "S1 inter S2 = {5, 6, 7, 8, 9}  != S2 inter S1 = {5, 6, 7, 8, 9}\n",
      "S1 inter S3 = set()  != S3 inter S1 = set()\n",
      "S2 inter S3 = set()  != S3 inter S2 = set()\n",
      "S1 diff S2 = {0, 1, 2, 3, 4}  != S2 diff S1 = set()\n",
      "S1 diff S3 = {0, 1, 2, 3, 4, 5, 6, 7, 8, 9}  != S3 diff S1 = {20, 21, 22, 23, 24}\n",
      "S2 diff S3 = {5, 6, 7, 8, 9}  != S3 diff S2 = {20, 21, 22, 23, 24}\n",
      "S1 diff sym S2 = {0, 1, 2, 3, 4}  != S2 diff sym S1 = {0, 1, 2, 3, 4}\n",
      "S1 diff sym S3 = {0, 1, 2, 3, 4, 5, 6, 7, 8, 9, 20, 21, 22, 23, 24}  != S3 diff sym S1 = {0, 1, 2, 3, 4, 5, 6, 7, 8, 9, 20, 21, 22, 23, 24}\n",
      "S2 diff sym S3 = {5, 6, 7, 8, 9, 20, 21, 22, 23, 24}  != S3 diff sym S2 = {5, 6, 7, 8, 9, 20, 21, 22, 23, 24}\n"
     ]
    }
   ],
   "source": [
    "un_petit_test_avec_une_structure_densemble(NativeSet)"
   ]
  },
  {
   "cell_type": "markdown",
   "metadata": {},
   "source": [
    "- Le bilan des complexités des opérations est le suivant (si $n=\\texttt{len}(S_1)$ et $m=\\texttt{len}(S_2)$) :\n",
    "\n",
    "| Opérations | Complexité pire cas | Complexité moyenne* |\n",
    "|------------|------------|------------|\n",
    "| `newEmptySet()` | $O(1)$ | $O(1)$ |\n",
    "| `len(S1)` | $O(1)$ | $O(1)$ |\n",
    "| `contains(S1, x)` | $O(n)$ | $O(1)$ 🎉 |\n",
    "| `add(S1, x)` | $O(n)$ | $O(1)$ 🎉 |\n",
    "| `pop(S1, x)` | $O(n)$ | $O(1)$ 🎉 |\n",
    "| `values(S1)` | $O(n)$ | $O(n)$ |\n",
    "| `isEmpty(S1)` | $O(1)$ | $O(1)$ |\n",
    "| `copy(S1)` | $O(n)$ | $O(n)$ |\n",
    "| `union(S1, S2)` | $O(n + m)$ | $O(n + m)$ |\n",
    "| `intersection(S1, S2)` | $O(n m)$ | $O(\\min(n, m))$ 🎉 |\n",
    "| `difference(S1, S2)` | $O(n + m)$ | $O(n + m)$ |\n",
    "| `symmetric_difference(S1, S2)` | $O(n m)$ | $O(\\max(n, m))$ |\n",
    "| `issubset(S1, S2)` | $O(n m)$ | $O(\\min(n, m)))$ 🎉 |\n",
    "| `issuperset(S1, S2)` | $O(n m)$ | $O(\\min(n, m)))$ 🎉 |\n",
    "\n",
    "> Référence : https://stackoverflow.com/questions/3949310/ddg#3949350, https://hg.python.org/releasing/3.6/file/tip/Objects/setobject.c et https://wiki.python.org/moin/TimeComplexity#set"
   ]
  },
  {
   "cell_type": "markdown",
   "metadata": {},
   "source": [
    "## Bidouillage 1/1 : implémentation avec des entiers 32/64 bits\n",
    "\n",
    "- Si on sait que les valeurs qu'on va ajouter dans nos ensembles sont comprises entre 0 et 31, on peut représenter un (petit) ensemble avec *un seul* entier 32 bits : si le $i$ème bit est à 1, c'est que $i$ est dans l'ensemble.\n",
    "- On peut faire pareil avec 64 bits.\n",
    "- En Python, les entiers sont à précision arbitraire, mais on peut utiliser `np.int32` pour avoir des entiers 32 bits natifs :"
   ]
  },
  {
   "cell_type": "code",
   "execution_count": 68,
   "metadata": {},
   "outputs": [],
   "source": [
    "import numpy as np"
   ]
  },
  {
   "cell_type": "markdown",
   "metadata": {},
   "source": [
    "- On va voir comment utiliser les opérations bit à bit pour réaliser les opérations sur les ensembles. [Documentation ?](https://docs.scipy.org/doc/numpy/reference/routines.bitwise.html)"
   ]
  },
  {
   "cell_type": "code",
   "execution_count": 74,
   "metadata": {},
   "outputs": [],
   "source": [
    "i32 = np.int32\n",
    "i64 = np.int64"
   ]
  },
  {
   "cell_type": "code",
   "execution_count": 101,
   "metadata": {},
   "outputs": [
    {
     "data": {
      "text/plain": [
       "'0b0'"
      ]
     },
     "execution_count": 101,
     "metadata": {},
     "output_type": "execute_result"
    },
    {
     "data": {
      "text/plain": [
       "'0b1'"
      ]
     },
     "execution_count": 101,
     "metadata": {},
     "output_type": "execute_result"
    },
    {
     "data": {
      "text/plain": [
       "'0b10'"
      ]
     },
     "execution_count": 101,
     "metadata": {},
     "output_type": "execute_result"
    },
    {
     "data": {
      "text/plain": [
       "'0b11'"
      ]
     },
     "execution_count": 101,
     "metadata": {},
     "output_type": "execute_result"
    },
    {
     "data": {
      "text/plain": [
       "'0b1'"
      ]
     },
     "execution_count": 101,
     "metadata": {},
     "output_type": "execute_result"
    },
    {
     "data": {
      "text/plain": [
       "'0b1'"
      ]
     },
     "execution_count": 101,
     "metadata": {},
     "output_type": "execute_result"
    },
    {
     "data": {
      "text/plain": [
       "'0b11'"
      ]
     },
     "execution_count": 101,
     "metadata": {},
     "output_type": "execute_result"
    },
    {
     "data": {
      "text/plain": [
       "'0b11'"
      ]
     },
     "execution_count": 101,
     "metadata": {},
     "output_type": "execute_result"
    },
    {
     "data": {
      "text/plain": [
       "'0b1'"
      ]
     },
     "execution_count": 101,
     "metadata": {},
     "output_type": "execute_result"
    },
    {
     "data": {
      "text/plain": [
       "'0b1'"
      ]
     },
     "execution_count": 101,
     "metadata": {},
     "output_type": "execute_result"
    },
    {
     "data": {
      "text/plain": [
       "'0b111'"
      ]
     },
     "execution_count": 101,
     "metadata": {},
     "output_type": "execute_result"
    },
    {
     "data": {
      "text/plain": [
       "'0b111'"
      ]
     },
     "execution_count": 101,
     "metadata": {},
     "output_type": "execute_result"
    },
    {
     "data": {
      "text/plain": [
       "'0b1'"
      ]
     },
     "execution_count": 101,
     "metadata": {},
     "output_type": "execute_result"
    },
    {
     "data": {
      "text/plain": [
       "'0b1'"
      ]
     },
     "execution_count": 101,
     "metadata": {},
     "output_type": "execute_result"
    },
    {
     "data": {
      "text/plain": [
       "'0b1'"
      ]
     },
     "execution_count": 101,
     "metadata": {},
     "output_type": "execute_result"
    },
    {
     "data": {
      "text/plain": [
       "'0b1'"
      ]
     },
     "execution_count": 101,
     "metadata": {},
     "output_type": "execute_result"
    },
    {
     "data": {
      "text/plain": [
       "'0b10'"
      ]
     },
     "execution_count": 101,
     "metadata": {},
     "output_type": "execute_result"
    },
    {
     "data": {
      "text/plain": [
       "'0b10'"
      ]
     },
     "execution_count": 101,
     "metadata": {},
     "output_type": "execute_result"
    },
    {
     "data": {
      "text/plain": [
       "'0b10000000'"
      ]
     },
     "execution_count": 101,
     "metadata": {},
     "output_type": "execute_result"
    },
    {
     "data": {
      "text/plain": [
       "'0b10000000'"
      ]
     },
     "execution_count": 101,
     "metadata": {},
     "output_type": "execute_result"
    }
   ],
   "source": [
    "bin(0b0)  # set {}\n",
    "bin(0b1)  # set {0}\n",
    "bin(0b10)  # set {1}\n",
    "bin(0b11)  # set {0, 1}\n",
    "\n",
    "bin(np.bitwise_and(0b11, 0b01))  # {0, 1} inter {1} = {1}\n",
    "bin(0b11 & 0b01)  # {0, 1} inter {1} = {1}\n",
    "bin(np.bitwise_or(0b01, 0b10))  # {0} union {1} = {0, 1}\n",
    "bin(0b01 | 0b10)  # {0} union {1} = {0, 1}\n",
    "\n",
    "bin(np.bitwise_xor(0b11, 0b10)) # {0, 1} /\\ {1} = {0} (symmetric difference)\n",
    "bin(0b11 ^ 0b10) # {0, 1} /\\ {1} = {0} (symmetric difference)\n",
    "bin(np.bitwise_xor(0b101, 0b10)) # {0, 2} /\\ {1} = {0, 1, 2} (symmetric difference)\n",
    "bin(0b101 ^ 0b10) # {0, 2} /\\ {1} = {0, 1, 2} (symmetric difference)\n",
    "bin(np.bitwise_xor(0b11, 0b10)) # {1} - {0} = {}\n",
    "bin(0b11 ^ 0b10) # {1} - {0} = {}\n",
    "\n",
    "bin(np.left_shift(1, 0))  # = {0}\n",
    "bin(1 << 0)  # = {0}\n",
    "bin(np.left_shift(1, 1))  # = {1}\n",
    "bin(1 << 1)  # = {1}\n",
    "bin(np.left_shift(1, 7))  # = {7}\n",
    "bin(1 << 7)  # = {7}\n"
   ]
  },
  {
   "cell_type": "markdown",
   "metadata": {},
   "source": [
    "Et voilà la classe"
   ]
  },
  {
   "cell_type": "code",
   "execution_count": 102,
   "metadata": {},
   "outputs": [],
   "source": [
    "class SetWithInt(SetWithNonPrimOperations):\n",
    "    def __init__(self, dataType):\n",
    "        self._dataType = dataType\n",
    "        self.int = dataType(0)\n",
    "\n",
    "    def __len__(self):\n",
    "        \"\"\" Return n the current size of the set.\"\"\"\n",
    "        return len(self._values)\n",
    "\n",
    "    def contains(self, value):\n",
    "        \"\"\" Test if value is in the set.\n",
    "        \n",
    "        - Test linearly the equality with all values in the list.\n",
    "        - Takes O(n) time in worst case.\"\"\"\n",
    "        for other_value in self._values:\n",
    "            if other_value == value:\n",
    "                return True\n",
    "        return False\n",
    "        # equivalent to\n",
    "        # return value in self._values\n",
    "    __contains__ = contains\n",
    "\n",
    "    def add(self, value):\n",
    "        \"\"\" Add value in the set if it is not present.\n",
    "        \n",
    "        - Takes O(n) time in worst case.\"\"\"\n",
    "        if value not in self:\n",
    "            self._values.append(value)\n",
    "\n",
    "    def pop(self, value):\n",
    "        \"\"\" Add value in the set if it is not present.\n",
    "        \n",
    "        - Takes O(n) time in worst case.\"\"\"\n",
    "        if value in self:  # O(n)\n",
    "            location = self._values.index(value)  # O(n), but happens only once\n",
    "            del self._values[location]  # O(n)\n",
    "    \n",
    "    def values(self):\n",
    "        \"\"\" Return a fresh list of the values of the set (not the actual list, to protect it).\n",
    "        \n",
    "        - Takes O(n) time in worst case.\"\"\"\n",
    "        return list(self._values)"
   ]
  },
  {
   "cell_type": "code",
   "execution_count": null,
   "metadata": {},
   "outputs": [],
   "source": [
    "SetWithInt32 = SetWithInt(np.int32)\n",
    "SetWithInt64 = SetWithInt(np.int64)"
   ]
  },
  {
   "cell_type": "markdown",
   "metadata": {},
   "source": [
    "On test :"
   ]
  },
  {
   "cell_type": "code",
   "execution_count": 66,
   "metadata": {},
   "outputs": [
    {
     "name": "stdout",
     "output_type": "stream",
     "text": [
      "{}\n",
      "{0}\n",
      "{0, 1}\n",
      "{0, 1, 2}\n",
      "{0, 1, 2, 3}\n",
      "{0, 1, 2, 3, 4}\n",
      "{0, 1, 2, 3, 4, 5}\n",
      "{0, 1, 2, 3, 4, 5, 6}\n",
      "{0, 1, 2, 3, 4, 5, 6, 7}\n",
      "{0, 1, 2, 3, 4, 5, 6, 7, 8}\n",
      "{0, 1, 2, 3, 4, 5, 6, 7, 8, 9}\n",
      "S1 = {0, 1, 2, 3, 4, 5, 6, 7, 8, 9}\n",
      "{}\n",
      "{5}\n",
      "{5, 6}\n",
      "{5, 6, 7}\n",
      "{5, 6, 7, 8}\n",
      "{5, 6, 7, 8, 9}\n",
      "S2 = {5, 6, 7, 8, 9}\n",
      "{}\n",
      "{20}\n",
      "{20, 21}\n",
      "{20, 21, 22}\n",
      "{20, 21, 22, 23}\n",
      "{20, 21, 22, 23, 24}\n",
      "{20, 21, 22, 23, 24}\n",
      "{20, 21, 22, 23, 24}\n",
      "{20, 21, 22, 23, 24}\n",
      "{20, 21, 22, 23, 24}\n",
      "{20, 21, 22, 23, 24}\n",
      "S3 = {20, 21, 22, 23, 24}\n",
      "S1 union S2 = {0, 1, 2, 3, 4, 5, 6, 7, 8, 9}  = S2 union S1 = {5, 6, 7, 8, 9, 0, 1, 2, 3, 4}\n",
      "S1 union S3 = {0, 1, 2, 3, 4, 5, 6, 7, 8, 9, 20, 21, 22, 23, 24}\n",
      "S2 union S3 = {5, 6, 7, 8, 9, 20, 21, 22, 23, 24}\n",
      "S1 inter S2 = {5, 6, 7, 8, 9}  != S2 inter S1 = {5, 6, 7, 8, 9}\n",
      "S1 inter S3 = {}  != S3 inter S1 = {}\n",
      "S2 inter S3 = {}  != S3 inter S2 = {}\n",
      "S1 diff S2 = {0, 1, 2, 3, 4}  != S2 diff S1 = {}\n",
      "S1 diff S3 = {0, 1, 2, 3, 4, 5, 6, 7, 8, 9}  != S3 diff S1 = {20, 21, 22, 23, 24}\n",
      "S2 diff S3 = {5, 6, 7, 8, 9}  != S3 diff S2 = {20, 21, 22, 23, 24}\n",
      "S1 diff sym S2 = {0, 1, 2, 3, 4}  != S2 diff sym S1 = {0, 1, 2, 3, 4}\n",
      "S1 diff sym S3 = {0, 1, 2, 3, 4, 5, 6, 7, 8, 9, 20, 21, 22, 23, 24}  != S3 diff sym S1 = {20, 21, 22, 23, 24, 0, 1, 2, 3, 4, 5, 6, 7, 8, 9}\n",
      "S2 diff sym S3 = {5, 6, 7, 8, 9, 20, 21, 22, 23, 24}  != S3 diff sym S2 = {20, 21, 22, 23, 24, 5, 6, 7, 8, 9}\n"
     ]
    }
   ],
   "source": [
    "un_petit_test_avec_une_structure_densemble(SetWithInt32)"
   ]
  },
  {
   "cell_type": "markdown",
   "metadata": {},
   "source": [
    "Parler de complexité n'aura pas de sens ici : on s'autorise seulement des ensembles ayant jusqu'à 32 valeurs.\n",
    "Donc $n\\leq32$, alors que les notations $O(n)$ (etc) sont des **notations asymptotiques** (ie. valables quand $n\\to\\infty$ !)."
   ]
  },
  {
   "cell_type": "markdown",
   "metadata": {},
   "source": [
    "## Bidouillage 2/2 : implémentation avec des entiers en précision infinie avec Python"
   ]
  },
  {
   "cell_type": "code",
   "execution_count": null,
   "metadata": {},
   "outputs": [],
   "source": [
    "SetWithIntInfinite = SetWithInt(int)"
   ]
  },
  {
   "cell_type": "code",
   "execution_count": null,
   "metadata": {},
   "outputs": [],
   "source": [
    "un_petit_test_avec_une_structure_densemble(SetWithIntInfinite)"
   ]
  },
  {
   "cell_type": "markdown",
   "metadata": {},
   "source": [
    "## Implémentation avec des tables de hachage ?"
   ]
  },
  {
   "cell_type": "code",
   "execution_count": null,
   "metadata": {},
   "outputs": [],
   "source": []
  },
  {
   "cell_type": "code",
   "execution_count": null,
   "metadata": {},
   "outputs": [],
   "source": []
  },
  {
   "cell_type": "markdown",
   "metadata": {},
   "source": [
    "## Implémentation avec des arbres binaires de recherche ?"
   ]
  },
  {
   "cell_type": "code",
   "execution_count": null,
   "metadata": {},
   "outputs": [],
   "source": []
  },
  {
   "cell_type": "markdown",
   "metadata": {},
   "source": [
    "## Conclusion\n",
    "\n",
    "C'est bon pour aujourd'hui !"
   ]
  },
  {
   "cell_type": "code",
   "execution_count": null,
   "metadata": {},
   "outputs": [],
   "source": []
  }
 ],
 "metadata": {
  "kernelspec": {
   "display_name": "Python 3",
   "language": "python",
   "name": "python3"
  },
  "language_info": {
   "codemirror_mode": {
    "name": "ipython",
    "version": 3
   },
   "file_extension": ".py",
   "mimetype": "text/x-python",
   "name": "python",
   "nbconvert_exporter": "python",
   "pygments_lexer": "ipython3",
   "version": "3.6.8"
  },
  "toc": {
   "colors": {
    "hover_highlight": "#DAA520",
    "running_highlight": "#FF0000",
    "selected_highlight": "#FFD700"
   },
   "moveMenuLeft": true,
   "nav_menu": {
    "height": "356.867px",
    "width": "251.333px"
   },
   "navigate_menu": true,
   "number_sections": true,
   "sideBar": false,
   "threshold": 4,
   "toc_cell": true,
   "toc_position": {
    "height": "368.717px",
    "left": "1639.25px",
    "right": "20px",
    "top": "120px",
    "width": "251.25px"
   },
   "toc_section_display": "block",
   "toc_window_display": true
  },
  "varInspector": {
   "cols": {
    "lenName": 16,
    "lenType": 16,
    "lenVar": 40
   },
   "kernels_config": {
    "python": {
     "delete_cmd_postfix": "",
     "delete_cmd_prefix": "del ",
     "library": "var_list.py",
     "varRefreshCmd": "print(var_dic_list())"
    },
    "r": {
     "delete_cmd_postfix": ") ",
     "delete_cmd_prefix": "rm(",
     "library": "var_list.r",
     "varRefreshCmd": "cat(var_dic_list()) "
    }
   },
   "position": {
    "height": "247.85px",
    "left": "829.5px",
    "right": "20px",
    "top": "307px",
    "width": "470.5px"
   },
   "types_to_exclude": [
    "module",
    "function",
    "builtin_function_or_method",
    "instance",
    "_Feature"
   ],
   "window_display": false
  },
  "widgets": {
   "application/vnd.jupyter.widget-state+json": {
    "state": {
     "038a808e883447f29c7d1ac0b392a0d3": {
      "model_module": "@jupyter-widgets/controls",
      "model_module_version": "1.4.0",
      "model_name": "HBoxModel",
      "state": {
       "children": [
        "IPY_MODEL_4aaf5ca76a38467087582b42de1f6a1e",
        "IPY_MODEL_d614664cf99743889aa9b084525990d8"
       ],
       "layout": "IPY_MODEL_c02a451e0731469ea91cc39abbf14c48"
      }
     },
     "03fa6285b902493bbc52e73542eb6bd3": {
      "model_module": "@jupyter-widgets/controls",
      "model_module_version": "1.4.0",
      "model_name": "HTMLModel",
      "state": {
       "layout": "IPY_MODEL_14d24c174ecb4428af82666854e1ed83",
       "style": "IPY_MODEL_108a32808a0b43bda9b869081b96b80b",
       "value": "100% 12/12 [00:00&lt;00:00, 15.79it/s]"
      }
     },
     "040769e561d949e39b17361d682bb4a8": {
      "model_module": "@jupyter-widgets/controls",
      "model_module_version": "1.4.0",
      "model_name": "IntProgressModel",
      "state": {
       "bar_style": "success",
       "layout": "IPY_MODEL_61ab17aa9e4540939240cce1f8b4c32e",
       "max": 31,
       "style": "IPY_MODEL_7a2861a1cfdb45bdac48eb59c8b660bc",
       "value": 31
      }
     },
     "043afb832aa3492482fd973bb9d9bd7a": {
      "model_module": "@jupyter-widgets/controls",
      "model_module_version": "1.4.0",
      "model_name": "ProgressStyleModel",
      "state": {
       "description_width": ""
      }
     },
     "0ae749625db249539e573bdfcd6fa23c": {
      "model_module": "@jupyter-widgets/base",
      "model_module_version": "1.1.0",
      "model_name": "LayoutModel",
      "state": {}
     },
     "0c7b9244ca3d4cfca64cc68c62c676ef": {
      "model_module": "@jupyter-widgets/controls",
      "model_module_version": "1.4.0",
      "model_name": "HBoxModel",
      "state": {
       "children": [
        "IPY_MODEL_2ac95f4aedb04f5a9a5fa5361f2b5d49",
        "IPY_MODEL_fb9bace579f64af4b7ebb87789031257"
       ],
       "layout": "IPY_MODEL_2c2f47043664427b9fe40d9dab59f5be"
      }
     },
     "0f40caa17b6f45b19f9b67db6af682c3": {
      "model_module": "@jupyter-widgets/controls",
      "model_module_version": "1.4.0",
      "model_name": "IntProgressModel",
      "state": {
       "bar_style": "success",
       "layout": "IPY_MODEL_432a0f81101043fc812406cb9699cf55",
       "max": 12,
       "style": "IPY_MODEL_6d05a0207eb44be8a8194d7672bc3dc3",
       "value": 12
      }
     },
     "0f5c61300af74d9c87b2e169a8d59564": {
      "model_module": "@jupyter-widgets/controls",
      "model_module_version": "1.4.0",
      "model_name": "ProgressStyleModel",
      "state": {
       "description_width": ""
      }
     },
     "108a32808a0b43bda9b869081b96b80b": {
      "model_module": "@jupyter-widgets/controls",
      "model_module_version": "1.4.0",
      "model_name": "DescriptionStyleModel",
      "state": {
       "description_width": ""
      }
     },
     "1099c3fb624b4608ac4d8274ff57ff46": {
      "model_module": "@jupyter-widgets/controls",
      "model_module_version": "1.4.0",
      "model_name": "DescriptionStyleModel",
      "state": {
       "description_width": ""
      }
     },
     "1135c69a55d04878a6716a594f46043e": {
      "model_module": "@jupyter-widgets/base",
      "model_module_version": "1.1.0",
      "model_name": "LayoutModel",
      "state": {}
     },
     "1156627bae864085bbc3167c5b2a5cb3": {
      "model_module": "@jupyter-widgets/controls",
      "model_module_version": "1.4.0",
      "model_name": "DescriptionStyleModel",
      "state": {
       "description_width": ""
      }
     },
     "14d24c174ecb4428af82666854e1ed83": {
      "model_module": "@jupyter-widgets/base",
      "model_module_version": "1.1.0",
      "model_name": "LayoutModel",
      "state": {}
     },
     "17c69c17ec8344d2aeee5ae6dee93ce6": {
      "model_module": "@jupyter-widgets/base",
      "model_module_version": "1.1.0",
      "model_name": "LayoutModel",
      "state": {}
     },
     "19ca5418edce46e0985b6f1868b3938d": {
      "model_module": "@jupyter-widgets/controls",
      "model_module_version": "1.4.0",
      "model_name": "HTMLModel",
      "state": {
       "layout": "IPY_MODEL_5cae48b866984d99a1e15f8822d57ed9",
       "style": "IPY_MODEL_a194ac9f28564a6a805b24a1a742838c",
       "value": "100% 7/7 [01:56&lt;00:00, 28.35s/it]"
      }
     },
     "1b4f155261eb469da0da9cbb96741044": {
      "model_module": "@jupyter-widgets/controls",
      "model_module_version": "1.4.0",
      "model_name": "HBoxModel",
      "state": {
       "children": [
        "IPY_MODEL_27199a9b964f4b8f94946e1a80cee138",
        "IPY_MODEL_7a4cd3a8b19d4fe58ed4d6d8f4ecae0e"
       ],
       "layout": "IPY_MODEL_db91f69593764d1fbc8593c6264df3a7"
      }
     },
     "211f4c9ceba64de0b46c4e32ce02a19a": {
      "model_module": "@jupyter-widgets/controls",
      "model_module_version": "1.4.0",
      "model_name": "ProgressStyleModel",
      "state": {
       "description_width": ""
      }
     },
     "27199a9b964f4b8f94946e1a80cee138": {
      "model_module": "@jupyter-widgets/controls",
      "model_module_version": "1.4.0",
      "model_name": "IntProgressModel",
      "state": {
       "bar_style": "danger",
       "layout": "IPY_MODEL_5d84ecdf55794062bc15794cd6d48d87",
       "max": 12,
       "style": "IPY_MODEL_cc2ce2b0abab4704b0d580cdd7897c24",
       "value": 8
      }
     },
     "281631f2651241d896b1300b748f94cc": {
      "model_module": "@jupyter-widgets/controls",
      "model_module_version": "1.4.0",
      "model_name": "IntProgressModel",
      "state": {
       "bar_style": "success",
       "layout": "IPY_MODEL_9a939ec092234106b3bbf13266650f29",
       "max": 29,
       "style": "IPY_MODEL_aa66c2d953c84ef9902875ccbc9c994e",
       "value": 29
      }
     },
     "2ac95f4aedb04f5a9a5fa5361f2b5d49": {
      "model_module": "@jupyter-widgets/controls",
      "model_module_version": "1.4.0",
      "model_name": "IntProgressModel",
      "state": {
       "bar_style": "success",
       "layout": "IPY_MODEL_3705518094ba492db64884c7d9934ddf",
       "max": 31,
       "style": "IPY_MODEL_211f4c9ceba64de0b46c4e32ce02a19a",
       "value": 31
      }
     },
     "2b5f53a0083041e88ab8b35fbcb6adec": {
      "model_module": "@jupyter-widgets/base",
      "model_module_version": "1.1.0",
      "model_name": "LayoutModel",
      "state": {}
     },
     "2bbce2307fd74e7fb6b48d80cf8b147a": {
      "model_module": "@jupyter-widgets/controls",
      "model_module_version": "1.4.0",
      "model_name": "HTMLModel",
      "state": {
       "layout": "IPY_MODEL_4c3a4ac37bb349259fa3840a25b52a9f",
       "style": "IPY_MODEL_bc47080108594d6398376ec90247fd7f",
       "value": "100% 29/29 [01:42&lt;00:00,  7.61s/it]"
      }
     },
     "2c2f47043664427b9fe40d9dab59f5be": {
      "model_module": "@jupyter-widgets/base",
      "model_module_version": "1.1.0",
      "model_name": "LayoutModel",
      "state": {}
     },
     "2f4fa306f59d47a0a4c1fb41de63ccc6": {
      "model_module": "@jupyter-widgets/controls",
      "model_module_version": "1.4.0",
      "model_name": "HBoxModel",
      "state": {
       "children": [
        "IPY_MODEL_312e2c5fb4744ee9aca6e5cba42c05f8",
        "IPY_MODEL_03fa6285b902493bbc52e73542eb6bd3"
       ],
       "layout": "IPY_MODEL_616c61e0e1774e4dba06565d10df95e7"
      }
     },
     "30e0a8eb04c8484caeb06471a6b297b1": {
      "model_module": "@jupyter-widgets/controls",
      "model_module_version": "1.4.0",
      "model_name": "ProgressStyleModel",
      "state": {
       "description_width": ""
      }
     },
     "312e2c5fb4744ee9aca6e5cba42c05f8": {
      "model_module": "@jupyter-widgets/controls",
      "model_module_version": "1.4.0",
      "model_name": "IntProgressModel",
      "state": {
       "bar_style": "success",
       "layout": "IPY_MODEL_f504214792524c2cbbb8997e99aa7714",
       "max": 12,
       "style": "IPY_MODEL_30e0a8eb04c8484caeb06471a6b297b1",
       "value": 12
      }
     },
     "3151f3436ad948f79765fcfb5cb64831": {
      "model_module": "@jupyter-widgets/controls",
      "model_module_version": "1.4.0",
      "model_name": "HBoxModel",
      "state": {
       "children": [
        "IPY_MODEL_ac9c8dcde2c14dbaa1173c31993a8425",
        "IPY_MODEL_7b16d9396fa8440d8b26d4309aac9dae"
       ],
       "layout": "IPY_MODEL_ac4b2cd6abad4fbe9129ad2b39f79d1c"
      }
     },
     "3191d73e3295402c9256a8e48a55fcde": {
      "model_module": "@jupyter-widgets/controls",
      "model_module_version": "1.4.0",
      "model_name": "HBoxModel",
      "state": {
       "children": [
        "IPY_MODEL_3cf71691ed3a45788e854120454ffb91",
        "IPY_MODEL_19ca5418edce46e0985b6f1868b3938d"
       ],
       "layout": "IPY_MODEL_1135c69a55d04878a6716a594f46043e"
      }
     },
     "3288f5a70453437e8314c7c34446ad83": {
      "model_module": "@jupyter-widgets/base",
      "model_module_version": "1.1.0",
      "model_name": "LayoutModel",
      "state": {}
     },
     "3705518094ba492db64884c7d9934ddf": {
      "model_module": "@jupyter-widgets/base",
      "model_module_version": "1.1.0",
      "model_name": "LayoutModel",
      "state": {}
     },
     "3cf71691ed3a45788e854120454ffb91": {
      "model_module": "@jupyter-widgets/controls",
      "model_module_version": "1.4.0",
      "model_name": "IntProgressModel",
      "state": {
       "bar_style": "success",
       "layout": "IPY_MODEL_b79ec55a28294c6bbf956dfc8e61c6d2",
       "max": 7,
       "style": "IPY_MODEL_f1361377c3184fb688b28bfe61451e86",
       "value": 7
      }
     },
     "432a0f81101043fc812406cb9699cf55": {
      "model_module": "@jupyter-widgets/base",
      "model_module_version": "1.1.0",
      "model_name": "LayoutModel",
      "state": {}
     },
     "43cd3c30e9ed40589af0a84e4ad8165a": {
      "model_module": "@jupyter-widgets/controls",
      "model_module_version": "1.4.0",
      "model_name": "HTMLModel",
      "state": {
       "layout": "IPY_MODEL_3288f5a70453437e8314c7c34446ad83",
       "style": "IPY_MODEL_1156627bae864085bbc3167c5b2a5cb3",
       "value": "100% 31/31 [03:22&lt;00:00, 13.89s/it]"
      }
     },
     "488d7a0878974888921fe30c7a8ccce6": {
      "model_module": "@jupyter-widgets/base",
      "model_module_version": "1.1.0",
      "model_name": "LayoutModel",
      "state": {}
     },
     "4aaf5ca76a38467087582b42de1f6a1e": {
      "model_module": "@jupyter-widgets/controls",
      "model_module_version": "1.4.0",
      "model_name": "IntProgressModel",
      "state": {
       "bar_style": "success",
       "layout": "IPY_MODEL_d86d424d7d2040bea285a821eb3ffaf6",
       "max": 54,
       "style": "IPY_MODEL_fc2e0e50b4024f2089000a027350ad62",
       "value": 54
      }
     },
     "4c3a4ac37bb349259fa3840a25b52a9f": {
      "model_module": "@jupyter-widgets/base",
      "model_module_version": "1.1.0",
      "model_name": "LayoutModel",
      "state": {}
     },
     "4cd9f8c1d14a460592573b5d5f4d1e68": {
      "model_module": "@jupyter-widgets/controls",
      "model_module_version": "1.4.0",
      "model_name": "DescriptionStyleModel",
      "state": {
       "description_width": ""
      }
     },
     "5724b7c6629e42db98f82141d3346d3f": {
      "model_module": "@jupyter-widgets/controls",
      "model_module_version": "1.4.0",
      "model_name": "HTMLModel",
      "state": {
       "layout": "IPY_MODEL_0ae749625db249539e573bdfcd6fa23c",
       "style": "IPY_MODEL_8ebb3008c95c416489b9db29d758008c",
       "value": "100% 29/29 [00:16&lt;00:00,  1.18s/it]"
      }
     },
     "5aba36f9297242688598109bc09046de": {
      "model_module": "@jupyter-widgets/controls",
      "model_module_version": "1.4.0",
      "model_name": "DescriptionStyleModel",
      "state": {
       "description_width": ""
      }
     },
     "5cae48b866984d99a1e15f8822d57ed9": {
      "model_module": "@jupyter-widgets/base",
      "model_module_version": "1.1.0",
      "model_name": "LayoutModel",
      "state": {}
     },
     "5d84ecdf55794062bc15794cd6d48d87": {
      "model_module": "@jupyter-widgets/base",
      "model_module_version": "1.1.0",
      "model_name": "LayoutModel",
      "state": {}
     },
     "5f7e65435bd74f0eb6a1c412dfb425cc": {
      "model_module": "@jupyter-widgets/controls",
      "model_module_version": "1.4.0",
      "model_name": "DescriptionStyleModel",
      "state": {
       "description_width": ""
      }
     },
     "616c61e0e1774e4dba06565d10df95e7": {
      "model_module": "@jupyter-widgets/base",
      "model_module_version": "1.1.0",
      "model_name": "LayoutModel",
      "state": {}
     },
     "61ab17aa9e4540939240cce1f8b4c32e": {
      "model_module": "@jupyter-widgets/base",
      "model_module_version": "1.1.0",
      "model_name": "LayoutModel",
      "state": {}
     },
     "63d4d742d31e49eb9f408d4b1d5205a8": {
      "model_module": "@jupyter-widgets/controls",
      "model_module_version": "1.4.0",
      "model_name": "HBoxModel",
      "state": {
       "children": [
        "IPY_MODEL_281631f2651241d896b1300b748f94cc",
        "IPY_MODEL_5724b7c6629e42db98f82141d3346d3f"
       ],
       "layout": "IPY_MODEL_6ec3aa7a23a64d20995bdf93351224f2"
      }
     },
     "646c3ac9c11944748551fbf8c83663b1": {
      "model_module": "@jupyter-widgets/controls",
      "model_module_version": "1.4.0",
      "model_name": "IntProgressModel",
      "state": {
       "bar_style": "success",
       "layout": "IPY_MODEL_488d7a0878974888921fe30c7a8ccce6",
       "max": 29,
       "style": "IPY_MODEL_ae8a07808b3e45859f3cd921f129124b",
       "value": 29
      }
     },
     "67b4ef9809f6494c8230ffa837fb5f2d": {
      "model_module": "@jupyter-widgets/base",
      "model_module_version": "1.1.0",
      "model_name": "LayoutModel",
      "state": {}
     },
     "6d05a0207eb44be8a8194d7672bc3dc3": {
      "model_module": "@jupyter-widgets/controls",
      "model_module_version": "1.4.0",
      "model_name": "ProgressStyleModel",
      "state": {
       "description_width": ""
      }
     },
     "6ec3aa7a23a64d20995bdf93351224f2": {
      "model_module": "@jupyter-widgets/base",
      "model_module_version": "1.1.0",
      "model_name": "LayoutModel",
      "state": {}
     },
     "774238a7f4bc4bc39881b33452244ce3": {
      "model_module": "@jupyter-widgets/base",
      "model_module_version": "1.1.0",
      "model_name": "LayoutModel",
      "state": {}
     },
     "7a2861a1cfdb45bdac48eb59c8b660bc": {
      "model_module": "@jupyter-widgets/controls",
      "model_module_version": "1.4.0",
      "model_name": "ProgressStyleModel",
      "state": {
       "description_width": ""
      }
     },
     "7a4cd3a8b19d4fe58ed4d6d8f4ecae0e": {
      "model_module": "@jupyter-widgets/controls",
      "model_module_version": "1.4.0",
      "model_name": "HTMLModel",
      "state": {
       "layout": "IPY_MODEL_a6d7e8cc772f4b44ba43a23a407e7c12",
       "style": "IPY_MODEL_4cd9f8c1d14a460592573b5d5f4d1e68",
       "value": " 67% 8/12 [01:42&lt;01:34, 23.63s/it]"
      }
     },
     "7ab2be73db8c40cc896e0249bd3ea500": {
      "model_module": "@jupyter-widgets/controls",
      "model_module_version": "1.4.0",
      "model_name": "DescriptionStyleModel",
      "state": {
       "description_width": ""
      }
     },
     "7b16d9396fa8440d8b26d4309aac9dae": {
      "model_module": "@jupyter-widgets/controls",
      "model_module_version": "1.4.0",
      "model_name": "HTMLModel",
      "state": {
       "layout": "IPY_MODEL_b7ee7f0454ef43edba44cdb7eff62621",
       "style": "IPY_MODEL_7ab2be73db8c40cc896e0249bd3ea500",
       "value": "100% 54/54 [07:16&lt;00:00, 17.43s/it]"
      }
     },
     "875b2a51333945eaa1b8cc990026d552": {
      "model_module": "@jupyter-widgets/controls",
      "model_module_version": "1.4.0",
      "model_name": "HBoxModel",
      "state": {
       "children": [
        "IPY_MODEL_040769e561d949e39b17361d682bb4a8",
        "IPY_MODEL_43cd3c30e9ed40589af0a84e4ad8165a"
       ],
       "layout": "IPY_MODEL_cb8738fbc3d54b8ea12d23b970356248"
      }
     },
     "89bf37d725d0422ead1e32f25f1ff7a8": {
      "model_module": "@jupyter-widgets/controls",
      "model_module_version": "1.4.0",
      "model_name": "HBoxModel",
      "state": {
       "children": [
        "IPY_MODEL_646c3ac9c11944748551fbf8c83663b1",
        "IPY_MODEL_2bbce2307fd74e7fb6b48d80cf8b147a"
       ],
       "layout": "IPY_MODEL_17c69c17ec8344d2aeee5ae6dee93ce6"
      }
     },
     "8ebb3008c95c416489b9db29d758008c": {
      "model_module": "@jupyter-widgets/controls",
      "model_module_version": "1.4.0",
      "model_name": "DescriptionStyleModel",
      "state": {
       "description_width": ""
      }
     },
     "9a939ec092234106b3bbf13266650f29": {
      "model_module": "@jupyter-widgets/base",
      "model_module_version": "1.1.0",
      "model_name": "LayoutModel",
      "state": {}
     },
     "a194ac9f28564a6a805b24a1a742838c": {
      "model_module": "@jupyter-widgets/controls",
      "model_module_version": "1.4.0",
      "model_name": "DescriptionStyleModel",
      "state": {
       "description_width": ""
      }
     },
     "a34f3e8def0649618235b0c8d9648d99": {
      "model_module": "@jupyter-widgets/controls",
      "model_module_version": "1.4.0",
      "model_name": "DescriptionStyleModel",
      "state": {
       "description_width": ""
      }
     },
     "a6d7e8cc772f4b44ba43a23a407e7c12": {
      "model_module": "@jupyter-widgets/base",
      "model_module_version": "1.1.0",
      "model_name": "LayoutModel",
      "state": {}
     },
     "aa66c2d953c84ef9902875ccbc9c994e": {
      "model_module": "@jupyter-widgets/controls",
      "model_module_version": "1.4.0",
      "model_name": "ProgressStyleModel",
      "state": {
       "description_width": ""
      }
     },
     "ac4b2cd6abad4fbe9129ad2b39f79d1c": {
      "model_module": "@jupyter-widgets/base",
      "model_module_version": "1.1.0",
      "model_name": "LayoutModel",
      "state": {}
     },
     "ac9c8dcde2c14dbaa1173c31993a8425": {
      "model_module": "@jupyter-widgets/controls",
      "model_module_version": "1.4.0",
      "model_name": "IntProgressModel",
      "state": {
       "bar_style": "success",
       "layout": "IPY_MODEL_f6042c224cb04d4d80e76e24bcd752f0",
       "max": 54,
       "style": "IPY_MODEL_043afb832aa3492482fd973bb9d9bd7a",
       "value": 54
      }
     },
     "acc45206458d480a9f2ef27c9c8ef1df": {
      "model_module": "@jupyter-widgets/controls",
      "model_module_version": "1.4.0",
      "model_name": "HTMLModel",
      "state": {
       "layout": "IPY_MODEL_2b5f53a0083041e88ab8b35fbcb6adec",
       "style": "IPY_MODEL_5f7e65435bd74f0eb6a1c412dfb425cc",
       "value": " 61% 27/44 [01:11&lt;01:07,  4.00s/it]"
      }
     },
     "ae8a07808b3e45859f3cd921f129124b": {
      "model_module": "@jupyter-widgets/controls",
      "model_module_version": "1.4.0",
      "model_name": "ProgressStyleModel",
      "state": {
       "description_width": ""
      }
     },
     "b79ec55a28294c6bbf956dfc8e61c6d2": {
      "model_module": "@jupyter-widgets/base",
      "model_module_version": "1.1.0",
      "model_name": "LayoutModel",
      "state": {}
     },
     "b7ee7f0454ef43edba44cdb7eff62621": {
      "model_module": "@jupyter-widgets/base",
      "model_module_version": "1.1.0",
      "model_name": "LayoutModel",
      "state": {}
     },
     "bc47080108594d6398376ec90247fd7f": {
      "model_module": "@jupyter-widgets/controls",
      "model_module_version": "1.4.0",
      "model_name": "DescriptionStyleModel",
      "state": {
       "description_width": ""
      }
     },
     "bdc29d95eb5b4ef9aa958372545ee719": {
      "model_module": "@jupyter-widgets/base",
      "model_module_version": "1.1.0",
      "model_name": "LayoutModel",
      "state": {}
     },
     "c00586e1eccf461c9b0429e0ccfc324c": {
      "model_module": "@jupyter-widgets/controls",
      "model_module_version": "1.4.0",
      "model_name": "HBoxModel",
      "state": {
       "children": [
        "IPY_MODEL_c268087693ac4caea7ff5672e655a9d2",
        "IPY_MODEL_acc45206458d480a9f2ef27c9c8ef1df"
       ],
       "layout": "IPY_MODEL_d92aa9b32b694dcaabc8203167d6a20e"
      }
     },
     "c02a451e0731469ea91cc39abbf14c48": {
      "model_module": "@jupyter-widgets/base",
      "model_module_version": "1.1.0",
      "model_name": "LayoutModel",
      "state": {}
     },
     "c071aba1cd534b049eee2f1809f94fec": {
      "model_module": "@jupyter-widgets/base",
      "model_module_version": "1.1.0",
      "model_name": "LayoutModel",
      "state": {}
     },
     "c268087693ac4caea7ff5672e655a9d2": {
      "model_module": "@jupyter-widgets/controls",
      "model_module_version": "1.4.0",
      "model_name": "IntProgressModel",
      "state": {
       "layout": "IPY_MODEL_67b4ef9809f6494c8230ffa837fb5f2d",
       "max": 44,
       "style": "IPY_MODEL_0f5c61300af74d9c87b2e169a8d59564",
       "value": 27
      }
     },
     "c7666e83442f44259d58a3b1f3b48341": {
      "model_module": "@jupyter-widgets/controls",
      "model_module_version": "1.4.0",
      "model_name": "HTMLModel",
      "state": {
       "layout": "IPY_MODEL_fb350532137b4401810ece19b5140a35",
       "style": "IPY_MODEL_a34f3e8def0649618235b0c8d9648d99",
       "value": "100% 12/12 [00:03&lt;00:00,  2.07it/s]"
      }
     },
     "cb8738fbc3d54b8ea12d23b970356248": {
      "model_module": "@jupyter-widgets/base",
      "model_module_version": "1.1.0",
      "model_name": "LayoutModel",
      "state": {}
     },
     "cc2ce2b0abab4704b0d580cdd7897c24": {
      "model_module": "@jupyter-widgets/controls",
      "model_module_version": "1.4.0",
      "model_name": "ProgressStyleModel",
      "state": {
       "description_width": ""
      }
     },
     "d614664cf99743889aa9b084525990d8": {
      "model_module": "@jupyter-widgets/controls",
      "model_module_version": "1.4.0",
      "model_name": "HTMLModel",
      "state": {
       "layout": "IPY_MODEL_c071aba1cd534b049eee2f1809f94fec",
       "style": "IPY_MODEL_5aba36f9297242688598109bc09046de",
       "value": "100% 54/54 [01:11&lt;00:00,  2.69s/it]"
      }
     },
     "d86d424d7d2040bea285a821eb3ffaf6": {
      "model_module": "@jupyter-widgets/base",
      "model_module_version": "1.1.0",
      "model_name": "LayoutModel",
      "state": {}
     },
     "d92aa9b32b694dcaabc8203167d6a20e": {
      "model_module": "@jupyter-widgets/base",
      "model_module_version": "1.1.0",
      "model_name": "LayoutModel",
      "state": {}
     },
     "db91f69593764d1fbc8593c6264df3a7": {
      "model_module": "@jupyter-widgets/base",
      "model_module_version": "1.1.0",
      "model_name": "LayoutModel",
      "state": {}
     },
     "f1361377c3184fb688b28bfe61451e86": {
      "model_module": "@jupyter-widgets/controls",
      "model_module_version": "1.4.0",
      "model_name": "ProgressStyleModel",
      "state": {
       "description_width": ""
      }
     },
     "f504214792524c2cbbb8997e99aa7714": {
      "model_module": "@jupyter-widgets/base",
      "model_module_version": "1.1.0",
      "model_name": "LayoutModel",
      "state": {}
     },
     "f52bb86c1e564d5381ea1b9792d4ee48": {
      "model_module": "@jupyter-widgets/controls",
      "model_module_version": "1.4.0",
      "model_name": "HBoxModel",
      "state": {
       "children": [
        "IPY_MODEL_0f40caa17b6f45b19f9b67db6af682c3",
        "IPY_MODEL_c7666e83442f44259d58a3b1f3b48341"
       ],
       "layout": "IPY_MODEL_bdc29d95eb5b4ef9aa958372545ee719"
      }
     },
     "f6042c224cb04d4d80e76e24bcd752f0": {
      "model_module": "@jupyter-widgets/base",
      "model_module_version": "1.1.0",
      "model_name": "LayoutModel",
      "state": {}
     },
     "fb350532137b4401810ece19b5140a35": {
      "model_module": "@jupyter-widgets/base",
      "model_module_version": "1.1.0",
      "model_name": "LayoutModel",
      "state": {}
     },
     "fb9bace579f64af4b7ebb87789031257": {
      "model_module": "@jupyter-widgets/controls",
      "model_module_version": "1.4.0",
      "model_name": "HTMLModel",
      "state": {
       "layout": "IPY_MODEL_774238a7f4bc4bc39881b33452244ce3",
       "style": "IPY_MODEL_1099c3fb624b4608ac4d8274ff57ff46",
       "value": "100% 31/31 [20:02&lt;00:00, 89.74s/it]"
      }
     },
     "fc2e0e50b4024f2089000a027350ad62": {
      "model_module": "@jupyter-widgets/controls",
      "model_module_version": "1.4.0",
      "model_name": "ProgressStyleModel",
      "state": {
       "description_width": ""
      }
     }
    },
    "version_major": 2,
    "version_minor": 0
   }
  }
 },
 "nbformat": 4,
 "nbformat_minor": 2
}
