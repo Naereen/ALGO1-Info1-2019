{
 "cells": [
  {
   "cell_type": "markdown",
   "metadata": {
    "toc": "true"
   },
   "source": [
    "# Table of Contents\n",
    " <p><div class=\"lev1 toc-item\"><a href=\"#ALGO1-:-Introduction-à-l'algorithmique\" data-toc-modified-id=\"ALGO1-:-Introduction-à-l'algorithmique-1\"><span class=\"toc-item-num\">1&nbsp;&nbsp;</span><a href=\"https://perso.crans.org/besson/teach/info1_algo1_2019/\" target=\"_blank\">ALGO1 : Introduction à l'algorithmique</a></a></div><div class=\"lev1 toc-item\"><a href=\"#Cours-Magistral-2\" data-toc-modified-id=\"Cours-Magistral-2-2\"><span class=\"toc-item-num\">2&nbsp;&nbsp;</span>Cours Magistral 2</a></div><div class=\"lev2 toc-item\"><a href=\"#Structures-de-données-pour-représenter-un-ensemble-de-valeurs-distinctes\" data-toc-modified-id=\"Structures-de-données-pour-représenter-un-ensemble-de-valeurs-distinctes-21\"><span class=\"toc-item-num\">2.1&nbsp;&nbsp;</span>Structures de données pour représenter un ensemble de valeurs distinctes</a></div><div class=\"lev2 toc-item\"><a href=\"#Type-abstrait\" data-toc-modified-id=\"Type-abstrait-22\"><span class=\"toc-item-num\">2.2&nbsp;&nbsp;</span>Type abstrait</a></div><div class=\"lev2 toc-item\"><a href=\"#Implémentation-des-opérations-non-primitives-à-partir-des-opérations-primitives\" data-toc-modified-id=\"Implémentation-des-opérations-non-primitives-à-partir-des-opérations-primitives-23\"><span class=\"toc-item-num\">2.3&nbsp;&nbsp;</span>Implémentation des opérations non primitives à partir des opérations primitives</a></div><div class=\"lev2 toc-item\"><a href=\"#Tests-communs-aux-différentes-implémentations\" data-toc-modified-id=\"Tests-communs-aux-différentes-implémentations-24\"><span class=\"toc-item-num\">2.4&nbsp;&nbsp;</span>Tests communs aux différentes implémentations</a></div><div class=\"lev2 toc-item\"><a href=\"#Implémentation-naïve-avec-une-structure-linéaire-(liste,-tableau-etc)\" data-toc-modified-id=\"Implémentation-naïve-avec-une-structure-linéaire-(liste,-tableau-etc)-25\"><span class=\"toc-item-num\">2.5&nbsp;&nbsp;</span>Implémentation naïve avec une structure linéaire (liste, tableau etc)</a></div><div class=\"lev2 toc-item\"><a href=\"#Implémentation-native-avec-set-en-Python\" data-toc-modified-id=\"Implémentation-native-avec-set-en-Python-26\"><span class=\"toc-item-num\">2.6&nbsp;&nbsp;</span>Implémentation native avec <code>set</code> en Python</a></div><div class=\"lev2 toc-item\"><a href=\"#Bidouillage-1/1-:-implémentation-avec-des-entiers-32/64-bits\" data-toc-modified-id=\"Bidouillage-1/1-:-implémentation-avec-des-entiers-32/64-bits-27\"><span class=\"toc-item-num\">2.7&nbsp;&nbsp;</span>Bidouillage 1/1 : implémentation avec des entiers 32/64 bits</a></div><div class=\"lev2 toc-item\"><a href=\"#Bidouillage-2/2-:-implémentation-avec-des-entiers-en-précision-infinie-avec-Python\" data-toc-modified-id=\"Bidouillage-2/2-:-implémentation-avec-des-entiers-en-précision-infinie-avec-Python-28\"><span class=\"toc-item-num\">2.8&nbsp;&nbsp;</span>Bidouillage 2/2 : implémentation avec des entiers en précision infinie avec Python</a></div><div class=\"lev2 toc-item\"><a href=\"#Implémentation-avec-des-tables-de-hachage-?\" data-toc-modified-id=\"Implémentation-avec-des-tables-de-hachage-?-29\"><span class=\"toc-item-num\">2.9&nbsp;&nbsp;</span>Implémentation avec des tables de hachage ?</a></div><div class=\"lev3 toc-item\"><a href=\"#En-Python-:-set-~=-dict-avec-des-valeurs-&quot;inutiles&quot;\" data-toc-modified-id=\"En-Python-:-set-~=-dict-avec-des-valeurs-&quot;inutiles&quot;-291\"><span class=\"toc-item-num\">2.9.1&nbsp;&nbsp;</span>En Python : <code>set</code> ~= <code>dict</code> avec des valeurs \"inutiles\"</a></div><div class=\"lev3 toc-item\"><a href=\"#Présentation-de-l'idée-:\" data-toc-modified-id=\"Présentation-de-l'idée-:-292\"><span class=\"toc-item-num\">2.9.2&nbsp;&nbsp;</span>Présentation de l'idée :</a></div><div class=\"lev3 toc-item\"><a href=\"#Comment-stocker-les-plus-petits-ensembles-?\" data-toc-modified-id=\"Comment-stocker-les-plus-petits-ensembles-?-293\"><span class=\"toc-item-num\">2.9.3&nbsp;&nbsp;</span>Comment stocker les plus petits ensembles ?</a></div><div class=\"lev3 toc-item\"><a href=\"#Choix-de-la-fonction-de-hachage\" data-toc-modified-id=\"Choix-de-la-fonction-de-hachage-294\"><span class=\"toc-item-num\">2.9.4&nbsp;&nbsp;</span>Choix de la fonction de hachage</a></div><div class=\"lev3 toc-item\"><a href=\"#Pour-l'exemple-ici\" data-toc-modified-id=\"Pour-l'exemple-ici-295\"><span class=\"toc-item-num\">2.9.5&nbsp;&nbsp;</span>Pour l'exemple ici</a></div><div class=\"lev2 toc-item\"><a href=\"#Implémentation-avec-des-arbres-binaires-de-recherche-?\" data-toc-modified-id=\"Implémentation-avec-des-arbres-binaires-de-recherche-?-210\"><span class=\"toc-item-num\">2.10&nbsp;&nbsp;</span>Implémentation avec des arbres binaires de recherche ?</a></div><div class=\"lev3 toc-item\"><a href=\"#Un-nœud-d'un-arbre-binaire\" data-toc-modified-id=\"Un-nœud-d'un-arbre-binaire-2101\"><span class=\"toc-item-num\">2.10.1&nbsp;&nbsp;</span>Un nœud d'un arbre binaire</a></div><div class=\"lev3 toc-item\"><a href=\"#Un-arbre-binaire-de-recherche\" data-toc-modified-id=\"Un-arbre-binaire-de-recherche-2102\"><span class=\"toc-item-num\">2.10.2&nbsp;&nbsp;</span>Un arbre binaire de recherche</a></div><div class=\"lev3 toc-item\"><a href=\"#Ensemble-avec-un-Arbre-Binaire-de-Recherche\" data-toc-modified-id=\"Ensemble-avec-un-Arbre-Binaire-de-Recherche-2103\"><span class=\"toc-item-num\">2.10.3&nbsp;&nbsp;</span>Ensemble avec un Arbre Binaire de Recherche</a></div><div class=\"lev2 toc-item\"><a href=\"#Comparaison-des-différentes-implémentations\" data-toc-modified-id=\"Comparaison-des-différentes-implémentations-211\"><span class=\"toc-item-num\">2.11&nbsp;&nbsp;</span>Comparaison des différentes implémentations</a></div><div class=\"lev2 toc-item\"><a href=\"#Conclusion\" data-toc-modified-id=\"Conclusion-212\"><span class=\"toc-item-num\">2.12&nbsp;&nbsp;</span>Conclusion</a></div>"
   ]
  },
  {
   "cell_type": "markdown",
   "metadata": {},
   "source": [
    "# [ALGO1 : Introduction à l'algorithmique](https://perso.crans.org/besson/teach/info1_algo1_2019/)\n",
    "\n",
    "- [Page du cours](https://perso.crans.org/besson/teach/info1_algo1_2019/) : https://perso.crans.org/besson/teach/info1_algo1_2019/\n",
    "- Magistère d'Informatique de Rennes - ENS Rennes - Année 2019/2020\n",
    "- Intervenants :\n",
    "  + Cours : [Lilian Besson](https://perso.crans.org/besson/)\n",
    "  + Travaux dirigés : [Raphaël Truffet](http://perso.eleves.ens-rennes.fr/people/Raphael.Truffet/)\n",
    "- Références :\n",
    "  + [Open Data Structures](http://opendatastructures.org/ods-python.pdf)"
   ]
  },
  {
   "cell_type": "markdown",
   "metadata": {},
   "source": [
    "# Cours Magistral 2"
   ]
  },
  {
   "cell_type": "markdown",
   "metadata": {},
   "source": [
    "## Structures de données pour représenter un ensemble de valeurs distinctes\n",
    "\n",
    "- Après avoir étudié comment représenter $<a_1,\\dots,a_n>$ une *séquence ordonnée* de valeurs $a_i$ dans un domaine $D$ (e.g., des entiers), on s'intéresse aujourd'hui à représenter un *ensemble non ordonné* de valeurs : $\\{a_1,\\dots,a_n\\}$.\n",
    "- On va utiliser des valeurs entières, par concision : $D=\\mathbb{N}$, `d = int`."
   ]
  },
  {
   "cell_type": "markdown",
   "metadata": {},
   "source": [
    "## Type abstrait\n",
    "- On fixe $D$ le domaine de nos valeurs, et `d` leur type.\n",
    "- On définit `Set<d>` le type abstrait des ensembles (collections non ordonnés) de valeurs de type `d`.\n",
    "\n",
    "On veut les opérations suivantes :\n",
    "\n",
    "    newEmptySet : () -> Set<d>          // créer un ensemble vide\n",
    "    len         : Set<d> -> int         // donner le nombre d'éléments de cet ensemble\n",
    "    contains    : Set<d> * d -> bool    // tester l'appartenance\n",
    "    add         : Set<d> * d -> Set<d>  // ajouter un élément à cet ensemble\n",
    "    pop         : Set<d> * d -> Set<d>  // retirer un élément à cet ensemble (s'il est présent)\n",
    "    values      : Set<d> -> List<d>     // retourne la liste de valeurs présentes dans l'ensemble"
   ]
  },
  {
   "cell_type": "markdown",
   "metadata": {},
   "source": [
    "On peut aussi vouloir les opérations suivantes, qui peuvent toutes s'implémenter avec les primitives ci-dessus :\n",
    "\n",
    "    isEmpty : Set<d> -> bool    // test si l'ensemble est vide\n",
    "    copy    : Set<d> -> Set<d>  // copie l'ensemble\n",
    "\n",
    "On peut aussi vouloir les opérations entre ensembles suivantes, qui peuvent toutes s'implémenter avec les primitives ci-dessus :\n",
    "\n",
    "    union                : Set<d> * Set<d> -> Set<d>\n",
    "    // contient les éléments présents dans au moins un des deux ensembles\n",
    "    \n",
    "    intersection         : Set<d> * Set<d> -> Set<d>\n",
    "    // contient les éléments présents dans les deux ensembles\n",
    "    \n",
    "    difference           : Set<d> * Set<d> -> Set<d>\n",
    "    // contient les éléments présents dans le premier mais pas le deuxième ensemble\n",
    "    \n",
    "    symmetric_difference : Set<d> * Set<d> -> Set<d>\n",
    "    // contient les éléments présents dans le premier mais pas le deuxième ensemble ou dans le deuxième mais pas le premier (xor)\n",
    "    \n",
    "    issubset             : Set<d> * Set<d> -> bool\n",
    "    // test si le premier ensemble est contenu dans le second\n",
    "    \n",
    "    issuperset           : Set<d> * Set<d> -> bool\n",
    "    // test si le premier ensemble est contenu dans le second"
   ]
  },
  {
   "cell_type": "markdown",
   "metadata": {},
   "source": [
    "----\n",
    "## Implémentation des opérations non primitives à partir des opérations primitives\n",
    "- Avec OCaml, on pourrait écrire un foncteur.\n",
    "- Avec Python, on va écrire une classe, et on pourra obtenir différentes implémentations complètes de la structure de données d'ensemble, à partir de différentes implémentations partielles des opérations primitives. C'est assez naïf : le code est indépendant de l'implémentation sous jacente de `add`/`pop` et de l'itérations :"
   ]
  },
  {
   "cell_type": "code",
   "execution_count": 58,
   "metadata": {
    "code_folding": [
     0
    ]
   },
   "outputs": [],
   "source": [
    "class SetIterator():\n",
    "    def __init__(self, a_set):\n",
    "        self.values = a_set.values()\n",
    "        self.maxcurrent = len(a_set)\n",
    "        self.current = 0\n",
    "    \n",
    "    def __iter__(self):\n",
    "        return self\n",
    "    \n",
    "    def __next__(self):\n",
    "        if self.current >= self.maxcurrent:\n",
    "            raise StopIteration\n",
    "        else:\n",
    "            self.current += 1\n",
    "            return self.values[self.current - 1]"
   ]
  },
  {
   "cell_type": "code",
   "execution_count": 205,
   "metadata": {
    "code_folding": [
     22,
     50
    ]
   },
   "outputs": [],
   "source": [
    "class SetWithNonPrimOperations():    \n",
    "    def isEmpty(self):\n",
    "        return len(self) == 0\n",
    "\n",
    "    def __iter__(self):\n",
    "        return SetIterator(self)\n",
    "    \n",
    "    def copy(self):\n",
    "        \"\"\" A new set containing the same values.\"\"\"\n",
    "        new_set = self.__class__()\n",
    "        for value in self:\n",
    "            new_set.add(value)\n",
    "        return new_set\n",
    "    \n",
    "    def difference(self, other_set):\n",
    "        \"\"\" A new set containing the values in self but not other_set.\"\"\"\n",
    "        new_set = self.__class__()\n",
    "        for value in self:\n",
    "            if value not in other_set:\n",
    "                new_set.add(value)\n",
    "        return new_set\n",
    "    \n",
    "    def symmetric_difference(self, other_set):\n",
    "        \"\"\" A new set containing the values in self but not other_set and the values in other_set but not self (XOR).\"\"\"\n",
    "        new_set = self.__class__()\n",
    "        for value in self:\n",
    "            if value not in other_set:\n",
    "                new_set.add(value)\n",
    "        for value in other_set:\n",
    "            if value not in self:\n",
    "                new_set.add(value)\n",
    "        return new_set\n",
    "    \n",
    "    def intersection(self, other_set):\n",
    "        \"\"\" A new set containing the values in self and in other_set.\"\"\"\n",
    "        new_set = self.__class__()\n",
    "        for value in self:\n",
    "            if value in other_set:\n",
    "                new_set.add(value)\n",
    "        return new_set\n",
    "    \n",
    "    def union(self, other_set):\n",
    "        \"\"\" A new set containing the values in self or in other_set.\"\"\"\n",
    "        new_set = self.__class__()\n",
    "        for value in self:\n",
    "            new_set.add(value)\n",
    "        for value in other_set:\n",
    "            new_set.add(value)\n",
    "        return new_set\n",
    "\n",
    "    def isdisjoint(self, other_set):\n",
    "        \"\"\" True if all the values in self are not in other_set.\"\"\"\n",
    "        for value in self:\n",
    "            if value in other_set:\n",
    "                return False\n",
    "        return True\n",
    "\n",
    "    def issubset(self, other_set):\n",
    "        \"\"\" True if all the values in self are in other_set.\"\"\"\n",
    "        for value in self:\n",
    "            if value not in other_set:\n",
    "                return False\n",
    "        return True\n",
    "\n",
    "    def issuperset(self, other_set):\n",
    "        \"\"\" True if all the values in other_set are in self.\"\"\"\n",
    "        for value in other_set:\n",
    "            if value not in self:\n",
    "                return False\n",
    "        return True\n",
    "\n",
    "    def clear(self):\n",
    "        \"\"\" Remove (pop) all the values in self.\"\"\"\n",
    "        for value in self:\n",
    "            self.pop(value)\n",
    "    \n",
    "    def remove(self, value):\n",
    "        self.pop(value)\n",
    "    \n",
    "    def __contains__(self, value):\n",
    "        return self.contains(value)\n",
    "    \n",
    "    def __str__(self):\n",
    "        \"\"\" Represent the values of the set in a string {a1,...,an}.\"\"\"\n",
    "        str_list = str(self.values())\n",
    "        return \"{\" + str_list.strip(\"[]\") + \"}\""
   ]
  },
  {
   "cell_type": "markdown",
   "metadata": {},
   "source": [
    "----\n",
    "## Tests communs aux différentes implémentations\n",
    "\n",
    "On écrit un petit test qui sera utilisé avec les différentes implémentations."
   ]
  },
  {
   "cell_type": "code",
   "execution_count": 206,
   "metadata": {},
   "outputs": [],
   "source": [
    "def un_petit_test_avec_une_structure_densemble(SetClass):\n",
    "    ens = SetClass()\n",
    "    print(ens)\n",
    "    assert not ens\n",
    "    for x in range(10):\n",
    "        assert x not in ens\n",
    "        ens.add(x)\n",
    "        assert x in ens\n",
    "        print(ens)\n",
    "    # ens = {0, 1, 2, 3, 4, 5, 6, 7, 8, 9}\n",
    "    assert ens\n",
    "    assert str(ens) == \"{0, 1, 2, 3, 4, 5, 6, 7, 8, 9}\"\n",
    "    print(\"S1 =\", ens)\n",
    "    for x in range(20, 30):\n",
    "        assert x not in ens\n",
    "    \n",
    "    ens2 = SetClass()\n",
    "    print(ens2)\n",
    "    for x in range(5, 10):\n",
    "        assert x not in ens2\n",
    "        ens2.add(x)\n",
    "        assert x in ens2\n",
    "        print(ens2)\n",
    "    # ens2 = {5, 6, 7, 8, 9}\n",
    "    assert str(ens2) == \"{5, 6, 7, 8, 9}\"\n",
    "    print(\"S2 =\", ens2)\n",
    "    assert ens2.issubset(ens)\n",
    "    assert ens.issuperset(ens2)\n",
    "    \n",
    "    assert [v for v in ens.intersection(ens2)] == [v for v in ens2]\n",
    "    assert [v for v in ens.intersection(ens2)] == [5, 6, 7, 8, 9]\n",
    "    assert [v for v in ens.difference(ens2)] == [0, 1, 2, 3, 4]\n",
    "    \n",
    "    ens3 = SetClass()\n",
    "    print(ens3)\n",
    "    for x in range(20, 25):\n",
    "        assert x not in ens3\n",
    "        ens3.add(x)\n",
    "        assert x in ens3\n",
    "        print(ens3)\n",
    "    assert len(ens3) == 5\n",
    "    for x in range(20, 25):\n",
    "        ens3.add(x)\n",
    "        assert x in ens3\n",
    "        print(ens3)\n",
    "    assert len(ens3) == 5\n",
    "    # ens3 = {20, 21, 22, 23, 24}\n",
    "    assert str(ens3) == \"{20, 21, 22, 23, 24}\"\n",
    "    print(\"S3 =\", ens3)\n",
    "\n",
    "    assert not ens.issubset(ens3)\n",
    "    assert not ens.issuperset(ens3)\n",
    "    assert not ens3.issubset(ens)\n",
    "    assert not ens3.issuperset(ens)\n",
    "    \n",
    "    assert not ens3.intersection(ens)\n",
    "    assert not ens.intersection(ens3)\n",
    "    \n",
    "    print(\"S1 union S2 =\", ens.union(ens2), \" = S2 union S1 =\", ens2.union(ens))\n",
    "    print(\"S1 union S3 =\", ens.union(ens3))\n",
    "    print(\"S2 union S3 =\", ens2.union(ens3))\n",
    "\n",
    "    print(\"S1 inter S2 =\", ens.intersection(ens2), \" != S2 inter S1 =\", ens2.intersection(ens))\n",
    "    print(\"S1 inter S3 =\", ens.intersection(ens3), \" != S3 inter S1 =\", ens3.intersection(ens))\n",
    "    print(\"S2 inter S3 =\", ens2.intersection(ens3), \" != S3 inter S2 =\", ens3.intersection(ens2))\n",
    "\n",
    "    print(\"S1 diff S2 =\", ens.difference(ens2), \" != S2 diff S1 =\", ens2.difference(ens))\n",
    "    print(\"S1 diff S3 =\", ens.difference(ens3), \" != S3 diff S1 =\", ens3.difference(ens))\n",
    "    print(\"S2 diff S3 =\", ens2.difference(ens3), \" != S3 diff S2 =\", ens3.difference(ens2))\n",
    "\n",
    "    print(\"S1 diff sym S2 =\", ens.symmetric_difference(ens2), \" != S2 diff sym S1 =\", ens2.symmetric_difference(ens))\n",
    "    print(\"S1 diff sym S3 =\", ens.symmetric_difference(ens3), \" != S3 diff sym S1 =\", ens3.symmetric_difference(ens))\n",
    "    print(\"S2 diff sym S3 =\", ens2.symmetric_difference(ens3), \" != S3 diff sym S2 =\", ens3.symmetric_difference(ens2))\n",
    "    "
   ]
  },
  {
   "cell_type": "markdown",
   "metadata": {},
   "source": [
    "Le deuxième test va juste être une suite d'ajout et de suppression de valeurs dans l'ensemble.\n",
    "\n",
    "Il servira pour mesurer l'efficacité temporelle des deux opérations de bases (`add`/`pop`), en fonction de l'amplitude des valeurs de l'ensemble (`max_value`/`min_value`), et de la taille de l'ensemble qui sera construit (`size`)."
   ]
  },
  {
   "cell_type": "code",
   "execution_count": 209,
   "metadata": {},
   "outputs": [],
   "source": [
    "import random\n",
    "\n",
    "def random_add_remove_test(SetClass, size=1000, max_value=10_000, min_value=-10_000):\n",
    "    ens = SetClass()\n",
    "    for _ in range(size):\n",
    "        x = random.randint(min_value, max_value)\n",
    "        ens.add(x)\n",
    "        assert x in ens\n",
    "    values = ens.values()\n",
    "    for _ in range(size):\n",
    "        x = random.choice(values)\n",
    "        if random.random() <= 0.5:\n",
    "            ens.add(x)\n",
    "            assert x in ens\n",
    "        else:\n",
    "            if x in ens:\n",
    "                ens.remove(x)\n",
    "            assert x not in ens"
   ]
  },
  {
   "cell_type": "markdown",
   "metadata": {},
   "source": [
    "## Implémentation naïve avec une structure linéaire (liste, tableau etc)\n",
    "- On utilise une liste ou un tableau (en Python, `list<d>`) pour stocker les valeurs.\n",
    "- Voyons les implémentations concrètes (les complexités sont discutées pour chacune plus bas)."
   ]
  },
  {
   "cell_type": "code",
   "execution_count": 210,
   "metadata": {},
   "outputs": [],
   "source": [
    "class SetWithList(SetWithNonPrimOperations):\n",
    "    def __init__(self):\n",
    "        self._values = []\n",
    "\n",
    "    def __len__(self):\n",
    "        \"\"\" Return n the current size of the set.\"\"\"\n",
    "        return len(self._values)\n",
    "\n",
    "    def contains(self, value):\n",
    "        \"\"\" Test if value is in the set.\n",
    "        \n",
    "        - Test linearly the equality with all values in the list.\n",
    "        - Takes O(n) time in worst case.\"\"\"\n",
    "        for other_value in self._values:\n",
    "            if other_value == value:\n",
    "                return True\n",
    "        return False\n",
    "        # equivalent to\n",
    "        # return value in self._values\n",
    "\n",
    "    def add(self, value):\n",
    "        \"\"\" Add value in the set if it is not present.\n",
    "        \n",
    "        - Takes O(n) time in worst case.\"\"\"\n",
    "        if value not in self:\n",
    "            self._values.append(value)\n",
    "\n",
    "    def pop(self, value):\n",
    "        \"\"\" Remove value in the set if it is present.\n",
    "        \n",
    "        - Takes O(n) time in worst case.\"\"\"\n",
    "        if value in self:  # O(n)\n",
    "            location = self._values.index(value)  # O(n), but happens only once\n",
    "            del self._values[location]  # O(n)\n",
    "    \n",
    "    def values(self):\n",
    "        \"\"\" Return a fresh list of the values of the set (not the actual list, to protect it).\n",
    "        \n",
    "        - Takes O(n) time in worst case.\"\"\"\n",
    "        return list(self._values)"
   ]
  },
  {
   "cell_type": "markdown",
   "metadata": {},
   "source": [
    "On teste cette première structure :"
   ]
  },
  {
   "cell_type": "code",
   "execution_count": 177,
   "metadata": {},
   "outputs": [
    {
     "name": "stdout",
     "output_type": "stream",
     "text": [
      "{}\n",
      "{0}\n",
      "{0, 1}\n",
      "{0, 1, 2}\n",
      "{0, 1, 2, 3}\n",
      "{0, 1, 2, 3, 4}\n",
      "{0, 1, 2, 3, 4, 5}\n",
      "{0, 1, 2, 3, 4, 5, 6}\n",
      "{0, 1, 2, 3, 4, 5, 6, 7}\n",
      "{0, 1, 2, 3, 4, 5, 6, 7, 8}\n",
      "{0, 1, 2, 3, 4, 5, 6, 7, 8, 9}\n",
      "S1 = {0, 1, 2, 3, 4, 5, 6, 7, 8, 9}\n",
      "{}\n",
      "{5}\n",
      "{5, 6}\n",
      "{5, 6, 7}\n",
      "{5, 6, 7, 8}\n",
      "{5, 6, 7, 8, 9}\n",
      "S2 = {5, 6, 7, 8, 9}\n",
      "{}\n",
      "{20}\n",
      "{20, 21}\n",
      "{20, 21, 22}\n",
      "{20, 21, 22, 23}\n",
      "{20, 21, 22, 23, 24}\n",
      "{20, 21, 22, 23, 24}\n",
      "{20, 21, 22, 23, 24}\n",
      "{20, 21, 22, 23, 24}\n",
      "{20, 21, 22, 23, 24}\n",
      "{20, 21, 22, 23, 24}\n",
      "S3 = {20, 21, 22, 23, 24}\n",
      "S1 union S2 = {0, 1, 2, 3, 4, 5, 6, 7, 8, 9}  = S2 union S1 = {5, 6, 7, 8, 9, 0, 1, 2, 3, 4}\n",
      "S1 union S3 = {0, 1, 2, 3, 4, 5, 6, 7, 8, 9, 20, 21, 22, 23, 24}\n",
      "S2 union S3 = {5, 6, 7, 8, 9, 20, 21, 22, 23, 24}\n",
      "S1 inter S2 = {5, 6, 7, 8, 9}  != S2 inter S1 = {5, 6, 7, 8, 9}\n",
      "S1 inter S3 = {}  != S3 inter S1 = {}\n",
      "S2 inter S3 = {}  != S3 inter S2 = {}\n",
      "S1 diff S2 = {0, 1, 2, 3, 4}  != S2 diff S1 = {}\n",
      "S1 diff S3 = {0, 1, 2, 3, 4, 5, 6, 7, 8, 9}  != S3 diff S1 = {20, 21, 22, 23, 24}\n",
      "S2 diff S3 = {5, 6, 7, 8, 9}  != S3 diff S2 = {20, 21, 22, 23, 24}\n",
      "S1 diff sym S2 = {0, 1, 2, 3, 4}  != S2 diff sym S1 = {0, 1, 2, 3, 4}\n",
      "S1 diff sym S3 = {0, 1, 2, 3, 4, 5, 6, 7, 8, 9, 20, 21, 22, 23, 24}  != S3 diff sym S1 = {20, 21, 22, 23, 24, 0, 1, 2, 3, 4, 5, 6, 7, 8, 9}\n",
      "S2 diff sym S3 = {5, 6, 7, 8, 9, 20, 21, 22, 23, 24}  != S3 diff sym S2 = {20, 21, 22, 23, 24, 5, 6, 7, 8, 9}\n"
     ]
    }
   ],
   "source": [
    "un_petit_test_avec_une_structure_densemble(SetWithList)"
   ]
  },
  {
   "cell_type": "markdown",
   "metadata": {},
   "source": [
    "- On pourrait faire pareil avec n'importe quelle structure linéaire : liste simplement ou doublement chaînée, tableau dynamique (ce qu'on a fait avec `list` de Python), file/pile d'attente, etc.\n",
    "\n",
    "- Le bilan des complexités des opérations est le suivant (si $n=\\texttt{len}(S_1)$ et $m=\\texttt{len}(S_2)$) :\n",
    "\n",
    "| Opérations | Complexité pire cas | Complexité moyenne* |\n",
    "|------------|------------|------------|\n",
    "| `newEmptySet()` | $O(1)$ | $O(1)$ |\n",
    "| `len(S1)` | $O(n)$ | $O(n)$ |\n",
    "| `contains(S1, x)` | $O(n)$ | $O(n)$ |\n",
    "| `add(S1, x)` | $O(n)$ | $O(n)$ |\n",
    "| `pop(S1, x)` | $O(n)$ | $O(n)$ |\n",
    "| `values(S1)` | $O(n)$ | $O(n)$ |\n",
    "| `isEmpty(S1)` | $O(n)$ | $O(n)$ |\n",
    "| `copy(S1)` | $O(n)$ | $O(n)$ |\n",
    "| `union(S1, S2)` | $O(n + m)$ | $O(n + m)$ |\n",
    "| `intersection(S1, S2)` | $O(n + m)$ | $O(n + m)$ |\n",
    "| `difference(S1, S2)` | $O(n + m)$ | $O(n + m)$ |\n",
    "| `symmetric_difference(S1, S2)` | $O(n + m)$ | $O(n + m)$ |\n",
    "| `issubset(S1, S2)` | $O(n + m)$ | $O(n + m)$ |\n",
    "| `issuperset(S1, S2)` | $O(n + m)$ | $O(n + m)$ |\n",
    "\n",
    "> Il reste à définir ce que signifie complexité moyenne. Regardez par exemple dans [Introduction à l'Algorithmique, de Cormen et al]."
   ]
  },
  {
   "cell_type": "code",
   "execution_count": 185,
   "metadata": {},
   "outputs": [
    {
     "name": "stdout",
     "output_type": "stream",
     "text": [
      "813 µs ± 45.9 µs per loop (mean ± std. dev. of 7 runs, 1000 loops each)\n",
      "1.05 ms ± 66.7 µs per loop (mean ± std. dev. of 7 runs, 1000 loops each)\n",
      "988 µs ± 72.7 µs per loop (mean ± std. dev. of 7 runs, 1000 loops each)\n",
      "942 µs ± 41 µs per loop (mean ± std. dev. of 7 runs, 1000 loops each)\n"
     ]
    }
   ],
   "source": [
    "%timeit random_add_remove_test(SetWithList, size=100, max_value=100)\n",
    "%timeit random_add_remove_test(SetWithList, size=100, max_value=1000)\n",
    "%timeit random_add_remove_test(SetWithList, size=100, max_value=100000)\n",
    "%timeit random_add_remove_test(SetWithList, size=100, max_value=10000000)"
   ]
  },
  {
   "cell_type": "code",
   "execution_count": 186,
   "metadata": {},
   "outputs": [
    {
     "name": "stdout",
     "output_type": "stream",
     "text": [
      "17.8 ms ± 4.11 ms per loop (mean ± std. dev. of 7 runs, 100 loops each)\n",
      "69.9 ms ± 11.3 ms per loop (mean ± std. dev. of 7 runs, 10 loops each)\n",
      "83.4 ms ± 5.62 ms per loop (mean ± std. dev. of 7 runs, 10 loops each)\n",
      "80.7 ms ± 6.97 ms per loop (mean ± std. dev. of 7 runs, 10 loops each)\n"
     ]
    }
   ],
   "source": [
    "%timeit random_add_remove_test(SetWithList, size=1000, max_value=100)\n",
    "%timeit random_add_remove_test(SetWithList, size=1000, max_value=1000)\n",
    "%timeit random_add_remove_test(SetWithList, size=1000, max_value=100000)\n",
    "%timeit random_add_remove_test(SetWithList, size=1000, max_value=10000000)"
   ]
  },
  {
   "cell_type": "code",
   "execution_count": 187,
   "metadata": {},
   "outputs": [
    {
     "name": "stdout",
     "output_type": "stream",
     "text": [
      "152 ms ± 16 ms per loop (mean ± std. dev. of 7 runs, 10 loops each)\n",
      "1.42 s ± 184 ms per loop (mean ± std. dev. of 7 runs, 1 loop each)\n",
      "7.83 s ± 387 ms per loop (mean ± std. dev. of 7 runs, 1 loop each)\n",
      "7.56 s ± 438 ms per loop (mean ± std. dev. of 7 runs, 1 loop each)\n"
     ]
    }
   ],
   "source": [
    "%timeit random_add_remove_test(SetWithList, size=10000, max_value=100)\n",
    "%timeit random_add_remove_test(SetWithList, size=10000, max_value=1000)\n",
    "%timeit random_add_remove_test(SetWithList, size=10000, max_value=100000)\n",
    "%timeit random_add_remove_test(SetWithList, size=10000, max_value=10000000)"
   ]
  },
  {
   "cell_type": "markdown",
   "metadata": {},
   "source": [
    "Plus `max_value` est grande, plus il y a de valeurs différentes, donc plus on a une liste qui sera longue, et donc plus les opérations coûtent cher."
   ]
  },
  {
   "cell_type": "markdown",
   "metadata": {},
   "source": [
    "----\n",
    "## Implémentation native avec `set` en Python"
   ]
  },
  {
   "cell_type": "code",
   "execution_count": 211,
   "metadata": {},
   "outputs": [],
   "source": [
    "class NativeSet(set, SetWithNonPrimOperations):\n",
    "    def values(self):\n",
    "        return list(self)\n",
    "    # et c'est tout"
   ]
  },
  {
   "cell_type": "code",
   "execution_count": 212,
   "metadata": {},
   "outputs": [
    {
     "name": "stdout",
     "output_type": "stream",
     "text": [
      "{}\n",
      "{0}\n",
      "{0, 1}\n",
      "{0, 1, 2}\n",
      "{0, 1, 2, 3}\n",
      "{0, 1, 2, 3, 4}\n",
      "{0, 1, 2, 3, 4, 5}\n",
      "{0, 1, 2, 3, 4, 5, 6}\n",
      "{0, 1, 2, 3, 4, 5, 6, 7}\n",
      "{0, 1, 2, 3, 4, 5, 6, 7, 8}\n",
      "{0, 1, 2, 3, 4, 5, 6, 7, 8, 9}\n",
      "S1 = {0, 1, 2, 3, 4, 5, 6, 7, 8, 9}\n",
      "{}\n",
      "{5}\n",
      "{5, 6}\n",
      "{5, 6, 7}\n",
      "{8, 5, 6, 7}\n",
      "{5, 6, 7, 8, 9}\n",
      "S2 = {5, 6, 7, 8, 9}\n",
      "{}\n",
      "{20}\n",
      "{20, 21}\n",
      "{20, 21, 22}\n",
      "{20, 21, 22, 23}\n",
      "{20, 21, 22, 23, 24}\n",
      "{20, 21, 22, 23, 24}\n",
      "{20, 21, 22, 23, 24}\n",
      "{20, 21, 22, 23, 24}\n",
      "{20, 21, 22, 23, 24}\n",
      "{20, 21, 22, 23, 24}\n",
      "S3 = {20, 21, 22, 23, 24}\n",
      "S1 union S2 = {0, 1, 2, 3, 4, 5, 6, 7, 8, 9}  = S2 union S1 = {0, 1, 2, 3, 4, 5, 6, 7, 8, 9}\n",
      "S1 union S3 = {0, 1, 2, 3, 4, 5, 6, 7, 8, 9, 20, 21, 22, 23, 24}\n",
      "S2 union S3 = {5, 6, 7, 8, 9, 20, 21, 22, 23, 24}\n",
      "S1 inter S2 = {5, 6, 7, 8, 9}  != S2 inter S1 = {5, 6, 7, 8, 9}\n",
      "S1 inter S3 = set()  != S3 inter S1 = set()\n",
      "S2 inter S3 = set()  != S3 inter S2 = set()\n",
      "S1 diff S2 = {0, 1, 2, 3, 4}  != S2 diff S1 = set()\n",
      "S1 diff S3 = {0, 1, 2, 3, 4, 5, 6, 7, 8, 9}  != S3 diff S1 = {20, 21, 22, 23, 24}\n",
      "S2 diff S3 = {5, 6, 7, 8, 9}  != S3 diff S2 = {20, 21, 22, 23, 24}\n",
      "S1 diff sym S2 = {0, 1, 2, 3, 4}  != S2 diff sym S1 = {0, 1, 2, 3, 4}\n",
      "S1 diff sym S3 = {0, 1, 2, 3, 4, 5, 6, 7, 8, 9, 20, 21, 22, 23, 24}  != S3 diff sym S1 = {0, 1, 2, 3, 4, 5, 6, 7, 8, 9, 20, 21, 22, 23, 24}\n",
      "S2 diff sym S3 = {5, 6, 7, 8, 9, 20, 21, 22, 23, 24}  != S3 diff sym S2 = {5, 6, 7, 8, 9, 20, 21, 22, 23, 24}\n"
     ]
    }
   ],
   "source": [
    "un_petit_test_avec_une_structure_densemble(NativeSet)"
   ]
  },
  {
   "cell_type": "markdown",
   "metadata": {},
   "source": [
    "- Le bilan des complexités des opérations est le suivant (si $n=\\texttt{len}(S_1)$ et $m=\\texttt{len}(S_2)$) :\n",
    "\n",
    "| Opérations | Complexité pire cas | Complexité moyenne* |\n",
    "|------------|------------|------------|\n",
    "| `newEmptySet()` | $O(1)$ | $O(1)$ |\n",
    "| `len(S1)` | $O(1)$ | $O(1)$ |\n",
    "| `contains(S1, x)` | $O(n)$ | $O(1)$ 🎉 |\n",
    "| `add(S1, x)` | $O(n)$ | $O(1)$ 🎉 |\n",
    "| `pop(S1, x)` | $O(n)$ | $O(1)$ 🎉 |\n",
    "| `values(S1)` | $O(n)$ | $O(n)$ |\n",
    "| `isEmpty(S1)` | $O(1)$ | $O(1)$ |\n",
    "| `copy(S1)` | $O(n)$ | $O(n)$ |\n",
    "| `union(S1, S2)` | $O(n + m)$ | $O(n + m)$ |\n",
    "| `intersection(S1, S2)` | $O(n m)$ | $O(\\min(n, m))$ 🎉 |\n",
    "| `difference(S1, S2)` | $O(n + m)$ | $O(n + m)$ |\n",
    "| `symmetric_difference(S1, S2)` | $O(n m)$ | $O(\\max(n, m))$ |\n",
    "| `issubset(S1, S2)` | $O(n m)$ | $O(\\min(n, m)))$ 🎉 |\n",
    "| `issuperset(S1, S2)` | $O(n m)$ | $O(\\min(n, m)))$ 🎉 |\n",
    "\n",
    "> Référence : https://stackoverflow.com/questions/3949310/ddg#3949350, https://hg.python.org/releasing/3.6/file/tip/Objects/setobject.c et https://wiki.python.org/moin/TimeComplexity#set"
   ]
  },
  {
   "cell_type": "code",
   "execution_count": 213,
   "metadata": {},
   "outputs": [
    {
     "name": "stdout",
     "output_type": "stream",
     "text": [
      "288 µs ± 61.4 µs per loop (mean ± std. dev. of 7 runs, 1000 loops each)\n",
      "275 µs ± 17.7 µs per loop (mean ± std. dev. of 7 runs, 1000 loops each)\n",
      "223 µs ± 28.4 µs per loop (mean ± std. dev. of 7 runs, 1000 loops each)\n",
      "255 µs ± 25.4 µs per loop (mean ± std. dev. of 7 runs, 1000 loops each)\n"
     ]
    }
   ],
   "source": [
    "%timeit random_add_remove_test(NativeSet, size=100, max_value=100)\n",
    "%timeit random_add_remove_test(NativeSet, size=100, max_value=1000)\n",
    "%timeit random_add_remove_test(NativeSet, size=100, max_value=1000_000)\n",
    "%timeit random_add_remove_test(NativeSet, size=100, max_value=1000_000_000)"
   ]
  },
  {
   "cell_type": "code",
   "execution_count": 198,
   "metadata": {},
   "outputs": [
    {
     "name": "stdout",
     "output_type": "stream",
     "text": [
      "2.68 ms ± 306 µs per loop (mean ± std. dev. of 7 runs, 100 loops each)\n",
      "2.3 ms ± 149 µs per loop (mean ± std. dev. of 7 runs, 100 loops each)\n",
      "2.48 ms ± 237 µs per loop (mean ± std. dev. of 7 runs, 100 loops each)\n",
      "2.46 ms ± 148 µs per loop (mean ± std. dev. of 7 runs, 100 loops each)\n"
     ]
    }
   ],
   "source": [
    "%timeit random_add_remove_test(NativeSet, size=1000, max_value=100)\n",
    "%timeit random_add_remove_test(NativeSet, size=1000, max_value=1000)\n",
    "%timeit random_add_remove_test(NativeSet, size=1000, max_value=1000_000)\n",
    "%timeit random_add_remove_test(NativeSet, size=1000, max_value=1000_000_000)"
   ]
  },
  {
   "cell_type": "code",
   "execution_count": 199,
   "metadata": {},
   "outputs": [
    {
     "name": "stdout",
     "output_type": "stream",
     "text": [
      "24.7 ms ± 2.72 ms per loop (mean ± std. dev. of 7 runs, 10 loops each)\n",
      "22.1 ms ± 1.87 ms per loop (mean ± std. dev. of 7 runs, 10 loops each)\n",
      "25.1 ms ± 2.48 ms per loop (mean ± std. dev. of 7 runs, 10 loops each)\n",
      "25.5 ms ± 1.69 ms per loop (mean ± std. dev. of 7 runs, 10 loops each)\n"
     ]
    }
   ],
   "source": [
    "%timeit random_add_remove_test(NativeSet, size=10_000, max_value=100)\n",
    "%timeit random_add_remove_test(NativeSet, size=10_000, max_value=1000)\n",
    "%timeit random_add_remove_test(NativeSet, size=10_000, max_value=1000_000)\n",
    "%timeit random_add_remove_test(NativeSet, size=10_000, max_value=1000_000_000)"
   ]
  },
  {
   "cell_type": "code",
   "execution_count": 200,
   "metadata": {},
   "outputs": [
    {
     "name": "stdout",
     "output_type": "stream",
     "text": [
      "216 ms ± 16.2 ms per loop (mean ± std. dev. of 7 runs, 1 loop each)\n",
      "269 ms ± 25.9 ms per loop (mean ± std. dev. of 7 runs, 1 loop each)\n",
      "284 ms ± 30.6 ms per loop (mean ± std. dev. of 7 runs, 1 loop each)\n",
      "293 ms ± 42.9 ms per loop (mean ± std. dev. of 7 runs, 1 loop each)\n"
     ]
    }
   ],
   "source": [
    "%timeit random_add_remove_test(NativeSet, size=100_000, max_value=100)\n",
    "%timeit random_add_remove_test(NativeSet, size=100_000, max_value=1000)\n",
    "%timeit random_add_remove_test(NativeSet, size=100_000, max_value=1000_000)\n",
    "%timeit random_add_remove_test(NativeSet, size=100_000, max_value=1000_000_000)"
   ]
  },
  {
   "cell_type": "code",
   "execution_count": 201,
   "metadata": {},
   "outputs": [
    {
     "name": "stdout",
     "output_type": "stream",
     "text": [
      "2.3 s ± 98.3 ms per loop (mean ± std. dev. of 7 runs, 1 loop each)\n",
      "2.62 s ± 137 ms per loop (mean ± std. dev. of 7 runs, 1 loop each)\n",
      "3.04 s ± 186 ms per loop (mean ± std. dev. of 7 runs, 1 loop each)\n",
      "2.92 s ± 134 ms per loop (mean ± std. dev. of 7 runs, 1 loop each)\n"
     ]
    }
   ],
   "source": [
    "%timeit random_add_remove_test(NativeSet, size=1000_000, max_value=100)\n",
    "%timeit random_add_remove_test(NativeSet, size=1000_000, max_value=1000)\n",
    "%timeit random_add_remove_test(NativeSet, size=1000_000, max_value=1000_000)\n",
    "%timeit random_add_remove_test(NativeSet, size=1000_000, max_value=1000_000_000)"
   ]
  },
  {
   "cell_type": "markdown",
   "metadata": {},
   "source": [
    "- On semble vérifier que l'implémentation native de Python est quasiment indépendante des valeurs stockées, dès qu'elles sont assez grandes.\n",
    "- Et que les complexités (amorties) des opérations `add`/`remove` sont linéaires en la taille de l'ensemble."
   ]
  },
  {
   "cell_type": "markdown",
   "metadata": {},
   "source": [
    "----\n",
    "## Bidouillage 1/1 : implémentation avec des entiers 32/64 bits\n",
    "\n",
    "- Si on sait que les valeurs qu'on va ajouter dans nos ensembles sont comprises entre 0 et 31, on peut représenter un (petit) ensemble avec *un seul* entier 32 bits : si le $i$ème bit est à 1, c'est que $i$ est dans l'ensemble.\n",
    "- On peut faire pareil avec 64 bits.\n",
    "- En Python, les entiers sont à précision arbitraire, mais on peut utiliser `np.int32` pour avoir des entiers 32 bits natifs :"
   ]
  },
  {
   "cell_type": "code",
   "execution_count": 68,
   "metadata": {},
   "outputs": [],
   "source": [
    "import numpy as np"
   ]
  },
  {
   "cell_type": "markdown",
   "metadata": {},
   "source": [
    "- On va voir comment utiliser les opérations bit à bit pour réaliser les opérations sur les ensembles. [Documentation ?](https://docs.scipy.org/doc/numpy/reference/routines.bitwise.html)"
   ]
  },
  {
   "cell_type": "code",
   "execution_count": 101,
   "metadata": {},
   "outputs": [
    {
     "data": {
      "text/plain": [
       "'0b0'"
      ]
     },
     "execution_count": 101,
     "metadata": {},
     "output_type": "execute_result"
    },
    {
     "data": {
      "text/plain": [
       "'0b1'"
      ]
     },
     "execution_count": 101,
     "metadata": {},
     "output_type": "execute_result"
    },
    {
     "data": {
      "text/plain": [
       "'0b10'"
      ]
     },
     "execution_count": 101,
     "metadata": {},
     "output_type": "execute_result"
    },
    {
     "data": {
      "text/plain": [
       "'0b11'"
      ]
     },
     "execution_count": 101,
     "metadata": {},
     "output_type": "execute_result"
    },
    {
     "data": {
      "text/plain": [
       "'0b1'"
      ]
     },
     "execution_count": 101,
     "metadata": {},
     "output_type": "execute_result"
    },
    {
     "data": {
      "text/plain": [
       "'0b1'"
      ]
     },
     "execution_count": 101,
     "metadata": {},
     "output_type": "execute_result"
    },
    {
     "data": {
      "text/plain": [
       "'0b11'"
      ]
     },
     "execution_count": 101,
     "metadata": {},
     "output_type": "execute_result"
    },
    {
     "data": {
      "text/plain": [
       "'0b11'"
      ]
     },
     "execution_count": 101,
     "metadata": {},
     "output_type": "execute_result"
    },
    {
     "data": {
      "text/plain": [
       "'0b1'"
      ]
     },
     "execution_count": 101,
     "metadata": {},
     "output_type": "execute_result"
    },
    {
     "data": {
      "text/plain": [
       "'0b1'"
      ]
     },
     "execution_count": 101,
     "metadata": {},
     "output_type": "execute_result"
    },
    {
     "data": {
      "text/plain": [
       "'0b111'"
      ]
     },
     "execution_count": 101,
     "metadata": {},
     "output_type": "execute_result"
    },
    {
     "data": {
      "text/plain": [
       "'0b111'"
      ]
     },
     "execution_count": 101,
     "metadata": {},
     "output_type": "execute_result"
    },
    {
     "data": {
      "text/plain": [
       "'0b1'"
      ]
     },
     "execution_count": 101,
     "metadata": {},
     "output_type": "execute_result"
    },
    {
     "data": {
      "text/plain": [
       "'0b1'"
      ]
     },
     "execution_count": 101,
     "metadata": {},
     "output_type": "execute_result"
    },
    {
     "data": {
      "text/plain": [
       "'0b1'"
      ]
     },
     "execution_count": 101,
     "metadata": {},
     "output_type": "execute_result"
    },
    {
     "data": {
      "text/plain": [
       "'0b1'"
      ]
     },
     "execution_count": 101,
     "metadata": {},
     "output_type": "execute_result"
    },
    {
     "data": {
      "text/plain": [
       "'0b10'"
      ]
     },
     "execution_count": 101,
     "metadata": {},
     "output_type": "execute_result"
    },
    {
     "data": {
      "text/plain": [
       "'0b10'"
      ]
     },
     "execution_count": 101,
     "metadata": {},
     "output_type": "execute_result"
    },
    {
     "data": {
      "text/plain": [
       "'0b10000000'"
      ]
     },
     "execution_count": 101,
     "metadata": {},
     "output_type": "execute_result"
    },
    {
     "data": {
      "text/plain": [
       "'0b10000000'"
      ]
     },
     "execution_count": 101,
     "metadata": {},
     "output_type": "execute_result"
    }
   ],
   "source": [
    "bin(0b0)  # set {}\n",
    "bin(0b1)  # set {0}\n",
    "bin(0b10)  # set {1}\n",
    "bin(0b11)  # set {0, 1}\n",
    "\n",
    "bin(np.bitwise_and(0b11, 0b01))  # {0, 1} inter {1} = {1}\n",
    "bin(0b11 & 0b01)  # {0, 1} inter {1} = {1}\n",
    "bin(np.bitwise_or(0b01, 0b10))  # {0} union {1} = {0, 1}\n",
    "bin(0b01 | 0b10)  # {0} union {1} = {0, 1}\n",
    "\n",
    "bin(np.bitwise_xor(0b11, 0b10)) # {0, 1} /\\ {1} = {0} (symmetric difference)\n",
    "bin(0b11 ^ 0b10) # {0, 1} /\\ {1} = {0} (symmetric difference)\n",
    "bin(np.bitwise_xor(0b101, 0b10)) # {0, 2} /\\ {1} = {0, 1, 2} (symmetric difference)\n",
    "bin(0b101 ^ 0b10) # {0, 2} /\\ {1} = {0, 1, 2} (symmetric difference)\n",
    "bin(np.bitwise_xor(0b11, 0b10)) # {1} - {0} = {}\n",
    "bin(0b11 ^ 0b10) # {1} - {0} = {}\n",
    "\n",
    "bin(np.left_shift(1, 0))  # = {0}\n",
    "bin(1 << 0)  # = {0}\n",
    "bin(np.left_shift(1, 1))  # = {1}\n",
    "bin(1 << 1)  # = {1}\n",
    "bin(np.left_shift(1, 7))  # = {7}\n",
    "bin(1 << 7)  # = {7}\n"
   ]
  },
  {
   "cell_type": "markdown",
   "metadata": {},
   "source": [
    "Et voilà la classe"
   ]
  },
  {
   "cell_type": "code",
   "execution_count": 103,
   "metadata": {},
   "outputs": [],
   "source": [
    "from math import log2"
   ]
  },
  {
   "cell_type": "code",
   "execution_count": 214,
   "metadata": {},
   "outputs": [],
   "source": [
    "class SetWithInt(SetWithNonPrimOperations):\n",
    "    def __init__(self, zero=0):\n",
    "        \"\"\" Use zero=0 to use native int, zero=np.int32(0) or np.int64(0) to use 32/64 bits.\"\"\"\n",
    "        self.int = zero\n",
    "\n",
    "    def __len__(self):\n",
    "        \"\"\" Return n the current size of the set.\"\"\"\n",
    "        return len(self.values())\n",
    "\n",
    "    def contains(self, value):\n",
    "        \"\"\" Test if value is in the set.\n",
    "        \n",
    "        - Test one bit.\n",
    "        \"\"\"\n",
    "        return (self.int & (1 << value)) != 0\n",
    "\n",
    "    def add(self, value):\n",
    "        \"\"\" Add value in the set if it is not present.\"\"\"\n",
    "        self.int |= (1 << value)\n",
    "\n",
    "    def pop(self, value):\n",
    "        \"\"\" Remove value in the set if it is present.\"\"\"\n",
    "        self.int ^= (1 << value)\n",
    "    \n",
    "    def values(self):\n",
    "        \"\"\" Return a fresh list of the values of the set.\n",
    "        \n",
    "        - Takes O(n) time in worst case.\"\"\"\n",
    "        if self.int == 0:\n",
    "            return []\n",
    "        else:\n",
    "            n = 1 + int(log2(self.int))\n",
    "            return [ i for i in range(n) if i in self]"
   ]
  },
  {
   "cell_type": "code",
   "execution_count": 133,
   "metadata": {},
   "outputs": [],
   "source": [
    "SetWithInt32 = lambda: SetWithInt(np.int32(0))\n",
    "SetWithInt64 = lambda: SetWithInt(np.int64(0))"
   ]
  },
  {
   "cell_type": "markdown",
   "metadata": {},
   "source": [
    "On test :"
   ]
  },
  {
   "cell_type": "code",
   "execution_count": 215,
   "metadata": {
    "scrolled": false
   },
   "outputs": [
    {
     "name": "stdout",
     "output_type": "stream",
     "text": [
      "{}\n",
      "{0}\n",
      "{0, 1}\n",
      "{0, 1, 2}\n",
      "{0, 1, 2, 3}\n",
      "{0, 1, 2, 3, 4}\n",
      "{0, 1, 2, 3, 4, 5}\n",
      "{0, 1, 2, 3, 4, 5, 6}\n",
      "{0, 1, 2, 3, 4, 5, 6, 7}\n",
      "{0, 1, 2, 3, 4, 5, 6, 7, 8}\n",
      "{0, 1, 2, 3, 4, 5, 6, 7, 8, 9}\n",
      "S1 = {0, 1, 2, 3, 4, 5, 6, 7, 8, 9}\n",
      "{}\n",
      "{5}\n",
      "{5, 6}\n",
      "{5, 6, 7}\n",
      "{5, 6, 7, 8}\n",
      "{5, 6, 7, 8, 9}\n",
      "S2 = {5, 6, 7, 8, 9}\n",
      "{}\n",
      "{20}\n",
      "{20, 21}\n",
      "{20, 21, 22}\n",
      "{20, 21, 22, 23}\n",
      "{20, 21, 22, 23, 24}\n",
      "{20, 21, 22, 23, 24}\n",
      "{20, 21, 22, 23, 24}\n",
      "{20, 21, 22, 23, 24}\n",
      "{20, 21, 22, 23, 24}\n",
      "{20, 21, 22, 23, 24}\n",
      "S3 = {20, 21, 22, 23, 24}\n",
      "S1 union S2 = {0, 1, 2, 3, 4, 5, 6, 7, 8, 9}  = S2 union S1 = {0, 1, 2, 3, 4, 5, 6, 7, 8, 9}\n",
      "S1 union S3 = {0, 1, 2, 3, 4, 5, 6, 7, 8, 9, 20, 21, 22, 23, 24}\n",
      "S2 union S3 = {5, 6, 7, 8, 9, 20, 21, 22, 23, 24}\n",
      "S1 inter S2 = {5, 6, 7, 8, 9}  != S2 inter S1 = {5, 6, 7, 8, 9}\n",
      "S1 inter S3 = {}  != S3 inter S1 = {}\n",
      "S2 inter S3 = {}  != S3 inter S2 = {}\n",
      "S1 diff S2 = {0, 1, 2, 3, 4}  != S2 diff S1 = {}\n",
      "S1 diff S3 = {0, 1, 2, 3, 4, 5, 6, 7, 8, 9}  != S3 diff S1 = {20, 21, 22, 23, 24}\n",
      "S2 diff S3 = {5, 6, 7, 8, 9}  != S3 diff S2 = {20, 21, 22, 23, 24}\n",
      "S1 diff sym S2 = {0, 1, 2, 3, 4}  != S2 diff sym S1 = {0, 1, 2, 3, 4}\n",
      "S1 diff sym S3 = {0, 1, 2, 3, 4, 5, 6, 7, 8, 9, 20, 21, 22, 23, 24}  != S3 diff sym S1 = {0, 1, 2, 3, 4, 5, 6, 7, 8, 9, 20, 21, 22, 23, 24}\n",
      "S2 diff sym S3 = {5, 6, 7, 8, 9, 20, 21, 22, 23, 24}  != S3 diff sym S2 = {5, 6, 7, 8, 9, 20, 21, 22, 23, 24}\n"
     ]
    }
   ],
   "source": [
    "un_petit_test_avec_une_structure_densemble(SetWithInt32)"
   ]
  },
  {
   "cell_type": "markdown",
   "metadata": {},
   "source": [
    "Parler de complexité n'aura pas de sens ici : on s'autorise seulement des ensembles ayant jusqu'à 32 valeurs.\n",
    "Donc $n\\leq32$, alors que les notations $O(n)$ (etc) sont des **notations asymptotiques** (ie. valables quand $n\\to\\infty$ !)."
   ]
  },
  {
   "cell_type": "markdown",
   "metadata": {},
   "source": [
    "## Bidouillage 2/2 : implémentation avec des entiers en précision infinie avec Python\n",
    "- On ne verrait la différence que si on faisait des tests de la rapidité des opérations de bases, avec des valeurs $\\leq 31$ en comparaison de la structure utilisant des entiers natifs sur 32 bits.\n",
    "- On voit aussi la différence quant au fait que les ensembles représentés avec des entiers natifs 32/64 bits ne peuvent stocker que des valeurs entre 0 et 31 ou 63."
   ]
  },
  {
   "cell_type": "code",
   "execution_count": 216,
   "metadata": {},
   "outputs": [],
   "source": [
    "SetWithIntInfinite = lambda: SetWithInt(int(0))"
   ]
  },
  {
   "cell_type": "code",
   "execution_count": 217,
   "metadata": {},
   "outputs": [
    {
     "name": "stdout",
     "output_type": "stream",
     "text": [
      "{}\n",
      "{0}\n",
      "{0, 1}\n",
      "{0, 1, 2}\n",
      "{0, 1, 2, 3}\n",
      "{0, 1, 2, 3, 4}\n",
      "{0, 1, 2, 3, 4, 5}\n",
      "{0, 1, 2, 3, 4, 5, 6}\n",
      "{0, 1, 2, 3, 4, 5, 6, 7}\n",
      "{0, 1, 2, 3, 4, 5, 6, 7, 8}\n",
      "{0, 1, 2, 3, 4, 5, 6, 7, 8, 9}\n",
      "S1 = {0, 1, 2, 3, 4, 5, 6, 7, 8, 9}\n",
      "{}\n",
      "{5}\n",
      "{5, 6}\n",
      "{5, 6, 7}\n",
      "{5, 6, 7, 8}\n",
      "{5, 6, 7, 8, 9}\n",
      "S2 = {5, 6, 7, 8, 9}\n",
      "{}\n",
      "{20}\n",
      "{20, 21}\n",
      "{20, 21, 22}\n",
      "{20, 21, 22, 23}\n",
      "{20, 21, 22, 23, 24}\n",
      "{20, 21, 22, 23, 24}\n",
      "{20, 21, 22, 23, 24}\n",
      "{20, 21, 22, 23, 24}\n",
      "{20, 21, 22, 23, 24}\n",
      "{20, 21, 22, 23, 24}\n",
      "S3 = {20, 21, 22, 23, 24}\n",
      "S1 union S2 = {0, 1, 2, 3, 4, 5, 6, 7, 8, 9}  = S2 union S1 = {0, 1, 2, 3, 4, 5, 6, 7, 8, 9}\n",
      "S1 union S3 = {0, 1, 2, 3, 4, 5, 6, 7, 8, 9, 20, 21, 22, 23, 24}\n",
      "S2 union S3 = {5, 6, 7, 8, 9, 20, 21, 22, 23, 24}\n",
      "S1 inter S2 = {5, 6, 7, 8, 9}  != S2 inter S1 = {5, 6, 7, 8, 9}\n",
      "S1 inter S3 = {}  != S3 inter S1 = {}\n",
      "S2 inter S3 = {}  != S3 inter S2 = {}\n",
      "S1 diff S2 = {0, 1, 2, 3, 4}  != S2 diff S1 = {}\n",
      "S1 diff S3 = {0, 1, 2, 3, 4, 5, 6, 7, 8, 9}  != S3 diff S1 = {20, 21, 22, 23, 24}\n",
      "S2 diff S3 = {5, 6, 7, 8, 9}  != S3 diff S2 = {20, 21, 22, 23, 24}\n",
      "S1 diff sym S2 = {0, 1, 2, 3, 4}  != S2 diff sym S1 = {0, 1, 2, 3, 4}\n",
      "S1 diff sym S3 = {0, 1, 2, 3, 4, 5, 6, 7, 8, 9, 20, 21, 22, 23, 24}  != S3 diff sym S1 = {0, 1, 2, 3, 4, 5, 6, 7, 8, 9, 20, 21, 22, 23, 24}\n",
      "S2 diff sym S3 = {5, 6, 7, 8, 9, 20, 21, 22, 23, 24}  != S3 diff sym S2 = {5, 6, 7, 8, 9, 20, 21, 22, 23, 24}\n"
     ]
    }
   ],
   "source": [
    "un_petit_test_avec_une_structure_densemble(SetWithIntInfinite)"
   ]
  },
  {
   "cell_type": "code",
   "execution_count": 218,
   "metadata": {},
   "outputs": [
    {
     "name": "stdout",
     "output_type": "stream",
     "text": [
      "3.52 ms ± 239 µs per loop (mean ± std. dev. of 7 runs, 100 loops each)\n"
     ]
    }
   ],
   "source": [
    "%timeit random_add_remove_test(SetWithIntInfinite, size=1000, max_value=100, min_value=0)"
   ]
  },
  {
   "cell_type": "code",
   "execution_count": 220,
   "metadata": {},
   "outputs": [
    {
     "name": "stdout",
     "output_type": "stream",
     "text": [
      "4.18 ms ± 670 µs per loop (mean ± std. dev. of 7 runs, 100 loops each)\n",
      "12.2 ms ± 748 µs per loop (mean ± std. dev. of 7 runs, 100 loops each)\n"
     ]
    }
   ],
   "source": [
    "%timeit random_add_remove_test(SetWithIntInfinite, size=1000, max_value=1000, min_value=0)\n",
    "%timeit random_add_remove_test(SetWithIntInfinite, size=1000, max_value=10000, min_value=0)"
   ]
  },
  {
   "cell_type": "code",
   "execution_count": 221,
   "metadata": {},
   "outputs": [
    {
     "name": "stdout",
     "output_type": "stream",
     "text": [
      "3.44 s ± 196 ms per loop (mean ± std. dev. of 7 runs, 1 loop each)\n",
      "5.18 s ± 828 ms per loop (mean ± std. dev. of 7 runs, 1 loop each)\n"
     ]
    }
   ],
   "source": [
    "%timeit random_add_remove_test(SetWithIntInfinite, size=1000_000, max_value=1000, min_value=0)\n",
    "%timeit random_add_remove_test(SetWithIntInfinite, size=1000_000, max_value=10000, min_value=0)"
   ]
  },
  {
   "cell_type": "markdown",
   "metadata": {},
   "source": [
    "Avec cet implémentation, on ne peut raisonnablement pas stocker des valeurs trop grandes."
   ]
  },
  {
   "cell_type": "markdown",
   "metadata": {},
   "source": [
    "----\n",
    "## Implémentation avec des tables de hachage ?\n",
    "\n",
    "### En Python : `set` ~= `dict` avec des valeurs \"inutiles\"\n",
    "L'implémentation standard des ensembles en Python, `set`, utilise en fait une implémentation très proche des `dict` de Python, avec des valeurs vides (et quelques optimisations).\n",
    "On va d'abord décrire le fonctionnement de tables de hachage simples, ne stockant que des valeurs (en fait, les clés des dictionnaires `dict`), et à la fin on expliquera rapidement comment généraliser au stockage de couples `(cle, valeur)`.\n",
    "\n",
    "### Présentation de l'idée :\n",
    "\n",
    "- On suppose que les valeurs que l'on va stocker dans l'ensemble sont dans un domaine $D$. Par exemple, $D = \\{0, \\dots, 1023\\}$.\n",
    "- On va se donner une fonction $f : D \\to \\{0, \\dots, m\\}$, qui soit simple à calculer. Par exemple, $m = 10$ et $f(x) = x \\mod 10 \\in\\{0,\\dots,9\\}$.\n",
    "- La table de hachage va consister en un premier tableau, de taille $m$, qui en position $i$ va pointer vers une autre structure d'ensemble (e.g., une structure linéaire ou même une autre table de hachage, dans le cas du hachage chaîné). Cette structure d'ensemble va servir à stocker toutes les valeurs qui ont pour image $i$ par la fonction $f$.\n",
    "\n",
    "Les opérations de base sur l'ensemble représenté par la table seront réalisées comme suit :\n",
    "\n",
    "- Lorsqu'on ajoute une valeur $v$ à la table :\n",
    "  + on calcule $j = f(v)$,\n",
    "  + on ajoute $v$ à l'ensemble en position $j$ du tableau :\n",
    "    * si c'est une liste chaînée par exemple, on créée une nouvelle liste contenant $v$ ou on ajoute $v$ à la fin de la liste chaînée,\n",
    "    * si c'est une autre table de hachage, on l'ajoute en utilisant la primitive de la table,\n",
    "    * etc\n",
    "\n",
    "- Lorsque l'on veut tester l'appartenance de $v$ à la table :\n",
    "  + on calcule $j = f(v)$ (le numéro de la cellule contenant $v$, on parle parfois aussi d'alvéole),\n",
    "  + on test si $v$ appartient à la liste / l'ensemble stocké en position $j$ du tableau.\n",
    "\n",
    "- La suppression fonctionne comme l'ajout."
   ]
  },
  {
   "cell_type": "markdown",
   "metadata": {},
   "source": [
    "### Comment stocker les plus petits ensembles ?\n",
    "- A première vue, on est face à une idée stupide : pour stocker un ensemble, on en stocke $m$…\n",
    "- Mais si la fonction de hachage est bien faite, si elle envoie les données $x \\in D$ sur les $m$ différentes valeurs uniformément (en gros si $\\forall j\\in\\{0,\\dots,m\\}, \\# \\{ x \\in D : f(x) = j\\} \\simeq \\frac{1}{m}$)\n",
    "- Les opérations de base sur les sous ensembles (les alvéoles) sont en complexités (au pire cas) linéaires dans la taille de ces sous ensembles, ce qui dépend du remplissage actuel de la table."
   ]
  },
  {
   "cell_type": "markdown",
   "metadata": {},
   "source": [
    "Par exemple, avec $m = 20$, la fonction $f(x) = x \\mod 20$ et des valeurs qui sont des entiers aléatoirement tirés (cf. [cette page de démonstration](http://people.irisa.fr/Francois.Schwarzentruber/hash_tables_demo/)) :\n",
    "\n",
    "    0   |_|  --> []\n",
    "    1   |_|  --> [98281,92581,11221]\n",
    "    2   |_|  --> [91422,84022,65742,55322,59162]\n",
    "    3   |_|  --> [64583,43563]\n",
    "    4   |_|  --> []\n",
    "    5   |_|  --> [1665,1585]\n",
    "    6   |_|  --> [80986,80446,95966,28446,74726]\n",
    "    7   |_|  --> [40867,86987,47907]\n",
    "    8   |_|  --> [86268,31908,21688,59068,50448]\n",
    "    9   |_|  --> [65989,38369,69769]\n",
    "    10  |_|  --> [8670]\n",
    "    11  |_|  --> [27211,99291]\n",
    "    12  |_|  --> [43532]\n",
    "    13  |_|  --> [55033,3873,76353]\n",
    "    14  |_|  --> [74734]\n",
    "    15  |_|  --> [36075,62495,42015,75435,26415]\n",
    "    16  |_|  --> [85336,21856,18376,46436,64516]\n",
    "    17  |_|  --> [66117,95857]\n",
    "    18  |_|  --> [76438]\n",
    "    19  |_|  --> []\n",
    "\n",
    "Par exemples : \n",
    "- Ici, chercher l'appartenance de 76438 à l'ensemble se fera en deux opérations : calculer $f(76438)=18$, puis en cherchant (en une seule opération) $76438$ dans $[76438]$.\n",
    "- Chercher $59068$ va trouver la cellule $f(59068) = 8$, qui contient 5 valeurs, et donc trouver $59068$ dans la liste $[86268,31908,21688,59068,50448]$ prend quatre opérations."
   ]
  },
  {
   "cell_type": "markdown",
   "metadata": {},
   "source": [
    "### Choix de la fonction de hachage\n",
    "- Il existe plein de fonction de hachage pour différentes utilisations.\n",
    "- Pour des entiers, on peut prendre $f(x) = x \\mod m$ et adapter $m$ en fonction des propriétés voulues par notre structure.\n",
    "  + Plus $m$ est grand, plus les opérations seront rapides mais plus on consomme de mémoire, inversement un plus petit $m$ réduit l'impact mémoire mais augmente l'impact temps.\n",
    "  + En fait, si nos entiers sont entre $0$ et $M$, on peut avoir les deux cas extrêmes suivants :\n",
    "    * la pire solution vis à vis du temps de calcul est d'utiliser $m = 1$, tous les entiers sont stockés dans la même liste. On a donc une complexité en $O(n)$ pour les opérations de base, cf. plus haut.\n",
    "    * la meilleure solution vis à vis du temps de calcul  est d'utiliser $m = M$, ie. la table de hachage est juste un vecteur de bit, où la case $j$ vaut $T[j]=[j]$ ssi $j$ est dans la table. Chaque entier est stocké dans sa propre liste, de taille vide ou de taille 1. On a donc une complexité en $O(1)$ pour les opérations de base, cf. plus haut.\n",
    "    * choisir un $m$ intermédiaire, par exemple $m = O(\\log(M))$, peut permettre de balancer entre les deux extrêmes.\n",
    "    \n",
    "- Pour des chaînes de caractères, on peut faire la somme des hachés de chaque caractères, modulo un certain nombre, ou n'importe quelle idée de ce genre.\n",
    "\n",
    "- Python utilise la fonction `hash()` :"
   ]
  },
  {
   "cell_type": "code",
   "execution_count": 142,
   "metadata": {},
   "outputs": [
    {
     "name": "stdout",
     "output_type": "stream",
     "text": [
      "Help on built-in function hash in module builtins:\n",
      "\n",
      "hash(obj, /)\n",
      "    Return the hash value for the given object.\n",
      "    \n",
      "    Two objects that compare equal must also have the same hash value, but the\n",
      "    reverse is not necessarily true.\n",
      "\n"
     ]
    }
   ],
   "source": [
    "help(hash)"
   ]
  },
  {
   "cell_type": "code",
   "execution_count": 149,
   "metadata": {},
   "outputs": [
    {
     "data": {
      "text/plain": [
       "1"
      ]
     },
     "execution_count": 149,
     "metadata": {},
     "output_type": "execute_result"
    },
    {
     "data": {
      "text/plain": [
       "1048576"
      ]
     },
     "execution_count": 149,
     "metadata": {},
     "output_type": "execute_result"
    },
    {
     "data": {
      "text/plain": [
       "-2779771970723803674"
      ]
     },
     "execution_count": 149,
     "metadata": {},
     "output_type": "execute_result"
    }
   ],
   "source": [
    "hash(1)  # les entiers suffisamment petits sont hachés sur eux même\n",
    "hash(2**2399)\n",
    "hash(\"1\")"
   ]
  },
  {
   "cell_type": "code",
   "execution_count": 145,
   "metadata": {},
   "outputs": [
    {
     "data": {
      "text/plain": [
       "1793305432752928575"
      ]
     },
     "execution_count": 145,
     "metadata": {},
     "output_type": "execute_result"
    }
   ],
   "source": [
    "hash(\"Réfléchissez à l'impact écologique de TOUS les aspects de votre vie !\")"
   ]
  },
  {
   "cell_type": "markdown",
   "metadata": {},
   "source": [
    "- Les détails d'implémentations de `hash` vont au delà de la portée de ce cours.\n",
    "- Voir [cette démonstration](http://people.irisa.fr/Francois.Schwarzentruber/hash_tables_demo/) pour des exemples de fonctions de hachage."
   ]
  },
  {
   "cell_type": "markdown",
   "metadata": {},
   "source": [
    "### Pour l'exemple ici\n",
    "- Pour l'implémentation ici, on va utiliser la fonction `f(x) = hash(x) % m`, où `taille` sera un paramètre de la table.\n",
    "- L'avantage est que l'on pourra stocker n'importe quel objet Python (enfin, n'importe quel objet hachable, cf. [cette explication](https://stackoverflow.com/questions/14535730/what-does-hashable-mean-in-python)).\n"
   ]
  },
  {
   "cell_type": "code",
   "execution_count": 222,
   "metadata": {},
   "outputs": [],
   "source": [
    "def homemadeHash(m=1024):\n",
    "    def f(x):\n",
    "        return hash(x) % m\n",
    "    return f"
   ]
  },
  {
   "cell_type": "code",
   "execution_count": 223,
   "metadata": {},
   "outputs": [],
   "source": [
    "class SetWithHashTable(SetWithNonPrimOperations):\n",
    "    \"\"\" Hash table with linked chaining: each cell uses a Python list to store the values.\"\"\"\n",
    "    sizeMax = 1024\n",
    "    \n",
    "    def __init__(self, size=sizeMax):\n",
    "        \"\"\" Create a new empty hash table.\"\"\"\n",
    "        self.size = size\n",
    "        self.hash = homemadeHash(size)\n",
    "        self.table = [ [] for _ in range(self.size) ]\n",
    "\n",
    "    def __len__(self):\n",
    "        \"\"\" Return n the current size of the set.\n",
    "        \n",
    "        - Takes O(m) time in all cases.\n",
    "        \"\"\"\n",
    "        return sum(len(cell) for cell in self.table)\n",
    "\n",
    "    def contains(self, value):\n",
    "        \"\"\" Test if value is in the set.\n",
    "        \n",
    "        - Takes O(k) for k the length of the cell containing the value.\n",
    "        \"\"\"\n",
    "        k = self.hash(value)\n",
    "        return value in self.table[k]\n",
    "    __contains__ = contains\n",
    "\n",
    "    def add(self, value):\n",
    "        \"\"\" Add value in the set if it is not present.\"\"\"\n",
    "        k = self.hash(value)\n",
    "        if value not in self.table[k]:\n",
    "            self.table[k].append(value)\n",
    "\n",
    "    def pop(self, value):\n",
    "        \"\"\" Remove value in the set if it is present.\"\"\"\n",
    "        k = self.hash(value)\n",
    "        if value in self.table[k]:\n",
    "            self.table[k].remove(value)\n",
    "    \n",
    "    def values(self):\n",
    "        \"\"\" Return a fresh list of the values of the set.\n",
    "        \n",
    "        - Takes O(n) time in worst case.\"\"\"\n",
    "        values = []\n",
    "        for cell in self.table:\n",
    "            for value in cell:\n",
    "                values.append(value)\n",
    "        return values"
   ]
  },
  {
   "cell_type": "code",
   "execution_count": 224,
   "metadata": {},
   "outputs": [
    {
     "name": "stdout",
     "output_type": "stream",
     "text": [
      "{}\n",
      "{0}\n",
      "{0, 1}\n",
      "{0, 1, 2}\n",
      "{0, 1, 2, 3}\n",
      "{0, 1, 2, 3, 4}\n",
      "{0, 1, 2, 3, 4, 5}\n",
      "{0, 1, 2, 3, 4, 5, 6}\n",
      "{0, 1, 2, 3, 4, 5, 6, 7}\n",
      "{0, 1, 2, 3, 4, 5, 6, 7, 8}\n",
      "{0, 1, 2, 3, 4, 5, 6, 7, 8, 9}\n",
      "S1 = {0, 1, 2, 3, 4, 5, 6, 7, 8, 9}\n",
      "{}\n",
      "{5}\n",
      "{5, 6}\n",
      "{5, 6, 7}\n",
      "{5, 6, 7, 8}\n",
      "{5, 6, 7, 8, 9}\n",
      "S2 = {5, 6, 7, 8, 9}\n",
      "{}\n",
      "{20}\n",
      "{20, 21}\n",
      "{20, 21, 22}\n",
      "{20, 21, 22, 23}\n",
      "{20, 21, 22, 23, 24}\n",
      "{20, 21, 22, 23, 24}\n",
      "{20, 21, 22, 23, 24}\n",
      "{20, 21, 22, 23, 24}\n",
      "{20, 21, 22, 23, 24}\n",
      "{20, 21, 22, 23, 24}\n",
      "S3 = {20, 21, 22, 23, 24}\n",
      "S1 union S2 = {0, 1, 2, 3, 4, 5, 6, 7, 8, 9}  = S2 union S1 = {0, 1, 2, 3, 4, 5, 6, 7, 8, 9}\n",
      "S1 union S3 = {0, 1, 2, 3, 4, 5, 6, 7, 8, 9, 20, 21, 22, 23, 24}\n",
      "S2 union S3 = {5, 6, 7, 8, 9, 20, 21, 22, 23, 24}\n",
      "S1 inter S2 = {5, 6, 7, 8, 9}  != S2 inter S1 = {5, 6, 7, 8, 9}\n",
      "S1 inter S3 = {}  != S3 inter S1 = {}\n",
      "S2 inter S3 = {}  != S3 inter S2 = {}\n",
      "S1 diff S2 = {0, 1, 2, 3, 4}  != S2 diff S1 = {}\n",
      "S1 diff S3 = {0, 1, 2, 3, 4, 5, 6, 7, 8, 9}  != S3 diff S1 = {20, 21, 22, 23, 24}\n",
      "S2 diff S3 = {5, 6, 7, 8, 9}  != S3 diff S2 = {20, 21, 22, 23, 24}\n",
      "S1 diff sym S2 = {0, 1, 2, 3, 4}  != S2 diff sym S1 = {0, 1, 2, 3, 4}\n",
      "S1 diff sym S3 = {0, 1, 2, 3, 4, 5, 6, 7, 8, 9, 20, 21, 22, 23, 24}  != S3 diff sym S1 = {0, 1, 2, 3, 4, 5, 6, 7, 8, 9, 20, 21, 22, 23, 24}\n",
      "S2 diff sym S3 = {5, 6, 7, 8, 9, 20, 21, 22, 23, 24}  != S3 diff sym S2 = {5, 6, 7, 8, 9, 20, 21, 22, 23, 24}\n"
     ]
    }
   ],
   "source": [
    "un_petit_test_avec_une_structure_densemble(SetWithHashTable)"
   ]
  },
  {
   "cell_type": "markdown",
   "metadata": {},
   "source": [
    "Et maintenant quelques tests :"
   ]
  },
  {
   "cell_type": "code",
   "execution_count": 225,
   "metadata": {},
   "outputs": [
    {
     "name": "stdout",
     "output_type": "stream",
     "text": [
      "164 µs ± 25.8 µs per loop (mean ± std. dev. of 7 runs, 10000 loops each)\n",
      "181 µs ± 16.4 µs per loop (mean ± std. dev. of 7 runs, 1000 loops each)\n",
      "4.11 ms ± 492 µs per loop (mean ± std. dev. of 7 runs, 100 loops each)\n",
      "435 µs ± 9.08 µs per loop (mean ± std. dev. of 7 runs, 1000 loops each)\n"
     ]
    }
   ],
   "source": [
    "%timeit random_add_remove_test(SetWithHashTable, size=10, max_value=10, min_value=0)\n",
    "%timeit random_add_remove_test(SetWithHashTable, size=10, max_value=1000, min_value=0)\n",
    "%timeit random_add_remove_test(SetWithHashTable, size=1000, max_value=10, min_value=0)\n",
    "%timeit random_add_remove_test(SetWithHashTable, size=100, max_value=100, min_value=0)"
   ]
  },
  {
   "cell_type": "code",
   "execution_count": 226,
   "metadata": {},
   "outputs": [
    {
     "name": "stdout",
     "output_type": "stream",
     "text": [
      "3.91 ms ± 114 µs per loop (mean ± std. dev. of 7 runs, 100 loops each)\n",
      "4.05 ms ± 213 µs per loop (mean ± std. dev. of 7 runs, 100 loops each)\n",
      "4.39 ms ± 393 µs per loop (mean ± std. dev. of 7 runs, 100 loops each)\n",
      "4.82 ms ± 287 µs per loop (mean ± std. dev. of 7 runs, 100 loops each)\n"
     ]
    }
   ],
   "source": [
    "%timeit random_add_remove_test(SetWithHashTable, size=1000, max_value=1000, min_value=0)\n",
    "%timeit random_add_remove_test(SetWithHashTable, size=1000, max_value=1000_000, min_value=0)\n",
    "%timeit random_add_remove_test(SetWithHashTable, size=1000, max_value=1000_000_000, min_value=0)\n",
    "%timeit random_add_remove_test(SetWithHashTable, size=1000, max_value=1000_000_000_000, min_value=0)"
   ]
  },
  {
   "cell_type": "markdown",
   "metadata": {},
   "source": [
    "La complexité (amortie) des opérations semble aussi indépendant de la taille des valeurs hachées (c'est logique, vu le modulo dans la fonction $f(x)$), et linéaire dans la taille des ensembles."
   ]
  },
  {
   "cell_type": "code",
   "execution_count": 229,
   "metadata": {},
   "outputs": [
    {
     "name": "stdout",
     "output_type": "stream",
     "text": [
      "3.57 s ± 239 ms per loop (mean ± std. dev. of 7 runs, 1 loop each)\n"
     ]
    }
   ],
   "source": [
    "%timeit random_add_remove_test(SetWithHashTable, size=1000_000, max_value=1000, min_value=0)\n",
    "#%timeit random_add_remove_test(SetWithHashTable, size=1000_000, max_value=1000_000, min_value=0)\n",
    "#%timeit random_add_remove_test(SetWithHashTable, size=1000_000, max_value=1000_000_000, min_value=0)\n",
    "#%timeit random_add_remove_test(SetWithHashTable, size=1000_000, max_value=1000_000_000_000, min_value=0)"
   ]
  },
  {
   "cell_type": "markdown",
   "metadata": {},
   "source": [
    "On montre plus bas que cette implémentation \"maison\" en pure Python est raisonnablement efficace !"
   ]
  },
  {
   "cell_type": "markdown",
   "metadata": {},
   "source": [
    "----\n",
    "## Implémentation avec des arbres binaires de recherche ?\n",
    "\n",
    "Pour plus de détails sur les arbres binaires de recherche, cf. le cours, le chapitre 12 du livre de référence \"Algorithmique\" de Cormen et al, et sur Internet.\n",
    "\n",
    "<img width=\"60%\" src=\"figures/CM2_BinarySearchTree.png\">"
   ]
  },
  {
   "cell_type": "markdown",
   "metadata": {},
   "source": [
    "### Un nœud d'un arbre binaire\n",
    "\n",
    "- Un nœud contient une clé, `key`, et éventuellement une valeur associée,\n",
    "- Ainsi que des pointeurs vers d'autres nœuds (éventuellement) : parent, fils gauche (`left`) et fils droit (`right`)."
   ]
  },
  {
   "cell_type": "code",
   "execution_count": 574,
   "metadata": {},
   "outputs": [],
   "source": [
    "class NodeTree():\n",
    "    def __init__(self, key, value=None, left=None, right=None, parent=None):\n",
    "        self.key = key\n",
    "        self.value = value\n",
    "        self.left = left\n",
    "        self.right = right\n",
    "        self.parent = parent\n",
    "    \n",
    "    def __str__(self):\n",
    "        if self.value is None:  # key is also the stored value\n",
    "            return \"{}\".format(self.key)\n",
    "        else:\n",
    "            return \"{}: {}\".format(self.key, self.value)\n",
    "\n",
    "    # --- First algorithm on this BST: compute the height ---\n",
    "    \n",
    "    def height(self):\n",
    "        \"\"\" Compute the height h of the Binary Search Tree.\n",
    "        \n",
    "        - Takes a time in O(n). Could be stored and take a time O(1) but it's useless.\"\"\"\n",
    "        h = 0\n",
    "        if self.left is not None:\n",
    "            h = max(h, 1 + self.left.height())\n",
    "        if self.right is not None:\n",
    "            h = max(h, 1 + self.right.height())\n",
    "        return h\n",
    "    \n",
    "    # --- Keys and values ---\n",
    "\n",
    "    def keys(self):\n",
    "        \"\"\" Extract the keys from the Binary Search Tree.\n",
    "        \n",
    "        - It is a generator, use list(self.keys()) to have a list.\n",
    "        - Takes a time in O(n) for n keys.\"\"\"\n",
    "        if self is not None:\n",
    "            if self.left is not None:\n",
    "                yield from self.left.keys()\n",
    "            yield self.key\n",
    "            if self.right is not None:\n",
    "                yield from self.right.keys()\n",
    "\n",
    "    def values(self):\n",
    "        \"\"\" Extract the values from the Binary Search Tree.\n",
    "        \n",
    "        - UIt is a generator, use list(self.keys()) to have a list.\n",
    "        - Takes a time in O(n) for n values.\"\"\"\n",
    "        if self is not None:\n",
    "            if self.left is not None:\n",
    "                yield from self.left.values()\n",
    "            yield self.value\n",
    "            if self.right is not None:\n",
    "                yield from self.right.values()\n",
    "    \n",
    "    # --- Search ---\n",
    "    \n",
    "    def search(self, key):\n",
    "        \"\"\" Search for the NodeTree(...) associated to the queried key. Returns None if not found.\n",
    "        \n",
    "        - Takes a time in O(h) = O(n) in worst case for n keys/values (if wrongly balanced).\"\"\"\n",
    "        if key is None or self.key is None:\n",
    "            raise KeyError\n",
    "        if self.key == key:\n",
    "            return self\n",
    "        elif key < self.key and self.left is not None:\n",
    "            return self.left.search(key)\n",
    "        elif key > self.key and self.right is not None:\n",
    "            return self.right.search(key)\n",
    "        raise KeyError\n",
    "\n",
    "    # --- Looking for minimum / successor ---\n",
    "    \n",
    "    def minimum(self):\n",
    "        \"\"\" Search for the NodeTree(...) associated to the minimum key.\n",
    "        \n",
    "        - Takes a time in O(h) = O(n) in worst case for n keys/values (if wrongly balanced).\"\"\"\n",
    "        if self.left is None:\n",
    "            return self\n",
    "        else:\n",
    "            return self.left.minimum()\n",
    "    \n",
    "    def successor(self, node):\n",
    "        \"\"\" Search for the NodeTree(...) successor of the queried node (ie. the node with smallest key >= node.key).\n",
    "        \n",
    "        - Takes a time in O(h) = O(n) in worst case for n keys/values (if wrongly balanced).\"\"\"\n",
    "        if node.right is not None:\n",
    "            return node.right.minimum()\n",
    "        x = node\n",
    "        y = x.parent\n",
    "        while y is not None and x == y.right():\n",
    "            x = y\n",
    "            y = x.parent\n",
    "        return y\n",
    "\n",
    "    # --- Looking for maximum / predecessor ---\n",
    "    \n",
    "    def maximum(self):\n",
    "        \"\"\" Search for the NodeTree(...) associated to the maximum key.\n",
    "        \n",
    "        - Takes a time in O(h) = O(n) in worst case for n keys/values (if wrongly balanced).\"\"\"\n",
    "        if self is None:\n",
    "            return self\n",
    "        else:\n",
    "            return self.right.maximum()\n",
    "    \n",
    "    def predecessor(self, node):\n",
    "        \"\"\" Search for the NodeTree(...) predecessor of the queried node (ie. the node with largest key <= node.key).\n",
    "        \n",
    "        - Takes a time in O(h) = O(n) in worst case for n keys/values (if wrongly balanced).\"\"\"\n",
    "        if node.left is not None:\n",
    "            return node.left.maximum()\n",
    "        x = node\n",
    "        y = x.parent\n",
    "        while y is not None and x == y.left():\n",
    "            x = y\n",
    "            y = x.parent\n",
    "        return y"
   ]
  },
  {
   "cell_type": "markdown",
   "metadata": {},
   "source": [
    "Les deux exemples de la figure se représentent comme ça :"
   ]
  },
  {
   "cell_type": "markdown",
   "metadata": {},
   "source": [
    "- Pour l'arbre équilibré de la figure (a) ci dessus :"
   ]
  },
  {
   "cell_type": "code",
   "execution_count": 575,
   "metadata": {},
   "outputs": [],
   "source": [
    "n_5 = NodeTree(5)\n",
    "n_3 = NodeTree(3)\n",
    "n_2 = NodeTree(2)\n",
    "n_5bis = NodeTree(5)\n",
    "n_7 = NodeTree(7)\n",
    "n_8 = NodeTree(8)\n",
    "\n",
    "n_5.left, n_5.right = n_3, n_7\n",
    "n_3.left, n_3.right = n_2, n_5bis\n",
    "n_7.right = n_8\n",
    "\n",
    "n_3.parent, n_7.parent = n_5, n_5\n",
    "n_2.parent, n_5bis.parent = n_3, n_3\n",
    "n_8.parent = n_7"
   ]
  },
  {
   "cell_type": "markdown",
   "metadata": {},
   "source": [
    "- Pour l'arbre non équilibré de la figure (b) ci dessus :"
   ]
  },
  {
   "cell_type": "code",
   "execution_count": 576,
   "metadata": {},
   "outputs": [],
   "source": [
    "n_5 = NodeTree(5)\n",
    "n_3 = NodeTree(3)\n",
    "n_2 = NodeTree(2)\n",
    "n_5bis = NodeTree(5)\n",
    "n_7 = NodeTree(7)\n",
    "n_8 = NodeTree(8)\n",
    "\n",
    "n_2.right = n_3 ; n_3.parent = n_2\n",
    "n_3.right = n_7 ; n_7.parent = n_3\n",
    "n_7.left = n_5 ; n_5.parent = n_7\n",
    "n_5.left = n_5bis ; n_5bis.parent = n_5\n",
    "n_7.right = n_8 ; n_8.parent = n_7"
   ]
  },
  {
   "cell_type": "markdown",
   "metadata": {},
   "source": [
    "### Un arbre binaire de recherche\n",
    "Et maintenant pour la classe :"
   ]
  },
  {
   "cell_type": "code",
   "execution_count": 594,
   "metadata": {
    "code_folding": []
   },
   "outputs": [],
   "source": [
    "class BinarySearchTree():\n",
    "    def __init__(self):\n",
    "        self.root = None\n",
    "        self.size = 0\n",
    "\n",
    "    # --- Looking for a (key,value) ---\n",
    "    \n",
    "    def get(self, key):\n",
    "        \"\"\" Search for the value associated to the queried key.\n",
    "        \n",
    "        - Takes a time in O(h) = O(n) in worst case for n keys/values (if wrongly balanced).\"\"\"\n",
    "        if self.root is None:\n",
    "            raise KeyError\n",
    "        node = self.root.search(key)\n",
    "        if node is not None:\n",
    "            return node.value\n",
    "        raise KeyError\n",
    "\n",
    "    def contains(self, value):\n",
    "        \"\"\" Test if value is in the set.\n",
    "        \n",
    "        - Takes O(h) for h the height of the BST.\n",
    "        \"\"\"\n",
    "        try:\n",
    "            _ = self.get(value)\n",
    "            return True\n",
    "        except KeyError:\n",
    "            return False\n",
    "    __contains__ = contains\n",
    "\n",
    "    # --- Looking for minimum / successor ---\n",
    "    \n",
    "    def minimum(self):\n",
    "        \"\"\" Search for the NodeTree(...) associated to the minimum key.\n",
    "        \n",
    "        - Takes a time in O(h) = O(n) in worst case for n keys/values (if wrongly balanced).\"\"\"\n",
    "        if self.root is not None:\n",
    "            return self.root.minimum()\n",
    "        raise KeyError\n",
    "    \n",
    "    def successor(self, node):\n",
    "        \"\"\" Search for the NodeTree(...) successor of the queried node (ie. the node with smallest key >= node.key).\n",
    "        \n",
    "        - Takes a time in O(h) = O(n) in worst case for n keys/values (if wrongly balanced).\"\"\"\n",
    "        if self.root is not None:\n",
    "            return self.root.successor(node)\n",
    "        raise KeyError\n",
    "\n",
    "    # --- Looking for maximum / predecessor ---\n",
    "    \n",
    "    def maximum(self):\n",
    "        \"\"\" Search for the NodeTree(...) associated to the maximum key.\n",
    "        \n",
    "        - Takes a time in O(h) = O(n) in worst case for n keys/values (if wrongly balanced).\"\"\"\n",
    "        if self.root is not None:\n",
    "            return self.root.maximum()\n",
    "        raise KeyError\n",
    "    \n",
    "    def predecessor(self, node):\n",
    "        \"\"\" Search for the NodeTree(...) predecessor of the queried node (ie. the node with largest key <= node.key).\n",
    "        \n",
    "        - Takes a time in O(h) = O(n) in worst case for n keys/values (if wrongly balanced).\"\"\"\n",
    "        if self.root is not None:\n",
    "            return self.root.predecessor(node)\n",
    "        raise KeyError\n",
    "\n",
    "    # --- Insertion ---\n",
    "    \n",
    "    def insert(self, key, value=None):\n",
    "        \"\"\" Insert a new key (or (key, value)) in the BST.\n",
    "        \n",
    "        - Takes a time in O(h) = O(n) in worst case for n keys/values (if wrongly balanced).\"\"\"\n",
    "        if key in self:\n",
    "            value_mapped = self.get(key)\n",
    "            if value == value_mapped:\n",
    "                return  # nothing to do, the pair (key, value) is already in the set!\n",
    "        self.size += 1\n",
    "        z = NodeTree(key, value=value)\n",
    "        y = None\n",
    "        x = self.root\n",
    "        while x is not None:\n",
    "            y = x\n",
    "            if z.key < x.key:\n",
    "                x = x.left\n",
    "            else:\n",
    "                x = x.right\n",
    "        z.parent = y\n",
    "        if y is None:  # the tree was empty!\n",
    "            self.root = z\n",
    "        elif z.key < y.key:\n",
    "            y.left = z\n",
    "        else:\n",
    "            y.right = z\n",
    "\n",
    "    # --- Supression/deletion: it is harder! ---\n",
    "    \n",
    "    def delete(self, key):\n",
    "        \"\"\" Delete the key in the BST.\n",
    "        \n",
    "        - Takes a time in O(h) = O(n) in worst case for n keys/values (if wrongly balanced).\"\"\"\n",
    "\n",
    "        if self.root is None:\n",
    "            raise KeyError\n",
    "        node_to_delete = self.root.search(key)\n",
    "        if node_to_delete is None:\n",
    "            raise KeyError\n",
    "\n",
    "        self.size -= 1\n",
    "        z = node_to_delete\n",
    "\n",
    "        # ligne 1-3 Cormen [Arbre-Supprimer]\n",
    "        if z.left is None or z.right is None:\n",
    "            y = z\n",
    "        else:\n",
    "            y = self.successor(z)\n",
    "        # ligne 4-6 Cormen [Arbre-Supprimer]\n",
    "        if y.left is not None:\n",
    "            x = y.left\n",
    "        else:\n",
    "            x = y.right\n",
    "        # ligne 7-8 Cormen [Arbre-Supprimer]\n",
    "        if x is not None:\n",
    "            x.parent = y.parent        \n",
    "        # ligne 9-13 Cormen [Arbre-Supprimer]\n",
    "        if y.parent is None:\n",
    "            self.root = x\n",
    "        elif y == y.parent.left:\n",
    "            y.parent.left = x\n",
    "        else:\n",
    "            y.parent.right = x\n",
    "        # ligne 14-16 Cormen [Arbre-Supprimer]\n",
    "        if y != z:\n",
    "            z.key, z.value = y.key, y.value\n",
    "        return y\n",
    "    \n",
    "    # --- Keys and values ---\n",
    "\n",
    "    def keys(self):\n",
    "        \"\"\" Extract the keys from the Binary Search Tree.\n",
    "        \n",
    "        - Takes a time in O(n) for n keys.\"\"\"\n",
    "        if self.root is not None:\n",
    "            return list(self.root.keys())\n",
    "        return []\n",
    "\n",
    "    def values(self):\n",
    "        \"\"\" Extract the values from the Binary Search Tree.\n",
    "        \n",
    "        - Takes a time in O(n) for n values.\"\"\"\n",
    "        if self.root is not None:\n",
    "            return list(self.root.values())\n",
    "        return []\n",
    "    \n",
    "    # --- Length, height ---\n",
    "    \n",
    "    def __len__(self):\n",
    "        return self.size\n",
    "\n",
    "    def height(self):\n",
    "        if self.root is not None:\n",
    "            return self.root.height()\n",
    "        else:\n",
    "            return -1\n",
    "\n",
    "    # --- Draw the graph ---\n",
    "    \n",
    "    def to_nxgraph(self):\n",
    "        G = nx.DiGraph()\n",
    "        def go_down(node):\n",
    "            if node.left is not None:\n",
    "                G.add_node(node.left)\n",
    "                G.add_edge(node, node.left)\n",
    "                go_down(node.left)\n",
    "            if node.right is not None:\n",
    "                G.add_node(node.right)\n",
    "                G.add_edge(node, node.right)\n",
    "                go_down(node.right)\n",
    "        if self.root is not None:\n",
    "            G.add_node(self.root)\n",
    "            go_down(self.root)\n",
    "        return G\n",
    "    \n",
    "    def plot(self):\n",
    "        G = self.to_nxgraph()\n",
    "        pos = nx.drawing.nx_agraph.graphviz_layout(G, prog='dot')\n",
    "        return nx.draw(G, pos, with_labels=True)"
   ]
  },
  {
   "cell_type": "markdown",
   "metadata": {},
   "source": [
    "Dessiner l'ABR est facile, avec la bibliothèque [NetworkX](https://networkx.github.io/)."
   ]
  },
  {
   "cell_type": "code",
   "execution_count": 595,
   "metadata": {},
   "outputs": [],
   "source": [
    "import matplotlib.pyplot as plt\n",
    "import networkx as nx    "
   ]
  },
  {
   "cell_type": "markdown",
   "metadata": {},
   "source": [
    "Quelques exemples et quelques tests :"
   ]
  },
  {
   "cell_type": "code",
   "execution_count": 596,
   "metadata": {},
   "outputs": [],
   "source": [
    "keys = list(range(10))\n",
    "values = [ \"V{}\".format(key) for key in keys ]"
   ]
  },
  {
   "cell_type": "code",
   "execution_count": 597,
   "metadata": {},
   "outputs": [
    {
     "name": "stdout",
     "output_type": "stream",
     "text": [
      "Clés de l'ABR = [] Valeurs de l'ABR = [] Hauteur de l'ABR = -1 Taille de l'ABR = 0\n",
      "Clés de l'ABR = [0] Valeurs de l'ABR = ['V0'] Hauteur de l'ABR = 0 Taille de l'ABR = 1\n",
      "Clés de l'ABR = [0, 1] Valeurs de l'ABR = ['V0', 'V1'] Hauteur de l'ABR = 1 Taille de l'ABR = 2\n",
      "Clés de l'ABR = [0, 1, 2] Valeurs de l'ABR = ['V0', 'V1', 'V2'] Hauteur de l'ABR = 2 Taille de l'ABR = 3\n",
      "Clés de l'ABR = [0, 1, 2, 3] Valeurs de l'ABR = ['V0', 'V1', 'V2', 'V3'] Hauteur de l'ABR = 3 Taille de l'ABR = 4\n",
      "Clés de l'ABR = [0, 1, 2, 3, 4] Valeurs de l'ABR = ['V0', 'V1', 'V2', 'V3', 'V4'] Hauteur de l'ABR = 4 Taille de l'ABR = 5\n",
      "Clés de l'ABR = [0, 1, 2, 3, 4, 5] Valeurs de l'ABR = ['V0', 'V1', 'V2', 'V3', 'V4', 'V5'] Hauteur de l'ABR = 5 Taille de l'ABR = 6\n",
      "Clés de l'ABR = [0, 1, 2, 3, 4, 5, 6] Valeurs de l'ABR = ['V0', 'V1', 'V2', 'V3', 'V4', 'V5', 'V6'] Hauteur de l'ABR = 6 Taille de l'ABR = 7\n",
      "Clés de l'ABR = [0, 1, 2, 3, 4, 5, 6, 7] Valeurs de l'ABR = ['V0', 'V1', 'V2', 'V3', 'V4', 'V5', 'V6', 'V7'] Hauteur de l'ABR = 7 Taille de l'ABR = 8\n",
      "Clés de l'ABR = [0, 1, 2, 3, 4, 5, 6, 7, 8] Valeurs de l'ABR = ['V0', 'V1', 'V2', 'V3', 'V4', 'V5', 'V6', 'V7', 'V8'] Hauteur de l'ABR = 8 Taille de l'ABR = 9\n",
      "Clés de l'ABR = [0, 1, 2, 3, 4, 5, 6, 7, 8, 9] Valeurs de l'ABR = ['V0', 'V1', 'V2', 'V3', 'V4', 'V5', 'V6', 'V7', 'V8', 'V9'] Hauteur de l'ABR = 9 Taille de l'ABR = 10\n"
     ]
    }
   ],
   "source": [
    "BST = BinarySearchTree()\n",
    "\n",
    "for (k, v) in zip(keys, values):\n",
    "    print(\"Clés de l'ABR =\", list(BST.keys()), \"Valeurs de l'ABR =\", list(BST.values()), \"Hauteur de l'ABR =\", BST.height(), \"Taille de l'ABR =\", BST.size)\n",
    "    BST.insert(k, v)\n",
    "\n",
    "print(\"Clés de l'ABR =\", list(BST.keys()), \"Valeurs de l'ABR =\", list(BST.values()), \"Hauteur de l'ABR =\", BST.height(), \"Taille de l'ABR =\", BST.size)"
   ]
  },
  {
   "cell_type": "code",
   "execution_count": 598,
   "metadata": {},
   "outputs": [
    {
     "name": "stderr",
     "output_type": "stream",
     "text": [
      "/usr/local/lib/python3.6/dist-packages/networkx/drawing/nx_pylab.py:563: MatplotlibDeprecationWarning: \n",
      "The iterable function was deprecated in Matplotlib 3.1 and will be removed in 3.3. Use np.iterable instead.\n",
      "  if not cb.iterable(width):\n",
      "/usr/local/lib/python3.6/dist-packages/networkx/drawing/nx_pylab.py:660: MatplotlibDeprecationWarning: \n",
      "The iterable function was deprecated in Matplotlib 3.1 and will be removed in 3.3. Use np.iterable instead.\n",
      "  if cb.iterable(node_size):  # many node sizes\n"
     ]
    },
    {
     "data": {
      "image/png": "[encoded data removed]",
      "text/plain": [
       "<Figure size 432x288 with 1 Axes>"
      ]
     },
     "metadata": {},
     "output_type": "display_data"
    }
   ],
   "source": [
    "BST.plot()"
   ]
  },
  {
   "cell_type": "markdown",
   "metadata": {},
   "source": [
    "Maintenant si l'ordre d'insertion des clés n'est plus monotone, on va éviter d'avoir un arbre binaire réduit à une chaîne."
   ]
  },
  {
   "cell_type": "code",
   "execution_count": 599,
   "metadata": {},
   "outputs": [
    {
     "name": "stdout",
     "output_type": "stream",
     "text": [
      "Clés et valeurs = [(2, 'V2'), (8, 'V8'), (3, 'V3'), (5, 'V5'), (6, 'V6'), (4, 'V4'), (9, 'V9'), (0, 'V0'), (1, 'V1'), (7, 'V7')]\n",
      "Clés de l'ABR = [2] Valeurs de l'ABR = ['V2'] Hauteur de l'ABR = 0 Taille de l'ABR = 1\n",
      "Clés de l'ABR = [2, 8] Valeurs de l'ABR = ['V2', 'V8'] Hauteur de l'ABR = 1 Taille de l'ABR = 2\n",
      "Clés de l'ABR = [2, 3, 8] Valeurs de l'ABR = ['V2', 'V3', 'V8'] Hauteur de l'ABR = 2 Taille de l'ABR = 3\n",
      "Clés de l'ABR = [2, 3, 5, 8] Valeurs de l'ABR = ['V2', 'V3', 'V5', 'V8'] Hauteur de l'ABR = 3 Taille de l'ABR = 4\n",
      "Clés de l'ABR = [2, 3, 5, 6, 8] Valeurs de l'ABR = ['V2', 'V3', 'V5', 'V6', 'V8'] Hauteur de l'ABR = 4 Taille de l'ABR = 5\n",
      "Clés de l'ABR = [2, 3, 4, 5, 6, 8] Valeurs de l'ABR = ['V2', 'V3', 'V4', 'V5', 'V6', 'V8'] Hauteur de l'ABR = 4 Taille de l'ABR = 6\n",
      "Clés de l'ABR = [2, 3, 4, 5, 6, 8, 9] Valeurs de l'ABR = ['V2', 'V3', 'V4', 'V5', 'V6', 'V8', 'V9'] Hauteur de l'ABR = 4 Taille de l'ABR = 7\n",
      "Clés de l'ABR = [0, 2, 3, 4, 5, 6, 8, 9] Valeurs de l'ABR = ['V0', 'V2', 'V3', 'V4', 'V5', 'V6', 'V8', 'V9'] Hauteur de l'ABR = 4 Taille de l'ABR = 8\n",
      "Clés de l'ABR = [0, 1, 2, 3, 4, 5, 6, 8, 9] Valeurs de l'ABR = ['V0', 'V1', 'V2', 'V3', 'V4', 'V5', 'V6', 'V8', 'V9'] Hauteur de l'ABR = 4 Taille de l'ABR = 9\n",
      "Clés de l'ABR = [0, 1, 2, 3, 4, 5, 6, 7, 8, 9] Valeurs de l'ABR = ['V0', 'V1', 'V2', 'V3', 'V4', 'V5', 'V6', 'V7', 'V8', 'V9'] Hauteur de l'ABR = 5 Taille de l'ABR = 10\n",
      "Valeur associée à 0 = V0\n",
      "Valeur associée à 1 = V1\n",
      "Valeur associée à 2 = V2\n",
      "Valeur associée à 3 = V3\n",
      "Valeur associée à 4 = V4\n",
      "Valeur associée à 5 = V5\n",
      "Valeur associée à 6 = V6\n",
      "Valeur associée à 7 = V7\n",
      "Valeur associée à 8 = V8\n",
      "Valeur associée à 9 = V9\n"
     ]
    }
   ],
   "source": [
    "BST = BinarySearchTree()\n",
    "\n",
    "keys_values = list(zip(keys, values))\n",
    "\n",
    "import random\n",
    "random.seed(1234)\n",
    "random.shuffle(keys_values)\n",
    "print(\"Clés et valeurs =\", keys_values)\n",
    "\n",
    "for (k, v) in keys_values:\n",
    "    BST.insert(k, v)\n",
    "    print(\"Clés de l'ABR =\", list(BST.keys()), \"Valeurs de l'ABR =\", list(BST.values()), \"Hauteur de l'ABR =\", BST.height(), \"Taille de l'ABR =\", BST.size)\n",
    "\n",
    "for k in keys:\n",
    "    print(\"Valeur associée à\", k, \"=\", BST.get(k))"
   ]
  },
  {
   "cell_type": "code",
   "execution_count": 600,
   "metadata": {},
   "outputs": [
    {
     "data": {
      "image/png": "[encoded data removed]",
      "text/plain": [
       "<Figure size 432x288 with 1 Axes>"
      ]
     },
     "metadata": {},
     "output_type": "display_data"
    }
   ],
   "source": [
    "BST.plot()"
   ]
  },
  {
   "cell_type": "markdown",
   "metadata": {},
   "source": [
    "On voit ici que si on insert les clés dans un ordre \"aléatoire\" (ie. un ordre qui a peu de chance de donner un cas trop dégénéré), l'arbre binaire ne sera *pas* réduit à une chaîne et il aura une hauteur bien plus faible que sa taille."
   ]
  },
  {
   "cell_type": "markdown",
   "metadata": {},
   "source": [
    "### Ensemble avec un Arbre Binaire de Recherche\n",
    "\n",
    "C'est très simple, on va stocker les valeurs de l'ensemble dans les clés de l'ABR et on utilise des valeurs vides.\n",
    "\n",
    "L'objectif est d'avoir une complexité en $\\mathcal{O}(\\log(n))$ pour l'ajout, l'appartenance et le retrait de valeurs, si les valeurs ajoutées sont insérées dans un ordre aléatoire.\n",
    "Comme pour la table de hachage, la complexité au pire des cas restera linéaire en $\\Omega(n)$ (si on construit un ABR réduit à une chaîne linéaire, comme l'exemple plus haut)."
   ]
  },
  {
   "cell_type": "code",
   "execution_count": 601,
   "metadata": {},
   "outputs": [],
   "source": [
    "class SetWithBinarySearchTree(BinarySearchTree, SetWithNonPrimOperations):\n",
    "    \"\"\" A set storing its values in a Binary Search Tree.\"\"\"\n",
    "    \n",
    "    def values(self):  # hack: we only use keys as values\n",
    "        return self.keys()\n",
    "\n",
    "    def add(self, value):\n",
    "        \"\"\" Add value in the set if it is not present.\"\"\"\n",
    "        key, value = value, None\n",
    "        return self.insert(key, value=value)\n",
    "\n",
    "    def pop(self, value):\n",
    "        \"\"\" Remove value in the set if it is present.\"\"\"\n",
    "        return self.delete(value)"
   ]
  },
  {
   "cell_type": "markdown",
   "metadata": {},
   "source": [
    "Et pour la dernière structure implémentée ici, on teste :"
   ]
  },
  {
   "cell_type": "code",
   "execution_count": 602,
   "metadata": {},
   "outputs": [
    {
     "name": "stdout",
     "output_type": "stream",
     "text": [
      "{}\n",
      "{0}\n",
      "{0, 1}\n",
      "{0, 1, 2}\n",
      "{0, 1, 2, 3}\n",
      "{0, 1, 2, 3, 4}\n",
      "{0, 1, 2, 3, 4, 5}\n",
      "{0, 1, 2, 3, 4, 5, 6}\n",
      "{0, 1, 2, 3, 4, 5, 6, 7}\n",
      "{0, 1, 2, 3, 4, 5, 6, 7, 8}\n",
      "{0, 1, 2, 3, 4, 5, 6, 7, 8, 9}\n",
      "S1 = {0, 1, 2, 3, 4, 5, 6, 7, 8, 9}\n",
      "{}\n",
      "{5}\n",
      "{5, 6}\n",
      "{5, 6, 7}\n",
      "{5, 6, 7, 8}\n",
      "{5, 6, 7, 8, 9}\n",
      "S2 = {5, 6, 7, 8, 9}\n",
      "{}\n",
      "{20}\n",
      "{20, 21}\n",
      "{20, 21, 22}\n",
      "{20, 21, 22, 23}\n",
      "{20, 21, 22, 23, 24}\n",
      "{20, 21, 22, 23, 24}\n",
      "{20, 21, 22, 23, 24}\n",
      "{20, 21, 22, 23, 24}\n",
      "{20, 21, 22, 23, 24}\n",
      "{20, 21, 22, 23, 24}\n",
      "S3 = {20, 21, 22, 23, 24}\n",
      "S1 union S2 = {0, 1, 2, 3, 4, 5, 6, 7, 8, 9}  = S2 union S1 = {0, 1, 2, 3, 4, 5, 6, 7, 8, 9}\n",
      "S1 union S3 = {0, 1, 2, 3, 4, 5, 6, 7, 8, 9, 20, 21, 22, 23, 24}\n",
      "S2 union S3 = {5, 6, 7, 8, 9, 20, 21, 22, 23, 24}\n",
      "S1 inter S2 = {5, 6, 7, 8, 9}  != S2 inter S1 = {5, 6, 7, 8, 9}\n",
      "S1 inter S3 = {}  != S3 inter S1 = {}\n",
      "S2 inter S3 = {}  != S3 inter S2 = {}\n",
      "S1 diff S2 = {0, 1, 2, 3, 4}  != S2 diff S1 = {}\n",
      "S1 diff S3 = {0, 1, 2, 3, 4, 5, 6, 7, 8, 9}  != S3 diff S1 = {20, 21, 22, 23, 24}\n",
      "S2 diff S3 = {5, 6, 7, 8, 9}  != S3 diff S2 = {20, 21, 22, 23, 24}\n",
      "S1 diff sym S2 = {0, 1, 2, 3, 4}  != S2 diff sym S1 = {0, 1, 2, 3, 4}\n",
      "S1 diff sym S3 = {0, 1, 2, 3, 4, 5, 6, 7, 8, 9, 20, 21, 22, 23, 24}  != S3 diff sym S1 = {0, 1, 2, 3, 4, 5, 6, 7, 8, 9, 20, 21, 22, 23, 24}\n",
      "S2 diff sym S3 = {5, 6, 7, 8, 9, 20, 21, 22, 23, 24}  != S3 diff sym S2 = {5, 6, 7, 8, 9, 20, 21, 22, 23, 24}\n"
     ]
    }
   ],
   "source": [
    "un_petit_test_avec_une_structure_densemble(SetWithBinarySearchTree)"
   ]
  },
  {
   "cell_type": "markdown",
   "metadata": {},
   "source": [
    "Et maintenant quelques tests :"
   ]
  },
  {
   "cell_type": "code",
   "execution_count": 586,
   "metadata": {},
   "outputs": [
    {
     "name": "stdout",
     "output_type": "stream",
     "text": [
      "124 µs ± 31.8 µs per loop (mean ± std. dev. of 7 runs, 10000 loops each)\n",
      "157 µs ± 38.1 µs per loop (mean ± std. dev. of 7 runs, 10000 loops each)\n",
      "12.2 ms ± 2.16 ms per loop (mean ± std. dev. of 7 runs, 100 loops each)\n",
      "2.09 ms ± 392 µs per loop (mean ± std. dev. of 7 runs, 1000 loops each)\n"
     ]
    }
   ],
   "source": [
    "%timeit random_add_remove_test(SetWithBinarySearchTree, size=10, max_value=10, min_value=0)\n",
    "%timeit random_add_remove_test(SetWithBinarySearchTree, size=10, max_value=1000, min_value=0)\n",
    "%timeit random_add_remove_test(SetWithBinarySearchTree, size=1000, max_value=10, min_value=0)\n",
    "%timeit random_add_remove_test(SetWithBinarySearchTree, size=100, max_value=100, min_value=0)"
   ]
  },
  {
   "cell_type": "code",
   "execution_count": 587,
   "metadata": {},
   "outputs": [
    {
     "name": "stdout",
     "output_type": "stream",
     "text": [
      "2.54 ms ± 470 µs per loop (mean ± std. dev. of 7 runs, 100 loops each)\n",
      "30.9 ms ± 3.89 ms per loop (mean ± std. dev. of 7 runs, 10 loops each)\n",
      "381 ms ± 14.4 ms per loop (mean ± std. dev. of 7 runs, 1 loop each)\n",
      "4.99 s ± 316 ms per loop (mean ± std. dev. of 7 runs, 1 loop each)\n"
     ]
    }
   ],
   "source": [
    "%timeit random_add_remove_test(SetWithBinarySearchTree, size=100, max_value=1000_000, min_value=-1000_000)\n",
    "%timeit random_add_remove_test(SetWithBinarySearchTree, size=1000, max_value=1000_000, min_value=-1000_000)\n",
    "%timeit random_add_remove_test(SetWithBinarySearchTree, size=10000, max_value=1000_000, min_value=-1000_000)\n",
    "%timeit random_add_remove_test(SetWithBinarySearchTree, size=100000, max_value=1000_000, min_value=-1000_000)"
   ]
  },
  {
   "cell_type": "markdown",
   "metadata": {},
   "source": [
    "## Comparaison des différentes implémentations"
   ]
  },
  {
   "cell_type": "code",
   "execution_count": 589,
   "metadata": {},
   "outputs": [
    {
     "name": "stdout",
     "output_type": "stream",
     "text": [
      "\n",
      "- Pour la classe <class '__main__.NativeSet'>\n",
      "2.3 ms ± 148 µs per loop (mean ± std. dev. of 7 runs, 100 loops each)\n",
      "\n",
      "- Pour la classe <class '__main__.SetWithList'>\n",
      "84.6 ms ± 16.5 ms per loop (mean ± std. dev. of 7 runs, 10 loops each)\n",
      "\n",
      "- Pour la classe <class '__main__.SetWithInt'>\n",
      "31 s ± 1.23 s per loop (mean ± std. dev. of 7 runs, 1 loop each)\n",
      "\n",
      "- Pour la classe <class '__main__.SetWithHashTable'>\n",
      "9.26 ms ± 1.19 ms per loop (mean ± std. dev. of 7 runs, 100 loops each)\n",
      "\n",
      "- Pour la classe <class '__main__.SetWithBinarySearchTree'>\n",
      "70.4 ms ± 8.82 ms per loop (mean ± std. dev. of 7 runs, 10 loops each)\n"
     ]
    }
   ],
   "source": [
    "print(\"\\n- Pour la classe\", NativeSet)\n",
    "%timeit random_add_remove_test(NativeSet, size=1000, max_value=1000_000, min_value=0)\n",
    "print(\"\\n- Pour la classe\", SetWithList)\n",
    "%timeit random_add_remove_test(SetWithList, size=1000, max_value=1000_000, min_value=0)\n",
    "print(\"\\n- Pour la classe\", SetWithInt)\n",
    "%timeit random_add_remove_test(SetWithInt, size=1000, max_value=1000_000, min_value=0)\n",
    "print(\"\\n- Pour la classe\", SetWithHashTable)\n",
    "%timeit random_add_remove_test(SetWithHashTable, size=1000, max_value=1000_000, min_value=0)\n",
    "print(\"\\n- Pour la classe\", SetWithBinarySearchTree)\n",
    "%timeit random_add_remove_test(SetWithBinarySearchTree, size=1000, max_value=1000_000, min_value=0)\n"
   ]
  },
  {
   "cell_type": "code",
   "execution_count": 590,
   "metadata": {},
   "outputs": [
    {
     "name": "stdout",
     "output_type": "stream",
     "text": [
      "\n",
      "- Pour la classe <class '__main__.NativeSet'>\n",
      "25.6 ms ± 2.09 ms per loop (mean ± std. dev. of 7 runs, 10 loops each)\n",
      "\n",
      "- Pour la classe <class '__main__.SetWithList'>\n",
      "7.95 s ± 801 ms per loop (mean ± std. dev. of 7 runs, 1 loop each)\n",
      "\n",
      "- Pour la classe <class '__main__.SetWithHashTable'>\n",
      "45.5 ms ± 1.26 ms per loop (mean ± std. dev. of 7 runs, 10 loops each)\n",
      "\n",
      "- Pour la classe <class '__main__.SetWithBinarySearchTree'>\n",
      "352 ms ± 9.9 ms per loop (mean ± std. dev. of 7 runs, 1 loop each)\n"
     ]
    }
   ],
   "source": [
    "print(\"\\n- Pour la classe\", NativeSet)\n",
    "%timeit random_add_remove_test(NativeSet, size=10_000, max_value=1000_000, min_value=0)\n",
    "print(\"\\n- Pour la classe\", SetWithList)\n",
    "%timeit random_add_remove_test(SetWithList, size=10_000, max_value=1000_000, min_value=0)\n",
    "print(\"\\n- Pour la classe\", SetWithHashTable)\n",
    "%timeit random_add_remove_test(SetWithHashTable, size=10_000, max_value=1000_000, min_value=0)\n",
    "print(\"\\n- Pour la classe\", SetWithBinarySearchTree)\n",
    "%timeit random_add_remove_test(SetWithBinarySearchTree, size=10_000, max_value=1000_000, min_value=0)"
   ]
  },
  {
   "cell_type": "code",
   "execution_count": 592,
   "metadata": {},
   "outputs": [
    {
     "name": "stdout",
     "output_type": "stream",
     "text": [
      "\n",
      "- Pour la classe <class '__main__.NativeSet'>\n",
      "57.7 ms ± 13.8 ms per loop (mean ± std. dev. of 7 runs, 10 loops each)\n",
      "\n",
      "- Pour la classe <class '__main__.SetWithList'>\n",
      "29.9 s ± 2.47 s per loop (mean ± std. dev. of 7 runs, 1 loop each)\n",
      "\n",
      "- Pour la classe <class '__main__.SetWithHashTable'>\n",
      "96.6 ms ± 2.47 ms per loop (mean ± std. dev. of 7 runs, 10 loops each)\n",
      "\n",
      "- Pour la classe <class '__main__.SetWithBinarySearchTree'>\n",
      "752 ms ± 24.2 ms per loop (mean ± std. dev. of 7 runs, 1 loop each)\n"
     ]
    }
   ],
   "source": [
    "print(\"\\n- Pour la classe\", NativeSet)\n",
    "%timeit random_add_remove_test(NativeSet, size=20_000, max_value=1000_000, min_value=0)\n",
    "print(\"\\n- Pour la classe\", SetWithList)\n",
    "%timeit random_add_remove_test(SetWithList, size=20_000, max_value=1000_000, min_value=0)\n",
    "print(\"\\n- Pour la classe\", SetWithHashTable)\n",
    "%timeit random_add_remove_test(SetWithHashTable, size=20_000, max_value=1000_000, min_value=0)\n",
    "print(\"\\n- Pour la classe\", SetWithBinarySearchTree)\n",
    "%timeit random_add_remove_test(SetWithBinarySearchTree, size=20_000, max_value=1000_000, min_value=0)"
   ]
  },
  {
   "cell_type": "code",
   "execution_count": 593,
   "metadata": {},
   "outputs": [
    {
     "name": "stdout",
     "output_type": "stream",
     "text": [
      "\n",
      "- Pour la classe <class '__main__.NativeSet'>\n",
      "118 ms ± 5.9 ms per loop (mean ± std. dev. of 7 runs, 10 loops each)\n",
      "\n",
      "- Pour la classe <class '__main__.SetWithList'>\n",
      "2min ± 18.3 s per loop (mean ± std. dev. of 7 runs, 1 loop each)\n",
      "\n",
      "- Pour la classe <class '__main__.SetWithHashTable'>\n",
      "216 ms ± 4.14 ms per loop (mean ± std. dev. of 7 runs, 1 loop each)\n",
      "\n",
      "- Pour la classe <class '__main__.SetWithBinarySearchTree'>\n",
      "1.61 s ± 81.3 ms per loop (mean ± std. dev. of 7 runs, 1 loop each)\n"
     ]
    }
   ],
   "source": [
    "print(\"\\n- Pour la classe\", NativeSet)\n",
    "%timeit random_add_remove_test(NativeSet, size=40_000, max_value=1000_000, min_value=0)\n",
    "print(\"\\n- Pour la classe\", SetWithList)\n",
    "%timeit random_add_remove_test(SetWithList, size=40_000, max_value=1000_000, min_value=0)\n",
    "print(\"\\n- Pour la classe\", SetWithHashTable)\n",
    "%timeit random_add_remove_test(SetWithHashTable, size=40_000, max_value=1000_000, min_value=0)\n",
    "print(\"\\n- Pour la classe\", SetWithBinarySearchTree)\n",
    "%timeit random_add_remove_test(SetWithBinarySearchTree, size=40_000, max_value=1000_000, min_value=0)"
   ]
  },
  {
   "cell_type": "markdown",
   "metadata": {},
   "source": [
    "On voit que notre implémentation \"maison\" avec des tables de hachage est quasiment aussi efficace que l'implémentation native (en C !) de Python avec la classe `set` (qui utilise aussi une table de hachage, mais écrite en C !)."
   ]
  },
  {
   "cell_type": "markdown",
   "metadata": {},
   "source": [
    "## Conclusion\n",
    "\n",
    "C'est bon pour aujourd'hui !"
   ]
  }
 ],
 "metadata": {
  "kernelspec": {
   "display_name": "Python 3",
   "language": "python",
   "name": "python3"
  },
  "language_info": {
   "codemirror_mode": {
    "name": "ipython",
    "version": 3
   },
   "file_extension": ".py",
   "mimetype": "text/x-python",
   "name": "python",
   "nbconvert_exporter": "python",
   "pygments_lexer": "ipython3",
   "version": "3.6.8"
  },
  "toc": {
   "colors": {
    "hover_highlight": "#DAA520",
    "running_highlight": "#FF0000",
    "selected_highlight": "#FFD700"
   },
   "moveMenuLeft": true,
   "nav_menu": {
    "height": "356.867px",
    "width": "251.333px"
   },
   "navigate_menu": true,
   "number_sections": true,
   "sideBar": false,
   "threshold": 4,
   "toc_cell": true,
   "toc_position": {
    "height": "368.717px",
    "left": "1639.25px",
    "right": "20px",
    "top": "120px",
    "width": "251.25px"
   },
   "toc_section_display": "block",
   "toc_window_display": false
  },
  "varInspector": {
   "cols": {
    "lenName": 16,
    "lenType": 16,
    "lenVar": 40
   },
   "kernels_config": {
    "python": {
     "delete_cmd_postfix": "",
     "delete_cmd_prefix": "del ",
     "library": "var_list.py",
     "varRefreshCmd": "print(var_dic_list())"
    },
    "r": {
     "delete_cmd_postfix": ") ",
     "delete_cmd_prefix": "rm(",
     "library": "var_list.r",
     "varRefreshCmd": "cat(var_dic_list()) "
    }
   },
   "position": {
    "height": "247.85px",
    "left": "829.5px",
    "right": "20px",
    "top": "307px",
    "width": "470.5px"
   },
   "types_to_exclude": [
    "module",
    "function",
    "builtin_function_or_method",
    "instance",
    "_Feature"
   ],
   "window_display": false
  },
  "widgets": {
   "application/vnd.jupyter.widget-state+json": {
    "state": {
     "038a808e883447f29c7d1ac0b392a0d3": {
      "model_module": "@jupyter-widgets/controls",
      "model_module_version": "1.4.0",
      "model_name": "HBoxModel",
      "state": {
       "children": [
        "IPY_MODEL_4aaf5ca76a38467087582b42de1f6a1e",
        "IPY_MODEL_d614664cf99743889aa9b084525990d8"
       ],
       "layout": "IPY_MODEL_c02a451e0731469ea91cc39abbf14c48"
      }
     },
     "03fa6285b902493bbc52e73542eb6bd3": {
      "model_module": "@jupyter-widgets/controls",
      "model_module_version": "1.4.0",
      "model_name": "HTMLModel",
      "state": {
       "layout": "IPY_MODEL_14d24c174ecb4428af82666854e1ed83",
       "style": "IPY_MODEL_108a32808a0b43bda9b869081b96b80b",
       "value": "100% 12/12 [00:00&lt;00:00, 15.79it/s]"
      }
     },
     "040769e561d949e39b17361d682bb4a8": {
      "model_module": "@jupyter-widgets/controls",
      "model_module_version": "1.4.0",
      "model_name": "IntProgressModel",
      "state": {
       "bar_style": "success",
       "layout": "IPY_MODEL_61ab17aa9e4540939240cce1f8b4c32e",
       "max": 31,
       "style": "IPY_MODEL_7a2861a1cfdb45bdac48eb59c8b660bc",
       "value": 31
      }
     },
     "043afb832aa3492482fd973bb9d9bd7a": {
      "model_module": "@jupyter-widgets/controls",
      "model_module_version": "1.4.0",
      "model_name": "ProgressStyleModel",
      "state": {
       "description_width": ""
      }
     },
     "0ae749625db249539e573bdfcd6fa23c": {
      "model_module": "@jupyter-widgets/base",
      "model_module_version": "1.1.0",
      "model_name": "LayoutModel",
      "state": {}
     },
     "0c7b9244ca3d4cfca64cc68c62c676ef": {
      "model_module": "@jupyter-widgets/controls",
      "model_module_version": "1.4.0",
      "model_name": "HBoxModel",
      "state": {
       "children": [
        "IPY_MODEL_2ac95f4aedb04f5a9a5fa5361f2b5d49",
        "IPY_MODEL_fb9bace579f64af4b7ebb87789031257"
       ],
       "layout": "IPY_MODEL_2c2f47043664427b9fe40d9dab59f5be"
      }
     },
     "0f40caa17b6f45b19f9b67db6af682c3": {
      "model_module": "@jupyter-widgets/controls",
      "model_module_version": "1.4.0",
      "model_name": "IntProgressModel",
      "state": {
       "bar_style": "success",
       "layout": "IPY_MODEL_432a0f81101043fc812406cb9699cf55",
       "max": 12,
       "style": "IPY_MODEL_6d05a0207eb44be8a8194d7672bc3dc3",
       "value": 12
      }
     },
     "0f5c61300af74d9c87b2e169a8d59564": {
      "model_module": "@jupyter-widgets/controls",
      "model_module_version": "1.4.0",
      "model_name": "ProgressStyleModel",
      "state": {
       "description_width": ""
      }
     },
     "108a32808a0b43bda9b869081b96b80b": {
      "model_module": "@jupyter-widgets/controls",
      "model_module_version": "1.4.0",
      "model_name": "DescriptionStyleModel",
      "state": {
       "description_width": ""
      }
     },
     "1099c3fb624b4608ac4d8274ff57ff46": {
      "model_module": "@jupyter-widgets/controls",
      "model_module_version": "1.4.0",
      "model_name": "DescriptionStyleModel",
      "state": {
       "description_width": ""
      }
     },
     "1135c69a55d04878a6716a594f46043e": {
      "model_module": "@jupyter-widgets/base",
      "model_module_version": "1.1.0",
      "model_name": "LayoutModel",
      "state": {}
     },
     "1156627bae864085bbc3167c5b2a5cb3": {
      "model_module": "@jupyter-widgets/controls",
      "model_module_version": "1.4.0",
      "model_name": "DescriptionStyleModel",
      "state": {
       "description_width": ""
      }
     },
     "14d24c174ecb4428af82666854e1ed83": {
      "model_module": "@jupyter-widgets/base",
      "model_module_version": "1.1.0",
      "model_name": "LayoutModel",
      "state": {}
     },
     "17c69c17ec8344d2aeee5ae6dee93ce6": {
      "model_module": "@jupyter-widgets/base",
      "model_module_version": "1.1.0",
      "model_name": "LayoutModel",
      "state": {}
     },
     "19ca5418edce46e0985b6f1868b3938d": {
      "model_module": "@jupyter-widgets/controls",
      "model_module_version": "1.4.0",
      "model_name": "HTMLModel",
      "state": {
       "layout": "IPY_MODEL_5cae48b866984d99a1e15f8822d57ed9",
       "style": "IPY_MODEL_a194ac9f28564a6a805b24a1a742838c",
       "value": "100% 7/7 [01:56&lt;00:00, 28.35s/it]"
      }
     },
     "1b4f155261eb469da0da9cbb96741044": {
      "model_module": "@jupyter-widgets/controls",
      "model_module_version": "1.4.0",
      "model_name": "HBoxModel",
      "state": {
       "children": [
        "IPY_MODEL_27199a9b964f4b8f94946e1a80cee138",
        "IPY_MODEL_7a4cd3a8b19d4fe58ed4d6d8f4ecae0e"
       ],
       "layout": "IPY_MODEL_db91f69593764d1fbc8593c6264df3a7"
      }
     },
     "211f4c9ceba64de0b46c4e32ce02a19a": {
      "model_module": "@jupyter-widgets/controls",
      "model_module_version": "1.4.0",
      "model_name": "ProgressStyleModel",
      "state": {
       "description_width": ""
      }
     },
     "27199a9b964f4b8f94946e1a80cee138": {
      "model_module": "@jupyter-widgets/controls",
      "model_module_version": "1.4.0",
      "model_name": "IntProgressModel",
      "state": {
       "bar_style": "danger",
       "layout": "IPY_MODEL_5d84ecdf55794062bc15794cd6d48d87",
       "max": 12,
       "style": "IPY_MODEL_cc2ce2b0abab4704b0d580cdd7897c24",
       "value": 8
      }
     },
     "281631f2651241d896b1300b748f94cc": {
      "model_module": "@jupyter-widgets/controls",
      "model_module_version": "1.4.0",
      "model_name": "IntProgressModel",
      "state": {
       "bar_style": "success",
       "layout": "IPY_MODEL_9a939ec092234106b3bbf13266650f29",
       "max": 29,
       "style": "IPY_MODEL_aa66c2d953c84ef9902875ccbc9c994e",
       "value": 29
      }
     },
     "2ac95f4aedb04f5a9a5fa5361f2b5d49": {
      "model_module": "@jupyter-widgets/controls",
      "model_module_version": "1.4.0",
      "model_name": "IntProgressModel",
      "state": {
       "bar_style": "success",
       "layout": "IPY_MODEL_3705518094ba492db64884c7d9934ddf",
       "max": 31,
       "style": "IPY_MODEL_211f4c9ceba64de0b46c4e32ce02a19a",
       "value": 31
      }
     },
     "2b5f53a0083041e88ab8b35fbcb6adec": {
      "model_module": "@jupyter-widgets/base",
      "model_module_version": "1.1.0",
      "model_name": "LayoutModel",
      "state": {}
     },
     "2bbce2307fd74e7fb6b48d80cf8b147a": {
      "model_module": "@jupyter-widgets/controls",
      "model_module_version": "1.4.0",
      "model_name": "HTMLModel",
      "state": {
       "layout": "IPY_MODEL_4c3a4ac37bb349259fa3840a25b52a9f",
       "style": "IPY_MODEL_bc47080108594d6398376ec90247fd7f",
       "value": "100% 29/29 [01:42&lt;00:00,  7.61s/it]"
      }
     },
     "2c2f47043664427b9fe40d9dab59f5be": {
      "model_module": "@jupyter-widgets/base",
      "model_module_version": "1.1.0",
      "model_name": "LayoutModel",
      "state": {}
     },
     "2f4fa306f59d47a0a4c1fb41de63ccc6": {
      "model_module": "@jupyter-widgets/controls",
      "model_module_version": "1.4.0",
      "model_name": "HBoxModel",
      "state": {
       "children": [
        "IPY_MODEL_312e2c5fb4744ee9aca6e5cba42c05f8",
        "IPY_MODEL_03fa6285b902493bbc52e73542eb6bd3"
       ],
       "layout": "IPY_MODEL_616c61e0e1774e4dba06565d10df95e7"
      }
     },
     "30e0a8eb04c8484caeb06471a6b297b1": {
      "model_module": "@jupyter-widgets/controls",
      "model_module_version": "1.4.0",
      "model_name": "ProgressStyleModel",
      "state": {
       "description_width": ""
      }
     },
     "312e2c5fb4744ee9aca6e5cba42c05f8": {
      "model_module": "@jupyter-widgets/controls",
      "model_module_version": "1.4.0",
      "model_name": "IntProgressModel",
      "state": {
       "bar_style": "success",
       "layout": "IPY_MODEL_f504214792524c2cbbb8997e99aa7714",
       "max": 12,
       "style": "IPY_MODEL_30e0a8eb04c8484caeb06471a6b297b1",
       "value": 12
      }
     },
     "3151f3436ad948f79765fcfb5cb64831": {
      "model_module": "@jupyter-widgets/controls",
      "model_module_version": "1.4.0",
      "model_name": "HBoxModel",
      "state": {
       "children": [
        "IPY_MODEL_ac9c8dcde2c14dbaa1173c31993a8425",
        "IPY_MODEL_7b16d9396fa8440d8b26d4309aac9dae"
       ],
       "layout": "IPY_MODEL_ac4b2cd6abad4fbe9129ad2b39f79d1c"
      }
     },
     "3191d73e3295402c9256a8e48a55fcde": {
      "model_module": "@jupyter-widgets/controls",
      "model_module_version": "1.4.0",
      "model_name": "HBoxModel",
      "state": {
       "children": [
        "IPY_MODEL_3cf71691ed3a45788e854120454ffb91",
        "IPY_MODEL_19ca5418edce46e0985b6f1868b3938d"
       ],
       "layout": "IPY_MODEL_1135c69a55d04878a6716a594f46043e"
      }
     },
     "3288f5a70453437e8314c7c34446ad83": {
      "model_module": "@jupyter-widgets/base",
      "model_module_version": "1.1.0",
      "model_name": "LayoutModel",
      "state": {}
     },
     "3705518094ba492db64884c7d9934ddf": {
      "model_module": "@jupyter-widgets/base",
      "model_module_version": "1.1.0",
      "model_name": "LayoutModel",
      "state": {}
     },
     "3cf71691ed3a45788e854120454ffb91": {
      "model_module": "@jupyter-widgets/controls",
      "model_module_version": "1.4.0",
      "model_name": "IntProgressModel",
      "state": {
       "bar_style": "success",
       "layout": "IPY_MODEL_b79ec55a28294c6bbf956dfc8e61c6d2",
       "max": 7,
       "style": "IPY_MODEL_f1361377c3184fb688b28bfe61451e86",
       "value": 7
      }
     },
     "432a0f81101043fc812406cb9699cf55": {
      "model_module": "@jupyter-widgets/base",
      "model_module_version": "1.1.0",
      "model_name": "LayoutModel",
      "state": {}
     },
     "43cd3c30e9ed40589af0a84e4ad8165a": {
      "model_module": "@jupyter-widgets/controls",
      "model_module_version": "1.4.0",
      "model_name": "HTMLModel",
      "state": {
       "layout": "IPY_MODEL_3288f5a70453437e8314c7c34446ad83",
       "style": "IPY_MODEL_1156627bae864085bbc3167c5b2a5cb3",
       "value": "100% 31/31 [03:22&lt;00:00, 13.89s/it]"
      }
     },
     "488d7a0878974888921fe30c7a8ccce6": {
      "model_module": "@jupyter-widgets/base",
      "model_module_version": "1.1.0",
      "model_name": "LayoutModel",
      "state": {}
     },
     "4aaf5ca76a38467087582b42de1f6a1e": {
      "model_module": "@jupyter-widgets/controls",
      "model_module_version": "1.4.0",
      "model_name": "IntProgressModel",
      "state": {
       "bar_style": "success",
       "layout": "IPY_MODEL_d86d424d7d2040bea285a821eb3ffaf6",
       "max": 54,
       "style": "IPY_MODEL_fc2e0e50b4024f2089000a027350ad62",
       "value": 54
      }
     },
     "4c3a4ac37bb349259fa3840a25b52a9f": {
      "model_module": "@jupyter-widgets/base",
      "model_module_version": "1.1.0",
      "model_name": "LayoutModel",
      "state": {}
     },
     "4cd9f8c1d14a460592573b5d5f4d1e68": {
      "model_module": "@jupyter-widgets/controls",
      "model_module_version": "1.4.0",
      "model_name": "DescriptionStyleModel",
      "state": {
       "description_width": ""
      }
     },
     "5724b7c6629e42db98f82141d3346d3f": {
      "model_module": "@jupyter-widgets/controls",
      "model_module_version": "1.4.0",
      "model_name": "HTMLModel",
      "state": {
       "layout": "IPY_MODEL_0ae749625db249539e573bdfcd6fa23c",
       "style": "IPY_MODEL_8ebb3008c95c416489b9db29d758008c",
       "value": "100% 29/29 [00:16&lt;00:00,  1.18s/it]"
      }
     },
     "5aba36f9297242688598109bc09046de": {
      "model_module": "@jupyter-widgets/controls",
      "model_module_version": "1.4.0",
      "model_name": "DescriptionStyleModel",
      "state": {
       "description_width": ""
      }
     },
     "5cae48b866984d99a1e15f8822d57ed9": {
      "model_module": "@jupyter-widgets/base",
      "model_module_version": "1.1.0",
      "model_name": "LayoutModel",
      "state": {}
     },
     "5d84ecdf55794062bc15794cd6d48d87": {
      "model_module": "@jupyter-widgets/base",
      "model_module_version": "1.1.0",
      "model_name": "LayoutModel",
      "state": {}
     },
     "5f7e65435bd74f0eb6a1c412dfb425cc": {
      "model_module": "@jupyter-widgets/controls",
      "model_module_version": "1.4.0",
      "model_name": "DescriptionStyleModel",
      "state": {
       "description_width": ""
      }
     },
     "616c61e0e1774e4dba06565d10df95e7": {
      "model_module": "@jupyter-widgets/base",
      "model_module_version": "1.1.0",
      "model_name": "LayoutModel",
      "state": {}
     },
     "61ab17aa9e4540939240cce1f8b4c32e": {
      "model_module": "@jupyter-widgets/base",
      "model_module_version": "1.1.0",
      "model_name": "LayoutModel",
      "state": {}
     },
     "63d4d742d31e49eb9f408d4b1d5205a8": {
      "model_module": "@jupyter-widgets/controls",
      "model_module_version": "1.4.0",
      "model_name": "HBoxModel",
      "state": {
       "children": [
        "IPY_MODEL_281631f2651241d896b1300b748f94cc",
        "IPY_MODEL_5724b7c6629e42db98f82141d3346d3f"
       ],
       "layout": "IPY_MODEL_6ec3aa7a23a64d20995bdf93351224f2"
      }
     },
     "646c3ac9c11944748551fbf8c83663b1": {
      "model_module": "@jupyter-widgets/controls",
      "model_module_version": "1.4.0",
      "model_name": "IntProgressModel",
      "state": {
       "bar_style": "success",
       "layout": "IPY_MODEL_488d7a0878974888921fe30c7a8ccce6",
       "max": 29,
       "style": "IPY_MODEL_ae8a07808b3e45859f3cd921f129124b",
       "value": 29
      }
     },
     "67b4ef9809f6494c8230ffa837fb5f2d": {
      "model_module": "@jupyter-widgets/base",
      "model_module_version": "1.1.0",
      "model_name": "LayoutModel",
      "state": {}
     },
     "6d05a0207eb44be8a8194d7672bc3dc3": {
      "model_module": "@jupyter-widgets/controls",
      "model_module_version": "1.4.0",
      "model_name": "ProgressStyleModel",
      "state": {
       "description_width": ""
      }
     },
     "6ec3aa7a23a64d20995bdf93351224f2": {
      "model_module": "@jupyter-widgets/base",
      "model_module_version": "1.1.0",
      "model_name": "LayoutModel",
      "state": {}
     },
     "774238a7f4bc4bc39881b33452244ce3": {
      "model_module": "@jupyter-widgets/base",
      "model_module_version": "1.1.0",
      "model_name": "LayoutModel",
      "state": {}
     },
     "7a2861a1cfdb45bdac48eb59c8b660bc": {
      "model_module": "@jupyter-widgets/controls",
      "model_module_version": "1.4.0",
      "model_name": "ProgressStyleModel",
      "state": {
       "description_width": ""
      }
     },
     "7a4cd3a8b19d4fe58ed4d6d8f4ecae0e": {
      "model_module": "@jupyter-widgets/controls",
      "model_module_version": "1.4.0",
      "model_name": "HTMLModel",
      "state": {
       "layout": "IPY_MODEL_a6d7e8cc772f4b44ba43a23a407e7c12",
       "style": "IPY_MODEL_4cd9f8c1d14a460592573b5d5f4d1e68",
       "value": " 67% 8/12 [01:42&lt;01:34, 23.63s/it]"
      }
     },
     "7ab2be73db8c40cc896e0249bd3ea500": {
      "model_module": "@jupyter-widgets/controls",
      "model_module_version": "1.4.0",
      "model_name": "DescriptionStyleModel",
      "state": {
       "description_width": ""
      }
     },
     "7b16d9396fa8440d8b26d4309aac9dae": {
      "model_module": "@jupyter-widgets/controls",
      "model_module_version": "1.4.0",
      "model_name": "HTMLModel",
      "state": {
       "layout": "IPY_MODEL_b7ee7f0454ef43edba44cdb7eff62621",
       "style": "IPY_MODEL_7ab2be73db8c40cc896e0249bd3ea500",
       "value": "100% 54/54 [07:16&lt;00:00, 17.43s/it]"
      }
     },
     "875b2a51333945eaa1b8cc990026d552": {
      "model_module": "@jupyter-widgets/controls",
      "model_module_version": "1.4.0",
      "model_name": "HBoxModel",
      "state": {
       "children": [
        "IPY_MODEL_040769e561d949e39b17361d682bb4a8",
        "IPY_MODEL_43cd3c30e9ed40589af0a84e4ad8165a"
       ],
       "layout": "IPY_MODEL_cb8738fbc3d54b8ea12d23b970356248"
      }
     },
     "89bf37d725d0422ead1e32f25f1ff7a8": {
      "model_module": "@jupyter-widgets/controls",
      "model_module_version": "1.4.0",
      "model_name": "HBoxModel",
      "state": {
       "children": [
        "IPY_MODEL_646c3ac9c11944748551fbf8c83663b1",
        "IPY_MODEL_2bbce2307fd74e7fb6b48d80cf8b147a"
       ],
       "layout": "IPY_MODEL_17c69c17ec8344d2aeee5ae6dee93ce6"
      }
     },
     "8ebb3008c95c416489b9db29d758008c": {
      "model_module": "@jupyter-widgets/controls",
      "model_module_version": "1.4.0",
      "model_name": "DescriptionStyleModel",
      "state": {
       "description_width": ""
      }
     },
     "9a939ec092234106b3bbf13266650f29": {
      "model_module": "@jupyter-widgets/base",
      "model_module_version": "1.1.0",
      "model_name": "LayoutModel",
      "state": {}
     },
     "a194ac9f28564a6a805b24a1a742838c": {
      "model_module": "@jupyter-widgets/controls",
      "model_module_version": "1.4.0",
      "model_name": "DescriptionStyleModel",
      "state": {
       "description_width": ""
      }
     },
     "a34f3e8def0649618235b0c8d9648d99": {
      "model_module": "@jupyter-widgets/controls",
      "model_module_version": "1.4.0",
      "model_name": "DescriptionStyleModel",
      "state": {
       "description_width": ""
      }
     },
     "a6d7e8cc772f4b44ba43a23a407e7c12": {
      "model_module": "@jupyter-widgets/base",
      "model_module_version": "1.1.0",
      "model_name": "LayoutModel",
      "state": {}
     },
     "aa66c2d953c84ef9902875ccbc9c994e": {
      "model_module": "@jupyter-widgets/controls",
      "model_module_version": "1.4.0",
      "model_name": "ProgressStyleModel",
      "state": {
       "description_width": ""
      }
     },
     "ac4b2cd6abad4fbe9129ad2b39f79d1c": {
      "model_module": "@jupyter-widgets/base",
      "model_module_version": "1.1.0",
      "model_name": "LayoutModel",
      "state": {}
     },
     "ac9c8dcde2c14dbaa1173c31993a8425": {
      "model_module": "@jupyter-widgets/controls",
      "model_module_version": "1.4.0",
      "model_name": "IntProgressModel",
      "state": {
       "bar_style": "success",
       "layout": "IPY_MODEL_f6042c224cb04d4d80e76e24bcd752f0",
       "max": 54,
       "style": "IPY_MODEL_043afb832aa3492482fd973bb9d9bd7a",
       "value": 54
      }
     },
     "acc45206458d480a9f2ef27c9c8ef1df": {
      "model_module": "@jupyter-widgets/controls",
      "model_module_version": "1.4.0",
      "model_name": "HTMLModel",
      "state": {
       "layout": "IPY_MODEL_2b5f53a0083041e88ab8b35fbcb6adec",
       "style": "IPY_MODEL_5f7e65435bd74f0eb6a1c412dfb425cc",
       "value": " 61% 27/44 [01:11&lt;01:07,  4.00s/it]"
      }
     },
     "ae8a07808b3e45859f3cd921f129124b": {
      "model_module": "@jupyter-widgets/controls",
      "model_module_version": "1.4.0",
      "model_name": "ProgressStyleModel",
      "state": {
       "description_width": ""
      }
     },
     "b79ec55a28294c6bbf956dfc8e61c6d2": {
      "model_module": "@jupyter-widgets/base",
      "model_module_version": "1.1.0",
      "model_name": "LayoutModel",
      "state": {}
     },
     "b7ee7f0454ef43edba44cdb7eff62621": {
      "model_module": "@jupyter-widgets/base",
      "model_module_version": "1.1.0",
      "model_name": "LayoutModel",
      "state": {}
     },
     "bc47080108594d6398376ec90247fd7f": {
      "model_module": "@jupyter-widgets/controls",
      "model_module_version": "1.4.0",
      "model_name": "DescriptionStyleModel",
      "state": {
       "description_width": ""
      }
     },
     "bdc29d95eb5b4ef9aa958372545ee719": {
      "model_module": "@jupyter-widgets/base",
      "model_module_version": "1.1.0",
      "model_name": "LayoutModel",
      "state": {}
     },
     "c00586e1eccf461c9b0429e0ccfc324c": {
      "model_module": "@jupyter-widgets/controls",
      "model_module_version": "1.4.0",
      "model_name": "HBoxModel",
      "state": {
       "children": [
        "IPY_MODEL_c268087693ac4caea7ff5672e655a9d2",
        "IPY_MODEL_acc45206458d480a9f2ef27c9c8ef1df"
       ],
       "layout": "IPY_MODEL_d92aa9b32b694dcaabc8203167d6a20e"
      }
     },
     "c02a451e0731469ea91cc39abbf14c48": {
      "model_module": "@jupyter-widgets/base",
      "model_module_version": "1.1.0",
      "model_name": "LayoutModel",
      "state": {}
     },
     "c071aba1cd534b049eee2f1809f94fec": {
      "model_module": "@jupyter-widgets/base",
      "model_module_version": "1.1.0",
      "model_name": "LayoutModel",
      "state": {}
     },
     "c268087693ac4caea7ff5672e655a9d2": {
      "model_module": "@jupyter-widgets/controls",
      "model_module_version": "1.4.0",
      "model_name": "IntProgressModel",
      "state": {
       "layout": "IPY_MODEL_67b4ef9809f6494c8230ffa837fb5f2d",
       "max": 44,
       "style": "IPY_MODEL_0f5c61300af74d9c87b2e169a8d59564",
       "value": 27
      }
     },
     "c7666e83442f44259d58a3b1f3b48341": {
      "model_module": "@jupyter-widgets/controls",
      "model_module_version": "1.4.0",
      "model_name": "HTMLModel",
      "state": {
       "layout": "IPY_MODEL_fb350532137b4401810ece19b5140a35",
       "style": "IPY_MODEL_a34f3e8def0649618235b0c8d9648d99",
       "value": "100% 12/12 [00:03&lt;00:00,  2.07it/s]"
      }
     },
     "cb8738fbc3d54b8ea12d23b970356248": {
      "model_module": "@jupyter-widgets/base",
      "model_module_version": "1.1.0",
      "model_name": "LayoutModel",
      "state": {}
     },
     "cc2ce2b0abab4704b0d580cdd7897c24": {
      "model_module": "@jupyter-widgets/controls",
      "model_module_version": "1.4.0",
      "model_name": "ProgressStyleModel",
      "state": {
       "description_width": ""
      }
     },
     "d614664cf99743889aa9b084525990d8": {
      "model_module": "@jupyter-widgets/controls",
      "model_module_version": "1.4.0",
      "model_name": "HTMLModel",
      "state": {
       "layout": "IPY_MODEL_c071aba1cd534b049eee2f1809f94fec",
       "style": "IPY_MODEL_5aba36f9297242688598109bc09046de",
       "value": "100% 54/54 [01:11&lt;00:00,  2.69s/it]"
      }
     },
     "d86d424d7d2040bea285a821eb3ffaf6": {
      "model_module": "@jupyter-widgets/base",
      "model_module_version": "1.1.0",
      "model_name": "LayoutModel",
      "state": {}
     },
     "d92aa9b32b694dcaabc8203167d6a20e": {
      "model_module": "@jupyter-widgets/base",
      "model_module_version": "1.1.0",
      "model_name": "LayoutModel",
      "state": {}
     },
     "db91f69593764d1fbc8593c6264df3a7": {
      "model_module": "@jupyter-widgets/base",
      "model_module_version": "1.1.0",
      "model_name": "LayoutModel",
      "state": {}
     },
     "f1361377c3184fb688b28bfe61451e86": {
      "model_module": "@jupyter-widgets/controls",
      "model_module_version": "1.4.0",
      "model_name": "ProgressStyleModel",
      "state": {
       "description_width": ""
      }
     },
     "f504214792524c2cbbb8997e99aa7714": {
      "model_module": "@jupyter-widgets/base",
      "model_module_version": "1.1.0",
      "model_name": "LayoutModel",
      "state": {}
     },
     "f52bb86c1e564d5381ea1b9792d4ee48": {
      "model_module": "@jupyter-widgets/controls",
      "model_module_version": "1.4.0",
      "model_name": "HBoxModel",
      "state": {
       "children": [
        "IPY_MODEL_0f40caa17b6f45b19f9b67db6af682c3",
        "IPY_MODEL_c7666e83442f44259d58a3b1f3b48341"
       ],
       "layout": "IPY_MODEL_bdc29d95eb5b4ef9aa958372545ee719"
      }
     },
     "f6042c224cb04d4d80e76e24bcd752f0": {
      "model_module": "@jupyter-widgets/base",
      "model_module_version": "1.1.0",
      "model_name": "LayoutModel",
      "state": {}
     },
     "fb350532137b4401810ece19b5140a35": {
      "model_module": "@jupyter-widgets/base",
      "model_module_version": "1.1.0",
      "model_name": "LayoutModel",
      "state": {}
     },
     "fb9bace579f64af4b7ebb87789031257": {
      "model_module": "@jupyter-widgets/controls",
      "model_module_version": "1.4.0",
      "model_name": "HTMLModel",
      "state": {
       "layout": "IPY_MODEL_774238a7f4bc4bc39881b33452244ce3",
       "style": "IPY_MODEL_1099c3fb624b4608ac4d8274ff57ff46",
       "value": "100% 31/31 [20:02&lt;00:00, 89.74s/it]"
      }
     },
     "fc2e0e50b4024f2089000a027350ad62": {
      "model_module": "@jupyter-widgets/controls",
      "model_module_version": "1.4.0",
      "model_name": "ProgressStyleModel",
      "state": {
       "description_width": ""
      }
     }
    },
    "version_major": 2,
    "version_minor": 0
   }
  }
 },
 "nbformat": 4,
 "nbformat_minor": 2
}
