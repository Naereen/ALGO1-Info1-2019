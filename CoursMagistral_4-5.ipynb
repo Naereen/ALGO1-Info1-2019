{
 "cells": [
  {
   "cell_type": "code",
   "execution_count": null,
   "metadata": {},
   "outputs": [],
   "source": []
  },
  {
   "cell_type": "markdown",
   "metadata": {
    "toc": "true"
   },
   "source": [
    "# Table of Contents\n",
    " <p><div class=\"lev1 toc-item\"><a href=\"#ALGO1-:-Introduction-à-l'algorithmique\" data-toc-modified-id=\"ALGO1-:-Introduction-à-l'algorithmique-1\"><span class=\"toc-item-num\">1&nbsp;&nbsp;</span><a href=\"https://perso.crans.org/besson/teach/info1_algo1_2019/\" target=\"_blank\">ALGO1 : Introduction à l'algorithmique</a></a></div><div class=\"lev1 toc-item\"><a href=\"#Cours-Magistral-4-&amp;-5\" data-toc-modified-id=\"Cours-Magistral-4-&amp;-5-2\"><span class=\"toc-item-num\">2&nbsp;&nbsp;</span>Cours Magistral 4 &amp; 5</a></div><div class=\"lev2 toc-item\"><a href=\"#Type-abstrait-des-$\\alpha$-graphes\" data-toc-modified-id=\"Type-abstrait-des-$\\alpha$-graphes-21\"><span class=\"toc-item-num\">2.1&nbsp;&nbsp;</span>Type abstrait des <span class=\"MathJax_Preview\" style=\"color: inherit;\"></span><span class=\"MathJax\" id=\"MathJax-Element-388-Frame\" tabindex=\"0\" style=\"position: relative;\" data-mathml=\"<math xmlns=&quot;http://www.w3.org/1998/Math/MathML&quot;><mi>&amp;#x03B1;</mi></math>\" role=\"presentation\"><nobr aria-hidden=\"true\"><span class=\"math\" id=\"MathJax-Span-2772\" style=\"width: 0.668em; display: inline-block;\"><span style=\"display: inline-block; position: relative; width: 0.549em; height: 0px; font-size: 116%;\"><span style=\"position: absolute; clip: rect(1.91em, 1000.55em, 2.596em, -1000em); top: -2.469em; left: 0em;\"><span class=\"mrow\" id=\"MathJax-Span-2773\"><span class=\"mi\" id=\"MathJax-Span-2774\" style=\"font-family: STIXMathJax_Normal; font-style: italic;\">𝛼<span style=\"display: inline-block; overflow: hidden; height: 1px; width: 0.005em;\"></span></span></span><span style=\"display: inline-block; width: 0px; height: 2.469em;\"></span></span></span><span style=\"display: inline-block; overflow: hidden; vertical-align: -0.057em; border-left: 0px solid; width: 0px; height: 0.614em;\"></span></span></nobr><span class=\"MJX_Assistive_MathML\" role=\"presentation\"><math xmlns=\"http://www.w3.org/1998/Math/MathML\"><mi>α</mi></math></span></span><script type=\"math/tex\" id=\"MathJax-Element-388\">\\alpha</script> graphes</a></div><div class=\"lev3 toc-item\"><a href=\"#Un-premier-exemple-de-graphe\" data-toc-modified-id=\"Un-premier-exemple-de-graphe-211\"><span class=\"toc-item-num\">2.1.1&nbsp;&nbsp;</span>Un premier exemple de graphe</a></div><div class=\"lev3 toc-item\"><a href=\"#Graphe-aléatoire-de-taille-$n$\" data-toc-modified-id=\"Graphe-aléatoire-de-taille-$n$-212\"><span class=\"toc-item-num\">2.1.2&nbsp;&nbsp;</span>Graphe aléatoire de taille <span class=\"MathJax_Preview\" style=\"color: inherit;\"></span><span class=\"MathJax\" id=\"MathJax-Element-408-Frame\" tabindex=\"0\" style=\"position: relative;\" data-mathml=\"<math xmlns=&quot;http://www.w3.org/1998/Math/MathML&quot;><mi>n</mi></math>\" role=\"presentation\"><nobr aria-hidden=\"true\"><span class=\"math\" id=\"MathJax-Span-2883\" style=\"width: 0.614em; display: inline-block;\"><span style=\"display: inline-block; position: relative; width: 0.518em; height: 0px; font-size: 118%;\"><span style=\"position: absolute; clip: rect(1.866em, 1000.49em, 2.597em, -1000em); top: -2.448em; left: 0em;\"><span class=\"mrow\" id=\"MathJax-Span-2884\"><span class=\"mi\" id=\"MathJax-Span-2885\" style=\"font-family: STIXMathJax_Normal; font-style: italic;\">𝑛</span></span><span style=\"display: inline-block; width: 0px; height: 2.448em;\"></span></span></span><span style=\"display: inline-block; overflow: hidden; vertical-align: -0.065em; border-left: 0px solid; width: 0px; height: 0.641em;\"></span></span></nobr><span class=\"MJX_Assistive_MathML\" role=\"presentation\"><math xmlns=\"http://www.w3.org/1998/Math/MathML\"><mi>n</mi></math></span></span><script type=\"math/tex\" id=\"MathJax-Element-408\">n</script></a></div><div class=\"lev2 toc-item\"><a href=\"#Trois-différentes-implémentations\" data-toc-modified-id=\"Trois-différentes-implémentations-22\"><span class=\"toc-item-num\">2.2&nbsp;&nbsp;</span>Trois différentes implémentations</a></div><div class=\"lev3 toc-item\"><a href=\"#Graphes-par-matrice-d'adjacence\" data-toc-modified-id=\"Graphes-par-matrice-d'adjacence-221\"><span class=\"toc-item-num\">2.2.1&nbsp;&nbsp;</span>Graphes par matrice d'adjacence</a></div><div class=\"lev3 toc-item\"><a href=\"#Graphes-par-listes-d'adjacence\" data-toc-modified-id=\"Graphes-par-listes-d'adjacence-222\"><span class=\"toc-item-num\">2.2.2&nbsp;&nbsp;</span>Graphes par listes d'adjacence</a></div><div class=\"lev3 toc-item\"><a href=\"#Graphes-par-liste-d'arêtes\" data-toc-modified-id=\"Graphes-par-liste-d'arêtes-223\"><span class=\"toc-item-num\">2.2.3&nbsp;&nbsp;</span>Graphes par liste d'arêtes</a></div><div class=\"lev2 toc-item\"><a href=\"#Test-numérique-des-complexités-des-différentes-opérations\" data-toc-modified-id=\"Test-numérique-des-complexités-des-différentes-opérations-23\"><span class=\"toc-item-num\">2.3&nbsp;&nbsp;</span>Test numérique des complexités des différentes opérations</a></div><div class=\"lev2 toc-item\"><a href=\"#Parcours-en-profondeur\" data-toc-modified-id=\"Parcours-en-profondeur-24\"><span class=\"toc-item-num\">2.4&nbsp;&nbsp;</span>Parcours en profondeur</a></div><div class=\"lev2 toc-item\"><a href=\"#Application-:-composantes-connexes-d'un-graphe-non-orienté\" data-toc-modified-id=\"Application-:-composantes-connexes-d'un-graphe-non-orienté-25\"><span class=\"toc-item-num\">2.5&nbsp;&nbsp;</span>Application : composantes connexes d'un graphe non orienté</a></div><div class=\"lev2 toc-item\"><a href=\"#Conclusion\" data-toc-modified-id=\"Conclusion-26\"><span class=\"toc-item-num\">2.6&nbsp;&nbsp;</span>Conclusion</a></div>"
   ]
  },
  {
   "cell_type": "markdown",
   "metadata": {},
   "source": [
    "# [ALGO1 : Introduction à l'algorithmique](https://perso.crans.org/besson/teach/info1_algo1_2019/)\n",
    "\n",
    "- [Page du cours](https://perso.crans.org/besson/teach/info1_algo1_2019/) : https://perso.crans.org/besson/teach/info1_algo1_2019/\n",
    "- Magistère d'Informatique de Rennes - ENS Rennes - Année 2019/2020\n",
    "- Intervenants :\n",
    "  + Cours : [Lilian Besson](https://perso.crans.org/besson/)\n",
    "  + Travaux dirigés : [Raphaël Truffet](http://perso.eleves.ens-rennes.fr/people/Raphael.Truffet/)\n",
    "- Références :\n",
    "  + [Open Data Structures](http://opendatastructures.org/ods-python.pdf)"
   ]
  },
  {
   "cell_type": "markdown",
   "metadata": {},
   "source": [
    "# Cours Magistral 4 & 5\n",
    "\n",
    "- Ce cours traite de graphes.\n",
    "- On donne le type abstrait des graphes, et plusieurs implémentations de la même structure de données (plusieurs classes).\n",
    "\n",
    "- CM4 : On implémente le parcours en profondeur, qu'on illustre sur quelques exemples.\n",
    "- CM5 : On implémente le parcours en largeur, qu'on illustre sur quelques exemples."
   ]
  },
  {
   "cell_type": "markdown",
   "metadata": {},
   "source": [
    "----\n",
    "## Type abstrait des $\\alpha$ graphes\n",
    "\n",
    "On se donne un type $\\alpha$ pour les sommets, et on va en fait se restreindre à $\\alpha=$`int`, et les sommets seront $\\{0,\\dots,n-1\\}$ où $n = |S|$ pour des graphes $G = (S, A)$.\n",
    "\n",
    "On va écrire une classe qui implémente des opérations \"plus haut niveau\", en fonction des opérations bas niveau."
   ]
  },
  {
   "cell_type": "code",
   "execution_count": 1,
   "metadata": {},
   "outputs": [],
   "source": [
    "class BaseGraph():\n",
    "    def out_degree(self, vertex):\n",
    "        return len(self.succ(vertex))\n",
    "\n",
    "    def in_degree(self, vertex):\n",
    "        return len(self.pred(vertex))\n",
    "    \n",
    "    def degree(self, vertex):\n",
    "        return len(self.neighbors(vertex))\n",
    "\n",
    "    def is_vertex(self, vertex):\n",
    "        \"\"\" Test presence of a vertex.\"\"\"\n",
    "        return vertex in self.vertexes\n",
    "    \n",
    "    @property\n",
    "    def vertexes(self):\n",
    "        \"\"\" List of vertexes.\"\"\"\n",
    "        return list(range(self.nb_vertexes))\n",
    "    \n",
    "    def is_neighbor(self, u, v):\n",
    "        \"\"\" Test neighborhood.\"\"\"\n",
    "        return u in self.neighbors(v)\n",
    "\n",
    "    @property\n",
    "    def edges(self):\n",
    "        \"\"\" Set of edges (pairs), in O(|A|) if well implemented.\"\"\"\n",
    "        return {(u, v) for u in self.vertexes for v in self.neighbors(u)}\n",
    "    \n",
    "    @property\n",
    "    def nb_edges(self):\n",
    "        return len(self.edges)"
   ]
  },
  {
   "cell_type": "markdown",
   "metadata": {},
   "source": [
    "### Un premier exemple de graphe\n",
    "\n",
    "On va travailler avec le graphe exemple suivant, qu'il soit orienté ou non :\n",
    "\n",
    "| Orienté | Non orienté |\n",
    "|---------|-------------|\n",
    "| <img width=\"75%\" src=\"figures/CM4_ExampleDiGraph.png\"> | <img width=\"75%\" src=\"figures/CM4_ExampleGraph.png\"> |"
   ]
  },
  {
   "cell_type": "code",
   "execution_count": 2,
   "metadata": {},
   "outputs": [],
   "source": [
    "def defaultGraph(GraphClass, oriented=True):\n",
    "    print(f\"Creating empty graph with class {GraphClass}...\")\n",
    "    graph = GraphClass(oriented=oriented)\n",
    "    n = 7\n",
    "    for i in range(n):\n",
    "        print(f\"Adding vertex {i}...\")\n",
    "        graph.add_vertex(i)\n",
    "    for edge in [(0, 1), (0, 2), (1, 3), (1, 4), (2, 5), (2, 6)]:\n",
    "        print(f\"Adding edge {edge}...\")\n",
    "        graph.add_edge(*edge)\n",
    "    return graph"
   ]
  },
  {
   "cell_type": "markdown",
   "metadata": {},
   "source": [
    "On va tester les différentes implémentations avec la petite fonction suivante, qui vérifie que l'on peut accéder à toute l'information contenu dans le graphe."
   ]
  },
  {
   "cell_type": "code",
   "execution_count": 3,
   "metadata": {},
   "outputs": [],
   "source": [
    "def test_defaultGraph(GraphClass):\n",
    "    for oriented in [True, False]:\n",
    "        graph = defaultGraph(GraphClass, oriented=oriented)\n",
    "        print(f\"Graph:\")\n",
    "        print(graph)\n",
    "        print(f\"Number of vertexes: {graph.nb_vertexes}\")\n",
    "        print(f\"Is the graph oriented? {graph.oriented}\")\n",
    "        print(f\"Number of edges: {graph.nb_edges}\")\n",
    "        print(f\"List of vertexes: {graph.vertexes}\")\n",
    "        print(f\"List of edges: {graph.edges}\")\n",
    "        for i in graph.vertexes:\n",
    "            print(f\"  List of neighbors of {i}: {graph.neighbors(i)} (degree {graph.degree(i)})\")\n",
    "            print(f\"    List of succ of {i}: {graph.succ(i)} (out degree {graph.out_degree(i)})\")\n",
    "            print(f\"    List of pred of {i}: {graph.pred(i)} (in degree {graph.in_degree(i)})\")"
   ]
  },
  {
   "cell_type": "markdown",
   "metadata": {},
   "source": [
    "### Graphe aléatoire de taille $n$\n",
    "\n",
    "On va étudier un graphe aléatoire suivant un modèle très simple : on fixe $n$ le nombre de sommets, et ensuite chaque arête $(i, j)$ est ajoutée dans le graphe avec une probabilité $p\\in(0,1)$ fixée ([graphe d'Erdös-Rényi](https://en.wikipedia.org/wiki/Erd%C5%91s-R%C3%A9nyi_model))."
   ]
  },
  {
   "cell_type": "code",
   "execution_count": 15,
   "metadata": {},
   "outputs": [],
   "source": [
    "import random"
   ]
  },
  {
   "cell_type": "code",
   "execution_count": 16,
   "metadata": {},
   "outputs": [],
   "source": [
    "def with_probability(p):\n",
    "    return random.random() <= p"
   ]
  },
  {
   "cell_type": "code",
   "execution_count": 37,
   "metadata": {},
   "outputs": [],
   "source": [
    "def randomGraph(GraphClass, n=10, probability=0.1, oriented=True):\n",
    "    graph = GraphClass(oriented=oriented)\n",
    "    for i in range(n):\n",
    "        graph.add_vertex(i)\n",
    "    for i in range(n):\n",
    "        for j in range(n):\n",
    "            if with_probability(probability):\n",
    "                graph.add_edge(i, j)\n",
    "    return graph"
   ]
  },
  {
   "cell_type": "code",
   "execution_count": 38,
   "metadata": {},
   "outputs": [
    {
     "name": "stdout",
     "output_type": "stream",
     "text": [
      "[[False False False False False False False False False  True]\n",
      " [False  True False False False False False False False False]\n",
      " [False False False False False False False False False False]\n",
      " [False False  True False False  True False False False  True]\n",
      " [False False False False False False False False False False]\n",
      " [False False False False  True False False  True  True False]\n",
      " [False False False False  True False False False False False]\n",
      " [False False False False False False False False False False]\n",
      " [False False False False False False False False False False]\n",
      " [False False False False  True False  True False False False]]\n"
     ]
    }
   ],
   "source": [
    "print(randomGraph(AdjMatrixGraph, 10, 0.1, oriented=True))"
   ]
  },
  {
   "cell_type": "code",
   "execution_count": 39,
   "metadata": {},
   "outputs": [
    {
     "name": "stdout",
     "output_type": "stream",
     "text": [
      "[[ True False False  True False False  True False  True False]\n",
      " [False  True False  True False  True  True  True False False]\n",
      " [ True False False False False False  True False False False]\n",
      " [False  True  True False False False  True False  True False]\n",
      " [False False False  True  True False  True False  True False]\n",
      " [False  True  True  True  True  True  True  True  True  True]\n",
      " [ True False  True False False False False  True False  True]\n",
      " [ True False False False  True False False  True  True  True]\n",
      " [ True False  True  True  True False False False  True  True]\n",
      " [ True  True False  True False  True False False False False]]\n"
     ]
    }
   ],
   "source": [
    "print(randomGraph(AdjMatrixGraph, 10, 0.5, oriented=True))"
   ]
  },
  {
   "cell_type": "code",
   "execution_count": 40,
   "metadata": {},
   "outputs": [
    {
     "name": "stdout",
     "output_type": "stream",
     "text": [
      "[[ True  True  True False  True  True  True  True  True  True]\n",
      " [ True  True False  True  True  True  True False  True  True]\n",
      " [ True  True  True  True  True  True  True  True  True  True]\n",
      " [ True  True  True  True False  True False  True  True  True]\n",
      " [ True False  True  True  True  True  True  True  True  True]\n",
      " [ True  True  True  True  True  True False False  True  True]\n",
      " [ True  True  True  True  True  True  True  True  True  True]\n",
      " [ True  True  True  True  True  True  True  True  True  True]\n",
      " [ True  True  True  True  True  True  True  True  True  True]\n",
      " [ True  True  True  True  True  True  True  True  True  True]]\n"
     ]
    }
   ],
   "source": [
    "print(randomGraph(AdjMatrixGraph, 10, 0.9, oriented=True))"
   ]
  },
  {
   "cell_type": "markdown",
   "metadata": {},
   "source": [
    "----\n",
    "## Trois différentes implémentations"
   ]
  },
  {
   "cell_type": "markdown",
   "metadata": {},
   "source": [
    "### Graphes par matrice d'adjacence"
   ]
  },
  {
   "cell_type": "code",
   "execution_count": 4,
   "metadata": {},
   "outputs": [],
   "source": [
    "import numpy as np"
   ]
  },
  {
   "cell_type": "code",
   "execution_count": 5,
   "metadata": {},
   "outputs": [],
   "source": [
    "class AdjMatrixGraph(BaseGraph):\n",
    "    def __init__(self, oriented=True, n=0):\n",
    "        \"\"\" Takes O(n^2) time and space.\"\"\"\n",
    "        self.oriented = oriented\n",
    "        self.nb_vertexes = n\n",
    "        self._matrix = np.zeros((n, n), dtype=bool)\n",
    "    \n",
    "    def __str__(self):\n",
    "        return str(self._matrix)\n",
    "\n",
    "    def is_vertex(self, vertex):\n",
    "        \"\"\" Test presence of a vertex.\"\"\"\n",
    "        return 0 <= vertex < self.nb_vertexes\n",
    "    \n",
    "    def add_vertex(self, m):\n",
    "        \"\"\" Worst case is O(m^2) to extend the matrix. Best case is O(1) if nothing to do.\"\"\"\n",
    "        if not self.is_vertex(m):\n",
    "            n = self.nb_vertexes\n",
    "            assert 0 <= m and n <= m\n",
    "            self.nb_vertexes = m + 1\n",
    "            old_matrix = self._matrix[:,:]\n",
    "            # extend the matrix\n",
    "            self._matrix = np.zeros((m + 1, m + 1), dtype=bool)\n",
    "            # copy the old matrix\n",
    "            self._matrix[:n, :n] = old_matrix\n",
    "    \n",
    "    def add_edge(self, i, j):\n",
    "        \"\"\" O(1) time.\"\"\"\n",
    "        assert 0 <= i < self.nb_vertexes and 0 <= j < self.nb_vertexes\n",
    "        self._matrix[i, j] = True\n",
    "        if not self.oriented:\n",
    "            self._matrix[j, i] = True\n",
    "    \n",
    "    def remove_vertex(self, m):\n",
    "        \"\"\" TODO do it yourself, it's not hard!\"\"\"\n",
    "        raise NotImplementedError\n",
    "    \n",
    "    def remove_edge(self, i, j):\n",
    "        \"\"\" O(1) time.\"\"\"\n",
    "        assert 0 <= i < self.nb_vertexes and 0 <= j < self.nb_vertexes\n",
    "        self._matrix[i, j] = False\n",
    "        if not self.oriented:\n",
    "            self._matrix[j, i] = False\n",
    "    \n",
    "    def merge_vertexes(self, i, j):\n",
    "        \"\"\" TODO do it yourself, it's not hard!\"\"\"\n",
    "        raise NotImplementedError\n",
    "    \n",
    "    def pred(self, i):\n",
    "        assert 0 <= i < self.nb_vertexes\n",
    "        return [j for j in self.vertexes if self.is_neighbor(j, i)]\n",
    "    \n",
    "    def is_pred(self, u, v):\n",
    "        \"\"\" O(1) time.\"\"\"\n",
    "        return self._matrix[v, u]\n",
    "    \n",
    "    def succ(self, i):\n",
    "        assert 0 <= i < self.nb_vertexes\n",
    "        return [j for j in self.vertexes if self.is_neighbor(i, j)]\n",
    "    \n",
    "    def is_succ(self, u, v):\n",
    "        \"\"\" O(1) time.\"\"\"\n",
    "        return self._matrix[u, v]\n",
    "    \n",
    "    def neighbors(self, i):\n",
    "        assert 0 <= i < self.nb_vertexes\n",
    "        if self.oriented:\n",
    "            return self.succ(i)\n",
    "        else:\n",
    "            return [j for j in self.vertexes if self.is_neighbor(i, j) or self.is_neighbor(j, i)]\n",
    "    \n",
    "    def is_neighbor(self, u, v):\n",
    "        \"\"\" O(1) time.\"\"\"\n",
    "        if self.oriented:\n",
    "            return self._matrix[u, v]\n",
    "        else:\n",
    "            return self._matrix[u, v] or self._matrix[v, u]"
   ]
  },
  {
   "cell_type": "markdown",
   "metadata": {},
   "source": [
    "Testons cette première implémentation :"
   ]
  },
  {
   "cell_type": "code",
   "execution_count": 6,
   "metadata": {},
   "outputs": [
    {
     "name": "stdout",
     "output_type": "stream",
     "text": [
      "Creating empty graph with class <class '__main__.AdjMatrixGraph'>...\n",
      "Adding vertex 0...\n",
      "Adding vertex 1...\n",
      "Adding vertex 2...\n",
      "Adding vertex 3...\n",
      "Adding vertex 4...\n",
      "Adding vertex 5...\n",
      "Adding vertex 6...\n",
      "Adding edge (0, 1)...\n",
      "Adding edge (0, 2)...\n",
      "Adding edge (1, 3)...\n",
      "Adding edge (1, 4)...\n",
      "Adding edge (2, 5)...\n",
      "Adding edge (2, 6)...\n"
     ]
    },
    {
     "data": {
      "text/plain": [
       "<__main__.AdjMatrixGraph at 0x7f395f3f3240>"
      ]
     },
     "execution_count": 6,
     "metadata": {},
     "output_type": "execute_result"
    }
   ],
   "source": [
    "defaultGraph(AdjMatrixGraph)"
   ]
  },
  {
   "cell_type": "code",
   "execution_count": 7,
   "metadata": {},
   "outputs": [
    {
     "name": "stdout",
     "output_type": "stream",
     "text": [
      "Creating empty graph with class <class '__main__.AdjMatrixGraph'>...\n",
      "Adding vertex 0...\n",
      "Adding vertex 1...\n",
      "Adding vertex 2...\n",
      "Adding vertex 3...\n",
      "Adding vertex 4...\n",
      "Adding vertex 5...\n",
      "Adding vertex 6...\n",
      "Adding edge (0, 1)...\n",
      "Adding edge (0, 2)...\n",
      "Adding edge (1, 3)...\n",
      "Adding edge (1, 4)...\n",
      "Adding edge (2, 5)...\n",
      "Adding edge (2, 6)...\n",
      "Graph:\n",
      "[[False  True  True False False False False]\n",
      " [False False False  True  True False False]\n",
      " [False False False False False  True  True]\n",
      " [False False False False False False False]\n",
      " [False False False False False False False]\n",
      " [False False False False False False False]\n",
      " [False False False False False False False]]\n",
      "Number of vertexes: 7\n",
      "Is the graph oriented? True\n",
      "Number of edges: 6\n",
      "List of vertexes: [0, 1, 2, 3, 4, 5, 6]\n",
      "List of edges: {(0, 1), (1, 3), (2, 6), (1, 4), (2, 5), (0, 2)}\n",
      "  List of neighbors of 0: [1, 2] (degree 2)\n",
      "    List of succ of 0: [1, 2] (out degree 2)\n",
      "    List of pred of 0: [] (in degree 0)\n",
      "  List of neighbors of 1: [3, 4] (degree 2)\n",
      "    List of succ of 1: [3, 4] (out degree 2)\n",
      "    List of pred of 1: [0] (in degree 1)\n",
      "  List of neighbors of 2: [5, 6] (degree 2)\n",
      "    List of succ of 2: [5, 6] (out degree 2)\n",
      "    List of pred of 2: [0] (in degree 1)\n",
      "  List of neighbors of 3: [] (degree 0)\n",
      "    List of succ of 3: [] (out degree 0)\n",
      "    List of pred of 3: [1] (in degree 1)\n",
      "  List of neighbors of 4: [] (degree 0)\n",
      "    List of succ of 4: [] (out degree 0)\n",
      "    List of pred of 4: [1] (in degree 1)\n",
      "  List of neighbors of 5: [] (degree 0)\n",
      "    List of succ of 5: [] (out degree 0)\n",
      "    List of pred of 5: [2] (in degree 1)\n",
      "  List of neighbors of 6: [] (degree 0)\n",
      "    List of succ of 6: [] (out degree 0)\n",
      "    List of pred of 6: [2] (in degree 1)\n",
      "Creating empty graph with class <class '__main__.AdjMatrixGraph'>...\n",
      "Adding vertex 0...\n",
      "Adding vertex 1...\n",
      "Adding vertex 2...\n",
      "Adding vertex 3...\n",
      "Adding vertex 4...\n",
      "Adding vertex 5...\n",
      "Adding vertex 6...\n",
      "Adding edge (0, 1)...\n",
      "Adding edge (0, 2)...\n",
      "Adding edge (1, 3)...\n",
      "Adding edge (1, 4)...\n",
      "Adding edge (2, 5)...\n",
      "Adding edge (2, 6)...\n",
      "Graph:\n",
      "[[False  True  True False False False False]\n",
      " [ True False False  True  True False False]\n",
      " [ True False False False False  True  True]\n",
      " [False  True False False False False False]\n",
      " [False  True False False False False False]\n",
      " [False False  True False False False False]\n",
      " [False False  True False False False False]]\n",
      "Number of vertexes: 7\n",
      "Is the graph oriented? False\n",
      "Number of edges: 12\n",
      "List of vertexes: [0, 1, 2, 3, 4, 5, 6]\n",
      "List of edges: {(0, 1), (1, 3), (2, 6), (3, 1), (5, 2), (1, 4), (2, 0), (2, 5), (6, 2), (1, 0), (4, 1), (0, 2)}\n",
      "  List of neighbors of 0: [1, 2] (degree 2)\n",
      "    List of succ of 0: [1, 2] (out degree 2)\n",
      "    List of pred of 0: [1, 2] (in degree 2)\n",
      "  List of neighbors of 1: [0, 3, 4] (degree 3)\n",
      "    List of succ of 1: [0, 3, 4] (out degree 3)\n",
      "    List of pred of 1: [0, 3, 4] (in degree 3)\n",
      "  List of neighbors of 2: [0, 5, 6] (degree 3)\n",
      "    List of succ of 2: [0, 5, 6] (out degree 3)\n",
      "    List of pred of 2: [0, 5, 6] (in degree 3)\n",
      "  List of neighbors of 3: [1] (degree 1)\n",
      "    List of succ of 3: [1] (out degree 1)\n",
      "    List of pred of 3: [1] (in degree 1)\n",
      "  List of neighbors of 4: [1] (degree 1)\n",
      "    List of succ of 4: [1] (out degree 1)\n",
      "    List of pred of 4: [1] (in degree 1)\n",
      "  List of neighbors of 5: [2] (degree 1)\n",
      "    List of succ of 5: [2] (out degree 1)\n",
      "    List of pred of 5: [2] (in degree 1)\n",
      "  List of neighbors of 6: [2] (degree 1)\n",
      "    List of succ of 6: [2] (out degree 1)\n",
      "    List of pred of 6: [2] (in degree 1)\n"
     ]
    }
   ],
   "source": [
    "test_defaultGraph(AdjMatrixGraph)"
   ]
  },
  {
   "cell_type": "markdown",
   "metadata": {},
   "source": [
    "### Graphes par listes d'adjacence"
   ]
  },
  {
   "cell_type": "code",
   "execution_count": 8,
   "metadata": {},
   "outputs": [],
   "source": [
    "class AdjListsGraph(BaseGraph):\n",
    "    def __init__(self, oriented=True, n=0):\n",
    "        \"\"\" Takes O(n) time and space to allocate the empty lists.\"\"\"\n",
    "        self.oriented = oriented\n",
    "        self.nb_vertexes = n\n",
    "        self._lists = [ [] for i in range(n) ]\n",
    "\n",
    "    def __str__(self):\n",
    "        return str(self._lists)\n",
    "    \n",
    "    def is_vertex(self, vertex):\n",
    "        \"\"\" Test presence of a vertex.\"\"\"\n",
    "        return 0 <= vertex < self.nb_vertexes\n",
    "    \n",
    "    def add_vertex(self, m):\n",
    "        \"\"\" Worst case is O(m^2) to extend the matrix. Best case is O(1) if nothing to do.\"\"\"\n",
    "        if not self.is_vertex(m):\n",
    "            n = self.nb_vertexes\n",
    "            assert 0 <= m and n <= m\n",
    "            self.nb_vertexes = m + 1\n",
    "            self._lists = [ [] if i >= n else self._lists[i] for i in range(m + 1) ]\n",
    "    \n",
    "    def add_edge(self, i, j):\n",
    "        \"\"\" O(1) time: append j in head of list of neighbors of i.\"\"\"\n",
    "        assert 0 <= i < self.nb_vertexes and 0 <= j < self.nb_vertexes\n",
    "        if not self.is_neighbor(i, j):\n",
    "            self._lists[i].append(j)\n",
    "        if not self.oriented:\n",
    "            if not self.is_neighbor(j, i):\n",
    "                self._lists[j].append(i)\n",
    "    \n",
    "    def remove_vertex(self, m):\n",
    "        \"\"\" TODO do it yourself, it's not hard!\"\"\"\n",
    "        raise NotImplementedError\n",
    "    \n",
    "    def remove_edge(self, i, j):\n",
    "        \"\"\" O(1) time.\"\"\"\n",
    "        assert 0 <= i < self.nb_vertexes and 0 <= j < self.nb_vertexes\n",
    "        self._lists[i].remove(j)\n",
    "        if not self.oriented:\n",
    "            self._lists[j].remove(i)\n",
    "    \n",
    "    def merge_vertexes(self, i, j):\n",
    "        \"\"\" TODO do it yourself, it's not hard!\"\"\"\n",
    "        raise NotImplementedError\n",
    "    \n",
    "    def pred(self, i):\n",
    "        \"\"\" Not trivial, has to check all lists, in O(|S|*|A|).\"\"\"\n",
    "        assert 0 <= i < self.nb_vertexes\n",
    "        return [j for j in self.vertexes if self.is_pred(j, i)]\n",
    "    \n",
    "    def is_pred(self, u, v):\n",
    "        \"\"\" O(|S|) time in worst case.\"\"\"\n",
    "        return u in self._lists[v]\n",
    "    \n",
    "    def succ(self, i):\n",
    "        \"\"\" Create a new list, to be sure that we don't modify the underlying self._lists. In O(deg(i)).\"\"\"\n",
    "        assert 0 <= i < self.nb_vertexes\n",
    "        return list(self._lists[i])\n",
    "    \n",
    "    def is_succ(self, u, v):\n",
    "        \"\"\" O(|S|) time in worst case.\"\"\"\n",
    "        return v in self._lists[u]\n",
    "    \n",
    "    def neighbors(self, i):\n",
    "        assert 0 <= i < self.nb_vertexes\n",
    "        if self.oriented:\n",
    "            return list(self.succ(i))\n",
    "        else:\n",
    "            return [j for j in self.vertexes if self.is_neighbor(i, j)]\n",
    "    \n",
    "    def is_neighbor(self, u, v):\n",
    "        \"\"\" O(|S|) time in worst case.\"\"\"\n",
    "        if self.oriented:\n",
    "            return v in self._lists[u]\n",
    "        else:\n",
    "            return v in self._lists[u] or u in self._lists[v]"
   ]
  },
  {
   "cell_type": "markdown",
   "metadata": {},
   "source": [
    "Testons cette première implémentation :"
   ]
  },
  {
   "cell_type": "code",
   "execution_count": 9,
   "metadata": {},
   "outputs": [
    {
     "name": "stdout",
     "output_type": "stream",
     "text": [
      "Creating empty graph with class <class '__main__.AdjListsGraph'>...\n",
      "Adding vertex 0...\n",
      "Adding vertex 1...\n",
      "Adding vertex 2...\n",
      "Adding vertex 3...\n",
      "Adding vertex 4...\n",
      "Adding vertex 5...\n",
      "Adding vertex 6...\n",
      "Adding edge (0, 1)...\n",
      "Adding edge (0, 2)...\n",
      "Adding edge (1, 3)...\n",
      "Adding edge (1, 4)...\n",
      "Adding edge (2, 5)...\n",
      "Adding edge (2, 6)...\n"
     ]
    },
    {
     "data": {
      "text/plain": [
       "<__main__.AdjListsGraph at 0x7f395f3f3c88>"
      ]
     },
     "execution_count": 9,
     "metadata": {},
     "output_type": "execute_result"
    }
   ],
   "source": [
    "defaultGraph(AdjListsGraph)"
   ]
  },
  {
   "cell_type": "code",
   "execution_count": 10,
   "metadata": {},
   "outputs": [
    {
     "name": "stdout",
     "output_type": "stream",
     "text": [
      "Creating empty graph with class <class '__main__.AdjListsGraph'>...\n",
      "Adding vertex 0...\n",
      "Adding vertex 1...\n",
      "Adding vertex 2...\n",
      "Adding vertex 3...\n",
      "Adding vertex 4...\n",
      "Adding vertex 5...\n",
      "Adding vertex 6...\n",
      "Adding edge (0, 1)...\n",
      "Adding edge (0, 2)...\n",
      "Adding edge (1, 3)...\n",
      "Adding edge (1, 4)...\n",
      "Adding edge (2, 5)...\n",
      "Adding edge (2, 6)...\n",
      "Graph:\n",
      "[[1, 2], [3, 4], [5, 6], [], [], [], []]\n",
      "Number of vertexes: 7\n",
      "Is the graph oriented? True\n",
      "Number of edges: 6\n",
      "List of vertexes: [0, 1, 2, 3, 4, 5, 6]\n",
      "List of edges: {(0, 1), (1, 3), (2, 6), (1, 4), (2, 5), (0, 2)}\n",
      "  List of neighbors of 0: [1, 2] (degree 2)\n",
      "    List of succ of 0: [1, 2] (out degree 2)\n",
      "    List of pred of 0: [1, 2] (in degree 2)\n",
      "  List of neighbors of 1: [3, 4] (degree 2)\n",
      "    List of succ of 1: [3, 4] (out degree 2)\n",
      "    List of pred of 1: [3, 4] (in degree 2)\n",
      "  List of neighbors of 2: [5, 6] (degree 2)\n",
      "    List of succ of 2: [5, 6] (out degree 2)\n",
      "    List of pred of 2: [5, 6] (in degree 2)\n",
      "  List of neighbors of 3: [] (degree 0)\n",
      "    List of succ of 3: [] (out degree 0)\n",
      "    List of pred of 3: [] (in degree 0)\n",
      "  List of neighbors of 4: [] (degree 0)\n",
      "    List of succ of 4: [] (out degree 0)\n",
      "    List of pred of 4: [] (in degree 0)\n",
      "  List of neighbors of 5: [] (degree 0)\n",
      "    List of succ of 5: [] (out degree 0)\n",
      "    List of pred of 5: [] (in degree 0)\n",
      "  List of neighbors of 6: [] (degree 0)\n",
      "    List of succ of 6: [] (out degree 0)\n",
      "    List of pred of 6: [] (in degree 0)\n",
      "Creating empty graph with class <class '__main__.AdjListsGraph'>...\n",
      "Adding vertex 0...\n",
      "Adding vertex 1...\n",
      "Adding vertex 2...\n",
      "Adding vertex 3...\n",
      "Adding vertex 4...\n",
      "Adding vertex 5...\n",
      "Adding vertex 6...\n",
      "Adding edge (0, 1)...\n",
      "Adding edge (0, 2)...\n",
      "Adding edge (1, 3)...\n",
      "Adding edge (1, 4)...\n",
      "Adding edge (2, 5)...\n",
      "Adding edge (2, 6)...\n",
      "Graph:\n",
      "[[1, 2], [3, 4], [5, 6], [], [], [], []]\n",
      "Number of vertexes: 7\n",
      "Is the graph oriented? False\n",
      "Number of edges: 12\n",
      "List of vertexes: [0, 1, 2, 3, 4, 5, 6]\n",
      "List of edges: {(0, 1), (1, 3), (2, 6), (3, 1), (5, 2), (1, 4), (2, 0), (2, 5), (6, 2), (1, 0), (4, 1), (0, 2)}\n",
      "  List of neighbors of 0: [1, 2] (degree 2)\n",
      "    List of succ of 0: [1, 2] (out degree 2)\n",
      "    List of pred of 0: [1, 2] (in degree 2)\n",
      "  List of neighbors of 1: [0, 3, 4] (degree 3)\n",
      "    List of succ of 1: [3, 4] (out degree 2)\n",
      "    List of pred of 1: [3, 4] (in degree 2)\n",
      "  List of neighbors of 2: [0, 5, 6] (degree 3)\n",
      "    List of succ of 2: [5, 6] (out degree 2)\n",
      "    List of pred of 2: [5, 6] (in degree 2)\n",
      "  List of neighbors of 3: [1] (degree 1)\n",
      "    List of succ of 3: [] (out degree 0)\n",
      "    List of pred of 3: [] (in degree 0)\n",
      "  List of neighbors of 4: [1] (degree 1)\n",
      "    List of succ of 4: [] (out degree 0)\n",
      "    List of pred of 4: [] (in degree 0)\n",
      "  List of neighbors of 5: [2] (degree 1)\n",
      "    List of succ of 5: [] (out degree 0)\n",
      "    List of pred of 5: [] (in degree 0)\n",
      "  List of neighbors of 6: [2] (degree 1)\n",
      "    List of succ of 6: [] (out degree 0)\n",
      "    List of pred of 6: [] (in degree 0)\n"
     ]
    }
   ],
   "source": [
    "test_defaultGraph(AdjListsGraph)"
   ]
  },
  {
   "cell_type": "markdown",
   "metadata": {},
   "source": [
    "### Graphes par liste d'arêtes"
   ]
  },
  {
   "cell_type": "code",
   "execution_count": 59,
   "metadata": {},
   "outputs": [],
   "source": [
    "class EdgesListGraph(BaseGraph):\n",
    "    def __init__(self, oriented=True, n=0):\n",
    "        \"\"\" Takes O(n) time and space to allocate the empty lists.\"\"\"\n",
    "        self.oriented = oriented\n",
    "        self.nb_vertexes = n\n",
    "        self._edges = set()\n",
    "\n",
    "    def __str__(self):\n",
    "        return str(self._edges)\n",
    "    \n",
    "    def is_vertex(self, vertex):\n",
    "        \"\"\" Test presence of a vertex.\"\"\"\n",
    "        return 0 <= vertex < self.nb_vertexes\n",
    "    \n",
    "    def add_vertex(self, m):\n",
    "        \"\"\" Worst case is O(m^2) to extend the matrix. Best case is O(1) if nothing to do.\"\"\"\n",
    "        if not self.is_vertex(m):\n",
    "            n = self.nb_vertexes\n",
    "            assert 0 <= m and n <= m\n",
    "            self.nb_vertexes = m + 1\n",
    "    \n",
    "    def add_edge(self, i, j):\n",
    "        \"\"\" O(1) time: append j in head of list of neighbors of i.\"\"\"\n",
    "        assert 0 <= i < self.nb_vertexes and 0 <= j < self.nb_vertexes\n",
    "        if not self.is_neighbor(i, j):\n",
    "            self._edges.add((i, j))\n",
    "        if not self.oriented:\n",
    "            if not self.is_neighbor(j, i):\n",
    "                self._edges.add((j, i))\n",
    "    \n",
    "    def remove_vertex(self, m):\n",
    "        \"\"\" TODO do it yourself, it's not hard!\"\"\"\n",
    "        raise NotImplementedError\n",
    "    \n",
    "    def remove_edge(self, i, j):\n",
    "        \"\"\" O(1) time.\"\"\"\n",
    "        assert 0 <= i < self.nb_vertexes and 0 <= j < self.nb_vertexes\n",
    "        self._edges.remove((i, j))\n",
    "        if not self.oriented:\n",
    "            self._edges.remove((j, i))\n",
    "    \n",
    "    def merge_vertexes(self, i, j):\n",
    "        \"\"\" TODO do it yourself, it's not hard!\"\"\"\n",
    "        raise NotImplementedError\n",
    "    \n",
    "    def pred(self, i):\n",
    "        assert 0 <= i < self.nb_vertexes\n",
    "        return [j for j in self.vertexes if self.is_pred(j, i)]\n",
    "    \n",
    "    def is_pred(self, u, v):\n",
    "        \"\"\" O(|S|) time in worst case.\"\"\"\n",
    "        return (v, u) in self._edges\n",
    "    \n",
    "    def succ(self, i):\n",
    "        assert 0 <= i < self.nb_vertexes\n",
    "        return [j for j in self.vertexes if self.is_succ(i, j)]\n",
    "    \n",
    "    def is_succ(self, u, v):\n",
    "        \"\"\" O(|S|) time in worst case.\"\"\"\n",
    "        return (u, v) in self._edges\n",
    "    \n",
    "    def neighbors(self, i):\n",
    "        assert 0 <= i < self.nb_vertexes\n",
    "        return [j for j in self.vertexes if self.is_neighbor(j, i)]\n",
    "    \n",
    "    def is_neighbor(self, u, v):\n",
    "        \"\"\" O(|S|) time in worst case.\"\"\"\n",
    "        if self.oriented:\n",
    "            return (u, v) in self._edges\n",
    "        else:\n",
    "            return (u, v) in self._edges or (v, u) in self._edges"
   ]
  },
  {
   "cell_type": "markdown",
   "metadata": {},
   "source": [
    "Testons cette première implémentation :"
   ]
  },
  {
   "cell_type": "code",
   "execution_count": 60,
   "metadata": {},
   "outputs": [
    {
     "name": "stdout",
     "output_type": "stream",
     "text": [
      "Creating empty graph with class <class '__main__.EdgesListGraph'>...\n",
      "Adding vertex 0...\n",
      "Adding vertex 1...\n",
      "Adding vertex 2...\n",
      "Adding vertex 3...\n",
      "Adding vertex 4...\n",
      "Adding vertex 5...\n",
      "Adding vertex 6...\n",
      "Adding edge (0, 1)...\n",
      "Adding edge (0, 2)...\n",
      "Adding edge (1, 3)...\n",
      "Adding edge (1, 4)...\n",
      "Adding edge (2, 5)...\n",
      "Adding edge (2, 6)...\n"
     ]
    },
    {
     "data": {
      "text/plain": [
       "<__main__.EdgesListGraph at 0x7f395e3a0f98>"
      ]
     },
     "execution_count": 60,
     "metadata": {},
     "output_type": "execute_result"
    }
   ],
   "source": [
    "defaultGraph(EdgesListGraph)"
   ]
  },
  {
   "cell_type": "code",
   "execution_count": 61,
   "metadata": {},
   "outputs": [
    {
     "name": "stdout",
     "output_type": "stream",
     "text": [
      "Creating empty graph with class <class '__main__.EdgesListGraph'>...\n",
      "Adding vertex 0...\n",
      "Adding vertex 1...\n",
      "Adding vertex 2...\n",
      "Adding vertex 3...\n",
      "Adding vertex 4...\n",
      "Adding vertex 5...\n",
      "Adding vertex 6...\n",
      "Adding edge (0, 1)...\n",
      "Adding edge (0, 2)...\n",
      "Adding edge (1, 3)...\n",
      "Adding edge (1, 4)...\n",
      "Adding edge (2, 5)...\n",
      "Adding edge (2, 6)...\n",
      "Graph:\n",
      "{(0, 1), (1, 3), (2, 6), (1, 4), (2, 5), (0, 2)}\n",
      "Number of vertexes: 7\n",
      "Is the graph oriented? True\n",
      "Number of edges: 6\n",
      "List of vertexes: [0, 1, 2, 3, 4, 5, 6]\n",
      "List of edges: {(3, 1), (5, 2), (2, 0), (6, 2), (1, 0), (4, 1)}\n",
      "  List of neighbors of 0: [] (degree 0)\n",
      "    List of succ of 0: [1, 2] (out degree 2)\n",
      "    List of pred of 0: [1, 2] (in degree 2)\n",
      "  List of neighbors of 1: [0] (degree 1)\n",
      "    List of succ of 1: [3, 4] (out degree 2)\n",
      "    List of pred of 1: [3, 4] (in degree 2)\n",
      "  List of neighbors of 2: [0] (degree 1)\n",
      "    List of succ of 2: [5, 6] (out degree 2)\n",
      "    List of pred of 2: [5, 6] (in degree 2)\n",
      "  List of neighbors of 3: [1] (degree 1)\n",
      "    List of succ of 3: [] (out degree 0)\n",
      "    List of pred of 3: [] (in degree 0)\n",
      "  List of neighbors of 4: [1] (degree 1)\n",
      "    List of succ of 4: [] (out degree 0)\n",
      "    List of pred of 4: [] (in degree 0)\n",
      "  List of neighbors of 5: [2] (degree 1)\n",
      "    List of succ of 5: [] (out degree 0)\n",
      "    List of pred of 5: [] (in degree 0)\n",
      "  List of neighbors of 6: [2] (degree 1)\n",
      "    List of succ of 6: [] (out degree 0)\n",
      "    List of pred of 6: [] (in degree 0)\n",
      "Creating empty graph with class <class '__main__.EdgesListGraph'>...\n",
      "Adding vertex 0...\n",
      "Adding vertex 1...\n",
      "Adding vertex 2...\n",
      "Adding vertex 3...\n",
      "Adding vertex 4...\n",
      "Adding vertex 5...\n",
      "Adding vertex 6...\n",
      "Adding edge (0, 1)...\n",
      "Adding edge (0, 2)...\n",
      "Adding edge (1, 3)...\n",
      "Adding edge (1, 4)...\n",
      "Adding edge (2, 5)...\n",
      "Adding edge (2, 6)...\n",
      "Graph:\n",
      "{(0, 1), (1, 3), (2, 6), (1, 4), (2, 5), (0, 2)}\n",
      "Number of vertexes: 7\n",
      "Is the graph oriented? False\n",
      "Number of edges: 12\n",
      "List of vertexes: [0, 1, 2, 3, 4, 5, 6]\n",
      "List of edges: {(0, 1), (1, 3), (2, 6), (3, 1), (5, 2), (1, 4), (2, 0), (2, 5), (6, 2), (1, 0), (4, 1), (0, 2)}\n",
      "  List of neighbors of 0: [1, 2] (degree 2)\n",
      "    List of succ of 0: [1, 2] (out degree 2)\n",
      "    List of pred of 0: [1, 2] (in degree 2)\n",
      "  List of neighbors of 1: [0, 3, 4] (degree 3)\n",
      "    List of succ of 1: [3, 4] (out degree 2)\n",
      "    List of pred of 1: [3, 4] (in degree 2)\n",
      "  List of neighbors of 2: [0, 5, 6] (degree 3)\n",
      "    List of succ of 2: [5, 6] (out degree 2)\n",
      "    List of pred of 2: [5, 6] (in degree 2)\n",
      "  List of neighbors of 3: [1] (degree 1)\n",
      "    List of succ of 3: [] (out degree 0)\n",
      "    List of pred of 3: [] (in degree 0)\n",
      "  List of neighbors of 4: [1] (degree 1)\n",
      "    List of succ of 4: [] (out degree 0)\n",
      "    List of pred of 4: [] (in degree 0)\n",
      "  List of neighbors of 5: [2] (degree 1)\n",
      "    List of succ of 5: [] (out degree 0)\n",
      "    List of pred of 5: [] (in degree 0)\n",
      "  List of neighbors of 6: [2] (degree 1)\n",
      "    List of succ of 6: [] (out degree 0)\n",
      "    List of pred of 6: [] (in degree 0)\n"
     ]
    }
   ],
   "source": [
    "test_defaultGraph(EdgesListGraph)"
   ]
  },
  {
   "cell_type": "markdown",
   "metadata": {},
   "source": [
    "----\n",
    "## Test numérique des complexités des différentes opérations\n",
    "\n",
    "On rappelle qu'on devrait obtenir les résultats suivants, avec $n=|S|$, que l'on va valider expérimentalement.\n",
    "\n",
    "| Opérations | Matrice d'adjacence | Listes d'adjacence | Liste d'arêtes |\n",
    "|:-----------|---------------------|--------------------|----------------|\n",
    "| Création (vide) | temps et mémoire $O(n^2)$ si vide | temps et mémoire $O(n)$ si vide | temps et mémoire $O(1)$ si vide |\n",
    "| Ajoute un sommet $u$ | $O(n^2)$ (recopie) | $O(1)$ | $O(1)$ |\n",
    "| Retire un sommet $u$ | $O(n^2)$ (recopie) | $O(d(u))$ si orienté, $O(|A|+|S|)$ sinon | $O(|A|)$ (suppression des arêtes) |\n",
    "| Ajoute un arc $(u,v)$ | $O(1)$ | $O(d(u))$ si orienté, $O(d(u)+d(v))$ sinon | $O(1)$ (si liste d'arêtes) ou $O(1)$ en amorti (si ensemble d'arêtes) |\n",
    "| Retire un arc $(u,v)$ | $O(1)$ | $O(d(u))$ si orienté, $O(d(u)+d(v))$ sinon | $O(|A|)$ (si liste d'arêtes) ou $O(1)$ en amorti (si ensemble d'arêtes) |\n",
    "| Liste des sommets | $O(n)$ | $O(n)$ | $O(n)$ |\n",
    "| Liste des arcs | $O(n^2)$ tout parcourir | $O(|A|)$ parcourir les $n$ listes de tailles $d(u)$, et $\\sum_u d(u) = |A|$ | $O(1)$ (si liste d'arêtes) ou $O(|A|)$ (si ensemble d'arêtes) |\n",
    "| Liste des voisins du nœud $u$ | $O(n)$ | $O(d(u))$ ($O(1)$ si on ne crée pas de nouvelle liste) | $O(|A|)$ |\n",
    "| Degré du nœud $u$ | $O(n)$ | $O(n)$ | $O(|A|)$ |\n",
    "| Liste des voisins sortant du nœud $u$ | $O(n)$ | $O(n)$ | $O(|A|)$ |\n",
    "| Degré sortant du nœud $u$ | $O(n)$ | $O(n)$ | $O(|A|)$ |\n",
    "| Liste des voisins entrant du nœud $u$ | $O(n)$ | $O(n)$ | $O(|A|)$ |\n",
    "| Degré entrant du nœud $u$ | $O(n)$ | $O(n)$ | $O(|A|)$ |\n"
   ]
  },
  {
   "cell_type": "code",
   "execution_count": 62,
   "metadata": {},
   "outputs": [],
   "source": [
    "try:\n",
    "    from tqdm import tqdm_notebook\n",
    "except ImportError:\n",
    "    def tqdm_notebook(iterator, *args, **kwargs):\n",
    "        return iterator"
   ]
  },
  {
   "cell_type": "code",
   "execution_count": null,
   "metadata": {},
   "outputs": [],
   "source": [
    "graph.is_vertex(vertex)\n",
    "graph.add_vertex(m)\n",
    "graph.add_edge(i, j)\n",
    "graph.remove_edge(i, j)\n",
    "graph.pred(i)\n",
    "graph.is_pred(u, v)\n",
    "graph.succ(i)\n",
    "graph.is_succ(u, v)\n",
    "graph.neighbors(i)\n",
    "graph.is_neighbor(u, v)"
   ]
  },
  {
   "cell_type": "code",
   "execution_count": 64,
   "metadata": {},
   "outputs": [],
   "source": [
    "def random_vertex(n):\n",
    "    return random.randint(0, n+1)\n",
    "\n",
    "def random_edge(n):\n",
    "    return (random_vertex(n), random_vertex(n))"
   ]
  },
  {
   "cell_type": "code",
   "execution_count": 69,
   "metadata": {},
   "outputs": [
    {
     "data": {
      "application/vnd.jupyter.widget-view+json": {
       "model_id": "78bb84d15c4943b5a3d593b329f6f1f4",
       "version_major": 2,
       "version_minor": 0
      },
      "text/plain": [
       "HBox(children=(IntProgress(value=0, description='n', max=1, style=ProgressStyle(description_width='initial')),…"
      ]
     },
     "metadata": {},
     "output_type": "display_data"
    },
    {
     "name": "stdout",
     "output_type": "stream",
     "text": [
      "\n",
      "\n",
      " For graphs with 100 vertexes:\n"
     ]
    },
    {
     "data": {
      "application/vnd.jupyter.widget-view+json": {
       "model_id": "69c33ab93c474404a5d590be8416c5b5",
       "version_major": 2,
       "version_minor": 0
      },
      "text/plain": [
       "HBox(children=(IntProgress(value=0, description='proba', max=3, style=ProgressStyle(description_width='initial…"
      ]
     },
     "metadata": {},
     "output_type": "display_data"
    },
    {
     "name": "stdout",
     "output_type": "stream",
     "text": [
      "\n",
      "  and link probability of 0.01:\n"
     ]
    },
    {
     "data": {
      "application/vnd.jupyter.widget-view+json": {
       "model_id": "91443114ca3743eda5ada38d1ca6a089",
       "version_major": 2,
       "version_minor": 0
      },
      "text/plain": [
       "HBox(children=(IntProgress(value=0, description='class', max=3, style=ProgressStyle(description_width='initial…"
      ]
     },
     "metadata": {},
     "output_type": "display_data"
    },
    {
     "name": "stdout",
     "output_type": "stream",
     "text": [
      "\n",
      "    for class <class '__main__.AdjMatrixGraph'>...\n",
      "Time to create a new graph:\n",
      "1.73 ms ± 119 µs per loop (mean ± std. dev. of 7 runs, 100 loops each)\n",
      "Time to test presence of a vertex:\n",
      "1.26 µs ± 69 ns per loop (mean ± std. dev. of 7 runs, 1000000 loops each)\n",
      "Time to add the next vertex n + 2:\n",
      "264 ns ± 4.73 ns per loop (mean ± std. dev. of 7 runs, 1000000 loops each)\n",
      "Time to compute pred:\n",
      "25.1 µs ± 159 ns per loop (mean ± std. dev. of 7 runs, 10000 loops each)\n",
      "Time to test pred:\n",
      "2.42 µs ± 40.7 ns per loop (mean ± std. dev. of 7 runs, 100000 loops each)\n",
      "Time to compute succ:\n",
      "25.5 µs ± 682 ns per loop (mean ± std. dev. of 7 runs, 10000 loops each)\n",
      "Time to test succ:\n",
      "2.41 µs ± 20.5 ns per loop (mean ± std. dev. of 7 runs, 100000 loops each)\n",
      "Time to compute neighbors:\n",
      "25.6 µs ± 663 ns per loop (mean ± std. dev. of 7 runs, 10000 loops each)\n",
      "Time to test neighbors:\n",
      "2.46 µs ± 28.8 ns per loop (mean ± std. dev. of 7 runs, 100000 loops each)\n",
      "Time to add an edge:\n",
      "2.7 µs ± 197 ns per loop (mean ± std. dev. of 7 runs, 100000 loops each)\n",
      "\n",
      "    for class <class '__main__.AdjListsGraph'>...\n",
      "Time to create a new graph:\n",
      "1.85 ms ± 10.5 µs per loop (mean ± std. dev. of 7 runs, 1000 loops each)\n",
      "Time to test presence of a vertex:\n",
      "1.24 µs ± 42 ns per loop (mean ± std. dev. of 7 runs, 1000000 loops each)\n",
      "Time to add the next vertex n + 2:\n",
      "342 ns ± 13.7 ns per loop (mean ± std. dev. of 7 runs, 1000000 loops each)\n",
      "Time to compute pred:\n"
     ]
    },
    {
     "ename": "KeyboardInterrupt",
     "evalue": "",
     "output_type": "error",
     "traceback": [
      "\u001b[0;31m---------------------------------------------------------------------------\u001b[0m",
      "\u001b[0;31mKeyboardInterrupt\u001b[0m                         Traceback (most recent call last)",
      "\u001b[0;32m<ipython-input-69-be262ef254c3>\u001b[0m in \u001b[0;36m<module>\u001b[0;34m\u001b[0m\n\u001b[1;32m     16\u001b[0m             \u001b[0mget_ipython\u001b[0m\u001b[0;34m(\u001b[0m\u001b[0;34m)\u001b[0m\u001b[0;34m.\u001b[0m\u001b[0mrun_line_magic\u001b[0m\u001b[0;34m(\u001b[0m\u001b[0;34m'timeit'\u001b[0m\u001b[0;34m,\u001b[0m \u001b[0;34m'graph.add_vertex(n + 2)'\u001b[0m\u001b[0;34m)\u001b[0m\u001b[0;34m\u001b[0m\u001b[0;34m\u001b[0m\u001b[0m\n\u001b[1;32m     17\u001b[0m             \u001b[0mprint\u001b[0m\u001b[0;34m(\u001b[0m\u001b[0;34m\"Time to compute pred:\"\u001b[0m\u001b[0;34m)\u001b[0m\u001b[0;34m\u001b[0m\u001b[0;34m\u001b[0m\u001b[0m\n\u001b[0;32m---> 18\u001b[0;31m             \u001b[0mget_ipython\u001b[0m\u001b[0;34m(\u001b[0m\u001b[0;34m)\u001b[0m\u001b[0;34m.\u001b[0m\u001b[0mrun_line_magic\u001b[0m\u001b[0;34m(\u001b[0m\u001b[0;34m'timeit'\u001b[0m\u001b[0;34m,\u001b[0m \u001b[0;34m'graph.pred(random_vertex(n))'\u001b[0m\u001b[0;34m)\u001b[0m\u001b[0;34m\u001b[0m\u001b[0;34m\u001b[0m\u001b[0m\n\u001b[0m\u001b[1;32m     19\u001b[0m             \u001b[0mprint\u001b[0m\u001b[0;34m(\u001b[0m\u001b[0;34m\"Time to test pred:\"\u001b[0m\u001b[0;34m)\u001b[0m\u001b[0;34m\u001b[0m\u001b[0;34m\u001b[0m\u001b[0m\n\u001b[1;32m     20\u001b[0m             \u001b[0mget_ipython\u001b[0m\u001b[0;34m(\u001b[0m\u001b[0;34m)\u001b[0m\u001b[0;34m.\u001b[0m\u001b[0mrun_line_magic\u001b[0m\u001b[0;34m(\u001b[0m\u001b[0;34m'timeit'\u001b[0m\u001b[0;34m,\u001b[0m \u001b[0;34m'graph.is_pred(*random_edge(n))'\u001b[0m\u001b[0;34m)\u001b[0m\u001b[0;34m\u001b[0m\u001b[0;34m\u001b[0m\u001b[0m\n",
      "\u001b[0;32m/usr/local/lib/python3.6/dist-packages/IPython/core/interactiveshell.py\u001b[0m in \u001b[0;36mrun_line_magic\u001b[0;34m(self, magic_name, line, _stack_depth)\u001b[0m\n\u001b[1;32m   2305\u001b[0m                 \u001b[0mkwargs\u001b[0m\u001b[0;34m[\u001b[0m\u001b[0;34m'local_ns'\u001b[0m\u001b[0;34m]\u001b[0m \u001b[0;34m=\u001b[0m \u001b[0msys\u001b[0m\u001b[0;34m.\u001b[0m\u001b[0m_getframe\u001b[0m\u001b[0;34m(\u001b[0m\u001b[0mstack_depth\u001b[0m\u001b[0;34m)\u001b[0m\u001b[0;34m.\u001b[0m\u001b[0mf_locals\u001b[0m\u001b[0;34m\u001b[0m\u001b[0;34m\u001b[0m\u001b[0m\n\u001b[1;32m   2306\u001b[0m             \u001b[0;32mwith\u001b[0m \u001b[0mself\u001b[0m\u001b[0;34m.\u001b[0m\u001b[0mbuiltin_trap\u001b[0m\u001b[0;34m:\u001b[0m\u001b[0;34m\u001b[0m\u001b[0;34m\u001b[0m\u001b[0m\n\u001b[0;32m-> 2307\u001b[0;31m                 \u001b[0mresult\u001b[0m \u001b[0;34m=\u001b[0m \u001b[0mfn\u001b[0m\u001b[0;34m(\u001b[0m\u001b[0;34m*\u001b[0m\u001b[0margs\u001b[0m\u001b[0;34m,\u001b[0m \u001b[0;34m**\u001b[0m\u001b[0mkwargs\u001b[0m\u001b[0;34m)\u001b[0m\u001b[0;34m\u001b[0m\u001b[0;34m\u001b[0m\u001b[0m\n\u001b[0m\u001b[1;32m   2308\u001b[0m             \u001b[0;32mreturn\u001b[0m \u001b[0mresult\u001b[0m\u001b[0;34m\u001b[0m\u001b[0;34m\u001b[0m\u001b[0m\n\u001b[1;32m   2309\u001b[0m \u001b[0;34m\u001b[0m\u001b[0m\n",
      "\u001b[0;32m</usr/local/lib/python3.6/dist-packages/decorator.py:decorator-gen-60>\u001b[0m in \u001b[0;36mtimeit\u001b[0;34m(self, line, cell, local_ns)\u001b[0m\n",
      "\u001b[0;32m/usr/local/lib/python3.6/dist-packages/IPython/core/magic.py\u001b[0m in \u001b[0;36m<lambda>\u001b[0;34m(f, *a, **k)\u001b[0m\n\u001b[1;32m    185\u001b[0m     \u001b[0;31m# but it's overkill for just that one bit of state.\u001b[0m\u001b[0;34m\u001b[0m\u001b[0;34m\u001b[0m\u001b[0;34m\u001b[0m\u001b[0m\n\u001b[1;32m    186\u001b[0m     \u001b[0;32mdef\u001b[0m \u001b[0mmagic_deco\u001b[0m\u001b[0;34m(\u001b[0m\u001b[0marg\u001b[0m\u001b[0;34m)\u001b[0m\u001b[0;34m:\u001b[0m\u001b[0;34m\u001b[0m\u001b[0;34m\u001b[0m\u001b[0m\n\u001b[0;32m--> 187\u001b[0;31m         \u001b[0mcall\u001b[0m \u001b[0;34m=\u001b[0m \u001b[0;32mlambda\u001b[0m \u001b[0mf\u001b[0m\u001b[0;34m,\u001b[0m \u001b[0;34m*\u001b[0m\u001b[0ma\u001b[0m\u001b[0;34m,\u001b[0m \u001b[0;34m**\u001b[0m\u001b[0mk\u001b[0m\u001b[0;34m:\u001b[0m \u001b[0mf\u001b[0m\u001b[0;34m(\u001b[0m\u001b[0;34m*\u001b[0m\u001b[0ma\u001b[0m\u001b[0;34m,\u001b[0m \u001b[0;34m**\u001b[0m\u001b[0mk\u001b[0m\u001b[0;34m)\u001b[0m\u001b[0;34m\u001b[0m\u001b[0;34m\u001b[0m\u001b[0m\n\u001b[0m\u001b[1;32m    188\u001b[0m \u001b[0;34m\u001b[0m\u001b[0m\n\u001b[1;32m    189\u001b[0m         \u001b[0;32mif\u001b[0m \u001b[0mcallable\u001b[0m\u001b[0;34m(\u001b[0m\u001b[0marg\u001b[0m\u001b[0;34m)\u001b[0m\u001b[0;34m:\u001b[0m\u001b[0;34m\u001b[0m\u001b[0;34m\u001b[0m\u001b[0m\n",
      "\u001b[0;32m/usr/local/lib/python3.6/dist-packages/IPython/core/magics/execution.py\u001b[0m in \u001b[0;36mtimeit\u001b[0;34m(self, line, cell, local_ns)\u001b[0m\n\u001b[1;32m   1145\u001b[0m             \u001b[0;32mfor\u001b[0m \u001b[0mindex\u001b[0m \u001b[0;32min\u001b[0m \u001b[0mrange\u001b[0m\u001b[0;34m(\u001b[0m\u001b[0;36m0\u001b[0m\u001b[0;34m,\u001b[0m \u001b[0;36m10\u001b[0m\u001b[0;34m)\u001b[0m\u001b[0;34m:\u001b[0m\u001b[0;34m\u001b[0m\u001b[0;34m\u001b[0m\u001b[0m\n\u001b[1;32m   1146\u001b[0m                 \u001b[0mnumber\u001b[0m \u001b[0;34m=\u001b[0m \u001b[0;36m10\u001b[0m \u001b[0;34m**\u001b[0m \u001b[0mindex\u001b[0m\u001b[0;34m\u001b[0m\u001b[0;34m\u001b[0m\u001b[0m\n\u001b[0;32m-> 1147\u001b[0;31m                 \u001b[0mtime_number\u001b[0m \u001b[0;34m=\u001b[0m \u001b[0mtimer\u001b[0m\u001b[0;34m.\u001b[0m\u001b[0mtimeit\u001b[0m\u001b[0;34m(\u001b[0m\u001b[0mnumber\u001b[0m\u001b[0;34m)\u001b[0m\u001b[0;34m\u001b[0m\u001b[0;34m\u001b[0m\u001b[0m\n\u001b[0m\u001b[1;32m   1148\u001b[0m                 \u001b[0;32mif\u001b[0m \u001b[0mtime_number\u001b[0m \u001b[0;34m>=\u001b[0m \u001b[0;36m0.2\u001b[0m\u001b[0;34m:\u001b[0m\u001b[0;34m\u001b[0m\u001b[0;34m\u001b[0m\u001b[0m\n\u001b[1;32m   1149\u001b[0m                     \u001b[0;32mbreak\u001b[0m\u001b[0;34m\u001b[0m\u001b[0;34m\u001b[0m\u001b[0m\n",
      "\u001b[0;32m/usr/local/lib/python3.6/dist-packages/IPython/core/magics/execution.py\u001b[0m in \u001b[0;36mtimeit\u001b[0;34m(self, number)\u001b[0m\n\u001b[1;32m    159\u001b[0m         \u001b[0mgc\u001b[0m\u001b[0;34m.\u001b[0m\u001b[0mdisable\u001b[0m\u001b[0;34m(\u001b[0m\u001b[0;34m)\u001b[0m\u001b[0;34m\u001b[0m\u001b[0;34m\u001b[0m\u001b[0m\n\u001b[1;32m    160\u001b[0m         \u001b[0;32mtry\u001b[0m\u001b[0;34m:\u001b[0m\u001b[0;34m\u001b[0m\u001b[0;34m\u001b[0m\u001b[0m\n\u001b[0;32m--> 161\u001b[0;31m             \u001b[0mtiming\u001b[0m \u001b[0;34m=\u001b[0m \u001b[0mself\u001b[0m\u001b[0;34m.\u001b[0m\u001b[0minner\u001b[0m\u001b[0;34m(\u001b[0m\u001b[0mit\u001b[0m\u001b[0;34m,\u001b[0m \u001b[0mself\u001b[0m\u001b[0;34m.\u001b[0m\u001b[0mtimer\u001b[0m\u001b[0;34m)\u001b[0m\u001b[0;34m\u001b[0m\u001b[0;34m\u001b[0m\u001b[0m\n\u001b[0m\u001b[1;32m    162\u001b[0m         \u001b[0;32mfinally\u001b[0m\u001b[0;34m:\u001b[0m\u001b[0;34m\u001b[0m\u001b[0;34m\u001b[0m\u001b[0m\n\u001b[1;32m    163\u001b[0m             \u001b[0;32mif\u001b[0m \u001b[0mgcold\u001b[0m\u001b[0;34m:\u001b[0m\u001b[0;34m\u001b[0m\u001b[0;34m\u001b[0m\u001b[0m\n",
      "\u001b[0;32m<magic-timeit>\u001b[0m in \u001b[0;36minner\u001b[0;34m(_it, _timer)\u001b[0m\n",
      "\u001b[0;32m<ipython-input-8-4137870f2887>\u001b[0m in \u001b[0;36mpred\u001b[0;34m(self, i)\u001b[0m\n\u001b[1;32m     48\u001b[0m         \u001b[0;34m\"\"\" Not trivial, has to check all lists, in O(|S|*|A|).\"\"\"\u001b[0m\u001b[0;34m\u001b[0m\u001b[0;34m\u001b[0m\u001b[0m\n\u001b[1;32m     49\u001b[0m         \u001b[0;32massert\u001b[0m \u001b[0;36m0\u001b[0m \u001b[0;34m<=\u001b[0m \u001b[0mi\u001b[0m \u001b[0;34m<\u001b[0m \u001b[0mself\u001b[0m\u001b[0;34m.\u001b[0m\u001b[0mnb_vertexes\u001b[0m\u001b[0;34m\u001b[0m\u001b[0;34m\u001b[0m\u001b[0m\n\u001b[0;32m---> 50\u001b[0;31m         \u001b[0;32mreturn\u001b[0m \u001b[0;34m[\u001b[0m\u001b[0mj\u001b[0m \u001b[0;32mfor\u001b[0m \u001b[0mj\u001b[0m \u001b[0;32min\u001b[0m \u001b[0mself\u001b[0m\u001b[0;34m.\u001b[0m\u001b[0mvertexes\u001b[0m \u001b[0;32mif\u001b[0m \u001b[0mself\u001b[0m\u001b[0;34m.\u001b[0m\u001b[0mis_pred\u001b[0m\u001b[0;34m(\u001b[0m\u001b[0mj\u001b[0m\u001b[0;34m,\u001b[0m \u001b[0mi\u001b[0m\u001b[0;34m)\u001b[0m\u001b[0;34m]\u001b[0m\u001b[0;34m\u001b[0m\u001b[0;34m\u001b[0m\u001b[0m\n\u001b[0m\u001b[1;32m     51\u001b[0m \u001b[0;34m\u001b[0m\u001b[0m\n\u001b[1;32m     52\u001b[0m     \u001b[0;32mdef\u001b[0m \u001b[0mis_pred\u001b[0m\u001b[0;34m(\u001b[0m\u001b[0mself\u001b[0m\u001b[0;34m,\u001b[0m \u001b[0mu\u001b[0m\u001b[0;34m,\u001b[0m \u001b[0mv\u001b[0m\u001b[0;34m)\u001b[0m\u001b[0;34m:\u001b[0m\u001b[0;34m\u001b[0m\u001b[0;34m\u001b[0m\u001b[0m\n",
      "\u001b[0;32m<ipython-input-8-4137870f2887>\u001b[0m in \u001b[0;36m<listcomp>\u001b[0;34m(.0)\u001b[0m\n\u001b[1;32m     48\u001b[0m         \u001b[0;34m\"\"\" Not trivial, has to check all lists, in O(|S|*|A|).\"\"\"\u001b[0m\u001b[0;34m\u001b[0m\u001b[0;34m\u001b[0m\u001b[0m\n\u001b[1;32m     49\u001b[0m         \u001b[0;32massert\u001b[0m \u001b[0;36m0\u001b[0m \u001b[0;34m<=\u001b[0m \u001b[0mi\u001b[0m \u001b[0;34m<\u001b[0m \u001b[0mself\u001b[0m\u001b[0;34m.\u001b[0m\u001b[0mnb_vertexes\u001b[0m\u001b[0;34m\u001b[0m\u001b[0;34m\u001b[0m\u001b[0m\n\u001b[0;32m---> 50\u001b[0;31m         \u001b[0;32mreturn\u001b[0m \u001b[0;34m[\u001b[0m\u001b[0mj\u001b[0m \u001b[0;32mfor\u001b[0m \u001b[0mj\u001b[0m \u001b[0;32min\u001b[0m \u001b[0mself\u001b[0m\u001b[0;34m.\u001b[0m\u001b[0mvertexes\u001b[0m \u001b[0;32mif\u001b[0m \u001b[0mself\u001b[0m\u001b[0;34m.\u001b[0m\u001b[0mis_pred\u001b[0m\u001b[0;34m(\u001b[0m\u001b[0mj\u001b[0m\u001b[0;34m,\u001b[0m \u001b[0mi\u001b[0m\u001b[0;34m)\u001b[0m\u001b[0;34m]\u001b[0m\u001b[0;34m\u001b[0m\u001b[0;34m\u001b[0m\u001b[0m\n\u001b[0m\u001b[1;32m     51\u001b[0m \u001b[0;34m\u001b[0m\u001b[0m\n\u001b[1;32m     52\u001b[0m     \u001b[0;32mdef\u001b[0m \u001b[0mis_pred\u001b[0m\u001b[0;34m(\u001b[0m\u001b[0mself\u001b[0m\u001b[0;34m,\u001b[0m \u001b[0mu\u001b[0m\u001b[0;34m,\u001b[0m \u001b[0mv\u001b[0m\u001b[0;34m)\u001b[0m\u001b[0;34m:\u001b[0m\u001b[0;34m\u001b[0m\u001b[0;34m\u001b[0m\u001b[0m\n",
      "\u001b[0;31mKeyboardInterrupt\u001b[0m: "
     ]
    }
   ],
   "source": [
    "for n in tqdm_notebook([100, 1000], desc=\"n\"):  #, 1000, 10_000, 100_000]):\n",
    "    print(f\"\\n\\n For graphs with {n} vertexes:\")\n",
    "    for probability in tqdm_notebook([1.0/n, 1.0/np.sqrt(n), 0.9], desc=\"proba\"):\n",
    "        # p = 1/n => |A| ~= |S|\n",
    "        # p = 1/sqrt(n) => |A| ~= |S|^(3/2)\n",
    "        # p = 0.9 => |A| ~= 0.9 |S|^2\n",
    "        print(f\"\\n  and link probability of {probability}:\")\n",
    "        for GraphClass in tqdm_notebook([AdjMatrixGraph, AdjListsGraph, EdgesListGraph], desc=\"class\"):\n",
    "            print(f\"\\n    for class {GraphClass}...\")\n",
    "            graph = randomGraph(GraphClass, n=n, probability=probability)\n",
    "            print(\"Time to create a new graph:\")\n",
    "            %timeit randomGraph(GraphClass, n=n, probability=probability)\n",
    "            print(\"Time to test presence of a vertex:\")\n",
    "            %timeit graph.is_vertex(random_vertex(n))\n",
    "            print(\"Time to add the next vertex n + 2:\")\n",
    "            %timeit graph.add_vertex(n + 2)\n",
    "            print(\"Time to compute pred:\")\n",
    "            %timeit graph.pred(random_vertex(n))\n",
    "            print(\"Time to test pred:\")\n",
    "            %timeit graph.is_pred(*random_edge(n))\n",
    "            print(\"Time to compute succ:\")\n",
    "            %timeit graph.succ(random_vertex(n))\n",
    "            print(\"Time to test succ:\")\n",
    "            %timeit graph.is_succ(*random_edge(n))\n",
    "            print(\"Time to compute neighbors:\")\n",
    "            %timeit graph.neighbors(random_vertex(n))\n",
    "            print(\"Time to test neighbors:\")\n",
    "            %timeit graph.is_neighbor(*random_edge(n))\n",
    "            print(\"Time to add an edge:\")\n",
    "            %timeit graph.add_edge(*random_edge(n))"
   ]
  },
  {
   "cell_type": "code",
   "execution_count": null,
   "metadata": {},
   "outputs": [],
   "source": []
  },
  {
   "cell_type": "markdown",
   "metadata": {},
   "source": [
    "----\n",
    "## Parcours en profondeur"
   ]
  },
  {
   "cell_type": "markdown",
   "metadata": {},
   "source": [
    "----\n",
    "## Application : composantes connexes d'un graphe non orienté"
   ]
  },
  {
   "cell_type": "markdown",
   "metadata": {},
   "source": [
    "----\n",
    "## Conclusion\n",
    "\n",
    "C'est bon pour aujourd'hui !"
   ]
  }
 ],
 "metadata": {
  "kernelspec": {
   "display_name": "Python 3",
   "language": "python",
   "name": "python3"
  },
  "language_info": {
   "codemirror_mode": {
    "name": "ipython",
    "version": 3
   },
   "file_extension": ".py",
   "mimetype": "text/x-python",
   "name": "python",
   "nbconvert_exporter": "python",
   "pygments_lexer": "ipython3",
   "version": "3.6.8"
  },
  "toc": {
   "colors": {
    "hover_highlight": "#DAA520",
    "running_highlight": "#FF0000",
    "selected_highlight": "#FFD700"
   },
   "moveMenuLeft": true,
   "nav_menu": {
    "height": "356.867px",
    "width": "446.667px"
   },
   "navigate_menu": true,
   "number_sections": true,
   "sideBar": true,
   "threshold": 4,
   "toc_cell": true,
   "toc_position": {
    "height": "957.567px",
    "left": "0px",
    "right": "20px",
    "top": "121.433px",
    "width": "224.683px"
   },
   "toc_section_display": "block",
   "toc_window_display": true
  },
  "varInspector": {
   "cols": {
    "lenName": 16,
    "lenType": 16,
    "lenVar": 40
   },
   "kernels_config": {
    "python": {
     "delete_cmd_postfix": "",
     "delete_cmd_prefix": "del ",
     "library": "var_list.py",
     "varRefreshCmd": "print(var_dic_list())"
    },
    "r": {
     "delete_cmd_postfix": ") ",
     "delete_cmd_prefix": "rm(",
     "library": "var_list.r",
     "varRefreshCmd": "cat(var_dic_list()) "
    }
   },
   "position": {
    "height": "247.85px",
    "left": "829.5px",
    "right": "20px",
    "top": "307px",
    "width": "470.5px"
   },
   "types_to_exclude": [
    "module",
    "function",
    "builtin_function_or_method",
    "instance",
    "_Feature"
   ],
   "window_display": false
  },
  "widgets": {
   "application/vnd.jupyter.widget-state+json": {
    "state": {
     "038a808e883447f29c7d1ac0b392a0d3": {
      "model_module": "@jupyter-widgets/controls",
      "model_module_version": "1.4.0",
      "model_name": "HBoxModel",
      "state": {
       "children": [
        "IPY_MODEL_4aaf5ca76a38467087582b42de1f6a1e",
        "IPY_MODEL_d614664cf99743889aa9b084525990d8"
       ],
       "layout": "IPY_MODEL_c02a451e0731469ea91cc39abbf14c48"
      }
     },
     "03fa6285b902493bbc52e73542eb6bd3": {
      "model_module": "@jupyter-widgets/controls",
      "model_module_version": "1.4.0",
      "model_name": "HTMLModel",
      "state": {
       "layout": "IPY_MODEL_14d24c174ecb4428af82666854e1ed83",
       "style": "IPY_MODEL_108a32808a0b43bda9b869081b96b80b",
       "value": "100% 12/12 [00:00&lt;00:00, 15.79it/s]"
      }
     },
     "040769e561d949e39b17361d682bb4a8": {
      "model_module": "@jupyter-widgets/controls",
      "model_module_version": "1.4.0",
      "model_name": "IntProgressModel",
      "state": {
       "bar_style": "success",
       "layout": "IPY_MODEL_61ab17aa9e4540939240cce1f8b4c32e",
       "max": 31,
       "style": "IPY_MODEL_7a2861a1cfdb45bdac48eb59c8b660bc",
       "value": 31
      }
     },
     "043afb832aa3492482fd973bb9d9bd7a": {
      "model_module": "@jupyter-widgets/controls",
      "model_module_version": "1.4.0",
      "model_name": "ProgressStyleModel",
      "state": {
       "description_width": ""
      }
     },
     "04fe7b5bda3e4a4fb6218fa292b77714": {
      "model_module": "@jupyter-widgets/controls",
      "model_module_version": "1.4.0",
      "model_name": "IntProgressModel",
      "state": {
       "bar_style": "success",
       "layout": "IPY_MODEL_16b894adae9e402f82bbd843b91510cf",
       "max": 3,
       "style": "IPY_MODEL_e518bcea114a41ec8900a5dad806fa8b",
       "value": 3
      }
     },
     "07f2b1c3f170407fa620b52e90db8940": {
      "model_module": "@jupyter-widgets/base",
      "model_module_version": "1.1.0",
      "model_name": "LayoutModel",
      "state": {}
     },
     "085e6cabb67240d4a0e1c2ab7c937c98": {
      "model_module": "@jupyter-widgets/base",
      "model_module_version": "1.1.0",
      "model_name": "LayoutModel",
      "state": {}
     },
     "0ae749625db249539e573bdfcd6fa23c": {
      "model_module": "@jupyter-widgets/base",
      "model_module_version": "1.1.0",
      "model_name": "LayoutModel",
      "state": {}
     },
     "0c7b9244ca3d4cfca64cc68c62c676ef": {
      "model_module": "@jupyter-widgets/controls",
      "model_module_version": "1.4.0",
      "model_name": "HBoxModel",
      "state": {
       "children": [
        "IPY_MODEL_2ac95f4aedb04f5a9a5fa5361f2b5d49",
        "IPY_MODEL_fb9bace579f64af4b7ebb87789031257"
       ],
       "layout": "IPY_MODEL_2c2f47043664427b9fe40d9dab59f5be"
      }
     },
     "0f40caa17b6f45b19f9b67db6af682c3": {
      "model_module": "@jupyter-widgets/controls",
      "model_module_version": "1.4.0",
      "model_name": "IntProgressModel",
      "state": {
       "bar_style": "success",
       "layout": "IPY_MODEL_432a0f81101043fc812406cb9699cf55",
       "max": 12,
       "style": "IPY_MODEL_6d05a0207eb44be8a8194d7672bc3dc3",
       "value": 12
      }
     },
     "0f5c61300af74d9c87b2e169a8d59564": {
      "model_module": "@jupyter-widgets/controls",
      "model_module_version": "1.4.0",
      "model_name": "ProgressStyleModel",
      "state": {
       "description_width": ""
      }
     },
     "0fad5d8fdefd419584c192c1edb6a221": {
      "model_module": "@jupyter-widgets/base",
      "model_module_version": "1.1.0",
      "model_name": "LayoutModel",
      "state": {}
     },
     "108a32808a0b43bda9b869081b96b80b": {
      "model_module": "@jupyter-widgets/controls",
      "model_module_version": "1.4.0",
      "model_name": "DescriptionStyleModel",
      "state": {
       "description_width": ""
      }
     },
     "1099c3fb624b4608ac4d8274ff57ff46": {
      "model_module": "@jupyter-widgets/controls",
      "model_module_version": "1.4.0",
      "model_name": "DescriptionStyleModel",
      "state": {
       "description_width": ""
      }
     },
     "10faff5efd034dcdb1c98cb172282a64": {
      "model_module": "@jupyter-widgets/controls",
      "model_module_version": "1.4.0",
      "model_name": "HBoxModel",
      "state": {
       "children": [
        "IPY_MODEL_cc3f0a0bd1aa420dadbac06d59055840",
        "IPY_MODEL_88ca85eee0ea4bbfa3392ffd1b551a6b"
       ],
       "layout": "IPY_MODEL_d789bc6629a04beda166086b2d652d4c"
      }
     },
     "1135c69a55d04878a6716a594f46043e": {
      "model_module": "@jupyter-widgets/base",
      "model_module_version": "1.1.0",
      "model_name": "LayoutModel",
      "state": {}
     },
     "1156627bae864085bbc3167c5b2a5cb3": {
      "model_module": "@jupyter-widgets/controls",
      "model_module_version": "1.4.0",
      "model_name": "DescriptionStyleModel",
      "state": {
       "description_width": ""
      }
     },
     "14d24c174ecb4428af82666854e1ed83": {
      "model_module": "@jupyter-widgets/base",
      "model_module_version": "1.1.0",
      "model_name": "LayoutModel",
      "state": {}
     },
     "16b894adae9e402f82bbd843b91510cf": {
      "model_module": "@jupyter-widgets/base",
      "model_module_version": "1.1.0",
      "model_name": "LayoutModel",
      "state": {}
     },
     "17c69c17ec8344d2aeee5ae6dee93ce6": {
      "model_module": "@jupyter-widgets/base",
      "model_module_version": "1.1.0",
      "model_name": "LayoutModel",
      "state": {}
     },
     "19ca5418edce46e0985b6f1868b3938d": {
      "model_module": "@jupyter-widgets/controls",
      "model_module_version": "1.4.0",
      "model_name": "HTMLModel",
      "state": {
       "layout": "IPY_MODEL_5cae48b866984d99a1e15f8822d57ed9",
       "style": "IPY_MODEL_a194ac9f28564a6a805b24a1a742838c",
       "value": "100% 7/7 [01:56&lt;00:00, 28.35s/it]"
      }
     },
     "19dfb39fd56341bebbd9237d9e89f203": {
      "model_module": "@jupyter-widgets/base",
      "model_module_version": "1.1.0",
      "model_name": "LayoutModel",
      "state": {}
     },
     "1b4f155261eb469da0da9cbb96741044": {
      "model_module": "@jupyter-widgets/controls",
      "model_module_version": "1.4.0",
      "model_name": "HBoxModel",
      "state": {
       "children": [
        "IPY_MODEL_27199a9b964f4b8f94946e1a80cee138",
        "IPY_MODEL_7a4cd3a8b19d4fe58ed4d6d8f4ecae0e"
       ],
       "layout": "IPY_MODEL_db91f69593764d1fbc8593c6264df3a7"
      }
     },
     "1c5f395493bd433f8e92eb500d44862d": {
      "model_module": "@jupyter-widgets/controls",
      "model_module_version": "1.4.0",
      "model_name": "IntProgressModel",
      "state": {
       "bar_style": "danger",
       "layout": "IPY_MODEL_a40922ef137340309aa9e6ddf294db03",
       "max": 7,
       "style": "IPY_MODEL_50d0d112d940487c95b9608c1e3608cd",
       "value": 6
      }
     },
     "1df7feba439d4c2aa3690f66d4d864d5": {
      "model_module": "@jupyter-widgets/controls",
      "model_module_version": "1.4.0",
      "model_name": "HBoxModel",
      "state": {
       "children": [
        "IPY_MODEL_04fe7b5bda3e4a4fb6218fa292b77714",
        "IPY_MODEL_3aadc590d2974110b54dd098ef86272d"
       ],
       "layout": "IPY_MODEL_46d59768c3d24bfa8cd8cf65fdc9c733"
      }
     },
     "211f4c9ceba64de0b46c4e32ce02a19a": {
      "model_module": "@jupyter-widgets/controls",
      "model_module_version": "1.4.0",
      "model_name": "ProgressStyleModel",
      "state": {
       "description_width": ""
      }
     },
     "26d92d4de76a46548d6957f246f6310d": {
      "model_module": "@jupyter-widgets/controls",
      "model_module_version": "1.4.0",
      "model_name": "IntProgressModel",
      "state": {
       "bar_style": "success",
       "layout": "IPY_MODEL_9b02ea3549db47f68abf6d46bc076fba",
       "max": 7,
       "style": "IPY_MODEL_bb1ecde5326d4c6cb5cb3f50941865f9",
       "value": 7
      }
     },
     "27199a9b964f4b8f94946e1a80cee138": {
      "model_module": "@jupyter-widgets/controls",
      "model_module_version": "1.4.0",
      "model_name": "IntProgressModel",
      "state": {
       "bar_style": "danger",
       "layout": "IPY_MODEL_5d84ecdf55794062bc15794cd6d48d87",
       "max": 12,
       "style": "IPY_MODEL_cc2ce2b0abab4704b0d580cdd7897c24",
       "value": 8
      }
     },
     "281631f2651241d896b1300b748f94cc": {
      "model_module": "@jupyter-widgets/controls",
      "model_module_version": "1.4.0",
      "model_name": "IntProgressModel",
      "state": {
       "bar_style": "success",
       "layout": "IPY_MODEL_9a939ec092234106b3bbf13266650f29",
       "max": 29,
       "style": "IPY_MODEL_aa66c2d953c84ef9902875ccbc9c994e",
       "value": 29
      }
     },
     "2ac95f4aedb04f5a9a5fa5361f2b5d49": {
      "model_module": "@jupyter-widgets/controls",
      "model_module_version": "1.4.0",
      "model_name": "IntProgressModel",
      "state": {
       "bar_style": "success",
       "layout": "IPY_MODEL_3705518094ba492db64884c7d9934ddf",
       "max": 31,
       "style": "IPY_MODEL_211f4c9ceba64de0b46c4e32ce02a19a",
       "value": 31
      }
     },
     "2b5f53a0083041e88ab8b35fbcb6adec": {
      "model_module": "@jupyter-widgets/base",
      "model_module_version": "1.1.0",
      "model_name": "LayoutModel",
      "state": {}
     },
     "2bbce2307fd74e7fb6b48d80cf8b147a": {
      "model_module": "@jupyter-widgets/controls",
      "model_module_version": "1.4.0",
      "model_name": "HTMLModel",
      "state": {
       "layout": "IPY_MODEL_4c3a4ac37bb349259fa3840a25b52a9f",
       "style": "IPY_MODEL_bc47080108594d6398376ec90247fd7f",
       "value": "100% 29/29 [01:42&lt;00:00,  7.61s/it]"
      }
     },
     "2c2f47043664427b9fe40d9dab59f5be": {
      "model_module": "@jupyter-widgets/base",
      "model_module_version": "1.1.0",
      "model_name": "LayoutModel",
      "state": {}
     },
     "2f4fa306f59d47a0a4c1fb41de63ccc6": {
      "model_module": "@jupyter-widgets/controls",
      "model_module_version": "1.4.0",
      "model_name": "HBoxModel",
      "state": {
       "children": [
        "IPY_MODEL_312e2c5fb4744ee9aca6e5cba42c05f8",
        "IPY_MODEL_03fa6285b902493bbc52e73542eb6bd3"
       ],
       "layout": "IPY_MODEL_616c61e0e1774e4dba06565d10df95e7"
      }
     },
     "30e0a8eb04c8484caeb06471a6b297b1": {
      "model_module": "@jupyter-widgets/controls",
      "model_module_version": "1.4.0",
      "model_name": "ProgressStyleModel",
      "state": {
       "description_width": ""
      }
     },
     "312e2c5fb4744ee9aca6e5cba42c05f8": {
      "model_module": "@jupyter-widgets/controls",
      "model_module_version": "1.4.0",
      "model_name": "IntProgressModel",
      "state": {
       "bar_style": "success",
       "layout": "IPY_MODEL_f504214792524c2cbbb8997e99aa7714",
       "max": 12,
       "style": "IPY_MODEL_30e0a8eb04c8484caeb06471a6b297b1",
       "value": 12
      }
     },
     "3151f3436ad948f79765fcfb5cb64831": {
      "model_module": "@jupyter-widgets/controls",
      "model_module_version": "1.4.0",
      "model_name": "HBoxModel",
      "state": {
       "children": [
        "IPY_MODEL_ac9c8dcde2c14dbaa1173c31993a8425",
        "IPY_MODEL_7b16d9396fa8440d8b26d4309aac9dae"
       ],
       "layout": "IPY_MODEL_ac4b2cd6abad4fbe9129ad2b39f79d1c"
      }
     },
     "3191d73e3295402c9256a8e48a55fcde": {
      "model_module": "@jupyter-widgets/controls",
      "model_module_version": "1.4.0",
      "model_name": "HBoxModel",
      "state": {
       "children": [
        "IPY_MODEL_3cf71691ed3a45788e854120454ffb91",
        "IPY_MODEL_19ca5418edce46e0985b6f1868b3938d"
       ],
       "layout": "IPY_MODEL_1135c69a55d04878a6716a594f46043e"
      }
     },
     "3288f5a70453437e8314c7c34446ad83": {
      "model_module": "@jupyter-widgets/base",
      "model_module_version": "1.1.0",
      "model_name": "LayoutModel",
      "state": {}
     },
     "346f9bacb61742f2986f3122a483fba8": {
      "model_module": "@jupyter-widgets/controls",
      "model_module_version": "1.4.0",
      "model_name": "HTMLModel",
      "state": {
       "layout": "IPY_MODEL_a70802ad133141da868681929f5d88ff",
       "style": "IPY_MODEL_cb792cc3dd3c4364a1349aa2cac5787b",
       "value": "100% 7/7 [03:46&lt;00:00, 40.23s/it]"
      }
     },
     "3705518094ba492db64884c7d9934ddf": {
      "model_module": "@jupyter-widgets/base",
      "model_module_version": "1.1.0",
      "model_name": "LayoutModel",
      "state": {}
     },
     "3aadc590d2974110b54dd098ef86272d": {
      "model_module": "@jupyter-widgets/controls",
      "model_module_version": "1.4.0",
      "model_name": "HTMLModel",
      "state": {
       "layout": "IPY_MODEL_5af9d90ad30a413c81b668595c956fae",
       "style": "IPY_MODEL_a9b1bb6a3b6a49169375e58370f202fe",
       "value": "100% 3/3 [03:01&lt;00:00, 69.98s/it]"
      }
     },
     "3b29ecca74e8449b80feed12f6b06af0": {
      "model_module": "@jupyter-widgets/controls",
      "model_module_version": "1.4.0",
      "model_name": "HTMLModel",
      "state": {
       "layout": "IPY_MODEL_07f2b1c3f170407fa620b52e90db8940",
       "style": "IPY_MODEL_9e73f2763bcd4b90b948af8e06572ddd",
       "value": "100% 20/20 [00:43&lt;00:00,  5.19s/it]"
      }
     },
     "3cf71691ed3a45788e854120454ffb91": {
      "model_module": "@jupyter-widgets/controls",
      "model_module_version": "1.4.0",
      "model_name": "IntProgressModel",
      "state": {
       "bar_style": "success",
       "layout": "IPY_MODEL_b79ec55a28294c6bbf956dfc8e61c6d2",
       "max": 7,
       "style": "IPY_MODEL_f1361377c3184fb688b28bfe61451e86",
       "value": 7
      }
     },
     "3e8208665dc144d2bf9e241de55a3474": {
      "model_module": "@jupyter-widgets/controls",
      "model_module_version": "1.4.0",
      "model_name": "IntProgressModel",
      "state": {
       "bar_style": "success",
       "layout": "IPY_MODEL_bf76cbb0d2574155994bccb941ded25f",
       "max": 10,
       "style": "IPY_MODEL_b222bf4c0fce42989a3914fb2c6e45a2",
       "value": 10
      }
     },
     "432a0f81101043fc812406cb9699cf55": {
      "model_module": "@jupyter-widgets/base",
      "model_module_version": "1.1.0",
      "model_name": "LayoutModel",
      "state": {}
     },
     "43cd3c30e9ed40589af0a84e4ad8165a": {
      "model_module": "@jupyter-widgets/controls",
      "model_module_version": "1.4.0",
      "model_name": "HTMLModel",
      "state": {
       "layout": "IPY_MODEL_3288f5a70453437e8314c7c34446ad83",
       "style": "IPY_MODEL_1156627bae864085bbc3167c5b2a5cb3",
       "value": "100% 31/31 [03:22&lt;00:00, 13.89s/it]"
      }
     },
     "45782461847b48c1ad3bd0bff91a213a": {
      "model_module": "@jupyter-widgets/controls",
      "model_module_version": "1.4.0",
      "model_name": "ProgressStyleModel",
      "state": {
       "description_width": ""
      }
     },
     "46d59768c3d24bfa8cd8cf65fdc9c733": {
      "model_module": "@jupyter-widgets/base",
      "model_module_version": "1.1.0",
      "model_name": "LayoutModel",
      "state": {}
     },
     "488d7a0878974888921fe30c7a8ccce6": {
      "model_module": "@jupyter-widgets/base",
      "model_module_version": "1.1.0",
      "model_name": "LayoutModel",
      "state": {}
     },
     "4aaf5ca76a38467087582b42de1f6a1e": {
      "model_module": "@jupyter-widgets/controls",
      "model_module_version": "1.4.0",
      "model_name": "IntProgressModel",
      "state": {
       "bar_style": "success",
       "layout": "IPY_MODEL_d86d424d7d2040bea285a821eb3ffaf6",
       "max": 54,
       "style": "IPY_MODEL_fc2e0e50b4024f2089000a027350ad62",
       "value": 54
      }
     },
     "4c3a4ac37bb349259fa3840a25b52a9f": {
      "model_module": "@jupyter-widgets/base",
      "model_module_version": "1.1.0",
      "model_name": "LayoutModel",
      "state": {}
     },
     "4cd9f8c1d14a460592573b5d5f4d1e68": {
      "model_module": "@jupyter-widgets/controls",
      "model_module_version": "1.4.0",
      "model_name": "DescriptionStyleModel",
      "state": {
       "description_width": ""
      }
     },
     "50d0d112d940487c95b9608c1e3608cd": {
      "model_module": "@jupyter-widgets/controls",
      "model_module_version": "1.4.0",
      "model_name": "ProgressStyleModel",
      "state": {
       "description_width": ""
      }
     },
     "51d92572e6f54d109233622b9df400d2": {
      "model_module": "@jupyter-widgets/base",
      "model_module_version": "1.1.0",
      "model_name": "LayoutModel",
      "state": {}
     },
     "55cf5fec981649bcb4030394e0533126": {
      "model_module": "@jupyter-widgets/controls",
      "model_module_version": "1.4.0",
      "model_name": "HTMLModel",
      "state": {
       "layout": "IPY_MODEL_085e6cabb67240d4a0e1c2ab7c937c98",
       "style": "IPY_MODEL_d6f82401681841eea4d5bb6bd1cff8de",
       "value": " 86% 6/7 [03:18&lt;00:34, 34.82s/it]"
      }
     },
     "561d35d11c2042e48fd4aff270af7c1d": {
      "model_module": "@jupyter-widgets/controls",
      "model_module_version": "1.4.0",
      "model_name": "HBoxModel",
      "state": {
       "children": [
        "IPY_MODEL_1c5f395493bd433f8e92eb500d44862d",
        "IPY_MODEL_55cf5fec981649bcb4030394e0533126"
       ],
       "layout": "IPY_MODEL_51d92572e6f54d109233622b9df400d2"
      }
     },
     "5724b7c6629e42db98f82141d3346d3f": {
      "model_module": "@jupyter-widgets/controls",
      "model_module_version": "1.4.0",
      "model_name": "HTMLModel",
      "state": {
       "layout": "IPY_MODEL_0ae749625db249539e573bdfcd6fa23c",
       "style": "IPY_MODEL_8ebb3008c95c416489b9db29d758008c",
       "value": "100% 29/29 [00:16&lt;00:00,  1.18s/it]"
      }
     },
     "5a4e30bceb904ec682ca0d37ae4da0f6": {
      "model_module": "@jupyter-widgets/base",
      "model_module_version": "1.1.0",
      "model_name": "LayoutModel",
      "state": {}
     },
     "5aba36f9297242688598109bc09046de": {
      "model_module": "@jupyter-widgets/controls",
      "model_module_version": "1.4.0",
      "model_name": "DescriptionStyleModel",
      "state": {
       "description_width": ""
      }
     },
     "5af9d90ad30a413c81b668595c956fae": {
      "model_module": "@jupyter-widgets/base",
      "model_module_version": "1.1.0",
      "model_name": "LayoutModel",
      "state": {}
     },
     "5cae48b866984d99a1e15f8822d57ed9": {
      "model_module": "@jupyter-widgets/base",
      "model_module_version": "1.1.0",
      "model_name": "LayoutModel",
      "state": {}
     },
     "5d84ecdf55794062bc15794cd6d48d87": {
      "model_module": "@jupyter-widgets/base",
      "model_module_version": "1.1.0",
      "model_name": "LayoutModel",
      "state": {}
     },
     "5f7e65435bd74f0eb6a1c412dfb425cc": {
      "model_module": "@jupyter-widgets/controls",
      "model_module_version": "1.4.0",
      "model_name": "DescriptionStyleModel",
      "state": {
       "description_width": ""
      }
     },
     "6058d32ac02e46f996d50b029a65b1a4": {
      "model_module": "@jupyter-widgets/controls",
      "model_module_version": "1.4.0",
      "model_name": "DescriptionStyleModel",
      "state": {
       "description_width": ""
      }
     },
     "616c61e0e1774e4dba06565d10df95e7": {
      "model_module": "@jupyter-widgets/base",
      "model_module_version": "1.1.0",
      "model_name": "LayoutModel",
      "state": {}
     },
     "61ab17aa9e4540939240cce1f8b4c32e": {
      "model_module": "@jupyter-widgets/base",
      "model_module_version": "1.1.0",
      "model_name": "LayoutModel",
      "state": {}
     },
     "63d4d742d31e49eb9f408d4b1d5205a8": {
      "model_module": "@jupyter-widgets/controls",
      "model_module_version": "1.4.0",
      "model_name": "HBoxModel",
      "state": {
       "children": [
        "IPY_MODEL_281631f2651241d896b1300b748f94cc",
        "IPY_MODEL_5724b7c6629e42db98f82141d3346d3f"
       ],
       "layout": "IPY_MODEL_6ec3aa7a23a64d20995bdf93351224f2"
      }
     },
     "646c3ac9c11944748551fbf8c83663b1": {
      "model_module": "@jupyter-widgets/controls",
      "model_module_version": "1.4.0",
      "model_name": "IntProgressModel",
      "state": {
       "bar_style": "success",
       "layout": "IPY_MODEL_488d7a0878974888921fe30c7a8ccce6",
       "max": 29,
       "style": "IPY_MODEL_ae8a07808b3e45859f3cd921f129124b",
       "value": 29
      }
     },
     "6523bce4fdfa4c3fa9dcbdf938bdd0c8": {
      "model_module": "@jupyter-widgets/base",
      "model_module_version": "1.1.0",
      "model_name": "LayoutModel",
      "state": {}
     },
     "67b4ef9809f6494c8230ffa837fb5f2d": {
      "model_module": "@jupyter-widgets/base",
      "model_module_version": "1.1.0",
      "model_name": "LayoutModel",
      "state": {}
     },
     "6b805139fe6c41569daca84ea2ffe481": {
      "model_module": "@jupyter-widgets/controls",
      "model_module_version": "1.4.0",
      "model_name": "IntProgressModel",
      "state": {
       "bar_style": "danger",
       "layout": "IPY_MODEL_c18b42844be044dba18dfeac8ec3a023",
       "max": 10,
       "style": "IPY_MODEL_8a96cd5395da41e3bad8d6138f7e037e",
       "value": 6
      }
     },
     "6ba3ed172cee4b3b89a13534c31dc73b": {
      "model_module": "@jupyter-widgets/controls",
      "model_module_version": "1.4.0",
      "model_name": "HBoxModel",
      "state": {
       "children": [
        "IPY_MODEL_26d92d4de76a46548d6957f246f6310d",
        "IPY_MODEL_346f9bacb61742f2986f3122a483fba8"
       ],
       "layout": "IPY_MODEL_0fad5d8fdefd419584c192c1edb6a221"
      }
     },
     "6becc8561baa4be3bf1bade2dd98d258": {
      "model_module": "@jupyter-widgets/controls",
      "model_module_version": "1.4.0",
      "model_name": "IntProgressModel",
      "state": {
       "bar_style": "danger",
       "layout": "IPY_MODEL_c694e055ee8f4be6a612d919ab8a4096",
       "max": 10,
       "style": "IPY_MODEL_84ab3d3d9b4846ba8e82ed413f410a00",
       "value": 6
      }
     },
     "6d05a0207eb44be8a8194d7672bc3dc3": {
      "model_module": "@jupyter-widgets/controls",
      "model_module_version": "1.4.0",
      "model_name": "ProgressStyleModel",
      "state": {
       "description_width": ""
      }
     },
     "6ec3aa7a23a64d20995bdf93351224f2": {
      "model_module": "@jupyter-widgets/base",
      "model_module_version": "1.1.0",
      "model_name": "LayoutModel",
      "state": {}
     },
     "774238a7f4bc4bc39881b33452244ce3": {
      "model_module": "@jupyter-widgets/base",
      "model_module_version": "1.1.0",
      "model_name": "LayoutModel",
      "state": {}
     },
     "7a2861a1cfdb45bdac48eb59c8b660bc": {
      "model_module": "@jupyter-widgets/controls",
      "model_module_version": "1.4.0",
      "model_name": "ProgressStyleModel",
      "state": {
       "description_width": ""
      }
     },
     "7a4cd3a8b19d4fe58ed4d6d8f4ecae0e": {
      "model_module": "@jupyter-widgets/controls",
      "model_module_version": "1.4.0",
      "model_name": "HTMLModel",
      "state": {
       "layout": "IPY_MODEL_a6d7e8cc772f4b44ba43a23a407e7c12",
       "style": "IPY_MODEL_4cd9f8c1d14a460592573b5d5f4d1e68",
       "value": " 67% 8/12 [01:42&lt;01:34, 23.63s/it]"
      }
     },
     "7ab2be73db8c40cc896e0249bd3ea500": {
      "model_module": "@jupyter-widgets/controls",
      "model_module_version": "1.4.0",
      "model_name": "DescriptionStyleModel",
      "state": {
       "description_width": ""
      }
     },
     "7b16d9396fa8440d8b26d4309aac9dae": {
      "model_module": "@jupyter-widgets/controls",
      "model_module_version": "1.4.0",
      "model_name": "HTMLModel",
      "state": {
       "layout": "IPY_MODEL_b7ee7f0454ef43edba44cdb7eff62621",
       "style": "IPY_MODEL_7ab2be73db8c40cc896e0249bd3ea500",
       "value": "100% 54/54 [07:16&lt;00:00, 17.43s/it]"
      }
     },
     "7fbd082af14d4d7c80850630b4dd8abc": {
      "model_module": "@jupyter-widgets/controls",
      "model_module_version": "1.4.0",
      "model_name": "ProgressStyleModel",
      "state": {
       "description_width": ""
      }
     },
     "81dc1a7f9d6b4555a8531f2035bdcabb": {
      "model_module": "@jupyter-widgets/controls",
      "model_module_version": "1.4.0",
      "model_name": "DescriptionStyleModel",
      "state": {
       "description_width": ""
      }
     },
     "84ab3d3d9b4846ba8e82ed413f410a00": {
      "model_module": "@jupyter-widgets/controls",
      "model_module_version": "1.4.0",
      "model_name": "ProgressStyleModel",
      "state": {
       "description_width": ""
      }
     },
     "871966c94ef9408abec03ebe24d83c8c": {
      "model_module": "@jupyter-widgets/controls",
      "model_module_version": "1.4.0",
      "model_name": "DescriptionStyleModel",
      "state": {
       "description_width": ""
      }
     },
     "874451d3927c4f3ba141d58c95f9e1df": {
      "model_module": "@jupyter-widgets/base",
      "model_module_version": "1.1.0",
      "model_name": "LayoutModel",
      "state": {}
     },
     "875b2a51333945eaa1b8cc990026d552": {
      "model_module": "@jupyter-widgets/controls",
      "model_module_version": "1.4.0",
      "model_name": "HBoxModel",
      "state": {
       "children": [
        "IPY_MODEL_040769e561d949e39b17361d682bb4a8",
        "IPY_MODEL_43cd3c30e9ed40589af0a84e4ad8165a"
       ],
       "layout": "IPY_MODEL_cb8738fbc3d54b8ea12d23b970356248"
      }
     },
     "879f8389ba634454a659800af5cb86af": {
      "model_module": "@jupyter-widgets/controls",
      "model_module_version": "1.4.0",
      "model_name": "HBoxModel",
      "state": {
       "children": [
        "IPY_MODEL_6b805139fe6c41569daca84ea2ffe481",
        "IPY_MODEL_9890ec07a2c3471aa01debbe383ea5fc"
       ],
       "layout": "IPY_MODEL_a940997b240a4defb0456caa12daac3b"
      }
     },
     "88ca85eee0ea4bbfa3392ffd1b551a6b": {
      "model_module": "@jupyter-widgets/controls",
      "model_module_version": "1.4.0",
      "model_name": "HTMLModel",
      "state": {
       "layout": "IPY_MODEL_8dbd8bf993fa4539907fe0e6c78392e0",
       "style": "IPY_MODEL_b94e521c2a3a44f296118d04fbadbb32",
       "value": " 95% 19/20 [01:45&lt;00:20, 20.90s/it]"
      }
     },
     "89933b9a9199439b9ea396b231b846bc": {
      "model_module": "@jupyter-widgets/controls",
      "model_module_version": "1.4.0",
      "model_name": "HBoxModel",
      "state": {
       "children": [
        "IPY_MODEL_afa63380b5d94daa93c89a7f76e73643",
        "IPY_MODEL_3b29ecca74e8449b80feed12f6b06af0"
       ],
       "layout": "IPY_MODEL_19dfb39fd56341bebbd9237d9e89f203"
      }
     },
     "89bf37d725d0422ead1e32f25f1ff7a8": {
      "model_module": "@jupyter-widgets/controls",
      "model_module_version": "1.4.0",
      "model_name": "HBoxModel",
      "state": {
       "children": [
        "IPY_MODEL_646c3ac9c11944748551fbf8c83663b1",
        "IPY_MODEL_2bbce2307fd74e7fb6b48d80cf8b147a"
       ],
       "layout": "IPY_MODEL_17c69c17ec8344d2aeee5ae6dee93ce6"
      }
     },
     "8a17eda6529f4191b2f375295f59cd1d": {
      "model_module": "@jupyter-widgets/base",
      "model_module_version": "1.1.0",
      "model_name": "LayoutModel",
      "state": {}
     },
     "8a96cd5395da41e3bad8d6138f7e037e": {
      "model_module": "@jupyter-widgets/controls",
      "model_module_version": "1.4.0",
      "model_name": "ProgressStyleModel",
      "state": {
       "description_width": ""
      }
     },
     "8dbd8bf993fa4539907fe0e6c78392e0": {
      "model_module": "@jupyter-widgets/base",
      "model_module_version": "1.1.0",
      "model_name": "LayoutModel",
      "state": {}
     },
     "8ebb3008c95c416489b9db29d758008c": {
      "model_module": "@jupyter-widgets/controls",
      "model_module_version": "1.4.0",
      "model_name": "DescriptionStyleModel",
      "state": {
       "description_width": ""
      }
     },
     "920ad25e46724413a54d0297ff4f0d54": {
      "model_module": "@jupyter-widgets/base",
      "model_module_version": "1.1.0",
      "model_name": "LayoutModel",
      "state": {}
     },
     "9890ec07a2c3471aa01debbe383ea5fc": {
      "model_module": "@jupyter-widgets/controls",
      "model_module_version": "1.4.0",
      "model_name": "HTMLModel",
      "state": {
       "layout": "IPY_MODEL_920ad25e46724413a54d0297ff4f0d54",
       "style": "IPY_MODEL_b14da71dd7b345b08c62107bd73f2708",
       "value": " 60% 6/10 [00:47&lt;00:48, 12.22s/it]"
      }
     },
     "9a939ec092234106b3bbf13266650f29": {
      "model_module": "@jupyter-widgets/base",
      "model_module_version": "1.1.0",
      "model_name": "LayoutModel",
      "state": {}
     },
     "9b02ea3549db47f68abf6d46bc076fba": {
      "model_module": "@jupyter-widgets/base",
      "model_module_version": "1.1.0",
      "model_name": "LayoutModel",
      "state": {}
     },
     "9e73f2763bcd4b90b948af8e06572ddd": {
      "model_module": "@jupyter-widgets/controls",
      "model_module_version": "1.4.0",
      "model_name": "DescriptionStyleModel",
      "state": {
       "description_width": ""
      }
     },
     "9e90f3d114ab477bb44ce96e057fde81": {
      "model_module": "@jupyter-widgets/base",
      "model_module_version": "1.1.0",
      "model_name": "LayoutModel",
      "state": {}
     },
     "a194ac9f28564a6a805b24a1a742838c": {
      "model_module": "@jupyter-widgets/controls",
      "model_module_version": "1.4.0",
      "model_name": "DescriptionStyleModel",
      "state": {
       "description_width": ""
      }
     },
     "a1ed86f696f14feeabfab9678e5b6e42": {
      "model_module": "@jupyter-widgets/controls",
      "model_module_version": "1.4.0",
      "model_name": "IntProgressModel",
      "state": {
       "bar_style": "success",
       "layout": "IPY_MODEL_d336c78bedf242c78b8e6de9e0aab70e",
       "max": 3,
       "style": "IPY_MODEL_45782461847b48c1ad3bd0bff91a213a",
       "value": 3
      }
     },
     "a34f3e8def0649618235b0c8d9648d99": {
      "model_module": "@jupyter-widgets/controls",
      "model_module_version": "1.4.0",
      "model_name": "DescriptionStyleModel",
      "state": {
       "description_width": ""
      }
     },
     "a40922ef137340309aa9e6ddf294db03": {
      "model_module": "@jupyter-widgets/base",
      "model_module_version": "1.1.0",
      "model_name": "LayoutModel",
      "state": {}
     },
     "a6d7e8cc772f4b44ba43a23a407e7c12": {
      "model_module": "@jupyter-widgets/base",
      "model_module_version": "1.1.0",
      "model_name": "LayoutModel",
      "state": {}
     },
     "a70802ad133141da868681929f5d88ff": {
      "model_module": "@jupyter-widgets/base",
      "model_module_version": "1.1.0",
      "model_name": "LayoutModel",
      "state": {}
     },
     "a940997b240a4defb0456caa12daac3b": {
      "model_module": "@jupyter-widgets/base",
      "model_module_version": "1.1.0",
      "model_name": "LayoutModel",
      "state": {}
     },
     "a9b1bb6a3b6a49169375e58370f202fe": {
      "model_module": "@jupyter-widgets/controls",
      "model_module_version": "1.4.0",
      "model_name": "DescriptionStyleModel",
      "state": {
       "description_width": ""
      }
     },
     "aa66c2d953c84ef9902875ccbc9c994e": {
      "model_module": "@jupyter-widgets/controls",
      "model_module_version": "1.4.0",
      "model_name": "ProgressStyleModel",
      "state": {
       "description_width": ""
      }
     },
     "ac4b2cd6abad4fbe9129ad2b39f79d1c": {
      "model_module": "@jupyter-widgets/base",
      "model_module_version": "1.1.0",
      "model_name": "LayoutModel",
      "state": {}
     },
     "ac9c8dcde2c14dbaa1173c31993a8425": {
      "model_module": "@jupyter-widgets/controls",
      "model_module_version": "1.4.0",
      "model_name": "IntProgressModel",
      "state": {
       "bar_style": "success",
       "layout": "IPY_MODEL_f6042c224cb04d4d80e76e24bcd752f0",
       "max": 54,
       "style": "IPY_MODEL_043afb832aa3492482fd973bb9d9bd7a",
       "value": 54
      }
     },
     "acc45206458d480a9f2ef27c9c8ef1df": {
      "model_module": "@jupyter-widgets/controls",
      "model_module_version": "1.4.0",
      "model_name": "HTMLModel",
      "state": {
       "layout": "IPY_MODEL_2b5f53a0083041e88ab8b35fbcb6adec",
       "style": "IPY_MODEL_5f7e65435bd74f0eb6a1c412dfb425cc",
       "value": " 61% 27/44 [01:11&lt;01:07,  4.00s/it]"
      }
     },
     "ae8a07808b3e45859f3cd921f129124b": {
      "model_module": "@jupyter-widgets/controls",
      "model_module_version": "1.4.0",
      "model_name": "ProgressStyleModel",
      "state": {
       "description_width": ""
      }
     },
     "afa63380b5d94daa93c89a7f76e73643": {
      "model_module": "@jupyter-widgets/controls",
      "model_module_version": "1.4.0",
      "model_name": "IntProgressModel",
      "state": {
       "bar_style": "success",
       "layout": "IPY_MODEL_9e90f3d114ab477bb44ce96e057fde81",
       "max": 20,
       "style": "IPY_MODEL_c5b03935e2804f8f99405b2d01c061d4",
       "value": 20
      }
     },
     "b14da71dd7b345b08c62107bd73f2708": {
      "model_module": "@jupyter-widgets/controls",
      "model_module_version": "1.4.0",
      "model_name": "DescriptionStyleModel",
      "state": {
       "description_width": ""
      }
     },
     "b1cc74f338d84b6e81fba7007df30136": {
      "model_module": "@jupyter-widgets/base",
      "model_module_version": "1.1.0",
      "model_name": "LayoutModel",
      "state": {}
     },
     "b222bf4c0fce42989a3914fb2c6e45a2": {
      "model_module": "@jupyter-widgets/controls",
      "model_module_version": "1.4.0",
      "model_name": "ProgressStyleModel",
      "state": {
       "description_width": ""
      }
     },
     "b79ec55a28294c6bbf956dfc8e61c6d2": {
      "model_module": "@jupyter-widgets/base",
      "model_module_version": "1.1.0",
      "model_name": "LayoutModel",
      "state": {}
     },
     "b7ee7f0454ef43edba44cdb7eff62621": {
      "model_module": "@jupyter-widgets/base",
      "model_module_version": "1.1.0",
      "model_name": "LayoutModel",
      "state": {}
     },
     "b94e521c2a3a44f296118d04fbadbb32": {
      "model_module": "@jupyter-widgets/controls",
      "model_module_version": "1.4.0",
      "model_name": "DescriptionStyleModel",
      "state": {
       "description_width": ""
      }
     },
     "bb1ecde5326d4c6cb5cb3f50941865f9": {
      "model_module": "@jupyter-widgets/controls",
      "model_module_version": "1.4.0",
      "model_name": "ProgressStyleModel",
      "state": {
       "description_width": ""
      }
     },
     "bc47080108594d6398376ec90247fd7f": {
      "model_module": "@jupyter-widgets/controls",
      "model_module_version": "1.4.0",
      "model_name": "DescriptionStyleModel",
      "state": {
       "description_width": ""
      }
     },
     "bdc29d95eb5b4ef9aa958372545ee719": {
      "model_module": "@jupyter-widgets/base",
      "model_module_version": "1.1.0",
      "model_name": "LayoutModel",
      "state": {}
     },
     "bf76cbb0d2574155994bccb941ded25f": {
      "model_module": "@jupyter-widgets/base",
      "model_module_version": "1.1.0",
      "model_name": "LayoutModel",
      "state": {}
     },
     "c00586e1eccf461c9b0429e0ccfc324c": {
      "model_module": "@jupyter-widgets/controls",
      "model_module_version": "1.4.0",
      "model_name": "HBoxModel",
      "state": {
       "children": [
        "IPY_MODEL_c268087693ac4caea7ff5672e655a9d2",
        "IPY_MODEL_acc45206458d480a9f2ef27c9c8ef1df"
       ],
       "layout": "IPY_MODEL_d92aa9b32b694dcaabc8203167d6a20e"
      }
     },
     "c02a451e0731469ea91cc39abbf14c48": {
      "model_module": "@jupyter-widgets/base",
      "model_module_version": "1.1.0",
      "model_name": "LayoutModel",
      "state": {}
     },
     "c071aba1cd534b049eee2f1809f94fec": {
      "model_module": "@jupyter-widgets/base",
      "model_module_version": "1.1.0",
      "model_name": "LayoutModel",
      "state": {}
     },
     "c18b42844be044dba18dfeac8ec3a023": {
      "model_module": "@jupyter-widgets/base",
      "model_module_version": "1.1.0",
      "model_name": "LayoutModel",
      "state": {}
     },
     "c1dc41def3384efe9e3e3b908daed3df": {
      "model_module": "@jupyter-widgets/controls",
      "model_module_version": "1.4.0",
      "model_name": "HBoxModel",
      "state": {
       "children": [
        "IPY_MODEL_3e8208665dc144d2bf9e241de55a3474",
        "IPY_MODEL_fbe344d6c52b42629a7a5a43aaaa8ed1"
       ],
       "layout": "IPY_MODEL_8a17eda6529f4191b2f375295f59cd1d"
      }
     },
     "c268087693ac4caea7ff5672e655a9d2": {
      "model_module": "@jupyter-widgets/controls",
      "model_module_version": "1.4.0",
      "model_name": "IntProgressModel",
      "state": {
       "layout": "IPY_MODEL_67b4ef9809f6494c8230ffa837fb5f2d",
       "max": 44,
       "style": "IPY_MODEL_0f5c61300af74d9c87b2e169a8d59564",
       "value": 27
      }
     },
     "c5b03935e2804f8f99405b2d01c061d4": {
      "model_module": "@jupyter-widgets/controls",
      "model_module_version": "1.4.0",
      "model_name": "ProgressStyleModel",
      "state": {
       "description_width": ""
      }
     },
     "c694e055ee8f4be6a612d919ab8a4096": {
      "model_module": "@jupyter-widgets/base",
      "model_module_version": "1.1.0",
      "model_name": "LayoutModel",
      "state": {}
     },
     "c7666e83442f44259d58a3b1f3b48341": {
      "model_module": "@jupyter-widgets/controls",
      "model_module_version": "1.4.0",
      "model_name": "HTMLModel",
      "state": {
       "layout": "IPY_MODEL_fb350532137b4401810ece19b5140a35",
       "style": "IPY_MODEL_a34f3e8def0649618235b0c8d9648d99",
       "value": "100% 12/12 [00:03&lt;00:00,  2.07it/s]"
      }
     },
     "cb792cc3dd3c4364a1349aa2cac5787b": {
      "model_module": "@jupyter-widgets/controls",
      "model_module_version": "1.4.0",
      "model_name": "DescriptionStyleModel",
      "state": {
       "description_width": ""
      }
     },
     "cb8738fbc3d54b8ea12d23b970356248": {
      "model_module": "@jupyter-widgets/base",
      "model_module_version": "1.1.0",
      "model_name": "LayoutModel",
      "state": {}
     },
     "cc2ce2b0abab4704b0d580cdd7897c24": {
      "model_module": "@jupyter-widgets/controls",
      "model_module_version": "1.4.0",
      "model_name": "ProgressStyleModel",
      "state": {
       "description_width": ""
      }
     },
     "cc3f0a0bd1aa420dadbac06d59055840": {
      "model_module": "@jupyter-widgets/controls",
      "model_module_version": "1.4.0",
      "model_name": "IntProgressModel",
      "state": {
       "bar_style": "danger",
       "layout": "IPY_MODEL_874451d3927c4f3ba141d58c95f9e1df",
       "max": 20,
       "style": "IPY_MODEL_7fbd082af14d4d7c80850630b4dd8abc",
       "value": 19
      }
     },
     "cf753dd646bb404a8c735ca6a8362b08": {
      "model_module": "@jupyter-widgets/controls",
      "model_module_version": "1.4.0",
      "model_name": "HBoxModel",
      "state": {
       "children": [
        "IPY_MODEL_6becc8561baa4be3bf1bade2dd98d258",
        "IPY_MODEL_d062e888b1c64398a252ee304c899269"
       ],
       "layout": "IPY_MODEL_b1cc74f338d84b6e81fba7007df30136"
      }
     },
     "d062e888b1c64398a252ee304c899269": {
      "model_module": "@jupyter-widgets/controls",
      "model_module_version": "1.4.0",
      "model_name": "HTMLModel",
      "state": {
       "layout": "IPY_MODEL_dd6f31bb4ef64414971920d75681b193",
       "style": "IPY_MODEL_81dc1a7f9d6b4555a8531f2035bdcabb",
       "value": " 60% 6/10 [00:04&lt;00:04,  1.06s/it]"
      }
     },
     "d336c78bedf242c78b8e6de9e0aab70e": {
      "model_module": "@jupyter-widgets/base",
      "model_module_version": "1.1.0",
      "model_name": "LayoutModel",
      "state": {}
     },
     "d614664cf99743889aa9b084525990d8": {
      "model_module": "@jupyter-widgets/controls",
      "model_module_version": "1.4.0",
      "model_name": "HTMLModel",
      "state": {
       "layout": "IPY_MODEL_c071aba1cd534b049eee2f1809f94fec",
       "style": "IPY_MODEL_5aba36f9297242688598109bc09046de",
       "value": "100% 54/54 [01:11&lt;00:00,  2.69s/it]"
      }
     },
     "d6f82401681841eea4d5bb6bd1cff8de": {
      "model_module": "@jupyter-widgets/controls",
      "model_module_version": "1.4.0",
      "model_name": "DescriptionStyleModel",
      "state": {
       "description_width": ""
      }
     },
     "d789bc6629a04beda166086b2d652d4c": {
      "model_module": "@jupyter-widgets/base",
      "model_module_version": "1.1.0",
      "model_name": "LayoutModel",
      "state": {}
     },
     "d86d424d7d2040bea285a821eb3ffaf6": {
      "model_module": "@jupyter-widgets/base",
      "model_module_version": "1.1.0",
      "model_name": "LayoutModel",
      "state": {}
     },
     "d92aa9b32b694dcaabc8203167d6a20e": {
      "model_module": "@jupyter-widgets/base",
      "model_module_version": "1.1.0",
      "model_name": "LayoutModel",
      "state": {}
     },
     "db91f69593764d1fbc8593c6264df3a7": {
      "model_module": "@jupyter-widgets/base",
      "model_module_version": "1.1.0",
      "model_name": "LayoutModel",
      "state": {}
     },
     "dd6f31bb4ef64414971920d75681b193": {
      "model_module": "@jupyter-widgets/base",
      "model_module_version": "1.1.0",
      "model_name": "LayoutModel",
      "state": {}
     },
     "ded469034a7e4aa9a244a8e5e88e998a": {
      "model_module": "@jupyter-widgets/base",
      "model_module_version": "1.1.0",
      "model_name": "LayoutModel",
      "state": {}
     },
     "e518bcea114a41ec8900a5dad806fa8b": {
      "model_module": "@jupyter-widgets/controls",
      "model_module_version": "1.4.0",
      "model_name": "ProgressStyleModel",
      "state": {
       "description_width": ""
      }
     },
     "f1361377c3184fb688b28bfe61451e86": {
      "model_module": "@jupyter-widgets/controls",
      "model_module_version": "1.4.0",
      "model_name": "ProgressStyleModel",
      "state": {
       "description_width": ""
      }
     },
     "f504214792524c2cbbb8997e99aa7714": {
      "model_module": "@jupyter-widgets/base",
      "model_module_version": "1.1.0",
      "model_name": "LayoutModel",
      "state": {}
     },
     "f52bb86c1e564d5381ea1b9792d4ee48": {
      "model_module": "@jupyter-widgets/controls",
      "model_module_version": "1.4.0",
      "model_name": "HBoxModel",
      "state": {
       "children": [
        "IPY_MODEL_0f40caa17b6f45b19f9b67db6af682c3",
        "IPY_MODEL_c7666e83442f44259d58a3b1f3b48341"
       ],
       "layout": "IPY_MODEL_bdc29d95eb5b4ef9aa958372545ee719"
      }
     },
     "f6042c224cb04d4d80e76e24bcd752f0": {
      "model_module": "@jupyter-widgets/base",
      "model_module_version": "1.1.0",
      "model_name": "LayoutModel",
      "state": {}
     },
     "f9fa83b613a74793bdd8d3b1591d3786": {
      "model_module": "@jupyter-widgets/controls",
      "model_module_version": "1.4.0",
      "model_name": "HBoxModel",
      "state": {
       "children": [
        "IPY_MODEL_a1ed86f696f14feeabfab9678e5b6e42",
        "IPY_MODEL_fc1188fa11c24fb7abb650d51e68bcda"
       ],
       "layout": "IPY_MODEL_6523bce4fdfa4c3fa9dcbdf938bdd0c8"
      }
     },
     "fb350532137b4401810ece19b5140a35": {
      "model_module": "@jupyter-widgets/base",
      "model_module_version": "1.1.0",
      "model_name": "LayoutModel",
      "state": {}
     },
     "fb9bace579f64af4b7ebb87789031257": {
      "model_module": "@jupyter-widgets/controls",
      "model_module_version": "1.4.0",
      "model_name": "HTMLModel",
      "state": {
       "layout": "IPY_MODEL_774238a7f4bc4bc39881b33452244ce3",
       "style": "IPY_MODEL_1099c3fb624b4608ac4d8274ff57ff46",
       "value": "100% 31/31 [20:02&lt;00:00, 89.74s/it]"
      }
     },
     "fbe344d6c52b42629a7a5a43aaaa8ed1": {
      "model_module": "@jupyter-widgets/controls",
      "model_module_version": "1.4.0",
      "model_name": "HTMLModel",
      "state": {
       "layout": "IPY_MODEL_5a4e30bceb904ec682ca0d37ae4da0f6",
       "style": "IPY_MODEL_871966c94ef9408abec03ebe24d83c8c",
       "value": "100% 10/10 [00:17&lt;00:00,  4.05s/it]"
      }
     },
     "fc1188fa11c24fb7abb650d51e68bcda": {
      "model_module": "@jupyter-widgets/controls",
      "model_module_version": "1.4.0",
      "model_name": "HTMLModel",
      "state": {
       "layout": "IPY_MODEL_ded469034a7e4aa9a244a8e5e88e998a",
       "style": "IPY_MODEL_6058d32ac02e46f996d50b029a65b1a4",
       "value": "100% 3/3 [03:36&lt;00:00, 86.52s/it]"
      }
     },
     "fc2e0e50b4024f2089000a027350ad62": {
      "model_module": "@jupyter-widgets/controls",
      "model_module_version": "1.4.0",
      "model_name": "ProgressStyleModel",
      "state": {
       "description_width": ""
      }
     }
    },
    "version_major": 2,
    "version_minor": 0
   }
  }
 },
 "nbformat": 4,
 "nbformat_minor": 2
}
