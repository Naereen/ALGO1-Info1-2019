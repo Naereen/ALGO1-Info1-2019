{
 "cells": [
  {
   "cell_type": "markdown",
   "metadata": {
    "toc": "true"
   },
   "source": [
    "# Table of Contents\n",
    " <p><div class=\"lev1 toc-item\"><a href=\"#ALGO1-:-Introduction-à-l'algorithmique\" data-toc-modified-id=\"ALGO1-:-Introduction-à-l'algorithmique-1\"><span class=\"toc-item-num\">1&nbsp;&nbsp;</span><a href=\"https://perso.crans.org/besson/teach/info1_algo1_2019/\" target=\"_blank\">ALGO1 : Introduction à l'algorithmique</a></a></div><div class=\"lev1 toc-item\"><a href=\"#Cours-Magistral-7\" data-toc-modified-id=\"Cours-Magistral-7-2\"><span class=\"toc-item-num\">2&nbsp;&nbsp;</span>Cours Magistral 7</a></div><div class=\"lev2 toc-item\"><a href=\"#Optimisation-de-chaînes-de-multiplications-de-matrices\" data-toc-modified-id=\"Optimisation-de-chaînes-de-multiplications-de-matrices-21\"><span class=\"toc-item-num\">2.1&nbsp;&nbsp;</span>Optimisation de chaînes de multiplications de matrices</a></div><div class=\"lev3 toc-item\"><a href=\"#Par-exemple-:-avec-$A_1$-de-taille-$(10,100)$,-$A_2$-de-taille-$(100,5)$-et-$A_3$-de-taille-$(5,50)$.\" data-toc-modified-id=\"Par-exemple-:-avec-$A_1$-de-taille-$(10,100)$,-$A_2$-de-taille-$(100,5)$-et-$A_3$-de-taille-$(5,50)$.-211\"><span class=\"toc-item-num\">2.1.1&nbsp;&nbsp;</span>Par exemple : avec <span class=\"MathJax_Preview\" style=\"color: inherit;\"></span><span class=\"MathJax\" id=\"MathJax-Element-27-Frame\" tabindex=\"0\" style=\"position: relative;\" data-mathml=\"<math xmlns=&quot;http://www.w3.org/1998/Math/MathML&quot;><msub><mi>A</mi><mn>1</mn></msub></math>\" role=\"presentation\"><nobr aria-hidden=\"true\"><span class=\"math\" id=\"MathJax-Span-155\" style=\"width: 1.343em; display: inline-block;\"><span style=\"display: inline-block; position: relative; width: 1.149em; height: 0px; font-size: 116%;\"><span style=\"position: absolute; clip: rect(1.392em, 1001.15em, 2.497em, -1000em); top: -2.203em; left: 0em;\"><span class=\"mrow\" id=\"MathJax-Span-156\"><span class=\"msubsup\" id=\"MathJax-Span-157\"><span style=\"display: inline-block; position: relative; width: 1.146em; height: 0px;\"><span style=\"position: absolute; clip: rect(3.212em, 1000.69em, 4.167em, -1000em); top: -4.023em; left: 0em;\"><span class=\"mi\" id=\"MathJax-Span-158\" style=\"font-family: STIXMathJax_Normal; font-style: italic;\">𝐴</span><span style=\"display: inline-block; width: 0px; height: 4.023em;\"></span></span><span style=\"position: absolute; top: -3.873em; left: 0.717em;\"><span class=\"mn\" id=\"MathJax-Span-159\" style=\"font-size: 70.7%; font-family: STIXMathJax_Main;\">1</span><span style=\"display: inline-block; width: 0px; height: 4.023em;\"></span></span></span></span></span><span style=\"display: inline-block; width: 0px; height: 2.203em;\"></span></span></span><span style=\"display: inline-block; overflow: hidden; vertical-align: -0.23em; border-left: 0px solid; width: 0px; height: 1.059em;\"></span></span></nobr><span class=\"MJX_Assistive_MathML\" role=\"presentation\"><math xmlns=\"http://www.w3.org/1998/Math/MathML\"><msub><mi>A</mi><mn>1</mn></msub></math></span></span><script type=\"math/tex\" id=\"MathJax-Element-27\">A_1</script> de taille <span class=\"MathJax_Preview\" style=\"color: inherit;\"></span><span class=\"MathJax\" id=\"MathJax-Element-28-Frame\" tabindex=\"0\" style=\"position: relative;\" data-mathml=\"<math xmlns=&quot;http://www.w3.org/1998/Math/MathML&quot;><mo stretchy=&quot;false&quot;>(</mo><mn>10</mn><mo>,</mo><mn>100</mn><mo stretchy=&quot;false&quot;>)</mo></math>\" role=\"presentation\"><nobr aria-hidden=\"true\"><span class=\"math\" id=\"MathJax-Span-160\" style=\"width: 4.169em; display: inline-block;\"><span style=\"display: inline-block; position: relative; width: 3.592em; height: 0px; font-size: 116%;\"><span style=\"position: absolute; clip: rect(1.719em, 1003.54em, 2.859em, -1000em); top: -2.538em; left: 0em;\"><span class=\"mrow\" id=\"MathJax-Span-161\"><span class=\"mo\" id=\"MathJax-Span-162\" style=\"font-family: STIXMathJax_Main;\">(</span><span class=\"mn\" id=\"MathJax-Span-163\" style=\"font-family: STIXMathJax_Main;\">10</span><span class=\"mo\" id=\"MathJax-Span-164\" style=\"font-family: STIXMathJax_Main;\">,</span><span class=\"mn\" id=\"MathJax-Span-165\" style=\"font-family: STIXMathJax_Main; padding-left: 0.188em;\">100</span><span class=\"mo\" id=\"MathJax-Span-166\" style=\"font-family: STIXMathJax_Main;\">)</span></span><span style=\"display: inline-block; width: 0px; height: 2.538em;\"></span></span></span><span style=\"display: inline-block; overflow: hidden; vertical-align: -0.261em; border-left: 0px solid; width: 0px; height: 1.101em;\"></span></span></nobr><span class=\"MJX_Assistive_MathML\" role=\"presentation\"><math xmlns=\"http://www.w3.org/1998/Math/MathML\"><mo stretchy=\"false\">(</mo><mn>10</mn><mo>,</mo><mn>100</mn><mo stretchy=\"false\">)</mo></math></span></span><script type=\"math/tex\" id=\"MathJax-Element-28\">(10,100)</script>, <span class=\"MathJax_Preview\" style=\"color: inherit;\"></span><span class=\"MathJax\" id=\"MathJax-Element-29-Frame\" tabindex=\"0\" style=\"position: relative;\" data-mathml=\"<math xmlns=&quot;http://www.w3.org/1998/Math/MathML&quot;><msub><mi>A</mi><mn>2</mn></msub></math>\" role=\"presentation\"><nobr aria-hidden=\"true\"><span class=\"math\" id=\"MathJax-Span-167\" style=\"width: 1.343em; display: inline-block;\"><span style=\"display: inline-block; position: relative; width: 1.149em; height: 0px; font-size: 116%;\"><span style=\"position: absolute; clip: rect(1.392em, 1001.15em, 2.497em, -1000em); top: -2.203em; left: 0em;\"><span class=\"mrow\" id=\"MathJax-Span-168\"><span class=\"msubsup\" id=\"MathJax-Span-169\"><span style=\"display: inline-block; position: relative; width: 1.146em; height: 0px;\"><span style=\"position: absolute; clip: rect(3.212em, 1000.69em, 4.167em, -1000em); top: -4.023em; left: 0em;\"><span class=\"mi\" id=\"MathJax-Span-170\" style=\"font-family: STIXMathJax_Normal; font-style: italic;\">𝐴</span><span style=\"display: inline-block; width: 0px; height: 4.023em;\"></span></span><span style=\"position: absolute; top: -3.873em; left: 0.717em;\"><span class=\"mn\" id=\"MathJax-Span-171\" style=\"font-size: 70.7%; font-family: STIXMathJax_Main;\">2</span><span style=\"display: inline-block; width: 0px; height: 4.023em;\"></span></span></span></span></span><span style=\"display: inline-block; width: 0px; height: 2.203em;\"></span></span></span><span style=\"display: inline-block; overflow: hidden; vertical-align: -0.23em; border-left: 0px solid; width: 0px; height: 1.059em;\"></span></span></nobr><span class=\"MJX_Assistive_MathML\" role=\"presentation\"><math xmlns=\"http://www.w3.org/1998/Math/MathML\"><msub><mi>A</mi><mn>2</mn></msub></math></span></span><script type=\"math/tex\" id=\"MathJax-Element-29\">A_2</script> de taille <span class=\"MathJax_Preview\" style=\"color: inherit;\"></span><span class=\"MathJax\" id=\"MathJax-Element-30-Frame\" tabindex=\"0\" style=\"position: relative;\" data-mathml=\"<math xmlns=&quot;http://www.w3.org/1998/Math/MathML&quot;><mo stretchy=&quot;false&quot;>(</mo><mn>100</mn><mo>,</mo><mn>5</mn><mo stretchy=&quot;false&quot;>)</mo></math>\" role=\"presentation\"><nobr aria-hidden=\"true\"><span class=\"math\" id=\"MathJax-Span-172\" style=\"width: 3.642em; display: inline-block;\"><span style=\"display: inline-block; position: relative; width: 3.113em; height: 0px; font-size: 116%;\"><span style=\"position: absolute; clip: rect(1.707em, 1003.07em, 2.859em, -1000em); top: -2.538em; left: 0em;\"><span class=\"mrow\" id=\"MathJax-Span-173\"><span class=\"mo\" id=\"MathJax-Span-174\" style=\"font-family: STIXMathJax_Main;\">(</span><span class=\"mn\" id=\"MathJax-Span-175\" style=\"font-family: STIXMathJax_Main;\">100</span><span class=\"mo\" id=\"MathJax-Span-176\" style=\"font-family: STIXMathJax_Main;\">,</span><span class=\"mn\" id=\"MathJax-Span-177\" style=\"font-family: STIXMathJax_Main; padding-left: 0.188em;\">5</span><span class=\"mo\" id=\"MathJax-Span-178\" style=\"font-family: STIXMathJax_Main;\">)</span></span><span style=\"display: inline-block; width: 0px; height: 2.538em;\"></span></span></span><span style=\"display: inline-block; overflow: hidden; vertical-align: -0.261em; border-left: 0px solid; width: 0px; height: 1.115em;\"></span></span></nobr><span class=\"MJX_Assistive_MathML\" role=\"presentation\"><math xmlns=\"http://www.w3.org/1998/Math/MathML\"><mo stretchy=\"false\">(</mo><mn>100</mn><mo>,</mo><mn>5</mn><mo stretchy=\"false\">)</mo></math></span></span><script type=\"math/tex\" id=\"MathJax-Element-30\">(100,5)</script> et <span class=\"MathJax_Preview\" style=\"color: inherit;\"></span><span class=\"MathJax\" id=\"MathJax-Element-31-Frame\" tabindex=\"0\" style=\"position: relative;\" data-mathml=\"<math xmlns=&quot;http://www.w3.org/1998/Math/MathML&quot;><msub><mi>A</mi><mn>3</mn></msub></math>\" role=\"presentation\"><nobr aria-hidden=\"true\"><span class=\"math\" id=\"MathJax-Span-179\" style=\"width: 1.343em; display: inline-block;\"><span style=\"display: inline-block; position: relative; width: 1.149em; height: 0px; font-size: 116%;\"><span style=\"position: absolute; clip: rect(1.392em, 1001.15em, 2.507em, -1000em); top: -2.203em; left: 0em;\"><span class=\"mrow\" id=\"MathJax-Span-180\"><span class=\"msubsup\" id=\"MathJax-Span-181\"><span style=\"display: inline-block; position: relative; width: 1.146em; height: 0px;\"><span style=\"position: absolute; clip: rect(3.212em, 1000.69em, 4.167em, -1000em); top: -4.023em; left: 0em;\"><span class=\"mi\" id=\"MathJax-Span-182\" style=\"font-family: STIXMathJax_Normal; font-style: italic;\">𝐴</span><span style=\"display: inline-block; width: 0px; height: 4.023em;\"></span></span><span style=\"position: absolute; top: -3.873em; left: 0.717em;\"><span class=\"mn\" id=\"MathJax-Span-183\" style=\"font-size: 70.7%; font-family: STIXMathJax_Main;\">3</span><span style=\"display: inline-block; width: 0px; height: 4.023em;\"></span></span></span></span></span><span style=\"display: inline-block; width: 0px; height: 2.203em;\"></span></span></span><span style=\"display: inline-block; overflow: hidden; vertical-align: -0.241em; border-left: 0px solid; width: 0px; height: 1.07em;\"></span></span></nobr><span class=\"MJX_Assistive_MathML\" role=\"presentation\"><math xmlns=\"http://www.w3.org/1998/Math/MathML\"><msub><mi>A</mi><mn>3</mn></msub></math></span></span><script type=\"math/tex\" id=\"MathJax-Element-31\">A_3</script> de taille <span class=\"MathJax_Preview\" style=\"color: inherit;\"></span><span class=\"MathJax\" id=\"MathJax-Element-32-Frame\" tabindex=\"0\" style=\"position: relative;\" data-mathml=\"<math xmlns=&quot;http://www.w3.org/1998/Math/MathML&quot;><mo stretchy=&quot;false&quot;>(</mo><mn>5</mn><mo>,</mo><mn>50</mn><mo stretchy=&quot;false&quot;>)</mo></math>\" role=\"presentation\"><nobr aria-hidden=\"true\"><span class=\"math\" id=\"MathJax-Span-184\" style=\"width: 3.02em; display: inline-block;\"><span style=\"display: inline-block; position: relative; width: 2.586em; height: 0px; font-size: 116%;\"><span style=\"position: absolute; clip: rect(1.707em, 1002.54em, 2.859em, -1000em); top: -2.538em; left: 0em;\"><span class=\"mrow\" id=\"MathJax-Span-185\"><span class=\"mo\" id=\"MathJax-Span-186\" style=\"font-family: STIXMathJax_Main;\">(</span><span class=\"mn\" id=\"MathJax-Span-187\" style=\"font-family: STIXMathJax_Main;\">5</span><span class=\"mo\" id=\"MathJax-Span-188\" style=\"font-family: STIXMathJax_Main;\">,</span><span class=\"mn\" id=\"MathJax-Span-189\" style=\"font-family: STIXMathJax_Main; padding-left: 0.188em;\">50</span><span class=\"mo\" id=\"MathJax-Span-190\" style=\"font-family: STIXMathJax_Main;\">)</span></span><span style=\"display: inline-block; width: 0px; height: 2.538em;\"></span></span></span><span style=\"display: inline-block; overflow: hidden; vertical-align: -0.261em; border-left: 0px solid; width: 0px; height: 1.115em;\"></span></span></nobr><span class=\"MJX_Assistive_MathML\" role=\"presentation\"><math xmlns=\"http://www.w3.org/1998/Math/MathML\"><mo stretchy=\"false\">(</mo><mn>5</mn><mo>,</mo><mn>50</mn><mo stretchy=\"false\">)</mo></math></span></span><script type=\"math/tex\" id=\"MathJax-Element-32\">(5,50)</script>.</a></div><div class=\"lev3 toc-item\"><a href=\"#Par-exemple-:-avec-$A_1$-de-taille-$(10,100)$,-$A_2$-de-taille-$(100,5)$-et-$A_3$-de-taille-$(5,50)$-et-$A_4$-de-taille-$(50,-200).\" data-toc-modified-id=\"Par-exemple-:-avec-$A_1$-de-taille-$(10,100)$,-$A_2$-de-taille-$(100,5)$-et-$A_3$-de-taille-$(5,50)$-et-$A_4$-de-taille-$(50,-200).-212\"><span class=\"toc-item-num\">2.1.2&nbsp;&nbsp;</span>Par exemple : avec <span class=\"MathJax_Preview\" style=\"color: inherit;\"></span><span class=\"MathJax\" id=\"MathJax-Element-33-Frame\" tabindex=\"0\" style=\"position: relative;\" data-mathml=\"<math xmlns=&quot;http://www.w3.org/1998/Math/MathML&quot;><msub><mi>A</mi><mn>1</mn></msub></math>\" role=\"presentation\"><nobr aria-hidden=\"true\"><span class=\"math\" id=\"MathJax-Span-191\" style=\"width: 1.343em; display: inline-block;\"><span style=\"display: inline-block; position: relative; width: 1.149em; height: 0px; font-size: 116%;\"><span style=\"position: absolute; clip: rect(1.392em, 1001.15em, 2.497em, -1000em); top: -2.203em; left: 0em;\"><span class=\"mrow\" id=\"MathJax-Span-192\"><span class=\"msubsup\" id=\"MathJax-Span-193\"><span style=\"display: inline-block; position: relative; width: 1.146em; height: 0px;\"><span style=\"position: absolute; clip: rect(3.212em, 1000.69em, 4.167em, -1000em); top: -4.023em; left: 0em;\"><span class=\"mi\" id=\"MathJax-Span-194\" style=\"font-family: STIXMathJax_Normal; font-style: italic;\">𝐴</span><span style=\"display: inline-block; width: 0px; height: 4.023em;\"></span></span><span style=\"position: absolute; top: -3.873em; left: 0.717em;\"><span class=\"mn\" id=\"MathJax-Span-195\" style=\"font-size: 70.7%; font-family: STIXMathJax_Main;\">1</span><span style=\"display: inline-block; width: 0px; height: 4.023em;\"></span></span></span></span></span><span style=\"display: inline-block; width: 0px; height: 2.203em;\"></span></span></span><span style=\"display: inline-block; overflow: hidden; vertical-align: -0.23em; border-left: 0px solid; width: 0px; height: 1.059em;\"></span></span></nobr><span class=\"MJX_Assistive_MathML\" role=\"presentation\"><math xmlns=\"http://www.w3.org/1998/Math/MathML\"><msub><mi>A</mi><mn>1</mn></msub></math></span></span><script type=\"math/tex\" id=\"MathJax-Element-33\">A_1</script> de taille <span class=\"MathJax_Preview\" style=\"color: inherit;\"></span><span class=\"MathJax\" id=\"MathJax-Element-34-Frame\" tabindex=\"0\" style=\"position: relative;\" data-mathml=\"<math xmlns=&quot;http://www.w3.org/1998/Math/MathML&quot;><mo stretchy=&quot;false&quot;>(</mo><mn>10</mn><mo>,</mo><mn>100</mn><mo stretchy=&quot;false&quot;>)</mo></math>\" role=\"presentation\"><nobr aria-hidden=\"true\"><span class=\"math\" id=\"MathJax-Span-196\" style=\"width: 4.169em; display: inline-block;\"><span style=\"display: inline-block; position: relative; width: 3.592em; height: 0px; font-size: 116%;\"><span style=\"position: absolute; clip: rect(1.719em, 1003.54em, 2.859em, -1000em); top: -2.538em; left: 0em;\"><span class=\"mrow\" id=\"MathJax-Span-197\"><span class=\"mo\" id=\"MathJax-Span-198\" style=\"font-family: STIXMathJax_Main;\">(</span><span class=\"mn\" id=\"MathJax-Span-199\" style=\"font-family: STIXMathJax_Main;\">10</span><span class=\"mo\" id=\"MathJax-Span-200\" style=\"font-family: STIXMathJax_Main;\">,</span><span class=\"mn\" id=\"MathJax-Span-201\" style=\"font-family: STIXMathJax_Main; padding-left: 0.188em;\">100</span><span class=\"mo\" id=\"MathJax-Span-202\" style=\"font-family: STIXMathJax_Main;\">)</span></span><span style=\"display: inline-block; width: 0px; height: 2.538em;\"></span></span></span><span style=\"display: inline-block; overflow: hidden; vertical-align: -0.261em; border-left: 0px solid; width: 0px; height: 1.101em;\"></span></span></nobr><span class=\"MJX_Assistive_MathML\" role=\"presentation\"><math xmlns=\"http://www.w3.org/1998/Math/MathML\"><mo stretchy=\"false\">(</mo><mn>10</mn><mo>,</mo><mn>100</mn><mo stretchy=\"false\">)</mo></math></span></span><script type=\"math/tex\" id=\"MathJax-Element-34\">(10,100)</script>, <span class=\"MathJax_Preview\" style=\"color: inherit;\"></span><span class=\"MathJax\" id=\"MathJax-Element-35-Frame\" tabindex=\"0\" style=\"position: relative;\" data-mathml=\"<math xmlns=&quot;http://www.w3.org/1998/Math/MathML&quot;><msub><mi>A</mi><mn>2</mn></msub></math>\" role=\"presentation\"><nobr aria-hidden=\"true\"><span class=\"math\" id=\"MathJax-Span-203\" style=\"width: 1.343em; display: inline-block;\"><span style=\"display: inline-block; position: relative; width: 1.149em; height: 0px; font-size: 116%;\"><span style=\"position: absolute; clip: rect(1.392em, 1001.15em, 2.497em, -1000em); top: -2.203em; left: 0em;\"><span class=\"mrow\" id=\"MathJax-Span-204\"><span class=\"msubsup\" id=\"MathJax-Span-205\"><span style=\"display: inline-block; position: relative; width: 1.146em; height: 0px;\"><span style=\"position: absolute; clip: rect(3.212em, 1000.69em, 4.167em, -1000em); top: -4.023em; left: 0em;\"><span class=\"mi\" id=\"MathJax-Span-206\" style=\"font-family: STIXMathJax_Normal; font-style: italic;\">𝐴</span><span style=\"display: inline-block; width: 0px; height: 4.023em;\"></span></span><span style=\"position: absolute; top: -3.873em; left: 0.717em;\"><span class=\"mn\" id=\"MathJax-Span-207\" style=\"font-size: 70.7%; font-family: STIXMathJax_Main;\">2</span><span style=\"display: inline-block; width: 0px; height: 4.023em;\"></span></span></span></span></span><span style=\"display: inline-block; width: 0px; height: 2.203em;\"></span></span></span><span style=\"display: inline-block; overflow: hidden; vertical-align: -0.23em; border-left: 0px solid; width: 0px; height: 1.059em;\"></span></span></nobr><span class=\"MJX_Assistive_MathML\" role=\"presentation\"><math xmlns=\"http://www.w3.org/1998/Math/MathML\"><msub><mi>A</mi><mn>2</mn></msub></math></span></span><script type=\"math/tex\" id=\"MathJax-Element-35\">A_2</script> de taille <span class=\"MathJax_Preview\" style=\"color: inherit;\"></span><span class=\"MathJax\" id=\"MathJax-Element-36-Frame\" tabindex=\"0\" style=\"position: relative;\" data-mathml=\"<math xmlns=&quot;http://www.w3.org/1998/Math/MathML&quot;><mo stretchy=&quot;false&quot;>(</mo><mn>100</mn><mo>,</mo><mn>5</mn><mo stretchy=&quot;false&quot;>)</mo></math>\" role=\"presentation\"><nobr aria-hidden=\"true\"><span class=\"math\" id=\"MathJax-Span-208\" style=\"width: 3.642em; display: inline-block;\"><span style=\"display: inline-block; position: relative; width: 3.113em; height: 0px; font-size: 116%;\"><span style=\"position: absolute; clip: rect(1.707em, 1003.07em, 2.859em, -1000em); top: -2.538em; left: 0em;\"><span class=\"mrow\" id=\"MathJax-Span-209\"><span class=\"mo\" id=\"MathJax-Span-210\" style=\"font-family: STIXMathJax_Main;\">(</span><span class=\"mn\" id=\"MathJax-Span-211\" style=\"font-family: STIXMathJax_Main;\">100</span><span class=\"mo\" id=\"MathJax-Span-212\" style=\"font-family: STIXMathJax_Main;\">,</span><span class=\"mn\" id=\"MathJax-Span-213\" style=\"font-family: STIXMathJax_Main; padding-left: 0.188em;\">5</span><span class=\"mo\" id=\"MathJax-Span-214\" style=\"font-family: STIXMathJax_Main;\">)</span></span><span style=\"display: inline-block; width: 0px; height: 2.538em;\"></span></span></span><span style=\"display: inline-block; overflow: hidden; vertical-align: -0.261em; border-left: 0px solid; width: 0px; height: 1.115em;\"></span></span></nobr><span class=\"MJX_Assistive_MathML\" role=\"presentation\"><math xmlns=\"http://www.w3.org/1998/Math/MathML\"><mo stretchy=\"false\">(</mo><mn>100</mn><mo>,</mo><mn>5</mn><mo stretchy=\"false\">)</mo></math></span></span><script type=\"math/tex\" id=\"MathJax-Element-36\">(100,5)</script> et <span class=\"MathJax_Preview\" style=\"color: inherit;\"></span><span class=\"MathJax\" id=\"MathJax-Element-37-Frame\" tabindex=\"0\" style=\"position: relative;\" data-mathml=\"<math xmlns=&quot;http://www.w3.org/1998/Math/MathML&quot;><msub><mi>A</mi><mn>3</mn></msub></math>\" role=\"presentation\"><nobr aria-hidden=\"true\"><span class=\"math\" id=\"MathJax-Span-215\" style=\"width: 1.343em; display: inline-block;\"><span style=\"display: inline-block; position: relative; width: 1.149em; height: 0px; font-size: 116%;\"><span style=\"position: absolute; clip: rect(1.392em, 1001.15em, 2.507em, -1000em); top: -2.203em; left: 0em;\"><span class=\"mrow\" id=\"MathJax-Span-216\"><span class=\"msubsup\" id=\"MathJax-Span-217\"><span style=\"display: inline-block; position: relative; width: 1.146em; height: 0px;\"><span style=\"position: absolute; clip: rect(3.212em, 1000.69em, 4.167em, -1000em); top: -4.023em; left: 0em;\"><span class=\"mi\" id=\"MathJax-Span-218\" style=\"font-family: STIXMathJax_Normal; font-style: italic;\">𝐴</span><span style=\"display: inline-block; width: 0px; height: 4.023em;\"></span></span><span style=\"position: absolute; top: -3.873em; left: 0.717em;\"><span class=\"mn\" id=\"MathJax-Span-219\" style=\"font-size: 70.7%; font-family: STIXMathJax_Main;\">3</span><span style=\"display: inline-block; width: 0px; height: 4.023em;\"></span></span></span></span></span><span style=\"display: inline-block; width: 0px; height: 2.203em;\"></span></span></span><span style=\"display: inline-block; overflow: hidden; vertical-align: -0.241em; border-left: 0px solid; width: 0px; height: 1.07em;\"></span></span></nobr><span class=\"MJX_Assistive_MathML\" role=\"presentation\"><math xmlns=\"http://www.w3.org/1998/Math/MathML\"><msub><mi>A</mi><mn>3</mn></msub></math></span></span><script type=\"math/tex\" id=\"MathJax-Element-37\">A_3</script> de taille <span class=\"MathJax_Preview\" style=\"color: inherit;\"></span><span class=\"MathJax\" id=\"MathJax-Element-38-Frame\" tabindex=\"0\" style=\"position: relative;\" data-mathml=\"<math xmlns=&quot;http://www.w3.org/1998/Math/MathML&quot;><mo stretchy=&quot;false&quot;>(</mo><mn>5</mn><mo>,</mo><mn>50</mn><mo stretchy=&quot;false&quot;>)</mo></math>\" role=\"presentation\"><nobr aria-hidden=\"true\"><span class=\"math\" id=\"MathJax-Span-220\" style=\"width: 3.02em; display: inline-block;\"><span style=\"display: inline-block; position: relative; width: 2.586em; height: 0px; font-size: 116%;\"><span style=\"position: absolute; clip: rect(1.707em, 1002.54em, 2.859em, -1000em); top: -2.538em; left: 0em;\"><span class=\"mrow\" id=\"MathJax-Span-221\"><span class=\"mo\" id=\"MathJax-Span-222\" style=\"font-family: STIXMathJax_Main;\">(</span><span class=\"mn\" id=\"MathJax-Span-223\" style=\"font-family: STIXMathJax_Main;\">5</span><span class=\"mo\" id=\"MathJax-Span-224\" style=\"font-family: STIXMathJax_Main;\">,</span><span class=\"mn\" id=\"MathJax-Span-225\" style=\"font-family: STIXMathJax_Main; padding-left: 0.188em;\">50</span><span class=\"mo\" id=\"MathJax-Span-226\" style=\"font-family: STIXMathJax_Main;\">)</span></span><span style=\"display: inline-block; width: 0px; height: 2.538em;\"></span></span></span><span style=\"display: inline-block; overflow: hidden; vertical-align: -0.261em; border-left: 0px solid; width: 0px; height: 1.115em;\"></span></span></nobr><span class=\"MJX_Assistive_MathML\" role=\"presentation\"><math xmlns=\"http://www.w3.org/1998/Math/MathML\"><mo stretchy=\"false\">(</mo><mn>5</mn><mo>,</mo><mn>50</mn><mo stretchy=\"false\">)</mo></math></span></span><script type=\"math/tex\" id=\"MathJax-Element-38\">(5,50)</script> et <span class=\"MathJax_Preview\" style=\"color: inherit;\"></span><span class=\"MathJax\" id=\"MathJax-Element-39-Frame\" tabindex=\"0\" style=\"position: relative;\" data-mathml=\"<math xmlns=&quot;http://www.w3.org/1998/Math/MathML&quot;><msub><mi>A</mi><mn>4</mn></msub></math>\" role=\"presentation\"><nobr aria-hidden=\"true\"><span class=\"math\" id=\"MathJax-Span-227\" style=\"width: 1.343em; display: inline-block;\"><span style=\"display: inline-block; position: relative; width: 1.149em; height: 0px; font-size: 116%;\"><span style=\"position: absolute; clip: rect(1.392em, 1001.15em, 2.497em, -1000em); top: -2.203em; left: 0em;\"><span class=\"mrow\" id=\"MathJax-Span-228\"><span class=\"msubsup\" id=\"MathJax-Span-229\"><span style=\"display: inline-block; position: relative; width: 1.146em; height: 0px;\"><span style=\"position: absolute; clip: rect(3.212em, 1000.69em, 4.167em, -1000em); top: -4.023em; left: 0em;\"><span class=\"mi\" id=\"MathJax-Span-230\" style=\"font-family: STIXMathJax_Normal; font-style: italic;\">𝐴</span><span style=\"display: inline-block; width: 0px; height: 4.023em;\"></span></span><span style=\"position: absolute; top: -3.873em; left: 0.717em;\"><span class=\"mn\" id=\"MathJax-Span-231\" style=\"font-size: 70.7%; font-family: STIXMathJax_Main;\">4</span><span style=\"display: inline-block; width: 0px; height: 4.023em;\"></span></span></span></span></span><span style=\"display: inline-block; width: 0px; height: 2.203em;\"></span></span></span><span style=\"display: inline-block; overflow: hidden; vertical-align: -0.23em; border-left: 0px solid; width: 0px; height: 1.059em;\"></span></span></nobr><span class=\"MJX_Assistive_MathML\" role=\"presentation\"><math xmlns=\"http://www.w3.org/1998/Math/MathML\"><msub><mi>A</mi><mn>4</mn></msub></math></span></span><script type=\"math/tex\" id=\"MathJax-Element-39\">A_4</script> de taille $(50, 200).</a></div><div class=\"lev2 toc-item\"><a href=\"#Plus-longue-sous-séquence-commune\" data-toc-modified-id=\"Plus-longue-sous-séquence-commune-22\"><span class=\"toc-item-num\">2.2&nbsp;&nbsp;</span>Plus longue sous séquence commune</a></div><div class=\"lev2 toc-item\"><a href=\"#Plus-longue-sous-séquence-croissante\" data-toc-modified-id=\"Plus-longue-sous-séquence-croissante-23\"><span class=\"toc-item-num\">2.3&nbsp;&nbsp;</span>Plus longue sous séquence croissante</a></div><div class=\"lev2 toc-item\"><a href=\"#Algorithme-de-Bellman-Ford\" data-toc-modified-id=\"Algorithme-de-Bellman-Ford-24\"><span class=\"toc-item-num\">2.4&nbsp;&nbsp;</span>Algorithme de Bellman-Ford</a></div><div class=\"lev2 toc-item\"><a href=\"#Algorithme-de-Floyd-Warshall\" data-toc-modified-id=\"Algorithme-de-Floyd-Warshall-25\"><span class=\"toc-item-num\">2.5&nbsp;&nbsp;</span>Algorithme de Floyd-Warshall</a></div><div class=\"lev2 toc-item\"><a href=\"#Résolution-du-problème-du-sac-à-dos-par-programmation-dynamique\" data-toc-modified-id=\"Résolution-du-problème-du-sac-à-dos-par-programmation-dynamique-26\"><span class=\"toc-item-num\">2.6&nbsp;&nbsp;</span>Résolution du problème du sac à dos par programmation dynamique</a></div><div class=\"lev2 toc-item\"><a href=\"#Mémoïzation-générique\" data-toc-modified-id=\"Mémoïzation-générique-27\"><span class=\"toc-item-num\">2.7&nbsp;&nbsp;</span>Mémoïzation générique</a></div><div class=\"lev2 toc-item\"><a href=\"#Conclusion\" data-toc-modified-id=\"Conclusion-28\"><span class=\"toc-item-num\">2.8&nbsp;&nbsp;</span>Conclusion</a></div>"
   ]
  },
  {
   "cell_type": "markdown",
   "metadata": {},
   "source": [
    "# [ALGO1 : Introduction à l'algorithmique](https://perso.crans.org/besson/teach/info1_algo1_2019/)\n",
    "\n",
    "- [Page du cours](https://perso.crans.org/besson/teach/info1_algo1_2019/) : https://perso.crans.org/besson/teach/info1_algo1_2019/\n",
    "- Magistère d'Informatique de Rennes - ENS Rennes - Année 2019/2020\n",
    "- Intervenants :\n",
    "  + Cours : [Lilian Besson](https://perso.crans.org/besson/)\n",
    "  + Travaux dirigés : [Raphaël Truffet](http://perso.eleves.ens-rennes.fr/people/Raphael.Truffet/)\n",
    "- Références :\n",
    "  + [Open Data Structures](http://opendatastructures.org/ods-python.pdf)"
   ]
  },
  {
   "cell_type": "markdown",
   "metadata": {},
   "source": [
    "# Cours Magistral 7\n",
    "\n",
    "- Ce cours traite des algorithmes par programmation dynamique."
   ]
  },
  {
   "cell_type": "markdown",
   "metadata": {},
   "source": [
    "## Optimisation de chaînes de multiplications de matrices"
   ]
  },
  {
   "cell_type": "code",
   "execution_count": 1,
   "metadata": {},
   "outputs": [],
   "source": [
    "# https://github.com/jilljenn/tryalgo/blob/master/tryalgo/matrix_chain_mult.py\n",
    "def matrix_mult_opt_order(M):\n",
    "    \"\"\"Matrix chain multiplication optimal order\n",
    "\n",
    "    :param M: list of matrices\n",
    "    :returns: matrices opt, arg, such that opt[i][j] is the optimal number of\n",
    "              operations to compute M[i] * ... * M[j] when done in the order\n",
    "              (M[i] * ... * M[k]) * (M[k + 1] * ... * M[j]) for k = arg[i][j]\n",
    "    :complexity: :math:`O(n^2)`\n",
    "    \"\"\"\n",
    "    n = len(M)\n",
    "    r = [len(Mi) for Mi in M]\n",
    "    c = [len(Mi[0]) for Mi in M]\n",
    "    opt = [[0 for j in range(n)] for i in range(n)]\n",
    "    arg = [[None for j in range(n)] for i in range(n)]\n",
    "    for j_i in range(1, n):   # loop on i, j of increasing j - i = j_i\n",
    "        for i in range(n - j_i):\n",
    "            j = i + j_i\n",
    "            opt[i][j] = float('inf')\n",
    "            for k in range(i, j):\n",
    "                alt = opt[i][k] + opt[k + 1][j] + r[i] * c[k] * c[j]\n",
    "                if opt[i][j] > alt:\n",
    "                    opt[i][j] = alt\n",
    "                    arg[i][j] = k\n",
    "    return opt, arg"
   ]
  },
  {
   "cell_type": "code",
   "execution_count": 4,
   "metadata": {
    "code_folding": []
   },
   "outputs": [],
   "source": [
    "def matrix_chain_mult(M):\n",
    "    \"\"\"Matrix chain multiplication\n",
    "\n",
    "    :param M: list of matrices\n",
    "    :returns: M[0] * ... * M[-1], computed in time optimal order\n",
    "    :complexity: whatever is needed by the multiplications\n",
    "    \"\"\"\n",
    "    opt, arg = matrix_mult_opt_order(M)\n",
    "    return apply_order(M, arg, 0, len(M)-1)"
   ]
  },
  {
   "cell_type": "code",
   "execution_count": 5,
   "metadata": {},
   "outputs": [],
   "source": [
    "def apply_order(M, arg, i, j):\n",
    "    # --- multiply matrices from M[i] to M[j] included\n",
    "    if i == j:\n",
    "        return M[i]\n",
    "    else:\n",
    "        k = arg[i][j]        # --- follow placement of parentheses\n",
    "        A = apply_order(M, arg, i, k)\n",
    "        B = apply_order(M, arg, k + 1, j)\n",
    "        row_A = range(len(A))\n",
    "        row_B = range(len(B))\n",
    "        col_B = range(len(B[0]))\n",
    "        return [[sum(A[a][b] * B[b][c] for b in row_B)\n",
    "                 for c in col_B] for a in row_A]"
   ]
  },
  {
   "cell_type": "markdown",
   "metadata": {},
   "source": [
    "Et juste pour avoir une comparaison honnête avec les multiplications de Numpy, on écrit les mêmes fonctions mais utilisant `A @ B` (`numpy.dot`) pour multiplier les matrices :"
   ]
  },
  {
   "cell_type": "code",
   "execution_count": 40,
   "metadata": {},
   "outputs": [],
   "source": [
    "def apply_order_numpy(M, arg, i, j):\n",
    "    # --- multiply matrices from M[i] to M[j] included\n",
    "    if i == j:\n",
    "        return M[i]\n",
    "    else:\n",
    "        k = arg[i][j]        # --- follow placement of parentheses\n",
    "        A = apply_order_numpy(M, arg, i, k)\n",
    "        B = apply_order_numpy(M, arg, k + 1, j)\n",
    "        return A @ B"
   ]
  },
  {
   "cell_type": "code",
   "execution_count": 41,
   "metadata": {
    "code_folding": []
   },
   "outputs": [],
   "source": [
    "def matrix_chain_mult_numpy(M):\n",
    "    \"\"\"Matrix chain multiplication\n",
    "\n",
    "    :param M: list of matrices\n",
    "    :returns: M[0] * ... * M[-1], computed in time optimal order\n",
    "    :complexity: whatever is needed by the multiplications\n",
    "    \"\"\"\n",
    "    opt, arg = matrix_mult_opt_order(M)\n",
    "    return apply_order_numpy(M, arg, 0, len(M)-1)"
   ]
  },
  {
   "cell_type": "markdown",
   "metadata": {},
   "source": [
    "### Par exemple : avec $A_1$ de taille $(10,100)$, $A_2$ de taille $(100,5)$ et $A_3$ de taille $(5,50)$."
   ]
  },
  {
   "cell_type": "code",
   "execution_count": 42,
   "metadata": {},
   "outputs": [],
   "source": [
    "import numpy as np"
   ]
  },
  {
   "cell_type": "code",
   "execution_count": 43,
   "metadata": {},
   "outputs": [],
   "source": [
    "A1 = np.random.randint(-1000, 1000, size=(10, 100))\n",
    "A2 = np.random.randint(-1000, 1000, size=(100, 5))\n",
    "A3 = np.random.randint(-1000, 1000, size=(5, 50))"
   ]
  },
  {
   "cell_type": "code",
   "execution_count": 44,
   "metadata": {},
   "outputs": [
    {
     "data": {
      "text/plain": [
       "(10, 100)"
      ]
     },
     "execution_count": 44,
     "metadata": {},
     "output_type": "execute_result"
    },
    {
     "data": {
      "text/plain": [
       "(100, 5)"
      ]
     },
     "execution_count": 44,
     "metadata": {},
     "output_type": "execute_result"
    },
    {
     "data": {
      "text/plain": [
       "(5, 50)"
      ]
     },
     "execution_count": 44,
     "metadata": {},
     "output_type": "execute_result"
    }
   ],
   "source": [
    "np.shape(A1)\n",
    "np.shape(A2)\n",
    "np.shape(A3)"
   ]
  },
  {
   "cell_type": "code",
   "execution_count": 45,
   "metadata": {},
   "outputs": [],
   "source": [
    "prod0 = A1 @ A2 @ A3  # let Python decide the order !\n",
    "\n",
    "prod1 = (A1 @ A2) @ A3\n",
    "assert np.alltrue(prod0 == prod1)\n",
    "\n",
    "prod2 = A1 @ (A2 @ A3)\n",
    "assert np.alltrue(prod0 == prod2)\n",
    "\n",
    "assert np.alltrue(prod1 == prod2)"
   ]
  },
  {
   "cell_type": "code",
   "execution_count": 27,
   "metadata": {},
   "outputs": [
    {
     "data": {
      "text/plain": [
       "(10, 50)"
      ]
     },
     "execution_count": 27,
     "metadata": {},
     "output_type": "execute_result"
    },
    {
     "data": {
      "text/plain": [
       "(10, 50)"
      ]
     },
     "execution_count": 27,
     "metadata": {},
     "output_type": "execute_result"
    }
   ],
   "source": [
    "np.shape(prod1)\n",
    "np.shape(prod2)"
   ]
  },
  {
   "cell_type": "code",
   "execution_count": 28,
   "metadata": {},
   "outputs": [
    {
     "name": "stdout",
     "output_type": "stream",
     "text": [
      "15.5 µs ± 841 ns per loop (mean ± std. dev. of 7 runs, 10000 loops each)\n",
      "15.5 µs ± 1.93 µs per loop (mean ± std. dev. of 7 runs, 100000 loops each)\n",
      "118 µs ± 4.73 µs per loop (mean ± std. dev. of 7 runs, 10000 loops each)\n"
     ]
    }
   ],
   "source": [
    "%timeit A1 @ A2 @ A3\n",
    "%timeit (A1 @ A2) @ A3\n",
    "%timeit A1 @ (A2 @ A3)"
   ]
  },
  {
   "cell_type": "markdown",
   "metadata": {},
   "source": [
    "Python utilise l'associativité à gauche, par défaut, comme le montre les calculs ci dessus : `A1 @ A2 @ A3` est calculé comme `(A1 @ A2) @ A3`.\n",
    "On peut le vérifier avec un autre exemple :"
   ]
  },
  {
   "cell_type": "code",
   "execution_count": 32,
   "metadata": {},
   "outputs": [
    {
     "data": {
      "text/plain": [
       "5"
      ]
     },
     "execution_count": 32,
     "metadata": {},
     "output_type": "execute_result"
    },
    {
     "data": {
      "text/plain": [
       "5"
      ]
     },
     "execution_count": 32,
     "metadata": {},
     "output_type": "execute_result"
    },
    {
     "data": {
      "text/plain": [
       "9"
      ]
     },
     "execution_count": 32,
     "metadata": {},
     "output_type": "execute_result"
    }
   ],
   "source": [
    "10 - 3 - 2\n",
    "(10 - 3) - 2  # x - y - z = (x - y) - z oui\n",
    "10 - (3 - 2)  # x - y - z != x - (y - z) non"
   ]
  },
  {
   "cell_type": "code",
   "execution_count": 46,
   "metadata": {},
   "outputs": [
    {
     "name": "stdout",
     "output_type": "stream",
     "text": [
      "12.1 ms ± 371 µs per loop (mean ± std. dev. of 7 runs, 100 loops each)\n",
      "38.3 µs ± 1.16 µs per loop (mean ± std. dev. of 7 runs, 10000 loops each)\n"
     ]
    }
   ],
   "source": [
    "M = [A1, A2, A3]\n",
    "%timeit matrix_chain_mult(M)\n",
    "%timeit matrix_chain_mult_numpy(M)"
   ]
  },
  {
   "cell_type": "code",
   "execution_count": 29,
   "metadata": {},
   "outputs": [
    {
     "name": "stdout",
     "output_type": "stream",
     "text": [
      "Finding the optimal order to multiply chain of matrices of dimensions\n",
      "[(10, 100), (100, 5), (5, 50)]\n",
      "opt = [[0, 5000, 7500], [0, 0, 25000], [0, 0, 0]]\n",
      "arg = [[None, 0, 1], [None, None, 1], [None, None, None]]\n"
     ]
    }
   ],
   "source": [
    "print(\"Finding the optimal order to multiply chain of matrices of dimensions\")\n",
    "print([np.shape(Mi) for Mi in M])\n",
    "opt, arg = matrix_mult_opt_order(M)\n",
    "print(\"opt =\", opt)\n",
    "print(\"arg =\", arg)"
   ]
  },
  {
   "cell_type": "markdown",
   "metadata": {},
   "source": [
    "Ce vecteur `arg` nous dit qu'il faut d'abord multiplier `M[0]` avec `M[1]` (soit `A1 @ A2`), puis multiplier le résultat avec `M[2]` (soit `(A1 @ A2) @ A3` comme trouvé ci dessus)."
   ]
  },
  {
   "cell_type": "markdown",
   "metadata": {},
   "source": [
    "### Par exemple : avec $A_1$ de taille $(10,100)$, $A_2$ de taille $(100,5)$ et $A_3$ de taille $(5,50)$ et $A_4$ de taille $(50, 200)."
   ]
  },
  {
   "cell_type": "code",
   "execution_count": 47,
   "metadata": {},
   "outputs": [],
   "source": [
    "A1 = np.random.randint(-1000, 1000, size=(10, 100))\n",
    "A2 = np.random.randint(-1000, 1000, size=(100, 5))\n",
    "A3 = np.random.randint(-1000, 1000, size=(5, 50))\n",
    "A4 = np.random.randint(-1000, 1000, size=(50, 200))"
   ]
  },
  {
   "cell_type": "code",
   "execution_count": 48,
   "metadata": {},
   "outputs": [],
   "source": [
    "prod0 = A1 @ A2 @ A3 @ A4  # let Python decide the order !\n",
    "\n",
    "prod1 = ((A1 @ A2) @ A3) @ A4\n",
    "assert np.alltrue(prod0 == prod1)\n",
    "\n",
    "prod2 = (A1 @ (A2 @ A3)) @ A4\n",
    "assert np.alltrue(prod0 == prod2)\n",
    "\n",
    "prod3 = (A1 @ A2) @ (A3 @ A4)\n",
    "assert np.alltrue(prod0 == prod3)\n",
    "\n",
    "prod4 = A1 @ ((A2 @ A3) @ A4)\n",
    "assert np.alltrue(prod0 == prod4)\n",
    "\n",
    "prod5 = A1 @ (A2 @ (A3 @ A4))\n",
    "assert np.alltrue(prod0 == prod5)"
   ]
  },
  {
   "cell_type": "code",
   "execution_count": 49,
   "metadata": {},
   "outputs": [
    {
     "data": {
      "text/plain": [
       "(10, 200)"
      ]
     },
     "execution_count": 49,
     "metadata": {},
     "output_type": "execute_result"
    },
    {
     "data": {
      "text/plain": [
       "(10, 200)"
      ]
     },
     "execution_count": 49,
     "metadata": {},
     "output_type": "execute_result"
    },
    {
     "data": {
      "text/plain": [
       "(10, 200)"
      ]
     },
     "execution_count": 49,
     "metadata": {},
     "output_type": "execute_result"
    },
    {
     "data": {
      "text/plain": [
       "(10, 200)"
      ]
     },
     "execution_count": 49,
     "metadata": {},
     "output_type": "execute_result"
    },
    {
     "data": {
      "text/plain": [
       "(10, 200)"
      ]
     },
     "execution_count": 49,
     "metadata": {},
     "output_type": "execute_result"
    }
   ],
   "source": [
    "np.shape(prod1)\n",
    "np.shape(prod2)\n",
    "np.shape(prod3)\n",
    "np.shape(prod4)\n",
    "np.shape(prod5)"
   ]
  },
  {
   "cell_type": "code",
   "execution_count": 50,
   "metadata": {},
   "outputs": [
    {
     "name": "stdout",
     "output_type": "stream",
     "text": [
      "201 µs ± 8.84 µs per loop (mean ± std. dev. of 7 runs, 10000 loops each)\n",
      "196 µs ± 2.94 µs per loop (mean ± std. dev. of 7 runs, 10000 loops each)\n",
      "319 µs ± 5.78 µs per loop (mean ± std. dev. of 7 runs, 1000 loops each)\n",
      "139 µs ± 5.27 µs per loop (mean ± std. dev. of 7 runs, 10000 loops each)\n",
      "2.2 ms ± 241 µs per loop (mean ± std. dev. of 7 runs, 100 loops each)\n",
      "673 µs ± 22.7 µs per loop (mean ± std. dev. of 7 runs, 1000 loops each)\n"
     ]
    }
   ],
   "source": [
    "%timeit A1 @ A2 @ A3 @ A4\n",
    "\n",
    "%timeit ((A1 @ A2) @ A3) @ A4\n",
    "%timeit (A1 @ (A2 @ A3)) @ A4\n",
    "%timeit (A1 @ A2) @ (A3 @ A4)\n",
    "%timeit A1 @ ((A2 @ A3) @ A4)\n",
    "%timeit A1 @ (A2 @ (A3 @ A4))"
   ]
  },
  {
   "cell_type": "code",
   "execution_count": 54,
   "metadata": {},
   "outputs": [
    {
     "name": "stdout",
     "output_type": "stream",
     "text": [
      "80.4 ms ± 9.9 ms per loop (mean ± std. dev. of 7 runs, 10 loops each)\n",
      "141 µs ± 12.1 µs per loop (mean ± std. dev. of 7 runs, 10000 loops each)\n"
     ]
    }
   ],
   "source": [
    "M = [A1, A2, A3, A4]\n",
    "%timeit matrix_chain_mult(M)\n",
    "%timeit matrix_chain_mult_numpy(M)"
   ]
  },
  {
   "cell_type": "code",
   "execution_count": 55,
   "metadata": {},
   "outputs": [
    {
     "name": "stdout",
     "output_type": "stream",
     "text": [
      "Finding the optimal order to multiply chain of matrices of dimensions\n",
      "[(10, 100), (100, 5), (5, 50), (50, 200)]\n",
      "opt = [[0, 5000, 7500, 65000], [0, 0, 25000, 150000], [0, 0, 0, 50000], [0, 0, 0, 0]]\n",
      "arg = [[None, 0, 1, 1], [None, None, 1, 1], [None, None, None, 2], [None, None, None, None]]\n"
     ]
    }
   ],
   "source": [
    "print(\"Finding the optimal order to multiply chain of matrices of dimensions\")\n",
    "print([np.shape(Mi) for Mi in M])\n",
    "opt, arg = matrix_mult_opt_order(M)\n",
    "print(\"opt =\", opt)\n",
    "print(\"arg =\", arg)"
   ]
  },
  {
   "cell_type": "markdown",
   "metadata": {},
   "source": [
    "---\n",
    "## Plus longue sous séquence commune\n",
    "\n",
    "Je ne rentre pas dans les détails, allez voir [sur Internet](https://fr.wikipedia.org/wiki/Plus_longue_sous-s%C3%A9quence_commune), ou notamment des développements préparés par des élèves de l'ENS de Rennes candidat-e-s à l'agrégation de mathématiques option informatique : [ici](https://minerve.ens-rennes.fr/images/Dvt_plsc.pdf) ou [ici](https://minerve.ens-rennes.fr/index.php/Plus_longue_sous-s%C3%A9quence_commune)."
   ]
  },
  {
   "cell_type": "code",
   "execution_count": 13,
   "metadata": {},
   "outputs": [],
   "source": [
    "def longest_common_subsequence(x, y):\n",
    "    \"\"\"longest common subsequence\n",
    "\n",
    "    Dynamic programming\n",
    "\n",
    "    :param x:\n",
    "    :param y: x, y are lists or strings\n",
    "    :returns: longest common subsequence in form of a string\n",
    "    :complexity: `O(|x|*|y|)`\n",
    "    \"\"\"\n",
    "    n = len(x)\n",
    "    m = len(y)\n",
    "    #                      -- compute optimal length\n",
    "    A = [[0 for j in range(m + 1)] for i in range(n + 1)]\n",
    "    for i in range(n):\n",
    "        for j in range(m):\n",
    "            if x[i] == y[j]:\n",
    "                A[i + 1][j + 1] = A[i][j] + 1\n",
    "            else:\n",
    "                A[i + 1][j + 1] = max(A[i][j + 1],  A[i + 1][j])\n",
    "    #                      -- extract solution\n",
    "    sol = []\n",
    "    i, j = n, m\n",
    "    while A[i][j] > 0:\n",
    "        if A[i][j] == A[i - 1][j]:\n",
    "            i -= 1\n",
    "        elif A[i][j] == A[i][j - 1]:\n",
    "            j -= 1\n",
    "        else:\n",
    "            i -= 1\n",
    "            j -= 1\n",
    "            sol.append(x[i])\n",
    "    return ''.join(sol[::-1])    # inverse solution"
   ]
  },
  {
   "cell_type": "markdown",
   "metadata": {},
   "source": [
    "Exemples :"
   ]
  },
  {
   "cell_type": "code",
   "execution_count": 14,
   "metadata": {},
   "outputs": [
    {
     "data": {
      "text/plain": [
       "'AB'"
      ]
     },
     "execution_count": 14,
     "metadata": {},
     "output_type": "execute_result"
    }
   ],
   "source": [
    "longest_common_subsequence(\"BABAR\", \"ACAB\")"
   ]
  },
  {
   "cell_type": "code",
   "execution_count": 15,
   "metadata": {},
   "outputs": [
    {
     "data": {
      "text/plain": [
       "'e ien es iaux '"
      ]
     },
     "execution_count": 15,
     "metadata": {},
     "output_type": "execute_result"
    }
   ],
   "source": [
    "longest_common_subsequence(\"J'aime bien les oiseaux !\", \"Les oiseaux sont des animaux à protéger.\")"
   ]
  },
  {
   "cell_type": "code",
   "execution_count": 16,
   "metadata": {},
   "outputs": [
    {
     "data": {
      "text/plain": [
       "'e s amoureux del '"
      ]
     },
     "execution_count": 16,
     "metadata": {},
     "output_type": "execute_result"
    }
   ],
   "source": [
    "longest_common_subsequence(\"Je suis amoureux de la vie\", \"Tu n'es pas amoureux d'elle ?\")"
   ]
  },
  {
   "cell_type": "markdown",
   "metadata": {},
   "source": [
    "---\n",
    "## Plus longue sous séquence croissante"
   ]
  },
  {
   "cell_type": "markdown",
   "metadata": {},
   "source": [
    "On traite le sous-problème suivant : $L(k)$ est la longueur de la plus longue sous séquence croissante de $[a_1,\\dots,a_k]$.\n",
    "\n",
    "$$L(1) = 1$$\n",
    "$$\\forall k > 0, L(k+1) = \\max(L(k), \\max(L(i) + 1 : a[sol[i][-1]] <= a[k+1], i <= k))$$\n",
    "\n",
    "C'est donc très facile d'écrire la solution :"
   ]
  },
  {
   "cell_type": "code",
   "execution_count": 62,
   "metadata": {},
   "outputs": [],
   "source": [
    "def longest_increasing_sequence(a):\n",
    "    n = len(a)\n",
    "    L = [0] * n\n",
    "    sol = [[i] for i in range(n)]\n",
    "    # L[i] = length of longer increasing sequence of a[0]..a[i]\n",
    "    L[0] = 1\n",
    "    sol[0] = [0]  # just <a[0]> is increasing for a[0]..a[0]\n",
    "    for j in range(1, n):\n",
    "        # L[j] = max(L[j-1], max(L[i]+1 for i < j such that a[sol[i][-1]] <= a[j]))\n",
    "        ell = 1\n",
    "        for i in range(j):\n",
    "            if a[sol[i][-1]] <= a[j] and L[i] + 1 > ell:\n",
    "                ell = L[i] + 1\n",
    "                sol[j] = sol[i] + [j]  # sol of a[0]..a[i] + a[j]\n",
    "        if ell < L[j-1]:\n",
    "            ell = L[j-1]\n",
    "            sol[j] = sol[i][::]\n",
    "        L[j] = ell\n",
    "    return [a[i] for i in sol[n-1]], sol[n-1], max(L)"
   ]
  },
  {
   "cell_type": "markdown",
   "metadata": {},
   "source": [
    "Avec l'exemple utilisé en cours :"
   ]
  },
  {
   "cell_type": "code",
   "execution_count": 59,
   "metadata": {},
   "outputs": [],
   "source": [
    "sequence = [19, 1, 9, 27, 26]"
   ]
  },
  {
   "cell_type": "code",
   "execution_count": 61,
   "metadata": {},
   "outputs": [
    {
     "name": "stdout",
     "output_type": "stream",
     "text": [
      "Pour la séquence [19] la plus longue sous séquence croissante est ([19], [0], 1)\n",
      "Pour la séquence [19, 1] la plus longue sous séquence croissante est ([1], [1], 1)\n",
      "Pour la séquence [19, 1, 9] la plus longue sous séquence croissante est ([1, 9], [1, 2], 2)\n",
      "Pour la séquence [19, 1, 9, 27] la plus longue sous séquence croissante est ([1, 9, 27], [1, 2, 3], 3)\n",
      "Pour la séquence [19, 1, 9, 27, 26] la plus longue sous séquence croissante est ([1, 9, 26], [1, 2, 4], 3)\n"
     ]
    }
   ],
   "source": [
    "for i in range(1, len(sequence) + 1):\n",
    "    print(\"Pour la séquence\", sequence[:i], \"la plus longue sous séquence croissante est\", longest_increasing_sequence(sequence[:i]))"
   ]
  },
  {
   "cell_type": "markdown",
   "metadata": {},
   "source": [
    "---\n",
    "## Algorithme de Bellman-Ford\n",
    "\n",
    "**Chemin de $k$ sommets** : on considère le sous-problème $P(k)$ suivant : chercher la longueur des plus courts chemins comportant au plus $k$ sommets ($k \\in \\{1,\\dots,n\\}$).\n",
    "\n",
    "On fixe l'origine des chemins, $s$ ; on note $\\delta(k, t)$ la longueur minimale d'un chemin d'au plus $k$ arcs de $s$ à $t$. On a la relation de récurrence suivante :\n",
    "\n",
    "$$\\delta(0, t) = \\begin{cases}\n",
    "    0 & \\textrm{ si } s=t \\\\\n",
    "    \\infty & \\textrm { sinon.}\n",
    "     \\end{cases}$$\n",
    "$$\\delta(k + 1, t) = \\min(\\delta(k, t), \\min \\{\\delta(k, u) + w(u,t), u\\in S \\}) $$\n",
    "\n",
    "Cela donne l'algorithme suivant, qui fixe $s\\in S$ le sommet de départ.\n",
    "L'algorithme de Bellman-Ford s'exécute en mémoire $\\mathcal{O}(|S|)$ et en temps $\\mathcal{O}(|S| * |A|)$.\n",
    "\n",
    "Donc avec tous les sommets $s\\in S$ différents, cela donne $\\mathcal{O}(|S|^2 |A|) \\leq \\mathcal{O}(|S|^4)$."
   ]
  },
  {
   "cell_type": "code",
   "execution_count": 63,
   "metadata": {},
   "outputs": [],
   "source": [
    "def bellman_ford(graph, weight, source=0):\n",
    "    \"\"\" Single source shortest paths by Bellman-Ford\n",
    "\n",
    "    :param graph: directed graph in listlist or listdict format\n",
    "    :param weight: can be negative.\n",
    "                   in matrix format or same listdict graph\n",
    "    :returns: distance table, precedence table, bool\n",
    "    :explanation: bool is True if a negative circuit is\n",
    "                  reachable from the source, circuits\n",
    "                  can have length 2.\n",
    "    :complexity: `O(|S|*|A|)`\n",
    "    \"\"\"\n",
    "    n = len(graph)\n",
    "    dist = [float('inf')] * n\n",
    "    prec = [None] * n\n",
    "    dist[source] = 0\n",
    "    # this loop is in O(|S|) nb of vertex\n",
    "    for nb_iterations in range(n):\n",
    "        changed = False\n",
    "        # these two loops are in O(\\sum_u degree(u)) = O(|A|) nb of edges\n",
    "        for node in range(n):\n",
    "            for neighbor in graph[node]:\n",
    "                alt = dist[node] + weight[node][neighbor]\n",
    "                if alt < dist[neighbor]:\n",
    "                    dist[neighbor] = alt\n",
    "                    prec[neighbor] = node\n",
    "                    changed = True\n",
    "        if not changed:                   # fixed point\n",
    "            return dist, prec, False\n",
    "    return dist, prec, True"
   ]
  },
  {
   "cell_type": "markdown",
   "metadata": {},
   "source": [
    "Un exemple de graphe, comme celui utilisé [dans la page Wikipédia](https://en.wikipedia.org/wiki/Floyd%E2%80%93Warshall_algorithm#Example) :"
   ]
  },
  {
   "cell_type": "code",
   "execution_count": 26,
   "metadata": {},
   "outputs": [],
   "source": [
    "oo = float('+inf')\n",
    "\n",
    "weight = [\n",
    "    [0, oo, -2, oo],\n",
    "    [4, 0, 3, oo],\n",
    "    [oo, oo, 0, 2],\n",
    "    [oo, -1, oo, 0],\n",
    "]"
   ]
  },
  {
   "cell_type": "code",
   "execution_count": 27,
   "metadata": {},
   "outputs": [],
   "source": [
    "n = len(weight)\n",
    "graph = [\n",
    "    [ v for v in range(n) if weight[u][v] < oo ]\n",
    "    for u in range(n)\n",
    "]"
   ]
  },
  {
   "cell_type": "code",
   "execution_count": 28,
   "metadata": {},
   "outputs": [
    {
     "data": {
      "text/plain": [
       "([0, -1, -2, 0], [None, 3, 0, 2], False)"
      ]
     },
     "execution_count": 28,
     "metadata": {},
     "output_type": "execute_result"
    }
   ],
   "source": [
    "bellman_ford(graph, weight)"
   ]
  },
  {
   "cell_type": "markdown",
   "metadata": {},
   "source": [
    "---\n",
    "## Algorithme de Floyd-Warshall\n",
    "\n",
    "\n",
    "**Chemin empruntant les sommets $\\{1, \\ldots, k\\}$**\n",
    "On suppose que $S=\\{1, \\ldots, n\\}$ (quitte à ré-étiqueter les sommets), on s'intéresse au sous-problème $P(k)$ suivant~: chercher la longueur des plus courts chemins dont les sommets intermédiaires sont dans $\\{1, \\ldots, k\\}$.\n",
    "\n",
    "On note maintenant $\\delta(k, s, t)$ la longueur minimale d'un chemin de $s$ à\n",
    "$t$ dont les sommets intermédiaires sont dans $\\{1, \\ldots, k\\}$.\n",
    "\n",
    "On a la relation de récurrence $\\delta(k, s, t) = \\min(\\delta(k-1, s, t), \\delta(k-1, s, k) + \\delta(k-1, k, t))$\n",
    "et le cas simple\n",
    "$$\\delta(0, s, t) =\n",
    "  \\begin{cases}\n",
    "    0  \\textrm{ si } s=t \\\\\n",
    "    w(s,t) & \\textrm { sinon.}\n",
    "  \\end{cases}$$\n",
    "\n",
    "Cela donne l'algorithme suivant.\n",
    "L'algorithme de Floyd-Warshall s'exécute en mémoire $\\mathcal{O}(|S|^2)$ et en temps $\\mathcal{O}(|S|^3)$.\n",
    "\n",
    "> Cherchez par vous même le lien entre produit de matrice (dans le sous-anneau \"tropical\" $(\\mathbb{R}, \\min, +)$) et l'algorithme de Floyd-Warshall."
   ]
  },
  {
   "cell_type": "code",
   "execution_count": 17,
   "metadata": {},
   "outputs": [],
   "source": [
    "from copy import deepcopy"
   ]
  },
  {
   "cell_type": "code",
   "execution_count": 18,
   "metadata": {},
   "outputs": [],
   "source": [
    "def floyd_warshall(weight):\n",
    "    \"\"\"All pairs shortest paths by Floyd-Warshall\n",
    "\n",
    "    :param weight: edge weight matrix\n",
    "    :returns: weight, and True if there are negative cycles\n",
    "    :complexity: :math:`O(|V|^3)`\n",
    "    \"\"\"\n",
    "    weight = deepcopy(weight)\n",
    "    V = range(len(weight))\n",
    "    for k in V:  # considering paths using 0..k\n",
    "        # to go from u to v\n",
    "        for u in V:\n",
    "            for v in V:\n",
    "                weight[u][v] = min(weight[u][v],\n",
    "                                   weight[u][k] + weight[k][v])\n",
    "    for v in V:\n",
    "        if weight[v][v] < 0:      # negative cycle found\n",
    "            return weight, True\n",
    "    return weight, False"
   ]
  },
  {
   "cell_type": "markdown",
   "metadata": {},
   "source": [
    "Un exemple de graphe, comme celui utilisé [dans la page Wikipédia](https://en.wikipedia.org/wiki/Floyd%E2%80%93Warshall_algorithm#Example) :"
   ]
  },
  {
   "cell_type": "code",
   "execution_count": 21,
   "metadata": {},
   "outputs": [],
   "source": [
    "oo = float('+inf')\n",
    "\n",
    "weight = [\n",
    "    [0, oo, -2, oo],\n",
    "    [4, 0, 3, oo],\n",
    "    [oo, oo, 0, 2],\n",
    "    [oo, -1, oo, 0],\n",
    "]"
   ]
  },
  {
   "cell_type": "code",
   "execution_count": 22,
   "metadata": {},
   "outputs": [
    {
     "data": {
      "text/plain": [
       "([[0, -1, -2, 0], [4, 0, 2, 4], [5, 1, 0, 2], [3, -1, 1, 0]], False)"
      ]
     },
     "execution_count": 22,
     "metadata": {},
     "output_type": "execute_result"
    }
   ],
   "source": [
    "floyd_warshall(weight)"
   ]
  },
  {
   "cell_type": "markdown",
   "metadata": {},
   "source": [
    "<img width=\"75%\" src=\"figures/CM7_Floyd-Warshall.png\">"
   ]
  },
  {
   "cell_type": "markdown",
   "metadata": {},
   "source": [
    "---\n",
    "## Résolution du problème du sac à dos par programmation dynamique"
   ]
  },
  {
   "cell_type": "code",
   "execution_count": 29,
   "metadata": {},
   "outputs": [],
   "source": [
    "def knapsack(p, v, cmax):\n",
    "    \"\"\"Knapsack problem: select maximum value set of items if total size not\n",
    "    more than capacity\n",
    "\n",
    "    :param p: table with size of items\n",
    "    :param v: table with value of items\n",
    "    :param cmax: capacity of bag\n",
    "    :requires: number of items non-zero\n",
    "    :returns: value optimal solution, list of item indexes in solution\n",
    "    :complexity: O(n * cmax), for n = number of items\n",
    "    \"\"\"\n",
    "    n = len(p)\n",
    "    opt = [[0] * (cmax + 1) for _ in range(n + 1)]\n",
    "    sel = [[False] * (cmax + 1) for _ in range(n + 1)]\n",
    "    #                               --- basic case\n",
    "    for cap in range(p[0], cmax + 1):\n",
    "        opt[0][cap] = v[0]\n",
    "        sel[0][cap] = True\n",
    "    #                               --- induction case\n",
    "    for i in range(1, n):\n",
    "        for cap in range(cmax + 1):\n",
    "            if cap >= p[i] and opt[i-1][cap - p[i]] + v[i] > opt[i-1][cap]:\n",
    "                opt[i][cap] = opt[i-1][cap - p[i]] + v[i]\n",
    "                sel[i][cap] = True\n",
    "            else:\n",
    "                opt[i][cap] = opt[i-1][cap]\n",
    "                sel[i][cap] = False\n",
    "    #                               --- reading solution\n",
    "    cap = cmax\n",
    "    solution = []\n",
    "    for i in range(n-1, -1, -1):\n",
    "        if sel[i][cap]:\n",
    "            solution.append(i)\n",
    "            cap -= p[i]\n",
    "    return (opt[n - 1][cmax], solution)"
   ]
  },
  {
   "cell_type": "markdown",
   "metadata": {},
   "source": [
    "On peut considérer l'exemple de la page Wikipédia :\n",
    "\n",
    "For example, there are 10 different items and the weight limit is 67.\n",
    "And with : $$\\begin{align}\n",
    "&w[  1]= 23 ,w[  2]= 26,w[  3]= 20,w[  4]= 18,w[  5]= 32,w[  6]= 27,w[  7]= 29,w[  8]= 26,w[  9]= 30,w[ 10]= 27 \\\\\n",
    "&v[  1]=505 ,v[  2]=352,v[  3]=458,v[  4]=220,v[  5]=354,v[  6]=414,v[  7]=498,v[  8]=545,v[  9]=473,v[ 10]=543 \\\\\n",
    "\\end{align}$$"
   ]
  },
  {
   "cell_type": "code",
   "execution_count": 30,
   "metadata": {},
   "outputs": [],
   "source": [
    "p = [23, 26, 20, 18, 32, 27, 29, 26, 30, 27]  # param p, table with size of items\n",
    "v = [505, 352, 458, 220, 354, 414, 498, 545, 473, 543]  # param v, table with value of items\n",
    "cmax = 67  # param cmax, capacity of bag"
   ]
  },
  {
   "cell_type": "code",
   "execution_count": 31,
   "metadata": {},
   "outputs": [
    {
     "data": {
      "text/plain": [
       "(1270, [7, 3, 0])"
      ]
     },
     "execution_count": 31,
     "metadata": {},
     "output_type": "execute_result"
    }
   ],
   "source": [
    "knapsack(p, v, cmax)"
   ]
  },
  {
   "cell_type": "markdown",
   "metadata": {},
   "source": [
    "$$\\begin{align}\n",
    "&m(10, 67) = 1270\\\\\n",
    "&m(9, 67) = 1270, m(9, 40) = 678\\\\\n",
    "&m(8, 67) = 1270, m(8, 40) = 678, m(8, 37) = 545\\\\\n",
    "&m(7, 67) = 1183, m(7, 41) = 725, m(7, 40) = 678, m(7, 37) = 505\\\\\n",
    "&m(6, 67) = 1183, m(6, 41) = 725, m(6, 40) = 678, m(6, 38) = 678, m(6, 37) = 505\\\\\n",
    "&m(5, 67) = 1183, m(5, 41) = 725, m(5, 40) = 678, m(5, 38) = 678, m(5, 37) = 505\\\\\n",
    "&m(4, 67) = 1183, m(4, 41) = 725, m(4, 40) = 678, m(4, 38) = 678, m(4, 37) = 505, m(4, 35) = 505\\\\\n",
    "&m(3, 67) = 963, m(3, 49) = 963, m(3, 41) = 505, m(3, 40) = 505, m(3, 38) = 505, m(3, 37) = 505, m(3, 35) = 505, m(3, 23) = 505, m(3, 22) = 458, m(3, 20) = 458\\\\\n",
    "&m(2, 67) = 857, m(2, 49) = 857, m(2, 47) = 505, m(2, 41) = 505, m(2, 40) = 505, m(2, 38) = 505, m(2, 37) = 505, m(2, 35) = 505, m(2, 29) = 505, m(2, 23) = 505\\\\\n",
    "&m(1, 67) = 505, m(1, 49) = 505, m(1, 47) = 505, m(1, 41) = 505, m(1, 40) = 505, m(1, 38) = 505, m(1, 37) = 505, m(1, 35) = 505, m(1, 29) = 505, m(1, 23) = 505\\\\\n",
    "\\end{align}$$"
   ]
  },
  {
   "cell_type": "markdown",
   "metadata": {},
   "source": [
    "---\n",
    "## Mémoïzation générique"
   ]
  },
  {
   "cell_type": "code",
   "execution_count": 1,
   "metadata": {},
   "outputs": [],
   "source": [
    "from time import sleep"
   ]
  },
  {
   "cell_type": "code",
   "execution_count": 2,
   "metadata": {},
   "outputs": [],
   "source": [
    "def f1(n):\n",
    "    sleep(3)\n",
    "    return n + 3"
   ]
  },
  {
   "cell_type": "code",
   "execution_count": 3,
   "metadata": {},
   "outputs": [
    {
     "name": "stdout",
     "output_type": "stream",
     "text": [
      "3 secondes...\n",
      "13\n"
     ]
    }
   ],
   "source": [
    "print(\"3 secondes...\")\n",
    "print(f1(10))  # 13, 3 secondes après"
   ]
  },
  {
   "cell_type": "code",
   "execution_count": 4,
   "metadata": {},
   "outputs": [],
   "source": [
    "def f2(n):\n",
    "    sleep(4)\n",
    "    return n * n"
   ]
  },
  {
   "cell_type": "code",
   "execution_count": 5,
   "metadata": {},
   "outputs": [
    {
     "name": "stdout",
     "output_type": "stream",
     "text": [
      "4 secondes...\n",
      "100\n"
     ]
    }
   ],
   "source": [
    "print(\"4 secondes...\")\n",
    "print(f2(10))  # 100, 4 secondes après"
   ]
  },
  {
   "cell_type": "markdown",
   "metadata": {},
   "source": [
    "Mémoïsation générique, non typée"
   ]
  },
  {
   "cell_type": "code",
   "execution_count": 6,
   "metadata": {},
   "outputs": [],
   "source": [
    "def memo(f):\n",
    "    memoire = {}  # dictionnaire vide, {} ou dict()\n",
    "    def memo_f(n):\n",
    "        if n not in memoire:\n",
    "             memoire[n] = f(n)\n",
    "        return memoire[n]\n",
    "    return memo_f"
   ]
  },
  {
   "cell_type": "code",
   "execution_count": 7,
   "metadata": {},
   "outputs": [
    {
     "name": "stdout",
     "output_type": "stream",
     "text": [
      "3 secondes...\n",
      "13\n",
      "0 secondes !\n",
      "13\n"
     ]
    }
   ],
   "source": [
    "memo_f1 = memo(f1)\n",
    "\n",
    "print(\"3 secondes...\")\n",
    "print(memo_f1(10))  # 13, 3 secondes après\n",
    "print(\"0 secondes !\")\n",
    "print(memo_f1(10))  # instantanné !"
   ]
  },
  {
   "cell_type": "code",
   "execution_count": 8,
   "metadata": {},
   "outputs": [
    {
     "name": "stdout",
     "output_type": "stream",
     "text": [
      "3 secondes...\n",
      "13\n",
      "3 secondes...\n",
      "13\n"
     ]
    }
   ],
   "source": [
    "# différent de ces deux lignes !\n",
    "\n",
    "print(\"3 secondes...\")\n",
    "print(memo(f1)(10))\n",
    "print(\"3 secondes...\")\n",
    "print(memo(f1)(10))  # 3 secondes aussi !"
   ]
  },
  {
   "cell_type": "code",
   "execution_count": 9,
   "metadata": {},
   "outputs": [
    {
     "name": "stdout",
     "output_type": "stream",
     "text": [
      "4 secondes...\n",
      "100\n",
      "0 secondes !\n",
      "100\n"
     ]
    }
   ],
   "source": [
    "memo_f2 = memo(f2)\n",
    "\n",
    "print(\"4 secondes...\")\n",
    "print(memo_f2(10))  # 100, 4 secondes après\n",
    "print(\"0 secondes !\")\n",
    "print(memo_f2(10))  # instantanné !"
   ]
  },
  {
   "cell_type": "code",
   "execution_count": 10,
   "metadata": {},
   "outputs": [
    {
     "name": "stdout",
     "output_type": "stream",
     "text": [
      "Test de fibo() non mémoisée :\n",
      "F_0 = 1\n",
      "F_1 = 1\n",
      "F_2 = 2\n",
      "F_3 = 3\n",
      "F_4 = 5\n",
      "F_5 = 8\n",
      "F_6 = 13\n",
      "F_7 = 21\n",
      "F_8 = 34\n",
      "F_9 = 55\n"
     ]
    }
   ],
   "source": [
    "# bonus : on peut utiliser la syntaxe d'un décorateur en Python :\n",
    "\n",
    "def fibo(n):\n",
    "    if n <= 1: return 1\n",
    "    else: return fibo(n-1) + fibo(n-2)\n",
    "\n",
    "print(\"Test de fibo() non mémoisée :\")\n",
    "for n in range(10):\n",
    "    print(\"F_{} = {}\".format(n, fibo(n)))"
   ]
  },
  {
   "cell_type": "code",
   "execution_count": 11,
   "metadata": {},
   "outputs": [
    {
     "name": "stdout",
     "output_type": "stream",
     "text": [
      "Test de fibo() mémoisée (plus rapide) :\n",
      "F_0 = 1\n",
      "F_1 = 1\n",
      "F_2 = 2\n",
      "F_3 = 3\n",
      "F_4 = 5\n",
      "F_5 = 8\n",
      "F_6 = 13\n",
      "F_7 = 21\n",
      "F_8 = 34\n",
      "F_9 = 55\n"
     ]
    }
   ],
   "source": [
    "# version plus rapide !\n",
    "@memo\n",
    "def fibo(n):\n",
    "    if n <= 1: return 1\n",
    "    else: return fibo(n-1) + fibo(n-2)\n",
    "\n",
    "print(\"Test de fibo() mémoisée (plus rapide) :\")\n",
    "for n in range(10):\n",
    "    print(\"F_{} = {}\".format(n, fibo(n)))"
   ]
  },
  {
   "cell_type": "code",
   "execution_count": 12,
   "metadata": {},
   "outputs": [
    {
     "name": "stdout",
     "output_type": "stream",
     "text": [
      "Test de factorielle() mémoisée :\n",
      "0! = 0\n",
      "1! = 1\n",
      "2! = 2\n",
      "3! = 6\n",
      "4! = 24\n",
      "5! = 120\n",
      "6! = 720\n",
      "7! = 5040\n",
      "8! = 40320\n",
      "9! = 362880\n"
     ]
    }
   ],
   "source": [
    "@memo\n",
    "def factorielle(n):\n",
    "    if n <= 0: return 0\n",
    "    elif n == 1: return 1\n",
    "    else: return n * factorielle(n-1)\n",
    "\n",
    "print(\"Test de factorielle() mémoisée :\")\n",
    "for n in range(10):\n",
    "    print(\"{}! = {}\".format(n, factorielle(n)))"
   ]
  },
  {
   "cell_type": "markdown",
   "metadata": {},
   "source": [
    "## Conclusion\n",
    "\n",
    "C'est bon pour aujourd'hui !"
   ]
  }
 ],
 "metadata": {
  "kernelspec": {
   "display_name": "Python 3",
   "language": "python",
   "name": "python3"
  },
  "language_info": {
   "codemirror_mode": {
    "name": "ipython",
    "version": 3
   },
   "file_extension": ".py",
   "mimetype": "text/x-python",
   "name": "python",
   "nbconvert_exporter": "python",
   "pygments_lexer": "ipython3",
   "version": "3.7.5rc1"
  },
  "toc": {
   "colors": {
    "hover_highlight": "#DAA520",
    "running_highlight": "#FF0000",
    "selected_highlight": "#FFD700"
   },
   "moveMenuLeft": true,
   "nav_menu": {
    "height": "356.867px",
    "width": "446.667px"
   },
   "navigate_menu": true,
   "number_sections": true,
   "sideBar": false,
   "threshold": 4,
   "toc_cell": true,
   "toc_position": {
    "height": "125.667px",
    "left": "987.583px",
    "right": "20px",
    "top": "104px",
    "width": "255.917px"
   },
   "toc_section_display": "none",
   "toc_window_display": true
  },
  "varInspector": {
   "cols": {
    "lenName": 16,
    "lenType": 16,
    "lenVar": 40
   },
   "kernels_config": {
    "python": {
     "delete_cmd_postfix": "",
     "delete_cmd_prefix": "del ",
     "library": "var_list.py",
     "varRefreshCmd": "print(var_dic_list())"
    },
    "r": {
     "delete_cmd_postfix": ") ",
     "delete_cmd_prefix": "rm(",
     "library": "var_list.r",
     "varRefreshCmd": "cat(var_dic_list()) "
    }
   },
   "position": {
    "height": "247.85px",
    "left": "829.5px",
    "right": "20px",
    "top": "307px",
    "width": "470.5px"
   },
   "types_to_exclude": [
    "module",
    "function",
    "builtin_function_or_method",
    "instance",
    "_Feature"
   ],
   "window_display": false
  },
  "widgets": {
   "application/vnd.jupyter.widget-state+json": {
    "state": {
     "038a808e883447f29c7d1ac0b392a0d3": {
      "model_module": "@jupyter-widgets/controls",
      "model_module_version": "1.4.0",
      "model_name": "HBoxModel",
      "state": {
       "children": [
        "IPY_MODEL_4aaf5ca76a38467087582b42de1f6a1e",
        "IPY_MODEL_d614664cf99743889aa9b084525990d8"
       ],
       "layout": "IPY_MODEL_c02a451e0731469ea91cc39abbf14c48"
      }
     },
     "03fa6285b902493bbc52e73542eb6bd3": {
      "model_module": "@jupyter-widgets/controls",
      "model_module_version": "1.4.0",
      "model_name": "HTMLModel",
      "state": {
       "layout": "IPY_MODEL_14d24c174ecb4428af82666854e1ed83",
       "style": "IPY_MODEL_108a32808a0b43bda9b869081b96b80b",
       "value": "100% 12/12 [00:00&lt;00:00, 15.79it/s]"
      }
     },
     "040769e561d949e39b17361d682bb4a8": {
      "model_module": "@jupyter-widgets/controls",
      "model_module_version": "1.4.0",
      "model_name": "IntProgressModel",
      "state": {
       "bar_style": "success",
       "layout": "IPY_MODEL_61ab17aa9e4540939240cce1f8b4c32e",
       "max": 31,
       "style": "IPY_MODEL_7a2861a1cfdb45bdac48eb59c8b660bc",
       "value": 31
      }
     },
     "043afb832aa3492482fd973bb9d9bd7a": {
      "model_module": "@jupyter-widgets/controls",
      "model_module_version": "1.4.0",
      "model_name": "ProgressStyleModel",
      "state": {
       "description_width": ""
      }
     },
     "04fe7b5bda3e4a4fb6218fa292b77714": {
      "model_module": "@jupyter-widgets/controls",
      "model_module_version": "1.4.0",
      "model_name": "IntProgressModel",
      "state": {
       "bar_style": "success",
       "layout": "IPY_MODEL_16b894adae9e402f82bbd843b91510cf",
       "max": 3,
       "style": "IPY_MODEL_e518bcea114a41ec8900a5dad806fa8b",
       "value": 3
      }
     },
     "07f2b1c3f170407fa620b52e90db8940": {
      "model_module": "@jupyter-widgets/base",
      "model_module_version": "1.1.0",
      "model_name": "LayoutModel",
      "state": {}
     },
     "085e6cabb67240d4a0e1c2ab7c937c98": {
      "model_module": "@jupyter-widgets/base",
      "model_module_version": "1.1.0",
      "model_name": "LayoutModel",
      "state": {}
     },
     "0ae749625db249539e573bdfcd6fa23c": {
      "model_module": "@jupyter-widgets/base",
      "model_module_version": "1.1.0",
      "model_name": "LayoutModel",
      "state": {}
     },
     "0c7b9244ca3d4cfca64cc68c62c676ef": {
      "model_module": "@jupyter-widgets/controls",
      "model_module_version": "1.4.0",
      "model_name": "HBoxModel",
      "state": {
       "children": [
        "IPY_MODEL_2ac95f4aedb04f5a9a5fa5361f2b5d49",
        "IPY_MODEL_fb9bace579f64af4b7ebb87789031257"
       ],
       "layout": "IPY_MODEL_2c2f47043664427b9fe40d9dab59f5be"
      }
     },
     "0f40caa17b6f45b19f9b67db6af682c3": {
      "model_module": "@jupyter-widgets/controls",
      "model_module_version": "1.4.0",
      "model_name": "IntProgressModel",
      "state": {
       "bar_style": "success",
       "layout": "IPY_MODEL_432a0f81101043fc812406cb9699cf55",
       "max": 12,
       "style": "IPY_MODEL_6d05a0207eb44be8a8194d7672bc3dc3",
       "value": 12
      }
     },
     "0f5c61300af74d9c87b2e169a8d59564": {
      "model_module": "@jupyter-widgets/controls",
      "model_module_version": "1.4.0",
      "model_name": "ProgressStyleModel",
      "state": {
       "description_width": ""
      }
     },
     "0fad5d8fdefd419584c192c1edb6a221": {
      "model_module": "@jupyter-widgets/base",
      "model_module_version": "1.1.0",
      "model_name": "LayoutModel",
      "state": {}
     },
     "108a32808a0b43bda9b869081b96b80b": {
      "model_module": "@jupyter-widgets/controls",
      "model_module_version": "1.4.0",
      "model_name": "DescriptionStyleModel",
      "state": {
       "description_width": ""
      }
     },
     "1099c3fb624b4608ac4d8274ff57ff46": {
      "model_module": "@jupyter-widgets/controls",
      "model_module_version": "1.4.0",
      "model_name": "DescriptionStyleModel",
      "state": {
       "description_width": ""
      }
     },
     "10faff5efd034dcdb1c98cb172282a64": {
      "model_module": "@jupyter-widgets/controls",
      "model_module_version": "1.4.0",
      "model_name": "HBoxModel",
      "state": {
       "children": [
        "IPY_MODEL_cc3f0a0bd1aa420dadbac06d59055840",
        "IPY_MODEL_88ca85eee0ea4bbfa3392ffd1b551a6b"
       ],
       "layout": "IPY_MODEL_d789bc6629a04beda166086b2d652d4c"
      }
     },
     "1135c69a55d04878a6716a594f46043e": {
      "model_module": "@jupyter-widgets/base",
      "model_module_version": "1.1.0",
      "model_name": "LayoutModel",
      "state": {}
     },
     "1156627bae864085bbc3167c5b2a5cb3": {
      "model_module": "@jupyter-widgets/controls",
      "model_module_version": "1.4.0",
      "model_name": "DescriptionStyleModel",
      "state": {
       "description_width": ""
      }
     },
     "14d24c174ecb4428af82666854e1ed83": {
      "model_module": "@jupyter-widgets/base",
      "model_module_version": "1.1.0",
      "model_name": "LayoutModel",
      "state": {}
     },
     "16b894adae9e402f82bbd843b91510cf": {
      "model_module": "@jupyter-widgets/base",
      "model_module_version": "1.1.0",
      "model_name": "LayoutModel",
      "state": {}
     },
     "17c69c17ec8344d2aeee5ae6dee93ce6": {
      "model_module": "@jupyter-widgets/base",
      "model_module_version": "1.1.0",
      "model_name": "LayoutModel",
      "state": {}
     },
     "19ca5418edce46e0985b6f1868b3938d": {
      "model_module": "@jupyter-widgets/controls",
      "model_module_version": "1.4.0",
      "model_name": "HTMLModel",
      "state": {
       "layout": "IPY_MODEL_5cae48b866984d99a1e15f8822d57ed9",
       "style": "IPY_MODEL_a194ac9f28564a6a805b24a1a742838c",
       "value": "100% 7/7 [01:56&lt;00:00, 28.35s/it]"
      }
     },
     "19dfb39fd56341bebbd9237d9e89f203": {
      "model_module": "@jupyter-widgets/base",
      "model_module_version": "1.1.0",
      "model_name": "LayoutModel",
      "state": {}
     },
     "1b4f155261eb469da0da9cbb96741044": {
      "model_module": "@jupyter-widgets/controls",
      "model_module_version": "1.4.0",
      "model_name": "HBoxModel",
      "state": {
       "children": [
        "IPY_MODEL_27199a9b964f4b8f94946e1a80cee138",
        "IPY_MODEL_7a4cd3a8b19d4fe58ed4d6d8f4ecae0e"
       ],
       "layout": "IPY_MODEL_db91f69593764d1fbc8593c6264df3a7"
      }
     },
     "1c5f395493bd433f8e92eb500d44862d": {
      "model_module": "@jupyter-widgets/controls",
      "model_module_version": "1.4.0",
      "model_name": "IntProgressModel",
      "state": {
       "bar_style": "danger",
       "layout": "IPY_MODEL_a40922ef137340309aa9e6ddf294db03",
       "max": 7,
       "style": "IPY_MODEL_50d0d112d940487c95b9608c1e3608cd",
       "value": 6
      }
     },
     "1df7feba439d4c2aa3690f66d4d864d5": {
      "model_module": "@jupyter-widgets/controls",
      "model_module_version": "1.4.0",
      "model_name": "HBoxModel",
      "state": {
       "children": [
        "IPY_MODEL_04fe7b5bda3e4a4fb6218fa292b77714",
        "IPY_MODEL_3aadc590d2974110b54dd098ef86272d"
       ],
       "layout": "IPY_MODEL_46d59768c3d24bfa8cd8cf65fdc9c733"
      }
     },
     "211f4c9ceba64de0b46c4e32ce02a19a": {
      "model_module": "@jupyter-widgets/controls",
      "model_module_version": "1.4.0",
      "model_name": "ProgressStyleModel",
      "state": {
       "description_width": ""
      }
     },
     "26d92d4de76a46548d6957f246f6310d": {
      "model_module": "@jupyter-widgets/controls",
      "model_module_version": "1.4.0",
      "model_name": "IntProgressModel",
      "state": {
       "bar_style": "success",
       "layout": "IPY_MODEL_9b02ea3549db47f68abf6d46bc076fba",
       "max": 7,
       "style": "IPY_MODEL_bb1ecde5326d4c6cb5cb3f50941865f9",
       "value": 7
      }
     },
     "27199a9b964f4b8f94946e1a80cee138": {
      "model_module": "@jupyter-widgets/controls",
      "model_module_version": "1.4.0",
      "model_name": "IntProgressModel",
      "state": {
       "bar_style": "danger",
       "layout": "IPY_MODEL_5d84ecdf55794062bc15794cd6d48d87",
       "max": 12,
       "style": "IPY_MODEL_cc2ce2b0abab4704b0d580cdd7897c24",
       "value": 8
      }
     },
     "281631f2651241d896b1300b748f94cc": {
      "model_module": "@jupyter-widgets/controls",
      "model_module_version": "1.4.0",
      "model_name": "IntProgressModel",
      "state": {
       "bar_style": "success",
       "layout": "IPY_MODEL_9a939ec092234106b3bbf13266650f29",
       "max": 29,
       "style": "IPY_MODEL_aa66c2d953c84ef9902875ccbc9c994e",
       "value": 29
      }
     },
     "2ac95f4aedb04f5a9a5fa5361f2b5d49": {
      "model_module": "@jupyter-widgets/controls",
      "model_module_version": "1.4.0",
      "model_name": "IntProgressModel",
      "state": {
       "bar_style": "success",
       "layout": "IPY_MODEL_3705518094ba492db64884c7d9934ddf",
       "max": 31,
       "style": "IPY_MODEL_211f4c9ceba64de0b46c4e32ce02a19a",
       "value": 31
      }
     },
     "2b5f53a0083041e88ab8b35fbcb6adec": {
      "model_module": "@jupyter-widgets/base",
      "model_module_version": "1.1.0",
      "model_name": "LayoutModel",
      "state": {}
     },
     "2bbce2307fd74e7fb6b48d80cf8b147a": {
      "model_module": "@jupyter-widgets/controls",
      "model_module_version": "1.4.0",
      "model_name": "HTMLModel",
      "state": {
       "layout": "IPY_MODEL_4c3a4ac37bb349259fa3840a25b52a9f",
       "style": "IPY_MODEL_bc47080108594d6398376ec90247fd7f",
       "value": "100% 29/29 [01:42&lt;00:00,  7.61s/it]"
      }
     },
     "2c2f47043664427b9fe40d9dab59f5be": {
      "model_module": "@jupyter-widgets/base",
      "model_module_version": "1.1.0",
      "model_name": "LayoutModel",
      "state": {}
     },
     "2f4fa306f59d47a0a4c1fb41de63ccc6": {
      "model_module": "@jupyter-widgets/controls",
      "model_module_version": "1.4.0",
      "model_name": "HBoxModel",
      "state": {
       "children": [
        "IPY_MODEL_312e2c5fb4744ee9aca6e5cba42c05f8",
        "IPY_MODEL_03fa6285b902493bbc52e73542eb6bd3"
       ],
       "layout": "IPY_MODEL_616c61e0e1774e4dba06565d10df95e7"
      }
     },
     "30e0a8eb04c8484caeb06471a6b297b1": {
      "model_module": "@jupyter-widgets/controls",
      "model_module_version": "1.4.0",
      "model_name": "ProgressStyleModel",
      "state": {
       "description_width": ""
      }
     },
     "312e2c5fb4744ee9aca6e5cba42c05f8": {
      "model_module": "@jupyter-widgets/controls",
      "model_module_version": "1.4.0",
      "model_name": "IntProgressModel",
      "state": {
       "bar_style": "success",
       "layout": "IPY_MODEL_f504214792524c2cbbb8997e99aa7714",
       "max": 12,
       "style": "IPY_MODEL_30e0a8eb04c8484caeb06471a6b297b1",
       "value": 12
      }
     },
     "3151f3436ad948f79765fcfb5cb64831": {
      "model_module": "@jupyter-widgets/controls",
      "model_module_version": "1.4.0",
      "model_name": "HBoxModel",
      "state": {
       "children": [
        "IPY_MODEL_ac9c8dcde2c14dbaa1173c31993a8425",
        "IPY_MODEL_7b16d9396fa8440d8b26d4309aac9dae"
       ],
       "layout": "IPY_MODEL_ac4b2cd6abad4fbe9129ad2b39f79d1c"
      }
     },
     "3191d73e3295402c9256a8e48a55fcde": {
      "model_module": "@jupyter-widgets/controls",
      "model_module_version": "1.4.0",
      "model_name": "HBoxModel",
      "state": {
       "children": [
        "IPY_MODEL_3cf71691ed3a45788e854120454ffb91",
        "IPY_MODEL_19ca5418edce46e0985b6f1868b3938d"
       ],
       "layout": "IPY_MODEL_1135c69a55d04878a6716a594f46043e"
      }
     },
     "3288f5a70453437e8314c7c34446ad83": {
      "model_module": "@jupyter-widgets/base",
      "model_module_version": "1.1.0",
      "model_name": "LayoutModel",
      "state": {}
     },
     "346f9bacb61742f2986f3122a483fba8": {
      "model_module": "@jupyter-widgets/controls",
      "model_module_version": "1.4.0",
      "model_name": "HTMLModel",
      "state": {
       "layout": "IPY_MODEL_a70802ad133141da868681929f5d88ff",
       "style": "IPY_MODEL_cb792cc3dd3c4364a1349aa2cac5787b",
       "value": "100% 7/7 [03:46&lt;00:00, 40.23s/it]"
      }
     },
     "3705518094ba492db64884c7d9934ddf": {
      "model_module": "@jupyter-widgets/base",
      "model_module_version": "1.1.0",
      "model_name": "LayoutModel",
      "state": {}
     },
     "3aadc590d2974110b54dd098ef86272d": {
      "model_module": "@jupyter-widgets/controls",
      "model_module_version": "1.4.0",
      "model_name": "HTMLModel",
      "state": {
       "layout": "IPY_MODEL_5af9d90ad30a413c81b668595c956fae",
       "style": "IPY_MODEL_a9b1bb6a3b6a49169375e58370f202fe",
       "value": "100% 3/3 [03:01&lt;00:00, 69.98s/it]"
      }
     },
     "3b29ecca74e8449b80feed12f6b06af0": {
      "model_module": "@jupyter-widgets/controls",
      "model_module_version": "1.4.0",
      "model_name": "HTMLModel",
      "state": {
       "layout": "IPY_MODEL_07f2b1c3f170407fa620b52e90db8940",
       "style": "IPY_MODEL_9e73f2763bcd4b90b948af8e06572ddd",
       "value": "100% 20/20 [00:43&lt;00:00,  5.19s/it]"
      }
     },
     "3cf71691ed3a45788e854120454ffb91": {
      "model_module": "@jupyter-widgets/controls",
      "model_module_version": "1.4.0",
      "model_name": "IntProgressModel",
      "state": {
       "bar_style": "success",
       "layout": "IPY_MODEL_b79ec55a28294c6bbf956dfc8e61c6d2",
       "max": 7,
       "style": "IPY_MODEL_f1361377c3184fb688b28bfe61451e86",
       "value": 7
      }
     },
     "3e8208665dc144d2bf9e241de55a3474": {
      "model_module": "@jupyter-widgets/controls",
      "model_module_version": "1.4.0",
      "model_name": "IntProgressModel",
      "state": {
       "bar_style": "success",
       "layout": "IPY_MODEL_bf76cbb0d2574155994bccb941ded25f",
       "max": 10,
       "style": "IPY_MODEL_b222bf4c0fce42989a3914fb2c6e45a2",
       "value": 10
      }
     },
     "432a0f81101043fc812406cb9699cf55": {
      "model_module": "@jupyter-widgets/base",
      "model_module_version": "1.1.0",
      "model_name": "LayoutModel",
      "state": {}
     },
     "43cd3c30e9ed40589af0a84e4ad8165a": {
      "model_module": "@jupyter-widgets/controls",
      "model_module_version": "1.4.0",
      "model_name": "HTMLModel",
      "state": {
       "layout": "IPY_MODEL_3288f5a70453437e8314c7c34446ad83",
       "style": "IPY_MODEL_1156627bae864085bbc3167c5b2a5cb3",
       "value": "100% 31/31 [03:22&lt;00:00, 13.89s/it]"
      }
     },
     "45782461847b48c1ad3bd0bff91a213a": {
      "model_module": "@jupyter-widgets/controls",
      "model_module_version": "1.4.0",
      "model_name": "ProgressStyleModel",
      "state": {
       "description_width": ""
      }
     },
     "46d59768c3d24bfa8cd8cf65fdc9c733": {
      "model_module": "@jupyter-widgets/base",
      "model_module_version": "1.1.0",
      "model_name": "LayoutModel",
      "state": {}
     },
     "488d7a0878974888921fe30c7a8ccce6": {
      "model_module": "@jupyter-widgets/base",
      "model_module_version": "1.1.0",
      "model_name": "LayoutModel",
      "state": {}
     },
     "4aaf5ca76a38467087582b42de1f6a1e": {
      "model_module": "@jupyter-widgets/controls",
      "model_module_version": "1.4.0",
      "model_name": "IntProgressModel",
      "state": {
       "bar_style": "success",
       "layout": "IPY_MODEL_d86d424d7d2040bea285a821eb3ffaf6",
       "max": 54,
       "style": "IPY_MODEL_fc2e0e50b4024f2089000a027350ad62",
       "value": 54
      }
     },
     "4c3a4ac37bb349259fa3840a25b52a9f": {
      "model_module": "@jupyter-widgets/base",
      "model_module_version": "1.1.0",
      "model_name": "LayoutModel",
      "state": {}
     },
     "4cd9f8c1d14a460592573b5d5f4d1e68": {
      "model_module": "@jupyter-widgets/controls",
      "model_module_version": "1.4.0",
      "model_name": "DescriptionStyleModel",
      "state": {
       "description_width": ""
      }
     },
     "50d0d112d940487c95b9608c1e3608cd": {
      "model_module": "@jupyter-widgets/controls",
      "model_module_version": "1.4.0",
      "model_name": "ProgressStyleModel",
      "state": {
       "description_width": ""
      }
     },
     "51d92572e6f54d109233622b9df400d2": {
      "model_module": "@jupyter-widgets/base",
      "model_module_version": "1.1.0",
      "model_name": "LayoutModel",
      "state": {}
     },
     "55cf5fec981649bcb4030394e0533126": {
      "model_module": "@jupyter-widgets/controls",
      "model_module_version": "1.4.0",
      "model_name": "HTMLModel",
      "state": {
       "layout": "IPY_MODEL_085e6cabb67240d4a0e1c2ab7c937c98",
       "style": "IPY_MODEL_d6f82401681841eea4d5bb6bd1cff8de",
       "value": " 86% 6/7 [03:18&lt;00:34, 34.82s/it]"
      }
     },
     "561d35d11c2042e48fd4aff270af7c1d": {
      "model_module": "@jupyter-widgets/controls",
      "model_module_version": "1.4.0",
      "model_name": "HBoxModel",
      "state": {
       "children": [
        "IPY_MODEL_1c5f395493bd433f8e92eb500d44862d",
        "IPY_MODEL_55cf5fec981649bcb4030394e0533126"
       ],
       "layout": "IPY_MODEL_51d92572e6f54d109233622b9df400d2"
      }
     },
     "5724b7c6629e42db98f82141d3346d3f": {
      "model_module": "@jupyter-widgets/controls",
      "model_module_version": "1.4.0",
      "model_name": "HTMLModel",
      "state": {
       "layout": "IPY_MODEL_0ae749625db249539e573bdfcd6fa23c",
       "style": "IPY_MODEL_8ebb3008c95c416489b9db29d758008c",
       "value": "100% 29/29 [00:16&lt;00:00,  1.18s/it]"
      }
     },
     "5a4e30bceb904ec682ca0d37ae4da0f6": {
      "model_module": "@jupyter-widgets/base",
      "model_module_version": "1.1.0",
      "model_name": "LayoutModel",
      "state": {}
     },
     "5aba36f9297242688598109bc09046de": {
      "model_module": "@jupyter-widgets/controls",
      "model_module_version": "1.4.0",
      "model_name": "DescriptionStyleModel",
      "state": {
       "description_width": ""
      }
     },
     "5af9d90ad30a413c81b668595c956fae": {
      "model_module": "@jupyter-widgets/base",
      "model_module_version": "1.1.0",
      "model_name": "LayoutModel",
      "state": {}
     },
     "5cae48b866984d99a1e15f8822d57ed9": {
      "model_module": "@jupyter-widgets/base",
      "model_module_version": "1.1.0",
      "model_name": "LayoutModel",
      "state": {}
     },
     "5d84ecdf55794062bc15794cd6d48d87": {
      "model_module": "@jupyter-widgets/base",
      "model_module_version": "1.1.0",
      "model_name": "LayoutModel",
      "state": {}
     },
     "5f7e65435bd74f0eb6a1c412dfb425cc": {
      "model_module": "@jupyter-widgets/controls",
      "model_module_version": "1.4.0",
      "model_name": "DescriptionStyleModel",
      "state": {
       "description_width": ""
      }
     },
     "6058d32ac02e46f996d50b029a65b1a4": {
      "model_module": "@jupyter-widgets/controls",
      "model_module_version": "1.4.0",
      "model_name": "DescriptionStyleModel",
      "state": {
       "description_width": ""
      }
     },
     "616c61e0e1774e4dba06565d10df95e7": {
      "model_module": "@jupyter-widgets/base",
      "model_module_version": "1.1.0",
      "model_name": "LayoutModel",
      "state": {}
     },
     "61ab17aa9e4540939240cce1f8b4c32e": {
      "model_module": "@jupyter-widgets/base",
      "model_module_version": "1.1.0",
      "model_name": "LayoutModel",
      "state": {}
     },
     "63d4d742d31e49eb9f408d4b1d5205a8": {
      "model_module": "@jupyter-widgets/controls",
      "model_module_version": "1.4.0",
      "model_name": "HBoxModel",
      "state": {
       "children": [
        "IPY_MODEL_281631f2651241d896b1300b748f94cc",
        "IPY_MODEL_5724b7c6629e42db98f82141d3346d3f"
       ],
       "layout": "IPY_MODEL_6ec3aa7a23a64d20995bdf93351224f2"
      }
     },
     "646c3ac9c11944748551fbf8c83663b1": {
      "model_module": "@jupyter-widgets/controls",
      "model_module_version": "1.4.0",
      "model_name": "IntProgressModel",
      "state": {
       "bar_style": "success",
       "layout": "IPY_MODEL_488d7a0878974888921fe30c7a8ccce6",
       "max": 29,
       "style": "IPY_MODEL_ae8a07808b3e45859f3cd921f129124b",
       "value": 29
      }
     },
     "6523bce4fdfa4c3fa9dcbdf938bdd0c8": {
      "model_module": "@jupyter-widgets/base",
      "model_module_version": "1.1.0",
      "model_name": "LayoutModel",
      "state": {}
     },
     "67b4ef9809f6494c8230ffa837fb5f2d": {
      "model_module": "@jupyter-widgets/base",
      "model_module_version": "1.1.0",
      "model_name": "LayoutModel",
      "state": {}
     },
     "6b805139fe6c41569daca84ea2ffe481": {
      "model_module": "@jupyter-widgets/controls",
      "model_module_version": "1.4.0",
      "model_name": "IntProgressModel",
      "state": {
       "bar_style": "danger",
       "layout": "IPY_MODEL_c18b42844be044dba18dfeac8ec3a023",
       "max": 10,
       "style": "IPY_MODEL_8a96cd5395da41e3bad8d6138f7e037e",
       "value": 6
      }
     },
     "6ba3ed172cee4b3b89a13534c31dc73b": {
      "model_module": "@jupyter-widgets/controls",
      "model_module_version": "1.4.0",
      "model_name": "HBoxModel",
      "state": {
       "children": [
        "IPY_MODEL_26d92d4de76a46548d6957f246f6310d",
        "IPY_MODEL_346f9bacb61742f2986f3122a483fba8"
       ],
       "layout": "IPY_MODEL_0fad5d8fdefd419584c192c1edb6a221"
      }
     },
     "6becc8561baa4be3bf1bade2dd98d258": {
      "model_module": "@jupyter-widgets/controls",
      "model_module_version": "1.4.0",
      "model_name": "IntProgressModel",
      "state": {
       "bar_style": "danger",
       "layout": "IPY_MODEL_c694e055ee8f4be6a612d919ab8a4096",
       "max": 10,
       "style": "IPY_MODEL_84ab3d3d9b4846ba8e82ed413f410a00",
       "value": 6
      }
     },
     "6d05a0207eb44be8a8194d7672bc3dc3": {
      "model_module": "@jupyter-widgets/controls",
      "model_module_version": "1.4.0",
      "model_name": "ProgressStyleModel",
      "state": {
       "description_width": ""
      }
     },
     "6ec3aa7a23a64d20995bdf93351224f2": {
      "model_module": "@jupyter-widgets/base",
      "model_module_version": "1.1.0",
      "model_name": "LayoutModel",
      "state": {}
     },
     "774238a7f4bc4bc39881b33452244ce3": {
      "model_module": "@jupyter-widgets/base",
      "model_module_version": "1.1.0",
      "model_name": "LayoutModel",
      "state": {}
     },
     "7a2861a1cfdb45bdac48eb59c8b660bc": {
      "model_module": "@jupyter-widgets/controls",
      "model_module_version": "1.4.0",
      "model_name": "ProgressStyleModel",
      "state": {
       "description_width": ""
      }
     },
     "7a4cd3a8b19d4fe58ed4d6d8f4ecae0e": {
      "model_module": "@jupyter-widgets/controls",
      "model_module_version": "1.4.0",
      "model_name": "HTMLModel",
      "state": {
       "layout": "IPY_MODEL_a6d7e8cc772f4b44ba43a23a407e7c12",
       "style": "IPY_MODEL_4cd9f8c1d14a460592573b5d5f4d1e68",
       "value": " 67% 8/12 [01:42&lt;01:34, 23.63s/it]"
      }
     },
     "7ab2be73db8c40cc896e0249bd3ea500": {
      "model_module": "@jupyter-widgets/controls",
      "model_module_version": "1.4.0",
      "model_name": "DescriptionStyleModel",
      "state": {
       "description_width": ""
      }
     },
     "7b16d9396fa8440d8b26d4309aac9dae": {
      "model_module": "@jupyter-widgets/controls",
      "model_module_version": "1.4.0",
      "model_name": "HTMLModel",
      "state": {
       "layout": "IPY_MODEL_b7ee7f0454ef43edba44cdb7eff62621",
       "style": "IPY_MODEL_7ab2be73db8c40cc896e0249bd3ea500",
       "value": "100% 54/54 [07:16&lt;00:00, 17.43s/it]"
      }
     },
     "7fbd082af14d4d7c80850630b4dd8abc": {
      "model_module": "@jupyter-widgets/controls",
      "model_module_version": "1.4.0",
      "model_name": "ProgressStyleModel",
      "state": {
       "description_width": ""
      }
     },
     "81dc1a7f9d6b4555a8531f2035bdcabb": {
      "model_module": "@jupyter-widgets/controls",
      "model_module_version": "1.4.0",
      "model_name": "DescriptionStyleModel",
      "state": {
       "description_width": ""
      }
     },
     "84ab3d3d9b4846ba8e82ed413f410a00": {
      "model_module": "@jupyter-widgets/controls",
      "model_module_version": "1.4.0",
      "model_name": "ProgressStyleModel",
      "state": {
       "description_width": ""
      }
     },
     "871966c94ef9408abec03ebe24d83c8c": {
      "model_module": "@jupyter-widgets/controls",
      "model_module_version": "1.4.0",
      "model_name": "DescriptionStyleModel",
      "state": {
       "description_width": ""
      }
     },
     "874451d3927c4f3ba141d58c95f9e1df": {
      "model_module": "@jupyter-widgets/base",
      "model_module_version": "1.1.0",
      "model_name": "LayoutModel",
      "state": {}
     },
     "875b2a51333945eaa1b8cc990026d552": {
      "model_module": "@jupyter-widgets/controls",
      "model_module_version": "1.4.0",
      "model_name": "HBoxModel",
      "state": {
       "children": [
        "IPY_MODEL_040769e561d949e39b17361d682bb4a8",
        "IPY_MODEL_43cd3c30e9ed40589af0a84e4ad8165a"
       ],
       "layout": "IPY_MODEL_cb8738fbc3d54b8ea12d23b970356248"
      }
     },
     "879f8389ba634454a659800af5cb86af": {
      "model_module": "@jupyter-widgets/controls",
      "model_module_version": "1.4.0",
      "model_name": "HBoxModel",
      "state": {
       "children": [
        "IPY_MODEL_6b805139fe6c41569daca84ea2ffe481",
        "IPY_MODEL_9890ec07a2c3471aa01debbe383ea5fc"
       ],
       "layout": "IPY_MODEL_a940997b240a4defb0456caa12daac3b"
      }
     },
     "88ca85eee0ea4bbfa3392ffd1b551a6b": {
      "model_module": "@jupyter-widgets/controls",
      "model_module_version": "1.4.0",
      "model_name": "HTMLModel",
      "state": {
       "layout": "IPY_MODEL_8dbd8bf993fa4539907fe0e6c78392e0",
       "style": "IPY_MODEL_b94e521c2a3a44f296118d04fbadbb32",
       "value": " 95% 19/20 [01:45&lt;00:20, 20.90s/it]"
      }
     },
     "89933b9a9199439b9ea396b231b846bc": {
      "model_module": "@jupyter-widgets/controls",
      "model_module_version": "1.4.0",
      "model_name": "HBoxModel",
      "state": {
       "children": [
        "IPY_MODEL_afa63380b5d94daa93c89a7f76e73643",
        "IPY_MODEL_3b29ecca74e8449b80feed12f6b06af0"
       ],
       "layout": "IPY_MODEL_19dfb39fd56341bebbd9237d9e89f203"
      }
     },
     "89bf37d725d0422ead1e32f25f1ff7a8": {
      "model_module": "@jupyter-widgets/controls",
      "model_module_version": "1.4.0",
      "model_name": "HBoxModel",
      "state": {
       "children": [
        "IPY_MODEL_646c3ac9c11944748551fbf8c83663b1",
        "IPY_MODEL_2bbce2307fd74e7fb6b48d80cf8b147a"
       ],
       "layout": "IPY_MODEL_17c69c17ec8344d2aeee5ae6dee93ce6"
      }
     },
     "8a17eda6529f4191b2f375295f59cd1d": {
      "model_module": "@jupyter-widgets/base",
      "model_module_version": "1.1.0",
      "model_name": "LayoutModel",
      "state": {}
     },
     "8a96cd5395da41e3bad8d6138f7e037e": {
      "model_module": "@jupyter-widgets/controls",
      "model_module_version": "1.4.0",
      "model_name": "ProgressStyleModel",
      "state": {
       "description_width": ""
      }
     },
     "8dbd8bf993fa4539907fe0e6c78392e0": {
      "model_module": "@jupyter-widgets/base",
      "model_module_version": "1.1.0",
      "model_name": "LayoutModel",
      "state": {}
     },
     "8ebb3008c95c416489b9db29d758008c": {
      "model_module": "@jupyter-widgets/controls",
      "model_module_version": "1.4.0",
      "model_name": "DescriptionStyleModel",
      "state": {
       "description_width": ""
      }
     },
     "920ad25e46724413a54d0297ff4f0d54": {
      "model_module": "@jupyter-widgets/base",
      "model_module_version": "1.1.0",
      "model_name": "LayoutModel",
      "state": {}
     },
     "9890ec07a2c3471aa01debbe383ea5fc": {
      "model_module": "@jupyter-widgets/controls",
      "model_module_version": "1.4.0",
      "model_name": "HTMLModel",
      "state": {
       "layout": "IPY_MODEL_920ad25e46724413a54d0297ff4f0d54",
       "style": "IPY_MODEL_b14da71dd7b345b08c62107bd73f2708",
       "value": " 60% 6/10 [00:47&lt;00:48, 12.22s/it]"
      }
     },
     "9a939ec092234106b3bbf13266650f29": {
      "model_module": "@jupyter-widgets/base",
      "model_module_version": "1.1.0",
      "model_name": "LayoutModel",
      "state": {}
     },
     "9b02ea3549db47f68abf6d46bc076fba": {
      "model_module": "@jupyter-widgets/base",
      "model_module_version": "1.1.0",
      "model_name": "LayoutModel",
      "state": {}
     },
     "9e73f2763bcd4b90b948af8e06572ddd": {
      "model_module": "@jupyter-widgets/controls",
      "model_module_version": "1.4.0",
      "model_name": "DescriptionStyleModel",
      "state": {
       "description_width": ""
      }
     },
     "9e90f3d114ab477bb44ce96e057fde81": {
      "model_module": "@jupyter-widgets/base",
      "model_module_version": "1.1.0",
      "model_name": "LayoutModel",
      "state": {}
     },
     "a194ac9f28564a6a805b24a1a742838c": {
      "model_module": "@jupyter-widgets/controls",
      "model_module_version": "1.4.0",
      "model_name": "DescriptionStyleModel",
      "state": {
       "description_width": ""
      }
     },
     "a1ed86f696f14feeabfab9678e5b6e42": {
      "model_module": "@jupyter-widgets/controls",
      "model_module_version": "1.4.0",
      "model_name": "IntProgressModel",
      "state": {
       "bar_style": "success",
       "layout": "IPY_MODEL_d336c78bedf242c78b8e6de9e0aab70e",
       "max": 3,
       "style": "IPY_MODEL_45782461847b48c1ad3bd0bff91a213a",
       "value": 3
      }
     },
     "a34f3e8def0649618235b0c8d9648d99": {
      "model_module": "@jupyter-widgets/controls",
      "model_module_version": "1.4.0",
      "model_name": "DescriptionStyleModel",
      "state": {
       "description_width": ""
      }
     },
     "a40922ef137340309aa9e6ddf294db03": {
      "model_module": "@jupyter-widgets/base",
      "model_module_version": "1.1.0",
      "model_name": "LayoutModel",
      "state": {}
     },
     "a6d7e8cc772f4b44ba43a23a407e7c12": {
      "model_module": "@jupyter-widgets/base",
      "model_module_version": "1.1.0",
      "model_name": "LayoutModel",
      "state": {}
     },
     "a70802ad133141da868681929f5d88ff": {
      "model_module": "@jupyter-widgets/base",
      "model_module_version": "1.1.0",
      "model_name": "LayoutModel",
      "state": {}
     },
     "a940997b240a4defb0456caa12daac3b": {
      "model_module": "@jupyter-widgets/base",
      "model_module_version": "1.1.0",
      "model_name": "LayoutModel",
      "state": {}
     },
     "a9b1bb6a3b6a49169375e58370f202fe": {
      "model_module": "@jupyter-widgets/controls",
      "model_module_version": "1.4.0",
      "model_name": "DescriptionStyleModel",
      "state": {
       "description_width": ""
      }
     },
     "aa66c2d953c84ef9902875ccbc9c994e": {
      "model_module": "@jupyter-widgets/controls",
      "model_module_version": "1.4.0",
      "model_name": "ProgressStyleModel",
      "state": {
       "description_width": ""
      }
     },
     "ac4b2cd6abad4fbe9129ad2b39f79d1c": {
      "model_module": "@jupyter-widgets/base",
      "model_module_version": "1.1.0",
      "model_name": "LayoutModel",
      "state": {}
     },
     "ac9c8dcde2c14dbaa1173c31993a8425": {
      "model_module": "@jupyter-widgets/controls",
      "model_module_version": "1.4.0",
      "model_name": "IntProgressModel",
      "state": {
       "bar_style": "success",
       "layout": "IPY_MODEL_f6042c224cb04d4d80e76e24bcd752f0",
       "max": 54,
       "style": "IPY_MODEL_043afb832aa3492482fd973bb9d9bd7a",
       "value": 54
      }
     },
     "acc45206458d480a9f2ef27c9c8ef1df": {
      "model_module": "@jupyter-widgets/controls",
      "model_module_version": "1.4.0",
      "model_name": "HTMLModel",
      "state": {
       "layout": "IPY_MODEL_2b5f53a0083041e88ab8b35fbcb6adec",
       "style": "IPY_MODEL_5f7e65435bd74f0eb6a1c412dfb425cc",
       "value": " 61% 27/44 [01:11&lt;01:07,  4.00s/it]"
      }
     },
     "ae8a07808b3e45859f3cd921f129124b": {
      "model_module": "@jupyter-widgets/controls",
      "model_module_version": "1.4.0",
      "model_name": "ProgressStyleModel",
      "state": {
       "description_width": ""
      }
     },
     "afa63380b5d94daa93c89a7f76e73643": {
      "model_module": "@jupyter-widgets/controls",
      "model_module_version": "1.4.0",
      "model_name": "IntProgressModel",
      "state": {
       "bar_style": "success",
       "layout": "IPY_MODEL_9e90f3d114ab477bb44ce96e057fde81",
       "max": 20,
       "style": "IPY_MODEL_c5b03935e2804f8f99405b2d01c061d4",
       "value": 20
      }
     },
     "b14da71dd7b345b08c62107bd73f2708": {
      "model_module": "@jupyter-widgets/controls",
      "model_module_version": "1.4.0",
      "model_name": "DescriptionStyleModel",
      "state": {
       "description_width": ""
      }
     },
     "b1cc74f338d84b6e81fba7007df30136": {
      "model_module": "@jupyter-widgets/base",
      "model_module_version": "1.1.0",
      "model_name": "LayoutModel",
      "state": {}
     },
     "b222bf4c0fce42989a3914fb2c6e45a2": {
      "model_module": "@jupyter-widgets/controls",
      "model_module_version": "1.4.0",
      "model_name": "ProgressStyleModel",
      "state": {
       "description_width": ""
      }
     },
     "b79ec55a28294c6bbf956dfc8e61c6d2": {
      "model_module": "@jupyter-widgets/base",
      "model_module_version": "1.1.0",
      "model_name": "LayoutModel",
      "state": {}
     },
     "b7ee7f0454ef43edba44cdb7eff62621": {
      "model_module": "@jupyter-widgets/base",
      "model_module_version": "1.1.0",
      "model_name": "LayoutModel",
      "state": {}
     },
     "b94e521c2a3a44f296118d04fbadbb32": {
      "model_module": "@jupyter-widgets/controls",
      "model_module_version": "1.4.0",
      "model_name": "DescriptionStyleModel",
      "state": {
       "description_width": ""
      }
     },
     "bb1ecde5326d4c6cb5cb3f50941865f9": {
      "model_module": "@jupyter-widgets/controls",
      "model_module_version": "1.4.0",
      "model_name": "ProgressStyleModel",
      "state": {
       "description_width": ""
      }
     },
     "bc47080108594d6398376ec90247fd7f": {
      "model_module": "@jupyter-widgets/controls",
      "model_module_version": "1.4.0",
      "model_name": "DescriptionStyleModel",
      "state": {
       "description_width": ""
      }
     },
     "bdc29d95eb5b4ef9aa958372545ee719": {
      "model_module": "@jupyter-widgets/base",
      "model_module_version": "1.1.0",
      "model_name": "LayoutModel",
      "state": {}
     },
     "bf76cbb0d2574155994bccb941ded25f": {
      "model_module": "@jupyter-widgets/base",
      "model_module_version": "1.1.0",
      "model_name": "LayoutModel",
      "state": {}
     },
     "c00586e1eccf461c9b0429e0ccfc324c": {
      "model_module": "@jupyter-widgets/controls",
      "model_module_version": "1.4.0",
      "model_name": "HBoxModel",
      "state": {
       "children": [
        "IPY_MODEL_c268087693ac4caea7ff5672e655a9d2",
        "IPY_MODEL_acc45206458d480a9f2ef27c9c8ef1df"
       ],
       "layout": "IPY_MODEL_d92aa9b32b694dcaabc8203167d6a20e"
      }
     },
     "c02a451e0731469ea91cc39abbf14c48": {
      "model_module": "@jupyter-widgets/base",
      "model_module_version": "1.1.0",
      "model_name": "LayoutModel",
      "state": {}
     },
     "c071aba1cd534b049eee2f1809f94fec": {
      "model_module": "@jupyter-widgets/base",
      "model_module_version": "1.1.0",
      "model_name": "LayoutModel",
      "state": {}
     },
     "c18b42844be044dba18dfeac8ec3a023": {
      "model_module": "@jupyter-widgets/base",
      "model_module_version": "1.1.0",
      "model_name": "LayoutModel",
      "state": {}
     },
     "c1dc41def3384efe9e3e3b908daed3df": {
      "model_module": "@jupyter-widgets/controls",
      "model_module_version": "1.4.0",
      "model_name": "HBoxModel",
      "state": {
       "children": [
        "IPY_MODEL_3e8208665dc144d2bf9e241de55a3474",
        "IPY_MODEL_fbe344d6c52b42629a7a5a43aaaa8ed1"
       ],
       "layout": "IPY_MODEL_8a17eda6529f4191b2f375295f59cd1d"
      }
     },
     "c268087693ac4caea7ff5672e655a9d2": {
      "model_module": "@jupyter-widgets/controls",
      "model_module_version": "1.4.0",
      "model_name": "IntProgressModel",
      "state": {
       "layout": "IPY_MODEL_67b4ef9809f6494c8230ffa837fb5f2d",
       "max": 44,
       "style": "IPY_MODEL_0f5c61300af74d9c87b2e169a8d59564",
       "value": 27
      }
     },
     "c5b03935e2804f8f99405b2d01c061d4": {
      "model_module": "@jupyter-widgets/controls",
      "model_module_version": "1.4.0",
      "model_name": "ProgressStyleModel",
      "state": {
       "description_width": ""
      }
     },
     "c694e055ee8f4be6a612d919ab8a4096": {
      "model_module": "@jupyter-widgets/base",
      "model_module_version": "1.1.0",
      "model_name": "LayoutModel",
      "state": {}
     },
     "c7666e83442f44259d58a3b1f3b48341": {
      "model_module": "@jupyter-widgets/controls",
      "model_module_version": "1.4.0",
      "model_name": "HTMLModel",
      "state": {
       "layout": "IPY_MODEL_fb350532137b4401810ece19b5140a35",
       "style": "IPY_MODEL_a34f3e8def0649618235b0c8d9648d99",
       "value": "100% 12/12 [00:03&lt;00:00,  2.07it/s]"
      }
     },
     "cb792cc3dd3c4364a1349aa2cac5787b": {
      "model_module": "@jupyter-widgets/controls",
      "model_module_version": "1.4.0",
      "model_name": "DescriptionStyleModel",
      "state": {
       "description_width": ""
      }
     },
     "cb8738fbc3d54b8ea12d23b970356248": {
      "model_module": "@jupyter-widgets/base",
      "model_module_version": "1.1.0",
      "model_name": "LayoutModel",
      "state": {}
     },
     "cc2ce2b0abab4704b0d580cdd7897c24": {
      "model_module": "@jupyter-widgets/controls",
      "model_module_version": "1.4.0",
      "model_name": "ProgressStyleModel",
      "state": {
       "description_width": ""
      }
     },
     "cc3f0a0bd1aa420dadbac06d59055840": {
      "model_module": "@jupyter-widgets/controls",
      "model_module_version": "1.4.0",
      "model_name": "IntProgressModel",
      "state": {
       "bar_style": "danger",
       "layout": "IPY_MODEL_874451d3927c4f3ba141d58c95f9e1df",
       "max": 20,
       "style": "IPY_MODEL_7fbd082af14d4d7c80850630b4dd8abc",
       "value": 19
      }
     },
     "cf753dd646bb404a8c735ca6a8362b08": {
      "model_module": "@jupyter-widgets/controls",
      "model_module_version": "1.4.0",
      "model_name": "HBoxModel",
      "state": {
       "children": [
        "IPY_MODEL_6becc8561baa4be3bf1bade2dd98d258",
        "IPY_MODEL_d062e888b1c64398a252ee304c899269"
       ],
       "layout": "IPY_MODEL_b1cc74f338d84b6e81fba7007df30136"
      }
     },
     "d062e888b1c64398a252ee304c899269": {
      "model_module": "@jupyter-widgets/controls",
      "model_module_version": "1.4.0",
      "model_name": "HTMLModel",
      "state": {
       "layout": "IPY_MODEL_dd6f31bb4ef64414971920d75681b193",
       "style": "IPY_MODEL_81dc1a7f9d6b4555a8531f2035bdcabb",
       "value": " 60% 6/10 [00:04&lt;00:04,  1.06s/it]"
      }
     },
     "d336c78bedf242c78b8e6de9e0aab70e": {
      "model_module": "@jupyter-widgets/base",
      "model_module_version": "1.1.0",
      "model_name": "LayoutModel",
      "state": {}
     },
     "d614664cf99743889aa9b084525990d8": {
      "model_module": "@jupyter-widgets/controls",
      "model_module_version": "1.4.0",
      "model_name": "HTMLModel",
      "state": {
       "layout": "IPY_MODEL_c071aba1cd534b049eee2f1809f94fec",
       "style": "IPY_MODEL_5aba36f9297242688598109bc09046de",
       "value": "100% 54/54 [01:11&lt;00:00,  2.69s/it]"
      }
     },
     "d6f82401681841eea4d5bb6bd1cff8de": {
      "model_module": "@jupyter-widgets/controls",
      "model_module_version": "1.4.0",
      "model_name": "DescriptionStyleModel",
      "state": {
       "description_width": ""
      }
     },
     "d789bc6629a04beda166086b2d652d4c": {
      "model_module": "@jupyter-widgets/base",
      "model_module_version": "1.1.0",
      "model_name": "LayoutModel",
      "state": {}
     },
     "d86d424d7d2040bea285a821eb3ffaf6": {
      "model_module": "@jupyter-widgets/base",
      "model_module_version": "1.1.0",
      "model_name": "LayoutModel",
      "state": {}
     },
     "d92aa9b32b694dcaabc8203167d6a20e": {
      "model_module": "@jupyter-widgets/base",
      "model_module_version": "1.1.0",
      "model_name": "LayoutModel",
      "state": {}
     },
     "db91f69593764d1fbc8593c6264df3a7": {
      "model_module": "@jupyter-widgets/base",
      "model_module_version": "1.1.0",
      "model_name": "LayoutModel",
      "state": {}
     },
     "dd6f31bb4ef64414971920d75681b193": {
      "model_module": "@jupyter-widgets/base",
      "model_module_version": "1.1.0",
      "model_name": "LayoutModel",
      "state": {}
     },
     "ded469034a7e4aa9a244a8e5e88e998a": {
      "model_module": "@jupyter-widgets/base",
      "model_module_version": "1.1.0",
      "model_name": "LayoutModel",
      "state": {}
     },
     "e518bcea114a41ec8900a5dad806fa8b": {
      "model_module": "@jupyter-widgets/controls",
      "model_module_version": "1.4.0",
      "model_name": "ProgressStyleModel",
      "state": {
       "description_width": ""
      }
     },
     "f1361377c3184fb688b28bfe61451e86": {
      "model_module": "@jupyter-widgets/controls",
      "model_module_version": "1.4.0",
      "model_name": "ProgressStyleModel",
      "state": {
       "description_width": ""
      }
     },
     "f504214792524c2cbbb8997e99aa7714": {
      "model_module": "@jupyter-widgets/base",
      "model_module_version": "1.1.0",
      "model_name": "LayoutModel",
      "state": {}
     },
     "f52bb86c1e564d5381ea1b9792d4ee48": {
      "model_module": "@jupyter-widgets/controls",
      "model_module_version": "1.4.0",
      "model_name": "HBoxModel",
      "state": {
       "children": [
        "IPY_MODEL_0f40caa17b6f45b19f9b67db6af682c3",
        "IPY_MODEL_c7666e83442f44259d58a3b1f3b48341"
       ],
       "layout": "IPY_MODEL_bdc29d95eb5b4ef9aa958372545ee719"
      }
     },
     "f6042c224cb04d4d80e76e24bcd752f0": {
      "model_module": "@jupyter-widgets/base",
      "model_module_version": "1.1.0",
      "model_name": "LayoutModel",
      "state": {}
     },
     "f9fa83b613a74793bdd8d3b1591d3786": {
      "model_module": "@jupyter-widgets/controls",
      "model_module_version": "1.4.0",
      "model_name": "HBoxModel",
      "state": {
       "children": [
        "IPY_MODEL_a1ed86f696f14feeabfab9678e5b6e42",
        "IPY_MODEL_fc1188fa11c24fb7abb650d51e68bcda"
       ],
       "layout": "IPY_MODEL_6523bce4fdfa4c3fa9dcbdf938bdd0c8"
      }
     },
     "fb350532137b4401810ece19b5140a35": {
      "model_module": "@jupyter-widgets/base",
      "model_module_version": "1.1.0",
      "model_name": "LayoutModel",
      "state": {}
     },
     "fb9bace579f64af4b7ebb87789031257": {
      "model_module": "@jupyter-widgets/controls",
      "model_module_version": "1.4.0",
      "model_name": "HTMLModel",
      "state": {
       "layout": "IPY_MODEL_774238a7f4bc4bc39881b33452244ce3",
       "style": "IPY_MODEL_1099c3fb624b4608ac4d8274ff57ff46",
       "value": "100% 31/31 [20:02&lt;00:00, 89.74s/it]"
      }
     },
     "fbe344d6c52b42629a7a5a43aaaa8ed1": {
      "model_module": "@jupyter-widgets/controls",
      "model_module_version": "1.4.0",
      "model_name": "HTMLModel",
      "state": {
       "layout": "IPY_MODEL_5a4e30bceb904ec682ca0d37ae4da0f6",
       "style": "IPY_MODEL_871966c94ef9408abec03ebe24d83c8c",
       "value": "100% 10/10 [00:17&lt;00:00,  4.05s/it]"
      }
     },
     "fc1188fa11c24fb7abb650d51e68bcda": {
      "model_module": "@jupyter-widgets/controls",
      "model_module_version": "1.4.0",
      "model_name": "HTMLModel",
      "state": {
       "layout": "IPY_MODEL_ded469034a7e4aa9a244a8e5e88e998a",
       "style": "IPY_MODEL_6058d32ac02e46f996d50b029a65b1a4",
       "value": "100% 3/3 [03:36&lt;00:00, 86.52s/it]"
      }
     },
     "fc2e0e50b4024f2089000a027350ad62": {
      "model_module": "@jupyter-widgets/controls",
      "model_module_version": "1.4.0",
      "model_name": "ProgressStyleModel",
      "state": {
       "description_width": ""
      }
     }
    },
    "version_major": 2,
    "version_minor": 0
   }
  }
 },
 "nbformat": 4,
 "nbformat_minor": 2
}
