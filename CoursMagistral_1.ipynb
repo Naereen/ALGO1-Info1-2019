{
 "cells": [
  {
   "cell_type": "markdown",
   "metadata": {
    "toc": "true"
   },
   "source": [
    "# Table of Contents\n",
    " <p><div class=\"lev1 toc-item\"><a href=\"#ALGO1-:-Introduction-à-l'algorithmique\" data-toc-modified-id=\"ALGO1-:-Introduction-à-l'algorithmique-1\"><span class=\"toc-item-num\">1&nbsp;&nbsp;</span><a href=\"https://perso.crans.org/besson/teach/info1_algo1_2019/\" target=\"_blank\">ALGO1 : Introduction à l'algorithmique</a></a></div><div class=\"lev1 toc-item\"><a href=\"#Cours-Magistral-1\" data-toc-modified-id=\"Cours-Magistral-1-2\"><span class=\"toc-item-num\">2&nbsp;&nbsp;</span>Cours Magistral 1</a></div><div class=\"lev2 toc-item\"><a href=\"#Listes-simplement-chaînées\" data-toc-modified-id=\"Listes-simplement-chaînées-21\"><span class=\"toc-item-num\">2.1&nbsp;&nbsp;</span>Listes simplement chaînées</a></div><div class=\"lev3 toc-item\"><a href=\"#pop/push-pour-une-structure-de-file-(FILO)\" data-toc-modified-id=\"pop/push-pour-une-structure-de-file-(FILO)-211\"><span class=\"toc-item-num\">2.1.1&nbsp;&nbsp;</span><code>pop</code>/<code>push</code> pour une structure de file (FILO)</a></div><div class=\"lev3 toc-item\"><a href=\"#add/remove-pour-une-structure-de-pile-(FIFO)\" data-toc-modified-id=\"add/remove-pour-une-structure-de-pile-(FIFO)-212\"><span class=\"toc-item-num\">2.1.2&nbsp;&nbsp;</span><code>add</code>/<code>remove</code> pour une structure de pile (FIFO)</a></div><div class=\"lev2 toc-item\"><a href=\"#Listes-doublement-chaînées\" data-toc-modified-id=\"Listes-doublement-chaînées-22\"><span class=\"toc-item-num\">2.2&nbsp;&nbsp;</span>Listes doublement chaînées</a></div><div class=\"lev3 toc-item\"><a href=\"#Exemple\" data-toc-modified-id=\"Exemple-221\"><span class=\"toc-item-num\">2.2.1&nbsp;&nbsp;</span>Exemple</a></div><div class=\"lev2 toc-item\"><a href=\"#Implémenter-une-file-d'attente-avec-deux-piles\" data-toc-modified-id=\"Implémenter-une-file-d'attente-avec-deux-piles-23\"><span class=\"toc-item-num\">2.3&nbsp;&nbsp;</span>Implémenter une file d'attente avec deux piles</a></div><div class=\"lev2 toc-item\"><a href=\"#File-de-priorité-:-implémentation-naïve\" data-toc-modified-id=\"File-de-priorité-:-implémentation-naïve-24\"><span class=\"toc-item-num\">2.4&nbsp;&nbsp;</span>File de priorité : implémentation naïve</a></div><div class=\"lev2 toc-item\"><a href=\"#Implémentation-d'un-tas-binaire\" data-toc-modified-id=\"Implémentation-d'un-tas-binaire-25\"><span class=\"toc-item-num\">2.5&nbsp;&nbsp;</span>Implémentation d'un tas binaire</a></div><div class=\"lev3 toc-item\"><a href=\"#Naïve-:-tableau-trié-!\" data-toc-modified-id=\"Naïve-:-tableau-trié-!-251\"><span class=\"toc-item-num\">2.5.1&nbsp;&nbsp;</span>Naïve : tableau trié !</a></div><div class=\"lev3 toc-item\"><a href=\"#Intelligente-:-tas-binaire-min-équilibré\" data-toc-modified-id=\"Intelligente-:-tas-binaire-min-équilibré-252\"><span class=\"toc-item-num\">2.5.2&nbsp;&nbsp;</span>Intelligente : tas binaire min équilibré</a></div><div class=\"lev2 toc-item\"><a href=\"#Tri-par-tas\" data-toc-modified-id=\"Tri-par-tas-26\"><span class=\"toc-item-num\">2.6&nbsp;&nbsp;</span>Tri par tas</a></div><div class=\"lev3 toc-item\"><a href=\"#Remarques\" data-toc-modified-id=\"Remarques-261\"><span class=\"toc-item-num\">2.6.1&nbsp;&nbsp;</span>Remarques</a></div><div class=\"lev3 toc-item\"><a href=\"#Tri-par-tas\" data-toc-modified-id=\"Tri-par-tas-262\"><span class=\"toc-item-num\">2.6.2&nbsp;&nbsp;</span>Tri par tas</a></div><div class=\"lev2 toc-item\"><a href=\"#Test-numérique-de-l'efficacité-du-tri-par-tas\" data-toc-modified-id=\"Test-numérique-de-l'efficacité-du-tri-par-tas-27\"><span class=\"toc-item-num\">2.7&nbsp;&nbsp;</span>Test numérique de l'efficacité du tri par tas</a></div><div class=\"lev2 toc-item\"><a href=\"#Évaluation-numérique-de-la-complexité-des-opérations-du-tas-binaire\" data-toc-modified-id=\"Évaluation-numérique-de-la-complexité-des-opérations-du-tas-binaire-28\"><span class=\"toc-item-num\">2.8&nbsp;&nbsp;</span>Évaluation numérique de la complexité des opérations du tas binaire</a></div><div class=\"lev3 toc-item\"><a href=\"#Sur-un-seul-exemple\" data-toc-modified-id=\"Sur-un-seul-exemple-281\"><span class=\"toc-item-num\">2.8.1&nbsp;&nbsp;</span>Sur un seul exemple</a></div>"
   ]
  },
  {
   "cell_type": "markdown",
   "metadata": {},
   "source": [
    "# [ALGO1 : Introduction à l'algorithmique](https://perso.crans.org/besson/teach/info1_algo1_2019/)\n",
    "\n",
    "- [Page du cours](https://perso.crans.org/besson/teach/info1_algo1_2019/) : https://perso.crans.org/besson/teach/info1_algo1_2019/\n",
    "- Magistère d'Informatique de Rennes - ENS Rennes - Année 2019/2020\n",
    "- Intervenants :\n",
    "  + Cours : [Lilian Besson](https://perso.crans.org/besson/)\n",
    "  + Travaux dirigés : [Raphaël Truffet](http://perso.eleves.ens-rennes.fr/people/Raphael.Truffet/)\n",
    "- Références :\n",
    "  + [Open Data Structures](http://opendatastructures.org/ods-python.pdf)"
   ]
  },
  {
   "cell_type": "markdown",
   "metadata": {},
   "source": [
    "# Cours Magistral 1"
   ]
  },
  {
   "cell_type": "markdown",
   "metadata": {},
   "source": [
    "## Listes simplement chaînées\n",
    "![figures/CM1_SimplyLinkedList.png](figures/CM1_SimplyLinkedList.png)"
   ]
  },
  {
   "cell_type": "markdown",
   "metadata": {},
   "source": [
    "On utilise une petite classe qui va encapsuler la donnée courante, et le pointeur vers la liste suivante."
   ]
  },
  {
   "cell_type": "code",
   "execution_count": 58,
   "metadata": {},
   "outputs": [],
   "source": [
    "class ListNode:\n",
    "    def __init__(self, data, link=None):\n",
    "        self.data = data\n",
    "        self.link = link\n",
    "    \n",
    "    def __str__(self):\n",
    "        return \"[{}|.-]->{}\".format(str(self.data), \"\" if self.link is None else str(self.link))"
   ]
  },
  {
   "cell_type": "code",
   "execution_count": 111,
   "metadata": {},
   "outputs": [
    {
     "name": "stdout",
     "output_type": "stream",
     "text": [
      "[0|.-]->\n",
      "[1|.-]->[0|.-]->\n"
     ]
    }
   ],
   "source": [
    "example_node = ListNode(0)\n",
    "print(example_node)\n",
    "\n",
    "example_node2 = ListNode(1, link=example_node)\n",
    "print(example_node2)"
   ]
  },
  {
   "cell_type": "markdown",
   "metadata": {},
   "source": [
    "On peut parcourir $i$ fois cette structure linéaire :"
   ]
  },
  {
   "cell_type": "code",
   "execution_count": 118,
   "metadata": {},
   "outputs": [],
   "source": [
    "def traverse(one_node, i):\n",
    "    assert i >= 0\n",
    "    if i == 0:\n",
    "        return one_node.data\n",
    "    else:\n",
    "        return traverse(one_node.link, i-1)"
   ]
  },
  {
   "cell_type": "code",
   "execution_count": 121,
   "metadata": {},
   "outputs": [
    {
     "data": {
      "text/plain": [
       "[0]"
      ]
     },
     "execution_count": 121,
     "metadata": {},
     "output_type": "execute_result"
    },
    {
     "data": {
      "text/plain": [
       "[0, 1]"
      ]
     },
     "execution_count": 121,
     "metadata": {},
     "output_type": "execute_result"
    }
   ],
   "source": [
    "[ traverse(example_node, 0) ]\n",
    "# traverse(example_node, 1)\n",
    "\n",
    "[ traverse(example_node2, 1), traverse(example_node2, 0) ]"
   ]
  },
  {
   "cell_type": "markdown",
   "metadata": {},
   "source": [
    "On implémente les opérations push/pop et add/remove :"
   ]
  },
  {
   "cell_type": "code",
   "execution_count": 124,
   "metadata": {
    "code_folding": [
     54,
     72
    ]
   },
   "outputs": [],
   "source": [
    "class LinkedList:\n",
    "    def __init__(self):\n",
    "        self._head = None\n",
    "        self._tail = None\n",
    "        self._length = 0\n",
    "\n",
    "    def __len__(self):\n",
    "        return self._length\n",
    "\n",
    "    def isempty(self):\n",
    "        return len(self) == 0\n",
    "\n",
    "    # Methods push/pop for Stack (FIFO) data structure\n",
    "\n",
    "    def _addfirst(self, item):\n",
    "        self._head = ListNode(item, self._head)\n",
    "        # if it has only one element, we make it loop\n",
    "        if self._tail is None:\n",
    "            self._tail = self._head\n",
    "        # but the structure knows it has only element: length = 1\n",
    "        self._length += 1\n",
    "    \n",
    "    def push(self, item):\n",
    "        \"\"\" Insert a new element as the new head, in O(1) time.\"\"\"\n",
    "        self._addfirst(item)\n",
    "\n",
    "    def _removefirst(self):\n",
    "        item = self._head.data        # get the current head data\n",
    "        self._head = self._head.link  # compress the head\n",
    "        if self._head is None:        # if link was None, then list is now empty\n",
    "            self._tail = None  \n",
    "        self._length -= 1             # remove one element\n",
    "        return item\n",
    "    \n",
    "    def pop(self):\n",
    "        \"\"\" Get and remove the head, in O(1) time.\"\"\"\n",
    "        return self._removefirst()\n",
    "    \n",
    "    # Methods add/remove for Queue (FILO) data structure\n",
    "\n",
    "    def _addlast(self, item):\n",
    "        if self._head is None:  # if list is empty, just add at the beginning\n",
    "            self._addfirst(item)\n",
    "        else:  # or create new element, and change tail\n",
    "            self._tail.link = ListNode(item)\n",
    "            self._tail = self._tail.link\n",
    "            self._length += 1\n",
    "    \n",
    "    def add(self, item):\n",
    "        \"\"\" Insert a new element at the end of the list, in O(n) time.\"\"\"\n",
    "        self._addlast(item)\n",
    "    \n",
    "    remove = pop\n",
    "\n",
    "    def removelast(self):\n",
    "        if self._head is self._tail:\n",
    "            return self._removefirst()\n",
    "        else:\n",
    "            currentnode = self._head\n",
    "            while currentnode.link is not self._tail:\n",
    "                currentnode = currentnode.link\n",
    "            item = self._tail.data\n",
    "            self._tail = currentnode\n",
    "            self._tail.link = None\n",
    "            self._length -= 1\n",
    "            return item\n",
    "\n",
    "    # Access to i-th element, in O(i)\n",
    "    def __getitem__(self, index):\n",
    "        if not (0 <= index < len(self)): raise IndexError\n",
    "        return traverse(self._head, index)\n",
    "    \n",
    "    def items(self):\n",
    "        n = len(self)\n",
    "        return [ self[i] for i in range(len(self)) ]\n",
    "    \n",
    "    # Method to print the list    \n",
    "    def __str__(self) -> str:\n",
    "        if self.isempty(): return \"[]\"\n",
    "        return str(self._head)"
   ]
  },
  {
   "cell_type": "markdown",
   "metadata": {},
   "source": [
    "Deux exemples, que l'on visualise encore mieux sur [PythonTutor.com](http://pythontutor.com/live.html#mode=edit)."
   ]
  },
  {
   "cell_type": "markdown",
   "metadata": {},
   "source": [
    "### `pop`/`push` pour une structure de file (FILO)"
   ]
  },
  {
   "cell_type": "code",
   "execution_count": 125,
   "metadata": {},
   "outputs": [
    {
     "name": "stdout",
     "output_type": "stream",
     "text": [
      "[]\n",
      "[0|.-]->\n",
      "[1|.-]->[0|.-]->\n",
      "[2|.-]->[1|.-]->[0|.-]->\n",
      "[3|.-]->[2|.-]->[1|.-]->[0|.-]->\n",
      "[3, 2, 1, 0]\n",
      "0th value is = 3\n",
      "1th value is = 2\n",
      "2th value is = 1\n",
      "3th value is = 0\n"
     ]
    },
    {
     "data": {
      "text/plain": [
       "3"
      ]
     },
     "execution_count": 125,
     "metadata": {},
     "output_type": "execute_result"
    },
    {
     "name": "stdout",
     "output_type": "stream",
     "text": [
      "[2|.-]->[1|.-]->[0|.-]->\n"
     ]
    },
    {
     "data": {
      "text/plain": [
       "2"
      ]
     },
     "execution_count": 125,
     "metadata": {},
     "output_type": "execute_result"
    },
    {
     "name": "stdout",
     "output_type": "stream",
     "text": [
      "[1|.-]->[0|.-]->\n"
     ]
    },
    {
     "data": {
      "text/plain": [
       "1"
      ]
     },
     "execution_count": 125,
     "metadata": {},
     "output_type": "execute_result"
    },
    {
     "name": "stdout",
     "output_type": "stream",
     "text": [
      "[0|.-]->\n"
     ]
    },
    {
     "data": {
      "text/plain": [
       "0"
      ]
     },
     "execution_count": 125,
     "metadata": {},
     "output_type": "execute_result"
    },
    {
     "name": "stdout",
     "output_type": "stream",
     "text": [
      "[]\n"
     ]
    }
   ],
   "source": [
    "example_list = LinkedList()\n",
    "print(example_list)\n",
    "\n",
    "example_list.push(0)\n",
    "print(example_list)\n",
    "\n",
    "example_list.push(1)\n",
    "print(example_list)\n",
    "\n",
    "example_list.push(2)\n",
    "print(example_list)\n",
    "\n",
    "example_list.push(3)\n",
    "print(example_list)\n",
    "\n",
    "print(example_list.items())\n",
    "for i in range(len(example_list)):\n",
    "    print(\"{}th value is = {}\".format(i, example_list[i]))\n",
    "\n",
    "example_list.pop()\n",
    "print(example_list)\n",
    "\n",
    "example_list.pop()\n",
    "print(example_list)\n",
    "\n",
    "example_list.pop()\n",
    "print(example_list)\n",
    "\n",
    "example_list.pop()\n",
    "print(example_list)"
   ]
  },
  {
   "cell_type": "markdown",
   "metadata": {},
   "source": [
    "### `add`/`remove` pour une structure de pile (FIFO)"
   ]
  },
  {
   "cell_type": "code",
   "execution_count": 129,
   "metadata": {},
   "outputs": [
    {
     "name": "stdout",
     "output_type": "stream",
     "text": [
      "[]\n",
      "[0|.-]->\n",
      "[0|.-]->[1|.-]->\n",
      "[0|.-]->[1|.-]->[2|.-]->\n",
      "[0|.-]->[1|.-]->[2|.-]->[3|.-]->\n",
      "[0, 1, 2, 3]\n",
      "0th value is = 0\n",
      "1th value is = 1\n",
      "2th value is = 2\n",
      "3th value is = 3\n"
     ]
    },
    {
     "data": {
      "text/plain": [
       "0"
      ]
     },
     "execution_count": 129,
     "metadata": {},
     "output_type": "execute_result"
    },
    {
     "name": "stdout",
     "output_type": "stream",
     "text": [
      "[1|.-]->[2|.-]->[3|.-]->\n"
     ]
    },
    {
     "data": {
      "text/plain": [
       "1"
      ]
     },
     "execution_count": 129,
     "metadata": {},
     "output_type": "execute_result"
    },
    {
     "name": "stdout",
     "output_type": "stream",
     "text": [
      "[2|.-]->[3|.-]->\n"
     ]
    },
    {
     "data": {
      "text/plain": [
       "2"
      ]
     },
     "execution_count": 129,
     "metadata": {},
     "output_type": "execute_result"
    },
    {
     "name": "stdout",
     "output_type": "stream",
     "text": [
      "[3|.-]->\n"
     ]
    },
    {
     "data": {
      "text/plain": [
       "3"
      ]
     },
     "execution_count": 129,
     "metadata": {},
     "output_type": "execute_result"
    },
    {
     "name": "stdout",
     "output_type": "stream",
     "text": [
      "[]\n"
     ]
    }
   ],
   "source": [
    "example_list = LinkedList()\n",
    "print(example_list)\n",
    "\n",
    "example_list.add(0)\n",
    "print(example_list)\n",
    "\n",
    "example_list.add(1)\n",
    "print(example_list)\n",
    "\n",
    "example_list.add(2)\n",
    "print(example_list)\n",
    "\n",
    "example_list.add(3)\n",
    "print(example_list)\n",
    "print(example_list.items())\n",
    "for i in range(len(example_list)):\n",
    "    print(\"{}th value is = {}\".format(i, example_list[i]))\n",
    "\n",
    "example_list.remove()\n",
    "print(example_list)\n",
    "\n",
    "example_list.remove()\n",
    "print(example_list)\n",
    "\n",
    "example_list.remove()\n",
    "print(example_list)\n",
    "\n",
    "example_list.remove()\n",
    "print(example_list)"
   ]
  },
  {
   "cell_type": "markdown",
   "metadata": {},
   "source": [
    "## Listes doublement chaînées\n",
    "![figures/CM1_DoublyLinkedList.png](figures/CM1_DoublyLinkedList.png)"
   ]
  },
  {
   "cell_type": "markdown",
   "metadata": {},
   "source": [
    "On utilise une petite classe qui va encapsuler la donnée courante, et les deux pointeurs vers les listes suivante et précédente."
   ]
  },
  {
   "cell_type": "code",
   "execution_count": 102,
   "metadata": {},
   "outputs": [],
   "source": [
    "class ListNodeDoublyLinked:\n",
    "    def __init__(self, data, prev = None, link = None):\n",
    "        self.data = data\n",
    "        self.prev = prev\n",
    "        self.link = link\n",
    "        if prev is not None:\n",
    "            self.prev.link = self\n",
    "        if link is not None:\n",
    "            self.link.prev = self\n",
    "    \n",
    "    def __str__(self):\n",
    "        return \"[{}]{}\".format(str(self.data), \"\" if self.link is None else \"<->{}\".format(str(self.link)))"
   ]
  },
  {
   "cell_type": "code",
   "execution_count": 130,
   "metadata": {
    "code_folding": [
     57
    ]
   },
   "outputs": [],
   "source": [
    "class DoublyLinkedList:\n",
    "    def __init__(self):\n",
    "        self._head = None\n",
    "        self._tail = None\n",
    "        self._length = 0\n",
    "    \n",
    "    def isempty(self):\n",
    "        return self._length == 0\n",
    "\n",
    "    def __len__(self):\n",
    "        return self._length\n",
    "\n",
    "    # Add an element, in O(1)\n",
    "    \n",
    "    def _addbetween(self, item, before, after):\n",
    "        node = ListNodeDoublyLinked(item, before, after)\n",
    "        if after is self._head:\n",
    "            self._head = node\n",
    "        if before is self._tail:\n",
    "            self._tail = node\n",
    "        self._length += 1\n",
    "\n",
    "    def addfirst(self, item):\n",
    "        \"\"\" Insert a new element as the beginning of the list, in O(1) time.\"\"\"\n",
    "        self._addbetween(item, None, self._head)\n",
    "\n",
    "    def addlast(self, item):\n",
    "        \"\"\" Insert a new element as the end of the list, in O(1) time.\"\"\"\n",
    "        self._addbetween(item, self._tail, None)\n",
    "\n",
    "    # Remove an element, in O(1)\n",
    "\n",
    "    def _remove(self, node):\n",
    "        before, after = node.prev, node.link\n",
    "        if node is self._head:\n",
    "            self._head = after\n",
    "        else:\n",
    "            before.link = after\n",
    "        if node is self._tail:\n",
    "            self._tail = before\n",
    "        else:\n",
    "            after.prev = before\n",
    "        self._length -= 1\n",
    "        return node.data\n",
    "\n",
    "    def removefirst(self):\n",
    "        \"\"\" Remove and return the beginning of the list, in O(1) time.\"\"\"\n",
    "        return self._remove(self._head)\n",
    "\n",
    "    def removelast(self):\n",
    "        \"\"\" Remove and return the end of the list, in O(1) time.\"\"\"\n",
    "        return self._remove(self._tail)\n",
    "    \n",
    "    # Access to i-th element, in O(i)\n",
    "\n",
    "\n",
    "    def __iadd__(self, other):\n",
    "        if other._head is None: return\n",
    "        if self._head is None:\n",
    "            self._head = other._head\n",
    "        else:\n",
    "            self._tail.link = other._head\n",
    "            other._head.prev = self._tail\n",
    "        self._tail = other._tail\n",
    "        self._length = self._length + other._length\n",
    "\n",
    "        # Clean up the other list.\n",
    "        other.__init__()\n",
    "        return self\n",
    "    \n",
    "    # Access to i-th element, in O(i)\n",
    "    def __getitem__(self, index):\n",
    "        if not (0 <= index < len(self)): raise IndexError\n",
    "        return traverse(self._head, index)\n",
    "    \n",
    "    def items(self):\n",
    "        n = len(self)\n",
    "        return [ self[i] for i in range(len(self)) ]\n",
    "\n",
    "    # Method to print the list    \n",
    "    def __str__(self) -> str:\n",
    "        if self.isempty(): return \"[]\"\n",
    "        return str(self._head)"
   ]
  },
  {
   "cell_type": "markdown",
   "metadata": {},
   "source": [
    "Un exemple, que l'on visualise encore mieux sur [PythonTutor.com](http://pythontutor.com/live.html#mode=edit)."
   ]
  },
  {
   "cell_type": "markdown",
   "metadata": {},
   "source": [
    "### Exemple"
   ]
  },
  {
   "cell_type": "code",
   "execution_count": 131,
   "metadata": {},
   "outputs": [
    {
     "name": "stdout",
     "output_type": "stream",
     "text": [
      "[]\n",
      "[0]\n",
      "[1]<->[0]\n",
      "[2]<->[1]<->[0]\n",
      "[2]<->[1]<->[0]<->[100]\n",
      "[2]<->[1]<->[0]<->[100]<->[101]\n",
      "[2]<->[1]<->[0]<->[100]<->[101]<->[102]\n",
      "[2, 1, 0, 100, 101, 102]\n"
     ]
    },
    {
     "data": {
      "text/plain": [
       "2"
      ]
     },
     "execution_count": 131,
     "metadata": {},
     "output_type": "execute_result"
    },
    {
     "name": "stdout",
     "output_type": "stream",
     "text": [
      "[1]<->[0]<->[100]<->[101]<->[102]\n"
     ]
    },
    {
     "data": {
      "text/plain": [
       "102"
      ]
     },
     "execution_count": 131,
     "metadata": {},
     "output_type": "execute_result"
    },
    {
     "name": "stdout",
     "output_type": "stream",
     "text": [
      "[1]<->[0]<->[100]<->[101]\n"
     ]
    },
    {
     "data": {
      "text/plain": [
       "1"
      ]
     },
     "execution_count": 131,
     "metadata": {},
     "output_type": "execute_result"
    },
    {
     "name": "stdout",
     "output_type": "stream",
     "text": [
      "[0]<->[100]<->[101]\n"
     ]
    },
    {
     "data": {
      "text/plain": [
       "101"
      ]
     },
     "execution_count": 131,
     "metadata": {},
     "output_type": "execute_result"
    },
    {
     "name": "stdout",
     "output_type": "stream",
     "text": [
      "[0]<->[100]\n"
     ]
    },
    {
     "data": {
      "text/plain": [
       "0"
      ]
     },
     "execution_count": 131,
     "metadata": {},
     "output_type": "execute_result"
    },
    {
     "name": "stdout",
     "output_type": "stream",
     "text": [
      "[100]\n"
     ]
    },
    {
     "data": {
      "text/plain": [
       "100"
      ]
     },
     "execution_count": 131,
     "metadata": {},
     "output_type": "execute_result"
    },
    {
     "name": "stdout",
     "output_type": "stream",
     "text": [
      "[]\n"
     ]
    }
   ],
   "source": [
    "example_list = DoublyLinkedList()\n",
    "print(example_list)\n",
    "\n",
    "example_list.addfirst(0)\n",
    "print(example_list)\n",
    "\n",
    "example_list.addfirst(1)\n",
    "print(example_list)\n",
    "\n",
    "example_list.addfirst(2)\n",
    "print(example_list)\n",
    "\n",
    "example_list.addlast(100)\n",
    "print(example_list)\n",
    "\n",
    "example_list.addlast(101)\n",
    "print(example_list)\n",
    "\n",
    "example_list.addlast(102)\n",
    "print(example_list)\n",
    "\n",
    "print(list(example_list))\n",
    "\n",
    "example_list.removefirst()\n",
    "print(example_list)\n",
    "\n",
    "example_list.removelast()\n",
    "print(example_list)\n",
    "\n",
    "example_list.removefirst()\n",
    "print(example_list)\n",
    "\n",
    "example_list.removelast()\n",
    "print(example_list)\n",
    "\n",
    "example_list.removefirst()\n",
    "print(example_list)\n",
    "\n",
    "example_list.removelast()\n",
    "print(example_list)"
   ]
  },
  {
   "cell_type": "markdown",
   "metadata": {},
   "source": [
    "## Implémenter une file d'attente avec deux piles\n",
    "- On va utiliser deux piles (des `list` de Python)"
   ]
  },
  {
   "cell_type": "code",
   "execution_count": 109,
   "metadata": {},
   "outputs": [],
   "source": [
    "# https://github.com/jilljenn/tryalgo/blob/master/tryalgo/our_queue.py\n",
    "class Queue:\n",
    "    \"\"\"A FIFO queue\n",
    "    \n",
    "    - Complexity:\n",
    "        + all operators in amortized constant time,\n",
    "        + except __str__ which is linear\n",
    "    \"\"\"\n",
    "    def __init__(self):\n",
    "        self.in_stack  = [ ]  # tail\n",
    "        self.out_stack = [ ]  # head\n",
    "\n",
    "    def __len__(self):\n",
    "        return len(self.in_stack) + len(self.out_stack)\n",
    "\n",
    "    def push(self, obj):\n",
    "        self.in_stack.append(obj)\n",
    "\n",
    "    def pop(self):\n",
    "        if not self.out_stack:    # head is empty\n",
    "            self.out_stack = self.in_stack[::-1]\n",
    "            self.in_stack = []\n",
    "        return self.out_stack.pop()\n",
    "\n",
    "    def __str__(self):\n",
    "        return str(self.out_stack[::-1] + self.in_stack)"
   ]
  },
  {
   "cell_type": "code",
   "execution_count": 110,
   "metadata": {},
   "outputs": [
    {
     "name": "stdout",
     "output_type": "stream",
     "text": [
      "[0]\n",
      "[0, 1]\n",
      "[0, 1, 2]\n",
      "[0, 1, 2, 3]\n"
     ]
    },
    {
     "data": {
      "text/plain": [
       "0"
      ]
     },
     "execution_count": 110,
     "metadata": {},
     "output_type": "execute_result"
    },
    {
     "name": "stdout",
     "output_type": "stream",
     "text": [
      "[1, 2, 3]\n"
     ]
    },
    {
     "data": {
      "text/plain": [
       "1"
      ]
     },
     "execution_count": 110,
     "metadata": {},
     "output_type": "execute_result"
    },
    {
     "name": "stdout",
     "output_type": "stream",
     "text": [
      "[2, 3]\n"
     ]
    },
    {
     "data": {
      "text/plain": [
       "2"
      ]
     },
     "execution_count": 110,
     "metadata": {},
     "output_type": "execute_result"
    },
    {
     "name": "stdout",
     "output_type": "stream",
     "text": [
      "[3]\n"
     ]
    }
   ],
   "source": [
    "queue = Queue()\n",
    "\n",
    "queue.push(0)\n",
    "print(queue)\n",
    "\n",
    "queue.push(1)\n",
    "print(queue)\n",
    "\n",
    "queue.push(2)\n",
    "print(queue)\n",
    "\n",
    "queue.push(3)\n",
    "print(queue)\n",
    "\n",
    "queue.pop()\n",
    "print(queue)\n",
    "\n",
    "queue.pop()\n",
    "print(queue)\n",
    "\n",
    "queue.pop()\n",
    "print(queue)"
   ]
  },
  {
   "cell_type": "markdown",
   "metadata": {},
   "source": [
    "## File de priorité : implémentation naïve"
   ]
  },
  {
   "cell_type": "code",
   "execution_count": null,
   "metadata": {},
   "outputs": [],
   "source": []
  },
  {
   "cell_type": "code",
   "execution_count": null,
   "metadata": {},
   "outputs": [],
   "source": []
  },
  {
   "cell_type": "markdown",
   "metadata": {},
   "source": [
    "## Implémentation d'un tas binaire"
   ]
  },
  {
   "cell_type": "markdown",
   "metadata": {},
   "source": [
    "### Naïve : tableau trié !\n",
    "\n",
    "On conserve le tableau trié en insérant chaque nouvel élément par une insertion à sa bonne position (avec des inversions locales), comme dans le tri par tas."
   ]
  },
  {
   "cell_type": "code",
   "execution_count": 187,
   "metadata": {},
   "outputs": [],
   "source": [
    "def swap(array, i, j):\n",
    "    array[i], array[j] = array[j], array[i]"
   ]
  },
  {
   "cell_type": "code",
   "execution_count": 198,
   "metadata": {},
   "outputs": [],
   "source": [
    "class OurNaiveHeap:\n",
    "    \"\"\" min naive heap\n",
    "    * heap: is the actual heap, containing the sorted value\n",
    "    * n: size of the heap\n",
    "\n",
    "    Complexity: init O(n^2), len O(1),\n",
    "                other operations O(n) in all cases\n",
    "    \"\"\"\n",
    "    def __init__(self, items=None):\n",
    "        self.heap = []  # index 0 will be ignored\n",
    "        if items is not None:\n",
    "            for x in items:\n",
    "                self.push(x)\n",
    "\n",
    "    def __len__(self):\n",
    "        return len(self.heap)\n",
    "\n",
    "    def push(self, x):\n",
    "        \"\"\"Insert new element x in the heap.\"\"\"\n",
    "        # add a new element\n",
    "        self.heap.append(x)\n",
    "        # then insert it, from the end, to its correct location\n",
    "        position = len(self) - 1\n",
    "        while position > 0 and self.heap[position - 1] > self.heap[position]:\n",
    "            swap(self.heap, position - 1, position)\n",
    "            position -= 1\n",
    "\n",
    "    def pop(self):\n",
    "        \"\"\"Remove and return smallest element\"\"\"\n",
    "        # move heap[0] to heap[n] and copy heap[1:n] to heap[0:n-1]\n",
    "        for position in range(len(self) - 1):\n",
    "            swap(self.heap, position, position + 1)\n",
    "        smallest_element = self.heap.pop()    # remove last element\n",
    "        return smallest_element"
   ]
  },
  {
   "cell_type": "markdown",
   "metadata": {},
   "source": [
    "### Intelligente : tas binaire min équilibré"
   ]
  },
  {
   "cell_type": "code",
   "execution_count": 199,
   "metadata": {},
   "outputs": [],
   "source": [
    "class OurHeap:\n",
    "    \"\"\" min heap\n",
    "    * heap: is the actual heap, heap[1] = index of the smallest element\n",
    "    * rank: inverse of heap with rank[x]=i iff heap[i]=x\n",
    "    * n: size of the heap\n",
    "    :complexity: init O(n log n), len O(1),\n",
    "                other operations O(log n) in expectation\n",
    "                and O(n) in worst case, due to the usage of a dictionary\n",
    "    \"\"\"\n",
    "    def __init__(self, items=None):\n",
    "        self.heap = [None]  # index 0 will be ignored\n",
    "        if items is not None:\n",
    "            for x in items:\n",
    "                self.push(x)\n",
    "\n",
    "    def __len__(self):\n",
    "        return len(self.heap) - 1\n",
    "\n",
    "    def push(self, x):\n",
    "        \"\"\"Insert new element x in the heap.\"\"\"\n",
    "        i = len(self.heap)\n",
    "        self.heap.append(x)    # add a new leaf\n",
    "        self.up(i)             # maintain heap order\n",
    "\n",
    "    def pop(self):\n",
    "        \"\"\"Remove and return smallest element\"\"\"\n",
    "        root = self.heap[1]\n",
    "        x = self.heap.pop()    # remove last leaf\n",
    "        if self:               # if heap is not empty\n",
    "            self.heap[1] = x   # put last leaf to root\n",
    "            self.down(1)       # maintain heap order\n",
    "        return root\n",
    "\n",
    "    def up(self, i):\n",
    "        \"\"\"The value of heap[i] has decreased. Maintain heap invariant.\"\"\"\n",
    "        x = self.heap[i]\n",
    "        while i > 1 and x < self.heap[i // 2]:\n",
    "            self.heap[i] = self.heap[i // 2]\n",
    "            i //= 2\n",
    "        self.heap[i] = x       # insertion index found\n",
    "\n",
    "    def down(self, i):\n",
    "        \"\"\"the value of heap[i] has increased. Maintain heap invariant.\"\"\"\n",
    "        x = self.heap[i]\n",
    "        n = len(self.heap)\n",
    "        while True:\n",
    "            left = 2 * i       # climb down the tree\n",
    "            right = left + 1\n",
    "            if (right < n and self.heap[right] < x and\n",
    "                    self.heap[right] < self.heap[left]):\n",
    "                self.heap[i] = self.heap[right]\n",
    "                i = right\n",
    "            elif left < n and self.heap[left] < x:\n",
    "                self.heap[i] = self.heap[left]\n",
    "                i = left\n",
    "            else:\n",
    "                self.heap[i] = x   # insertion index found\n",
    "                return"
   ]
  },
  {
   "cell_type": "markdown",
   "metadata": {},
   "source": [
    "## Tri par tas\n",
    "Dès que l'on a une implémentation d'un tas (min), on peut facilement trier un tableau `T` de la façon suivante :\n",
    "\n",
    "- Entrée : un tableau `T` de taille `n`\n",
    "- Créer tas `mon_tas`\n",
    "- Pour chaque valeur `T[i]` dans le tableau `T` :\n",
    "  + entasser `T[i]` dans `mon_tas`\n",
    "- Créer un tableau `T_trie` de même taille que `T` (`n`)\n",
    "- Initialiser `i = 0`\n",
    "- Tant que `mon_tas` n'est pas vide :\n",
    "  + extraire le minimum du tas : `nouveau_min_du_tas <- extraireMin(mon_tas)`\n",
    "  + placer ce minimum à la `i`ème position dans le nouveau tableau : `T_trie[i] = nouvea_min_du_tas`\n",
    "  + `i += 1`\n",
    "- Sortie : Le tableau `T_trie` est le tableau `T` trié par ordre croissant.\n",
    "\n",
    "### Remarques\n",
    "- L'avantage du tri par tas est que l'on peut aussi effectuer toutes ces opérations *en place* (i.e., en utilisant le tableau `T` et pas de mémoire supplémentaire).\n",
    "- On utilise un tri max pour trier en ordre décroissant, ou alors on renverse juste le tableau `T_trie` à la fin."
   ]
  },
  {
   "cell_type": "markdown",
   "metadata": {},
   "source": [
    "### Tri par tas\n",
    "L'algorithme est indépandent de la structure de tas que l'on utilise !"
   ]
  },
  {
   "cell_type": "code",
   "execution_count": 208,
   "metadata": {},
   "outputs": [],
   "source": [
    "def heapSort(array, heapStructure=OurHeap):\n",
    "    n = len(array)\n",
    "    heap = heapStructure()\n",
    "    for i in range(n):\n",
    "        heap.push(array[i])\n",
    "    sorted_array = [ None ] * n  # taille n\n",
    "    i = 0\n",
    "    while heap:  # while not empty\n",
    "        sorted_array[i] = heap.pop()\n",
    "        i += 1\n",
    "    return sorted_array\n",
    "\n",
    "def insertionSort(array):\n",
    "    return heapSort(array, heapStructure=OurNaiveHeap)"
   ]
  },
  {
   "cell_type": "code",
   "execution_count": 201,
   "metadata": {},
   "outputs": [
    {
     "data": {
      "text/plain": [
       "[9, 10, 19]"
      ]
     },
     "execution_count": 201,
     "metadata": {},
     "output_type": "execute_result"
    },
    {
     "data": {
      "text/plain": [
       "[9, 10, 19]"
      ]
     },
     "execution_count": 201,
     "metadata": {},
     "output_type": "execute_result"
    },
    {
     "data": {
      "text/plain": [
       "[9, 10, 19]"
      ]
     },
     "execution_count": 201,
     "metadata": {},
     "output_type": "execute_result"
    }
   ],
   "source": [
    "example_array = [10, 9, 19]\n",
    "\n",
    "sorted(example_array)\n",
    "heapSort(example_array)\n",
    "insertionSort(example_array)"
   ]
  },
  {
   "cell_type": "code",
   "execution_count": 237,
   "metadata": {},
   "outputs": [
    {
     "name": "stdout",
     "output_type": "stream",
     "text": [
      "989 µs ± 72.6 µs per loop (mean ± std. dev. of 7 runs, 1000 loops each)\n",
      "23.8 ms ± 1.33 ms per loop (mean ± std. dev. of 7 runs, 10 loops each)\n",
      "3.85 s ± 577 ms per loop (mean ± std. dev. of 7 runs, 1 loop each)\n"
     ]
    }
   ],
   "source": [
    "example_array = list(range(2019)) + list(range(2019))  # twice the numbers from 0 to 2018\n",
    "import random\n",
    "random.shuffle(example_array)\n",
    "\n",
    "%timeit sorted(example_array)\n",
    "%timeit heapSort(example_array)\n",
    "%timeit insertionSort(example_array)"
   ]
  },
  {
   "cell_type": "markdown",
   "metadata": {},
   "source": [
    "## Test numérique de l'efficacité du tri par tas"
   ]
  },
  {
   "cell_type": "code",
   "execution_count": 160,
   "metadata": {},
   "outputs": [],
   "source": [
    "import matplotlib as mpl\n",
    "mpl.rcParams['figure.figsize'] = (10, 7)\n",
    "mpl.rcParams['figure.dpi'] = 120\n",
    "\n",
    "import seaborn as sns\n",
    "sns.set(context=\"notebook\", style=\"whitegrid\", palette=\"hls\", font=\"sans-serif\", font_scale=1.1)\n",
    "\n",
    "import matplotlib.pyplot as plt"
   ]
  },
  {
   "cell_type": "code",
   "execution_count": 145,
   "metadata": {},
   "outputs": [],
   "source": [
    "import random\n",
    "random.seed(1234)"
   ]
  },
  {
   "cell_type": "markdown",
   "metadata": {},
   "source": [
    "On va générer des tableaux aléatoires :"
   ]
  },
  {
   "cell_type": "code",
   "execution_count": 146,
   "metadata": {},
   "outputs": [],
   "source": [
    "def random_array_of_int(max_int=10000, length=1000):\n",
    "    return [ random.randint(0, max_int) for _ in range(length) ]"
   ]
  },
  {
   "cell_type": "code",
   "execution_count": 147,
   "metadata": {},
   "outputs": [
    {
     "data": {
      "text/plain": [
       "[14, 3, 0, 2, 18, 1, 2, 3, 11, 7]"
      ]
     },
     "execution_count": 147,
     "metadata": {},
     "output_type": "execute_result"
    }
   ],
   "source": [
    "random_array_of_int(max_int=20, length=10)"
   ]
  },
  {
   "cell_type": "markdown",
   "metadata": {},
   "source": [
    "On peut facilement mesurer le temps d'exécution d'une fontion de tri, sur des tableaux aléatoires"
   ]
  },
  {
   "cell_type": "code",
   "execution_count": 171,
   "metadata": {},
   "outputs": [],
   "source": [
    "import timeit"
   ]
  },
  {
   "cell_type": "code",
   "execution_count": 215,
   "metadata": {},
   "outputs": [],
   "source": [
    "try:\n",
    "    from tqdm import tqdm_notebook\n",
    "except ImportError:\n",
    "    def tqdm_notebook(iterator, *args, **kwargs): return iterator"
   ]
  },
  {
   "cell_type": "code",
   "execution_count": 216,
   "metadata": {},
   "outputs": [],
   "source": [
    "def time_a_sort_function(sort_function, sort_function_name, values_n, number=1000, max_int=1000000):\n",
    "    return [ timeit.timeit(\"{}(random_array_of_int(max_int={}, length={}))\".format(sort_function_name, max_int, n),\n",
    "              globals={\n",
    "                  'random_array_of_int': random_array_of_int,\n",
    "                  sort_function_name: sort_function,\n",
    "              },\n",
    "              number=number,\n",
    "    ) for n in tqdm_notebook(values_n) ]"
   ]
  },
  {
   "cell_type": "markdown",
   "metadata": {},
   "source": [
    "Comparons notre tri par tas avec la fonction `sorted()` de Python :"
   ]
  },
  {
   "cell_type": "code",
   "execution_count": 309,
   "metadata": {},
   "outputs": [],
   "source": [
    "small_values_n = [10, 100, 500] + list(range(1000, 5000, 1000))\n",
    "big_values_n = list(range(6000, 100000, 4000))\n",
    "# very_big_values_n = list(range(100000, 5000000, 100000))\n",
    "\n",
    "values_n = small_values_n + big_values_n #+ very_big_values_n"
   ]
  },
  {
   "cell_type": "code",
   "execution_count": 310,
   "metadata": {},
   "outputs": [
    {
     "data": {
      "application/vnd.jupyter.widget-view+json": {
       "model_id": "45fe9e7d93944723b2392f995dc88b1b",
       "version_major": 2,
       "version_minor": 0
      },
      "text/plain": [
       "HBox(children=(IntProgress(value=0, max=31), HTML(value='')))"
      ]
     },
     "metadata": {},
     "output_type": "display_data"
    }
   ],
   "source": [
    "times_sorted = time_a_sort_function(sorted, \"sorted\", values_n, number=100)"
   ]
  },
  {
   "cell_type": "code",
   "execution_count": null,
   "metadata": {},
   "outputs": [
    {
     "data": {
      "application/vnd.jupyter.widget-view+json": {
       "model_id": "57699109400844beaf042996c6c346e9",
       "version_major": 2,
       "version_minor": 0
      },
      "text/plain": [
       "HBox(children=(IntProgress(value=0, max=31), HTML(value='')))"
      ]
     },
     "metadata": {},
     "output_type": "display_data"
    }
   ],
   "source": [
    "times_heapSort = time_a_sort_function(heapSort, \"heapSort\", values_n, number=100)"
   ]
  },
  {
   "cell_type": "code",
   "execution_count": null,
   "metadata": {
    "scrolled": true
   },
   "outputs": [],
   "source": [
    "times_insertionSort = time_a_sort_function(insertionSort, \"insertionSort\", small_values_n, number=20)"
   ]
  },
  {
   "cell_type": "code",
   "execution_count": null,
   "metadata": {},
   "outputs": [],
   "source": [
    "plt.figure()\n",
    "plt.xlabel(\"Taille du tableau d'entrée $n$\")\n",
    "plt.ylabel(\"Temps en secondes\")\n",
    "plt.title(\"Comparaison des tris builtin, par tas ou par insertion\")\n",
    "plt.plot(values_n, times_sorted, \"d-\", label=\"Builtin\", lw=5, ms=12)\n",
    "plt.plot(values_n, times_heapSort, \"o-\", label=\"Par tas\", lw=5, ms=12)\n",
    "plt.plot(small_values_n, times_insertionSort, \">-\", label=\"Par insertion\", lw=5, ms=12)\n",
    "plt.legend()\n",
    "plt.show()"
   ]
  },
  {
   "cell_type": "markdown",
   "metadata": {},
   "source": [
    "Attention : Trier des nombres tout petit peut être effectué en temps linéaire (*bin sort*) :"
   ]
  },
  {
   "cell_type": "code",
   "execution_count": 136,
   "metadata": {},
   "outputs": [
    {
     "name": "stdout",
     "output_type": "stream",
     "text": [
      "133 µs ± 9.34 µs per loop (mean ± std. dev. of 7 runs, 10000 loops each)\n",
      "1.29 ms ± 34.9 µs per loop (mean ± std. dev. of 7 runs, 1000 loops each)\n",
      "1.25 ms ± 53.5 µs per loop (mean ± std. dev. of 7 runs, 1000 loops each)\n",
      "13.3 ms ± 912 µs per loop (mean ± std. dev. of 7 runs, 100 loops each)\n"
     ]
    }
   ],
   "source": [
    "%timeit sorted(random_array_of_int(max_int=10, length=100))\n",
    "%timeit sorted(random_array_of_int(max_int=10, length=1000))\n",
    "%timeit sorted(random_array_of_int(max_int=10, length=10000))"
   ]
  },
  {
   "cell_type": "code",
   "execution_count": 148,
   "metadata": {
    "scrolled": true
   },
   "outputs": [
    {
     "name": "stdout",
     "output_type": "stream",
     "text": [
      "142 µs ± 16.7 µs per loop (mean ± std. dev. of 7 runs, 10000 loops each)\n",
      "1.32 ms ± 74 µs per loop (mean ± std. dev. of 7 runs, 1000 loops each)\n",
      "12.8 ms ± 307 µs per loop (mean ± std. dev. of 7 runs, 100 loops each)\n"
     ]
    }
   ],
   "source": [
    "%timeit sorted(random_array_of_int(max_int=1000, length=100))\n",
    "%timeit sorted(random_array_of_int(max_int=1000, length=1000))\n",
    "%timeit sorted(random_array_of_int(max_int=1000, length=10000))"
   ]
  },
  {
   "cell_type": "markdown",
   "metadata": {},
   "source": [
    "## Évaluation numérique de la complexité des opérations du tas binaire\n",
    "\n",
    "On peut évaluer, sur des exemples, la complexité des opérations d'ajout et d'extraction du maximum que l'on a implémenté dans notre structure de tas binaire.\n",
    "On a montré qu'elles sont toutes les deux en $\\mathcal{O}(\\log(n))$, mais peut-on le vérifier empiriquement ?"
   ]
  },
  {
   "cell_type": "code",
   "execution_count": 266,
   "metadata": {},
   "outputs": [],
   "source": [
    "import numpy as np"
   ]
  },
  {
   "cell_type": "code",
   "execution_count": 291,
   "metadata": {},
   "outputs": [],
   "source": [
    "def times_push_and_pop(values_n, number1=100, number2=100, max_int=1000_000):\n",
    "    # create a random array for each value of n\n",
    "    times_push = np.array([ np.mean([\n",
    "        timeit.timeit(\n",
    "            \"heap.push(random.randint(-{}, {}))\".format(max_int, max_int),\n",
    "            globals={\n",
    "                'random_array_of_int': random_array_of_int,\n",
    "                'heap': heap,\n",
    "                'random': random,\n",
    "            },\n",
    "            number=number1,\n",
    "        ) / number1 for _ in range(number2)\n",
    "        for heap in [ OurHeap(random_array_of_int(max_int=max_int, length=n)) ]\n",
    "        ])\n",
    "       for n in tqdm_notebook(values_n, desc=\"push\")\n",
    "    ])\n",
    "    times_push_and_pop = np.array([  np.mean([\n",
    "        timeit.timeit(\n",
    "        \"heap.push(random.randint(-{}, {})); heap.pop()\".format(max_int, max_int),\n",
    "        globals={\n",
    "            'random_array_of_int': random_array_of_int,\n",
    "            'heap': heap,\n",
    "            'random': random,\n",
    "        },\n",
    "        number=number1,\n",
    "        ) / number1 for _ in range(number2)\n",
    "        for heap in [ OurHeap(random_array_of_int(max_int=max_int, length=n)) ]\n",
    "        ])\n",
    "       for n in tqdm_notebook(values_n, desc=\"push & pop\")\n",
    "    ])\n",
    "    times_pop = times_push_and_pop - times_push\n",
    "    return times_push, times_pop"
   ]
  },
  {
   "cell_type": "code",
   "execution_count": 292,
   "metadata": {
    "scrolled": false
   },
   "outputs": [
    {
     "data": {
      "application/vnd.jupyter.widget-view+json": {
       "model_id": "ff7f96de55bf4ac9b49df5b90ba9c3ce",
       "version_major": 2,
       "version_minor": 0
      },
      "text/plain": [
       "HBox(children=(IntProgress(value=0, max=3), HTML(value='')))"
      ]
     },
     "metadata": {},
     "output_type": "display_data"
    },
    {
     "data": {
      "application/vnd.jupyter.widget-view+json": {
       "model_id": "7d8de618ad2845d6b188180657bb5011",
       "version_major": 2,
       "version_minor": 0
      },
      "text/plain": [
       "HBox(children=(IntProgress(value=0, max=3), HTML(value='')))"
      ]
     },
     "metadata": {},
     "output_type": "display_data"
    },
    {
     "data": {
      "text/plain": [
       "(array([2.29020573e-06, 2.45949071e-06, 2.62625276e-06]),\n",
       " array([1.83082924e-06, 3.27656559e-06, 3.55413959e-06]))"
      ]
     },
     "execution_count": 292,
     "metadata": {},
     "output_type": "execute_result"
    }
   ],
   "source": [
    "times_push_and_pop([10, 100, 1000], number1=100, number2=1000)"
   ]
  },
  {
   "cell_type": "code",
   "execution_count": 294,
   "metadata": {},
   "outputs": [],
   "source": [
    "def visualisation_temps_push_and_pop(values_n, **kwargs):\n",
    "    times_push, times_pop = times_push_and_pop(values_n, **kwargs)\n",
    "    plt.figure()\n",
    "    plt.xlabel(\"Taille du tableau d'entrée $n$\")\n",
    "    plt.ylabel(\"Temps en micro-secondes\")\n",
    "    plt.title(\"Temps des opérations ajouterMax et retirerMax\")\n",
    "    plt.plot(values_n, 1e6 * times_push, \"d-\", label=\"ajouterMax\", lw=5, ms=12)\n",
    "    plt.plot(values_n, 1e6 * times_pop, \"o-\", label=\"retierMax\", lw=5, ms=12)\n",
    "    plt.legend()\n",
    "    plt.show()"
   ]
  },
  {
   "cell_type": "code",
   "execution_count": 301,
   "metadata": {},
   "outputs": [
    {
     "data": {
      "application/vnd.jupyter.widget-view+json": {
       "model_id": "7af02412a75d4c6da54e801ba4a695a0",
       "version_major": 2,
       "version_minor": 0
      },
      "text/plain": [
       "HBox(children=(IntProgress(value=0, max=17), HTML(value='')))"
      ]
     },
     "metadata": {},
     "output_type": "display_data"
    },
    {
     "ename": "KeyboardInterrupt",
     "evalue": "",
     "output_type": "error",
     "traceback": [
      "\u001b[0;31m---------------------------------------------------------------------------\u001b[0m",
      "\u001b[0;31mKeyboardInterrupt\u001b[0m                         Traceback (most recent call last)",
      "\u001b[0;32m<ipython-input-301-972f32c9f0da>\u001b[0m in \u001b[0;36m<module>\u001b[0;34m\u001b[0m\n\u001b[1;32m      7\u001b[0m         \u001b[0;31m#1000000, 2000000, 3000000, 4000000, 5000000, 6000000, 7000000, 8000000, 9000000,\u001b[0m\u001b[0;34m\u001b[0m\u001b[0;34m\u001b[0m\u001b[0;34m\u001b[0m\u001b[0m\n\u001b[1;32m      8\u001b[0m     ],\n\u001b[0;32m----> 9\u001b[0;31m     \u001b[0mnumber1\u001b[0m\u001b[0;34m=\u001b[0m\u001b[0;36m100\u001b[0m\u001b[0;34m,\u001b[0m \u001b[0mnumber2\u001b[0m\u001b[0;34m=\u001b[0m\u001b[0;36m10000\u001b[0m\u001b[0;34m,\u001b[0m\u001b[0;34m\u001b[0m\u001b[0;34m\u001b[0m\u001b[0m\n\u001b[0m\u001b[1;32m     10\u001b[0m )\n",
      "\u001b[0;32m<ipython-input-294-e12043602726>\u001b[0m in \u001b[0;36mvisualisation_temps_push_and_pop\u001b[0;34m(values_n, **kwargs)\u001b[0m\n\u001b[1;32m      1\u001b[0m \u001b[0;32mdef\u001b[0m \u001b[0mvisualisation_temps_push_and_pop\u001b[0m\u001b[0;34m(\u001b[0m\u001b[0mvalues_n\u001b[0m\u001b[0;34m,\u001b[0m \u001b[0;34m**\u001b[0m\u001b[0mkwargs\u001b[0m\u001b[0;34m)\u001b[0m\u001b[0;34m:\u001b[0m\u001b[0;34m\u001b[0m\u001b[0;34m\u001b[0m\u001b[0m\n\u001b[0;32m----> 2\u001b[0;31m     \u001b[0mtimes_push\u001b[0m\u001b[0;34m,\u001b[0m \u001b[0mtimes_pop\u001b[0m \u001b[0;34m=\u001b[0m \u001b[0mtimes_push_and_pop\u001b[0m\u001b[0;34m(\u001b[0m\u001b[0mvalues_n\u001b[0m\u001b[0;34m,\u001b[0m \u001b[0;34m**\u001b[0m\u001b[0mkwargs\u001b[0m\u001b[0;34m)\u001b[0m\u001b[0;34m\u001b[0m\u001b[0;34m\u001b[0m\u001b[0m\n\u001b[0m\u001b[1;32m      3\u001b[0m     \u001b[0mplt\u001b[0m\u001b[0;34m.\u001b[0m\u001b[0mfigure\u001b[0m\u001b[0;34m(\u001b[0m\u001b[0;34m)\u001b[0m\u001b[0;34m\u001b[0m\u001b[0;34m\u001b[0m\u001b[0m\n\u001b[1;32m      4\u001b[0m     \u001b[0mplt\u001b[0m\u001b[0;34m.\u001b[0m\u001b[0mxlabel\u001b[0m\u001b[0;34m(\u001b[0m\u001b[0;34m\"Taille du tableau d'entrée $n$\"\u001b[0m\u001b[0;34m)\u001b[0m\u001b[0;34m\u001b[0m\u001b[0;34m\u001b[0m\u001b[0m\n\u001b[1;32m      5\u001b[0m     \u001b[0mplt\u001b[0m\u001b[0;34m.\u001b[0m\u001b[0mylabel\u001b[0m\u001b[0;34m(\u001b[0m\u001b[0;34m\"Temps en micro-secondes\"\u001b[0m\u001b[0;34m)\u001b[0m\u001b[0;34m\u001b[0m\u001b[0;34m\u001b[0m\u001b[0m\n",
      "\u001b[0;32m<ipython-input-291-44f05d3a83fb>\u001b[0m in \u001b[0;36mtimes_push_and_pop\u001b[0;34m(values_n, number1, number2, max_int)\u001b[0m\n\u001b[1;32m     13\u001b[0m         \u001b[0;32mfor\u001b[0m \u001b[0mheap\u001b[0m \u001b[0;32min\u001b[0m \u001b[0;34m[\u001b[0m \u001b[0mOurHeap\u001b[0m\u001b[0;34m(\u001b[0m\u001b[0mrandom_array_of_int\u001b[0m\u001b[0;34m(\u001b[0m\u001b[0mmax_int\u001b[0m\u001b[0;34m=\u001b[0m\u001b[0mmax_int\u001b[0m\u001b[0;34m,\u001b[0m \u001b[0mlength\u001b[0m\u001b[0;34m=\u001b[0m\u001b[0mn\u001b[0m\u001b[0;34m)\u001b[0m\u001b[0;34m)\u001b[0m \u001b[0;34m]\u001b[0m\u001b[0;34m\u001b[0m\u001b[0;34m\u001b[0m\u001b[0m\n\u001b[1;32m     14\u001b[0m         ])\n\u001b[0;32m---> 15\u001b[0;31m        \u001b[0;32mfor\u001b[0m \u001b[0mn\u001b[0m \u001b[0;32min\u001b[0m \u001b[0mtqdm_notebook\u001b[0m\u001b[0;34m(\u001b[0m\u001b[0mvalues_n\u001b[0m\u001b[0;34m)\u001b[0m\u001b[0;34m\u001b[0m\u001b[0;34m\u001b[0m\u001b[0m\n\u001b[0m\u001b[1;32m     16\u001b[0m     ])\n\u001b[1;32m     17\u001b[0m     times_push_and_pop = np.array([  np.mean([\n",
      "\u001b[0;32m<ipython-input-291-44f05d3a83fb>\u001b[0m in \u001b[0;36m<listcomp>\u001b[0;34m(.0)\u001b[0m\n\u001b[1;32m     13\u001b[0m         \u001b[0;32mfor\u001b[0m \u001b[0mheap\u001b[0m \u001b[0;32min\u001b[0m \u001b[0;34m[\u001b[0m \u001b[0mOurHeap\u001b[0m\u001b[0;34m(\u001b[0m\u001b[0mrandom_array_of_int\u001b[0m\u001b[0;34m(\u001b[0m\u001b[0mmax_int\u001b[0m\u001b[0;34m=\u001b[0m\u001b[0mmax_int\u001b[0m\u001b[0;34m,\u001b[0m \u001b[0mlength\u001b[0m\u001b[0;34m=\u001b[0m\u001b[0mn\u001b[0m\u001b[0;34m)\u001b[0m\u001b[0;34m)\u001b[0m \u001b[0;34m]\u001b[0m\u001b[0;34m\u001b[0m\u001b[0;34m\u001b[0m\u001b[0m\n\u001b[1;32m     14\u001b[0m         ])\n\u001b[0;32m---> 15\u001b[0;31m        \u001b[0;32mfor\u001b[0m \u001b[0mn\u001b[0m \u001b[0;32min\u001b[0m \u001b[0mtqdm_notebook\u001b[0m\u001b[0;34m(\u001b[0m\u001b[0mvalues_n\u001b[0m\u001b[0;34m)\u001b[0m\u001b[0;34m\u001b[0m\u001b[0;34m\u001b[0m\u001b[0m\n\u001b[0m\u001b[1;32m     16\u001b[0m     ])\n\u001b[1;32m     17\u001b[0m     times_push_and_pop = np.array([  np.mean([\n",
      "\u001b[0;32m<ipython-input-291-44f05d3a83fb>\u001b[0m in \u001b[0;36m<listcomp>\u001b[0;34m(.0)\u001b[0m\n\u001b[1;32m     11\u001b[0m             \u001b[0mnumber\u001b[0m\u001b[0;34m=\u001b[0m\u001b[0mnumber1\u001b[0m\u001b[0;34m,\u001b[0m\u001b[0;34m\u001b[0m\u001b[0;34m\u001b[0m\u001b[0m\n\u001b[1;32m     12\u001b[0m         ) / number1 for _ in range(number2)\n\u001b[0;32m---> 13\u001b[0;31m         \u001b[0;32mfor\u001b[0m \u001b[0mheap\u001b[0m \u001b[0;32min\u001b[0m \u001b[0;34m[\u001b[0m \u001b[0mOurHeap\u001b[0m\u001b[0;34m(\u001b[0m\u001b[0mrandom_array_of_int\u001b[0m\u001b[0;34m(\u001b[0m\u001b[0mmax_int\u001b[0m\u001b[0;34m=\u001b[0m\u001b[0mmax_int\u001b[0m\u001b[0;34m,\u001b[0m \u001b[0mlength\u001b[0m\u001b[0;34m=\u001b[0m\u001b[0mn\u001b[0m\u001b[0;34m)\u001b[0m\u001b[0;34m)\u001b[0m \u001b[0;34m]\u001b[0m\u001b[0;34m\u001b[0m\u001b[0;34m\u001b[0m\u001b[0m\n\u001b[0m\u001b[1;32m     14\u001b[0m         ])\n\u001b[1;32m     15\u001b[0m        \u001b[0;32mfor\u001b[0m \u001b[0mn\u001b[0m \u001b[0;32min\u001b[0m \u001b[0mtqdm_notebook\u001b[0m\u001b[0;34m(\u001b[0m\u001b[0mvalues_n\u001b[0m\u001b[0;34m)\u001b[0m\u001b[0;34m\u001b[0m\u001b[0;34m\u001b[0m\u001b[0m\n",
      "\u001b[0;32m<ipython-input-146-d25b17592934>\u001b[0m in \u001b[0;36mrandom_array_of_int\u001b[0;34m(max_int, length)\u001b[0m\n\u001b[1;32m      1\u001b[0m \u001b[0;32mdef\u001b[0m \u001b[0mrandom_array_of_int\u001b[0m\u001b[0;34m(\u001b[0m\u001b[0mmax_int\u001b[0m\u001b[0;34m=\u001b[0m\u001b[0;36m10000\u001b[0m\u001b[0;34m,\u001b[0m \u001b[0mlength\u001b[0m\u001b[0;34m=\u001b[0m\u001b[0;36m1000\u001b[0m\u001b[0;34m)\u001b[0m\u001b[0;34m:\u001b[0m\u001b[0;34m\u001b[0m\u001b[0;34m\u001b[0m\u001b[0m\n\u001b[0;32m----> 2\u001b[0;31m     \u001b[0;32mreturn\u001b[0m \u001b[0;34m[\u001b[0m \u001b[0mrandom\u001b[0m\u001b[0;34m.\u001b[0m\u001b[0mrandint\u001b[0m\u001b[0;34m(\u001b[0m\u001b[0;36m0\u001b[0m\u001b[0;34m,\u001b[0m \u001b[0mmax_int\u001b[0m\u001b[0;34m)\u001b[0m \u001b[0;32mfor\u001b[0m \u001b[0m_\u001b[0m \u001b[0;32min\u001b[0m \u001b[0mrange\u001b[0m\u001b[0;34m(\u001b[0m\u001b[0mlength\u001b[0m\u001b[0;34m)\u001b[0m \u001b[0;34m]\u001b[0m\u001b[0;34m\u001b[0m\u001b[0;34m\u001b[0m\u001b[0m\n\u001b[0m",
      "\u001b[0;32m<ipython-input-146-d25b17592934>\u001b[0m in \u001b[0;36m<listcomp>\u001b[0;34m(.0)\u001b[0m\n\u001b[1;32m      1\u001b[0m \u001b[0;32mdef\u001b[0m \u001b[0mrandom_array_of_int\u001b[0m\u001b[0;34m(\u001b[0m\u001b[0mmax_int\u001b[0m\u001b[0;34m=\u001b[0m\u001b[0;36m10000\u001b[0m\u001b[0;34m,\u001b[0m \u001b[0mlength\u001b[0m\u001b[0;34m=\u001b[0m\u001b[0;36m1000\u001b[0m\u001b[0;34m)\u001b[0m\u001b[0;34m:\u001b[0m\u001b[0;34m\u001b[0m\u001b[0;34m\u001b[0m\u001b[0m\n\u001b[0;32m----> 2\u001b[0;31m     \u001b[0;32mreturn\u001b[0m \u001b[0;34m[\u001b[0m \u001b[0mrandom\u001b[0m\u001b[0;34m.\u001b[0m\u001b[0mrandint\u001b[0m\u001b[0;34m(\u001b[0m\u001b[0;36m0\u001b[0m\u001b[0;34m,\u001b[0m \u001b[0mmax_int\u001b[0m\u001b[0;34m)\u001b[0m \u001b[0;32mfor\u001b[0m \u001b[0m_\u001b[0m \u001b[0;32min\u001b[0m \u001b[0mrange\u001b[0m\u001b[0;34m(\u001b[0m\u001b[0mlength\u001b[0m\u001b[0;34m)\u001b[0m \u001b[0;34m]\u001b[0m\u001b[0;34m\u001b[0m\u001b[0;34m\u001b[0m\u001b[0m\n\u001b[0m",
      "\u001b[0;32m/usr/lib/python3.6/random.py\u001b[0m in \u001b[0;36mrandint\u001b[0;34m(self, a, b)\u001b[0m\n\u001b[1;32m    219\u001b[0m         \"\"\"\n\u001b[1;32m    220\u001b[0m \u001b[0;34m\u001b[0m\u001b[0m\n\u001b[0;32m--> 221\u001b[0;31m         \u001b[0;32mreturn\u001b[0m \u001b[0mself\u001b[0m\u001b[0;34m.\u001b[0m\u001b[0mrandrange\u001b[0m\u001b[0;34m(\u001b[0m\u001b[0ma\u001b[0m\u001b[0;34m,\u001b[0m \u001b[0mb\u001b[0m\u001b[0;34m+\u001b[0m\u001b[0;36m1\u001b[0m\u001b[0;34m)\u001b[0m\u001b[0;34m\u001b[0m\u001b[0;34m\u001b[0m\u001b[0m\n\u001b[0m\u001b[1;32m    222\u001b[0m \u001b[0;34m\u001b[0m\u001b[0m\n\u001b[1;32m    223\u001b[0m     def _randbelow(self, n, int=int, maxsize=1<<BPF, type=type,\n",
      "\u001b[0;32m/usr/lib/python3.6/random.py\u001b[0m in \u001b[0;36mrandrange\u001b[0;34m(self, start, stop, step, _int)\u001b[0m\n\u001b[1;32m    184\u001b[0m         \u001b[0;32mif\u001b[0m \u001b[0mistart\u001b[0m \u001b[0;34m!=\u001b[0m \u001b[0mstart\u001b[0m\u001b[0;34m:\u001b[0m\u001b[0;34m\u001b[0m\u001b[0;34m\u001b[0m\u001b[0m\n\u001b[1;32m    185\u001b[0m             \u001b[0;32mraise\u001b[0m \u001b[0mValueError\u001b[0m\u001b[0;34m(\u001b[0m\u001b[0;34m\"non-integer arg 1 for randrange()\"\u001b[0m\u001b[0;34m)\u001b[0m\u001b[0;34m\u001b[0m\u001b[0;34m\u001b[0m\u001b[0m\n\u001b[0;32m--> 186\u001b[0;31m         \u001b[0;32mif\u001b[0m \u001b[0mstop\u001b[0m \u001b[0;32mis\u001b[0m \u001b[0;32mNone\u001b[0m\u001b[0;34m:\u001b[0m\u001b[0;34m\u001b[0m\u001b[0;34m\u001b[0m\u001b[0m\n\u001b[0m\u001b[1;32m    187\u001b[0m             \u001b[0;32mif\u001b[0m \u001b[0mistart\u001b[0m \u001b[0;34m>\u001b[0m \u001b[0;36m0\u001b[0m\u001b[0;34m:\u001b[0m\u001b[0;34m\u001b[0m\u001b[0;34m\u001b[0m\u001b[0m\n\u001b[1;32m    188\u001b[0m                 \u001b[0;32mreturn\u001b[0m \u001b[0mself\u001b[0m\u001b[0;34m.\u001b[0m\u001b[0m_randbelow\u001b[0m\u001b[0;34m(\u001b[0m\u001b[0mistart\u001b[0m\u001b[0;34m)\u001b[0m\u001b[0;34m\u001b[0m\u001b[0;34m\u001b[0m\u001b[0m\n",
      "\u001b[0;31mKeyboardInterrupt\u001b[0m: "
     ]
    }
   ],
   "source": [
    "visualisation_temps_push_and_pop(\n",
    "    [\n",
    "        100, 500, 1000, 2000, 3000, 4000, 5000,\n",
    "        10000, 20000, 30000, 40000, 50000, 60000, 70000, 80000, 90000, 100000,\n",
    "        #110000, 120000, 130000, 140000, 150000, 160000, 170000, 180000, 190000, 200000,\n",
    "        #300000, 400000, 500000, 600000, 700000, 800000, 900000,\n",
    "        #1000000, 2000000, 3000000, 4000000, 5000000, 6000000, 7000000, 8000000, 9000000,\n",
    "    ],\n",
    "    number1=100, number2=10000,\n",
    ")"
   ]
  },
  {
   "cell_type": "code",
   "execution_count": null,
   "metadata": {},
   "outputs": [],
   "source": []
  }
 ],
 "metadata": {
  "kernelspec": {
   "display_name": "Python 3",
   "language": "python",
   "name": "python3"
  },
  "language_info": {
   "codemirror_mode": {
    "name": "ipython",
    "version": 3
   },
   "file_extension": ".py",
   "mimetype": "text/x-python",
   "name": "python",
   "nbconvert_exporter": "python",
   "pygments_lexer": "ipython3",
   "version": "3.6.8"
  },
  "toc": {
   "colors": {
    "hover_highlight": "#DAA520",
    "running_highlight": "#FF0000",
    "selected_highlight": "#FFD700"
   },
   "moveMenuLeft": true,
   "nav_menu": {
    "height": "359.2px",
    "width": "251.667px"
   },
   "navigate_menu": true,
   "number_sections": true,
   "sideBar": false,
   "threshold": 4,
   "toc_cell": true,
   "toc_position": {
    "height": "368.717px",
    "left": "1639.25px",
    "right": "20px",
    "top": "120px",
    "width": "251.25px"
   },
   "toc_section_display": "block",
   "toc_window_display": true
  },
  "varInspector": {
   "cols": {
    "lenName": 16,
    "lenType": 16,
    "lenVar": 40
   },
   "kernels_config": {
    "python": {
     "delete_cmd_postfix": "",
     "delete_cmd_prefix": "del ",
     "library": "var_list.py",
     "varRefreshCmd": "print(var_dic_list())"
    },
    "r": {
     "delete_cmd_postfix": ") ",
     "delete_cmd_prefix": "rm(",
     "library": "var_list.r",
     "varRefreshCmd": "cat(var_dic_list()) "
    }
   },
   "position": {
    "height": "247.85px",
    "left": "956.5px",
    "right": "20px",
    "top": "475px",
    "width": "470.5px"
   },
   "types_to_exclude": [
    "module",
    "function",
    "builtin_function_or_method",
    "instance",
    "_Feature"
   ],
   "window_display": false
  },
  "widgets": {
   "application/vnd.jupyter.widget-state+json": {
    "state": {
     "038a808e883447f29c7d1ac0b392a0d3": {
      "model_module": "@jupyter-widgets/controls",
      "model_module_version": "1.4.0",
      "model_name": "HBoxModel",
      "state": {
       "children": [
        "IPY_MODEL_4aaf5ca76a38467087582b42de1f6a1e",
        "IPY_MODEL_d614664cf99743889aa9b084525990d8"
       ],
       "layout": "IPY_MODEL_c02a451e0731469ea91cc39abbf14c48"
      }
     },
     "03fa6285b902493bbc52e73542eb6bd3": {
      "model_module": "@jupyter-widgets/controls",
      "model_module_version": "1.4.0",
      "model_name": "HTMLModel",
      "state": {
       "layout": "IPY_MODEL_14d24c174ecb4428af82666854e1ed83",
       "style": "IPY_MODEL_108a32808a0b43bda9b869081b96b80b",
       "value": "100% 12/12 [00:00&lt;00:00, 15.79it/s]"
      }
     },
     "040769e561d949e39b17361d682bb4a8": {
      "model_module": "@jupyter-widgets/controls",
      "model_module_version": "1.4.0",
      "model_name": "IntProgressModel",
      "state": {
       "bar_style": "success",
       "layout": "IPY_MODEL_61ab17aa9e4540939240cce1f8b4c32e",
       "max": 31,
       "style": "IPY_MODEL_7a2861a1cfdb45bdac48eb59c8b660bc",
       "value": 31
      }
     },
     "043afb832aa3492482fd973bb9d9bd7a": {
      "model_module": "@jupyter-widgets/controls",
      "model_module_version": "1.4.0",
      "model_name": "ProgressStyleModel",
      "state": {
       "description_width": ""
      }
     },
     "0ae749625db249539e573bdfcd6fa23c": {
      "model_module": "@jupyter-widgets/base",
      "model_module_version": "1.1.0",
      "model_name": "LayoutModel",
      "state": {}
     },
     "0c7b9244ca3d4cfca64cc68c62c676ef": {
      "model_module": "@jupyter-widgets/controls",
      "model_module_version": "1.4.0",
      "model_name": "HBoxModel",
      "state": {
       "children": [
        "IPY_MODEL_2ac95f4aedb04f5a9a5fa5361f2b5d49",
        "IPY_MODEL_fb9bace579f64af4b7ebb87789031257"
       ],
       "layout": "IPY_MODEL_2c2f47043664427b9fe40d9dab59f5be"
      }
     },
     "0f40caa17b6f45b19f9b67db6af682c3": {
      "model_module": "@jupyter-widgets/controls",
      "model_module_version": "1.4.0",
      "model_name": "IntProgressModel",
      "state": {
       "bar_style": "success",
       "layout": "IPY_MODEL_432a0f81101043fc812406cb9699cf55",
       "max": 12,
       "style": "IPY_MODEL_6d05a0207eb44be8a8194d7672bc3dc3",
       "value": 12
      }
     },
     "0f5c61300af74d9c87b2e169a8d59564": {
      "model_module": "@jupyter-widgets/controls",
      "model_module_version": "1.4.0",
      "model_name": "ProgressStyleModel",
      "state": {
       "description_width": ""
      }
     },
     "108a32808a0b43bda9b869081b96b80b": {
      "model_module": "@jupyter-widgets/controls",
      "model_module_version": "1.4.0",
      "model_name": "DescriptionStyleModel",
      "state": {
       "description_width": ""
      }
     },
     "1099c3fb624b4608ac4d8274ff57ff46": {
      "model_module": "@jupyter-widgets/controls",
      "model_module_version": "1.4.0",
      "model_name": "DescriptionStyleModel",
      "state": {
       "description_width": ""
      }
     },
     "1135c69a55d04878a6716a594f46043e": {
      "model_module": "@jupyter-widgets/base",
      "model_module_version": "1.1.0",
      "model_name": "LayoutModel",
      "state": {}
     },
     "1156627bae864085bbc3167c5b2a5cb3": {
      "model_module": "@jupyter-widgets/controls",
      "model_module_version": "1.4.0",
      "model_name": "DescriptionStyleModel",
      "state": {
       "description_width": ""
      }
     },
     "14d24c174ecb4428af82666854e1ed83": {
      "model_module": "@jupyter-widgets/base",
      "model_module_version": "1.1.0",
      "model_name": "LayoutModel",
      "state": {}
     },
     "17c69c17ec8344d2aeee5ae6dee93ce6": {
      "model_module": "@jupyter-widgets/base",
      "model_module_version": "1.1.0",
      "model_name": "LayoutModel",
      "state": {}
     },
     "19ca5418edce46e0985b6f1868b3938d": {
      "model_module": "@jupyter-widgets/controls",
      "model_module_version": "1.4.0",
      "model_name": "HTMLModel",
      "state": {
       "layout": "IPY_MODEL_5cae48b866984d99a1e15f8822d57ed9",
       "style": "IPY_MODEL_a194ac9f28564a6a805b24a1a742838c",
       "value": "100% 7/7 [01:56&lt;00:00, 28.35s/it]"
      }
     },
     "1b4f155261eb469da0da9cbb96741044": {
      "model_module": "@jupyter-widgets/controls",
      "model_module_version": "1.4.0",
      "model_name": "HBoxModel",
      "state": {
       "children": [
        "IPY_MODEL_27199a9b964f4b8f94946e1a80cee138",
        "IPY_MODEL_7a4cd3a8b19d4fe58ed4d6d8f4ecae0e"
       ],
       "layout": "IPY_MODEL_db91f69593764d1fbc8593c6264df3a7"
      }
     },
     "211f4c9ceba64de0b46c4e32ce02a19a": {
      "model_module": "@jupyter-widgets/controls",
      "model_module_version": "1.4.0",
      "model_name": "ProgressStyleModel",
      "state": {
       "description_width": ""
      }
     },
     "27199a9b964f4b8f94946e1a80cee138": {
      "model_module": "@jupyter-widgets/controls",
      "model_module_version": "1.4.0",
      "model_name": "IntProgressModel",
      "state": {
       "bar_style": "danger",
       "layout": "IPY_MODEL_5d84ecdf55794062bc15794cd6d48d87",
       "max": 12,
       "style": "IPY_MODEL_cc2ce2b0abab4704b0d580cdd7897c24",
       "value": 8
      }
     },
     "281631f2651241d896b1300b748f94cc": {
      "model_module": "@jupyter-widgets/controls",
      "model_module_version": "1.4.0",
      "model_name": "IntProgressModel",
      "state": {
       "bar_style": "success",
       "layout": "IPY_MODEL_9a939ec092234106b3bbf13266650f29",
       "max": 29,
       "style": "IPY_MODEL_aa66c2d953c84ef9902875ccbc9c994e",
       "value": 29
      }
     },
     "2ac95f4aedb04f5a9a5fa5361f2b5d49": {
      "model_module": "@jupyter-widgets/controls",
      "model_module_version": "1.4.0",
      "model_name": "IntProgressModel",
      "state": {
       "bar_style": "success",
       "layout": "IPY_MODEL_3705518094ba492db64884c7d9934ddf",
       "max": 31,
       "style": "IPY_MODEL_211f4c9ceba64de0b46c4e32ce02a19a",
       "value": 31
      }
     },
     "2b5f53a0083041e88ab8b35fbcb6adec": {
      "model_module": "@jupyter-widgets/base",
      "model_module_version": "1.1.0",
      "model_name": "LayoutModel",
      "state": {}
     },
     "2bbce2307fd74e7fb6b48d80cf8b147a": {
      "model_module": "@jupyter-widgets/controls",
      "model_module_version": "1.4.0",
      "model_name": "HTMLModel",
      "state": {
       "layout": "IPY_MODEL_4c3a4ac37bb349259fa3840a25b52a9f",
       "style": "IPY_MODEL_bc47080108594d6398376ec90247fd7f",
       "value": "100% 29/29 [01:42&lt;00:00,  7.61s/it]"
      }
     },
     "2c2f47043664427b9fe40d9dab59f5be": {
      "model_module": "@jupyter-widgets/base",
      "model_module_version": "1.1.0",
      "model_name": "LayoutModel",
      "state": {}
     },
     "2f4fa306f59d47a0a4c1fb41de63ccc6": {
      "model_module": "@jupyter-widgets/controls",
      "model_module_version": "1.4.0",
      "model_name": "HBoxModel",
      "state": {
       "children": [
        "IPY_MODEL_312e2c5fb4744ee9aca6e5cba42c05f8",
        "IPY_MODEL_03fa6285b902493bbc52e73542eb6bd3"
       ],
       "layout": "IPY_MODEL_616c61e0e1774e4dba06565d10df95e7"
      }
     },
     "30e0a8eb04c8484caeb06471a6b297b1": {
      "model_module": "@jupyter-widgets/controls",
      "model_module_version": "1.4.0",
      "model_name": "ProgressStyleModel",
      "state": {
       "description_width": ""
      }
     },
     "312e2c5fb4744ee9aca6e5cba42c05f8": {
      "model_module": "@jupyter-widgets/controls",
      "model_module_version": "1.4.0",
      "model_name": "IntProgressModel",
      "state": {
       "bar_style": "success",
       "layout": "IPY_MODEL_f504214792524c2cbbb8997e99aa7714",
       "max": 12,
       "style": "IPY_MODEL_30e0a8eb04c8484caeb06471a6b297b1",
       "value": 12
      }
     },
     "3151f3436ad948f79765fcfb5cb64831": {
      "model_module": "@jupyter-widgets/controls",
      "model_module_version": "1.4.0",
      "model_name": "HBoxModel",
      "state": {
       "children": [
        "IPY_MODEL_ac9c8dcde2c14dbaa1173c31993a8425",
        "IPY_MODEL_7b16d9396fa8440d8b26d4309aac9dae"
       ],
       "layout": "IPY_MODEL_ac4b2cd6abad4fbe9129ad2b39f79d1c"
      }
     },
     "3191d73e3295402c9256a8e48a55fcde": {
      "model_module": "@jupyter-widgets/controls",
      "model_module_version": "1.4.0",
      "model_name": "HBoxModel",
      "state": {
       "children": [
        "IPY_MODEL_3cf71691ed3a45788e854120454ffb91",
        "IPY_MODEL_19ca5418edce46e0985b6f1868b3938d"
       ],
       "layout": "IPY_MODEL_1135c69a55d04878a6716a594f46043e"
      }
     },
     "3288f5a70453437e8314c7c34446ad83": {
      "model_module": "@jupyter-widgets/base",
      "model_module_version": "1.1.0",
      "model_name": "LayoutModel",
      "state": {}
     },
     "3705518094ba492db64884c7d9934ddf": {
      "model_module": "@jupyter-widgets/base",
      "model_module_version": "1.1.0",
      "model_name": "LayoutModel",
      "state": {}
     },
     "3cf71691ed3a45788e854120454ffb91": {
      "model_module": "@jupyter-widgets/controls",
      "model_module_version": "1.4.0",
      "model_name": "IntProgressModel",
      "state": {
       "bar_style": "success",
       "layout": "IPY_MODEL_b79ec55a28294c6bbf956dfc8e61c6d2",
       "max": 7,
       "style": "IPY_MODEL_f1361377c3184fb688b28bfe61451e86",
       "value": 7
      }
     },
     "432a0f81101043fc812406cb9699cf55": {
      "model_module": "@jupyter-widgets/base",
      "model_module_version": "1.1.0",
      "model_name": "LayoutModel",
      "state": {}
     },
     "43cd3c30e9ed40589af0a84e4ad8165a": {
      "model_module": "@jupyter-widgets/controls",
      "model_module_version": "1.4.0",
      "model_name": "HTMLModel",
      "state": {
       "layout": "IPY_MODEL_3288f5a70453437e8314c7c34446ad83",
       "style": "IPY_MODEL_1156627bae864085bbc3167c5b2a5cb3",
       "value": "100% 31/31 [03:22&lt;00:00, 13.89s/it]"
      }
     },
     "488d7a0878974888921fe30c7a8ccce6": {
      "model_module": "@jupyter-widgets/base",
      "model_module_version": "1.1.0",
      "model_name": "LayoutModel",
      "state": {}
     },
     "4aaf5ca76a38467087582b42de1f6a1e": {
      "model_module": "@jupyter-widgets/controls",
      "model_module_version": "1.4.0",
      "model_name": "IntProgressModel",
      "state": {
       "bar_style": "success",
       "layout": "IPY_MODEL_d86d424d7d2040bea285a821eb3ffaf6",
       "max": 54,
       "style": "IPY_MODEL_fc2e0e50b4024f2089000a027350ad62",
       "value": 54
      }
     },
     "4c3a4ac37bb349259fa3840a25b52a9f": {
      "model_module": "@jupyter-widgets/base",
      "model_module_version": "1.1.0",
      "model_name": "LayoutModel",
      "state": {}
     },
     "4cd9f8c1d14a460592573b5d5f4d1e68": {
      "model_module": "@jupyter-widgets/controls",
      "model_module_version": "1.4.0",
      "model_name": "DescriptionStyleModel",
      "state": {
       "description_width": ""
      }
     },
     "5724b7c6629e42db98f82141d3346d3f": {
      "model_module": "@jupyter-widgets/controls",
      "model_module_version": "1.4.0",
      "model_name": "HTMLModel",
      "state": {
       "layout": "IPY_MODEL_0ae749625db249539e573bdfcd6fa23c",
       "style": "IPY_MODEL_8ebb3008c95c416489b9db29d758008c",
       "value": "100% 29/29 [00:16&lt;00:00,  1.18s/it]"
      }
     },
     "5aba36f9297242688598109bc09046de": {
      "model_module": "@jupyter-widgets/controls",
      "model_module_version": "1.4.0",
      "model_name": "DescriptionStyleModel",
      "state": {
       "description_width": ""
      }
     },
     "5cae48b866984d99a1e15f8822d57ed9": {
      "model_module": "@jupyter-widgets/base",
      "model_module_version": "1.1.0",
      "model_name": "LayoutModel",
      "state": {}
     },
     "5d84ecdf55794062bc15794cd6d48d87": {
      "model_module": "@jupyter-widgets/base",
      "model_module_version": "1.1.0",
      "model_name": "LayoutModel",
      "state": {}
     },
     "5f7e65435bd74f0eb6a1c412dfb425cc": {
      "model_module": "@jupyter-widgets/controls",
      "model_module_version": "1.4.0",
      "model_name": "DescriptionStyleModel",
      "state": {
       "description_width": ""
      }
     },
     "616c61e0e1774e4dba06565d10df95e7": {
      "model_module": "@jupyter-widgets/base",
      "model_module_version": "1.1.0",
      "model_name": "LayoutModel",
      "state": {}
     },
     "61ab17aa9e4540939240cce1f8b4c32e": {
      "model_module": "@jupyter-widgets/base",
      "model_module_version": "1.1.0",
      "model_name": "LayoutModel",
      "state": {}
     },
     "63d4d742d31e49eb9f408d4b1d5205a8": {
      "model_module": "@jupyter-widgets/controls",
      "model_module_version": "1.4.0",
      "model_name": "HBoxModel",
      "state": {
       "children": [
        "IPY_MODEL_281631f2651241d896b1300b748f94cc",
        "IPY_MODEL_5724b7c6629e42db98f82141d3346d3f"
       ],
       "layout": "IPY_MODEL_6ec3aa7a23a64d20995bdf93351224f2"
      }
     },
     "646c3ac9c11944748551fbf8c83663b1": {
      "model_module": "@jupyter-widgets/controls",
      "model_module_version": "1.4.0",
      "model_name": "IntProgressModel",
      "state": {
       "bar_style": "success",
       "layout": "IPY_MODEL_488d7a0878974888921fe30c7a8ccce6",
       "max": 29,
       "style": "IPY_MODEL_ae8a07808b3e45859f3cd921f129124b",
       "value": 29
      }
     },
     "67b4ef9809f6494c8230ffa837fb5f2d": {
      "model_module": "@jupyter-widgets/base",
      "model_module_version": "1.1.0",
      "model_name": "LayoutModel",
      "state": {}
     },
     "6d05a0207eb44be8a8194d7672bc3dc3": {
      "model_module": "@jupyter-widgets/controls",
      "model_module_version": "1.4.0",
      "model_name": "ProgressStyleModel",
      "state": {
       "description_width": ""
      }
     },
     "6ec3aa7a23a64d20995bdf93351224f2": {
      "model_module": "@jupyter-widgets/base",
      "model_module_version": "1.1.0",
      "model_name": "LayoutModel",
      "state": {}
     },
     "774238a7f4bc4bc39881b33452244ce3": {
      "model_module": "@jupyter-widgets/base",
      "model_module_version": "1.1.0",
      "model_name": "LayoutModel",
      "state": {}
     },
     "7a2861a1cfdb45bdac48eb59c8b660bc": {
      "model_module": "@jupyter-widgets/controls",
      "model_module_version": "1.4.0",
      "model_name": "ProgressStyleModel",
      "state": {
       "description_width": ""
      }
     },
     "7a4cd3a8b19d4fe58ed4d6d8f4ecae0e": {
      "model_module": "@jupyter-widgets/controls",
      "model_module_version": "1.4.0",
      "model_name": "HTMLModel",
      "state": {
       "layout": "IPY_MODEL_a6d7e8cc772f4b44ba43a23a407e7c12",
       "style": "IPY_MODEL_4cd9f8c1d14a460592573b5d5f4d1e68",
       "value": " 67% 8/12 [01:42&lt;01:34, 23.63s/it]"
      }
     },
     "7ab2be73db8c40cc896e0249bd3ea500": {
      "model_module": "@jupyter-widgets/controls",
      "model_module_version": "1.4.0",
      "model_name": "DescriptionStyleModel",
      "state": {
       "description_width": ""
      }
     },
     "7b16d9396fa8440d8b26d4309aac9dae": {
      "model_module": "@jupyter-widgets/controls",
      "model_module_version": "1.4.0",
      "model_name": "HTMLModel",
      "state": {
       "layout": "IPY_MODEL_b7ee7f0454ef43edba44cdb7eff62621",
       "style": "IPY_MODEL_7ab2be73db8c40cc896e0249bd3ea500",
       "value": "100% 54/54 [07:16&lt;00:00, 17.43s/it]"
      }
     },
     "875b2a51333945eaa1b8cc990026d552": {
      "model_module": "@jupyter-widgets/controls",
      "model_module_version": "1.4.0",
      "model_name": "HBoxModel",
      "state": {
       "children": [
        "IPY_MODEL_040769e561d949e39b17361d682bb4a8",
        "IPY_MODEL_43cd3c30e9ed40589af0a84e4ad8165a"
       ],
       "layout": "IPY_MODEL_cb8738fbc3d54b8ea12d23b970356248"
      }
     },
     "89bf37d725d0422ead1e32f25f1ff7a8": {
      "model_module": "@jupyter-widgets/controls",
      "model_module_version": "1.4.0",
      "model_name": "HBoxModel",
      "state": {
       "children": [
        "IPY_MODEL_646c3ac9c11944748551fbf8c83663b1",
        "IPY_MODEL_2bbce2307fd74e7fb6b48d80cf8b147a"
       ],
       "layout": "IPY_MODEL_17c69c17ec8344d2aeee5ae6dee93ce6"
      }
     },
     "8ebb3008c95c416489b9db29d758008c": {
      "model_module": "@jupyter-widgets/controls",
      "model_module_version": "1.4.0",
      "model_name": "DescriptionStyleModel",
      "state": {
       "description_width": ""
      }
     },
     "9a939ec092234106b3bbf13266650f29": {
      "model_module": "@jupyter-widgets/base",
      "model_module_version": "1.1.0",
      "model_name": "LayoutModel",
      "state": {}
     },
     "a194ac9f28564a6a805b24a1a742838c": {
      "model_module": "@jupyter-widgets/controls",
      "model_module_version": "1.4.0",
      "model_name": "DescriptionStyleModel",
      "state": {
       "description_width": ""
      }
     },
     "a34f3e8def0649618235b0c8d9648d99": {
      "model_module": "@jupyter-widgets/controls",
      "model_module_version": "1.4.0",
      "model_name": "DescriptionStyleModel",
      "state": {
       "description_width": ""
      }
     },
     "a6d7e8cc772f4b44ba43a23a407e7c12": {
      "model_module": "@jupyter-widgets/base",
      "model_module_version": "1.1.0",
      "model_name": "LayoutModel",
      "state": {}
     },
     "aa66c2d953c84ef9902875ccbc9c994e": {
      "model_module": "@jupyter-widgets/controls",
      "model_module_version": "1.4.0",
      "model_name": "ProgressStyleModel",
      "state": {
       "description_width": ""
      }
     },
     "ac4b2cd6abad4fbe9129ad2b39f79d1c": {
      "model_module": "@jupyter-widgets/base",
      "model_module_version": "1.1.0",
      "model_name": "LayoutModel",
      "state": {}
     },
     "ac9c8dcde2c14dbaa1173c31993a8425": {
      "model_module": "@jupyter-widgets/controls",
      "model_module_version": "1.4.0",
      "model_name": "IntProgressModel",
      "state": {
       "bar_style": "success",
       "layout": "IPY_MODEL_f6042c224cb04d4d80e76e24bcd752f0",
       "max": 54,
       "style": "IPY_MODEL_043afb832aa3492482fd973bb9d9bd7a",
       "value": 54
      }
     },
     "acc45206458d480a9f2ef27c9c8ef1df": {
      "model_module": "@jupyter-widgets/controls",
      "model_module_version": "1.4.0",
      "model_name": "HTMLModel",
      "state": {
       "layout": "IPY_MODEL_2b5f53a0083041e88ab8b35fbcb6adec",
       "style": "IPY_MODEL_5f7e65435bd74f0eb6a1c412dfb425cc",
       "value": " 61% 27/44 [01:11&lt;01:07,  4.00s/it]"
      }
     },
     "ae8a07808b3e45859f3cd921f129124b": {
      "model_module": "@jupyter-widgets/controls",
      "model_module_version": "1.4.0",
      "model_name": "ProgressStyleModel",
      "state": {
       "description_width": ""
      }
     },
     "b79ec55a28294c6bbf956dfc8e61c6d2": {
      "model_module": "@jupyter-widgets/base",
      "model_module_version": "1.1.0",
      "model_name": "LayoutModel",
      "state": {}
     },
     "b7ee7f0454ef43edba44cdb7eff62621": {
      "model_module": "@jupyter-widgets/base",
      "model_module_version": "1.1.0",
      "model_name": "LayoutModel",
      "state": {}
     },
     "bc47080108594d6398376ec90247fd7f": {
      "model_module": "@jupyter-widgets/controls",
      "model_module_version": "1.4.0",
      "model_name": "DescriptionStyleModel",
      "state": {
       "description_width": ""
      }
     },
     "bdc29d95eb5b4ef9aa958372545ee719": {
      "model_module": "@jupyter-widgets/base",
      "model_module_version": "1.1.0",
      "model_name": "LayoutModel",
      "state": {}
     },
     "c00586e1eccf461c9b0429e0ccfc324c": {
      "model_module": "@jupyter-widgets/controls",
      "model_module_version": "1.4.0",
      "model_name": "HBoxModel",
      "state": {
       "children": [
        "IPY_MODEL_c268087693ac4caea7ff5672e655a9d2",
        "IPY_MODEL_acc45206458d480a9f2ef27c9c8ef1df"
       ],
       "layout": "IPY_MODEL_d92aa9b32b694dcaabc8203167d6a20e"
      }
     },
     "c02a451e0731469ea91cc39abbf14c48": {
      "model_module": "@jupyter-widgets/base",
      "model_module_version": "1.1.0",
      "model_name": "LayoutModel",
      "state": {}
     },
     "c071aba1cd534b049eee2f1809f94fec": {
      "model_module": "@jupyter-widgets/base",
      "model_module_version": "1.1.0",
      "model_name": "LayoutModel",
      "state": {}
     },
     "c268087693ac4caea7ff5672e655a9d2": {
      "model_module": "@jupyter-widgets/controls",
      "model_module_version": "1.4.0",
      "model_name": "IntProgressModel",
      "state": {
       "layout": "IPY_MODEL_67b4ef9809f6494c8230ffa837fb5f2d",
       "max": 44,
       "style": "IPY_MODEL_0f5c61300af74d9c87b2e169a8d59564",
       "value": 27
      }
     },
     "c7666e83442f44259d58a3b1f3b48341": {
      "model_module": "@jupyter-widgets/controls",
      "model_module_version": "1.4.0",
      "model_name": "HTMLModel",
      "state": {
       "layout": "IPY_MODEL_fb350532137b4401810ece19b5140a35",
       "style": "IPY_MODEL_a34f3e8def0649618235b0c8d9648d99",
       "value": "100% 12/12 [00:03&lt;00:00,  2.07it/s]"
      }
     },
     "cb8738fbc3d54b8ea12d23b970356248": {
      "model_module": "@jupyter-widgets/base",
      "model_module_version": "1.1.0",
      "model_name": "LayoutModel",
      "state": {}
     },
     "cc2ce2b0abab4704b0d580cdd7897c24": {
      "model_module": "@jupyter-widgets/controls",
      "model_module_version": "1.4.0",
      "model_name": "ProgressStyleModel",
      "state": {
       "description_width": ""
      }
     },
     "d614664cf99743889aa9b084525990d8": {
      "model_module": "@jupyter-widgets/controls",
      "model_module_version": "1.4.0",
      "model_name": "HTMLModel",
      "state": {
       "layout": "IPY_MODEL_c071aba1cd534b049eee2f1809f94fec",
       "style": "IPY_MODEL_5aba36f9297242688598109bc09046de",
       "value": "100% 54/54 [01:11&lt;00:00,  2.69s/it]"
      }
     },
     "d86d424d7d2040bea285a821eb3ffaf6": {
      "model_module": "@jupyter-widgets/base",
      "model_module_version": "1.1.0",
      "model_name": "LayoutModel",
      "state": {}
     },
     "d92aa9b32b694dcaabc8203167d6a20e": {
      "model_module": "@jupyter-widgets/base",
      "model_module_version": "1.1.0",
      "model_name": "LayoutModel",
      "state": {}
     },
     "db91f69593764d1fbc8593c6264df3a7": {
      "model_module": "@jupyter-widgets/base",
      "model_module_version": "1.1.0",
      "model_name": "LayoutModel",
      "state": {}
     },
     "f1361377c3184fb688b28bfe61451e86": {
      "model_module": "@jupyter-widgets/controls",
      "model_module_version": "1.4.0",
      "model_name": "ProgressStyleModel",
      "state": {
       "description_width": ""
      }
     },
     "f504214792524c2cbbb8997e99aa7714": {
      "model_module": "@jupyter-widgets/base",
      "model_module_version": "1.1.0",
      "model_name": "LayoutModel",
      "state": {}
     },
     "f52bb86c1e564d5381ea1b9792d4ee48": {
      "model_module": "@jupyter-widgets/controls",
      "model_module_version": "1.4.0",
      "model_name": "HBoxModel",
      "state": {
       "children": [
        "IPY_MODEL_0f40caa17b6f45b19f9b67db6af682c3",
        "IPY_MODEL_c7666e83442f44259d58a3b1f3b48341"
       ],
       "layout": "IPY_MODEL_bdc29d95eb5b4ef9aa958372545ee719"
      }
     },
     "f6042c224cb04d4d80e76e24bcd752f0": {
      "model_module": "@jupyter-widgets/base",
      "model_module_version": "1.1.0",
      "model_name": "LayoutModel",
      "state": {}
     },
     "fb350532137b4401810ece19b5140a35": {
      "model_module": "@jupyter-widgets/base",
      "model_module_version": "1.1.0",
      "model_name": "LayoutModel",
      "state": {}
     },
     "fb9bace579f64af4b7ebb87789031257": {
      "model_module": "@jupyter-widgets/controls",
      "model_module_version": "1.4.0",
      "model_name": "HTMLModel",
      "state": {
       "layout": "IPY_MODEL_774238a7f4bc4bc39881b33452244ce3",
       "style": "IPY_MODEL_1099c3fb624b4608ac4d8274ff57ff46",
       "value": "100% 31/31 [20:02&lt;00:00, 89.74s/it]"
      }
     },
     "fc2e0e50b4024f2089000a027350ad62": {
      "model_module": "@jupyter-widgets/controls",
      "model_module_version": "1.4.0",
      "model_name": "ProgressStyleModel",
      "state": {
       "description_width": ""
      }
     }
    },
    "version_major": 2,
    "version_minor": 0
   }
  }
 },
 "nbformat": 4,
 "nbformat_minor": 2
}
