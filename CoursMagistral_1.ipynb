{
 "cells": [
  {
   "cell_type": "markdown",
   "metadata": {
    "toc": "true"
   },
   "source": [
    "# Table of Contents\n",
    " <p><div class=\"lev1 toc-item\"><a href=\"#ALGO1-:-Introduction-à-l'algorithmique\" data-toc-modified-id=\"ALGO1-:-Introduction-à-l'algorithmique-1\"><span class=\"toc-item-num\">1&nbsp;&nbsp;</span><a href=\"https://perso.crans.org/besson/teach/info1_algo1_2019/\" target=\"_blank\">ALGO1 : Introduction à l'algorithmique</a></a></div><div class=\"lev1 toc-item\"><a href=\"#Cours-Magistral-1\" data-toc-modified-id=\"Cours-Magistral-1-2\"><span class=\"toc-item-num\">2&nbsp;&nbsp;</span>Cours Magistral 1</a></div><div class=\"lev2 toc-item\"><a href=\"#Listes-simplement-chaînées\" data-toc-modified-id=\"Listes-simplement-chaînées-21\"><span class=\"toc-item-num\">2.1&nbsp;&nbsp;</span>Listes simplement chaînées</a></div><div class=\"lev3 toc-item\"><a href=\"#pop/push-pour-une-structure-de-file-(FILO)\" data-toc-modified-id=\"pop/push-pour-une-structure-de-file-(FILO)-211\"><span class=\"toc-item-num\">2.1.1&nbsp;&nbsp;</span><code>pop</code>/<code>push</code> pour une structure de file (FILO)</a></div><div class=\"lev3 toc-item\"><a href=\"#add/remove-pour-une-structure-de-pile-(FIFO)\" data-toc-modified-id=\"add/remove-pour-une-structure-de-pile-(FIFO)-212\"><span class=\"toc-item-num\">2.1.2&nbsp;&nbsp;</span><code>add</code>/<code>remove</code> pour une structure de pile (FIFO)</a></div><div class=\"lev2 toc-item\"><a href=\"#Listes-doublement-chaînées\" data-toc-modified-id=\"Listes-doublement-chaînées-22\"><span class=\"toc-item-num\">2.2&nbsp;&nbsp;</span>Listes doublement chaînées</a></div><div class=\"lev3 toc-item\"><a href=\"#Exemple\" data-toc-modified-id=\"Exemple-221\"><span class=\"toc-item-num\">2.2.1&nbsp;&nbsp;</span>Exemple</a></div><div class=\"lev3 toc-item\"><a href=\"#add/remove-pour-une-structure-de-pile\" data-toc-modified-id=\"add/remove-pour-une-structure-de-pile-222\"><span class=\"toc-item-num\">2.2.2&nbsp;&nbsp;</span>add/remove pour une structure de pile</a></div>"
   ]
  },
  {
   "cell_type": "markdown",
   "metadata": {},
   "source": [
    "# [ALGO1 : Introduction à l'algorithmique](https://perso.crans.org/besson/teach/info1_algo1_2019/)\n",
    "\n",
    "- [Page du cours](https://perso.crans.org/besson/teach/info1_algo1_2019/) : https://perso.crans.org/besson/teach/info1_algo1_2019/\n",
    "- Magistère d'Informatique de Rennes - ENS Rennes - Année 2019/2020\n",
    "- Intervenants :\n",
    "  + Cours : [Lilian Besson](https://perso.crans.org/besson/)\n",
    "  + Travaux dirigés : [Raphaël Truffet](http://perso.eleves.ens-rennes.fr/people/Raphael.Truffet/)\n",
    "- Références :\n",
    "  + [Open Data Structures](http://opendatastructures.org/ods-python.pdf)"
   ]
  },
  {
   "cell_type": "markdown",
   "metadata": {},
   "source": [
    "# Cours Magistral 1"
   ]
  },
  {
   "cell_type": "code",
   "execution_count": 18,
   "metadata": {},
   "outputs": [
    {
     "name": "stdout",
     "output_type": "stream",
     "text": [
      "\u001b[38;5;30mfigures\u001b[0m\r\n",
      "├── \u001b[38;5;97mCM1_DoublyLinkedList.png\u001b[0m\r\n",
      "└── \u001b[38;5;97mCM1_SimplyLinkedList.png\u001b[0m\r\n",
      "\r\n",
      "0 directories, 2 files\r\n"
     ]
    }
   ],
   "source": [
    "!tree figures"
   ]
  },
  {
   "cell_type": "markdown",
   "metadata": {},
   "source": [
    "## Listes simplement chaînées\n",
    "![figures/CM1_SimplyLinkedList.png](figures/CM1_SimplyLinkedList.png)"
   ]
  },
  {
   "cell_type": "markdown",
   "metadata": {},
   "source": [
    "On utilise une petite classe qui va encapsuler la donnée courante, et le pointeur vers la liste suivante."
   ]
  },
  {
   "cell_type": "code",
   "execution_count": 58,
   "metadata": {},
   "outputs": [],
   "source": [
    "class ListNode:\n",
    "    def __init__(self, data, link=None):\n",
    "        self.data = data\n",
    "        self.link = link\n",
    "    \n",
    "    def __str__(self):\n",
    "        return \"[{}|.-]->{}\".format(str(self.data), \"\" if self.link is None else str(self.link))"
   ]
  },
  {
   "cell_type": "code",
   "execution_count": 59,
   "metadata": {},
   "outputs": [
    {
     "name": "stdout",
     "output_type": "stream",
     "text": [
      "[0|.-]->\n",
      "[1|.-]->[0|.-]->\n"
     ]
    }
   ],
   "source": [
    "example_node = ListNode(0)\n",
    "print(example_node)\n",
    "\n",
    "example_node2 = ListNode(1, link=example_node)\n",
    "print(example_node2)\n",
    "\n"
   ]
  },
  {
   "cell_type": "markdown",
   "metadata": {},
   "source": [
    "On implémente les opérations push/pop et add/remove :"
   ]
  },
  {
   "cell_type": "code",
   "execution_count": 92,
   "metadata": {
    "code_folding": []
   },
   "outputs": [],
   "source": [
    "class LinkedList:\n",
    "    def __init__(self):\n",
    "        self._head = None\n",
    "        self._tail = None\n",
    "        self._length = 0\n",
    "\n",
    "    def __len__(self):\n",
    "        return self._length\n",
    "\n",
    "    def isempty(self):\n",
    "        return len(self) == 0\n",
    "\n",
    "    # Methods push/pop for Stack (FIFO) data structure\n",
    "\n",
    "    def _addfirst(self, item):\n",
    "        self._head = ListNode(item, self._head)\n",
    "        if self._tail is None: self._tail = self._head\n",
    "        self._length += 1\n",
    "    \n",
    "    def push(self, item):\n",
    "        \"\"\" Insert a new element as the new head, in O(1) time.\"\"\"\n",
    "        self._addfirst(item)\n",
    "\n",
    "    def _removefirst(self):\n",
    "        item = self._head.data\n",
    "        self._head = self._head.link\n",
    "        if self._head is None: self._tail = None\n",
    "        self._length -= 1\n",
    "        return item\n",
    "    \n",
    "    def pop(self):\n",
    "        \"\"\" Get and remove the head, in O(1) time.\"\"\"\n",
    "        return self._removefirst()\n",
    "    \n",
    "    # Methods add/remove for Queue (FILO) data structure\n",
    "\n",
    "    def _addlast(self, item):\n",
    "        if self._head is None:\n",
    "            self._addfirst(item)\n",
    "        else:\n",
    "            self._tail.link = ListNode(item)\n",
    "            self._tail = self._tail.link\n",
    "            self._length += 1\n",
    "    \n",
    "    def add(self, item):\n",
    "        \"\"\" Insert a new element at the end of the list, in O(n) time.\"\"\"\n",
    "        self._addlast(item)\n",
    "    \n",
    "    remove = pop\n",
    "\n",
    "    def removelast(self):\n",
    "        if self._head is self._tail:\n",
    "            return self._removefirst()\n",
    "        else:\n",
    "            currentnode = self._head\n",
    "            while currentnode.link is not self._tail:\n",
    "                currentnode = currentnode.link\n",
    "            item = self._tail.data\n",
    "            self._tail = currentnode\n",
    "            self._tail.link = None\n",
    "            self._length -= 1\n",
    "            return item\n",
    "\n",
    "    def items(self):\n",
    "        n = len(self)\n",
    "        values = [ None ] * n\n",
    "        # We can push/pop then pop/push all the values, using an array (ie. a Python \"list\")\n",
    "        for i in range(n):\n",
    "            values[i] = self.pop()\n",
    "        for i in range(n - 1, -1, -1):\n",
    "            self.push(values[i])\n",
    "        return values\n",
    "    \n",
    "    # Method to print the list    \n",
    "    def __str__(self) -> str:\n",
    "        if self.isempty(): return \"[]\"\n",
    "        return str(self._head)\n"
   ]
  },
  {
   "cell_type": "markdown",
   "metadata": {},
   "source": [
    "Deux exemples, que l'on visualise encore mieux sur [PythonTutor.com](http://pythontutor.com/live.html#mode=edit)."
   ]
  },
  {
   "cell_type": "markdown",
   "metadata": {},
   "source": [
    "### `pop`/`push` pour une structure de file (FILO)"
   ]
  },
  {
   "cell_type": "code",
   "execution_count": 93,
   "metadata": {},
   "outputs": [
    {
     "name": "stdout",
     "output_type": "stream",
     "text": [
      "[]\n",
      "[0|.-]->\n",
      "[1|.-]->[0|.-]->\n",
      "[2|.-]->[1|.-]->[0|.-]->\n",
      "[3|.-]->[2|.-]->[1|.-]->[0|.-]->\n",
      "[3, 2, 1, 0]\n"
     ]
    },
    {
     "data": {
      "text/plain": [
       "3"
      ]
     },
     "execution_count": 93,
     "metadata": {},
     "output_type": "execute_result"
    },
    {
     "name": "stdout",
     "output_type": "stream",
     "text": [
      "[2|.-]->[1|.-]->[0|.-]->\n"
     ]
    },
    {
     "data": {
      "text/plain": [
       "2"
      ]
     },
     "execution_count": 93,
     "metadata": {},
     "output_type": "execute_result"
    },
    {
     "name": "stdout",
     "output_type": "stream",
     "text": [
      "[1|.-]->[0|.-]->\n"
     ]
    },
    {
     "data": {
      "text/plain": [
       "1"
      ]
     },
     "execution_count": 93,
     "metadata": {},
     "output_type": "execute_result"
    },
    {
     "name": "stdout",
     "output_type": "stream",
     "text": [
      "[0|.-]->\n"
     ]
    },
    {
     "data": {
      "text/plain": [
       "0"
      ]
     },
     "execution_count": 93,
     "metadata": {},
     "output_type": "execute_result"
    },
    {
     "name": "stdout",
     "output_type": "stream",
     "text": [
      "[]\n"
     ]
    }
   ],
   "source": [
    "example_list = LinkedList()\n",
    "print(example_list)\n",
    "\n",
    "example_list.push(0)\n",
    "print(example_list)\n",
    "\n",
    "example_list.push(1)\n",
    "print(example_list)\n",
    "\n",
    "example_list.push(2)\n",
    "print(example_list)\n",
    "\n",
    "example_list.push(3)\n",
    "print(example_list)\n",
    "\n",
    "print(example_list.items())\n",
    "\n",
    "example_list.pop()\n",
    "print(example_list)\n",
    "\n",
    "example_list.pop()\n",
    "print(example_list)\n",
    "\n",
    "example_list.pop()\n",
    "print(example_list)\n",
    "\n",
    "example_list.pop()\n",
    "print(example_list)"
   ]
  },
  {
   "cell_type": "markdown",
   "metadata": {},
   "source": [
    "### `add`/`remove` pour une structure de pile (FIFO)"
   ]
  },
  {
   "cell_type": "code",
   "execution_count": 94,
   "metadata": {},
   "outputs": [
    {
     "name": "stdout",
     "output_type": "stream",
     "text": [
      "[]\n",
      "[0|.-]->\n",
      "[0|.-]->[1|.-]->\n",
      "[0|.-]->[1|.-]->[2|.-]->\n",
      "[0|.-]->[1|.-]->[2|.-]->[3|.-]->\n"
     ]
    },
    {
     "data": {
      "text/plain": [
       "0"
      ]
     },
     "execution_count": 94,
     "metadata": {},
     "output_type": "execute_result"
    },
    {
     "name": "stdout",
     "output_type": "stream",
     "text": [
      "[1|.-]->[2|.-]->[3|.-]->\n"
     ]
    },
    {
     "data": {
      "text/plain": [
       "1"
      ]
     },
     "execution_count": 94,
     "metadata": {},
     "output_type": "execute_result"
    },
    {
     "name": "stdout",
     "output_type": "stream",
     "text": [
      "[2|.-]->[3|.-]->\n"
     ]
    },
    {
     "data": {
      "text/plain": [
       "2"
      ]
     },
     "execution_count": 94,
     "metadata": {},
     "output_type": "execute_result"
    },
    {
     "name": "stdout",
     "output_type": "stream",
     "text": [
      "[3|.-]->\n"
     ]
    },
    {
     "data": {
      "text/plain": [
       "3"
      ]
     },
     "execution_count": 94,
     "metadata": {},
     "output_type": "execute_result"
    },
    {
     "name": "stdout",
     "output_type": "stream",
     "text": [
      "[]\n"
     ]
    }
   ],
   "source": [
    "example_list = LinkedList()\n",
    "print(example_list)\n",
    "\n",
    "example_list.add(0)\n",
    "print(example_list)\n",
    "\n",
    "example_list.add(1)\n",
    "print(example_list)\n",
    "\n",
    "example_list.add(2)\n",
    "print(example_list)\n",
    "\n",
    "example_list.add(3)\n",
    "print(example_list)\n",
    "\n",
    "example_list.remove()\n",
    "print(example_list)\n",
    "\n",
    "example_list.remove()\n",
    "print(example_list)\n",
    "\n",
    "example_list.remove()\n",
    "print(example_list)\n",
    "\n",
    "example_list.remove()\n",
    "print(example_list)"
   ]
  },
  {
   "cell_type": "markdown",
   "metadata": {},
   "source": [
    "## Listes doublement chaînées\n",
    "![figures/CM1_DoublyLinkedList.png](figures/CM1_DoublyLinkedList.png)"
   ]
  },
  {
   "cell_type": "markdown",
   "metadata": {},
   "source": [
    "On utilise une petite classe qui va encapsuler la donnée courante, et les deux pointeurs vers les listes suivante et précédente."
   ]
  },
  {
   "cell_type": "code",
   "execution_count": 99,
   "metadata": {},
   "outputs": [],
   "source": [
    "class ListNodeDoublyLinked:\n",
    "    def __init__(self, data, prev = None, link = None):\n",
    "        self.data = data\n",
    "        self.prev = prev\n",
    "        self.link = link\n",
    "        if prev is not None:\n",
    "            self.prev.link = self\n",
    "        if link is not None:\n",
    "            self.link.prev = self"
   ]
  },
  {
   "cell_type": "code",
   "execution_count": 100,
   "metadata": {
    "code_folding": [
     36,
     44
    ]
   },
   "outputs": [],
   "source": [
    "class DoublyLinkedList:\n",
    "    def __init__(self):\n",
    "        self._head = None\n",
    "        self._tail = None\n",
    "        self._length = 0\n",
    "\n",
    "    def addfirst(self, item):\n",
    "        if len(self) == 0:\n",
    "            self._head = self._tail = ListNodeDoublyLinked(item, None, None)\n",
    "        else:\n",
    "            new_node = ListNodeDoublyLinked(item, None, self._head)\n",
    "            self._head.prev = new_node\n",
    "            self._head = new_node\n",
    "        self._length += 1\n",
    "\n",
    "    def addlast(self, item):\n",
    "        if len(self) == 0:\n",
    "            self._head = self._tail = ListNodeDoublyLinked(item, None, None)\n",
    "        else:\n",
    "            new_node = ListNodeDoublyLinked(item, self._tail, None)\n",
    "            self._tail.link = new_node\n",
    "            self._tail = new_node\n",
    "        self._length += 1\n",
    "\n",
    "    def __len__(self):\n",
    "        return self._length\n",
    "\n",
    "    def _addbetween(self, item, before, after):\n",
    "        node = ListNodeDoublyLinked(item, before, after)\n",
    "        if after is self._head:\n",
    "            self._head = node\n",
    "        if before is self._tail:\n",
    "            self._tail = node\n",
    "        self._length += 1\n",
    "\n",
    "    def addfirst(self, item):\n",
    "        self._addbetween(item, None, self._head)\n",
    "\n",
    "    def addlast(self, item):\n",
    "        self._addbetween(item, self._tail, None)\n",
    "\n",
    "    def _remove(self, node):\n",
    "        before, after = node.prev, node.link\n",
    "        if node is self._head:\n",
    "            self._head = after\n",
    "        else:\n",
    "            before.link = after\n",
    "        if node is self._tail:\n",
    "            self._tail = before\n",
    "        else:\n",
    "            after.prev = before\n",
    "        self._length -= 1\n",
    "        return node.data\n",
    "\n",
    "    def removefirst(self):\n",
    "        return self._remove(self._head)\n",
    "\n",
    "    def removelast(self):\n",
    "        return self._remove(self._tail)\n",
    "\n",
    "    def __iadd__(self, other):\n",
    "        if other._head is None: return\n",
    "        if self._head is None:\n",
    "            self._head = other._head\n",
    "        else:\n",
    "            self._tail.link = other._head\n",
    "            other._head.prev = self._tail\n",
    "        self._tail = other._tail\n",
    "        self._length = self._length + other._length\n",
    "\n",
    "        # Clean up the other list.\n",
    "        other.__init__()\n",
    "        return self"
   ]
  },
  {
   "cell_type": "markdown",
   "metadata": {},
   "source": [
    "Un exemple, que l'on visualise encore mieux sur [PythonTutor.com](http://pythontutor.com/live.html#mode=edit)."
   ]
  },
  {
   "cell_type": "markdown",
   "metadata": {},
   "source": [
    "### Exemple"
   ]
  },
  {
   "cell_type": "code",
   "execution_count": 101,
   "metadata": {},
   "outputs": [
    {
     "name": "stdout",
     "output_type": "stream",
     "text": [
      "<__main__.DoublyLinkedList object at 0x7ff516e7ed30>\n",
      "<__main__.DoublyLinkedList object at 0x7ff516e7ed30>\n",
      "<__main__.DoublyLinkedList object at 0x7ff516e7ed30>\n",
      "<__main__.DoublyLinkedList object at 0x7ff516e7ed30>\n",
      "<__main__.DoublyLinkedList object at 0x7ff516e7ed30>\n",
      "<__main__.DoublyLinkedList object at 0x7ff516e7ed30>\n",
      "<__main__.DoublyLinkedList object at 0x7ff516e7ed30>\n"
     ]
    },
    {
     "data": {
      "text/plain": [
       "2"
      ]
     },
     "execution_count": 101,
     "metadata": {},
     "output_type": "execute_result"
    },
    {
     "name": "stdout",
     "output_type": "stream",
     "text": [
      "<__main__.DoublyLinkedList object at 0x7ff516e7ed30>\n"
     ]
    },
    {
     "data": {
      "text/plain": [
       "102"
      ]
     },
     "execution_count": 101,
     "metadata": {},
     "output_type": "execute_result"
    },
    {
     "name": "stdout",
     "output_type": "stream",
     "text": [
      "<__main__.DoublyLinkedList object at 0x7ff516e7ed30>\n"
     ]
    },
    {
     "data": {
      "text/plain": [
       "1"
      ]
     },
     "execution_count": 101,
     "metadata": {},
     "output_type": "execute_result"
    },
    {
     "name": "stdout",
     "output_type": "stream",
     "text": [
      "<__main__.DoublyLinkedList object at 0x7ff516e7ed30>\n"
     ]
    },
    {
     "data": {
      "text/plain": [
       "101"
      ]
     },
     "execution_count": 101,
     "metadata": {},
     "output_type": "execute_result"
    },
    {
     "name": "stdout",
     "output_type": "stream",
     "text": [
      "<__main__.DoublyLinkedList object at 0x7ff516e7ed30>\n"
     ]
    },
    {
     "data": {
      "text/plain": [
       "0"
      ]
     },
     "execution_count": 101,
     "metadata": {},
     "output_type": "execute_result"
    },
    {
     "name": "stdout",
     "output_type": "stream",
     "text": [
      "<__main__.DoublyLinkedList object at 0x7ff516e7ed30>\n"
     ]
    },
    {
     "data": {
      "text/plain": [
       "100"
      ]
     },
     "execution_count": 101,
     "metadata": {},
     "output_type": "execute_result"
    },
    {
     "name": "stdout",
     "output_type": "stream",
     "text": [
      "<__main__.DoublyLinkedList object at 0x7ff516e7ed30>\n"
     ]
    }
   ],
   "source": [
    "example_list = DoublyLinkedList()\n",
    "print(example_list)\n",
    "\n",
    "example_list.addfirst(0)\n",
    "print(example_list)\n",
    "\n",
    "example_list.addfirst(1)\n",
    "print(example_list)\n",
    "\n",
    "example_list.addfirst(2)\n",
    "print(example_list)\n",
    "\n",
    "example_list.addlast(100)\n",
    "print(example_list)\n",
    "\n",
    "example_list.addlast(101)\n",
    "print(example_list)\n",
    "\n",
    "example_list.addlast(102)\n",
    "print(example_list)\n",
    "\n",
    "example_list.removefirst()\n",
    "print(example_list)\n",
    "\n",
    "example_list.removelast()\n",
    "print(example_list)\n",
    "\n",
    "example_list.removefirst()\n",
    "print(example_list)\n",
    "\n",
    "example_list.removelast()\n",
    "print(example_list)\n",
    "\n",
    "example_list.removefirst()\n",
    "print(example_list)\n",
    "\n",
    "example_list.removelast()\n",
    "print(example_list)"
   ]
  },
  {
   "cell_type": "markdown",
   "metadata": {},
   "source": [
    "### add/remove pour une structure de pile"
   ]
  },
  {
   "cell_type": "code",
   "execution_count": null,
   "metadata": {},
   "outputs": [],
   "source": []
  },
  {
   "cell_type": "code",
   "execution_count": null,
   "metadata": {},
   "outputs": [],
   "source": []
  }
 ],
 "metadata": {
  "kernelspec": {
   "display_name": "Python 3",
   "language": "python",
   "name": "python3"
  },
  "language_info": {
   "codemirror_mode": {
    "name": "ipython",
    "version": 3
   },
   "file_extension": ".py",
   "mimetype": "text/x-python",
   "name": "python",
   "nbconvert_exporter": "python",
   "pygments_lexer": "ipython3",
   "version": "3.6.8"
  },
  "toc": {
   "colors": {
    "hover_highlight": "#DAA520",
    "running_highlight": "#FF0000",
    "selected_highlight": "#FFD700"
   },
   "moveMenuLeft": true,
   "nav_menu": {
    "height": "172.05px",
    "width": "251.5px"
   },
   "navigate_menu": true,
   "number_sections": true,
   "sideBar": false,
   "threshold": 4,
   "toc_cell": true,
   "toc_position": {
    "height": "255.717px",
    "left": "1133.25px",
    "right": "20px",
    "top": "124px",
    "width": "275.25px"
   },
   "toc_section_display": "block",
   "toc_window_display": true
  },
  "varInspector": {
   "cols": {
    "lenName": 16,
    "lenType": 16,
    "lenVar": 40
   },
   "kernels_config": {
    "python": {
     "delete_cmd_postfix": "",
     "delete_cmd_prefix": "del ",
     "library": "var_list.py",
     "varRefreshCmd": "print(var_dic_list())"
    },
    "r": {
     "delete_cmd_postfix": ") ",
     "delete_cmd_prefix": "rm(",
     "library": "var_list.r",
     "varRefreshCmd": "cat(var_dic_list()) "
    }
   },
   "position": {
    "height": "203.85px",
    "left": "1103.5px",
    "right": "20px",
    "top": "607px",
    "width": "331.5px"
   },
   "types_to_exclude": [
    "module",
    "function",
    "builtin_function_or_method",
    "instance",
    "_Feature"
   ],
   "window_display": true
  }
 },
 "nbformat": 4,
 "nbformat_minor": 2
}
