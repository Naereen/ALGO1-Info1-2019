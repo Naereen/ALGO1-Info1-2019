{
 "cells": [
  {
   "cell_type": "markdown",
   "metadata": {
    "toc": "true"
   },
   "source": [
    "# Table of Contents\n",
    " <p><div class=\"lev1 toc-item\"><a href=\"#ALGO1-:-Introduction-à-l'algorithmique\" data-toc-modified-id=\"ALGO1-:-Introduction-à-l'algorithmique-1\"><span class=\"toc-item-num\">1&nbsp;&nbsp;</span><a href=\"https://perso.crans.org/besson/teach/info1_algo1_2019/\" target=\"_blank\">ALGO1 : Introduction à l'algorithmique</a></a></div><div class=\"lev1 toc-item\"><a href=\"#Cours-Magistral-1\" data-toc-modified-id=\"Cours-Magistral-1-2\"><span class=\"toc-item-num\">2&nbsp;&nbsp;</span>Cours Magistral 1</a></div><div class=\"lev2 toc-item\"><a href=\"#Listes-simplement-chaînées\" data-toc-modified-id=\"Listes-simplement-chaînées-21\"><span class=\"toc-item-num\">2.1&nbsp;&nbsp;</span>Listes simplement chaînées</a></div><div class=\"lev3 toc-item\"><a href=\"#pop/push-pour-une-structure-de-file-(FILO)\" data-toc-modified-id=\"pop/push-pour-une-structure-de-file-(FILO)-211\"><span class=\"toc-item-num\">2.1.1&nbsp;&nbsp;</span><code>pop</code>/<code>push</code> pour une structure de file (FILO)</a></div><div class=\"lev3 toc-item\"><a href=\"#add/remove-pour-une-structure-de-pile-(FIFO)\" data-toc-modified-id=\"add/remove-pour-une-structure-de-pile-(FIFO)-212\"><span class=\"toc-item-num\">2.1.2&nbsp;&nbsp;</span><code>add</code>/<code>remove</code> pour une structure de pile (FIFO)</a></div><div class=\"lev2 toc-item\"><a href=\"#Listes-doublement-chaînées\" data-toc-modified-id=\"Listes-doublement-chaînées-22\"><span class=\"toc-item-num\">2.2&nbsp;&nbsp;</span>Listes doublement chaînées</a></div><div class=\"lev3 toc-item\"><a href=\"#Exemple\" data-toc-modified-id=\"Exemple-221\"><span class=\"toc-item-num\">2.2.1&nbsp;&nbsp;</span>Exemple</a></div><div class=\"lev2 toc-item\"><a href=\"#Implémenter-une-file-d'attente-avec-deux-piles\" data-toc-modified-id=\"Implémenter-une-file-d'attente-avec-deux-piles-23\"><span class=\"toc-item-num\">2.3&nbsp;&nbsp;</span>Implémenter une file d'attente avec deux piles</a></div><div class=\"lev2 toc-item\"><a href=\"#File-de-priorité-:-implémentation-naïve\" data-toc-modified-id=\"File-de-priorité-:-implémentation-naïve-24\"><span class=\"toc-item-num\">2.4&nbsp;&nbsp;</span>File de priorité : implémentation naïve</a></div><div class=\"lev2 toc-item\"><a href=\"#Implémentation-d'un-tas-binaire\" data-toc-modified-id=\"Implémentation-d'un-tas-binaire-25\"><span class=\"toc-item-num\">2.5&nbsp;&nbsp;</span>Implémentation d'un tas binaire</a></div><div class=\"lev3 toc-item\"><a href=\"#Naïve-:-tableau-trié-!\" data-toc-modified-id=\"Naïve-:-tableau-trié-!-251\"><span class=\"toc-item-num\">2.5.1&nbsp;&nbsp;</span>Naïve : tableau trié !</a></div><div class=\"lev3 toc-item\"><a href=\"#Intelligente-:-tas-binaire-min-équilibré\" data-toc-modified-id=\"Intelligente-:-tas-binaire-min-équilibré-252\"><span class=\"toc-item-num\">2.5.2&nbsp;&nbsp;</span>Intelligente : tas binaire min équilibré</a></div><div class=\"lev2 toc-item\"><a href=\"#Tri-par-tas\" data-toc-modified-id=\"Tri-par-tas-26\"><span class=\"toc-item-num\">2.6&nbsp;&nbsp;</span>Tri par tas</a></div><div class=\"lev3 toc-item\"><a href=\"#Remarques\" data-toc-modified-id=\"Remarques-261\"><span class=\"toc-item-num\">2.6.1&nbsp;&nbsp;</span>Remarques</a></div><div class=\"lev3 toc-item\"><a href=\"#Tri-par-tas\" data-toc-modified-id=\"Tri-par-tas-262\"><span class=\"toc-item-num\">2.6.2&nbsp;&nbsp;</span>Tri par tas</a></div><div class=\"lev2 toc-item\"><a href=\"#Test-numérique-de-l'efficacité-du-tri-par-tas\" data-toc-modified-id=\"Test-numérique-de-l'efficacité-du-tri-par-tas-27\"><span class=\"toc-item-num\">2.7&nbsp;&nbsp;</span>Test numérique de l'efficacité du tri par tas</a></div>"
   ]
  },
  {
   "cell_type": "markdown",
   "metadata": {},
   "source": [
    "# [ALGO1 : Introduction à l'algorithmique](https://perso.crans.org/besson/teach/info1_algo1_2019/)\n",
    "\n",
    "- [Page du cours](https://perso.crans.org/besson/teach/info1_algo1_2019/) : https://perso.crans.org/besson/teach/info1_algo1_2019/\n",
    "- Magistère d'Informatique de Rennes - ENS Rennes - Année 2019/2020\n",
    "- Intervenants :\n",
    "  + Cours : [Lilian Besson](https://perso.crans.org/besson/)\n",
    "  + Travaux dirigés : [Raphaël Truffet](http://perso.eleves.ens-rennes.fr/people/Raphael.Truffet/)\n",
    "- Références :\n",
    "  + [Open Data Structures](http://opendatastructures.org/ods-python.pdf)"
   ]
  },
  {
   "cell_type": "markdown",
   "metadata": {},
   "source": [
    "# Cours Magistral 1"
   ]
  },
  {
   "cell_type": "markdown",
   "metadata": {},
   "source": [
    "## Listes simplement chaînées\n",
    "![figures/CM1_SimplyLinkedList.png](figures/CM1_SimplyLinkedList.png)"
   ]
  },
  {
   "cell_type": "markdown",
   "metadata": {},
   "source": [
    "On utilise une petite classe qui va encapsuler la donnée courante, et le pointeur vers la liste suivante."
   ]
  },
  {
   "cell_type": "code",
   "execution_count": 58,
   "metadata": {},
   "outputs": [],
   "source": [
    "class ListNode:\n",
    "    def __init__(self, data, link=None):\n",
    "        self.data = data\n",
    "        self.link = link\n",
    "    \n",
    "    def __str__(self):\n",
    "        return \"[{}|.-]->{}\".format(str(self.data), \"\" if self.link is None else str(self.link))"
   ]
  },
  {
   "cell_type": "code",
   "execution_count": 111,
   "metadata": {},
   "outputs": [
    {
     "name": "stdout",
     "output_type": "stream",
     "text": [
      "[0|.-]->\n",
      "[1|.-]->[0|.-]->\n"
     ]
    }
   ],
   "source": [
    "example_node = ListNode(0)\n",
    "print(example_node)\n",
    "\n",
    "example_node2 = ListNode(1, link=example_node)\n",
    "print(example_node2)"
   ]
  },
  {
   "cell_type": "markdown",
   "metadata": {},
   "source": [
    "On peut parcourir $i$ fois cette structure linéaire :"
   ]
  },
  {
   "cell_type": "code",
   "execution_count": 118,
   "metadata": {},
   "outputs": [],
   "source": [
    "def traverse(one_node, i):\n",
    "    assert i >= 0\n",
    "    if i == 0:\n",
    "        return one_node.data\n",
    "    else:\n",
    "        return traverse(one_node.link, i-1)"
   ]
  },
  {
   "cell_type": "code",
   "execution_count": 121,
   "metadata": {},
   "outputs": [
    {
     "data": {
      "text/plain": [
       "[0]"
      ]
     },
     "execution_count": 121,
     "metadata": {},
     "output_type": "execute_result"
    },
    {
     "data": {
      "text/plain": [
       "[0, 1]"
      ]
     },
     "execution_count": 121,
     "metadata": {},
     "output_type": "execute_result"
    }
   ],
   "source": [
    "[ traverse(example_node, 0) ]\n",
    "# traverse(example_node, 1)\n",
    "\n",
    "[ traverse(example_node2, 1), traverse(example_node2, 0) ]"
   ]
  },
  {
   "cell_type": "markdown",
   "metadata": {},
   "source": [
    "On implémente les opérations push/pop et add/remove :"
   ]
  },
  {
   "cell_type": "code",
   "execution_count": 124,
   "metadata": {
    "code_folding": [
     54,
     72
    ]
   },
   "outputs": [],
   "source": [
    "class LinkedList:\n",
    "    def __init__(self):\n",
    "        self._head = None\n",
    "        self._tail = None\n",
    "        self._length = 0\n",
    "\n",
    "    def __len__(self):\n",
    "        return self._length\n",
    "\n",
    "    def isempty(self):\n",
    "        return len(self) == 0\n",
    "\n",
    "    # Methods push/pop for Stack (FIFO) data structure\n",
    "\n",
    "    def _addfirst(self, item):\n",
    "        self._head = ListNode(item, self._head)\n",
    "        # if it has only one element, we make it loop\n",
    "        if self._tail is None:\n",
    "            self._tail = self._head\n",
    "        # but the structure knows it has only element: length = 1\n",
    "        self._length += 1\n",
    "    \n",
    "    def push(self, item):\n",
    "        \"\"\" Insert a new element as the new head, in O(1) time.\"\"\"\n",
    "        self._addfirst(item)\n",
    "\n",
    "    def _removefirst(self):\n",
    "        item = self._head.data        # get the current head data\n",
    "        self._head = self._head.link  # compress the head\n",
    "        if self._head is None:        # if link was None, then list is now empty\n",
    "            self._tail = None  \n",
    "        self._length -= 1             # remove one element\n",
    "        return item\n",
    "    \n",
    "    def pop(self):\n",
    "        \"\"\" Get and remove the head, in O(1) time.\"\"\"\n",
    "        return self._removefirst()\n",
    "    \n",
    "    # Methods add/remove for Queue (FILO) data structure\n",
    "\n",
    "    def _addlast(self, item):\n",
    "        if self._head is None:  # if list is empty, just add at the beginning\n",
    "            self._addfirst(item)\n",
    "        else:  # or create new element, and change tail\n",
    "            self._tail.link = ListNode(item)\n",
    "            self._tail = self._tail.link\n",
    "            self._length += 1\n",
    "    \n",
    "    def add(self, item):\n",
    "        \"\"\" Insert a new element at the end of the list, in O(n) time.\"\"\"\n",
    "        self._addlast(item)\n",
    "    \n",
    "    remove = pop\n",
    "\n",
    "    def removelast(self):\n",
    "        if self._head is self._tail:\n",
    "            return self._removefirst()\n",
    "        else:\n",
    "            currentnode = self._head\n",
    "            while currentnode.link is not self._tail:\n",
    "                currentnode = currentnode.link\n",
    "            item = self._tail.data\n",
    "            self._tail = currentnode\n",
    "            self._tail.link = None\n",
    "            self._length -= 1\n",
    "            return item\n",
    "\n",
    "    # Access to i-th element, in O(i)\n",
    "    def __getitem__(self, index):\n",
    "        if not (0 <= index < len(self)): raise IndexError\n",
    "        return traverse(self._head, index)\n",
    "    \n",
    "    def items(self):\n",
    "        n = len(self)\n",
    "        return [ self[i] for i in range(len(self)) ]\n",
    "    \n",
    "    # Method to print the list    \n",
    "    def __str__(self) -> str:\n",
    "        if self.isempty(): return \"[]\"\n",
    "        return str(self._head)"
   ]
  },
  {
   "cell_type": "markdown",
   "metadata": {},
   "source": [
    "Deux exemples, que l'on visualise encore mieux sur [PythonTutor.com](http://pythontutor.com/live.html#mode=edit)."
   ]
  },
  {
   "cell_type": "markdown",
   "metadata": {},
   "source": [
    "### `pop`/`push` pour une structure de file (FILO)"
   ]
  },
  {
   "cell_type": "code",
   "execution_count": 125,
   "metadata": {},
   "outputs": [
    {
     "name": "stdout",
     "output_type": "stream",
     "text": [
      "[]\n",
      "[0|.-]->\n",
      "[1|.-]->[0|.-]->\n",
      "[2|.-]->[1|.-]->[0|.-]->\n",
      "[3|.-]->[2|.-]->[1|.-]->[0|.-]->\n",
      "[3, 2, 1, 0]\n",
      "0th value is = 3\n",
      "1th value is = 2\n",
      "2th value is = 1\n",
      "3th value is = 0\n"
     ]
    },
    {
     "data": {
      "text/plain": [
       "3"
      ]
     },
     "execution_count": 125,
     "metadata": {},
     "output_type": "execute_result"
    },
    {
     "name": "stdout",
     "output_type": "stream",
     "text": [
      "[2|.-]->[1|.-]->[0|.-]->\n"
     ]
    },
    {
     "data": {
      "text/plain": [
       "2"
      ]
     },
     "execution_count": 125,
     "metadata": {},
     "output_type": "execute_result"
    },
    {
     "name": "stdout",
     "output_type": "stream",
     "text": [
      "[1|.-]->[0|.-]->\n"
     ]
    },
    {
     "data": {
      "text/plain": [
       "1"
      ]
     },
     "execution_count": 125,
     "metadata": {},
     "output_type": "execute_result"
    },
    {
     "name": "stdout",
     "output_type": "stream",
     "text": [
      "[0|.-]->\n"
     ]
    },
    {
     "data": {
      "text/plain": [
       "0"
      ]
     },
     "execution_count": 125,
     "metadata": {},
     "output_type": "execute_result"
    },
    {
     "name": "stdout",
     "output_type": "stream",
     "text": [
      "[]\n"
     ]
    }
   ],
   "source": [
    "example_list = LinkedList()\n",
    "print(example_list)\n",
    "\n",
    "example_list.push(0)\n",
    "print(example_list)\n",
    "\n",
    "example_list.push(1)\n",
    "print(example_list)\n",
    "\n",
    "example_list.push(2)\n",
    "print(example_list)\n",
    "\n",
    "example_list.push(3)\n",
    "print(example_list)\n",
    "\n",
    "print(example_list.items())\n",
    "for i in range(len(example_list)):\n",
    "    print(\"{}th value is = {}\".format(i, example_list[i]))\n",
    "\n",
    "example_list.pop()\n",
    "print(example_list)\n",
    "\n",
    "example_list.pop()\n",
    "print(example_list)\n",
    "\n",
    "example_list.pop()\n",
    "print(example_list)\n",
    "\n",
    "example_list.pop()\n",
    "print(example_list)"
   ]
  },
  {
   "cell_type": "markdown",
   "metadata": {},
   "source": [
    "### `add`/`remove` pour une structure de pile (FIFO)"
   ]
  },
  {
   "cell_type": "code",
   "execution_count": 129,
   "metadata": {},
   "outputs": [
    {
     "name": "stdout",
     "output_type": "stream",
     "text": [
      "[]\n",
      "[0|.-]->\n",
      "[0|.-]->[1|.-]->\n",
      "[0|.-]->[1|.-]->[2|.-]->\n",
      "[0|.-]->[1|.-]->[2|.-]->[3|.-]->\n",
      "[0, 1, 2, 3]\n",
      "0th value is = 0\n",
      "1th value is = 1\n",
      "2th value is = 2\n",
      "3th value is = 3\n"
     ]
    },
    {
     "data": {
      "text/plain": [
       "0"
      ]
     },
     "execution_count": 129,
     "metadata": {},
     "output_type": "execute_result"
    },
    {
     "name": "stdout",
     "output_type": "stream",
     "text": [
      "[1|.-]->[2|.-]->[3|.-]->\n"
     ]
    },
    {
     "data": {
      "text/plain": [
       "1"
      ]
     },
     "execution_count": 129,
     "metadata": {},
     "output_type": "execute_result"
    },
    {
     "name": "stdout",
     "output_type": "stream",
     "text": [
      "[2|.-]->[3|.-]->\n"
     ]
    },
    {
     "data": {
      "text/plain": [
       "2"
      ]
     },
     "execution_count": 129,
     "metadata": {},
     "output_type": "execute_result"
    },
    {
     "name": "stdout",
     "output_type": "stream",
     "text": [
      "[3|.-]->\n"
     ]
    },
    {
     "data": {
      "text/plain": [
       "3"
      ]
     },
     "execution_count": 129,
     "metadata": {},
     "output_type": "execute_result"
    },
    {
     "name": "stdout",
     "output_type": "stream",
     "text": [
      "[]\n"
     ]
    }
   ],
   "source": [
    "example_list = LinkedList()\n",
    "print(example_list)\n",
    "\n",
    "example_list.add(0)\n",
    "print(example_list)\n",
    "\n",
    "example_list.add(1)\n",
    "print(example_list)\n",
    "\n",
    "example_list.add(2)\n",
    "print(example_list)\n",
    "\n",
    "example_list.add(3)\n",
    "print(example_list)\n",
    "print(example_list.items())\n",
    "for i in range(len(example_list)):\n",
    "    print(\"{}th value is = {}\".format(i, example_list[i]))\n",
    "\n",
    "example_list.remove()\n",
    "print(example_list)\n",
    "\n",
    "example_list.remove()\n",
    "print(example_list)\n",
    "\n",
    "example_list.remove()\n",
    "print(example_list)\n",
    "\n",
    "example_list.remove()\n",
    "print(example_list)"
   ]
  },
  {
   "cell_type": "markdown",
   "metadata": {},
   "source": [
    "## Listes doublement chaînées\n",
    "![figures/CM1_DoublyLinkedList.png](figures/CM1_DoublyLinkedList.png)"
   ]
  },
  {
   "cell_type": "markdown",
   "metadata": {},
   "source": [
    "On utilise une petite classe qui va encapsuler la donnée courante, et les deux pointeurs vers les listes suivante et précédente."
   ]
  },
  {
   "cell_type": "code",
   "execution_count": 102,
   "metadata": {},
   "outputs": [],
   "source": [
    "class ListNodeDoublyLinked:\n",
    "    def __init__(self, data, prev = None, link = None):\n",
    "        self.data = data\n",
    "        self.prev = prev\n",
    "        self.link = link\n",
    "        if prev is not None:\n",
    "            self.prev.link = self\n",
    "        if link is not None:\n",
    "            self.link.prev = self\n",
    "    \n",
    "    def __str__(self):\n",
    "        return \"[{}]{}\".format(str(self.data), \"\" if self.link is None else \"<->{}\".format(str(self.link)))"
   ]
  },
  {
   "cell_type": "code",
   "execution_count": 130,
   "metadata": {
    "code_folding": [
     57
    ]
   },
   "outputs": [],
   "source": [
    "class DoublyLinkedList:\n",
    "    def __init__(self):\n",
    "        self._head = None\n",
    "        self._tail = None\n",
    "        self._length = 0\n",
    "    \n",
    "    def isempty(self):\n",
    "        return self._length == 0\n",
    "\n",
    "    def __len__(self):\n",
    "        return self._length\n",
    "\n",
    "    # Add an element, in O(1)\n",
    "    \n",
    "    def _addbetween(self, item, before, after):\n",
    "        node = ListNodeDoublyLinked(item, before, after)\n",
    "        if after is self._head:\n",
    "            self._head = node\n",
    "        if before is self._tail:\n",
    "            self._tail = node\n",
    "        self._length += 1\n",
    "\n",
    "    def addfirst(self, item):\n",
    "        \"\"\" Insert a new element as the beginning of the list, in O(1) time.\"\"\"\n",
    "        self._addbetween(item, None, self._head)\n",
    "\n",
    "    def addlast(self, item):\n",
    "        \"\"\" Insert a new element as the end of the list, in O(1) time.\"\"\"\n",
    "        self._addbetween(item, self._tail, None)\n",
    "\n",
    "    # Remove an element, in O(1)\n",
    "\n",
    "    def _remove(self, node):\n",
    "        before, after = node.prev, node.link\n",
    "        if node is self._head:\n",
    "            self._head = after\n",
    "        else:\n",
    "            before.link = after\n",
    "        if node is self._tail:\n",
    "            self._tail = before\n",
    "        else:\n",
    "            after.prev = before\n",
    "        self._length -= 1\n",
    "        return node.data\n",
    "\n",
    "    def removefirst(self):\n",
    "        \"\"\" Remove and return the beginning of the list, in O(1) time.\"\"\"\n",
    "        return self._remove(self._head)\n",
    "\n",
    "    def removelast(self):\n",
    "        \"\"\" Remove and return the end of the list, in O(1) time.\"\"\"\n",
    "        return self._remove(self._tail)\n",
    "    \n",
    "    # Access to i-th element, in O(i)\n",
    "\n",
    "\n",
    "    def __iadd__(self, other):\n",
    "        if other._head is None: return\n",
    "        if self._head is None:\n",
    "            self._head = other._head\n",
    "        else:\n",
    "            self._tail.link = other._head\n",
    "            other._head.prev = self._tail\n",
    "        self._tail = other._tail\n",
    "        self._length = self._length + other._length\n",
    "\n",
    "        # Clean up the other list.\n",
    "        other.__init__()\n",
    "        return self\n",
    "    \n",
    "    # Access to i-th element, in O(i)\n",
    "    def __getitem__(self, index):\n",
    "        if not (0 <= index < len(self)): raise IndexError\n",
    "        return traverse(self._head, index)\n",
    "    \n",
    "    def items(self):\n",
    "        n = len(self)\n",
    "        return [ self[i] for i in range(len(self)) ]\n",
    "\n",
    "    # Method to print the list    \n",
    "    def __str__(self) -> str:\n",
    "        if self.isempty(): return \"[]\"\n",
    "        return str(self._head)"
   ]
  },
  {
   "cell_type": "markdown",
   "metadata": {},
   "source": [
    "Un exemple, que l'on visualise encore mieux sur [PythonTutor.com](http://pythontutor.com/live.html#mode=edit)."
   ]
  },
  {
   "cell_type": "markdown",
   "metadata": {},
   "source": [
    "### Exemple"
   ]
  },
  {
   "cell_type": "code",
   "execution_count": 131,
   "metadata": {},
   "outputs": [
    {
     "name": "stdout",
     "output_type": "stream",
     "text": [
      "[]\n",
      "[0]\n",
      "[1]<->[0]\n",
      "[2]<->[1]<->[0]\n",
      "[2]<->[1]<->[0]<->[100]\n",
      "[2]<->[1]<->[0]<->[100]<->[101]\n",
      "[2]<->[1]<->[0]<->[100]<->[101]<->[102]\n",
      "[2, 1, 0, 100, 101, 102]\n"
     ]
    },
    {
     "data": {
      "text/plain": [
       "2"
      ]
     },
     "execution_count": 131,
     "metadata": {},
     "output_type": "execute_result"
    },
    {
     "name": "stdout",
     "output_type": "stream",
     "text": [
      "[1]<->[0]<->[100]<->[101]<->[102]\n"
     ]
    },
    {
     "data": {
      "text/plain": [
       "102"
      ]
     },
     "execution_count": 131,
     "metadata": {},
     "output_type": "execute_result"
    },
    {
     "name": "stdout",
     "output_type": "stream",
     "text": [
      "[1]<->[0]<->[100]<->[101]\n"
     ]
    },
    {
     "data": {
      "text/plain": [
       "1"
      ]
     },
     "execution_count": 131,
     "metadata": {},
     "output_type": "execute_result"
    },
    {
     "name": "stdout",
     "output_type": "stream",
     "text": [
      "[0]<->[100]<->[101]\n"
     ]
    },
    {
     "data": {
      "text/plain": [
       "101"
      ]
     },
     "execution_count": 131,
     "metadata": {},
     "output_type": "execute_result"
    },
    {
     "name": "stdout",
     "output_type": "stream",
     "text": [
      "[0]<->[100]\n"
     ]
    },
    {
     "data": {
      "text/plain": [
       "0"
      ]
     },
     "execution_count": 131,
     "metadata": {},
     "output_type": "execute_result"
    },
    {
     "name": "stdout",
     "output_type": "stream",
     "text": [
      "[100]\n"
     ]
    },
    {
     "data": {
      "text/plain": [
       "100"
      ]
     },
     "execution_count": 131,
     "metadata": {},
     "output_type": "execute_result"
    },
    {
     "name": "stdout",
     "output_type": "stream",
     "text": [
      "[]\n"
     ]
    }
   ],
   "source": [
    "example_list = DoublyLinkedList()\n",
    "print(example_list)\n",
    "\n",
    "example_list.addfirst(0)\n",
    "print(example_list)\n",
    "\n",
    "example_list.addfirst(1)\n",
    "print(example_list)\n",
    "\n",
    "example_list.addfirst(2)\n",
    "print(example_list)\n",
    "\n",
    "example_list.addlast(100)\n",
    "print(example_list)\n",
    "\n",
    "example_list.addlast(101)\n",
    "print(example_list)\n",
    "\n",
    "example_list.addlast(102)\n",
    "print(example_list)\n",
    "\n",
    "print(list(example_list))\n",
    "\n",
    "example_list.removefirst()\n",
    "print(example_list)\n",
    "\n",
    "example_list.removelast()\n",
    "print(example_list)\n",
    "\n",
    "example_list.removefirst()\n",
    "print(example_list)\n",
    "\n",
    "example_list.removelast()\n",
    "print(example_list)\n",
    "\n",
    "example_list.removefirst()\n",
    "print(example_list)\n",
    "\n",
    "example_list.removelast()\n",
    "print(example_list)"
   ]
  },
  {
   "cell_type": "markdown",
   "metadata": {},
   "source": [
    "## Implémenter une file d'attente avec deux piles\n",
    "- On va utiliser deux piles (des `list` de Python)"
   ]
  },
  {
   "cell_type": "code",
   "execution_count": 109,
   "metadata": {},
   "outputs": [],
   "source": [
    "# https://github.com/jilljenn/tryalgo/blob/master/tryalgo/our_queue.py\n",
    "class Queue:\n",
    "    \"\"\"A FIFO queue\n",
    "    \n",
    "    - Complexity:\n",
    "        + all operators in amortized constant time,\n",
    "        + except __str__ which is linear\n",
    "    \"\"\"\n",
    "    def __init__(self):\n",
    "        self.in_stack  = [ ]  # tail\n",
    "        self.out_stack = [ ]  # head\n",
    "\n",
    "    def __len__(self):\n",
    "        return len(self.in_stack) + len(self.out_stack)\n",
    "\n",
    "    def push(self, obj):\n",
    "        self.in_stack.append(obj)\n",
    "\n",
    "    def pop(self):\n",
    "        if not self.out_stack:    # head is empty\n",
    "            self.out_stack = self.in_stack[::-1]\n",
    "            self.in_stack = []\n",
    "        return self.out_stack.pop()\n",
    "\n",
    "    def __str__(self):\n",
    "        return str(self.out_stack[::-1] + self.in_stack)"
   ]
  },
  {
   "cell_type": "code",
   "execution_count": 110,
   "metadata": {},
   "outputs": [
    {
     "name": "stdout",
     "output_type": "stream",
     "text": [
      "[0]\n",
      "[0, 1]\n",
      "[0, 1, 2]\n",
      "[0, 1, 2, 3]\n"
     ]
    },
    {
     "data": {
      "text/plain": [
       "0"
      ]
     },
     "execution_count": 110,
     "metadata": {},
     "output_type": "execute_result"
    },
    {
     "name": "stdout",
     "output_type": "stream",
     "text": [
      "[1, 2, 3]\n"
     ]
    },
    {
     "data": {
      "text/plain": [
       "1"
      ]
     },
     "execution_count": 110,
     "metadata": {},
     "output_type": "execute_result"
    },
    {
     "name": "stdout",
     "output_type": "stream",
     "text": [
      "[2, 3]\n"
     ]
    },
    {
     "data": {
      "text/plain": [
       "2"
      ]
     },
     "execution_count": 110,
     "metadata": {},
     "output_type": "execute_result"
    },
    {
     "name": "stdout",
     "output_type": "stream",
     "text": [
      "[3]\n"
     ]
    }
   ],
   "source": [
    "queue = Queue()\n",
    "\n",
    "queue.push(0)\n",
    "print(queue)\n",
    "\n",
    "queue.push(1)\n",
    "print(queue)\n",
    "\n",
    "queue.push(2)\n",
    "print(queue)\n",
    "\n",
    "queue.push(3)\n",
    "print(queue)\n",
    "\n",
    "queue.pop()\n",
    "print(queue)\n",
    "\n",
    "queue.pop()\n",
    "print(queue)\n",
    "\n",
    "queue.pop()\n",
    "print(queue)"
   ]
  },
  {
   "cell_type": "markdown",
   "metadata": {},
   "source": [
    "## File de priorité : implémentation naïve"
   ]
  },
  {
   "cell_type": "code",
   "execution_count": null,
   "metadata": {},
   "outputs": [],
   "source": []
  },
  {
   "cell_type": "code",
   "execution_count": null,
   "metadata": {},
   "outputs": [],
   "source": []
  },
  {
   "cell_type": "markdown",
   "metadata": {},
   "source": [
    "## Implémentation d'un tas binaire"
   ]
  },
  {
   "cell_type": "markdown",
   "metadata": {},
   "source": [
    "### Naïve : tableau trié !\n",
    "\n",
    "On conserve le tableau trié en insérant chaque nouvel élément par une insertion à sa bonne position (avec des inversions locales), comme dans le tri par tas."
   ]
  },
  {
   "cell_type": "code",
   "execution_count": 187,
   "metadata": {},
   "outputs": [],
   "source": [
    "def swap(array, i, j):\n",
    "    array[i], array[j] = array[j], array[i]"
   ]
  },
  {
   "cell_type": "code",
   "execution_count": 198,
   "metadata": {},
   "outputs": [],
   "source": [
    "class OurNaiveHeap:\n",
    "    \"\"\" min naive heap\n",
    "    * heap: is the actual heap, containing the sorted value\n",
    "    * n: size of the heap\n",
    "\n",
    "    Complexity: init O(n^2), len O(1),\n",
    "                other operations O(n) in all cases\n",
    "    \"\"\"\n",
    "    def __init__(self, items=None):\n",
    "        self.heap = []  # index 0 will be ignored\n",
    "        if items is not None:\n",
    "            for x in items:\n",
    "                self.push(x)\n",
    "\n",
    "    def __len__(self):\n",
    "        return len(self.heap)\n",
    "\n",
    "    def push(self, x):\n",
    "        \"\"\"Insert new element x in the heap.\"\"\"\n",
    "        # add a new element\n",
    "        self.heap.append(x)\n",
    "        # then insert it, from the end, to its correct location\n",
    "        position = len(self) - 1\n",
    "        while position > 0 and self.heap[position - 1] > self.heap[position]:\n",
    "            swap(self.heap, position - 1, position)\n",
    "            position -= 1\n",
    "\n",
    "    def pop(self):\n",
    "        \"\"\"Remove and return smallest element\"\"\"\n",
    "        # move heap[0] to heap[n] and copy heap[1:n] to heap[0:n-1]\n",
    "        for position in range(len(self) - 1):\n",
    "            swap(self.heap, position, position + 1)\n",
    "        smallest_element = self.heap.pop()    # remove last element\n",
    "        return smallest_element"
   ]
  },
  {
   "cell_type": "markdown",
   "metadata": {},
   "source": [
    "### Intelligente : tas binaire min équilibré"
   ]
  },
  {
   "cell_type": "code",
   "execution_count": 199,
   "metadata": {},
   "outputs": [],
   "source": [
    "class OurHeap:\n",
    "    \"\"\" min heap\n",
    "    * heap: is the actual heap, heap[1] = index of the smallest element\n",
    "    * rank: inverse of heap with rank[x]=i iff heap[i]=x\n",
    "    * n: size of the heap\n",
    "    :complexity: init O(n log n), len O(1),\n",
    "                other operations O(log n) in expectation\n",
    "                and O(n) in worst case, due to the usage of a dictionary\n",
    "    \"\"\"\n",
    "    def __init__(self, items=None):\n",
    "        self.heap = [None]  # index 0 will be ignored\n",
    "        if items is not None:\n",
    "            for x in items:\n",
    "                self.push(x)\n",
    "\n",
    "    def __len__(self):\n",
    "        return len(self.heap) - 1\n",
    "\n",
    "    def push(self, x):\n",
    "        \"\"\"Insert new element x in the heap.\"\"\"\n",
    "        i = len(self.heap)\n",
    "        self.heap.append(x)    # add a new leaf\n",
    "        self.up(i)             # maintain heap order\n",
    "\n",
    "    def pop(self):\n",
    "        \"\"\"Remove and return smallest element\"\"\"\n",
    "        root = self.heap[1]\n",
    "        x = self.heap.pop()    # remove last leaf\n",
    "        if self:               # if heap is not empty\n",
    "            self.heap[1] = x   # put last leaf to root\n",
    "            self.down(1)       # maintain heap order\n",
    "        return root\n",
    "\n",
    "    def up(self, i):\n",
    "        \"\"\"The value of heap[i] has decreased. Maintain heap invariant.\"\"\"\n",
    "        x = self.heap[i]\n",
    "        while i > 1 and x < self.heap[i // 2]:\n",
    "            self.heap[i] = self.heap[i // 2]\n",
    "            i //= 2\n",
    "        self.heap[i] = x       # insertion index found\n",
    "\n",
    "    def down(self, i):\n",
    "        \"\"\"the value of heap[i] has increased. Maintain heap invariant.\"\"\"\n",
    "        x = self.heap[i]\n",
    "        n = len(self.heap)\n",
    "        while True:\n",
    "            left = 2 * i       # climb down the tree\n",
    "            right = left + 1\n",
    "            if (right < n and self.heap[right] < x and\n",
    "                    self.heap[right] < self.heap[left]):\n",
    "                self.heap[i] = self.heap[right]\n",
    "                i = right\n",
    "            elif left < n and self.heap[left] < x:\n",
    "                self.heap[i] = self.heap[left]\n",
    "                i = left\n",
    "            else:\n",
    "                self.heap[i] = x   # insertion index found\n",
    "                return"
   ]
  },
  {
   "cell_type": "markdown",
   "metadata": {},
   "source": [
    "## Tri par tas\n",
    "Dès que l'on a une implémentation d'un tas (min), on peut facilement trier un tableau `T` de la façon suivante :\n",
    "\n",
    "- Entrée : un tableau `T` de taille `n`\n",
    "- Créer tas `mon_tas`\n",
    "- Pour chaque valeur `T[i]` dans le tableau `T` :\n",
    "  + entasser `T[i]` dans `mon_tas`\n",
    "- Créer un tableau `T_trie` de même taille que `T` (`n`)\n",
    "- Initialiser `i = 0`\n",
    "- Tant que `mon_tas` n'est pas vide :\n",
    "  + extraire le minimum du tas : `nouveau_min_du_tas <- extraireMin(mon_tas)`\n",
    "  + placer ce minimum à la `i`ème position dans le nouveau tableau : `T_trie[i] = nouvea_min_du_tas`\n",
    "  + `i += 1`\n",
    "- Sortie : Le tableau `T_trie` est le tableau `T` trié par ordre croissant.\n",
    "\n",
    "### Remarques\n",
    "- L'avantage du tri par tas est que l'on peut aussi effectuer toutes ces opérations *en place* (i.e., en utilisant le tableau `T` et pas de mémoire supplémentaire).\n",
    "- On utilise un tri max pour trier en ordre décroissant, ou alors on renverse juste le tableau `T_trie` à la fin."
   ]
  },
  {
   "cell_type": "markdown",
   "metadata": {},
   "source": [
    "### Tri par tas\n",
    "L'algorithme est indépandent de la structure de tas que l'on utilise !"
   ]
  },
  {
   "cell_type": "code",
   "execution_count": 208,
   "metadata": {},
   "outputs": [],
   "source": [
    "def heapSort(array, heapStructure=OurHeap):\n",
    "    n = len(array)\n",
    "    heap = heapStructure()\n",
    "    for i in range(n):\n",
    "        heap.push(array[i])\n",
    "    sorted_array = [ None ] * n  # taille n\n",
    "    i = 0\n",
    "    while heap:  # while not empty\n",
    "        sorted_array[i] = heap.pop()\n",
    "        i += 1\n",
    "    return sorted_array\n",
    "\n",
    "def insertionSort(array):\n",
    "    return heapSort(array, heapStructure=OurNaiveHeap)"
   ]
  },
  {
   "cell_type": "code",
   "execution_count": 201,
   "metadata": {},
   "outputs": [
    {
     "data": {
      "text/plain": [
       "[9, 10, 19]"
      ]
     },
     "execution_count": 201,
     "metadata": {},
     "output_type": "execute_result"
    },
    {
     "data": {
      "text/plain": [
       "[9, 10, 19]"
      ]
     },
     "execution_count": 201,
     "metadata": {},
     "output_type": "execute_result"
    },
    {
     "data": {
      "text/plain": [
       "[9, 10, 19]"
      ]
     },
     "execution_count": 201,
     "metadata": {},
     "output_type": "execute_result"
    }
   ],
   "source": [
    "example_array = [10, 9, 19]\n",
    "\n",
    "sorted(example_array)\n",
    "heapSort(example_array)\n",
    "insertionSort(example_array)"
   ]
  },
  {
   "cell_type": "code",
   "execution_count": 203,
   "metadata": {},
   "outputs": [
    {
     "name": "stdout",
     "output_type": "stream",
     "text": [
      "1.35 ms ± 23.9 µs per loop (mean ± std. dev. of 7 runs, 1000 loops each)\n",
      "32.6 ms ± 755 µs per loop (mean ± std. dev. of 7 runs, 10 loops each)\n",
      "6.56 s ± 64.8 ms per loop (mean ± std. dev. of 7 runs, 1 loop each)\n"
     ]
    }
   ],
   "source": [
    "example_array = list(range(2019)) + list(range(2019))  # twice the numbers from 0 to 2018\n",
    "random.shuffle(example_array)\n",
    "\n",
    "%timeit sorted(example_array)\n",
    "%timeit heapSort(example_array)\n",
    "%timeit insertionSort(example_array)"
   ]
  },
  {
   "cell_type": "markdown",
   "metadata": {},
   "source": [
    "## Test numérique de l'efficacité du tri par tas"
   ]
  },
  {
   "cell_type": "code",
   "execution_count": 160,
   "metadata": {},
   "outputs": [],
   "source": [
    "import matplotlib as mpl\n",
    "mpl.rcParams['figure.figsize'] = (10, 7)\n",
    "mpl.rcParams['figure.dpi'] = 120\n",
    "\n",
    "import seaborn as sns\n",
    "sns.set(context=\"notebook\", style=\"whitegrid\", palette=\"hls\", font=\"sans-serif\", font_scale=1.1)\n",
    "\n",
    "import matplotlib.pyplot as plt"
   ]
  },
  {
   "cell_type": "code",
   "execution_count": 145,
   "metadata": {},
   "outputs": [],
   "source": [
    "import random\n",
    "random.seed(1234)"
   ]
  },
  {
   "cell_type": "markdown",
   "metadata": {},
   "source": [
    "On va générer des tableaux aléatoires :"
   ]
  },
  {
   "cell_type": "code",
   "execution_count": 146,
   "metadata": {},
   "outputs": [],
   "source": [
    "def random_array_of_int(max_int=10000, length=1000):\n",
    "    return [ random.randint(0, max_int) for _ in range(length) ]"
   ]
  },
  {
   "cell_type": "code",
   "execution_count": 147,
   "metadata": {},
   "outputs": [
    {
     "data": {
      "text/plain": [
       "[14, 3, 0, 2, 18, 1, 2, 3, 11, 7]"
      ]
     },
     "execution_count": 147,
     "metadata": {},
     "output_type": "execute_result"
    }
   ],
   "source": [
    "random_array_of_int(max_int=20, length=10)"
   ]
  },
  {
   "cell_type": "markdown",
   "metadata": {},
   "source": [
    "On peut facilement mesurer le temps d'exécution d'une fontion de tri, sur des tableaux aléatoires"
   ]
  },
  {
   "cell_type": "code",
   "execution_count": 171,
   "metadata": {},
   "outputs": [],
   "source": [
    "import timeit"
   ]
  },
  {
   "cell_type": "code",
   "execution_count": 215,
   "metadata": {},
   "outputs": [],
   "source": [
    "try:\n",
    "    from tqdm import tqdm_notebook\n",
    "except ImportError:\n",
    "    def tqdm_notebook(iterator): return iterator"
   ]
  },
  {
   "cell_type": "code",
   "execution_count": 216,
   "metadata": {},
   "outputs": [],
   "source": [
    "def time_a_sort_function(sort_function, sort_function_name, values_n, number=1000, max_int=1000000):\n",
    "    return [ timeit.timeit(\"{}(random_array_of_int(max_int={}, length={}))\".format(sort_function_name, max_int, n),\n",
    "              globals={\n",
    "                  'random_array_of_int': random_array_of_int,\n",
    "                  sort_function_name: sort_function,\n",
    "              },\n",
    "              number=number,\n",
    "    ) for n in tqdm_notebook(values_n) ]"
   ]
  },
  {
   "cell_type": "markdown",
   "metadata": {},
   "source": [
    "Comparons notre tri par tas avec la fonction `sorted()` de Python :"
   ]
  },
  {
   "cell_type": "code",
   "execution_count": 228,
   "metadata": {},
   "outputs": [],
   "source": [
    "small_values_n = [10, 100, 500] + list(range(1000, 5000, 1000))\n",
    "big_values_n = list(range(6000, 100000, 2000))\n",
    "\n",
    "values_n = small_values_n + big_values_n"
   ]
  },
  {
   "cell_type": "code",
   "execution_count": 229,
   "metadata": {},
   "outputs": [
    {
     "data": {
      "application/vnd.jupyter.widget-view+json": {
       "model_id": "038a808e883447f29c7d1ac0b392a0d3",
       "version_major": 2,
       "version_minor": 0
      },
      "text/plain": [
       "HBox(children=(IntProgress(value=0, max=54), HTML(value='')))"
      ]
     },
     "metadata": {},
     "output_type": "display_data"
    }
   ],
   "source": [
    "times_sorted = time_a_sort_function(sorted, \"sorted\", values_n, number=20)"
   ]
  },
  {
   "cell_type": "code",
   "execution_count": 230,
   "metadata": {},
   "outputs": [
    {
     "data": {
      "application/vnd.jupyter.widget-view+json": {
       "model_id": "3151f3436ad948f79765fcfb5cb64831",
       "version_major": 2,
       "version_minor": 0
      },
      "text/plain": [
       "HBox(children=(IntProgress(value=0, max=54), HTML(value='')))"
      ]
     },
     "metadata": {},
     "output_type": "display_data"
    }
   ],
   "source": [
    "times_heapSort = time_a_sort_function(heapSort, \"heapSort\", values_n, number=20)"
   ]
  },
  {
   "cell_type": "code",
   "execution_count": 226,
   "metadata": {},
   "outputs": [
    {
     "data": {
      "application/vnd.jupyter.widget-view+json": {
       "model_id": "3191d73e3295402c9256a8e48a55fcde",
       "version_major": 2,
       "version_minor": 0
      },
      "text/plain": [
       "HBox(children=(IntProgress(value=0, max=7), HTML(value='')))"
      ]
     },
     "metadata": {},
     "output_type": "display_data"
    }
   ],
   "source": [
    "times_insertionSort = time_a_sort_function(insertionSort, \"insertionSort\", small_values_n, number=20)"
   ]
  },
  {
   "cell_type": "code",
   "execution_count": 232,
   "metadata": {},
   "outputs": [
    {
     "data": {
      "text/plain": [
       "<Figure size 1200x840 with 0 Axes>"
      ]
     },
     "execution_count": 232,
     "metadata": {},
     "output_type": "execute_result"
    },
    {
     "data": {
      "text/plain": [
       "Text(0.5, 0, \"Taille du tableau d'entrée $n$\")"
      ]
     },
     "execution_count": 232,
     "metadata": {},
     "output_type": "execute_result"
    },
    {
     "data": {
      "text/plain": [
       "Text(0, 0.5, 'Temps en secondes')"
      ]
     },
     "execution_count": 232,
     "metadata": {},
     "output_type": "execute_result"
    },
    {
     "data": {
      "text/plain": [
       "Text(0.5, 1.0, 'Comparaison des tris builtin, par tas ou par insertion')"
      ]
     },
     "execution_count": 232,
     "metadata": {},
     "output_type": "execute_result"
    },
    {
     "data": {
      "text/plain": [
       "[<matplotlib.lines.Line2D at 0x7ff4f129c160>]"
      ]
     },
     "execution_count": 232,
     "metadata": {},
     "output_type": "execute_result"
    },
    {
     "data": {
      "text/plain": [
       "[<matplotlib.lines.Line2D at 0x7ff4f135b940>]"
      ]
     },
     "execution_count": 232,
     "metadata": {},
     "output_type": "execute_result"
    },
    {
     "data": {
      "text/plain": [
       "[<matplotlib.lines.Line2D at 0x7ff4f1495048>]"
      ]
     },
     "execution_count": 232,
     "metadata": {},
     "output_type": "execute_result"
    },
    {
     "data": {
      "text/plain": [
       "<matplotlib.legend.Legend at 0x7ff4f14955f8>"
      ]
     },
     "execution_count": 232,
     "metadata": {},
     "output_type": "execute_result"
    },
    {
     "data": {
      "image/png": "[encoded data removed]",
      "text/plain": [
       "<Figure size 1200x840 with 1 Axes>"
      ]
     },
     "metadata": {},
     "output_type": "display_data"
    }
   ],
   "source": [
    "plt.figure()\n",
    "plt.xlabel(\"Taille du tableau d'entrée $n$\")\n",
    "plt.ylabel(\"Temps en secondes\")\n",
    "plt.title(\"Comparaison des tris builtin, par tas ou par insertion\")\n",
    "plt.plot(values_n, times_sorted, \"d-\", label=\"Builtin\", lw=5, ms=12)\n",
    "plt.plot(values_n, times_heapSort, \"o-\", label=\"Par tas\", lw=5, ms=12)\n",
    "plt.plot(small_values_n, times_insertionSort, \">-\", label=\"Par insertion\", lw=5, ms=12)\n",
    "plt.legend()\n",
    "plt.show()"
   ]
  },
  {
   "cell_type": "markdown",
   "metadata": {},
   "source": [
    "Attention : Trier des nombres tout petit peut être effectué en temps linéaire (*bin sort*) :"
   ]
  },
  {
   "cell_type": "code",
   "execution_count": 136,
   "metadata": {},
   "outputs": [
    {
     "name": "stdout",
     "output_type": "stream",
     "text": [
      "133 µs ± 9.34 µs per loop (mean ± std. dev. of 7 runs, 10000 loops each)\n",
      "1.29 ms ± 34.9 µs per loop (mean ± std. dev. of 7 runs, 1000 loops each)\n",
      "1.25 ms ± 53.5 µs per loop (mean ± std. dev. of 7 runs, 1000 loops each)\n",
      "13.3 ms ± 912 µs per loop (mean ± std. dev. of 7 runs, 100 loops each)\n"
     ]
    }
   ],
   "source": [
    "%timeit sorted(random_array_of_int(max_int=10, length=100))\n",
    "%timeit sorted(random_array_of_int(max_int=10, length=1000))\n",
    "%timeit sorted(random_array_of_int(max_int=10, length=10000))"
   ]
  },
  {
   "cell_type": "code",
   "execution_count": 148,
   "metadata": {},
   "outputs": [
    {
     "name": "stdout",
     "output_type": "stream",
     "text": [
      "142 µs ± 16.7 µs per loop (mean ± std. dev. of 7 runs, 10000 loops each)\n",
      "1.32 ms ± 74 µs per loop (mean ± std. dev. of 7 runs, 1000 loops each)\n",
      "12.8 ms ± 307 µs per loop (mean ± std. dev. of 7 runs, 100 loops each)\n"
     ]
    }
   ],
   "source": [
    "%timeit sorted(random_array_of_int(max_int=1000, length=100))\n",
    "%timeit sorted(random_array_of_int(max_int=1000, length=1000))\n",
    "%timeit sorted(random_array_of_int(max_int=1000, length=10000))"
   ]
  }
 ],
 "metadata": {
  "kernelspec": {
   "display_name": "Python 3",
   "language": "python",
   "name": "python3"
  },
  "language_info": {
   "codemirror_mode": {
    "name": "ipython",
    "version": 3
   },
   "file_extension": ".py",
   "mimetype": "text/x-python",
   "name": "python",
   "nbconvert_exporter": "python",
   "pygments_lexer": "ipython3",
   "version": "3.6.8"
  },
  "toc": {
   "colors": {
    "hover_highlight": "#DAA520",
    "running_highlight": "#FF0000",
    "selected_highlight": "#FFD700"
   },
   "moveMenuLeft": true,
   "nav_menu": {
    "height": "320.583px",
    "width": "251.5px"
   },
   "navigate_menu": true,
   "number_sections": true,
   "sideBar": false,
   "threshold": 4,
   "toc_cell": true,
   "toc_position": {
    "height": "368.717px",
    "left": "1176.25px",
    "right": "20px",
    "top": "70px",
    "width": "251.25px"
   },
   "toc_section_display": "block",
   "toc_window_display": true
  },
  "varInspector": {
   "cols": {
    "lenName": 16,
    "lenType": 16,
    "lenVar": 40
   },
   "kernels_config": {
    "python": {
     "delete_cmd_postfix": "",
     "delete_cmd_prefix": "del ",
     "library": "var_list.py",
     "varRefreshCmd": "print(var_dic_list())"
    },
    "r": {
     "delete_cmd_postfix": ") ",
     "delete_cmd_prefix": "rm(",
     "library": "var_list.r",
     "varRefreshCmd": "cat(var_dic_list()) "
    }
   },
   "position": {
    "height": "247.85px",
    "left": "956.5px",
    "right": "20px",
    "top": "475px",
    "width": "470.5px"
   },
   "types_to_exclude": [
    "module",
    "function",
    "builtin_function_or_method",
    "instance",
    "_Feature"
   ],
   "window_display": false
  }
 },
 "nbformat": 4,
 "nbformat_minor": 2
}
