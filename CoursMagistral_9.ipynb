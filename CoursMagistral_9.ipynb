{
 "cells": [
  {
   "cell_type": "markdown",
   "metadata": {
    "toc": "true"
   },
   "source": [
    "# Table of Contents\n",
    " <p><div class=\"lev1 toc-item\"><a href=\"#ALGO1-:-Introduction-à-l'algorithmique\" data-toc-modified-id=\"ALGO1-:-Introduction-à-l'algorithmique-1\"><span class=\"toc-item-num\">1&nbsp;&nbsp;</span><a href=\"https://perso.crans.org/besson/teach/info1_algo1_2019/\" target=\"_blank\">ALGO1 : Introduction à l'algorithmique</a></a></div><div class=\"lev1 toc-item\"><a href=\"#Cours-Magistral-9\" data-toc-modified-id=\"Cours-Magistral-9-2\"><span class=\"toc-item-num\">2&nbsp;&nbsp;</span>Cours Magistral 9</a></div><div class=\"lev2 toc-item\"><a href=\"#Documentation-de-scipy.opt.linprog\" data-toc-modified-id=\"Documentation-de-scipy.opt.linprog-21\"><span class=\"toc-item-num\">2.1&nbsp;&nbsp;</span>Documentation de <code>scipy.opt.linprog</code></a></div><div class=\"lev2 toc-item\"><a href=\"#Fonction-de-débogage\" data-toc-modified-id=\"Fonction-de-débogage-22\"><span class=\"toc-item-num\">2.2&nbsp;&nbsp;</span>Fonction de débogage</a></div><div class=\"lev2 toc-item\"><a href=\"#Premier-exemple\" data-toc-modified-id=\"Premier-exemple-23\"><span class=\"toc-item-num\">2.3&nbsp;&nbsp;</span>Premier exemple</a></div><div class=\"lev2 toc-item\"><a href=\"#Second-exemple\" data-toc-modified-id=\"Second-exemple-24\"><span class=\"toc-item-num\">2.4&nbsp;&nbsp;</span>Second exemple</a></div><div class=\"lev3 toc-item\"><a href=\"#Essayons-avec-différentes-méthodes-de-résolution-:\" data-toc-modified-id=\"Essayons-avec-différentes-méthodes-de-résolution-:-241\"><span class=\"toc-item-num\">2.4.1&nbsp;&nbsp;</span>Essayons avec différentes méthodes de résolution :</a></div><div class=\"lev4 toc-item\"><a href=\"#Avec-la-méthode-du-simplexe\" data-toc-modified-id=\"Avec-la-méthode-du-simplexe-2411\"><span class=\"toc-item-num\">2.4.1.1&nbsp;&nbsp;</span>Avec la méthode du simplexe</a></div><div class=\"lev4 toc-item\"><a href=\"#Avec-la-méthode-du-simplexe\" data-toc-modified-id=\"Avec-la-méthode-du-simplexe-2412\"><span class=\"toc-item-num\">2.4.1.2&nbsp;&nbsp;</span>Avec la méthode du simplexe</a></div><div class=\"lev2 toc-item\"><a href=\"#Bonus-:-implémentation-manuelle-de-l'algorithme-du-simplexe\" data-toc-modified-id=\"Bonus-:-implémentation-manuelle-de-l'algorithme-du-simplexe-25\"><span class=\"toc-item-num\">2.5&nbsp;&nbsp;</span>Bonus : implémentation manuelle de l'algorithme du simplexe</a></div><div class=\"lev3 toc-item\"><a href=\"#Algorithme\" data-toc-modified-id=\"Algorithme-251\"><span class=\"toc-item-num\">2.5.1&nbsp;&nbsp;</span>Algorithme</a></div><div class=\"lev3 toc-item\"><a href=\"#Conversion-en-forme-standard\" data-toc-modified-id=\"Conversion-en-forme-standard-252\"><span class=\"toc-item-num\">2.5.2&nbsp;&nbsp;</span>Conversion en forme standard</a></div><div class=\"lev3 toc-item\"><a href=\"#Utilitaires-pour-les-matrices\" data-toc-modified-id=\"Utilitaires-pour-les-matrices-253\"><span class=\"toc-item-num\">2.5.3&nbsp;&nbsp;</span>Utilitaires pour les matrices</a></div><div class=\"lev3 toc-item\"><a href=\"#L'algorithme-du-simplexe\" data-toc-modified-id=\"L'algorithme-du-simplexe-254\"><span class=\"toc-item-num\">2.5.4&nbsp;&nbsp;</span>L'algorithme du simplexe</a></div><div class=\"lev3 toc-item\"><a href=\"#Un-premier-exemple\" data-toc-modified-id=\"Un-premier-exemple-255\"><span class=\"toc-item-num\">2.5.5&nbsp;&nbsp;</span>Un premier exemple</a></div><div class=\"lev3 toc-item\"><a href=\"#Tests\" data-toc-modified-id=\"Tests-256\"><span class=\"toc-item-num\">2.5.6&nbsp;&nbsp;</span>Tests</a></div><div class=\"lev2 toc-item\"><a href=\"#Conclusion\" data-toc-modified-id=\"Conclusion-26\"><span class=\"toc-item-num\">2.6&nbsp;&nbsp;</span>Conclusion</a></div>"
   ]
  },
  {
   "cell_type": "markdown",
   "metadata": {},
   "source": [
    "# [ALGO1 : Introduction à l'algorithmique](https://perso.crans.org/besson/teach/info1_algo1_2019/)\n",
    "\n",
    "- [Page du cours](https://perso.crans.org/besson/teach/info1_algo1_2019/) : https://perso.crans.org/besson/teach/info1_algo1_2019/\n",
    "- Magistère d'Informatique de Rennes - ENS Rennes - Année 2019/2020\n",
    "- Intervenants :\n",
    "  + Cours : [Lilian Besson](https://perso.crans.org/besson/)\n",
    "  + Travaux dirigés : [Raphaël Truffet](http://perso.eleves.ens-rennes.fr/people/Raphael.Truffet/)\n",
    "- Références :\n",
    "  + [Open Data Structures](http://opendatastructures.org/ods-python.pdf)"
   ]
  },
  {
   "cell_type": "markdown",
   "metadata": {},
   "source": [
    "# Cours Magistral 9\n",
    "\n",
    "- Ce cours traite de programmation linéaire.\n",
    "\n",
    "- On va illustrer deux programmes linéaires résolus avec la fonction `scipy.optimize.linprog`."
   ]
  },
  {
   "cell_type": "code",
   "execution_count": 1,
   "metadata": {},
   "outputs": [],
   "source": [
    "import numpy as np\n",
    "\n",
    "import matplotlib.pyplot as plt\n",
    "\n",
    "import scipy.optimize as opt"
   ]
  },
  {
   "cell_type": "markdown",
   "metadata": {},
   "source": [
    "## Documentation de `scipy.opt.linprog`"
   ]
  },
  {
   "cell_type": "code",
   "execution_count": 2,
   "metadata": {},
   "outputs": [
    {
     "name": "stdout",
     "output_type": "stream",
     "text": [
      "Help on function linprog in module scipy.optimize._linprog:\n",
      "\n",
      "linprog(c, A_ub=None, b_ub=None, A_eq=None, b_eq=None, bounds=None, method='interior-point', callback=None, options=None, x0=None)\n",
      "    Linear programming: minimize a linear objective function subject to linear\n",
      "    equality and inequality constraints.\n",
      "    \n",
      "    Linear programming solves problems of the following form:\n",
      "    \n",
      "    .. math::\n",
      "    \n",
      "        \\min_x \\ & c^T x \\\\\n",
      "        \\mbox{such that} \\ & A_{ub} x \\leq b_{ub},\\\\\n",
      "        & A_{eq} x = b_{eq},\\\\\n",
      "        & l \\leq x \\leq u ,\n",
      "    \n",
      "    where :math:`x` is a vector of decision variables; :math:`c`,\n",
      "    :math:`b_{ub}`, :math:`b_{eq}`, :math:`l`, and :math:`u` are vectors; and\n",
      "    :math:`A_{ub}` and :math:`A_{eq}` are matrices.\n",
      "    \n",
      "    Informally, that's:\n",
      "    \n",
      "    minimize::\n",
      "    \n",
      "        c @ x\n",
      "    \n",
      "    such that::\n",
      "    \n",
      "        A_ub @ x <= b_ub\n",
      "        A_eq @ x == b_eq\n",
      "        lb <= x <= ub\n",
      "    \n",
      "    Note that by default ``lb = 0`` and ``ub = None`` unless specified with\n",
      "    ``bounds``.\n",
      "    \n",
      "    Parameters\n",
      "    ----------\n",
      "    c : 1D array\n",
      "        The coefficients of the linear objective function to be minimized.\n",
      "    A_ub : 2D array, optional\n",
      "        The inequality constraint matrix. Each row of ``A_ub`` specifies the\n",
      "        coefficients of a linear inequality constraint on ``x``.\n",
      "    b_ub : 1D array, optional\n",
      "        The inequality constraint vector. Each element represents an\n",
      "        upper bound on the corresponding value of ``A_ub @ x``.\n",
      "    A_eq : 2D array, optional\n",
      "        The equality constraint matrix. Each row of ``A_eq`` specifies the\n",
      "        coefficients of a linear equality constraint on ``x``.\n",
      "    b_eq : 1D array, optional\n",
      "        The equality constraint vector. Each element of ``A_eq @ x`` must equal\n",
      "        the corresponding element of ``b_eq``.\n",
      "    bounds : sequence, optional\n",
      "        A sequence of ``(min, max)`` pairs for each element in ``x``, defining\n",
      "        the minimum and maximum values of that decision variable. Use ``None`` to\n",
      "        indicate that there is no bound. By default, bounds are ``(0, None)``\n",
      "        (all decision variables are non-negative).\n",
      "        If a single tuple ``(min, max)`` is provided, then ``min`` and\n",
      "        ``max`` will serve as bounds for all decision variables.\n",
      "    method : {'interior-point', 'revised simplex', 'simplex'}, optional\n",
      "        The algorithm used to solve the standard form problem.\n",
      "        :ref:`'interior-point' <optimize.linprog-interior-point>` (default),\n",
      "        :ref:`'revised simplex' <optimize.linprog-revised_simplex>`, and\n",
      "        :ref:`'simplex' <optimize.linprog-simplex>` (legacy)\n",
      "        are supported.\n",
      "    callback : callable, optional\n",
      "        If a callback function is provided, it will be called at least once per\n",
      "        iteration of the algorithm. The callback function must accept a single\n",
      "        `scipy.optimize.OptimizeResult` consisting of the following fields:\n",
      "    \n",
      "            x : 1D array\n",
      "                The current solution vector.\n",
      "            fun : float\n",
      "                The current value of the objective function ``c @ x``.\n",
      "            success : bool\n",
      "                ``True`` when the algorithm has completed successfully.\n",
      "            slack : 1D array\n",
      "                The (nominally positive) values of the slack,\n",
      "                ``b_ub - A_ub @ x``.\n",
      "            con : 1D array\n",
      "                The (nominally zero) residuals of the equality constraints,\n",
      "                ``b_eq - A_eq @ x``.\n",
      "            phase : int\n",
      "                The phase of the algorithm being executed.\n",
      "            status : int\n",
      "                An integer representing the status of the algorithm.\n",
      "    \n",
      "                ``0`` : Optimization proceeding nominally.\n",
      "    \n",
      "                ``1`` : Iteration limit reached.\n",
      "    \n",
      "                ``2`` : Problem appears to be infeasible.\n",
      "    \n",
      "                ``3`` : Problem appears to be unbounded.\n",
      "    \n",
      "                ``4`` : Numerical difficulties encountered.\n",
      "    \n",
      "            nit : int\n",
      "                The current iteration number.\n",
      "            message : str\n",
      "                A string descriptor of the algorithm status.\n",
      "    \n",
      "    options : dict, optional\n",
      "        A dictionary of solver options. All methods accept the following\n",
      "        options:\n",
      "    \n",
      "            maxiter : int\n",
      "                Maximum number of iterations to perform.\n",
      "            disp : bool\n",
      "                Set to ``True`` to print convergence messages.\n",
      "    \n",
      "        For method-specific options, see\n",
      "        :func:`show_options('linprog') <show_options>`.\n",
      "    \n",
      "    x0 : 1D array, optional\n",
      "        Guess values of the decision variables, which will be refined by\n",
      "        the optimization algorithm. This argument is currently used only by the\n",
      "        'revised simplex' method, and can only be used if `x0` represents a\n",
      "        basic feasible solution.\n",
      "    \n",
      "    \n",
      "    Returns\n",
      "    -------\n",
      "    res : OptimizeResult\n",
      "        A :class:`scipy.optimize.OptimizeResult` consisting of the fields:\n",
      "    \n",
      "            x : 1D array\n",
      "                The values of the decision variables that minimizes the\n",
      "                objective function while satisfying the constraints.\n",
      "            fun : float\n",
      "                The optimal value of the objective function ``c @ x``.\n",
      "            slack : 1D array\n",
      "                The (nominally positive) values of the slack variables,\n",
      "                ``b_ub - A_ub @ x``.\n",
      "            con : 1D array\n",
      "                The (nominally zero) residuals of the equality constraints,\n",
      "                ``b_eq - A_eq @ x``.\n",
      "            success : bool\n",
      "                ``True`` when the algorithm succeeds in finding an optimal\n",
      "                solution.\n",
      "            status : int\n",
      "                An integer representing the exit status of the algorithm.\n",
      "    \n",
      "                ``0`` : Optimization terminated successfully.\n",
      "    \n",
      "                ``1`` : Iteration limit reached.\n",
      "    \n",
      "                ``2`` : Problem appears to be infeasible.\n",
      "    \n",
      "                ``3`` : Problem appears to be unbounded.\n",
      "    \n",
      "                ``4`` : Numerical difficulties encountered.\n",
      "    \n",
      "            nit : int\n",
      "                The total number of iterations performed in all phases.\n",
      "            message : str\n",
      "                A string descriptor of the exit status of the algorithm.\n",
      "    \n",
      "    See Also\n",
      "    --------\n",
      "    show_options : Additional options accepted by the solvers.\n",
      "    \n",
      "    Notes\n",
      "    -----\n",
      "    This section describes the available solvers that can be selected by the\n",
      "    'method' parameter.\n",
      "    \n",
      "    :ref:`'interior-point' <optimize.linprog-interior-point>` is the default\n",
      "    as it is typically the fastest and most robust method.\n",
      "    :ref:`'revised simplex' <optimize.linprog-revised_simplex>` is more\n",
      "    accurate for the problems it solves.\n",
      "    :ref:`'simplex' <optimize.linprog-simplex>` is the legacy method and is\n",
      "    included for backwards compatibility and educational purposes.\n",
      "    \n",
      "    Method *interior-point* uses the primal-dual path following algorithm\n",
      "    as outlined in [4]_. This algorithm supports sparse constraint matrices and\n",
      "    is typically faster than the simplex methods, especially for large, sparse\n",
      "    problems. Note, however, that the solution returned may be slightly less\n",
      "    accurate than those of the simplex methods and will not, in general,\n",
      "    correspond with a vertex of the polytope defined by the constraints.\n",
      "    \n",
      "    .. versionadded:: 1.0.0\n",
      "    \n",
      "    Method *revised simplex* uses the revised simplex method as decribed in\n",
      "    [9]_, except that a factorization [11]_ of the basis matrix, rather than\n",
      "    its inverse, is efficiently maintained and used to solve the linear systems\n",
      "    at each iteration of the algorithm.\n",
      "    \n",
      "    .. versionadded:: 1.3.0\n",
      "    \n",
      "    Method *simplex* uses a traditional, full-tableau implementation of\n",
      "    Dantzig's simplex algorithm [1]_, [2]_ (*not* the\n",
      "    Nelder-Mead simplex). This algorithm is included for backwards\n",
      "    compatibility and educational purposes.\n",
      "    \n",
      "    .. versionadded:: 0.15.0\n",
      "    \n",
      "    Before applying any method, a presolve procedure based on [8]_ attempts\n",
      "    to identify trivial infeasibilities, trivial unboundedness, and potential\n",
      "    problem simplifications. Specifically, it checks for:\n",
      "    \n",
      "    - rows of zeros in ``A_eq`` or ``A_ub``, representing trivial constraints;\n",
      "    - columns of zeros in ``A_eq`` `and` ``A_ub``, representing unconstrained\n",
      "      variables;\n",
      "    - column singletons in ``A_eq``, representing fixed variables; and\n",
      "    - column singletons in ``A_ub``, representing simple bounds.\n",
      "    \n",
      "    If presolve reveals that the problem is unbounded (e.g. an unconstrained\n",
      "    and unbounded variable has negative cost) or infeasible (e.g. a row of\n",
      "    zeros in ``A_eq`` corresponds with a nonzero in ``b_eq``), the solver\n",
      "    terminates with the appropriate status code. Note that presolve terminates\n",
      "    as soon as any sign of unboundedness is detected; consequently, a problem\n",
      "    may be reported as unbounded when in reality the problem is infeasible\n",
      "    (but infeasibility has not been detected yet). Therefore, if it is\n",
      "    important to know whether the problem is actually infeasible, solve the\n",
      "    problem again with option ``presolve=False``.\n",
      "    \n",
      "    If neither infeasibility nor unboundedness are detected in a single pass\n",
      "    of the presolve, bounds are tightened where possible and fixed\n",
      "    variables are removed from the problem. Then, linearly dependent rows\n",
      "    of the ``A_eq`` matrix are removed, (unless they represent an\n",
      "    infeasibility) to avoid numerical difficulties in the primary solve\n",
      "    routine. Note that rows that are nearly linearly dependent (within a\n",
      "    prescribed tolerance) may also be removed, which can change the optimal\n",
      "    solution in rare cases. If this is a concern, eliminate redundancy from\n",
      "    your problem formulation and run with option ``rr=False`` or\n",
      "    ``presolve=False``.\n",
      "    \n",
      "    Several potential improvements can be made here: additional presolve\n",
      "    checks outlined in [8]_ should be implemented, the presolve routine should\n",
      "    be run multiple times (until no further simplifications can be made), and\n",
      "    more of the efficiency improvements from [5]_ should be implemented in the\n",
      "    redundancy removal routines.\n",
      "    \n",
      "    After presolve, the problem is transformed to standard form by converting\n",
      "    the (tightened) simple bounds to upper bound constraints, introducing\n",
      "    non-negative slack variables for inequality constraints, and expressing\n",
      "    unbounded variables as the difference between two non-negative variables.\n",
      "    The selected algorithm solves the standard form problem, and a\n",
      "    postprocessing routine converts this to a solution to the original problem.\n",
      "    \n",
      "    References\n",
      "    ----------\n",
      "    .. [1] Dantzig, George B., Linear programming and extensions. Rand\n",
      "           Corporation Research Study Princeton Univ. Press, Princeton, NJ,\n",
      "           1963\n",
      "    .. [2] Hillier, S.H. and Lieberman, G.J. (1995), \"Introduction to\n",
      "           Mathematical Programming\", McGraw-Hill, Chapter 4.\n",
      "    .. [3] Bland, Robert G. New finite pivoting rules for the simplex method.\n",
      "           Mathematics of Operations Research (2), 1977: pp. 103-107.\n",
      "    .. [4] Andersen, Erling D., and Knud D. Andersen. \"The MOSEK interior point\n",
      "           optimizer for linear programming: an implementation of the\n",
      "           homogeneous algorithm.\" High performance optimization. Springer US,\n",
      "           2000. 197-232.\n",
      "    .. [5] Andersen, Erling D. \"Finding all linearly dependent rows in\n",
      "           large-scale linear programming.\" Optimization Methods and Software\n",
      "           6.3 (1995): 219-227.\n",
      "    .. [6] Freund, Robert M. \"Primal-Dual Interior-Point Methods for Linear\n",
      "           Programming based on Newton's Method.\" Unpublished Course Notes,\n",
      "           March 2004. Available 2/25/2017 at\n",
      "           https://ocw.mit.edu/courses/sloan-school-of-management/15-084j-nonlinear-programming-spring-2004/lecture-notes/lec14_int_pt_mthd.pdf\n",
      "    .. [7] Fourer, Robert. \"Solving Linear Programs by Interior-Point Methods.\"\n",
      "           Unpublished Course Notes, August 26, 2005. Available 2/25/2017 at\n",
      "           http://www.4er.org/CourseNotes/Book%20B/B-III.pdf\n",
      "    .. [8] Andersen, Erling D., and Knud D. Andersen. \"Presolving in linear\n",
      "           programming.\" Mathematical Programming 71.2 (1995): 221-245.\n",
      "    .. [9] Bertsimas, Dimitris, and J. Tsitsiklis. \"Introduction to linear\n",
      "           programming.\" Athena Scientific 1 (1997): 997.\n",
      "    .. [10] Andersen, Erling D., et al. Implementation of interior point\n",
      "            methods for large scale linear programming. HEC/Universite de\n",
      "            Geneve, 1996.\n",
      "    .. [11] Bartels, Richard H. \"A stabilization of the simplex method.\"\n",
      "            Journal in  Numerische Mathematik 16.5 (1971): 414-434.\n",
      "    \n",
      "    Examples\n",
      "    --------\n",
      "    Consider the following problem:\n",
      "    \n",
      "    .. math::\n",
      "    \n",
      "        \\min_{x_0, x_1} \\ -x_0 + 4x_1 & \\\\\n",
      "        \\mbox{such that} \\ -3x_0 + x_1 & \\leq 6,\\\\\n",
      "        -x_0 - 2x_1 & \\geq -4,\\\\\n",
      "        x_1 & \\geq -3.\n",
      "    \n",
      "    The problem is not presented in the form accepted by `linprog`. This is\n",
      "    easily remedied by converting the \"greater than\" inequality\n",
      "    constraint to a \"less than\" inequality constraint by\n",
      "    multiplying both sides by a factor of :math:`-1`. Note also that the last\n",
      "    constraint is really the simple bound :math:`-3 \\leq x_1 \\leq \\infty`.\n",
      "    Finally, since there are no bounds on :math:`x_0`, we must explicitly\n",
      "    specify the bounds :math:`-\\infty \\leq x_0 \\leq \\infty`, as the\n",
      "    default is for variables to be non-negative. After collecting coeffecients\n",
      "    into arrays and tuples, the input for this problem is:\n",
      "    \n",
      "    >>> c = [-1, 4]\n",
      "    >>> A = [[-3, 1], [1, 2]]\n",
      "    >>> b = [6, 4]\n",
      "    >>> x0_bounds = (None, None)\n",
      "    >>> x1_bounds = (-3, None)\n",
      "    >>> from scipy.optimize import linprog\n",
      "    >>> res = linprog(c, A_ub=A, b_ub=b, bounds=[x0_bounds, x1_bounds])\n",
      "    \n",
      "    Note that the default method for `linprog` is 'interior-point', which is\n",
      "    approximate by nature.\n",
      "    \n",
      "    >>> print(res)\n",
      "         con: array([], dtype=float64)\n",
      "         fun: -21.99999984082494 # may vary\n",
      "     message: 'Optimization terminated successfully.'\n",
      "         nit: 6 # may vary\n",
      "       slack: array([3.89999997e+01, 8.46872439e-08] # may vary\n",
      "      status: 0\n",
      "     success: True\n",
      "           x: array([ 9.99999989, -2.99999999]) # may vary\n",
      "    \n",
      "    If you need greater accuracy, try 'revised simplex'.\n",
      "    \n",
      "    >>> res = linprog(c, A_ub=A, b_ub=b, bounds=[x0_bounds, x1_bounds], method='revised simplex')\n",
      "    >>> print(res)\n",
      "         con: array([], dtype=float64)\n",
      "         fun: -22.0 # may vary\n",
      "     message: 'Optimization terminated successfully.'\n",
      "         nit: 1 # may vary\n",
      "       slack: array([39.,  0.]) # may vary\n",
      "      status: 0\n",
      "     success: True\n",
      "           x: array([10., -3.]) # may vary\n",
      "\n"
     ]
    }
   ],
   "source": [
    "help(opt.linprog)"
   ]
  },
  {
   "cell_type": "markdown",
   "metadata": {},
   "source": [
    "La programmation linéaire résout des problèmes de la forme suivante :\n",
    "\n",
    "$$\n",
    "\\begin{align}\n",
    "\\min_x \\ & c^T x \\\\\n",
    "\\mbox{such that} \\ & A_{ub} x \\leq b_{ub},\\\\\n",
    "& A_{eq} x = b_{eq},\\\\\n",
    "& l \\leq x \\leq u ,\n",
    "\\end{align}\n",
    "$$\n",
    "\n",
    "avec $x$ un vecteur de variables de décisions ; $c$, $b_{ub}$, $b_{eq}$, $l$, et $u$ sont des vecteurs ; $A_{ub}$ et $A_{eq}$ sont des matrices."
   ]
  },
  {
   "cell_type": "markdown",
   "metadata": {},
   "source": [
    "## Fonction de débogage"
   ]
  },
  {
   "cell_type": "code",
   "execution_count": 60,
   "metadata": {
    "code_folding": [
     2
    ]
   },
   "outputs": [],
   "source": [
    "def make_callback():\n",
    "    list_of_x, list_of_fun = [], []\n",
    "    def debug_callback(opt_res):\n",
    "        print(\"\\nA new optimization step gave:\")\n",
    "        print(f\"Current solution x = {opt_res.x}\")\n",
    "        list_of_x.append(opt_res.x)\n",
    "        print(f\"Current value of c @ x = {opt_res.fun}\")\n",
    "        list_of_fun.append(opt_res.fun)\n",
    "        print(f\"Success? = {opt_res.success}\")\n",
    "        print(f\"The (nominally positive) values of the slack, b_ub - A_ub @ x. = {opt_res.slack}\")\n",
    "        print(f\"The (nominally zero) residuals of the equality constraints, b_eq - A_eq @ x. = {opt_res.con}\")\n",
    "        print(f\"Algorithm in phase {opt_res.phase}\")\n",
    "        print(f\"Algorithm in iteration number {opt_res.nit}\")\n",
    "        status = {\n",
    "            0: \"Optimization proceeding nominally.\",\n",
    "            1: \"Iteration limit reached.\",\n",
    "            2: \"Problem appears to be infeasible.\",\n",
    "            3: \"Problem appears to be unbounded.\",\n",
    "            4: \"Numerical difficulties encountered.\",\n",
    "        }\n",
    "        print(f\"Algorithm status {status[opt_res.status]}\")\n",
    "        if opt_res.message: print(f\"Algorithm message: {opt_res.message}\")\n",
    "    return list_of_x, list_of_fun, debug_callback"
   ]
  },
  {
   "cell_type": "markdown",
   "metadata": {},
   "source": [
    "## Premier exemple\n",
    "\n",
    "On va suivre l'exemple détaillé en cours :\n",
    "\n",
    "- Variables\n",
    "  + $x$ nombre de tables fabriquées par semaine,\n",
    "  + $y$ nombre de chaises fabriquées par semaine.\n",
    "\n",
    "- Objectif :\n",
    "  + maximiser $30x + 10y$.\n",
    "\n",
    "- Contraintes :\n",
    "  + heures de travail : $6x+3y \\leq 36$,\n",
    "  + demande : $y \\geq 3x$,\n",
    "  + stockage : $x + y/4 \\leq 4$,\n",
    "  + positivité : $x \\geq 0$,\n",
    "  + positivité : $y \\geq 0$."
   ]
  },
  {
   "cell_type": "markdown",
   "metadata": {},
   "source": [
    "Mise sous la forme requise par la fonction `linprog`, cela va donner :\n",
    "\n",
    "$$\n",
    "\\begin{align}\n",
    "\\min_{[x, y]} \\ & [-30, -10]^T [x, y] \\\\\n",
    "\\mbox{such that} \\ & \n",
    "    [\n",
    "        [6, 3], [-3, 1], [1, 1/4]\n",
    "    ]\n",
    "    [x, y]\n",
    "= [6x + 3y, y - 3x, x + y/4] \\leq [36, 0, 4],\\\\\n",
    "& [0, 0] \\leq [x, y] \\leq [+\\infty,+\\infty] ,\n",
    "\\end{align}\n",
    "$$"
   ]
  },
  {
   "cell_type": "markdown",
   "metadata": {},
   "source": [
    "Et donc avec Python cela sera :"
   ]
  },
  {
   "cell_type": "code",
   "execution_count": 83,
   "metadata": {},
   "outputs": [],
   "source": [
    "c = np.array([-30, -10])\n",
    "\n",
    "A_ub = np.array([[6, 3], [-3, 1], [1, 1/4]])\n",
    "b_ub = np.array([36, 0, 4])\n",
    "\n",
    "A_eq = None\n",
    "b_eq = None\n",
    "\n",
    "# all variables are bound to be in (0, +inf)\n",
    "bounds = (0, None)"
   ]
  },
  {
   "cell_type": "markdown",
   "metadata": {},
   "source": [
    "Objectif :"
   ]
  },
  {
   "cell_type": "code",
   "execution_count": 84,
   "metadata": {},
   "outputs": [],
   "source": [
    "import sympy\n",
    "x, y = sympy.var('x y')"
   ]
  },
  {
   "cell_type": "code",
   "execution_count": 85,
   "metadata": {},
   "outputs": [
    {
     "data": {
      "text/latex": [
       "$\\displaystyle - 30 x - 10 y$"
      ],
      "text/plain": [
       "-30*x - 10*y"
      ]
     },
     "execution_count": 85,
     "metadata": {},
     "output_type": "execute_result"
    }
   ],
   "source": [
    "c.T @ [x, y]"
   ]
  },
  {
   "cell_type": "markdown",
   "metadata": {},
   "source": [
    "Contraintes d'inéqualités :"
   ]
  },
  {
   "cell_type": "code",
   "execution_count": 86,
   "metadata": {},
   "outputs": [
    {
     "data": {
      "text/plain": [
       "array([6.0*x + 3.0*y, -3.0*x + 1.0*y, 1.0*x + 0.25*y], dtype=object)"
      ]
     },
     "execution_count": 86,
     "metadata": {},
     "output_type": "execute_result"
    }
   ],
   "source": [
    "A_ub @ [x, y]"
   ]
  },
  {
   "cell_type": "code",
   "execution_count": 87,
   "metadata": {},
   "outputs": [
    {
     "data": {
      "text/plain": [
       "array([36,  0,  4])"
      ]
     },
     "execution_count": 87,
     "metadata": {},
     "output_type": "execute_result"
    }
   ],
   "source": [
    "b_ub"
   ]
  },
  {
   "cell_type": "markdown",
   "metadata": {},
   "source": [
    "Essaysons avec différentes méthodes de résolution :"
   ]
  },
  {
   "cell_type": "code",
   "execution_count": 88,
   "metadata": {},
   "outputs": [
    {
     "name": "stdout",
     "output_type": "stream",
     "text": [
      "\n",
      "A new optimization step gave:\n",
      "Current solution x = [0. 0.]\n",
      "Current value of c @ x = 0.0\n",
      "Success? = False\n",
      "The (nominally positive) values of the slack, b_ub - A_ub @ x. = [36.  0.  4.]\n",
      "The (nominally zero) residuals of the equality constraints, b_eq - A_eq @ x. = []\n",
      "Algorithm in phase 1\n",
      "Algorithm in iteration number 0\n",
      "Algorithm status Optimization proceeding nominally.\n",
      "\n",
      "A new optimization step gave:\n",
      "Current solution x = [0. 0.]\n",
      "Current value of c @ x = 0.0\n",
      "Success? = False\n",
      "The (nominally positive) values of the slack, b_ub - A_ub @ x. = [36.  0.  4.]\n",
      "The (nominally zero) residuals of the equality constraints, b_eq - A_eq @ x. = []\n",
      "Algorithm in phase 1\n",
      "Algorithm in iteration number 1\n",
      "Algorithm status Optimization proceeding nominally.\n",
      "\n",
      "A new optimization step gave:\n",
      "Current solution x = [2.28571429 6.85714286]\n",
      "Current value of c @ x = -137.14285714285714\n",
      "Success? = False\n",
      "The (nominally positive) values of the slack, b_ub - A_ub @ x. = [1.71428571 0.         0.        ]\n",
      "The (nominally zero) residuals of the equality constraints, b_eq - A_eq @ x. = []\n",
      "Algorithm in phase 1\n",
      "Algorithm in iteration number 2\n",
      "Algorithm status Optimization proceeding nominally.\n",
      "\n",
      "A new optimization step gave:\n",
      "Current solution x = [2.28571429 6.85714286]\n",
      "Current value of c @ x = -137.14285714285714\n",
      "Success? = True\n",
      "The (nominally positive) values of the slack, b_ub - A_ub @ x. = [1.71428571 0.         0.        ]\n",
      "The (nominally zero) residuals of the equality constraints, b_eq - A_eq @ x. = []\n",
      "Algorithm in phase 1\n",
      "Algorithm in iteration number 3\n",
      "Algorithm status Optimization proceeding nominally.\n",
      "\n",
      "A new optimization step gave:\n",
      "Current solution x = [2.28571429 6.85714286]\n",
      "Current value of c @ x = -137.14285714285714\n",
      "Success? = True\n",
      "The (nominally positive) values of the slack, b_ub - A_ub @ x. = [1.71428571 0.         0.        ]\n",
      "The (nominally zero) residuals of the equality constraints, b_eq - A_eq @ x. = []\n",
      "Algorithm in phase 2\n",
      "Algorithm in iteration number 3\n",
      "Algorithm status Optimization proceeding nominally.\n"
     ]
    },
    {
     "data": {
      "text/plain": [
       "     con: array([], dtype=float64)\n",
       "     fun: -137.14285714285714\n",
       " message: 'Optimization terminated successfully.'\n",
       "     nit: 3\n",
       "   slack: array([1.71428571, 0.        , 0.        ])\n",
       "  status: 0\n",
       " success: True\n",
       "       x: array([2.28571429, 6.85714286])"
      ]
     },
     "execution_count": 88,
     "metadata": {},
     "output_type": "execute_result"
    }
   ],
   "source": [
    "opt.linprog(c,\n",
    "            A_ub=A_ub, b_ub=b_ub,\n",
    "            A_eq=A_eq, b_eq=b_eq,\n",
    "            bounds=bounds,\n",
    "            method=\"simplex\",\n",
    "            callback=debug_callback,\n",
    ")"
   ]
  },
  {
   "cell_type": "code",
   "execution_count": 89,
   "metadata": {},
   "outputs": [],
   "source": [
    "x_opt, y_opt = _.x"
   ]
  },
  {
   "cell_type": "markdown",
   "metadata": {},
   "source": [
    "La solution obtenue est donc $x = 2.28$ et $y = 6.85$, qui donnerait un profit maximal de $+137 €$ par semaine en respectant toutes les contraintes.\n",
    "\n",
    "Pour obtenir une solution entière, on essaie $x = 2, 3$ et $y = 6, 7$, ie. on arrondit en dessous et au dessus, et on prend la solution qui satisfait les contraintes et maximise l'objectif :"
   ]
  },
  {
   "cell_type": "code",
   "execution_count": 90,
   "metadata": {},
   "outputs": [
    {
     "data": {
      "text/plain": [
       "(2.2857142857142856, 6.857142857142857)"
      ]
     },
     "execution_count": 90,
     "metadata": {},
     "output_type": "execute_result"
    }
   ],
   "source": [
    "x_opt, y_opt"
   ]
  },
  {
   "cell_type": "code",
   "execution_count": 103,
   "metadata": {},
   "outputs": [],
   "source": [
    "import itertools"
   ]
  },
  {
   "cell_type": "code",
   "execution_count": 95,
   "metadata": {},
   "outputs": [
    {
     "name": "stdout",
     "output_type": "stream",
     "text": [
      "Pour (x, y) = (2.0, 6.0), l'objectif vaut -120.0, la contrainte vaut [ True  True  True]\n",
      "Pour (x, y) = (2.0, 7.0), l'objectif vaut -130.0, la contrainte vaut [ True False  True]\n",
      "Pour (x, y) = (3.0, 6.0), l'objectif vaut -150.0, la contrainte vaut [ True  True False]\n",
      "Pour (x, y) = (3.0, 7.0), l'objectif vaut -160.0, la contrainte vaut [False  True False]\n",
      "==> Donc on utilise la solution entière optimale = [2.0, 6.0]\n"
     ]
    }
   ],
   "source": [
    "sol = None\n",
    "min_obj = float(\"+inf\")\n",
    "\n",
    "for (x, y) in itertools.product(\n",
    "        [np.floor(x_opt), np.ceil(x_opt)],\n",
    "        [np.floor(y_opt), np.ceil(y_opt)],\n",
    "    ):\n",
    "    obj = c.T @ [x, y]\n",
    "    ctr = (A_ub @ [x, y]) <= b_ub\n",
    "    print(f\"Pour (x, y) = {x, y}, l'objectif vaut {obj}, la contrainte vaut {ctr}\")\n",
    "    if np.all(ctr) and obj < min_obj:\n",
    "        min_obj = obj\n",
    "        sol = [x, y]\n",
    "\n",
    "print(f\"==> Donc on utilise la solution entière optimale = {sol}\")"
   ]
  },
  {
   "cell_type": "markdown",
   "metadata": {},
   "source": [
    "La solution entière optimale à ce premier problème est donc de fabriquer $x=2$ tables et $y=6$ chaises chaque semaine."
   ]
  },
  {
   "cell_type": "markdown",
   "metadata": {},
   "source": [
    "## Second exemple"
   ]
  },
  {
   "cell_type": "markdown",
   "metadata": {},
   "source": [
    "<img src=\"figures/CM9_ensemble_admissible.png\">"
   ]
  },
  {
   "cell_type": "markdown",
   "metadata": {},
   "source": [
    "Mise sous la forme requise par la fonction `linprog`, cela va donner :\n",
    "\n",
    "$$\n",
    "\\begin{align}\n",
    "\\min_{[x, y]} \\ & [4, 3]^T [x, y] \\\\\n",
    "\\mbox{such that} \\ & \n",
    "    [\n",
    "        [-1, 4], [1, 1], [3, -1]\n",
    "    ]\n",
    "    [x, y]\n",
    "= [-x + 4y, x + y, 3x - y] \\leq [16, 9, 15],\\\\\n",
    "& [0, 0] \\leq [x, y] \\leq [+\\infty,+\\infty] ,\n",
    "\\end{align}\n",
    "$$"
   ]
  },
  {
   "cell_type": "markdown",
   "metadata": {},
   "source": [
    "Et donc avec Python cela sera :"
   ]
  },
  {
   "cell_type": "code",
   "execution_count": 54,
   "metadata": {},
   "outputs": [],
   "source": [
    "c = np.array([-4, -3])\n",
    "\n",
    "A_ub = np.array([[-1, 4], [1, 1], [3, -1]])\n",
    "b_ub = np.array([16, 9, 15])\n",
    "\n",
    "A_eq = None\n",
    "b_eq = None\n",
    "\n",
    "# all variables are bound to be in (0, +inf)\n",
    "bounds = (0, None)"
   ]
  },
  {
   "cell_type": "markdown",
   "metadata": {},
   "source": [
    "Objectif :"
   ]
  },
  {
   "cell_type": "code",
   "execution_count": 55,
   "metadata": {},
   "outputs": [],
   "source": [
    "import sympy\n",
    "x, y = sympy.var('x y')"
   ]
  },
  {
   "cell_type": "code",
   "execution_count": 56,
   "metadata": {},
   "outputs": [
    {
     "data": {
      "text/latex": [
       "$\\displaystyle - 4 x - 3 y$"
      ],
      "text/plain": [
       "-4*x - 3*y"
      ]
     },
     "execution_count": 56,
     "metadata": {},
     "output_type": "execute_result"
    }
   ],
   "source": [
    "c.T @ [x, y]"
   ]
  },
  {
   "cell_type": "markdown",
   "metadata": {},
   "source": [
    "Contraintes d'inéqualités :"
   ]
  },
  {
   "cell_type": "code",
   "execution_count": 57,
   "metadata": {},
   "outputs": [
    {
     "data": {
      "text/plain": [
       "array([-x + 4*y, x + y, 3*x - y], dtype=object)"
      ]
     },
     "execution_count": 57,
     "metadata": {},
     "output_type": "execute_result"
    }
   ],
   "source": [
    "A_ub @ [x, y]"
   ]
  },
  {
   "cell_type": "code",
   "execution_count": 58,
   "metadata": {},
   "outputs": [
    {
     "data": {
      "text/plain": [
       "array([16,  9, 15])"
      ]
     },
     "execution_count": 58,
     "metadata": {},
     "output_type": "execute_result"
    }
   ],
   "source": [
    "b_ub"
   ]
  },
  {
   "cell_type": "markdown",
   "metadata": {},
   "source": [
    "### Essayons avec différentes méthodes de résolution :"
   ]
  },
  {
   "cell_type": "markdown",
   "metadata": {},
   "source": [
    "#### Avec la méthode du simplexe"
   ]
  },
  {
   "cell_type": "code",
   "execution_count": 97,
   "metadata": {},
   "outputs": [
    {
     "name": "stdout",
     "output_type": "stream",
     "text": [
      "\n",
      "A new optimization step gave:\n",
      "Current solution x = [0. 0.]\n",
      "Current value of c @ x = 0.0\n",
      "Success? = False\n",
      "The (nominally positive) values of the slack, b_ub - A_ub @ x. = [36.  0.  4.]\n",
      "The (nominally zero) residuals of the equality constraints, b_eq - A_eq @ x. = []\n",
      "Algorithm in phase 1\n",
      "Algorithm in iteration number 0\n",
      "Algorithm status Optimization proceeding nominally.\n",
      "\n",
      "A new optimization step gave:\n",
      "Current solution x = [0. 0.]\n",
      "Current value of c @ x = 0.0\n",
      "Success? = False\n",
      "The (nominally positive) values of the slack, b_ub - A_ub @ x. = [36.  0.  4.]\n",
      "The (nominally zero) residuals of the equality constraints, b_eq - A_eq @ x. = []\n",
      "Algorithm in phase 1\n",
      "Algorithm in iteration number 1\n",
      "Algorithm status Optimization proceeding nominally.\n",
      "\n",
      "A new optimization step gave:\n",
      "Current solution x = [2.28571429 6.85714286]\n",
      "Current value of c @ x = -137.14285714285714\n",
      "Success? = False\n",
      "The (nominally positive) values of the slack, b_ub - A_ub @ x. = [1.71428571 0.         0.        ]\n",
      "The (nominally zero) residuals of the equality constraints, b_eq - A_eq @ x. = []\n",
      "Algorithm in phase 1\n",
      "Algorithm in iteration number 2\n",
      "Algorithm status Optimization proceeding nominally.\n",
      "\n",
      "A new optimization step gave:\n",
      "Current solution x = [2.28571429 6.85714286]\n",
      "Current value of c @ x = -137.14285714285714\n",
      "Success? = True\n",
      "The (nominally positive) values of the slack, b_ub - A_ub @ x. = [1.71428571 0.         0.        ]\n",
      "The (nominally zero) residuals of the equality constraints, b_eq - A_eq @ x. = []\n",
      "Algorithm in phase 1\n",
      "Algorithm in iteration number 3\n",
      "Algorithm status Optimization proceeding nominally.\n",
      "\n",
      "A new optimization step gave:\n",
      "Current solution x = [2.28571429 6.85714286]\n",
      "Current value of c @ x = -137.14285714285714\n",
      "Success? = True\n",
      "The (nominally positive) values of the slack, b_ub - A_ub @ x. = [1.71428571 0.         0.        ]\n",
      "The (nominally zero) residuals of the equality constraints, b_eq - A_eq @ x. = []\n",
      "Algorithm in phase 2\n",
      "Algorithm in iteration number 3\n",
      "Algorithm status Optimization proceeding nominally.\n"
     ]
    },
    {
     "data": {
      "text/plain": [
       "     con: array([], dtype=float64)\n",
       "     fun: -137.14285714285714\n",
       " message: 'Optimization terminated successfully.'\n",
       "     nit: 3\n",
       "   slack: array([1.71428571, 0.        , 0.        ])\n",
       "  status: 0\n",
       " success: True\n",
       "       x: array([2.28571429, 6.85714286])"
      ]
     },
     "execution_count": 97,
     "metadata": {},
     "output_type": "execute_result"
    }
   ],
   "source": [
    "list_of_x, list_of_fun, debug_callback = make_callback()\n",
    "\n",
    "opt.linprog(c,\n",
    "            A_ub=A_ub, b_ub=b_ub,\n",
    "            A_eq=A_eq, b_eq=b_eq,\n",
    "            bounds=bounds,\n",
    "            method=\"simplex\",\n",
    "            callback=debug_callback,\n",
    ")"
   ]
  },
  {
   "cell_type": "code",
   "execution_count": 98,
   "metadata": {},
   "outputs": [
    {
     "data": {
      "text/plain": [
       "<Figure size 720x504 with 0 Axes>"
      ]
     },
     "execution_count": 98,
     "metadata": {},
     "output_type": "execute_result"
    },
    {
     "data": {
      "text/plain": [
       "Text(0.5, 1.0, \"Valeur de l'objectif étape par étape\")"
      ]
     },
     "execution_count": 98,
     "metadata": {},
     "output_type": "execute_result"
    },
    {
     "data": {
      "text/plain": [
       "[<matplotlib.lines.Line2D at 0x7f1603b03650>]"
      ]
     },
     "execution_count": 98,
     "metadata": {},
     "output_type": "execute_result"
    },
    {
     "data": {
      "image/png": "[encoded data removed]",
      "text/plain": [
       "<Figure size 720x504 with 1 Axes>"
      ]
     },
     "metadata": {
      "needs_background": "light"
     },
     "output_type": "display_data"
    }
   ],
   "source": [
    "plt.figure(figsize=(10, 7))\n",
    "plt.title(\"Valeur de l'objectif étape par étape\")\n",
    "plt.plot(list_of_fun, \"ro-\", lw=3, ms=14)\n",
    "plt.show()"
   ]
  },
  {
   "cell_type": "code",
   "execution_count": 99,
   "metadata": {},
   "outputs": [
    {
     "data": {
      "text/plain": [
       "<Figure size 720x504 with 0 Axes>"
      ]
     },
     "execution_count": 99,
     "metadata": {},
     "output_type": "execute_result"
    },
    {
     "data": {
      "text/plain": [
       "Text(0.5, 1.0, 'Position des points étape par étape')"
      ]
     },
     "execution_count": 99,
     "metadata": {},
     "output_type": "execute_result"
    },
    {
     "data": {
      "text/plain": [
       "[<matplotlib.lines.Line2D at 0x7f16050080d0>]"
      ]
     },
     "execution_count": 99,
     "metadata": {},
     "output_type": "execute_result"
    },
    {
     "data": {
      "text/plain": [
       "[<matplotlib.lines.Line2D at 0x7f160502b310>]"
      ]
     },
     "execution_count": 99,
     "metadata": {},
     "output_type": "execute_result"
    },
    {
     "data": {
      "text/plain": [
       "<matplotlib.legend.Legend at 0x7f1605020f90>"
      ]
     },
     "execution_count": 99,
     "metadata": {},
     "output_type": "execute_result"
    },
    {
     "data": {
      "image/png": "[encoded data removed]",
      "text/plain": [
       "<Figure size 720x504 with 1 Axes>"
      ]
     },
     "metadata": {
      "needs_background": "light"
     },
     "output_type": "display_data"
    }
   ],
   "source": [
    "plt.figure(figsize=(10, 7))\n",
    "plt.title(\"Position des points étape par étape\")\n",
    "list_of_X, list_of_Y = [x for (x,y) in list_of_x], [y for (x,y) in list_of_x]\n",
    "# plt.plot(list_of_X, list_of_Y, 'bo-')\n",
    "plt.plot(list_of_X, 'bo-', label=\"Valeur de x\", lw=3, ms=14)\n",
    "plt.plot(list_of_Y, 'gd-', label=\"Valeur de y\", lw=3, ms=14)\n",
    "plt.legend()\n",
    "plt.show()"
   ]
  },
  {
   "cell_type": "markdown",
   "metadata": {},
   "source": [
    "#### Avec la méthode du simplexe"
   ]
  },
  {
   "cell_type": "code",
   "execution_count": 100,
   "metadata": {},
   "outputs": [
    {
     "name": "stdout",
     "output_type": "stream",
     "text": [
      "\n",
      "A new optimization step gave:\n",
      "Current solution x = [1. 1.]\n",
      "Current value of c @ x = -40.0\n",
      "Success? = False\n",
      "The (nominally positive) values of the slack, b_ub - A_ub @ x. = [27.    2.    2.75]\n",
      "The (nominally zero) residuals of the equality constraints, b_eq - A_eq @ x. = []\n",
      "Algorithm in phase 1\n",
      "Algorithm in iteration number 0\n",
      "Algorithm status Optimization proceeding nominally.\n",
      "\n",
      "A new optimization step gave:\n",
      "Current solution x = [2.56344769 2.33176838]\n",
      "Current value of c @ x = -100.2211144395063\n",
      "Success? = False\n",
      "The (nominally positive) values of the slack, b_ub - A_ub @ x. = [13.62400873  5.35857468  0.85361022]\n",
      "The (nominally zero) residuals of the equality constraints, b_eq - A_eq @ x. = []\n",
      "Algorithm in phase 1\n",
      "Algorithm in iteration number 1\n",
      "Algorithm status Optimization proceeding nominally.\n",
      "\n",
      "A new optimization step gave:\n",
      "Current solution x = [2.24989923 5.93276901]\n",
      "Current value of c @ x = -126.8246668478194\n",
      "Success? = False\n",
      "The (nominally positive) values of the slack, b_ub - A_ub @ x. = [4.70229762 0.81692867 0.26690852]\n",
      "The (nominally zero) residuals of the equality constraints, b_eq - A_eq @ x. = []\n",
      "Algorithm in phase 1\n",
      "Algorithm in iteration number 2\n",
      "Algorithm status Optimization proceeding nominally.\n",
      "\n",
      "A new optimization step gave:\n",
      "Current solution x = [2.27762285 6.59544408]\n",
      "Current value of c @ x = -134.28312631785997\n",
      "Success? = False\n",
      "The (nominally positive) values of the slack, b_ub - A_ub @ x. = [2.54793066 0.23742448 0.07351613]\n",
      "The (nominally zero) residuals of the equality constraints, b_eq - A_eq @ x. = []\n",
      "Algorithm in phase 1\n",
      "Algorithm in iteration number 3\n",
      "Algorithm status Optimization proceeding nominally.\n",
      "\n",
      "A new optimization step gave:\n",
      "Current solution x = [2.28570714 6.85697569]\n",
      "Current value of c @ x = -137.1409711529175\n",
      "Success? = False\n",
      "The (nominally positive) values of the slack, b_ub - A_ub @ x. = [1.71483008e+00 1.45738339e-04 4.89356091e-05]\n",
      "The (nominally zero) residuals of the equality constraints, b_eq - A_eq @ x. = []\n",
      "Algorithm in phase 1\n",
      "Algorithm in iteration number 4\n",
      "Algorithm status Optimization proceeding nominally.\n",
      "\n",
      "A new optimization step gave:\n",
      "Current solution x = [2.28571429 6.85714285]\n",
      "Current value of c @ x = -137.14285704855126\n",
      "Success? = False\n",
      "The (nominally positive) values of the slack, b_ub - A_ub @ x. = [1.71428574e+00 7.28767979e-09 2.44693465e-09]\n",
      "The (nominally zero) residuals of the equality constraints, b_eq - A_eq @ x. = []\n",
      "Algorithm in phase 1\n",
      "Algorithm in iteration number 5\n",
      "Algorithm status Optimization proceeding nominally.\n"
     ]
    },
    {
     "data": {
      "text/plain": [
       "     con: array([], dtype=float64)\n",
       "     fun: -137.14285704855126\n",
       " message: 'Optimization terminated successfully.'\n",
       "     nit: 5\n",
       "   slack: array([1.71428574e+00, 7.28767979e-09, 2.44693465e-09])\n",
       "  status: 0\n",
       " success: True\n",
       "       x: array([2.28571429, 6.85714285])"
      ]
     },
     "execution_count": 100,
     "metadata": {},
     "output_type": "execute_result"
    }
   ],
   "source": [
    "list_of_x, list_of_fun, debug_callback = make_callback()\n",
    "\n",
    "opt.linprog(c,\n",
    "            A_ub=A_ub, b_ub=b_ub,\n",
    "            A_eq=A_eq, b_eq=b_eq,\n",
    "            bounds=bounds,\n",
    "            method=\"interior-point\",\n",
    "            callback=debug_callback,\n",
    ")"
   ]
  },
  {
   "cell_type": "code",
   "execution_count": 101,
   "metadata": {},
   "outputs": [
    {
     "data": {
      "text/plain": [
       "<Figure size 720x504 with 0 Axes>"
      ]
     },
     "execution_count": 101,
     "metadata": {},
     "output_type": "execute_result"
    },
    {
     "data": {
      "text/plain": [
       "Text(0.5, 1.0, \"Valeur de l'objectif étape par étape\")"
      ]
     },
     "execution_count": 101,
     "metadata": {},
     "output_type": "execute_result"
    },
    {
     "data": {
      "text/plain": [
       "[<matplotlib.lines.Line2D at 0x7f1603ba1d10>]"
      ]
     },
     "execution_count": 101,
     "metadata": {},
     "output_type": "execute_result"
    },
    {
     "data": {
      "image/png": "[encoded data removed]",
      "text/plain": [
       "<Figure size 720x504 with 1 Axes>"
      ]
     },
     "metadata": {
      "needs_background": "light"
     },
     "output_type": "display_data"
    }
   ],
   "source": [
    "plt.figure(figsize=(10, 7))\n",
    "plt.title(\"Valeur de l'objectif étape par étape\")\n",
    "plt.plot(list_of_fun, \"ro-\", lw=3, ms=14)\n",
    "plt.show()"
   ]
  },
  {
   "cell_type": "code",
   "execution_count": 102,
   "metadata": {},
   "outputs": [
    {
     "data": {
      "text/plain": [
       "<Figure size 720x504 with 0 Axes>"
      ]
     },
     "execution_count": 102,
     "metadata": {},
     "output_type": "execute_result"
    },
    {
     "data": {
      "text/plain": [
       "Text(0.5, 1.0, 'Position des points étape par étape')"
      ]
     },
     "execution_count": 102,
     "metadata": {},
     "output_type": "execute_result"
    },
    {
     "data": {
      "text/plain": [
       "[<matplotlib.lines.Line2D at 0x7f1603cc6050>]"
      ]
     },
     "execution_count": 102,
     "metadata": {},
     "output_type": "execute_result"
    },
    {
     "data": {
      "text/plain": [
       "[<matplotlib.lines.Line2D at 0x7f1603af93d0>]"
      ]
     },
     "execution_count": 102,
     "metadata": {},
     "output_type": "execute_result"
    },
    {
     "data": {
      "text/plain": [
       "<matplotlib.legend.Legend at 0x7f1603ce8fd0>"
      ]
     },
     "execution_count": 102,
     "metadata": {},
     "output_type": "execute_result"
    },
    {
     "data": {
      "image/png": "[encoded data removed]",
      "text/plain": [
       "<Figure size 720x504 with 1 Axes>"
      ]
     },
     "metadata": {
      "needs_background": "light"
     },
     "output_type": "display_data"
    }
   ],
   "source": [
    "plt.figure(figsize=(10, 7))\n",
    "plt.title(\"Position des points étape par étape\")\n",
    "list_of_X, list_of_Y = [x for (x,y) in list_of_x], [y for (x,y) in list_of_x]\n",
    "# plt.plot(list_of_X, list_of_Y, 'bo-')\n",
    "plt.plot(list_of_X, 'bo-', label=\"Valeur de x\", lw=3, ms=14)\n",
    "plt.plot(list_of_Y, 'gd-', label=\"Valeur de y\", lw=3, ms=14)\n",
    "plt.legend()\n",
    "plt.show()"
   ]
  },
  {
   "cell_type": "markdown",
   "metadata": {},
   "source": [
    "----\n",
    "## Bonus : implémentation manuelle de l'algorithme du simplexe\n",
    "\n",
    "- Refs : [ce poste de blogue](http://jeremykun.com/2014/12/01/linear-programming-and-the-simplex-algorithm/), [ces notes de cours](http://jeffe.cs.illinois.edu/teaching/algorithms/notes/I-simplex.pdf), et [cet autre poste de blogue](https://medium.com/@jacob.d.moore1/coding-the-simplex-algorithm-from-scratch-using-python-and-numpy-93e3813e6e70).\n",
    "- Code source venant de : https://github.com/j2kun/simplex-algorithm/"
   ]
  },
  {
   "cell_type": "markdown",
   "metadata": {},
   "source": [
    "### Algorithme\n",
    "\n",
    "TODO use numpy arrays?"
   ]
  },
  {
   "cell_type": "code",
   "execution_count": 107,
   "metadata": {},
   "outputs": [],
   "source": [
    "import heapq"
   ]
  },
  {
   "cell_type": "code",
   "execution_count": 108,
   "metadata": {},
   "outputs": [],
   "source": [
    "def identity(numRows, numCols, val=1, rowStart=0):\n",
    "    \"\"\" Return a rectangular identity matrix with the specified diagonal entiries, possibly starting in the middle.\n",
    "    \"\"\"\n",
    "    return [\n",
    "        [\n",
    "            (val if i == j else 0)\n",
    "            for j in range(numCols)\n",
    "        ]\n",
    "        for i in range(rowStart, numRows)\n",
    "    ]"
   ]
  },
  {
   "cell_type": "markdown",
   "metadata": {},
   "source": [
    "### Conversion en forme standard"
   ]
  },
  {
   "cell_type": "code",
   "execution_count": 109,
   "metadata": {},
   "outputs": [],
   "source": [
    "def standardForm(cost, greaterThans=[], gtThreshold=[], lessThans=[], ltThreshold=[],\n",
    "                equalities=[], eqThreshold=[], maximization=True):\n",
    "    \"\"\"\n",
    "       standardForm: [float], [[float]], [float], [[float]], [float], [[float]], [float] -> [float], [[float]], [float]\n",
    "       Convert a linear program in general form to the standard form for the\n",
    "       simplex algorithm.  The inputs are assumed to have the correct dimensions: cost\n",
    "       is a length n list, greaterThans is an n-by-m matrix, gtThreshold is a vector\n",
    "       of length m, with the same pattern holding for the remaining inputs. No\n",
    "       dimension errors are caught, and we assume there are no unrestricted variables.\n",
    "    \"\"\"\n",
    "    newVars = 0\n",
    "    numRows = 0\n",
    "    if gtThreshold != []:\n",
    "        newVars += len(gtThreshold)\n",
    "        numRows += len(gtThreshold)\n",
    "    if ltThreshold != []:\n",
    "        newVars += len(ltThreshold)\n",
    "        numRows += len(ltThreshold)\n",
    "    if eqThreshold != []:\n",
    "        numRows += len(eqThreshold)\n",
    "\n",
    "    if not maximization:\n",
    "        cost = [-x for x in cost]\n",
    "\n",
    "    if newVars == 0:\n",
    "        return cost, equalities, eqThreshold\n",
    "\n",
    "    newCost = list(cost) + [0] * newVars\n",
    "\n",
    "    constraints = []\n",
    "    threshold = []\n",
    "\n",
    "    oldConstraints = [(greaterThans, gtThreshold, -1), (lessThans, ltThreshold, 1),\n",
    "                     (equalities, eqThreshold, 0)]\n",
    "\n",
    "    offset = 0\n",
    "    for constraintList, oldThreshold, coefficient in oldConstraints:\n",
    "        constraints += [c + r for c, r in zip(constraintList,\n",
    "             identity(numRows, newVars, coefficient, offset))]\n",
    "\n",
    "        threshold += oldThreshold\n",
    "        offset += len(oldThreshold)\n",
    "\n",
    "    return newCost, constraints, threshold"
   ]
  },
  {
   "cell_type": "markdown",
   "metadata": {},
   "source": [
    "### Utilitaires pour les matrices"
   ]
  },
  {
   "cell_type": "code",
   "execution_count": 110,
   "metadata": {},
   "outputs": [],
   "source": [
    "def dot(a, b):\n",
    "    return sum(x*y for x, y in zip(a, b))"
   ]
  },
  {
   "cell_type": "code",
   "execution_count": 111,
   "metadata": {},
   "outputs": [],
   "source": [
    "def column(A, j):\n",
    "    return [row[j] for row in A]"
   ]
  },
  {
   "cell_type": "code",
   "execution_count": 112,
   "metadata": {},
   "outputs": [],
   "source": [
    "def transpose(A):\n",
    "    return [column(A, j) for j in range(len(A[0]))]"
   ]
  },
  {
   "cell_type": "code",
   "execution_count": 113,
   "metadata": {},
   "outputs": [],
   "source": [
    "def isPivotCol(col):\n",
    "    return (len([c for c in col if c == 0]) == len(col) - 1) and sum(col) == 1\n",
    "\n",
    "def variableValueForPivotColumn(tableau, column):\n",
    "    pivotRow = [i for (i, x) in enumerate(column) if x == 1][0]\n",
    "    return tableau[pivotRow][-1]"
   ]
  },
  {
   "cell_type": "code",
   "execution_count": 114,
   "metadata": {},
   "outputs": [],
   "source": [
    "# assume the last m columns of A are the slack variables; the initial basis is\n",
    "# the set of slack variables\n",
    "def initialTableau(c, A, b):\n",
    "    tableau = [row[:] + [x] for row, x in zip(A, b)]\n",
    "    tableau.append([ci for ci in c] + [0])\n",
    "    return tableau"
   ]
  },
  {
   "cell_type": "code",
   "execution_count": 115,
   "metadata": {},
   "outputs": [],
   "source": [
    "def primalSolution(tableau):\n",
    "    # the pivot columns denote which variables are used\n",
    "    columns = transpose(tableau)\n",
    "    indices = [j for j, col in enumerate(columns[:-1]) if isPivotCol(col)]\n",
    "    return [(colIndex, variableValueForPivotColumn(tableau, columns[colIndex]))\n",
    "            for colIndex in indices]"
   ]
  },
  {
   "cell_type": "code",
   "execution_count": 116,
   "metadata": {},
   "outputs": [],
   "source": [
    "def objectiveValue(tableau):\n",
    "    return -(tableau[-1][-1])"
   ]
  },
  {
   "cell_type": "code",
   "execution_count": 117,
   "metadata": {},
   "outputs": [],
   "source": [
    "def canImprove(tableau):\n",
    "    lastRow = tableau[-1]\n",
    "    return any(x > 0 for x in lastRow[:-1])"
   ]
  },
  {
   "cell_type": "code",
   "execution_count": 118,
   "metadata": {},
   "outputs": [],
   "source": [
    "# this can be slightly faster\n",
    "def moreThanOneMin(L):\n",
    "    if len(L) <= 1:\n",
    "        return False\n",
    "\n",
    "    x, y = heapq.nsmallest(2, L, key=lambda x: x[1])\n",
    "    return x == y"
   ]
  },
  {
   "cell_type": "code",
   "execution_count": 119,
   "metadata": {},
   "outputs": [],
   "source": [
    "def findPivotIndex(tableau):\n",
    "    # pick minimum positive index of the last row\n",
    "    column_choices = [(i, x) for (i, x) in enumerate(tableau[-1][:-1]) if x > 0]\n",
    "    column = min(column_choices, key=lambda a: a[1])[0]\n",
    "\n",
    "    # check if unbounded\n",
    "    if all(row[column] <= 0 for row in tableau):\n",
    "        raise Exception('Linear program is unbounded.')\n",
    "\n",
    "    # check for degeneracy: more than one minimizer of the quotient\n",
    "    quotients = [\n",
    "        (i, r[-1] / r[column])\n",
    "        for i, r in enumerate(tableau[:-1])\n",
    "        if r[column] > 0\n",
    "    ]\n",
    "\n",
    "    if moreThanOneMin(quotients):\n",
    "        raise Exception('Linear program is degenerate.')\n",
    "\n",
    "    # pick row index minimizing the quotient\n",
    "    row = min(quotients, key=lambda x: x[1])[0]\n",
    "\n",
    "    return row, column"
   ]
  },
  {
   "cell_type": "code",
   "execution_count": 120,
   "metadata": {},
   "outputs": [],
   "source": [
    "def pivotAbout(tableau, pivot):\n",
    "    i, j = pivot\n",
    "\n",
    "    pivotDenom = tableau[i][j]\n",
    "    tableau[i] = [x / pivotDenom for x in tableau[i]]\n",
    "\n",
    "    for k,row in enumerate(tableau):\n",
    "        if k != i:\n",
    "            pivotRowMultiple = [y * tableau[k][j] for y in tableau[i]]\n",
    "            tableau[k] = [x - y for x,y in zip(tableau[k], pivotRowMultiple)]"
   ]
  },
  {
   "cell_type": "markdown",
   "metadata": {},
   "source": [
    "### L'algorithme du simplexe"
   ]
  },
  {
   "cell_type": "code",
   "execution_count": 141,
   "metadata": {},
   "outputs": [],
   "source": [
    "def simplex(c, A, b):\n",
    "    \"\"\"\n",
    "    simplex: c: [float], A: [[float]], b: [float] -> [float], float\n",
    "    Solve the given standard-form linear program:\n",
    "        max <c, x>\n",
    "        s.t. Ax = b\n",
    "             x >= 0\n",
    "    Providing the optimal solution x* and the value of the objective function.\n",
    "    \"\"\"\n",
    "    tableau = initialTableau(c, A, b)\n",
    "    print(\"Initial tableau:\")\n",
    "    for row in tableau:\n",
    "        print(row)\n",
    "    print()\n",
    "\n",
    "    while canImprove(tableau):\n",
    "        pivot = findPivotIndex(tableau)\n",
    "        print(\"Next pivot index is={}\\n\".format(pivot))\n",
    "        pivotAbout(tableau, pivot)\n",
    "        print(\"Tableau after pivot:\")\n",
    "        for row in tableau:\n",
    "            print(row)\n",
    "        print()\n",
    "\n",
    "    return tableau, primalSolution(tableau), objectiveValue(tableau)"
   ]
  },
  {
   "cell_type": "markdown",
   "metadata": {},
   "source": [
    "### Un premier exemple"
   ]
  },
  {
   "cell_type": "code",
   "execution_count": 142,
   "metadata": {},
   "outputs": [
    {
     "name": "stdout",
     "output_type": "stream",
     "text": [
      "Initial tableau:\n",
      "[15, 20, 25, 1, 0, 0, 0, 1200]\n",
      "[35, 60, 60, 0, 1, 0, 0, 3000]\n",
      "[20, 30, 25, 0, 0, 1, 0, 1500]\n",
      "[0, 250, 0, 0, 0, 0, -1, 500]\n",
      "[300, 250, 450, 0, 0, 0, 0, 0]\n",
      "\n",
      "Next pivot index is=(3, 1)\n",
      "\n",
      "Tableau after pivot:\n",
      "[15.0, 0.0, 25.0, 1.0, 0.0, 0.0, 0.08, 1160.0]\n",
      "[35.0, 0.0, 60.0, 0.0, 1.0, 0.0, 0.24, 2880.0]\n",
      "[20.0, 0.0, 25.0, 0.0, 0.0, 1.0, 0.12, 1440.0]\n",
      "[0.0, 1.0, 0.0, 0.0, 0.0, 0.0, -0.004, 2.0]\n",
      "[300.0, 0.0, 450.0, 0.0, 0.0, 0.0, 1.0, -500.0]\n",
      "\n",
      "Next pivot index is=(1, 6)\n",
      "\n",
      "Tableau after pivot:\n",
      "[3.333333333333332, 0.0, 5.0, 1.0, -0.33333333333333337, 0.0, 0.0, 200.0]\n",
      "[145.83333333333334, 0.0, 250.0, 0.0, 4.166666666666667, 0.0, 1.0, 12000.0]\n",
      "[2.5, 0.0, -5.0, 0.0, -0.5, 1.0, 0.0, 0.0]\n",
      "[0.5833333333333334, 1.0, 1.0, 0.0, 0.01666666666666667, 0.0, 0.0, 50.0]\n",
      "[154.16666666666666, 0.0, 200.0, 0.0, -4.166666666666667, 0.0, 0.0, -12500.0]\n",
      "\n",
      "Next pivot index is=(2, 0)\n",
      "\n",
      "Tableau after pivot:\n",
      "[0.0, 0.0, 11.666666666666664, 1.0, 0.33333333333333315, -1.333333333333333, 0.0, 200.0]\n",
      "[0.0, 0.0, 541.6666666666667, 0.0, 33.333333333333336, -58.33333333333334, 1.0, 12000.0]\n",
      "[1.0, 0.0, -2.0, 0.0, -0.2, 0.4, 0.0, 0.0]\n",
      "[0.0, 1.0, 2.166666666666667, 0.0, 0.13333333333333336, -0.23333333333333336, 0.0, 50.0]\n",
      "[0.0, 0.0, 508.3333333333333, 0.0, 26.666666666666664, -61.666666666666664, 0.0, -12500.0]\n",
      "\n",
      "Next pivot index is=(1, 4)\n",
      "\n",
      "Tableau after pivot:\n",
      "[0.0, 0.0, 6.250000000000001, 1.0, 0.0, -0.75, -0.009999999999999993, 80.00000000000007]\n",
      "[0.0, 0.0, 16.25, 0.0, 1.0, -1.7500000000000002, 0.03, 360.0]\n",
      "[1.0, 0.0, 1.25, 0.0, 0.0, 0.04999999999999993, 0.006, 72.0]\n",
      "[0.0, 1.0, 0.0, 0.0, 0.0, 5.551115123125783e-17, -0.004000000000000001, 1.999999999999993]\n",
      "[0.0, 0.0, 75.0, 0.0, 0.0, -14.999999999999993, -0.7999999999999999, -22100.0]\n",
      "\n",
      "Next pivot index is=(0, 2)\n",
      "\n",
      "Tableau after pivot:\n",
      "[0.0, 0.0, 1.0, 0.15999999999999998, 0.0, -0.11999999999999998, -0.0015999999999999988, 12.80000000000001]\n",
      "[0.0, 0.0, 0.0, -2.5999999999999996, 1.0, 0.1999999999999995, 0.05599999999999998, 151.99999999999986]\n",
      "[1.0, 0.0, 0.0, -0.19999999999999996, 0.0, 0.1999999999999999, 0.007999999999999998, 55.999999999999986]\n",
      "[0.0, 1.0, 0.0, 0.0, 0.0, 5.551115123125783e-17, -0.004000000000000001, 1.999999999999993]\n",
      "[0.0, 0.0, 0.0, -11.999999999999998, 0.0, -5.999999999999995, -0.68, -23060.0]\n",
      "\n",
      "[(0, 55.999999999999986), (1, 1.999999999999993), (2, 12.80000000000001), (4, 151.99999999999986)]\n",
      "23060.0\n"
     ]
    }
   ],
   "source": [
    "c = [300, 250, 450]\n",
    "A = [[15, 20, 25], [35, 60, 60], [20, 30, 25], [0, 250, 0]]\n",
    "b = [1200, 3000, 1500, 500]\n",
    "\n",
    "# add slack variables by hand\n",
    "A[0] += [1,0,0,0]\n",
    "A[1] += [0,1,0,0]\n",
    "A[2] += [0,0,1,0]\n",
    "A[3] += [0,0,0,-1]\n",
    "c += [0,0,0,0]\n",
    "\n",
    "t, s, v = simplex(c, A, b)\n",
    "print(s)\n",
    "print(v)"
   ]
  },
  {
   "cell_type": "markdown",
   "metadata": {},
   "source": [
    "Et pou comparer avec la réponse donnée par `scipy.optimize.linprog` :"
   ]
  },
  {
   "cell_type": "code",
   "execution_count": 148,
   "metadata": {},
   "outputs": [
    {
     "data": {
      "text/plain": [
       "     con: array([], dtype=float64)\n",
       "     fun: -23400.0\n",
       " message: 'Optimization terminated successfully.'\n",
       "     nit: 5\n",
       "   slack: array([  0.,   0.,   0., 500.])\n",
       "  status: 0\n",
       " success: True\n",
       "       x: array([ 60.,   0.,  12.,   0., 180.,   0.,   0.])"
      ]
     },
     "execution_count": 148,
     "metadata": {},
     "output_type": "execute_result"
    }
   ],
   "source": [
    "opt_res = opt.linprog(-np.array(c), A_ub=A, b_ub=b, method=\"simplex\")\n",
    "opt_res"
   ]
  },
  {
   "cell_type": "markdown",
   "metadata": {},
   "source": [
    "La solution optimale trouvée par `scipy.optimize.linprog` est meilleure que celle trouvée par notre algorithme."
   ]
  },
  {
   "cell_type": "code",
   "execution_count": 149,
   "metadata": {},
   "outputs": [
    {
     "data": {
      "text/plain": [
       "(23060.0, 23400.0)"
      ]
     },
     "execution_count": 149,
     "metadata": {},
     "output_type": "execute_result"
    }
   ],
   "source": [
    "v, - opt_res.fun"
   ]
  },
  {
   "cell_type": "markdown",
   "metadata": {},
   "source": [
    "Notre implémentation donne une solution :"
   ]
  },
  {
   "cell_type": "code",
   "execution_count": 151,
   "metadata": {},
   "outputs": [
    {
     "data": {
      "text/plain": [
       "[(0, 55.999999999999986),\n",
       " (1, 1.999999999999993),\n",
       " (2, 12.80000000000001),\n",
       " (4, 151.99999999999986)]"
      ]
     },
     "execution_count": 151,
     "metadata": {},
     "output_type": "execute_result"
    }
   ],
   "source": [
    "s"
   ]
  },
  {
   "cell_type": "markdown",
   "metadata": {},
   "source": [
    "Qui s'interprète comme étant assez proche de la solution trouvée par `scipy.optimize.linprog`."
   ]
  },
  {
   "cell_type": "code",
   "execution_count": 152,
   "metadata": {},
   "outputs": [
    {
     "data": {
      "text/plain": [
       "array([ 60.,   0.,  12.,   0., 180.,   0.,   0.])"
      ]
     },
     "execution_count": 152,
     "metadata": {},
     "output_type": "execute_result"
    }
   ],
   "source": [
    "opt_res.x"
   ]
  },
  {
   "cell_type": "code",
   "execution_count": 159,
   "metadata": {},
   "outputs": [
    {
     "data": {
      "text/plain": [
       "array([ 56,   2,  12,   0, 152,   0,   0])"
      ]
     },
     "execution_count": 159,
     "metadata": {},
     "output_type": "execute_result"
    }
   ],
   "source": [
    "s2 = np.array([56, 2, 12, 0, 152, 0, 0])\n",
    "s2"
   ]
  },
  {
   "cell_type": "code",
   "execution_count": 161,
   "metadata": {},
   "outputs": [
    {
     "data": {
      "text/plain": [
       "0.1491454186681393"
      ]
     },
     "execution_count": 161,
     "metadata": {},
     "output_type": "execute_result"
    }
   ],
   "source": [
    "np.linalg.norm(opt_res.x - s2) / np.linalg.norm(opt_res.x)"
   ]
  },
  {
   "cell_type": "markdown",
   "metadata": {},
   "source": [
    "C'est une différence relativement faible…"
   ]
  },
  {
   "cell_type": "markdown",
   "metadata": {},
   "source": [
    "### Tests"
   ]
  },
  {
   "cell_type": "code",
   "execution_count": 172,
   "metadata": {},
   "outputs": [],
   "source": [
    "def test(expected, actual):\n",
    "    e, a = np.array(expected), np.array(actual)\n",
    "    if not np.isclose(np.linalg.norm(e - a), 0):\n",
    "        import sys, traceback\n",
    "        (filename, lineno, container, code) = traceback.extract_stack()[-2]\n",
    "        print(\"Test: {} failed on line {} in file {}.\\nExpected {} but got {}\\n\".format((code, lineno, filename, expected, actual)))"
   ]
  },
  {
   "cell_type": "code",
   "execution_count": 181,
   "metadata": {},
   "outputs": [],
   "source": [
    "def testFromPost():\n",
    "    cost = [1, 1, 1]\n",
    "    gts = [[0, 1, 4]]\n",
    "    gtB = [10]\n",
    "    lts = [[3, -2, 0]]\n",
    "    ltB = [7]\n",
    "    eqs = [[1, 1, 0]]\n",
    "    eqB = [2]\n",
    "\n",
    "    expectedCost = [1,1,1,0,0]\n",
    "    expectedConstraints = [[0,1,4,-1,0], [3,-2,0,0,1], [1,1,0,0,0]]\n",
    "    expectedThresholds = [10,7,2]\n",
    "    c, cs, ts = standardForm(cost, gts, gtB, lts, ltB, eqs, eqB)\n",
    "    test(expectedCost, c)\n",
    "    test(expectedConstraints, cs)\n",
    "    test(expectedThresholds, ts)\n",
    "    \n",
    "    A_ub = np.array([\n",
    "        [0, 1, 4],\n",
    "        [-3, 2, 0],\n",
    "    ])\n",
    "    b_ub = np.array([10, -7])\n",
    "    opt_res = opt.linprog(-np.array(c), A_eq=eqs, b_eq=eqB, A_ub=A_ub.T, b_ub=b_ub, method=\"simplex\")\n",
    "    print(\"Expected cost\", expectedCost)\n",
    "    print(\"scipy.optimize.linprog gives\", opt_res.x)"
   ]
  },
  {
   "cell_type": "code",
   "execution_count": 182,
   "metadata": {},
   "outputs": [
    {
     "ename": "ValueError",
     "evalue": "Invalid input for linprog: A_ub must have exactly two dimensions, and the number of columns in A_ub must be equal to the size of c",
     "output_type": "error",
     "traceback": [
      "\u001b[0;31m---------------------------------------------------------------------------\u001b[0m",
      "\u001b[0;31mValueError\u001b[0m                                Traceback (most recent call last)",
      "\u001b[0;32m<ipython-input-182-855207b90ea5>\u001b[0m in \u001b[0;36m<module>\u001b[0;34m\u001b[0m\n\u001b[0;32m----> 1\u001b[0;31m \u001b[0mtestFromPost\u001b[0m\u001b[0;34m(\u001b[0m\u001b[0;34m)\u001b[0m\u001b[0;34m\u001b[0m\u001b[0;34m\u001b[0m\u001b[0m\n\u001b[0m",
      "\u001b[0;32m<ipython-input-181-6b6445e53889>\u001b[0m in \u001b[0;36mtestFromPost\u001b[0;34m()\u001b[0m\n\u001b[1;32m     21\u001b[0m     ])\n\u001b[1;32m     22\u001b[0m     \u001b[0mb_ub\u001b[0m \u001b[0;34m=\u001b[0m \u001b[0mnp\u001b[0m\u001b[0;34m.\u001b[0m\u001b[0marray\u001b[0m\u001b[0;34m(\u001b[0m\u001b[0;34m[\u001b[0m\u001b[0;36m10\u001b[0m\u001b[0;34m,\u001b[0m \u001b[0;34m-\u001b[0m\u001b[0;36m7\u001b[0m\u001b[0;34m]\u001b[0m\u001b[0;34m)\u001b[0m\u001b[0;34m\u001b[0m\u001b[0;34m\u001b[0m\u001b[0m\n\u001b[0;32m---> 23\u001b[0;31m     \u001b[0mopt_res\u001b[0m \u001b[0;34m=\u001b[0m \u001b[0mopt\u001b[0m\u001b[0;34m.\u001b[0m\u001b[0mlinprog\u001b[0m\u001b[0;34m(\u001b[0m\u001b[0;34m-\u001b[0m\u001b[0mnp\u001b[0m\u001b[0;34m.\u001b[0m\u001b[0marray\u001b[0m\u001b[0;34m(\u001b[0m\u001b[0mc\u001b[0m\u001b[0;34m)\u001b[0m\u001b[0;34m,\u001b[0m \u001b[0mA_eq\u001b[0m\u001b[0;34m=\u001b[0m\u001b[0meqs\u001b[0m\u001b[0;34m,\u001b[0m \u001b[0mb_eq\u001b[0m\u001b[0;34m=\u001b[0m\u001b[0meqB\u001b[0m\u001b[0;34m,\u001b[0m \u001b[0mA_ub\u001b[0m\u001b[0;34m=\u001b[0m\u001b[0mA_ub\u001b[0m\u001b[0;34m.\u001b[0m\u001b[0mT\u001b[0m\u001b[0;34m,\u001b[0m \u001b[0mb_ub\u001b[0m\u001b[0;34m=\u001b[0m\u001b[0mb_ub\u001b[0m\u001b[0;34m,\u001b[0m \u001b[0mmethod\u001b[0m\u001b[0;34m=\u001b[0m\u001b[0;34m\"simplex\"\u001b[0m\u001b[0;34m)\u001b[0m\u001b[0;34m\u001b[0m\u001b[0;34m\u001b[0m\u001b[0m\n\u001b[0m\u001b[1;32m     24\u001b[0m     \u001b[0mprint\u001b[0m\u001b[0;34m(\u001b[0m\u001b[0;34m\"Expected cost\"\u001b[0m\u001b[0;34m,\u001b[0m \u001b[0mexpectedCost\u001b[0m\u001b[0;34m)\u001b[0m\u001b[0;34m\u001b[0m\u001b[0;34m\u001b[0m\u001b[0m\n\u001b[1;32m     25\u001b[0m     \u001b[0mprint\u001b[0m\u001b[0;34m(\u001b[0m\u001b[0;34m\"scipy.optimize.linprog gives\"\u001b[0m\u001b[0;34m,\u001b[0m \u001b[0mopt_res\u001b[0m\u001b[0;34m.\u001b[0m\u001b[0mx\u001b[0m\u001b[0;34m)\u001b[0m\u001b[0;34m\u001b[0m\u001b[0;34m\u001b[0m\u001b[0m\n",
      "\u001b[0;32m/usr/local/lib/python3.7/dist-packages/scipy/optimize/_linprog.py\u001b[0m in \u001b[0;36mlinprog\u001b[0;34m(c, A_ub, b_ub, A_eq, b_eq, bounds, method, callback, options, x0)\u001b[0m\n\u001b[1;32m    499\u001b[0m \u001b[0;34m\u001b[0m\u001b[0m\n\u001b[1;32m    500\u001b[0m     c, A_ub, b_ub, A_eq, b_eq, bounds, solver_options, x0 = _parse_linprog(\n\u001b[0;32m--> 501\u001b[0;31m         c, A_ub, b_ub, A_eq, b_eq, bounds, options, x0)\n\u001b[0m\u001b[1;32m    502\u001b[0m     \u001b[0mtol\u001b[0m \u001b[0;34m=\u001b[0m \u001b[0msolver_options\u001b[0m\u001b[0;34m.\u001b[0m\u001b[0mget\u001b[0m\u001b[0;34m(\u001b[0m\u001b[0;34m'tol'\u001b[0m\u001b[0;34m,\u001b[0m \u001b[0mdefault_tol\u001b[0m\u001b[0;34m)\u001b[0m\u001b[0;34m\u001b[0m\u001b[0;34m\u001b[0m\u001b[0m\n\u001b[1;32m    503\u001b[0m \u001b[0;34m\u001b[0m\u001b[0m\n",
      "\u001b[0;32m/usr/local/lib/python3.7/dist-packages/scipy/optimize/_linprog_util.py\u001b[0m in \u001b[0;36m_parse_linprog\u001b[0;34m(c, A_ub, b_ub, A_eq, b_eq, bounds, options, x0)\u001b[0m\n\u001b[1;32m    879\u001b[0m     \u001b[0;31m# Convert lists to numpy arrays, etc...\u001b[0m\u001b[0;34m\u001b[0m\u001b[0;34m\u001b[0m\u001b[0;34m\u001b[0m\u001b[0m\n\u001b[1;32m    880\u001b[0m     c, A_ub, b_ub, A_eq, b_eq, bounds, x0 = _clean_inputs(\n\u001b[0;32m--> 881\u001b[0;31m         c, A_ub, b_ub, A_eq, b_eq, bounds, x0)\n\u001b[0m\u001b[1;32m    882\u001b[0m     \u001b[0;32mreturn\u001b[0m \u001b[0mc\u001b[0m\u001b[0;34m,\u001b[0m \u001b[0mA_ub\u001b[0m\u001b[0;34m,\u001b[0m \u001b[0mb_ub\u001b[0m\u001b[0;34m,\u001b[0m \u001b[0mA_eq\u001b[0m\u001b[0;34m,\u001b[0m \u001b[0mb_eq\u001b[0m\u001b[0;34m,\u001b[0m \u001b[0mbounds\u001b[0m\u001b[0;34m,\u001b[0m \u001b[0msolver_options\u001b[0m\u001b[0;34m,\u001b[0m \u001b[0mx0\u001b[0m\u001b[0;34m\u001b[0m\u001b[0;34m\u001b[0m\u001b[0m\n\u001b[1;32m    883\u001b[0m \u001b[0;34m\u001b[0m\u001b[0m\n",
      "\u001b[0;32m/usr/local/lib/python3.7/dist-packages/scipy/optimize/_linprog_util.py\u001b[0m in \u001b[0;36m_clean_inputs\u001b[0;34m(c, A_ub, b_ub, A_eq, b_eq, bounds, x0)\u001b[0m\n\u001b[1;32m    217\u001b[0m         \u001b[0;32mif\u001b[0m \u001b[0mlen\u001b[0m\u001b[0;34m(\u001b[0m\u001b[0mA_ub\u001b[0m\u001b[0;34m.\u001b[0m\u001b[0mshape\u001b[0m\u001b[0;34m)\u001b[0m \u001b[0;34m!=\u001b[0m \u001b[0;36m2\u001b[0m \u001b[0;32mor\u001b[0m \u001b[0mA_ub\u001b[0m\u001b[0;34m.\u001b[0m\u001b[0mshape\u001b[0m\u001b[0;34m[\u001b[0m\u001b[0;36m1\u001b[0m\u001b[0;34m]\u001b[0m \u001b[0;34m!=\u001b[0m \u001b[0mn_x\u001b[0m\u001b[0;34m:\u001b[0m\u001b[0;34m\u001b[0m\u001b[0;34m\u001b[0m\u001b[0m\n\u001b[1;32m    218\u001b[0m             raise ValueError(\n\u001b[0;32m--> 219\u001b[0;31m                 \u001b[0;34m\"Invalid input for linprog: A_ub must have exactly two \"\u001b[0m\u001b[0;34m\u001b[0m\u001b[0;34m\u001b[0m\u001b[0m\n\u001b[0m\u001b[1;32m    220\u001b[0m                 \u001b[0;34m\"dimensions, and the number of columns in A_ub must be \"\u001b[0m\u001b[0;34m\u001b[0m\u001b[0;34m\u001b[0m\u001b[0m\n\u001b[1;32m    221\u001b[0m                 \"equal to the size of c\")\n",
      "\u001b[0;31mValueError\u001b[0m: Invalid input for linprog: A_ub must have exactly two dimensions, and the number of columns in A_ub must be equal to the size of c"
     ]
    }
   ],
   "source": [
    "testFromPost()"
   ]
  },
  {
   "cell_type": "markdown",
   "metadata": {},
   "source": [
    "Un second test :"
   ]
  },
  {
   "cell_type": "code",
   "execution_count": 131,
   "metadata": {},
   "outputs": [],
   "source": [
    "def test2():\n",
    "    cost = [1, 1, 1]\n",
    "    lts = [[3, -2, 0]]\n",
    "    ltB = [7]\n",
    "    eqs = [[1, 1, 0]]\n",
    "    eqB = [2]\n",
    "\n",
    "    expectedCost = [1, 1, 1, 0]\n",
    "    expectedConstraints = [[3, -2, 0, 1], [1 ,1 ,0 ,0]]\n",
    "    expectedThresholds = [7, 2]\n",
    "    test((expectedCost, expectedConstraints, expectedThresholds),\n",
    "         standardForm(cost, lessThans=lts, ltThreshold=ltB, equalities=eqs, eqThreshold=eqB))"
   ]
  },
  {
   "cell_type": "code",
   "execution_count": 134,
   "metadata": {},
   "outputs": [],
   "source": [
    "test2()"
   ]
  },
  {
   "cell_type": "markdown",
   "metadata": {},
   "source": [
    "Un dernier test :"
   ]
  },
  {
   "cell_type": "code",
   "execution_count": 137,
   "metadata": {},
   "outputs": [],
   "source": [
    "def test3():\n",
    "    cost = [1, 1, 1]\n",
    "    eqs = [[1, 1, 0], [2, 2, 2]]\n",
    "    eqB = [2, 5]\n",
    "\n",
    "    expectedCost = [1, 1, 1]\n",
    "    expectedConstraints = [[3, -2, 0], [1, 1, 0]]\n",
    "    expectedThresholds = [2, 5]\n",
    "    test((expectedCost, expectedConstraints, expectedThresholds),\n",
    "         standardForm(cost, equalities=eqs, eqThreshold=eqB))"
   ]
  },
  {
   "cell_type": "code",
   "execution_count": 138,
   "metadata": {},
   "outputs": [
    {
     "ename": "IndexError",
     "evalue": "tuple index out of range",
     "output_type": "error",
     "traceback": [
      "\u001b[0;31m---------------------------------------------------------------------------\u001b[0m",
      "\u001b[0;31mIndexError\u001b[0m                                Traceback (most recent call last)",
      "\u001b[0;32m<ipython-input-138-5dea5f7ba8cb>\u001b[0m in \u001b[0;36m<module>\u001b[0;34m\u001b[0m\n\u001b[0;32m----> 1\u001b[0;31m \u001b[0mtest3\u001b[0m\u001b[0;34m(\u001b[0m\u001b[0;34m)\u001b[0m\u001b[0;34m\u001b[0m\u001b[0;34m\u001b[0m\u001b[0m\n\u001b[0m",
      "\u001b[0;32m<ipython-input-137-e0efe43c123b>\u001b[0m in \u001b[0;36mtest3\u001b[0;34m()\u001b[0m\n\u001b[1;32m      8\u001b[0m     \u001b[0mexpectedThresholds\u001b[0m \u001b[0;34m=\u001b[0m \u001b[0;34m[\u001b[0m\u001b[0;36m2\u001b[0m\u001b[0;34m,\u001b[0m \u001b[0;36m5\u001b[0m\u001b[0;34m]\u001b[0m\u001b[0;34m\u001b[0m\u001b[0;34m\u001b[0m\u001b[0m\n\u001b[1;32m      9\u001b[0m     test((expectedCost, expectedConstraints, expectedThresholds),\n\u001b[0;32m---> 10\u001b[0;31m          standardForm(cost, equalities=eqs, eqThreshold=eqB))\n\u001b[0m",
      "\u001b[0;32m<ipython-input-123-037070b6b9a1>\u001b[0m in \u001b[0;36mtest\u001b[0;34m(expected, actual)\u001b[0m\n\u001b[1;32m      3\u001b[0m         \u001b[0;32mimport\u001b[0m \u001b[0msys\u001b[0m\u001b[0;34m,\u001b[0m \u001b[0mtraceback\u001b[0m\u001b[0;34m\u001b[0m\u001b[0;34m\u001b[0m\u001b[0m\n\u001b[1;32m      4\u001b[0m         \u001b[0;34m(\u001b[0m\u001b[0mfilename\u001b[0m\u001b[0;34m,\u001b[0m \u001b[0mlineno\u001b[0m\u001b[0;34m,\u001b[0m \u001b[0mcontainer\u001b[0m\u001b[0;34m,\u001b[0m \u001b[0mcode\u001b[0m\u001b[0;34m)\u001b[0m \u001b[0;34m=\u001b[0m \u001b[0mtraceback\u001b[0m\u001b[0;34m.\u001b[0m\u001b[0mextract_stack\u001b[0m\u001b[0;34m(\u001b[0m\u001b[0;34m)\u001b[0m\u001b[0;34m[\u001b[0m\u001b[0;34m-\u001b[0m\u001b[0;36m2\u001b[0m\u001b[0;34m]\u001b[0m\u001b[0;34m\u001b[0m\u001b[0;34m\u001b[0m\u001b[0m\n\u001b[0;32m----> 5\u001b[0;31m         \u001b[0mprint\u001b[0m\u001b[0;34m(\u001b[0m\u001b[0;34m\"Test: {} failed on line {} in file {}.\\nExpected {} but got {}\\n\"\u001b[0m\u001b[0;34m.\u001b[0m\u001b[0mformat\u001b[0m\u001b[0;34m(\u001b[0m\u001b[0;34m(\u001b[0m\u001b[0mcode\u001b[0m\u001b[0;34m,\u001b[0m \u001b[0mlineno\u001b[0m\u001b[0;34m,\u001b[0m \u001b[0mfilename\u001b[0m\u001b[0;34m,\u001b[0m \u001b[0mexpected\u001b[0m\u001b[0;34m,\u001b[0m \u001b[0mactual\u001b[0m\u001b[0;34m)\u001b[0m\u001b[0;34m)\u001b[0m\u001b[0;34m)\u001b[0m\u001b[0;34m\u001b[0m\u001b[0;34m\u001b[0m\u001b[0m\n\u001b[0m",
      "\u001b[0;31mIndexError\u001b[0m: tuple index out of range"
     ]
    }
   ],
   "source": [
    "test3()"
   ]
  },
  {
   "cell_type": "markdown",
   "metadata": {},
   "source": [
    "Ca suffit pour ces exemples."
   ]
  },
  {
   "cell_type": "markdown",
   "metadata": {},
   "source": [
    "## Conclusion\n",
    "\n",
    "C'est bon pour aujourd'hui !"
   ]
  }
 ],
 "metadata": {
  "kernelspec": {
   "display_name": "Python 3",
   "language": "python",
   "name": "python3"
  },
  "language_info": {
   "codemirror_mode": {
    "name": "ipython",
    "version": 3
   },
   "file_extension": ".py",
   "mimetype": "text/x-python",
   "name": "python",
   "nbconvert_exporter": "python",
   "pygments_lexer": "ipython3",
   "version": "3.7.5rc1"
  },
  "toc": {
   "colors": {
    "hover_highlight": "#DAA520",
    "running_highlight": "#FF0000",
    "selected_highlight": "#FFD700"
   },
   "moveMenuLeft": true,
   "nav_menu": {
    "height": "356.867px",
    "width": "446.667px"
   },
   "navigate_menu": true,
   "number_sections": true,
   "sideBar": false,
   "threshold": 4,
   "toc_cell": true,
   "toc_position": {
    "height": "125.667px",
    "left": "987.583px",
    "right": "20px",
    "top": "104px",
    "width": "255.917px"
   },
   "toc_section_display": "none",
   "toc_window_display": true
  },
  "varInspector": {
   "cols": {
    "lenName": 16,
    "lenType": 16,
    "lenVar": 40
   },
   "kernels_config": {
    "python": {
     "delete_cmd_postfix": "",
     "delete_cmd_prefix": "del ",
     "library": "var_list.py",
     "varRefreshCmd": "print(var_dic_list())"
    },
    "r": {
     "delete_cmd_postfix": ") ",
     "delete_cmd_prefix": "rm(",
     "library": "var_list.r",
     "varRefreshCmd": "cat(var_dic_list()) "
    }
   },
   "position": {
    "height": "247.85px",
    "left": "829.5px",
    "right": "20px",
    "top": "307px",
    "width": "470.5px"
   },
   "types_to_exclude": [
    "module",
    "function",
    "builtin_function_or_method",
    "instance",
    "_Feature"
   ],
   "window_display": false
  },
  "widgets": {
   "application/vnd.jupyter.widget-state+json": {
    "state": {
     "038a808e883447f29c7d1ac0b392a0d3": {
      "model_module": "@jupyter-widgets/controls",
      "model_module_version": "1.4.0",
      "model_name": "HBoxModel",
      "state": {
       "children": [
        "IPY_MODEL_4aaf5ca76a38467087582b42de1f6a1e",
        "IPY_MODEL_d614664cf99743889aa9b084525990d8"
       ],
       "layout": "IPY_MODEL_c02a451e0731469ea91cc39abbf14c48"
      }
     },
     "03fa6285b902493bbc52e73542eb6bd3": {
      "model_module": "@jupyter-widgets/controls",
      "model_module_version": "1.4.0",
      "model_name": "HTMLModel",
      "state": {
       "layout": "IPY_MODEL_14d24c174ecb4428af82666854e1ed83",
       "style": "IPY_MODEL_108a32808a0b43bda9b869081b96b80b",
       "value": "100% 12/12 [00:00&lt;00:00, 15.79it/s]"
      }
     },
     "040769e561d949e39b17361d682bb4a8": {
      "model_module": "@jupyter-widgets/controls",
      "model_module_version": "1.4.0",
      "model_name": "IntProgressModel",
      "state": {
       "bar_style": "success",
       "layout": "IPY_MODEL_61ab17aa9e4540939240cce1f8b4c32e",
       "max": 31,
       "style": "IPY_MODEL_7a2861a1cfdb45bdac48eb59c8b660bc",
       "value": 31
      }
     },
     "043afb832aa3492482fd973bb9d9bd7a": {
      "model_module": "@jupyter-widgets/controls",
      "model_module_version": "1.4.0",
      "model_name": "ProgressStyleModel",
      "state": {
       "description_width": ""
      }
     },
     "04fe7b5bda3e4a4fb6218fa292b77714": {
      "model_module": "@jupyter-widgets/controls",
      "model_module_version": "1.4.0",
      "model_name": "IntProgressModel",
      "state": {
       "bar_style": "success",
       "layout": "IPY_MODEL_16b894adae9e402f82bbd843b91510cf",
       "max": 3,
       "style": "IPY_MODEL_e518bcea114a41ec8900a5dad806fa8b",
       "value": 3
      }
     },
     "07f2b1c3f170407fa620b52e90db8940": {
      "model_module": "@jupyter-widgets/base",
      "model_module_version": "1.1.0",
      "model_name": "LayoutModel",
      "state": {}
     },
     "085e6cabb67240d4a0e1c2ab7c937c98": {
      "model_module": "@jupyter-widgets/base",
      "model_module_version": "1.1.0",
      "model_name": "LayoutModel",
      "state": {}
     },
     "0ae749625db249539e573bdfcd6fa23c": {
      "model_module": "@jupyter-widgets/base",
      "model_module_version": "1.1.0",
      "model_name": "LayoutModel",
      "state": {}
     },
     "0c7b9244ca3d4cfca64cc68c62c676ef": {
      "model_module": "@jupyter-widgets/controls",
      "model_module_version": "1.4.0",
      "model_name": "HBoxModel",
      "state": {
       "children": [
        "IPY_MODEL_2ac95f4aedb04f5a9a5fa5361f2b5d49",
        "IPY_MODEL_fb9bace579f64af4b7ebb87789031257"
       ],
       "layout": "IPY_MODEL_2c2f47043664427b9fe40d9dab59f5be"
      }
     },
     "0f40caa17b6f45b19f9b67db6af682c3": {
      "model_module": "@jupyter-widgets/controls",
      "model_module_version": "1.4.0",
      "model_name": "IntProgressModel",
      "state": {
       "bar_style": "success",
       "layout": "IPY_MODEL_432a0f81101043fc812406cb9699cf55",
       "max": 12,
       "style": "IPY_MODEL_6d05a0207eb44be8a8194d7672bc3dc3",
       "value": 12
      }
     },
     "0f5c61300af74d9c87b2e169a8d59564": {
      "model_module": "@jupyter-widgets/controls",
      "model_module_version": "1.4.0",
      "model_name": "ProgressStyleModel",
      "state": {
       "description_width": ""
      }
     },
     "0fad5d8fdefd419584c192c1edb6a221": {
      "model_module": "@jupyter-widgets/base",
      "model_module_version": "1.1.0",
      "model_name": "LayoutModel",
      "state": {}
     },
     "108a32808a0b43bda9b869081b96b80b": {
      "model_module": "@jupyter-widgets/controls",
      "model_module_version": "1.4.0",
      "model_name": "DescriptionStyleModel",
      "state": {
       "description_width": ""
      }
     },
     "1099c3fb624b4608ac4d8274ff57ff46": {
      "model_module": "@jupyter-widgets/controls",
      "model_module_version": "1.4.0",
      "model_name": "DescriptionStyleModel",
      "state": {
       "description_width": ""
      }
     },
     "10faff5efd034dcdb1c98cb172282a64": {
      "model_module": "@jupyter-widgets/controls",
      "model_module_version": "1.4.0",
      "model_name": "HBoxModel",
      "state": {
       "children": [
        "IPY_MODEL_cc3f0a0bd1aa420dadbac06d59055840",
        "IPY_MODEL_88ca85eee0ea4bbfa3392ffd1b551a6b"
       ],
       "layout": "IPY_MODEL_d789bc6629a04beda166086b2d652d4c"
      }
     },
     "1135c69a55d04878a6716a594f46043e": {
      "model_module": "@jupyter-widgets/base",
      "model_module_version": "1.1.0",
      "model_name": "LayoutModel",
      "state": {}
     },
     "1156627bae864085bbc3167c5b2a5cb3": {
      "model_module": "@jupyter-widgets/controls",
      "model_module_version": "1.4.0",
      "model_name": "DescriptionStyleModel",
      "state": {
       "description_width": ""
      }
     },
     "14d24c174ecb4428af82666854e1ed83": {
      "model_module": "@jupyter-widgets/base",
      "model_module_version": "1.1.0",
      "model_name": "LayoutModel",
      "state": {}
     },
     "16b894adae9e402f82bbd843b91510cf": {
      "model_module": "@jupyter-widgets/base",
      "model_module_version": "1.1.0",
      "model_name": "LayoutModel",
      "state": {}
     },
     "17c69c17ec8344d2aeee5ae6dee93ce6": {
      "model_module": "@jupyter-widgets/base",
      "model_module_version": "1.1.0",
      "model_name": "LayoutModel",
      "state": {}
     },
     "19ca5418edce46e0985b6f1868b3938d": {
      "model_module": "@jupyter-widgets/controls",
      "model_module_version": "1.4.0",
      "model_name": "HTMLModel",
      "state": {
       "layout": "IPY_MODEL_5cae48b866984d99a1e15f8822d57ed9",
       "style": "IPY_MODEL_a194ac9f28564a6a805b24a1a742838c",
       "value": "100% 7/7 [01:56&lt;00:00, 28.35s/it]"
      }
     },
     "19dfb39fd56341bebbd9237d9e89f203": {
      "model_module": "@jupyter-widgets/base",
      "model_module_version": "1.1.0",
      "model_name": "LayoutModel",
      "state": {}
     },
     "1b4f155261eb469da0da9cbb96741044": {
      "model_module": "@jupyter-widgets/controls",
      "model_module_version": "1.4.0",
      "model_name": "HBoxModel",
      "state": {
       "children": [
        "IPY_MODEL_27199a9b964f4b8f94946e1a80cee138",
        "IPY_MODEL_7a4cd3a8b19d4fe58ed4d6d8f4ecae0e"
       ],
       "layout": "IPY_MODEL_db91f69593764d1fbc8593c6264df3a7"
      }
     },
     "1c5f395493bd433f8e92eb500d44862d": {
      "model_module": "@jupyter-widgets/controls",
      "model_module_version": "1.4.0",
      "model_name": "IntProgressModel",
      "state": {
       "bar_style": "danger",
       "layout": "IPY_MODEL_a40922ef137340309aa9e6ddf294db03",
       "max": 7,
       "style": "IPY_MODEL_50d0d112d940487c95b9608c1e3608cd",
       "value": 6
      }
     },
     "1df7feba439d4c2aa3690f66d4d864d5": {
      "model_module": "@jupyter-widgets/controls",
      "model_module_version": "1.4.0",
      "model_name": "HBoxModel",
      "state": {
       "children": [
        "IPY_MODEL_04fe7b5bda3e4a4fb6218fa292b77714",
        "IPY_MODEL_3aadc590d2974110b54dd098ef86272d"
       ],
       "layout": "IPY_MODEL_46d59768c3d24bfa8cd8cf65fdc9c733"
      }
     },
     "211f4c9ceba64de0b46c4e32ce02a19a": {
      "model_module": "@jupyter-widgets/controls",
      "model_module_version": "1.4.0",
      "model_name": "ProgressStyleModel",
      "state": {
       "description_width": ""
      }
     },
     "26d92d4de76a46548d6957f246f6310d": {
      "model_module": "@jupyter-widgets/controls",
      "model_module_version": "1.4.0",
      "model_name": "IntProgressModel",
      "state": {
       "bar_style": "success",
       "layout": "IPY_MODEL_9b02ea3549db47f68abf6d46bc076fba",
       "max": 7,
       "style": "IPY_MODEL_bb1ecde5326d4c6cb5cb3f50941865f9",
       "value": 7
      }
     },
     "27199a9b964f4b8f94946e1a80cee138": {
      "model_module": "@jupyter-widgets/controls",
      "model_module_version": "1.4.0",
      "model_name": "IntProgressModel",
      "state": {
       "bar_style": "danger",
       "layout": "IPY_MODEL_5d84ecdf55794062bc15794cd6d48d87",
       "max": 12,
       "style": "IPY_MODEL_cc2ce2b0abab4704b0d580cdd7897c24",
       "value": 8
      }
     },
     "281631f2651241d896b1300b748f94cc": {
      "model_module": "@jupyter-widgets/controls",
      "model_module_version": "1.4.0",
      "model_name": "IntProgressModel",
      "state": {
       "bar_style": "success",
       "layout": "IPY_MODEL_9a939ec092234106b3bbf13266650f29",
       "max": 29,
       "style": "IPY_MODEL_aa66c2d953c84ef9902875ccbc9c994e",
       "value": 29
      }
     },
     "2ac95f4aedb04f5a9a5fa5361f2b5d49": {
      "model_module": "@jupyter-widgets/controls",
      "model_module_version": "1.4.0",
      "model_name": "IntProgressModel",
      "state": {
       "bar_style": "success",
       "layout": "IPY_MODEL_3705518094ba492db64884c7d9934ddf",
       "max": 31,
       "style": "IPY_MODEL_211f4c9ceba64de0b46c4e32ce02a19a",
       "value": 31
      }
     },
     "2b5f53a0083041e88ab8b35fbcb6adec": {
      "model_module": "@jupyter-widgets/base",
      "model_module_version": "1.1.0",
      "model_name": "LayoutModel",
      "state": {}
     },
     "2bbce2307fd74e7fb6b48d80cf8b147a": {
      "model_module": "@jupyter-widgets/controls",
      "model_module_version": "1.4.0",
      "model_name": "HTMLModel",
      "state": {
       "layout": "IPY_MODEL_4c3a4ac37bb349259fa3840a25b52a9f",
       "style": "IPY_MODEL_bc47080108594d6398376ec90247fd7f",
       "value": "100% 29/29 [01:42&lt;00:00,  7.61s/it]"
      }
     },
     "2c2f47043664427b9fe40d9dab59f5be": {
      "model_module": "@jupyter-widgets/base",
      "model_module_version": "1.1.0",
      "model_name": "LayoutModel",
      "state": {}
     },
     "2f4fa306f59d47a0a4c1fb41de63ccc6": {
      "model_module": "@jupyter-widgets/controls",
      "model_module_version": "1.4.0",
      "model_name": "HBoxModel",
      "state": {
       "children": [
        "IPY_MODEL_312e2c5fb4744ee9aca6e5cba42c05f8",
        "IPY_MODEL_03fa6285b902493bbc52e73542eb6bd3"
       ],
       "layout": "IPY_MODEL_616c61e0e1774e4dba06565d10df95e7"
      }
     },
     "30e0a8eb04c8484caeb06471a6b297b1": {
      "model_module": "@jupyter-widgets/controls",
      "model_module_version": "1.4.0",
      "model_name": "ProgressStyleModel",
      "state": {
       "description_width": ""
      }
     },
     "312e2c5fb4744ee9aca6e5cba42c05f8": {
      "model_module": "@jupyter-widgets/controls",
      "model_module_version": "1.4.0",
      "model_name": "IntProgressModel",
      "state": {
       "bar_style": "success",
       "layout": "IPY_MODEL_f504214792524c2cbbb8997e99aa7714",
       "max": 12,
       "style": "IPY_MODEL_30e0a8eb04c8484caeb06471a6b297b1",
       "value": 12
      }
     },
     "3151f3436ad948f79765fcfb5cb64831": {
      "model_module": "@jupyter-widgets/controls",
      "model_module_version": "1.4.0",
      "model_name": "HBoxModel",
      "state": {
       "children": [
        "IPY_MODEL_ac9c8dcde2c14dbaa1173c31993a8425",
        "IPY_MODEL_7b16d9396fa8440d8b26d4309aac9dae"
       ],
       "layout": "IPY_MODEL_ac4b2cd6abad4fbe9129ad2b39f79d1c"
      }
     },
     "3191d73e3295402c9256a8e48a55fcde": {
      "model_module": "@jupyter-widgets/controls",
      "model_module_version": "1.4.0",
      "model_name": "HBoxModel",
      "state": {
       "children": [
        "IPY_MODEL_3cf71691ed3a45788e854120454ffb91",
        "IPY_MODEL_19ca5418edce46e0985b6f1868b3938d"
       ],
       "layout": "IPY_MODEL_1135c69a55d04878a6716a594f46043e"
      }
     },
     "3288f5a70453437e8314c7c34446ad83": {
      "model_module": "@jupyter-widgets/base",
      "model_module_version": "1.1.0",
      "model_name": "LayoutModel",
      "state": {}
     },
     "346f9bacb61742f2986f3122a483fba8": {
      "model_module": "@jupyter-widgets/controls",
      "model_module_version": "1.4.0",
      "model_name": "HTMLModel",
      "state": {
       "layout": "IPY_MODEL_a70802ad133141da868681929f5d88ff",
       "style": "IPY_MODEL_cb792cc3dd3c4364a1349aa2cac5787b",
       "value": "100% 7/7 [03:46&lt;00:00, 40.23s/it]"
      }
     },
     "3705518094ba492db64884c7d9934ddf": {
      "model_module": "@jupyter-widgets/base",
      "model_module_version": "1.1.0",
      "model_name": "LayoutModel",
      "state": {}
     },
     "3aadc590d2974110b54dd098ef86272d": {
      "model_module": "@jupyter-widgets/controls",
      "model_module_version": "1.4.0",
      "model_name": "HTMLModel",
      "state": {
       "layout": "IPY_MODEL_5af9d90ad30a413c81b668595c956fae",
       "style": "IPY_MODEL_a9b1bb6a3b6a49169375e58370f202fe",
       "value": "100% 3/3 [03:01&lt;00:00, 69.98s/it]"
      }
     },
     "3b29ecca74e8449b80feed12f6b06af0": {
      "model_module": "@jupyter-widgets/controls",
      "model_module_version": "1.4.0",
      "model_name": "HTMLModel",
      "state": {
       "layout": "IPY_MODEL_07f2b1c3f170407fa620b52e90db8940",
       "style": "IPY_MODEL_9e73f2763bcd4b90b948af8e06572ddd",
       "value": "100% 20/20 [00:43&lt;00:00,  5.19s/it]"
      }
     },
     "3cf71691ed3a45788e854120454ffb91": {
      "model_module": "@jupyter-widgets/controls",
      "model_module_version": "1.4.0",
      "model_name": "IntProgressModel",
      "state": {
       "bar_style": "success",
       "layout": "IPY_MODEL_b79ec55a28294c6bbf956dfc8e61c6d2",
       "max": 7,
       "style": "IPY_MODEL_f1361377c3184fb688b28bfe61451e86",
       "value": 7
      }
     },
     "3e8208665dc144d2bf9e241de55a3474": {
      "model_module": "@jupyter-widgets/controls",
      "model_module_version": "1.4.0",
      "model_name": "IntProgressModel",
      "state": {
       "bar_style": "success",
       "layout": "IPY_MODEL_bf76cbb0d2574155994bccb941ded25f",
       "max": 10,
       "style": "IPY_MODEL_b222bf4c0fce42989a3914fb2c6e45a2",
       "value": 10
      }
     },
     "432a0f81101043fc812406cb9699cf55": {
      "model_module": "@jupyter-widgets/base",
      "model_module_version": "1.1.0",
      "model_name": "LayoutModel",
      "state": {}
     },
     "43cd3c30e9ed40589af0a84e4ad8165a": {
      "model_module": "@jupyter-widgets/controls",
      "model_module_version": "1.4.0",
      "model_name": "HTMLModel",
      "state": {
       "layout": "IPY_MODEL_3288f5a70453437e8314c7c34446ad83",
       "style": "IPY_MODEL_1156627bae864085bbc3167c5b2a5cb3",
       "value": "100% 31/31 [03:22&lt;00:00, 13.89s/it]"
      }
     },
     "45782461847b48c1ad3bd0bff91a213a": {
      "model_module": "@jupyter-widgets/controls",
      "model_module_version": "1.4.0",
      "model_name": "ProgressStyleModel",
      "state": {
       "description_width": ""
      }
     },
     "46d59768c3d24bfa8cd8cf65fdc9c733": {
      "model_module": "@jupyter-widgets/base",
      "model_module_version": "1.1.0",
      "model_name": "LayoutModel",
      "state": {}
     },
     "488d7a0878974888921fe30c7a8ccce6": {
      "model_module": "@jupyter-widgets/base",
      "model_module_version": "1.1.0",
      "model_name": "LayoutModel",
      "state": {}
     },
     "4aaf5ca76a38467087582b42de1f6a1e": {
      "model_module": "@jupyter-widgets/controls",
      "model_module_version": "1.4.0",
      "model_name": "IntProgressModel",
      "state": {
       "bar_style": "success",
       "layout": "IPY_MODEL_d86d424d7d2040bea285a821eb3ffaf6",
       "max": 54,
       "style": "IPY_MODEL_fc2e0e50b4024f2089000a027350ad62",
       "value": 54
      }
     },
     "4c3a4ac37bb349259fa3840a25b52a9f": {
      "model_module": "@jupyter-widgets/base",
      "model_module_version": "1.1.0",
      "model_name": "LayoutModel",
      "state": {}
     },
     "4cd9f8c1d14a460592573b5d5f4d1e68": {
      "model_module": "@jupyter-widgets/controls",
      "model_module_version": "1.4.0",
      "model_name": "DescriptionStyleModel",
      "state": {
       "description_width": ""
      }
     },
     "50d0d112d940487c95b9608c1e3608cd": {
      "model_module": "@jupyter-widgets/controls",
      "model_module_version": "1.4.0",
      "model_name": "ProgressStyleModel",
      "state": {
       "description_width": ""
      }
     },
     "51d92572e6f54d109233622b9df400d2": {
      "model_module": "@jupyter-widgets/base",
      "model_module_version": "1.1.0",
      "model_name": "LayoutModel",
      "state": {}
     },
     "55cf5fec981649bcb4030394e0533126": {
      "model_module": "@jupyter-widgets/controls",
      "model_module_version": "1.4.0",
      "model_name": "HTMLModel",
      "state": {
       "layout": "IPY_MODEL_085e6cabb67240d4a0e1c2ab7c937c98",
       "style": "IPY_MODEL_d6f82401681841eea4d5bb6bd1cff8de",
       "value": " 86% 6/7 [03:18&lt;00:34, 34.82s/it]"
      }
     },
     "561d35d11c2042e48fd4aff270af7c1d": {
      "model_module": "@jupyter-widgets/controls",
      "model_module_version": "1.4.0",
      "model_name": "HBoxModel",
      "state": {
       "children": [
        "IPY_MODEL_1c5f395493bd433f8e92eb500d44862d",
        "IPY_MODEL_55cf5fec981649bcb4030394e0533126"
       ],
       "layout": "IPY_MODEL_51d92572e6f54d109233622b9df400d2"
      }
     },
     "5724b7c6629e42db98f82141d3346d3f": {
      "model_module": "@jupyter-widgets/controls",
      "model_module_version": "1.4.0",
      "model_name": "HTMLModel",
      "state": {
       "layout": "IPY_MODEL_0ae749625db249539e573bdfcd6fa23c",
       "style": "IPY_MODEL_8ebb3008c95c416489b9db29d758008c",
       "value": "100% 29/29 [00:16&lt;00:00,  1.18s/it]"
      }
     },
     "5a4e30bceb904ec682ca0d37ae4da0f6": {
      "model_module": "@jupyter-widgets/base",
      "model_module_version": "1.1.0",
      "model_name": "LayoutModel",
      "state": {}
     },
     "5aba36f9297242688598109bc09046de": {
      "model_module": "@jupyter-widgets/controls",
      "model_module_version": "1.4.0",
      "model_name": "DescriptionStyleModel",
      "state": {
       "description_width": ""
      }
     },
     "5af9d90ad30a413c81b668595c956fae": {
      "model_module": "@jupyter-widgets/base",
      "model_module_version": "1.1.0",
      "model_name": "LayoutModel",
      "state": {}
     },
     "5cae48b866984d99a1e15f8822d57ed9": {
      "model_module": "@jupyter-widgets/base",
      "model_module_version": "1.1.0",
      "model_name": "LayoutModel",
      "state": {}
     },
     "5d84ecdf55794062bc15794cd6d48d87": {
      "model_module": "@jupyter-widgets/base",
      "model_module_version": "1.1.0",
      "model_name": "LayoutModel",
      "state": {}
     },
     "5f7e65435bd74f0eb6a1c412dfb425cc": {
      "model_module": "@jupyter-widgets/controls",
      "model_module_version": "1.4.0",
      "model_name": "DescriptionStyleModel",
      "state": {
       "description_width": ""
      }
     },
     "6058d32ac02e46f996d50b029a65b1a4": {
      "model_module": "@jupyter-widgets/controls",
      "model_module_version": "1.4.0",
      "model_name": "DescriptionStyleModel",
      "state": {
       "description_width": ""
      }
     },
     "616c61e0e1774e4dba06565d10df95e7": {
      "model_module": "@jupyter-widgets/base",
      "model_module_version": "1.1.0",
      "model_name": "LayoutModel",
      "state": {}
     },
     "61ab17aa9e4540939240cce1f8b4c32e": {
      "model_module": "@jupyter-widgets/base",
      "model_module_version": "1.1.0",
      "model_name": "LayoutModel",
      "state": {}
     },
     "63d4d742d31e49eb9f408d4b1d5205a8": {
      "model_module": "@jupyter-widgets/controls",
      "model_module_version": "1.4.0",
      "model_name": "HBoxModel",
      "state": {
       "children": [
        "IPY_MODEL_281631f2651241d896b1300b748f94cc",
        "IPY_MODEL_5724b7c6629e42db98f82141d3346d3f"
       ],
       "layout": "IPY_MODEL_6ec3aa7a23a64d20995bdf93351224f2"
      }
     },
     "646c3ac9c11944748551fbf8c83663b1": {
      "model_module": "@jupyter-widgets/controls",
      "model_module_version": "1.4.0",
      "model_name": "IntProgressModel",
      "state": {
       "bar_style": "success",
       "layout": "IPY_MODEL_488d7a0878974888921fe30c7a8ccce6",
       "max": 29,
       "style": "IPY_MODEL_ae8a07808b3e45859f3cd921f129124b",
       "value": 29
      }
     },
     "6523bce4fdfa4c3fa9dcbdf938bdd0c8": {
      "model_module": "@jupyter-widgets/base",
      "model_module_version": "1.1.0",
      "model_name": "LayoutModel",
      "state": {}
     },
     "67b4ef9809f6494c8230ffa837fb5f2d": {
      "model_module": "@jupyter-widgets/base",
      "model_module_version": "1.1.0",
      "model_name": "LayoutModel",
      "state": {}
     },
     "6b805139fe6c41569daca84ea2ffe481": {
      "model_module": "@jupyter-widgets/controls",
      "model_module_version": "1.4.0",
      "model_name": "IntProgressModel",
      "state": {
       "bar_style": "danger",
       "layout": "IPY_MODEL_c18b42844be044dba18dfeac8ec3a023",
       "max": 10,
       "style": "IPY_MODEL_8a96cd5395da41e3bad8d6138f7e037e",
       "value": 6
      }
     },
     "6ba3ed172cee4b3b89a13534c31dc73b": {
      "model_module": "@jupyter-widgets/controls",
      "model_module_version": "1.4.0",
      "model_name": "HBoxModel",
      "state": {
       "children": [
        "IPY_MODEL_26d92d4de76a46548d6957f246f6310d",
        "IPY_MODEL_346f9bacb61742f2986f3122a483fba8"
       ],
       "layout": "IPY_MODEL_0fad5d8fdefd419584c192c1edb6a221"
      }
     },
     "6becc8561baa4be3bf1bade2dd98d258": {
      "model_module": "@jupyter-widgets/controls",
      "model_module_version": "1.4.0",
      "model_name": "IntProgressModel",
      "state": {
       "bar_style": "danger",
       "layout": "IPY_MODEL_c694e055ee8f4be6a612d919ab8a4096",
       "max": 10,
       "style": "IPY_MODEL_84ab3d3d9b4846ba8e82ed413f410a00",
       "value": 6
      }
     },
     "6d05a0207eb44be8a8194d7672bc3dc3": {
      "model_module": "@jupyter-widgets/controls",
      "model_module_version": "1.4.0",
      "model_name": "ProgressStyleModel",
      "state": {
       "description_width": ""
      }
     },
     "6ec3aa7a23a64d20995bdf93351224f2": {
      "model_module": "@jupyter-widgets/base",
      "model_module_version": "1.1.0",
      "model_name": "LayoutModel",
      "state": {}
     },
     "774238a7f4bc4bc39881b33452244ce3": {
      "model_module": "@jupyter-widgets/base",
      "model_module_version": "1.1.0",
      "model_name": "LayoutModel",
      "state": {}
     },
     "7a2861a1cfdb45bdac48eb59c8b660bc": {
      "model_module": "@jupyter-widgets/controls",
      "model_module_version": "1.4.0",
      "model_name": "ProgressStyleModel",
      "state": {
       "description_width": ""
      }
     },
     "7a4cd3a8b19d4fe58ed4d6d8f4ecae0e": {
      "model_module": "@jupyter-widgets/controls",
      "model_module_version": "1.4.0",
      "model_name": "HTMLModel",
      "state": {
       "layout": "IPY_MODEL_a6d7e8cc772f4b44ba43a23a407e7c12",
       "style": "IPY_MODEL_4cd9f8c1d14a460592573b5d5f4d1e68",
       "value": " 67% 8/12 [01:42&lt;01:34, 23.63s/it]"
      }
     },
     "7ab2be73db8c40cc896e0249bd3ea500": {
      "model_module": "@jupyter-widgets/controls",
      "model_module_version": "1.4.0",
      "model_name": "DescriptionStyleModel",
      "state": {
       "description_width": ""
      }
     },
     "7b16d9396fa8440d8b26d4309aac9dae": {
      "model_module": "@jupyter-widgets/controls",
      "model_module_version": "1.4.0",
      "model_name": "HTMLModel",
      "state": {
       "layout": "IPY_MODEL_b7ee7f0454ef43edba44cdb7eff62621",
       "style": "IPY_MODEL_7ab2be73db8c40cc896e0249bd3ea500",
       "value": "100% 54/54 [07:16&lt;00:00, 17.43s/it]"
      }
     },
     "7fbd082af14d4d7c80850630b4dd8abc": {
      "model_module": "@jupyter-widgets/controls",
      "model_module_version": "1.4.0",
      "model_name": "ProgressStyleModel",
      "state": {
       "description_width": ""
      }
     },
     "81dc1a7f9d6b4555a8531f2035bdcabb": {
      "model_module": "@jupyter-widgets/controls",
      "model_module_version": "1.4.0",
      "model_name": "DescriptionStyleModel",
      "state": {
       "description_width": ""
      }
     },
     "84ab3d3d9b4846ba8e82ed413f410a00": {
      "model_module": "@jupyter-widgets/controls",
      "model_module_version": "1.4.0",
      "model_name": "ProgressStyleModel",
      "state": {
       "description_width": ""
      }
     },
     "871966c94ef9408abec03ebe24d83c8c": {
      "model_module": "@jupyter-widgets/controls",
      "model_module_version": "1.4.0",
      "model_name": "DescriptionStyleModel",
      "state": {
       "description_width": ""
      }
     },
     "874451d3927c4f3ba141d58c95f9e1df": {
      "model_module": "@jupyter-widgets/base",
      "model_module_version": "1.1.0",
      "model_name": "LayoutModel",
      "state": {}
     },
     "875b2a51333945eaa1b8cc990026d552": {
      "model_module": "@jupyter-widgets/controls",
      "model_module_version": "1.4.0",
      "model_name": "HBoxModel",
      "state": {
       "children": [
        "IPY_MODEL_040769e561d949e39b17361d682bb4a8",
        "IPY_MODEL_43cd3c30e9ed40589af0a84e4ad8165a"
       ],
       "layout": "IPY_MODEL_cb8738fbc3d54b8ea12d23b970356248"
      }
     },
     "879f8389ba634454a659800af5cb86af": {
      "model_module": "@jupyter-widgets/controls",
      "model_module_version": "1.4.0",
      "model_name": "HBoxModel",
      "state": {
       "children": [
        "IPY_MODEL_6b805139fe6c41569daca84ea2ffe481",
        "IPY_MODEL_9890ec07a2c3471aa01debbe383ea5fc"
       ],
       "layout": "IPY_MODEL_a940997b240a4defb0456caa12daac3b"
      }
     },
     "88ca85eee0ea4bbfa3392ffd1b551a6b": {
      "model_module": "@jupyter-widgets/controls",
      "model_module_version": "1.4.0",
      "model_name": "HTMLModel",
      "state": {
       "layout": "IPY_MODEL_8dbd8bf993fa4539907fe0e6c78392e0",
       "style": "IPY_MODEL_b94e521c2a3a44f296118d04fbadbb32",
       "value": " 95% 19/20 [01:45&lt;00:20, 20.90s/it]"
      }
     },
     "89933b9a9199439b9ea396b231b846bc": {
      "model_module": "@jupyter-widgets/controls",
      "model_module_version": "1.4.0",
      "model_name": "HBoxModel",
      "state": {
       "children": [
        "IPY_MODEL_afa63380b5d94daa93c89a7f76e73643",
        "IPY_MODEL_3b29ecca74e8449b80feed12f6b06af0"
       ],
       "layout": "IPY_MODEL_19dfb39fd56341bebbd9237d9e89f203"
      }
     },
     "89bf37d725d0422ead1e32f25f1ff7a8": {
      "model_module": "@jupyter-widgets/controls",
      "model_module_version": "1.4.0",
      "model_name": "HBoxModel",
      "state": {
       "children": [
        "IPY_MODEL_646c3ac9c11944748551fbf8c83663b1",
        "IPY_MODEL_2bbce2307fd74e7fb6b48d80cf8b147a"
       ],
       "layout": "IPY_MODEL_17c69c17ec8344d2aeee5ae6dee93ce6"
      }
     },
     "8a17eda6529f4191b2f375295f59cd1d": {
      "model_module": "@jupyter-widgets/base",
      "model_module_version": "1.1.0",
      "model_name": "LayoutModel",
      "state": {}
     },
     "8a96cd5395da41e3bad8d6138f7e037e": {
      "model_module": "@jupyter-widgets/controls",
      "model_module_version": "1.4.0",
      "model_name": "ProgressStyleModel",
      "state": {
       "description_width": ""
      }
     },
     "8dbd8bf993fa4539907fe0e6c78392e0": {
      "model_module": "@jupyter-widgets/base",
      "model_module_version": "1.1.0",
      "model_name": "LayoutModel",
      "state": {}
     },
     "8ebb3008c95c416489b9db29d758008c": {
      "model_module": "@jupyter-widgets/controls",
      "model_module_version": "1.4.0",
      "model_name": "DescriptionStyleModel",
      "state": {
       "description_width": ""
      }
     },
     "920ad25e46724413a54d0297ff4f0d54": {
      "model_module": "@jupyter-widgets/base",
      "model_module_version": "1.1.0",
      "model_name": "LayoutModel",
      "state": {}
     },
     "9890ec07a2c3471aa01debbe383ea5fc": {
      "model_module": "@jupyter-widgets/controls",
      "model_module_version": "1.4.0",
      "model_name": "HTMLModel",
      "state": {
       "layout": "IPY_MODEL_920ad25e46724413a54d0297ff4f0d54",
       "style": "IPY_MODEL_b14da71dd7b345b08c62107bd73f2708",
       "value": " 60% 6/10 [00:47&lt;00:48, 12.22s/it]"
      }
     },
     "9a939ec092234106b3bbf13266650f29": {
      "model_module": "@jupyter-widgets/base",
      "model_module_version": "1.1.0",
      "model_name": "LayoutModel",
      "state": {}
     },
     "9b02ea3549db47f68abf6d46bc076fba": {
      "model_module": "@jupyter-widgets/base",
      "model_module_version": "1.1.0",
      "model_name": "LayoutModel",
      "state": {}
     },
     "9e73f2763bcd4b90b948af8e06572ddd": {
      "model_module": "@jupyter-widgets/controls",
      "model_module_version": "1.4.0",
      "model_name": "DescriptionStyleModel",
      "state": {
       "description_width": ""
      }
     },
     "9e90f3d114ab477bb44ce96e057fde81": {
      "model_module": "@jupyter-widgets/base",
      "model_module_version": "1.1.0",
      "model_name": "LayoutModel",
      "state": {}
     },
     "a194ac9f28564a6a805b24a1a742838c": {
      "model_module": "@jupyter-widgets/controls",
      "model_module_version": "1.4.0",
      "model_name": "DescriptionStyleModel",
      "state": {
       "description_width": ""
      }
     },
     "a1ed86f696f14feeabfab9678e5b6e42": {
      "model_module": "@jupyter-widgets/controls",
      "model_module_version": "1.4.0",
      "model_name": "IntProgressModel",
      "state": {
       "bar_style": "success",
       "layout": "IPY_MODEL_d336c78bedf242c78b8e6de9e0aab70e",
       "max": 3,
       "style": "IPY_MODEL_45782461847b48c1ad3bd0bff91a213a",
       "value": 3
      }
     },
     "a34f3e8def0649618235b0c8d9648d99": {
      "model_module": "@jupyter-widgets/controls",
      "model_module_version": "1.4.0",
      "model_name": "DescriptionStyleModel",
      "state": {
       "description_width": ""
      }
     },
     "a40922ef137340309aa9e6ddf294db03": {
      "model_module": "@jupyter-widgets/base",
      "model_module_version": "1.1.0",
      "model_name": "LayoutModel",
      "state": {}
     },
     "a6d7e8cc772f4b44ba43a23a407e7c12": {
      "model_module": "@jupyter-widgets/base",
      "model_module_version": "1.1.0",
      "model_name": "LayoutModel",
      "state": {}
     },
     "a70802ad133141da868681929f5d88ff": {
      "model_module": "@jupyter-widgets/base",
      "model_module_version": "1.1.0",
      "model_name": "LayoutModel",
      "state": {}
     },
     "a940997b240a4defb0456caa12daac3b": {
      "model_module": "@jupyter-widgets/base",
      "model_module_version": "1.1.0",
      "model_name": "LayoutModel",
      "state": {}
     },
     "a9b1bb6a3b6a49169375e58370f202fe": {
      "model_module": "@jupyter-widgets/controls",
      "model_module_version": "1.4.0",
      "model_name": "DescriptionStyleModel",
      "state": {
       "description_width": ""
      }
     },
     "aa66c2d953c84ef9902875ccbc9c994e": {
      "model_module": "@jupyter-widgets/controls",
      "model_module_version": "1.4.0",
      "model_name": "ProgressStyleModel",
      "state": {
       "description_width": ""
      }
     },
     "ac4b2cd6abad4fbe9129ad2b39f79d1c": {
      "model_module": "@jupyter-widgets/base",
      "model_module_version": "1.1.0",
      "model_name": "LayoutModel",
      "state": {}
     },
     "ac9c8dcde2c14dbaa1173c31993a8425": {
      "model_module": "@jupyter-widgets/controls",
      "model_module_version": "1.4.0",
      "model_name": "IntProgressModel",
      "state": {
       "bar_style": "success",
       "layout": "IPY_MODEL_f6042c224cb04d4d80e76e24bcd752f0",
       "max": 54,
       "style": "IPY_MODEL_043afb832aa3492482fd973bb9d9bd7a",
       "value": 54
      }
     },
     "acc45206458d480a9f2ef27c9c8ef1df": {
      "model_module": "@jupyter-widgets/controls",
      "model_module_version": "1.4.0",
      "model_name": "HTMLModel",
      "state": {
       "layout": "IPY_MODEL_2b5f53a0083041e88ab8b35fbcb6adec",
       "style": "IPY_MODEL_5f7e65435bd74f0eb6a1c412dfb425cc",
       "value": " 61% 27/44 [01:11&lt;01:07,  4.00s/it]"
      }
     },
     "ae8a07808b3e45859f3cd921f129124b": {
      "model_module": "@jupyter-widgets/controls",
      "model_module_version": "1.4.0",
      "model_name": "ProgressStyleModel",
      "state": {
       "description_width": ""
      }
     },
     "afa63380b5d94daa93c89a7f76e73643": {
      "model_module": "@jupyter-widgets/controls",
      "model_module_version": "1.4.0",
      "model_name": "IntProgressModel",
      "state": {
       "bar_style": "success",
       "layout": "IPY_MODEL_9e90f3d114ab477bb44ce96e057fde81",
       "max": 20,
       "style": "IPY_MODEL_c5b03935e2804f8f99405b2d01c061d4",
       "value": 20
      }
     },
     "b14da71dd7b345b08c62107bd73f2708": {
      "model_module": "@jupyter-widgets/controls",
      "model_module_version": "1.4.0",
      "model_name": "DescriptionStyleModel",
      "state": {
       "description_width": ""
      }
     },
     "b1cc74f338d84b6e81fba7007df30136": {
      "model_module": "@jupyter-widgets/base",
      "model_module_version": "1.1.0",
      "model_name": "LayoutModel",
      "state": {}
     },
     "b222bf4c0fce42989a3914fb2c6e45a2": {
      "model_module": "@jupyter-widgets/controls",
      "model_module_version": "1.4.0",
      "model_name": "ProgressStyleModel",
      "state": {
       "description_width": ""
      }
     },
     "b79ec55a28294c6bbf956dfc8e61c6d2": {
      "model_module": "@jupyter-widgets/base",
      "model_module_version": "1.1.0",
      "model_name": "LayoutModel",
      "state": {}
     },
     "b7ee7f0454ef43edba44cdb7eff62621": {
      "model_module": "@jupyter-widgets/base",
      "model_module_version": "1.1.0",
      "model_name": "LayoutModel",
      "state": {}
     },
     "b94e521c2a3a44f296118d04fbadbb32": {
      "model_module": "@jupyter-widgets/controls",
      "model_module_version": "1.4.0",
      "model_name": "DescriptionStyleModel",
      "state": {
       "description_width": ""
      }
     },
     "bb1ecde5326d4c6cb5cb3f50941865f9": {
      "model_module": "@jupyter-widgets/controls",
      "model_module_version": "1.4.0",
      "model_name": "ProgressStyleModel",
      "state": {
       "description_width": ""
      }
     },
     "bc47080108594d6398376ec90247fd7f": {
      "model_module": "@jupyter-widgets/controls",
      "model_module_version": "1.4.0",
      "model_name": "DescriptionStyleModel",
      "state": {
       "description_width": ""
      }
     },
     "bdc29d95eb5b4ef9aa958372545ee719": {
      "model_module": "@jupyter-widgets/base",
      "model_module_version": "1.1.0",
      "model_name": "LayoutModel",
      "state": {}
     },
     "bf76cbb0d2574155994bccb941ded25f": {
      "model_module": "@jupyter-widgets/base",
      "model_module_version": "1.1.0",
      "model_name": "LayoutModel",
      "state": {}
     },
     "c00586e1eccf461c9b0429e0ccfc324c": {
      "model_module": "@jupyter-widgets/controls",
      "model_module_version": "1.4.0",
      "model_name": "HBoxModel",
      "state": {
       "children": [
        "IPY_MODEL_c268087693ac4caea7ff5672e655a9d2",
        "IPY_MODEL_acc45206458d480a9f2ef27c9c8ef1df"
       ],
       "layout": "IPY_MODEL_d92aa9b32b694dcaabc8203167d6a20e"
      }
     },
     "c02a451e0731469ea91cc39abbf14c48": {
      "model_module": "@jupyter-widgets/base",
      "model_module_version": "1.1.0",
      "model_name": "LayoutModel",
      "state": {}
     },
     "c071aba1cd534b049eee2f1809f94fec": {
      "model_module": "@jupyter-widgets/base",
      "model_module_version": "1.1.0",
      "model_name": "LayoutModel",
      "state": {}
     },
     "c18b42844be044dba18dfeac8ec3a023": {
      "model_module": "@jupyter-widgets/base",
      "model_module_version": "1.1.0",
      "model_name": "LayoutModel",
      "state": {}
     },
     "c1dc41def3384efe9e3e3b908daed3df": {
      "model_module": "@jupyter-widgets/controls",
      "model_module_version": "1.4.0",
      "model_name": "HBoxModel",
      "state": {
       "children": [
        "IPY_MODEL_3e8208665dc144d2bf9e241de55a3474",
        "IPY_MODEL_fbe344d6c52b42629a7a5a43aaaa8ed1"
       ],
       "layout": "IPY_MODEL_8a17eda6529f4191b2f375295f59cd1d"
      }
     },
     "c268087693ac4caea7ff5672e655a9d2": {
      "model_module": "@jupyter-widgets/controls",
      "model_module_version": "1.4.0",
      "model_name": "IntProgressModel",
      "state": {
       "layout": "IPY_MODEL_67b4ef9809f6494c8230ffa837fb5f2d",
       "max": 44,
       "style": "IPY_MODEL_0f5c61300af74d9c87b2e169a8d59564",
       "value": 27
      }
     },
     "c5b03935e2804f8f99405b2d01c061d4": {
      "model_module": "@jupyter-widgets/controls",
      "model_module_version": "1.4.0",
      "model_name": "ProgressStyleModel",
      "state": {
       "description_width": ""
      }
     },
     "c694e055ee8f4be6a612d919ab8a4096": {
      "model_module": "@jupyter-widgets/base",
      "model_module_version": "1.1.0",
      "model_name": "LayoutModel",
      "state": {}
     },
     "c7666e83442f44259d58a3b1f3b48341": {
      "model_module": "@jupyter-widgets/controls",
      "model_module_version": "1.4.0",
      "model_name": "HTMLModel",
      "state": {
       "layout": "IPY_MODEL_fb350532137b4401810ece19b5140a35",
       "style": "IPY_MODEL_a34f3e8def0649618235b0c8d9648d99",
       "value": "100% 12/12 [00:03&lt;00:00,  2.07it/s]"
      }
     },
     "cb792cc3dd3c4364a1349aa2cac5787b": {
      "model_module": "@jupyter-widgets/controls",
      "model_module_version": "1.4.0",
      "model_name": "DescriptionStyleModel",
      "state": {
       "description_width": ""
      }
     },
     "cb8738fbc3d54b8ea12d23b970356248": {
      "model_module": "@jupyter-widgets/base",
      "model_module_version": "1.1.0",
      "model_name": "LayoutModel",
      "state": {}
     },
     "cc2ce2b0abab4704b0d580cdd7897c24": {
      "model_module": "@jupyter-widgets/controls",
      "model_module_version": "1.4.0",
      "model_name": "ProgressStyleModel",
      "state": {
       "description_width": ""
      }
     },
     "cc3f0a0bd1aa420dadbac06d59055840": {
      "model_module": "@jupyter-widgets/controls",
      "model_module_version": "1.4.0",
      "model_name": "IntProgressModel",
      "state": {
       "bar_style": "danger",
       "layout": "IPY_MODEL_874451d3927c4f3ba141d58c95f9e1df",
       "max": 20,
       "style": "IPY_MODEL_7fbd082af14d4d7c80850630b4dd8abc",
       "value": 19
      }
     },
     "cf753dd646bb404a8c735ca6a8362b08": {
      "model_module": "@jupyter-widgets/controls",
      "model_module_version": "1.4.0",
      "model_name": "HBoxModel",
      "state": {
       "children": [
        "IPY_MODEL_6becc8561baa4be3bf1bade2dd98d258",
        "IPY_MODEL_d062e888b1c64398a252ee304c899269"
       ],
       "layout": "IPY_MODEL_b1cc74f338d84b6e81fba7007df30136"
      }
     },
     "d062e888b1c64398a252ee304c899269": {
      "model_module": "@jupyter-widgets/controls",
      "model_module_version": "1.4.0",
      "model_name": "HTMLModel",
      "state": {
       "layout": "IPY_MODEL_dd6f31bb4ef64414971920d75681b193",
       "style": "IPY_MODEL_81dc1a7f9d6b4555a8531f2035bdcabb",
       "value": " 60% 6/10 [00:04&lt;00:04,  1.06s/it]"
      }
     },
     "d336c78bedf242c78b8e6de9e0aab70e": {
      "model_module": "@jupyter-widgets/base",
      "model_module_version": "1.1.0",
      "model_name": "LayoutModel",
      "state": {}
     },
     "d614664cf99743889aa9b084525990d8": {
      "model_module": "@jupyter-widgets/controls",
      "model_module_version": "1.4.0",
      "model_name": "HTMLModel",
      "state": {
       "layout": "IPY_MODEL_c071aba1cd534b049eee2f1809f94fec",
       "style": "IPY_MODEL_5aba36f9297242688598109bc09046de",
       "value": "100% 54/54 [01:11&lt;00:00,  2.69s/it]"
      }
     },
     "d6f82401681841eea4d5bb6bd1cff8de": {
      "model_module": "@jupyter-widgets/controls",
      "model_module_version": "1.4.0",
      "model_name": "DescriptionStyleModel",
      "state": {
       "description_width": ""
      }
     },
     "d789bc6629a04beda166086b2d652d4c": {
      "model_module": "@jupyter-widgets/base",
      "model_module_version": "1.1.0",
      "model_name": "LayoutModel",
      "state": {}
     },
     "d86d424d7d2040bea285a821eb3ffaf6": {
      "model_module": "@jupyter-widgets/base",
      "model_module_version": "1.1.0",
      "model_name": "LayoutModel",
      "state": {}
     },
     "d92aa9b32b694dcaabc8203167d6a20e": {
      "model_module": "@jupyter-widgets/base",
      "model_module_version": "1.1.0",
      "model_name": "LayoutModel",
      "state": {}
     },
     "db91f69593764d1fbc8593c6264df3a7": {
      "model_module": "@jupyter-widgets/base",
      "model_module_version": "1.1.0",
      "model_name": "LayoutModel",
      "state": {}
     },
     "dd6f31bb4ef64414971920d75681b193": {
      "model_module": "@jupyter-widgets/base",
      "model_module_version": "1.1.0",
      "model_name": "LayoutModel",
      "state": {}
     },
     "ded469034a7e4aa9a244a8e5e88e998a": {
      "model_module": "@jupyter-widgets/base",
      "model_module_version": "1.1.0",
      "model_name": "LayoutModel",
      "state": {}
     },
     "e518bcea114a41ec8900a5dad806fa8b": {
      "model_module": "@jupyter-widgets/controls",
      "model_module_version": "1.4.0",
      "model_name": "ProgressStyleModel",
      "state": {
       "description_width": ""
      }
     },
     "f1361377c3184fb688b28bfe61451e86": {
      "model_module": "@jupyter-widgets/controls",
      "model_module_version": "1.4.0",
      "model_name": "ProgressStyleModel",
      "state": {
       "description_width": ""
      }
     },
     "f504214792524c2cbbb8997e99aa7714": {
      "model_module": "@jupyter-widgets/base",
      "model_module_version": "1.1.0",
      "model_name": "LayoutModel",
      "state": {}
     },
     "f52bb86c1e564d5381ea1b9792d4ee48": {
      "model_module": "@jupyter-widgets/controls",
      "model_module_version": "1.4.0",
      "model_name": "HBoxModel",
      "state": {
       "children": [
        "IPY_MODEL_0f40caa17b6f45b19f9b67db6af682c3",
        "IPY_MODEL_c7666e83442f44259d58a3b1f3b48341"
       ],
       "layout": "IPY_MODEL_bdc29d95eb5b4ef9aa958372545ee719"
      }
     },
     "f6042c224cb04d4d80e76e24bcd752f0": {
      "model_module": "@jupyter-widgets/base",
      "model_module_version": "1.1.0",
      "model_name": "LayoutModel",
      "state": {}
     },
     "f9fa83b613a74793bdd8d3b1591d3786": {
      "model_module": "@jupyter-widgets/controls",
      "model_module_version": "1.4.0",
      "model_name": "HBoxModel",
      "state": {
       "children": [
        "IPY_MODEL_a1ed86f696f14feeabfab9678e5b6e42",
        "IPY_MODEL_fc1188fa11c24fb7abb650d51e68bcda"
       ],
       "layout": "IPY_MODEL_6523bce4fdfa4c3fa9dcbdf938bdd0c8"
      }
     },
     "fb350532137b4401810ece19b5140a35": {
      "model_module": "@jupyter-widgets/base",
      "model_module_version": "1.1.0",
      "model_name": "LayoutModel",
      "state": {}
     },
     "fb9bace579f64af4b7ebb87789031257": {
      "model_module": "@jupyter-widgets/controls",
      "model_module_version": "1.4.0",
      "model_name": "HTMLModel",
      "state": {
       "layout": "IPY_MODEL_774238a7f4bc4bc39881b33452244ce3",
       "style": "IPY_MODEL_1099c3fb624b4608ac4d8274ff57ff46",
       "value": "100% 31/31 [20:02&lt;00:00, 89.74s/it]"
      }
     },
     "fbe344d6c52b42629a7a5a43aaaa8ed1": {
      "model_module": "@jupyter-widgets/controls",
      "model_module_version": "1.4.0",
      "model_name": "HTMLModel",
      "state": {
       "layout": "IPY_MODEL_5a4e30bceb904ec682ca0d37ae4da0f6",
       "style": "IPY_MODEL_871966c94ef9408abec03ebe24d83c8c",
       "value": "100% 10/10 [00:17&lt;00:00,  4.05s/it]"
      }
     },
     "fc1188fa11c24fb7abb650d51e68bcda": {
      "model_module": "@jupyter-widgets/controls",
      "model_module_version": "1.4.0",
      "model_name": "HTMLModel",
      "state": {
       "layout": "IPY_MODEL_ded469034a7e4aa9a244a8e5e88e998a",
       "style": "IPY_MODEL_6058d32ac02e46f996d50b029a65b1a4",
       "value": "100% 3/3 [03:36&lt;00:00, 86.52s/it]"
      }
     },
     "fc2e0e50b4024f2089000a027350ad62": {
      "model_module": "@jupyter-widgets/controls",
      "model_module_version": "1.4.0",
      "model_name": "ProgressStyleModel",
      "state": {
       "description_width": ""
      }
     }
    },
    "version_major": 2,
    "version_minor": 0
   }
  }
 },
 "nbformat": 4,
 "nbformat_minor": 2
}
