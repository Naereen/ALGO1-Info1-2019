{
 "cells": [
  {
   "cell_type": "markdown",
   "metadata": {
    "toc": "true"
   },
   "source": [
    "# Table of Contents\n",
    " <p><div class=\"lev1 toc-item\"><a href=\"#ALGO1-:-Introduction-à-l'algorithmique\" data-toc-modified-id=\"ALGO1-:-Introduction-à-l'algorithmique-1\"><span class=\"toc-item-num\">1&nbsp;&nbsp;</span><a href=\"https://perso.crans.org/besson/teach/info1_algo1_2019/\" target=\"_blank\">ALGO1 : Introduction à l'algorithmique</a></a></div><div class=\"lev1 toc-item\"><a href=\"#Cours-Magistral-3\" data-toc-modified-id=\"Cours-Magistral-3-2\"><span class=\"toc-item-num\">2&nbsp;&nbsp;</span>Cours Magistral 3</a></div><div class=\"lev2 toc-item\"><a href=\"#Quelques-algorithmes-&quot;diviser-pour-régner&quot;-classiques\" data-toc-modified-id=\"Quelques-algorithmes-&quot;diviser-pour-régner&quot;-classiques-21\"><span class=\"toc-item-num\">2.1&nbsp;&nbsp;</span>Quelques algorithmes \"diviser pour régner\" classiques</a></div><div class=\"lev3 toc-item\"><a href=\"#Recherche-dans-un-tableau-trié-en-$\\mathcal{O}(\\log(n))$\" data-toc-modified-id=\"Recherche-dans-un-tableau-trié-en-$\\mathcal{O}(\\log(n))$-211\"><span class=\"toc-item-num\">2.1.1&nbsp;&nbsp;</span>Recherche dans un tableau trié en <span class=\"MathJax_Preview\" style=\"color: inherit;\"></span><span class=\"MathJax\" id=\"MathJax-Element-607-Frame\" tabindex=\"0\" style=\"position: relative;\" data-mathml=\"<math xmlns=&quot;http://www.w3.org/1998/Math/MathML&quot;><mrow class=&quot;MJX-TeXAtom-ORD&quot;><mi class=&quot;MJX-tex-caligraphic&quot; mathvariant=&quot;script&quot;>O</mi></mrow><mo stretchy=&quot;false&quot;>(</mo><mi>log</mi><mo>&amp;#x2061;</mo><mo stretchy=&quot;false&quot;>(</mo><mi>n</mi><mo stretchy=&quot;false&quot;>)</mo><mo stretchy=&quot;false&quot;>)</mo></math>\" role=\"presentation\"><nobr aria-hidden=\"true\"><span class=\"math\" id=\"MathJax-Span-4424\" style=\"width: 4.307em; display: inline-block;\"><span style=\"display: inline-block; position: relative; width: 3.854em; height: 0px; font-size: 111%;\"><span style=\"position: absolute; clip: rect(1.769em, 1003.81em, 2.971em, -1000em); top: -2.603em; left: 0em;\"><span class=\"mrow\" id=\"MathJax-Span-4425\"><span class=\"texatom\" id=\"MathJax-Span-4426\"><span class=\"mrow\" id=\"MathJax-Span-4427\"><span class=\"mi\" id=\"MathJax-Span-4428\" style=\"font-family: STIXMathJax_Variants; font-style: italic;\"></span></span></span><span class=\"mo\" id=\"MathJax-Span-4429\" style=\"font-family: STIXMathJax_Main;\">(</span><span class=\"mi\" id=\"MathJax-Span-4430\" style=\"font-family: STIXMathJax_Main;\">log</span><span class=\"mo\" id=\"MathJax-Span-4431\"></span><span class=\"mo\" id=\"MathJax-Span-4432\" style=\"font-family: STIXMathJax_Main;\">(</span><span class=\"mi\" id=\"MathJax-Span-4433\" style=\"font-family: STIXMathJax_Normal; font-style: italic;\">𝑛</span><span class=\"mo\" id=\"MathJax-Span-4434\" style=\"font-family: STIXMathJax_Main;\">)</span><span class=\"mo\" id=\"MathJax-Span-4435\" style=\"font-family: STIXMathJax_Main;\">)</span></span><span style=\"display: inline-block; width: 0px; height: 2.603em;\"></span></span></span><span style=\"display: inline-block; overflow: hidden; vertical-align: -0.298em; border-left: 0px solid; width: 0px; height: 1.111em;\"></span></span></nobr><span class=\"MJX_Assistive_MathML\" role=\"presentation\"><math xmlns=\"http://www.w3.org/1998/Math/MathML\"><mrow class=\"MJX-TeXAtom-ORD\"><mi class=\"MJX-tex-caligraphic\" mathvariant=\"script\">O</mi></mrow><mo stretchy=\"false\">(</mo><mi>log</mi><mo>⁡</mo><mo stretchy=\"false\">(</mo><mi>n</mi><mo stretchy=\"false\">)</mo><mo stretchy=\"false\">)</mo></math></span></span><script type=\"math/tex\" id=\"MathJax-Element-607\">\\mathcal{O}(\\log(n))</script></a></div><div class=\"lev3 toc-item\"><a href=\"#Recherche-dans-une-liste-triée-en-$\\mathcal{O}(n)$\" data-toc-modified-id=\"Recherche-dans-une-liste-triée-en-$\\mathcal{O}(n)$-212\"><span class=\"toc-item-num\">2.1.2&nbsp;&nbsp;</span>Recherche dans une liste triée en <span class=\"MathJax_Preview\" style=\"color: inherit;\"></span><span class=\"MathJax\" id=\"MathJax-Element-515-Frame\" tabindex=\"0\" style=\"position: relative;\" data-mathml=\"<math xmlns=&quot;http://www.w3.org/1998/Math/MathML&quot;><mrow class=&quot;MJX-TeXAtom-ORD&quot;><mi class=&quot;MJX-tex-caligraphic&quot; mathvariant=&quot;script&quot;>O</mi></mrow><mo stretchy=&quot;false&quot;>(</mo><mi>n</mi><mo stretchy=&quot;false&quot;>)</mo></math>\" role=\"presentation\"><nobr aria-hidden=\"true\"><span class=\"math\" id=\"MathJax-Span-3649\" style=\"width: 2.105em; display: inline-block;\"><span style=\"display: inline-block; position: relative; width: 1.902em; height: 0px; font-size: 111%;\"><span style=\"position: absolute; clip: rect(1.776em, 1001.85em, 2.93em, -1000em); top: -2.603em; left: 0em;\"><span class=\"mrow\" id=\"MathJax-Span-3650\"><span class=\"texatom\" id=\"MathJax-Span-3651\"><span class=\"mrow\" id=\"MathJax-Span-3652\"><span class=\"mi\" id=\"MathJax-Span-3653\" style=\"font-family: STIXMathJax_Variants; font-style: italic;\"></span></span></span><span class=\"mo\" id=\"MathJax-Span-3654\" style=\"font-family: STIXMathJax_Main;\">(</span><span class=\"mi\" id=\"MathJax-Span-3655\" style=\"font-family: STIXMathJax_Normal; font-style: italic;\">𝑛</span><span class=\"mo\" id=\"MathJax-Span-3656\" style=\"font-family: STIXMathJax_Main;\">)</span></span><span style=\"display: inline-block; width: 0px; height: 2.603em;\"></span></span></span><span style=\"display: inline-block; overflow: hidden; vertical-align: -0.252em; border-left: 0px solid; width: 0px; height: 1.058em;\"></span></span></nobr><span class=\"MJX_Assistive_MathML\" role=\"presentation\"><math xmlns=\"http://www.w3.org/1998/Math/MathML\"><mrow class=\"MJX-TeXAtom-ORD\"><mi class=\"MJX-tex-caligraphic\" mathvariant=\"script\">O</mi></mrow><mo stretchy=\"false\">(</mo><mi>n</mi><mo stretchy=\"false\">)</mo></math></span></span><script type=\"math/tex\" id=\"MathJax-Element-515\">\\mathcal{O}(n)</script></a></div><div class=\"lev3 toc-item\"><a href=\"#Tri-fusion-(merge-sort)\" data-toc-modified-id=\"Tri-fusion-(merge-sort)-213\"><span class=\"toc-item-num\">2.1.3&nbsp;&nbsp;</span>Tri fusion (<em>merge sort</em>)</a></div><div class=\"lev3 toc-item\"><a href=\"#Enveloppe-convexe-de-points-en-2D-(quickhull)\" data-toc-modified-id=\"Enveloppe-convexe-de-points-en-2D-(quickhull)-214\"><span class=\"toc-item-num\">2.1.4&nbsp;&nbsp;</span>Enveloppe convexe de points en 2D (<em>quickhull</em>)</a></div><div class=\"lev2 toc-item\"><a href=\"#Algorithme-de-Gauss-Karatsuba\" data-toc-modified-id=\"Algorithme-de-Gauss-Karatsuba-22\"><span class=\"toc-item-num\">2.2&nbsp;&nbsp;</span>Algorithme de Gauss-Karatsuba</a></div><div class=\"lev2 toc-item\"><a href=\"#Algorithme-de-Strassen\" data-toc-modified-id=\"Algorithme-de-Strassen-23\"><span class=\"toc-item-num\">2.3&nbsp;&nbsp;</span>Algorithme de Strassen</a></div><div class=\"lev2 toc-item\"><a href=\"#Conclusion\" data-toc-modified-id=\"Conclusion-24\"><span class=\"toc-item-num\">2.4&nbsp;&nbsp;</span>Conclusion</a></div>"
   ]
  },
  {
   "cell_type": "markdown",
   "metadata": {},
   "source": [
    "# [ALGO1 : Introduction à l'algorithmique](https://perso.crans.org/besson/teach/info1_algo1_2019/)\n",
    "\n",
    "- [Page du cours](https://perso.crans.org/besson/teach/info1_algo1_2019/) : https://perso.crans.org/besson/teach/info1_algo1_2019/\n",
    "- Magistère d'Informatique de Rennes - ENS Rennes - Année 2019/2020\n",
    "- Intervenants :\n",
    "  + Cours : [Lilian Besson](https://perso.crans.org/besson/)\n",
    "  + Travaux dirigés : [Raphaël Truffet](http://perso.eleves.ens-rennes.fr/people/Raphael.Truffet/)\n",
    "- Références :\n",
    "  + [Open Data Structures](http://opendatastructures.org/ods-python.pdf)"
   ]
  },
  {
   "cell_type": "markdown",
   "metadata": {},
   "source": [
    "# Cours Magistral 3\n",
    "\n",
    "- Ce cours traite du paradigme \"Diviser pour Régner\",\n",
    "- Un important résultat théorique est donné (et prouvé) :\n",
    "\n",
    "<img width=\"75%\" src=\"figures/CM3_Master-Theorem.png\">\n",
    "\n",
    "- Ce notebook commence par donner quelques algorithmes \"Diviser pour Régner\" assez classiques, et permettent d'illustrer les deux premiers cas du \"master theorem\" (recherche dans une liste triée ou un tableau trié, tri fusion,\n",
    "\n",
    "- Ce théorème ne suffit pas à couvrir tous les différents algorithmes \"Diviser pour Régner\", avec comme contre exemple l'algorithme de tri rapide,\n",
    "\n",
    "- Puis on implémente les deux algorithmes présentés dans le cours, la multiplication de grands entiers par l'algorithme de Gauss-Karatsuba, et la multiplication de grandes matrices par l'algorithme de Strassen (Straßen)."
   ]
  },
  {
   "cell_type": "markdown",
   "metadata": {},
   "source": [
    "----\n",
    "## Quelques algorithmes \"diviser pour régner\" classiques"
   ]
  },
  {
   "cell_type": "markdown",
   "metadata": {},
   "source": [
    "### Recherche dans un tableau trié en $\\mathcal{O}(\\log(n))$\n",
    "\n",
    "Si un tableau `T = [a1, ..., an]` est trié, et qu'on donne une valeur `x`, on cherche un indice `i` tel que `T[i] = ai = x`, s'il existe (sans spécification s'il n'est pas unique), et une erreur si `x` n'est pas présent dans le tableau.\n",
    "\n",
    "En utilisant des indices `left` et `right`, qu'on fait augmenter ou diminuer, on évite de faire des recopies du tableau."
   ]
  },
  {
   "cell_type": "markdown",
   "metadata": {},
   "source": [
    "La complexité de cet algorithme est en $\\mathcal{O}(\\log(n))$.\n",
    "\n",
    "**Avec le _master theorem_**, on a $a=1, b=2, k=0$ : on divise les entrées en $a=2$ entrées de tailles $\\leq b=2$ plus petites, sur lesquels on applique un traitement **constant** ($\\mathcal{O}(n^{k=0})$ avant l'appel récursif (**aucune recopie, juste des changements d'indices !**)."
   ]
  },
  {
   "cell_type": "code",
   "execution_count": 206,
   "metadata": {},
   "outputs": [],
   "source": [
    "def dichotomy_in_array(array, value, left=0, right=None):\n",
    "    if depth > len(array):    raise KeyError\n",
    "    if right is None:\n",
    "        right = len(array) - 1\n",
    "    n = right - left + 1\n",
    "    if n == 0:                raise KeyError\n",
    "    elif n == 1:\n",
    "        if array[left] == value:\n",
    "            return left\n",
    "        else:                 raise KeyError\n",
    "    index_of_middle = left + (n // 2)\n",
    "    middle_of_list = array[index_of_middle]\n",
    "    if value < middle_of_list:  # search on left\n",
    "        return dichotomy_in_array(array, value, left=left, right=index_of_middle - 1, debug=debug, depth=depth+1)\n",
    "    elif value > middle_of_list:  # search on right\n",
    "        return dichotomy_in_array(array, value, left=index_of_middle + 1, right=right, debug=debug, depth=depth+1)\n",
    "    else:\n",
    "        return index_of_middle"
   ]
  },
  {
   "cell_type": "markdown",
   "metadata": {},
   "source": [
    "Et avec juste un peu d'affichage pour (un rappel ou pour) comprendre le fonctionnement :"
   ]
  },
  {
   "cell_type": "code",
   "execution_count": 206,
   "metadata": {},
   "outputs": [],
   "source": [
    "def dichotomy_in_array(array, value, left=0, right=None, debug=False, depth=0):\n",
    "    if depth > len(array):\n",
    "        raise KeyError\n",
    "    if right is None:\n",
    "        right = len(array) - 1\n",
    "    n = right - left + 1\n",
    "    if debug: print(f\"    {'  '*(depth+1)}Searching for {value} in sequence of size {n} = {array[left:right+1]}\")\n",
    "    if n == 0:\n",
    "        raise KeyError\n",
    "    elif n == 1:\n",
    "        if array[left] == value:\n",
    "            return left\n",
    "        else:\n",
    "            raise KeyError\n",
    "    index_of_middle = left + (n // 2)\n",
    "    middle_of_list = array[index_of_middle]\n",
    "    #if debug: print(f\"    {'  '*(depth+1)}{value} >/</=? {middle_of_list}\")\n",
    "    if value < middle_of_list:  # search on left\n",
    "        if debug: print(f\"    {'  '*(depth+1)}-> going left...\")\n",
    "        return dichotomy_in_array(array, value, left=left, right=index_of_middle - 1, debug=debug, depth=depth+1)\n",
    "    elif value > middle_of_list:  # search on right\n",
    "        if debug: print(f\"    {'  '*(depth+1)}-> going right...\")\n",
    "        return dichotomy_in_array(array, value, left=index_of_middle + 1, right=right, debug=debug, depth=depth+1)\n",
    "    elif value == middle_of_list:\n",
    "        if debug: print(f\"    {'  '*(depth+1)}-> found at index {index_of_middle} !\")\n",
    "        return index_of_middle\n",
    "    else:\n",
    "        raise KeyError"
   ]
  },
  {
   "cell_type": "markdown",
   "metadata": {},
   "source": [
    "Faisons quelques essais :"
   ]
  },
  {
   "cell_type": "code",
   "execution_count": 85,
   "metadata": {},
   "outputs": [],
   "source": [
    "n = 16\n",
    "example_of_array = list(range(n))"
   ]
  },
  {
   "cell_type": "code",
   "execution_count": 86,
   "metadata": {
    "scrolled": true
   },
   "outputs": [
    {
     "name": "stdout",
     "output_type": "stream",
     "text": [
      "\n",
      "    Looking for value 0 in [0, 1, 2, 3, 4, 5, 6, 7, 8, 9, 10, 11, 12, 13, 14, 15] :\n",
      "      Searching for 0 in sequence of size 16 = [0, 1, 2, 3, 4, 5, 6, 7, 8, 9, 10, 11, 12, 13, 14, 15]\n",
      "      -> going left...\n",
      "        Searching for 0 in sequence of size 8 = [0, 1, 2, 3, 4, 5, 6, 7]\n",
      "        -> going left...\n",
      "          Searching for 0 in sequence of size 4 = [0, 1, 2, 3]\n",
      "          -> going left...\n",
      "            Searching for 0 in sequence of size 2 = [0, 1]\n",
      "            -> going left...\n",
      "              Searching for 0 in sequence of size 1 = [0]\n"
     ]
    },
    {
     "data": {
      "text/plain": [
       "0"
      ]
     },
     "execution_count": 86,
     "metadata": {},
     "output_type": "execute_result"
    },
    {
     "name": "stdout",
     "output_type": "stream",
     "text": [
      "\n",
      "    Looking for value 1 in [0, 1, 2, 3, 4, 5, 6, 7, 8, 9, 10, 11, 12, 13, 14, 15] :\n",
      "      Searching for 1 in sequence of size 16 = [0, 1, 2, 3, 4, 5, 6, 7, 8, 9, 10, 11, 12, 13, 14, 15]\n",
      "      -> going left...\n",
      "        Searching for 1 in sequence of size 8 = [0, 1, 2, 3, 4, 5, 6, 7]\n",
      "        -> going left...\n",
      "          Searching for 1 in sequence of size 4 = [0, 1, 2, 3]\n",
      "          -> going left...\n",
      "            Searching for 1 in sequence of size 2 = [0, 1]\n",
      "            -> found at index 1 !\n"
     ]
    },
    {
     "data": {
      "text/plain": [
       "1"
      ]
     },
     "execution_count": 86,
     "metadata": {},
     "output_type": "execute_result"
    },
    {
     "name": "stdout",
     "output_type": "stream",
     "text": [
      "\n",
      "    Looking for value 2 in [0, 1, 2, 3, 4, 5, 6, 7, 8, 9, 10, 11, 12, 13, 14, 15] :\n",
      "      Searching for 2 in sequence of size 16 = [0, 1, 2, 3, 4, 5, 6, 7, 8, 9, 10, 11, 12, 13, 14, 15]\n",
      "      -> going left...\n",
      "        Searching for 2 in sequence of size 8 = [0, 1, 2, 3, 4, 5, 6, 7]\n",
      "        -> going left...\n",
      "          Searching for 2 in sequence of size 4 = [0, 1, 2, 3]\n",
      "          -> found at index 2 !\n"
     ]
    },
    {
     "data": {
      "text/plain": [
       "2"
      ]
     },
     "execution_count": 86,
     "metadata": {},
     "output_type": "execute_result"
    },
    {
     "name": "stdout",
     "output_type": "stream",
     "text": [
      "\n",
      "    Looking for value 3 in [0, 1, 2, 3, 4, 5, 6, 7, 8, 9, 10, 11, 12, 13, 14, 15] :\n",
      "      Searching for 3 in sequence of size 16 = [0, 1, 2, 3, 4, 5, 6, 7, 8, 9, 10, 11, 12, 13, 14, 15]\n",
      "      -> going left...\n",
      "        Searching for 3 in sequence of size 8 = [0, 1, 2, 3, 4, 5, 6, 7]\n",
      "        -> going left...\n",
      "          Searching for 3 in sequence of size 4 = [0, 1, 2, 3]\n",
      "          -> going right...\n",
      "            Searching for 3 in sequence of size 1 = [3]\n"
     ]
    },
    {
     "data": {
      "text/plain": [
       "3"
      ]
     },
     "execution_count": 86,
     "metadata": {},
     "output_type": "execute_result"
    },
    {
     "name": "stdout",
     "output_type": "stream",
     "text": [
      "\n",
      "    Looking for value 4 in [0, 1, 2, 3, 4, 5, 6, 7, 8, 9, 10, 11, 12, 13, 14, 15] :\n",
      "      Searching for 4 in sequence of size 16 = [0, 1, 2, 3, 4, 5, 6, 7, 8, 9, 10, 11, 12, 13, 14, 15]\n",
      "      -> going left...\n",
      "        Searching for 4 in sequence of size 8 = [0, 1, 2, 3, 4, 5, 6, 7]\n",
      "        -> found at index 4 !\n"
     ]
    },
    {
     "data": {
      "text/plain": [
       "4"
      ]
     },
     "execution_count": 86,
     "metadata": {},
     "output_type": "execute_result"
    },
    {
     "name": "stdout",
     "output_type": "stream",
     "text": [
      "\n",
      "    Looking for value 5 in [0, 1, 2, 3, 4, 5, 6, 7, 8, 9, 10, 11, 12, 13, 14, 15] :\n",
      "      Searching for 5 in sequence of size 16 = [0, 1, 2, 3, 4, 5, 6, 7, 8, 9, 10, 11, 12, 13, 14, 15]\n",
      "      -> going left...\n",
      "        Searching for 5 in sequence of size 8 = [0, 1, 2, 3, 4, 5, 6, 7]\n",
      "        -> going right...\n",
      "          Searching for 5 in sequence of size 3 = [5, 6, 7]\n",
      "          -> going left...\n",
      "            Searching for 5 in sequence of size 1 = [5]\n"
     ]
    },
    {
     "data": {
      "text/plain": [
       "5"
      ]
     },
     "execution_count": 86,
     "metadata": {},
     "output_type": "execute_result"
    },
    {
     "name": "stdout",
     "output_type": "stream",
     "text": [
      "\n",
      "    Looking for value 6 in [0, 1, 2, 3, 4, 5, 6, 7, 8, 9, 10, 11, 12, 13, 14, 15] :\n",
      "      Searching for 6 in sequence of size 16 = [0, 1, 2, 3, 4, 5, 6, 7, 8, 9, 10, 11, 12, 13, 14, 15]\n",
      "      -> going left...\n",
      "        Searching for 6 in sequence of size 8 = [0, 1, 2, 3, 4, 5, 6, 7]\n",
      "        -> going right...\n",
      "          Searching for 6 in sequence of size 3 = [5, 6, 7]\n",
      "          -> found at index 6 !\n"
     ]
    },
    {
     "data": {
      "text/plain": [
       "6"
      ]
     },
     "execution_count": 86,
     "metadata": {},
     "output_type": "execute_result"
    },
    {
     "name": "stdout",
     "output_type": "stream",
     "text": [
      "\n",
      "    Looking for value 7 in [0, 1, 2, 3, 4, 5, 6, 7, 8, 9, 10, 11, 12, 13, 14, 15] :\n",
      "      Searching for 7 in sequence of size 16 = [0, 1, 2, 3, 4, 5, 6, 7, 8, 9, 10, 11, 12, 13, 14, 15]\n",
      "      -> going left...\n",
      "        Searching for 7 in sequence of size 8 = [0, 1, 2, 3, 4, 5, 6, 7]\n",
      "        -> going right...\n",
      "          Searching for 7 in sequence of size 3 = [5, 6, 7]\n",
      "          -> going right...\n",
      "            Searching for 7 in sequence of size 1 = [7]\n"
     ]
    },
    {
     "data": {
      "text/plain": [
       "7"
      ]
     },
     "execution_count": 86,
     "metadata": {},
     "output_type": "execute_result"
    },
    {
     "name": "stdout",
     "output_type": "stream",
     "text": [
      "\n",
      "    Looking for value 8 in [0, 1, 2, 3, 4, 5, 6, 7, 8, 9, 10, 11, 12, 13, 14, 15] :\n",
      "      Searching for 8 in sequence of size 16 = [0, 1, 2, 3, 4, 5, 6, 7, 8, 9, 10, 11, 12, 13, 14, 15]\n",
      "      -> found at index 8 !\n"
     ]
    },
    {
     "data": {
      "text/plain": [
       "8"
      ]
     },
     "execution_count": 86,
     "metadata": {},
     "output_type": "execute_result"
    },
    {
     "name": "stdout",
     "output_type": "stream",
     "text": [
      "\n",
      "    Looking for value 9 in [0, 1, 2, 3, 4, 5, 6, 7, 8, 9, 10, 11, 12, 13, 14, 15] :\n",
      "      Searching for 9 in sequence of size 16 = [0, 1, 2, 3, 4, 5, 6, 7, 8, 9, 10, 11, 12, 13, 14, 15]\n",
      "      -> going right...\n",
      "        Searching for 9 in sequence of size 7 = [9, 10, 11, 12, 13, 14, 15]\n",
      "        -> going left...\n",
      "          Searching for 9 in sequence of size 3 = [9, 10, 11]\n",
      "          -> going left...\n",
      "            Searching for 9 in sequence of size 1 = [9]\n"
     ]
    },
    {
     "data": {
      "text/plain": [
       "9"
      ]
     },
     "execution_count": 86,
     "metadata": {},
     "output_type": "execute_result"
    },
    {
     "name": "stdout",
     "output_type": "stream",
     "text": [
      "\n",
      "    Looking for value 10 in [0, 1, 2, 3, 4, 5, 6, 7, 8, 9, 10, 11, 12, 13, 14, 15] :\n",
      "      Searching for 10 in sequence of size 16 = [0, 1, 2, 3, 4, 5, 6, 7, 8, 9, 10, 11, 12, 13, 14, 15]\n",
      "      -> going right...\n",
      "        Searching for 10 in sequence of size 7 = [9, 10, 11, 12, 13, 14, 15]\n",
      "        -> going left...\n",
      "          Searching for 10 in sequence of size 3 = [9, 10, 11]\n",
      "          -> found at index 10 !\n"
     ]
    },
    {
     "data": {
      "text/plain": [
       "10"
      ]
     },
     "execution_count": 86,
     "metadata": {},
     "output_type": "execute_result"
    },
    {
     "name": "stdout",
     "output_type": "stream",
     "text": [
      "\n",
      "    Looking for value 11 in [0, 1, 2, 3, 4, 5, 6, 7, 8, 9, 10, 11, 12, 13, 14, 15] :\n",
      "      Searching for 11 in sequence of size 16 = [0, 1, 2, 3, 4, 5, 6, 7, 8, 9, 10, 11, 12, 13, 14, 15]\n",
      "      -> going right...\n",
      "        Searching for 11 in sequence of size 7 = [9, 10, 11, 12, 13, 14, 15]\n",
      "        -> going left...\n",
      "          Searching for 11 in sequence of size 3 = [9, 10, 11]\n",
      "          -> going right...\n",
      "            Searching for 11 in sequence of size 1 = [11]\n"
     ]
    },
    {
     "data": {
      "text/plain": [
       "11"
      ]
     },
     "execution_count": 86,
     "metadata": {},
     "output_type": "execute_result"
    },
    {
     "name": "stdout",
     "output_type": "stream",
     "text": [
      "\n",
      "    Looking for value 12 in [0, 1, 2, 3, 4, 5, 6, 7, 8, 9, 10, 11, 12, 13, 14, 15] :\n",
      "      Searching for 12 in sequence of size 16 = [0, 1, 2, 3, 4, 5, 6, 7, 8, 9, 10, 11, 12, 13, 14, 15]\n",
      "      -> going right...\n",
      "        Searching for 12 in sequence of size 7 = [9, 10, 11, 12, 13, 14, 15]\n",
      "        -> found at index 12 !\n"
     ]
    },
    {
     "data": {
      "text/plain": [
       "12"
      ]
     },
     "execution_count": 86,
     "metadata": {},
     "output_type": "execute_result"
    },
    {
     "name": "stdout",
     "output_type": "stream",
     "text": [
      "\n",
      "    Looking for value 13 in [0, 1, 2, 3, 4, 5, 6, 7, 8, 9, 10, 11, 12, 13, 14, 15] :\n",
      "      Searching for 13 in sequence of size 16 = [0, 1, 2, 3, 4, 5, 6, 7, 8, 9, 10, 11, 12, 13, 14, 15]\n",
      "      -> going right...\n",
      "        Searching for 13 in sequence of size 7 = [9, 10, 11, 12, 13, 14, 15]\n",
      "        -> going right...\n",
      "          Searching for 13 in sequence of size 3 = [13, 14, 15]\n",
      "          -> going left...\n",
      "            Searching for 13 in sequence of size 1 = [13]\n"
     ]
    },
    {
     "data": {
      "text/plain": [
       "13"
      ]
     },
     "execution_count": 86,
     "metadata": {},
     "output_type": "execute_result"
    },
    {
     "name": "stdout",
     "output_type": "stream",
     "text": [
      "\n",
      "    Looking for value 14 in [0, 1, 2, 3, 4, 5, 6, 7, 8, 9, 10, 11, 12, 13, 14, 15] :\n",
      "      Searching for 14 in sequence of size 16 = [0, 1, 2, 3, 4, 5, 6, 7, 8, 9, 10, 11, 12, 13, 14, 15]\n",
      "      -> going right...\n",
      "        Searching for 14 in sequence of size 7 = [9, 10, 11, 12, 13, 14, 15]\n",
      "        -> going right...\n",
      "          Searching for 14 in sequence of size 3 = [13, 14, 15]\n",
      "          -> found at index 14 !\n"
     ]
    },
    {
     "data": {
      "text/plain": [
       "14"
      ]
     },
     "execution_count": 86,
     "metadata": {},
     "output_type": "execute_result"
    },
    {
     "name": "stdout",
     "output_type": "stream",
     "text": [
      "\n",
      "    Looking for value 15 in [0, 1, 2, 3, 4, 5, 6, 7, 8, 9, 10, 11, 12, 13, 14, 15] :\n",
      "      Searching for 15 in sequence of size 16 = [0, 1, 2, 3, 4, 5, 6, 7, 8, 9, 10, 11, 12, 13, 14, 15]\n",
      "      -> going right...\n",
      "        Searching for 15 in sequence of size 7 = [9, 10, 11, 12, 13, 14, 15]\n",
      "        -> going right...\n",
      "          Searching for 15 in sequence of size 3 = [13, 14, 15]\n",
      "          -> going right...\n",
      "            Searching for 15 in sequence of size 1 = [15]\n"
     ]
    },
    {
     "data": {
      "text/plain": [
       "15"
      ]
     },
     "execution_count": 86,
     "metadata": {},
     "output_type": "execute_result"
    }
   ],
   "source": [
    "for value in example_of_array:\n",
    "    print(f\"\\n    Looking for value {value} in {example_of_array} :\")\n",
    "    dichotomy_in_array(example_of_array, value, debug=True)"
   ]
  },
  {
   "cell_type": "markdown",
   "metadata": {},
   "source": [
    "Et maintenant des essais sur des entrées de tailles croissantes :"
   ]
  },
  {
   "cell_type": "code",
   "execution_count": 119,
   "metadata": {},
   "outputs": [],
   "source": [
    "import random\n",
    "\n",
    "def random_sorted_sequence(n, minint=0, maxint=1000):\n",
    "    sequence = [random.randint(minint, maxint) for _ in range(n)]\n",
    "    return sorted(sequence)"
   ]
  },
  {
   "cell_type": "code",
   "execution_count": 151,
   "metadata": {},
   "outputs": [],
   "source": [
    "def test_dichotomy_in_array(n, debug=False, array=None):\n",
    "    if array is None:\n",
    "        array = random_sorted_sequence(n)\n",
    "    value = random.choice(array)\n",
    "    return dichotomy_in_array(array, value, debug=debug)"
   ]
  },
  {
   "cell_type": "code",
   "execution_count": 152,
   "metadata": {
    "scrolled": false
   },
   "outputs": [
    {
     "name": "stdout",
     "output_type": "stream",
     "text": [
      "      Searching for 324 in sequence of size 16 = [31, 73, 120, 137, 165, 188, 223, 226, 324, 355, 374, 404, 462, 561, 653, 743]\n",
      "      -> found at index 8 !\n"
     ]
    },
    {
     "data": {
      "text/plain": [
       "8"
      ]
     },
     "execution_count": 152,
     "metadata": {},
     "output_type": "execute_result"
    }
   ],
   "source": [
    "test_dichotomy_in_array(16, debug=True)"
   ]
  },
  {
   "cell_type": "code",
   "execution_count": 153,
   "metadata": {},
   "outputs": [],
   "source": [
    "import sys\n",
    "sys.setrecursionlimit(10000)"
   ]
  },
  {
   "cell_type": "code",
   "execution_count": 154,
   "metadata": {},
   "outputs": [
    {
     "name": "stdout",
     "output_type": "stream",
     "text": [
      "3.75 µs ± 759 ns per loop (mean ± std. dev. of 7 runs, 100000 loops each)\n"
     ]
    }
   ],
   "source": [
    "T = random_sorted_sequence(100)\n",
    "%timeit test_dichotomy_in_array(100, array=T)"
   ]
  },
  {
   "cell_type": "code",
   "execution_count": 155,
   "metadata": {},
   "outputs": [
    {
     "name": "stdout",
     "output_type": "stream",
     "text": [
      "4.84 µs ± 610 ns per loop (mean ± std. dev. of 7 runs, 100000 loops each)\n"
     ]
    }
   ],
   "source": [
    "T = random_sorted_sequence(1000)\n",
    "%timeit test_dichotomy_in_array(1000, array=T)"
   ]
  },
  {
   "cell_type": "code",
   "execution_count": 156,
   "metadata": {},
   "outputs": [
    {
     "name": "stdout",
     "output_type": "stream",
     "text": [
      "5.09 µs ± 131 ns per loop (mean ± std. dev. of 7 runs, 100000 loops each)\n"
     ]
    }
   ],
   "source": [
    "T = random_sorted_sequence(10000)\n",
    "%timeit test_dichotomy_in_array(10000, array=T)"
   ]
  },
  {
   "cell_type": "code",
   "execution_count": 157,
   "metadata": {},
   "outputs": [
    {
     "name": "stdout",
     "output_type": "stream",
     "text": [
      "5.36 µs ± 417 ns per loop (mean ± std. dev. of 7 runs, 100000 loops each)\n"
     ]
    }
   ],
   "source": [
    "T = random_sorted_sequence(100000)\n",
    "%timeit test_dichotomy_in_array(100000, array=T)"
   ]
  },
  {
   "cell_type": "code",
   "execution_count": 158,
   "metadata": {},
   "outputs": [
    {
     "name": "stdout",
     "output_type": "stream",
     "text": [
      "5.55 µs ± 280 ns per loop (mean ± std. dev. of 7 runs, 100000 loops each)\n"
     ]
    }
   ],
   "source": [
    "T = random_sorted_sequence(1000000)\n",
    "%timeit test_dichotomy_in_array(1000000, array=T)"
   ]
  },
  {
   "cell_type": "markdown",
   "metadata": {},
   "source": [
    "La complexité semble bien logarithmique en $n$ (ie., $\\mathcal{O}(\\log(n))$) !"
   ]
  },
  {
   "cell_type": "markdown",
   "metadata": {},
   "source": [
    "### Recherche dans une liste triée en $\\mathcal{O}(n)$\n",
    "\n",
    "C'est comme la recherche dans un tableau trié, sauf qu'on recopie la liste de gauche ou de droite lors des appels récursifs."
   ]
  },
  {
   "cell_type": "markdown",
   "metadata": {},
   "source": [
    "La complexité de cet algorithme est en $\\mathcal{O}(n)$.\n",
    "\n",
    "**Avec le _master theorem_**, on a $a=1, b=2, k=1$ : on divise les entrées en $a=2$ entrées de tailles $\\leq b=2$ plus petites, sur lesquels on applique un traitement linéaire ($\\mathcal{O}(n^{k=1})$ avant l'appel récursif (**à cause des recopies !**)."
   ]
  },
  {
   "cell_type": "code",
   "execution_count": 207,
   "metadata": {},
   "outputs": [],
   "source": [
    "def dichotomy_in_list(sequence, value):\n",
    "    n = len(sequence)\n",
    "    if n == 0:            raise KeyError\n",
    "    index_of_middle = n // 2\n",
    "    middle_of_list = sequence[index_of_middle]\n",
    "    if value < middle_of_list:  # search on left\n",
    "        # creating this list takes O(n/2) time\n",
    "        left_list = sequence[:index_of_middle]\n",
    "        return dichotomy_in_list(left_list, value, debug=debug, depth=depth+1)\n",
    "    elif value > middle_of_list:  # search on right\n",
    "        # creating this list takes O(n/2) time\n",
    "        right_list = sequence[index_of_middle:]\n",
    "        return index_of_middle + dichotomy_in_list(right_list, value, debug=debug, depth=depth+1)\n",
    "    else:\n",
    "        return index_of_middle"
   ]
  },
  {
   "cell_type": "markdown",
   "metadata": {},
   "source": [
    "Et avec juste un peu d'affichage pour (un rappel ou pour) comprendre le fonctionnement :"
   ]
  },
  {
   "cell_type": "code",
   "execution_count": 131,
   "metadata": {},
   "outputs": [],
   "source": [
    "def dichotomy_in_list(sequence, value, debug=False, depth=0):\n",
    "    n = len(sequence)\n",
    "    if debug:\n",
    "        print(f\"    {'  '*(depth+1)}Sequence of size {n} = {sequence}\")\n",
    "    if n == 0:\n",
    "        raise KeyError\n",
    "    index_of_middle = n // 2\n",
    "    middle_of_list = sequence[index_of_middle]\n",
    "    if value < middle_of_list:  # search on left\n",
    "        left_list = sequence[:index_of_middle]\n",
    "        if debug: print(f\"    {'  '*(depth+1)}-> going left, in {left_list} of size {len(left_list)}...\")\n",
    "        return dichotomy_in_list(left_list, value, debug=debug, depth=depth+1)\n",
    "    elif value > middle_of_list:  # search on right\n",
    "        right_list = sequence[index_of_middle:]\n",
    "        if debug: print(f\"    {'  '*(depth+1)}-> going right, in {right_list} of size {len(right_list)}...\")\n",
    "        return index_of_middle + dichotomy_in_list(right_list, value, debug=debug, depth=depth+1)\n",
    "    elif value == middle_of_list:\n",
    "        if debug: print(f\"    {'  '*(depth+1)}-> found at index {index_of_middle} !\")\n",
    "        return index_of_middle\n",
    "    else:\n",
    "        raise KeyError"
   ]
  },
  {
   "cell_type": "markdown",
   "metadata": {},
   "source": [
    "Faisons quelques essais :"
   ]
  },
  {
   "cell_type": "code",
   "execution_count": 132,
   "metadata": {},
   "outputs": [],
   "source": [
    "n = 16\n",
    "example_of_list = list(range(n))"
   ]
  },
  {
   "cell_type": "code",
   "execution_count": 133,
   "metadata": {
    "scrolled": true
   },
   "outputs": [
    {
     "name": "stdout",
     "output_type": "stream",
     "text": [
      "\n",
      "    Looking for value 0 in [0, 1, 2, 3, 4, 5, 6, 7, 8, 9, 10, 11, 12, 13, 14, 15] :\n",
      "      Sequence of size 16 = [0, 1, 2, 3, 4, 5, 6, 7, 8, 9, 10, 11, 12, 13, 14, 15]\n",
      "      -> going left, in [0, 1, 2, 3, 4, 5, 6, 7] of size 8...\n",
      "        Sequence of size 8 = [0, 1, 2, 3, 4, 5, 6, 7]\n",
      "        -> going left, in [0, 1, 2, 3] of size 4...\n",
      "          Sequence of size 4 = [0, 1, 2, 3]\n",
      "          -> going left, in [0, 1] of size 2...\n",
      "            Sequence of size 2 = [0, 1]\n",
      "            -> going left, in [0] of size 1...\n",
      "              Sequence of size 1 = [0]\n",
      "              -> found at index 0 !\n"
     ]
    },
    {
     "data": {
      "text/plain": [
       "0"
      ]
     },
     "execution_count": 133,
     "metadata": {},
     "output_type": "execute_result"
    },
    {
     "name": "stdout",
     "output_type": "stream",
     "text": [
      "\n",
      "    Looking for value 1 in [0, 1, 2, 3, 4, 5, 6, 7, 8, 9, 10, 11, 12, 13, 14, 15] :\n",
      "      Sequence of size 16 = [0, 1, 2, 3, 4, 5, 6, 7, 8, 9, 10, 11, 12, 13, 14, 15]\n",
      "      -> going left, in [0, 1, 2, 3, 4, 5, 6, 7] of size 8...\n",
      "        Sequence of size 8 = [0, 1, 2, 3, 4, 5, 6, 7]\n",
      "        -> going left, in [0, 1, 2, 3] of size 4...\n",
      "          Sequence of size 4 = [0, 1, 2, 3]\n",
      "          -> going left, in [0, 1] of size 2...\n",
      "            Sequence of size 2 = [0, 1]\n",
      "            -> found at index 1 !\n"
     ]
    },
    {
     "data": {
      "text/plain": [
       "1"
      ]
     },
     "execution_count": 133,
     "metadata": {},
     "output_type": "execute_result"
    },
    {
     "name": "stdout",
     "output_type": "stream",
     "text": [
      "\n",
      "    Looking for value 2 in [0, 1, 2, 3, 4, 5, 6, 7, 8, 9, 10, 11, 12, 13, 14, 15] :\n",
      "      Sequence of size 16 = [0, 1, 2, 3, 4, 5, 6, 7, 8, 9, 10, 11, 12, 13, 14, 15]\n",
      "      -> going left, in [0, 1, 2, 3, 4, 5, 6, 7] of size 8...\n",
      "        Sequence of size 8 = [0, 1, 2, 3, 4, 5, 6, 7]\n",
      "        -> going left, in [0, 1, 2, 3] of size 4...\n",
      "          Sequence of size 4 = [0, 1, 2, 3]\n",
      "          -> found at index 2 !\n"
     ]
    },
    {
     "data": {
      "text/plain": [
       "2"
      ]
     },
     "execution_count": 133,
     "metadata": {},
     "output_type": "execute_result"
    },
    {
     "name": "stdout",
     "output_type": "stream",
     "text": [
      "\n",
      "    Looking for value 3 in [0, 1, 2, 3, 4, 5, 6, 7, 8, 9, 10, 11, 12, 13, 14, 15] :\n",
      "      Sequence of size 16 = [0, 1, 2, 3, 4, 5, 6, 7, 8, 9, 10, 11, 12, 13, 14, 15]\n",
      "      -> going left, in [0, 1, 2, 3, 4, 5, 6, 7] of size 8...\n",
      "        Sequence of size 8 = [0, 1, 2, 3, 4, 5, 6, 7]\n",
      "        -> going left, in [0, 1, 2, 3] of size 4...\n",
      "          Sequence of size 4 = [0, 1, 2, 3]\n",
      "          -> going right, in [2, 3] of size 2...\n",
      "            Sequence of size 2 = [2, 3]\n",
      "            -> found at index 1 !\n"
     ]
    },
    {
     "data": {
      "text/plain": [
       "3"
      ]
     },
     "execution_count": 133,
     "metadata": {},
     "output_type": "execute_result"
    },
    {
     "name": "stdout",
     "output_type": "stream",
     "text": [
      "\n",
      "    Looking for value 4 in [0, 1, 2, 3, 4, 5, 6, 7, 8, 9, 10, 11, 12, 13, 14, 15] :\n",
      "      Sequence of size 16 = [0, 1, 2, 3, 4, 5, 6, 7, 8, 9, 10, 11, 12, 13, 14, 15]\n",
      "      -> going left, in [0, 1, 2, 3, 4, 5, 6, 7] of size 8...\n",
      "        Sequence of size 8 = [0, 1, 2, 3, 4, 5, 6, 7]\n",
      "        -> found at index 4 !\n"
     ]
    },
    {
     "data": {
      "text/plain": [
       "4"
      ]
     },
     "execution_count": 133,
     "metadata": {},
     "output_type": "execute_result"
    },
    {
     "name": "stdout",
     "output_type": "stream",
     "text": [
      "\n",
      "    Looking for value 5 in [0, 1, 2, 3, 4, 5, 6, 7, 8, 9, 10, 11, 12, 13, 14, 15] :\n",
      "      Sequence of size 16 = [0, 1, 2, 3, 4, 5, 6, 7, 8, 9, 10, 11, 12, 13, 14, 15]\n",
      "      -> going left, in [0, 1, 2, 3, 4, 5, 6, 7] of size 8...\n",
      "        Sequence of size 8 = [0, 1, 2, 3, 4, 5, 6, 7]\n",
      "        -> going right, in [4, 5, 6, 7] of size 4...\n",
      "          Sequence of size 4 = [4, 5, 6, 7]\n",
      "          -> going left, in [4, 5] of size 2...\n",
      "            Sequence of size 2 = [4, 5]\n",
      "            -> found at index 1 !\n"
     ]
    },
    {
     "data": {
      "text/plain": [
       "5"
      ]
     },
     "execution_count": 133,
     "metadata": {},
     "output_type": "execute_result"
    },
    {
     "name": "stdout",
     "output_type": "stream",
     "text": [
      "\n",
      "    Looking for value 6 in [0, 1, 2, 3, 4, 5, 6, 7, 8, 9, 10, 11, 12, 13, 14, 15] :\n",
      "      Sequence of size 16 = [0, 1, 2, 3, 4, 5, 6, 7, 8, 9, 10, 11, 12, 13, 14, 15]\n",
      "      -> going left, in [0, 1, 2, 3, 4, 5, 6, 7] of size 8...\n",
      "        Sequence of size 8 = [0, 1, 2, 3, 4, 5, 6, 7]\n",
      "        -> going right, in [4, 5, 6, 7] of size 4...\n",
      "          Sequence of size 4 = [4, 5, 6, 7]\n",
      "          -> found at index 2 !\n"
     ]
    },
    {
     "data": {
      "text/plain": [
       "6"
      ]
     },
     "execution_count": 133,
     "metadata": {},
     "output_type": "execute_result"
    },
    {
     "name": "stdout",
     "output_type": "stream",
     "text": [
      "\n",
      "    Looking for value 7 in [0, 1, 2, 3, 4, 5, 6, 7, 8, 9, 10, 11, 12, 13, 14, 15] :\n",
      "      Sequence of size 16 = [0, 1, 2, 3, 4, 5, 6, 7, 8, 9, 10, 11, 12, 13, 14, 15]\n",
      "      -> going left, in [0, 1, 2, 3, 4, 5, 6, 7] of size 8...\n",
      "        Sequence of size 8 = [0, 1, 2, 3, 4, 5, 6, 7]\n",
      "        -> going right, in [4, 5, 6, 7] of size 4...\n",
      "          Sequence of size 4 = [4, 5, 6, 7]\n",
      "          -> going right, in [6, 7] of size 2...\n",
      "            Sequence of size 2 = [6, 7]\n",
      "            -> found at index 1 !\n"
     ]
    },
    {
     "data": {
      "text/plain": [
       "7"
      ]
     },
     "execution_count": 133,
     "metadata": {},
     "output_type": "execute_result"
    },
    {
     "name": "stdout",
     "output_type": "stream",
     "text": [
      "\n",
      "    Looking for value 8 in [0, 1, 2, 3, 4, 5, 6, 7, 8, 9, 10, 11, 12, 13, 14, 15] :\n",
      "      Sequence of size 16 = [0, 1, 2, 3, 4, 5, 6, 7, 8, 9, 10, 11, 12, 13, 14, 15]\n",
      "      -> found at index 8 !\n"
     ]
    },
    {
     "data": {
      "text/plain": [
       "8"
      ]
     },
     "execution_count": 133,
     "metadata": {},
     "output_type": "execute_result"
    },
    {
     "name": "stdout",
     "output_type": "stream",
     "text": [
      "\n",
      "    Looking for value 9 in [0, 1, 2, 3, 4, 5, 6, 7, 8, 9, 10, 11, 12, 13, 14, 15] :\n",
      "      Sequence of size 16 = [0, 1, 2, 3, 4, 5, 6, 7, 8, 9, 10, 11, 12, 13, 14, 15]\n",
      "      -> going right, in [8, 9, 10, 11, 12, 13, 14, 15] of size 8...\n",
      "        Sequence of size 8 = [8, 9, 10, 11, 12, 13, 14, 15]\n",
      "        -> going left, in [8, 9, 10, 11] of size 4...\n",
      "          Sequence of size 4 = [8, 9, 10, 11]\n",
      "          -> going left, in [8, 9] of size 2...\n",
      "            Sequence of size 2 = [8, 9]\n",
      "            -> found at index 1 !\n"
     ]
    },
    {
     "data": {
      "text/plain": [
       "9"
      ]
     },
     "execution_count": 133,
     "metadata": {},
     "output_type": "execute_result"
    },
    {
     "name": "stdout",
     "output_type": "stream",
     "text": [
      "\n",
      "    Looking for value 10 in [0, 1, 2, 3, 4, 5, 6, 7, 8, 9, 10, 11, 12, 13, 14, 15] :\n",
      "      Sequence of size 16 = [0, 1, 2, 3, 4, 5, 6, 7, 8, 9, 10, 11, 12, 13, 14, 15]\n",
      "      -> going right, in [8, 9, 10, 11, 12, 13, 14, 15] of size 8...\n",
      "        Sequence of size 8 = [8, 9, 10, 11, 12, 13, 14, 15]\n",
      "        -> going left, in [8, 9, 10, 11] of size 4...\n",
      "          Sequence of size 4 = [8, 9, 10, 11]\n",
      "          -> found at index 2 !\n"
     ]
    },
    {
     "data": {
      "text/plain": [
       "10"
      ]
     },
     "execution_count": 133,
     "metadata": {},
     "output_type": "execute_result"
    },
    {
     "name": "stdout",
     "output_type": "stream",
     "text": [
      "\n",
      "    Looking for value 11 in [0, 1, 2, 3, 4, 5, 6, 7, 8, 9, 10, 11, 12, 13, 14, 15] :\n",
      "      Sequence of size 16 = [0, 1, 2, 3, 4, 5, 6, 7, 8, 9, 10, 11, 12, 13, 14, 15]\n",
      "      -> going right, in [8, 9, 10, 11, 12, 13, 14, 15] of size 8...\n",
      "        Sequence of size 8 = [8, 9, 10, 11, 12, 13, 14, 15]\n",
      "        -> going left, in [8, 9, 10, 11] of size 4...\n",
      "          Sequence of size 4 = [8, 9, 10, 11]\n",
      "          -> going right, in [10, 11] of size 2...\n",
      "            Sequence of size 2 = [10, 11]\n",
      "            -> found at index 1 !\n"
     ]
    },
    {
     "data": {
      "text/plain": [
       "11"
      ]
     },
     "execution_count": 133,
     "metadata": {},
     "output_type": "execute_result"
    },
    {
     "name": "stdout",
     "output_type": "stream",
     "text": [
      "\n",
      "    Looking for value 12 in [0, 1, 2, 3, 4, 5, 6, 7, 8, 9, 10, 11, 12, 13, 14, 15] :\n",
      "      Sequence of size 16 = [0, 1, 2, 3, 4, 5, 6, 7, 8, 9, 10, 11, 12, 13, 14, 15]\n",
      "      -> going right, in [8, 9, 10, 11, 12, 13, 14, 15] of size 8...\n",
      "        Sequence of size 8 = [8, 9, 10, 11, 12, 13, 14, 15]\n",
      "        -> found at index 4 !\n"
     ]
    },
    {
     "data": {
      "text/plain": [
       "12"
      ]
     },
     "execution_count": 133,
     "metadata": {},
     "output_type": "execute_result"
    },
    {
     "name": "stdout",
     "output_type": "stream",
     "text": [
      "\n",
      "    Looking for value 13 in [0, 1, 2, 3, 4, 5, 6, 7, 8, 9, 10, 11, 12, 13, 14, 15] :\n",
      "      Sequence of size 16 = [0, 1, 2, 3, 4, 5, 6, 7, 8, 9, 10, 11, 12, 13, 14, 15]\n",
      "      -> going right, in [8, 9, 10, 11, 12, 13, 14, 15] of size 8...\n",
      "        Sequence of size 8 = [8, 9, 10, 11, 12, 13, 14, 15]\n",
      "        -> going right, in [12, 13, 14, 15] of size 4...\n",
      "          Sequence of size 4 = [12, 13, 14, 15]\n",
      "          -> going left, in [12, 13] of size 2...\n",
      "            Sequence of size 2 = [12, 13]\n",
      "            -> found at index 1 !\n"
     ]
    },
    {
     "data": {
      "text/plain": [
       "13"
      ]
     },
     "execution_count": 133,
     "metadata": {},
     "output_type": "execute_result"
    },
    {
     "name": "stdout",
     "output_type": "stream",
     "text": [
      "\n",
      "    Looking for value 14 in [0, 1, 2, 3, 4, 5, 6, 7, 8, 9, 10, 11, 12, 13, 14, 15] :\n",
      "      Sequence of size 16 = [0, 1, 2, 3, 4, 5, 6, 7, 8, 9, 10, 11, 12, 13, 14, 15]\n",
      "      -> going right, in [8, 9, 10, 11, 12, 13, 14, 15] of size 8...\n",
      "        Sequence of size 8 = [8, 9, 10, 11, 12, 13, 14, 15]\n",
      "        -> going right, in [12, 13, 14, 15] of size 4...\n",
      "          Sequence of size 4 = [12, 13, 14, 15]\n",
      "          -> found at index 2 !\n"
     ]
    },
    {
     "data": {
      "text/plain": [
       "14"
      ]
     },
     "execution_count": 133,
     "metadata": {},
     "output_type": "execute_result"
    },
    {
     "name": "stdout",
     "output_type": "stream",
     "text": [
      "\n",
      "    Looking for value 15 in [0, 1, 2, 3, 4, 5, 6, 7, 8, 9, 10, 11, 12, 13, 14, 15] :\n",
      "      Sequence of size 16 = [0, 1, 2, 3, 4, 5, 6, 7, 8, 9, 10, 11, 12, 13, 14, 15]\n",
      "      -> going right, in [8, 9, 10, 11, 12, 13, 14, 15] of size 8...\n",
      "        Sequence of size 8 = [8, 9, 10, 11, 12, 13, 14, 15]\n",
      "        -> going right, in [12, 13, 14, 15] of size 4...\n",
      "          Sequence of size 4 = [12, 13, 14, 15]\n",
      "          -> going right, in [14, 15] of size 2...\n",
      "            Sequence of size 2 = [14, 15]\n",
      "            -> found at index 1 !\n"
     ]
    },
    {
     "data": {
      "text/plain": [
       "15"
      ]
     },
     "execution_count": 133,
     "metadata": {},
     "output_type": "execute_result"
    }
   ],
   "source": [
    "for value in example_of_list:\n",
    "    print(f\"\\n    Looking for value {value} in {example_of_list} :\")\n",
    "    dichotomy_in_list(example_of_list, value, debug=True)"
   ]
  },
  {
   "cell_type": "markdown",
   "metadata": {},
   "source": [
    "Et maintenant des essais sur des entrées de tailles croissantes :"
   ]
  },
  {
   "cell_type": "code",
   "execution_count": 134,
   "metadata": {},
   "outputs": [],
   "source": [
    "import random\n",
    "\n",
    "def random_sorted_sequence(n, minint=0, maxint=1000):\n",
    "    sequence = [random.randint(minint, maxint) for _ in range(n)]\n",
    "    return sorted(sequence)"
   ]
  },
  {
   "cell_type": "code",
   "execution_count": 161,
   "metadata": {},
   "outputs": [],
   "source": [
    "def test_dichotomy_in_list(n, debug=False, sequence=None):\n",
    "    if sequence is None:\n",
    "        sequence = random_sorted_sequence(n)\n",
    "    value = random.choice(sequence)\n",
    "    return dichotomy_in_list(sequence, value, debug=debug)"
   ]
  },
  {
   "cell_type": "code",
   "execution_count": 162,
   "metadata": {
    "scrolled": false
   },
   "outputs": [
    {
     "name": "stdout",
     "output_type": "stream",
     "text": [
      "      Searching for 217 in sequence of size 16 = [32, 42, 72, 85, 107, 175, 217, 343, 396, 446, 577, 622, 708, 753, 819, 980]\n",
      "      -> going left...\n",
      "        Searching for 217 in sequence of size 8 = [32, 42, 72, 85, 107, 175, 217, 343]\n",
      "        -> going right...\n",
      "          Searching for 217 in sequence of size 3 = [175, 217, 343]\n",
      "          -> found at index 6 !\n"
     ]
    },
    {
     "data": {
      "text/plain": [
       "6"
      ]
     },
     "execution_count": 162,
     "metadata": {},
     "output_type": "execute_result"
    }
   ],
   "source": [
    "test_dichotomy_in_array(16, debug=True)"
   ]
  },
  {
   "cell_type": "code",
   "execution_count": 163,
   "metadata": {},
   "outputs": [],
   "source": [
    "import sys\n",
    "sys.setrecursionlimit(10000)"
   ]
  },
  {
   "cell_type": "code",
   "execution_count": 164,
   "metadata": {
    "scrolled": true
   },
   "outputs": [
    {
     "name": "stdout",
     "output_type": "stream",
     "text": [
      "2.13 µs ± 84 ns per loop (mean ± std. dev. of 7 runs, 100000 loops each)\n"
     ]
    }
   ],
   "source": [
    "L = random_sorted_sequence(100)\n",
    "%timeit test_dichotomy_in_list(100, sequence=L)"
   ]
  },
  {
   "cell_type": "code",
   "execution_count": 165,
   "metadata": {},
   "outputs": [
    {
     "name": "stdout",
     "output_type": "stream",
     "text": [
      "6.73 µs ± 185 ns per loop (mean ± std. dev. of 7 runs, 100000 loops each)\n"
     ]
    }
   ],
   "source": [
    "L = random_sorted_sequence(1000)\n",
    "%timeit test_dichotomy_in_list(1000, sequence=L)"
   ]
  },
  {
   "cell_type": "code",
   "execution_count": 169,
   "metadata": {},
   "outputs": [
    {
     "name": "stdout",
     "output_type": "stream",
     "text": [
      "40.3 µs ± 1.01 µs per loop (mean ± std. dev. of 7 runs, 10000 loops each)\n"
     ]
    }
   ],
   "source": [
    "L = random_sorted_sequence(10000)\n",
    "%timeit test_dichotomy_in_list(10000, sequence=L)"
   ]
  },
  {
   "cell_type": "code",
   "execution_count": 168,
   "metadata": {},
   "outputs": [
    {
     "name": "stdout",
     "output_type": "stream",
     "text": [
      "853 µs ± 89.3 µs per loop (mean ± std. dev. of 7 runs, 1000 loops each)\n"
     ]
    }
   ],
   "source": [
    "L = random_sorted_sequence(100000)\n",
    "%timeit test_dichotomy_in_list(100000, sequence=L)"
   ]
  },
  {
   "cell_type": "code",
   "execution_count": 170,
   "metadata": {},
   "outputs": [
    {
     "name": "stdout",
     "output_type": "stream",
     "text": [
      "34.2 ms ± 2.7 ms per loop (mean ± std. dev. of 7 runs, 10 loops each)\n"
     ]
    }
   ],
   "source": [
    "L = random_sorted_sequence(1000_000)\n",
    "%timeit test_dichotomy_in_list(1000_000, sequence=L)"
   ]
  },
  {
   "cell_type": "code",
   "execution_count": 171,
   "metadata": {
    "scrolled": true
   },
   "outputs": [
    {
     "name": "stdout",
     "output_type": "stream",
     "text": [
      "436 ms ± 46.6 ms per loop (mean ± std. dev. of 7 runs, 10 loops each)\n"
     ]
    }
   ],
   "source": [
    "L = random_sorted_sequence(10_000_000)\n",
    "%timeit test_dichotomy_in_list(10_000_000, sequence=L)"
   ]
  },
  {
   "cell_type": "markdown",
   "metadata": {},
   "source": [
    "La complexité semble bien linéaire en $n$ (ie., $\\mathcal{O}(n)$) !"
   ]
  },
  {
   "cell_type": "markdown",
   "metadata": {},
   "source": [
    "### Tri fusion (*merge sort*)\n",
    "\n",
    "- Problème :\n",
    "  + entrée = tableau `T = [a1, ..., an]` de `n` valeurs\n",
    "  + sortie = tableau trié par ordre croissant\n",
    "\n",
    "- Algorithme :\n",
    "  + on divise en deux le tableau, `gauche = [a1, ..., a_n/2]` et `droite = [a_n/2+1, ..., an]`,\n",
    "  + on trie récursivement les deux sous tableaux,\n",
    "  + on fusionne (*merge*) les deux sous tableaux en un.\n",
    "\n",
    "La fusion est simple à réaliser : on commence tout à gauche des deux tableaux, on avance dans le tableau de gauche ou le tableau de droite, séquentiellement, jusqu'à avoir épuiser leurs valeurs, en prenant la valeur de gauche tant qu'elle est plus petite que celle de droite."
   ]
  },
  {
   "cell_type": "markdown",
   "metadata": {},
   "source": [
    "La complexité de cet algorithme est en $\\mathcal{O}(n \\log(n))$.\n",
    "\n",
    "**Avec le _master theorem_**, on a $a=2, b=2, k=1$ : on divise les entrées en $a=2$ entrées de tailles $\\leq b=2$ plus petites, sur lesquels on applique un traitement linéaire ($\\mathcal{O}(n^{k=1})$ avant et après l'appel récursif."
   ]
  },
  {
   "cell_type": "code",
   "execution_count": 197,
   "metadata": {},
   "outputs": [],
   "source": [
    "def merge(left, right):\n",
    "    result = []\n",
    "    left_idx, right_idx = 0, 0  # growing pointers\n",
    "    while left_idx < len(left) and right_idx < len(right):\n",
    "        # this loop terminates because left_idx + right_idx is strictly increasing\n",
    "        # and bounded by len(left) + len(right)\n",
    "        # change the direction of this comparison to change the direction of the sort\n",
    "        if left[left_idx] <= right[right_idx]:\n",
    "            result.append(left[left_idx])\n",
    "            left_idx += 1\n",
    "        else:\n",
    "            result.append(right[right_idx])\n",
    "            right_idx += 1\n",
    "    # we still have values to take on the left\n",
    "    if left_idx < len(left):\n",
    "        result.extend(left[left_idx:])\n",
    "    # we still have values to take on the right\n",
    "    if right_idx < len(right):\n",
    "        result.extend(right[right_idx:])\n",
    "    return result"
   ]
  },
  {
   "cell_type": "code",
   "execution_count": 198,
   "metadata": {},
   "outputs": [],
   "source": [
    "def merge_sort(m):\n",
    "    if len(m) <= 1:\n",
    "        return m\n",
    " \n",
    "    middle = len(m) // 2\n",
    "    # separating the array in two pieces is easy with Python\n",
    "    # but keep in mind, this takes a linear time to copy the arrays!\n",
    "    left = m[:middle]\n",
    "    right = m[middle:]\n",
    " \n",
    "    sorted_left = merge_sort(left)\n",
    "    sorted_right = merge_sort(right)\n",
    "    return list(merge(sorted_left, sorted_right))"
   ]
  },
  {
   "cell_type": "markdown",
   "metadata": {},
   "source": [
    "Quelques tests :"
   ]
  },
  {
   "cell_type": "code",
   "execution_count": 199,
   "metadata": {
    "scrolled": true
   },
   "outputs": [
    {
     "name": "stdout",
     "output_type": "stream",
     "text": [
      "305 µs ± 18.2 µs per loop (mean ± std. dev. of 7 runs, 1000 loops each)\n"
     ]
    }
   ],
   "source": [
    "L = random_sorted_sequence(100)\n",
    "%timeit merge_sort(shuffle(L))"
   ]
  },
  {
   "cell_type": "code",
   "execution_count": 200,
   "metadata": {
    "scrolled": true
   },
   "outputs": [
    {
     "name": "stdout",
     "output_type": "stream",
     "text": [
      "4.7 ms ± 733 µs per loop (mean ± std. dev. of 7 runs, 100 loops each)\n"
     ]
    }
   ],
   "source": [
    "L = random_sorted_sequence(1000)\n",
    "%timeit merge_sort(shuffle(L))"
   ]
  },
  {
   "cell_type": "code",
   "execution_count": 201,
   "metadata": {
    "scrolled": true
   },
   "outputs": [
    {
     "name": "stdout",
     "output_type": "stream",
     "text": [
      "61.4 ms ± 9.57 ms per loop (mean ± std. dev. of 7 runs, 10 loops each)\n"
     ]
    }
   ],
   "source": [
    "L = random_sorted_sequence(10_000)\n",
    "%timeit merge_sort(shuffle(L))"
   ]
  },
  {
   "cell_type": "code",
   "execution_count": 202,
   "metadata": {
    "scrolled": true
   },
   "outputs": [
    {
     "name": "stdout",
     "output_type": "stream",
     "text": [
      "661 ms ± 41 ms per loop (mean ± std. dev. of 7 runs, 1 loop each)\n"
     ]
    }
   ],
   "source": [
    "L = random_sorted_sequence(100_000)\n",
    "%timeit merge_sort(shuffle(L))"
   ]
  },
  {
   "cell_type": "code",
   "execution_count": 203,
   "metadata": {
    "scrolled": true
   },
   "outputs": [
    {
     "name": "stdout",
     "output_type": "stream",
     "text": [
      "8.27 s ± 213 ms per loop (mean ± std. dev. of 7 runs, 1 loop each)\n"
     ]
    }
   ],
   "source": [
    "L = random_sorted_sequence(1000_000)\n",
    "%timeit merge_sort(shuffle(L))"
   ]
  },
  {
   "cell_type": "markdown",
   "metadata": {},
   "source": [
    "On pourrait vérifier que la complexité est bien en $\\mathcal{O}(n \\log(n))$."
   ]
  },
  {
   "cell_type": "markdown",
   "metadata": {},
   "source": [
    "### Enveloppe convexe de points en 2D (*quickhull*)\n",
    "\n",
    "- Problème :\n",
    "  + entrée = tableau `T = [xy1, ..., xyn]` de `n` points dans le plan (`xy = (x, y)`)\n",
    "  + sortie = tableau `hull = [xy_i1, ..., xy_ip]` des `p` points constituant l'enveloppe convexe des `n` points d'entrée\n",
    "\n",
    "- Algorithme :\n",
    "  + on identifie le point le plus en bas à gauche $P_{bg}$, le point le plus en haut à droite $P_{hd}$,\n",
    "  + la diagonale $D$ est le segment orienté qui va de $P_{bg}$ à $P_{hd}$,\n",
    "  + on sépare l'ensemble en deux, les points à gauche de $D$ (coin bas droite), ceux à droite de $D$,\n",
    "  + on calcule les deux enveloppes convexes $E_g$ et $E_d$ des deux ensembles de points (récursivement),\n",
    "  + on fusionne les deux enveloppes convexes $E_g$ et $E_d$ en les ordonnant comme il faut (et en enlevant l'arête $P_{hd} \\to P_{pg}$ qui est présente dans $E_g$ et $P_{pg} \\to P_{hd}$ présente dans $E_d$.\n",
    "\n",
    "La fusion est naïve simple à réaliser.\n",
    "Le test pour savoir si un point est à gauche, à droite, ou sur $D$, se fait en temps $O(1)$ avec un calcul de produit scalaire."
   ]
  },
  {
   "cell_type": "code",
   "execution_count": 205,
   "metadata": {},
   "outputs": [],
   "source": [
    "def quickhull(points):\n",
    "    raise NotImplementedError"
   ]
  },
  {
   "cell_type": "markdown",
   "metadata": {},
   "source": [
    "La complexité de cet algorithme est en $\\mathcal{O}(n \\log(n))$.\n",
    "\n",
    "**Avec le _master theorem_**, on a $a=2, b=2, k=1$ : on divise les entrées en $a=2$ entrées de tailles $\\leq b=2$ plus petites, sur lesquels on applique un traitement linéaire ($\\mathcal{O}(n^{k=1})$ avant et après l'appel récursif.\n",
    "(*En supposant les points uniformément répartis dans le plan*.)\n",
    "\n",
    "On pourrait l'implémenter, et vérifier la complexité sur des entrées aléatoires (ie. les points sont tirés uniformément dans une boîte carrée $(x_i,y_i) \\sim [x_\\min,x_\\max] \\times [y_\\min,y_\\max]$)."
   ]
  },
  {
   "cell_type": "markdown",
   "metadata": {},
   "source": [
    "----\n",
    "## Algorithme de Gauss-Karatsuba"
   ]
  },
  {
   "cell_type": "code",
   "execution_count": null,
   "metadata": {},
   "outputs": [],
   "source": []
  },
  {
   "cell_type": "code",
   "execution_count": null,
   "metadata": {},
   "outputs": [],
   "source": []
  },
  {
   "cell_type": "markdown",
   "metadata": {},
   "source": [
    "----\n",
    "## Algorithme de Strassen\n",
    "\n",
    "\n",
    "> Part of this code is coming from [this blog post](https://martin-thoma.com/strassen-algorithm-in-python-java-cpp/)."
   ]
  },
  {
   "cell_type": "markdown",
   "metadata": {},
   "source": [
    "La complexité de cet algorithme est en $\\mathcal{O}(n^{\\log_2(7)})$, asymptotiquement meilleur que $\\mathcal{O}(n^3)$ la méthode naïve.\n",
    "\n",
    "**Avec le _master theorem_**, on a $a=7, b=2, k=2$ : on divise les entrées en $a=7$ entrées de tailles $\\leq b=2$ plus petites [1], sur lesquels on applique un traitement quadratique (toutes les additions $\\mathcal{O}(n^{k=2})$ avant et après l'appel récursif.\n",
    "\n",
    "Donc $a = 7 > b^k = 4$ ce qui donne $T(n) = \\mathcal{O}(n^{\\log_b(a)})$.\n",
    "\n",
    "> [1] : c'est $n$ qui est divisé par deux, bien que $n^2$ soit divisé par $4$ et que l'on puisse considérer que la taille d'une matrice $(n,m)$ est $n \\times m$."
   ]
  },
  {
   "cell_type": "code",
   "execution_count": 208,
   "metadata": {},
   "outputs": [],
   "source": [
    "import numpy as np"
   ]
  },
  {
   "cell_type": "code",
   "execution_count": 221,
   "metadata": {},
   "outputs": [],
   "source": [
    "def ikjMatrixProduct(A, B):\n",
    "    n = len(A)\n",
    "    C = np.zeros((n, n), dtype=type(A[0,0]))\n",
    "    for i in range(n):\n",
    "        for k in range(n):\n",
    "            for j in range(n):\n",
    "                C[i,j] += A[i,k] * B[k,j]\n",
    "    return C"
   ]
  },
  {
   "cell_type": "code",
   "execution_count": 222,
   "metadata": {},
   "outputs": [],
   "source": [
    "def add(A, B):\n",
    "    n = len(A)\n",
    "    C = np.zeros((n, n), dtype=type(A[0,0]))\n",
    "    for i in range(n):\n",
    "        for j in range(n):\n",
    "            C[i,j] = A[i,j] + B[i,j]\n",
    "    return C"
   ]
  },
  {
   "cell_type": "code",
   "execution_count": 223,
   "metadata": {},
   "outputs": [],
   "source": [
    "def subtract(A, B):\n",
    "    n = len(A)\n",
    "    C = np.zeros((n, n), dtype=type(A[0,0]))\n",
    "    for i in range(n):\n",
    "        for j in range(n):\n",
    "            C[i,j] = A[i,j] - B[i,j]\n",
    "    return C"
   ]
  },
  {
   "cell_type": "code",
   "execution_count": 224,
   "metadata": {},
   "outputs": [],
   "source": [
    "LEAF_SIZE = 64"
   ]
  },
  {
   "cell_type": "code",
   "execution_count": 255,
   "metadata": {},
   "outputs": [],
   "source": [
    "def strassenR(A, B, leaf_size=LEAF_SIZE):\n",
    "    n = len(A)\n",
    "\n",
    "    if n <= leaf_size:\n",
    "        return ikjMatrixProduct(A, B)\n",
    "    else:\n",
    "        # initializing the new sub-matrices\n",
    "        newSize = n//2\n",
    "        a11 = np.zeros((newSize, newSize), dtype=type(A[0,0]))\n",
    "        a12 = np.zeros((newSize, newSize), dtype=type(A[0,0]))\n",
    "        a21 = np.zeros((newSize, newSize), dtype=type(A[0,0]))\n",
    "        a22 = np.zeros((newSize, newSize), dtype=type(A[0,0]))\n",
    "        b11 = np.zeros((newSize, newSize), dtype=type(A[0,0]))\n",
    "        b12 = np.zeros((newSize, newSize), dtype=type(A[0,0]))\n",
    "        b21 = np.zeros((newSize, newSize), dtype=type(A[0,0]))\n",
    "        b22 = np.zeros((newSize, newSize), dtype=type(A[0,0]))\n",
    "\n",
    "        aResult = np.zeros((newSize, newSize), dtype=type(A[0,0]))\n",
    "        bResult = np.zeros((newSize, newSize), dtype=type(A[0,0]))\n",
    "\n",
    "        # dividing the matrices in 4 sub-matrices:\n",
    "        for i in range(newSize):\n",
    "            for j in range(newSize):\n",
    "                a11[i,j] = A[i, j]            # top left\n",
    "                a12[i,j] = A[i, j + newSize]    # top right\n",
    "                a21[i,j] = A[i + newSize, j]    # bottom left\n",
    "                a22[i,j] = A[i + newSize, j + newSize] # bottom right\n",
    "                b11[i,j] = B[i, j]            # top left\n",
    "                b12[i,j] = B[i, j + newSize]    # top right\n",
    "                b21[i,j] = B[i + newSize, j]    # bottom left\n",
    "                b22[i,j] = B[i + newSize, j + newSize] # bottom right\n",
    "\n",
    "        # Calculating p1 to p7:\n",
    "        aResult = add(a11, a22)\n",
    "        bResult = add(b11, b22)\n",
    "        p1 = strassenR(aResult, bResult) # p1 = (a11+a22) * (b11+b22)\n",
    "\n",
    "        aResult = add(a21, a22)      # a21 + a22\n",
    "        p2 = strassenR(aResult, b11)  # p2 = (a21+a22) * (b11)\n",
    "\n",
    "        bResult = subtract(b12, b22) # b12 - b22\n",
    "        p3 = strassenR(a11, bResult)  # p3 = (a11) * (b12 - b22)\n",
    "\n",
    "        bResult = subtract(b21, b11) # b21 - b11\n",
    "        p4 =strassenR(a22, bResult)   # p4 = (a22) * (b21 - b11)\n",
    "\n",
    "        aResult = add(a11, a12)      # a11 + a12\n",
    "        p5 = strassenR(aResult, b22)  # p5 = (a11+a12) * (b22)   \n",
    "\n",
    "        aResult = subtract(a21, a11) # a21 - a11\n",
    "        bResult = add(b11, b12)      # b11 + b12\n",
    "        p6 = strassenR(aResult, bResult) # p6 = (a21-a11) * (b11+b12)\n",
    "\n",
    "        aResult = subtract(a12, a22) # a12 - a22\n",
    "        bResult = add(b21, b22)      # b21 + b22\n",
    "        p7 = strassenR(aResult, bResult) # p7 = (a12-a22) * (b21+b22)\n",
    "\n",
    "        # calculating c21, c21, c11 e c22:\n",
    "        c12 = add(p3, p5) # c12 = p3 + p5\n",
    "        c21 = add(p2, p4)  # c21 = p2 + p4\n",
    "\n",
    "        aResult = add(p1, p4) # p1 + p4\n",
    "        bResult = add(aResult, p7) # p1 + p4 + p7\n",
    "        c11 = subtract(bResult, p5) # c11 = p1 + p4 - p5 + p7\n",
    "\n",
    "        aResult = add(p1, p3) # p1 + p3\n",
    "        bResult = add(aResult, p6) # p1 + p3 + p6\n",
    "        c22 = subtract(bResult, p2) # c22 = p1 + p3 - p2 + p6\n",
    "\n",
    "        # Grouping the results obtained in a single matrix:\n",
    "        C = np.zeros((n, n), dtype=type(A[0,0]))\n",
    "        for i in range(newSize):\n",
    "            for j in range(newSize):\n",
    "                C[i,j] = c11[i,j]\n",
    "                C[i,j + newSize] = c12[i,j]\n",
    "                C[i + newSize,j] = c21[i,j]\n",
    "                C[i + newSize,j + newSize] = c22[i,j]\n",
    "        return C"
   ]
  },
  {
   "cell_type": "code",
   "execution_count": 256,
   "metadata": {},
   "outputs": [],
   "source": [
    "def strassen(A, B, leaf_size=LEAF_SIZE):\n",
    "    assert isinstance(A, np.ndarray) and isinstance(B, np.ndarray)\n",
    "    assert len(A) == len(A[0]) == len(B) == len(B[0])\n",
    "\n",
    "    # Make the matrices bigger so that you can apply the strassen\n",
    "    # algorithm recursively without having to deal with odd\n",
    "    # matrix sizes\n",
    "    nextPowerOfTwo = lambda n: 2**int(ceil(log(n,2)))\n",
    "    n = len(A)\n",
    "    m = nextPowerOfTwo(n)\n",
    "    APrep = np.zeros((m, m), dtype=type(A[0,0]))\n",
    "    BPrep = np.zeros((m, m), dtype=type(A[0,0]))\n",
    "    for i in range(n):\n",
    "        for j in range(n):\n",
    "            APrep[i,j] = A[i,j]\n",
    "            BPrep[i,j] = B[i,j]\n",
    "    CPrep = strassenR(APrep, BPrep, leaf_size=leaf_size)\n",
    "    C = np.zeros((n, n), dtype=type(A[0,0]))\n",
    "    for i in range(n):\n",
    "        for j in range(n):\n",
    "            C[i,j] = CPrep[i,j]\n",
    "    return C"
   ]
  },
  {
   "cell_type": "markdown",
   "metadata": {},
   "source": [
    "Un exemple de petite taille ($n=4$) :"
   ]
  },
  {
   "cell_type": "code",
   "execution_count": 257,
   "metadata": {},
   "outputs": [
    {
     "data": {
      "text/plain": [
       "NotImplemented"
      ]
     },
     "execution_count": 257,
     "metadata": {},
     "output_type": "execute_result"
    }
   ],
   "source": [
    "NotImplemented"
   ]
  },
  {
   "cell_type": "markdown",
   "metadata": {},
   "source": [
    "Générer des exemples de tailles grandissantes :"
   ]
  },
  {
   "cell_type": "code",
   "execution_count": 242,
   "metadata": {},
   "outputs": [],
   "source": [
    "import random"
   ]
  },
  {
   "cell_type": "code",
   "execution_count": 243,
   "metadata": {},
   "outputs": [],
   "source": [
    "def random_matrix(n, minint=0, maxint=1000):\n",
    "    A = np.zeros((n, n), dtype=int)\n",
    "    for i in range(n):\n",
    "        for j in range(n):\n",
    "            A[i, j] = random.randint(minint, maxint)\n",
    "    return A"
   ]
  },
  {
   "cell_type": "code",
   "execution_count": 244,
   "metadata": {},
   "outputs": [
    {
     "data": {
      "text/plain": [
       "array([[622, 876, 165, 250],\n",
       "       [141, 151, 647, 421],\n",
       "       [408, 112, 309, 741],\n",
       "       [491, 870,  54, 534]])"
      ]
     },
     "execution_count": 244,
     "metadata": {},
     "output_type": "execute_result"
    }
   ],
   "source": [
    "A = random_matrix(4)\n",
    "A"
   ]
  },
  {
   "cell_type": "code",
   "execution_count": 245,
   "metadata": {},
   "outputs": [
    {
     "data": {
      "text/plain": [
       "array([[618, 725, 173, 839],\n",
       "       [  1, 835, 267, 826],\n",
       "       [617, 540, 798, 942],\n",
       "       [391, 992, 861, 796]])"
      ]
     },
     "execution_count": 245,
     "metadata": {},
     "output_type": "execute_result"
    }
   ],
   "source": [
    "B = random_matrix(4)\n",
    "B"
   ]
  },
  {
   "cell_type": "code",
   "execution_count": 246,
   "metadata": {},
   "outputs": [
    {
     "data": {
      "text/plain": [
       "array([[ 584827, 1519510,  688418, 1599864],\n",
       "       [ 651099,  995322,  943497, 1187615],\n",
       "       [ 732640, 1291252,  985071, 1315738],\n",
       "       [ 546420, 1641313,  820099, 1606501]])"
      ]
     },
     "execution_count": 246,
     "metadata": {},
     "output_type": "execute_result"
    }
   ],
   "source": [
    "A @ B"
   ]
  },
  {
   "cell_type": "code",
   "execution_count": 247,
   "metadata": {},
   "outputs": [
    {
     "data": {
      "text/plain": [
       "array([[ 584827, 1519510,  688418, 1599864],\n",
       "       [ 651099,  995322,  943497, 1187615],\n",
       "       [ 732640, 1291252,  985071, 1315738],\n",
       "       [ 546420, 1641313,  820099, 1606501]])"
      ]
     },
     "execution_count": 247,
     "metadata": {},
     "output_type": "execute_result"
    }
   ],
   "source": [
    "ikjMatrixProduct(A, B)"
   ]
  },
  {
   "cell_type": "code",
   "execution_count": 249,
   "metadata": {},
   "outputs": [
    {
     "data": {
      "text/plain": [
       "array([[ 584827, 1519510,  688418, 1599864],\n",
       "       [ 651099,  995322,  943497, 1187615],\n",
       "       [ 732640, 1291252,  985071, 1315738],\n",
       "       [ 546420, 1641313,  820099, 1606501]])"
      ]
     },
     "execution_count": 249,
     "metadata": {},
     "output_type": "execute_result"
    }
   ],
   "source": [
    "strassenR(A, B, leaf_size=1)"
   ]
  },
  {
   "cell_type": "code",
   "execution_count": 250,
   "metadata": {},
   "outputs": [
    {
     "data": {
      "text/plain": [
       "array([[ 584827, 1519510,  688418, 1599864],\n",
       "       [ 651099,  995322,  943497, 1187615],\n",
       "       [ 732640, 1291252,  985071, 1315738],\n",
       "       [ 546420, 1641313,  820099, 1606501]])"
      ]
     },
     "execution_count": 250,
     "metadata": {},
     "output_type": "execute_result"
    }
   ],
   "source": [
    "strassenR(A, B, leaf_size=2)"
   ]
  },
  {
   "cell_type": "markdown",
   "metadata": {},
   "source": [
    "Pour des tests de taille $n$ croissantes :"
   ]
  },
  {
   "cell_type": "code",
   "execution_count": 258,
   "metadata": {},
   "outputs": [],
   "source": [
    "def test_ijk(n):\n",
    "    A = random_matrix(n)\n",
    "    B = random_matrix(n)\n",
    "    C = ikjMatrixProduct(A, B)\n",
    "    return C\n",
    "\n",
    "def test_strassen(n):\n",
    "    A = random_matrix(n)\n",
    "    B = random_matrix(n)\n",
    "    C = strassen(A, B)\n",
    "    return C"
   ]
  },
  {
   "cell_type": "code",
   "execution_count": null,
   "metadata": {},
   "outputs": [
    {
     "name": "stdout",
     "output_type": "stream",
     "text": [
      "\n",
      "For n = 32 : first is the ikj naive algorithm, then Strassen :\n",
      "25.5 ms ± 319 µs per loop (mean ± std. dev. of 7 runs, 10 loops each)\n"
     ]
    }
   ],
   "source": [
    "for n in [2**5, 2**6, 2**7, 2**8]:\n",
    "    print(f\"\\nFor n = {n} : first is the ikj naive algorithm, then Strassen :\")\n",
    "    A = random_matrix(n)\n",
    "    B = random_matrix(n)\n",
    "    %timeit ikjMatrixProduct(A, B)\n",
    "    %timeit strassen(A, B)"
   ]
  },
  {
   "cell_type": "markdown",
   "metadata": {},
   "source": [
    "## Conclusion\n",
    "\n",
    "C'est bon pour aujourd'hui !"
   ]
  }
 ],
 "metadata": {
  "kernelspec": {
   "display_name": "Python 3",
   "language": "python",
   "name": "python3"
  },
  "language_info": {
   "codemirror_mode": {
    "name": "ipython",
    "version": 3
   },
   "file_extension": ".py",
   "mimetype": "text/x-python",
   "name": "python",
   "nbconvert_exporter": "python",
   "pygments_lexer": "ipython3",
   "version": "3.6.8"
  },
  "toc": {
   "colors": {
    "hover_highlight": "#DAA520",
    "running_highlight": "#FF0000",
    "selected_highlight": "#FFD700"
   },
   "moveMenuLeft": true,
   "nav_menu": {
    "height": "356.867px",
    "width": "446.667px"
   },
   "navigate_menu": true,
   "number_sections": true,
   "sideBar": false,
   "threshold": 4,
   "toc_cell": true,
   "toc_position": {
    "height": "368.717px",
    "left": "1639.25px",
    "right": "20px",
    "top": "120px",
    "width": "251.25px"
   },
   "toc_section_display": "block",
   "toc_window_display": false
  },
  "varInspector": {
   "cols": {
    "lenName": 16,
    "lenType": 16,
    "lenVar": 40
   },
   "kernels_config": {
    "python": {
     "delete_cmd_postfix": "",
     "delete_cmd_prefix": "del ",
     "library": "var_list.py",
     "varRefreshCmd": "print(var_dic_list())"
    },
    "r": {
     "delete_cmd_postfix": ") ",
     "delete_cmd_prefix": "rm(",
     "library": "var_list.r",
     "varRefreshCmd": "cat(var_dic_list()) "
    }
   },
   "position": {
    "height": "247.85px",
    "left": "829.5px",
    "right": "20px",
    "top": "307px",
    "width": "470.5px"
   },
   "types_to_exclude": [
    "module",
    "function",
    "builtin_function_or_method",
    "instance",
    "_Feature"
   ],
   "window_display": false
  },
  "widgets": {
   "application/vnd.jupyter.widget-state+json": {
    "state": {
     "038a808e883447f29c7d1ac0b392a0d3": {
      "model_module": "@jupyter-widgets/controls",
      "model_module_version": "1.4.0",
      "model_name": "HBoxModel",
      "state": {
       "children": [
        "IPY_MODEL_4aaf5ca76a38467087582b42de1f6a1e",
        "IPY_MODEL_d614664cf99743889aa9b084525990d8"
       ],
       "layout": "IPY_MODEL_c02a451e0731469ea91cc39abbf14c48"
      }
     },
     "03fa6285b902493bbc52e73542eb6bd3": {
      "model_module": "@jupyter-widgets/controls",
      "model_module_version": "1.4.0",
      "model_name": "HTMLModel",
      "state": {
       "layout": "IPY_MODEL_14d24c174ecb4428af82666854e1ed83",
       "style": "IPY_MODEL_108a32808a0b43bda9b869081b96b80b",
       "value": "100% 12/12 [00:00&lt;00:00, 15.79it/s]"
      }
     },
     "040769e561d949e39b17361d682bb4a8": {
      "model_module": "@jupyter-widgets/controls",
      "model_module_version": "1.4.0",
      "model_name": "IntProgressModel",
      "state": {
       "bar_style": "success",
       "layout": "IPY_MODEL_61ab17aa9e4540939240cce1f8b4c32e",
       "max": 31,
       "style": "IPY_MODEL_7a2861a1cfdb45bdac48eb59c8b660bc",
       "value": 31
      }
     },
     "043afb832aa3492482fd973bb9d9bd7a": {
      "model_module": "@jupyter-widgets/controls",
      "model_module_version": "1.4.0",
      "model_name": "ProgressStyleModel",
      "state": {
       "description_width": ""
      }
     },
     "0ae749625db249539e573bdfcd6fa23c": {
      "model_module": "@jupyter-widgets/base",
      "model_module_version": "1.1.0",
      "model_name": "LayoutModel",
      "state": {}
     },
     "0c7b9244ca3d4cfca64cc68c62c676ef": {
      "model_module": "@jupyter-widgets/controls",
      "model_module_version": "1.4.0",
      "model_name": "HBoxModel",
      "state": {
       "children": [
        "IPY_MODEL_2ac95f4aedb04f5a9a5fa5361f2b5d49",
        "IPY_MODEL_fb9bace579f64af4b7ebb87789031257"
       ],
       "layout": "IPY_MODEL_2c2f47043664427b9fe40d9dab59f5be"
      }
     },
     "0f40caa17b6f45b19f9b67db6af682c3": {
      "model_module": "@jupyter-widgets/controls",
      "model_module_version": "1.4.0",
      "model_name": "IntProgressModel",
      "state": {
       "bar_style": "success",
       "layout": "IPY_MODEL_432a0f81101043fc812406cb9699cf55",
       "max": 12,
       "style": "IPY_MODEL_6d05a0207eb44be8a8194d7672bc3dc3",
       "value": 12
      }
     },
     "0f5c61300af74d9c87b2e169a8d59564": {
      "model_module": "@jupyter-widgets/controls",
      "model_module_version": "1.4.0",
      "model_name": "ProgressStyleModel",
      "state": {
       "description_width": ""
      }
     },
     "108a32808a0b43bda9b869081b96b80b": {
      "model_module": "@jupyter-widgets/controls",
      "model_module_version": "1.4.0",
      "model_name": "DescriptionStyleModel",
      "state": {
       "description_width": ""
      }
     },
     "1099c3fb624b4608ac4d8274ff57ff46": {
      "model_module": "@jupyter-widgets/controls",
      "model_module_version": "1.4.0",
      "model_name": "DescriptionStyleModel",
      "state": {
       "description_width": ""
      }
     },
     "1135c69a55d04878a6716a594f46043e": {
      "model_module": "@jupyter-widgets/base",
      "model_module_version": "1.1.0",
      "model_name": "LayoutModel",
      "state": {}
     },
     "1156627bae864085bbc3167c5b2a5cb3": {
      "model_module": "@jupyter-widgets/controls",
      "model_module_version": "1.4.0",
      "model_name": "DescriptionStyleModel",
      "state": {
       "description_width": ""
      }
     },
     "14d24c174ecb4428af82666854e1ed83": {
      "model_module": "@jupyter-widgets/base",
      "model_module_version": "1.1.0",
      "model_name": "LayoutModel",
      "state": {}
     },
     "17c69c17ec8344d2aeee5ae6dee93ce6": {
      "model_module": "@jupyter-widgets/base",
      "model_module_version": "1.1.0",
      "model_name": "LayoutModel",
      "state": {}
     },
     "19ca5418edce46e0985b6f1868b3938d": {
      "model_module": "@jupyter-widgets/controls",
      "model_module_version": "1.4.0",
      "model_name": "HTMLModel",
      "state": {
       "layout": "IPY_MODEL_5cae48b866984d99a1e15f8822d57ed9",
       "style": "IPY_MODEL_a194ac9f28564a6a805b24a1a742838c",
       "value": "100% 7/7 [01:56&lt;00:00, 28.35s/it]"
      }
     },
     "1b4f155261eb469da0da9cbb96741044": {
      "model_module": "@jupyter-widgets/controls",
      "model_module_version": "1.4.0",
      "model_name": "HBoxModel",
      "state": {
       "children": [
        "IPY_MODEL_27199a9b964f4b8f94946e1a80cee138",
        "IPY_MODEL_7a4cd3a8b19d4fe58ed4d6d8f4ecae0e"
       ],
       "layout": "IPY_MODEL_db91f69593764d1fbc8593c6264df3a7"
      }
     },
     "211f4c9ceba64de0b46c4e32ce02a19a": {
      "model_module": "@jupyter-widgets/controls",
      "model_module_version": "1.4.0",
      "model_name": "ProgressStyleModel",
      "state": {
       "description_width": ""
      }
     },
     "27199a9b964f4b8f94946e1a80cee138": {
      "model_module": "@jupyter-widgets/controls",
      "model_module_version": "1.4.0",
      "model_name": "IntProgressModel",
      "state": {
       "bar_style": "danger",
       "layout": "IPY_MODEL_5d84ecdf55794062bc15794cd6d48d87",
       "max": 12,
       "style": "IPY_MODEL_cc2ce2b0abab4704b0d580cdd7897c24",
       "value": 8
      }
     },
     "281631f2651241d896b1300b748f94cc": {
      "model_module": "@jupyter-widgets/controls",
      "model_module_version": "1.4.0",
      "model_name": "IntProgressModel",
      "state": {
       "bar_style": "success",
       "layout": "IPY_MODEL_9a939ec092234106b3bbf13266650f29",
       "max": 29,
       "style": "IPY_MODEL_aa66c2d953c84ef9902875ccbc9c994e",
       "value": 29
      }
     },
     "2ac95f4aedb04f5a9a5fa5361f2b5d49": {
      "model_module": "@jupyter-widgets/controls",
      "model_module_version": "1.4.0",
      "model_name": "IntProgressModel",
      "state": {
       "bar_style": "success",
       "layout": "IPY_MODEL_3705518094ba492db64884c7d9934ddf",
       "max": 31,
       "style": "IPY_MODEL_211f4c9ceba64de0b46c4e32ce02a19a",
       "value": 31
      }
     },
     "2b5f53a0083041e88ab8b35fbcb6adec": {
      "model_module": "@jupyter-widgets/base",
      "model_module_version": "1.1.0",
      "model_name": "LayoutModel",
      "state": {}
     },
     "2bbce2307fd74e7fb6b48d80cf8b147a": {
      "model_module": "@jupyter-widgets/controls",
      "model_module_version": "1.4.0",
      "model_name": "HTMLModel",
      "state": {
       "layout": "IPY_MODEL_4c3a4ac37bb349259fa3840a25b52a9f",
       "style": "IPY_MODEL_bc47080108594d6398376ec90247fd7f",
       "value": "100% 29/29 [01:42&lt;00:00,  7.61s/it]"
      }
     },
     "2c2f47043664427b9fe40d9dab59f5be": {
      "model_module": "@jupyter-widgets/base",
      "model_module_version": "1.1.0",
      "model_name": "LayoutModel",
      "state": {}
     },
     "2f4fa306f59d47a0a4c1fb41de63ccc6": {
      "model_module": "@jupyter-widgets/controls",
      "model_module_version": "1.4.0",
      "model_name": "HBoxModel",
      "state": {
       "children": [
        "IPY_MODEL_312e2c5fb4744ee9aca6e5cba42c05f8",
        "IPY_MODEL_03fa6285b902493bbc52e73542eb6bd3"
       ],
       "layout": "IPY_MODEL_616c61e0e1774e4dba06565d10df95e7"
      }
     },
     "30e0a8eb04c8484caeb06471a6b297b1": {
      "model_module": "@jupyter-widgets/controls",
      "model_module_version": "1.4.0",
      "model_name": "ProgressStyleModel",
      "state": {
       "description_width": ""
      }
     },
     "312e2c5fb4744ee9aca6e5cba42c05f8": {
      "model_module": "@jupyter-widgets/controls",
      "model_module_version": "1.4.0",
      "model_name": "IntProgressModel",
      "state": {
       "bar_style": "success",
       "layout": "IPY_MODEL_f504214792524c2cbbb8997e99aa7714",
       "max": 12,
       "style": "IPY_MODEL_30e0a8eb04c8484caeb06471a6b297b1",
       "value": 12
      }
     },
     "3151f3436ad948f79765fcfb5cb64831": {
      "model_module": "@jupyter-widgets/controls",
      "model_module_version": "1.4.0",
      "model_name": "HBoxModel",
      "state": {
       "children": [
        "IPY_MODEL_ac9c8dcde2c14dbaa1173c31993a8425",
        "IPY_MODEL_7b16d9396fa8440d8b26d4309aac9dae"
       ],
       "layout": "IPY_MODEL_ac4b2cd6abad4fbe9129ad2b39f79d1c"
      }
     },
     "3191d73e3295402c9256a8e48a55fcde": {
      "model_module": "@jupyter-widgets/controls",
      "model_module_version": "1.4.0",
      "model_name": "HBoxModel",
      "state": {
       "children": [
        "IPY_MODEL_3cf71691ed3a45788e854120454ffb91",
        "IPY_MODEL_19ca5418edce46e0985b6f1868b3938d"
       ],
       "layout": "IPY_MODEL_1135c69a55d04878a6716a594f46043e"
      }
     },
     "3288f5a70453437e8314c7c34446ad83": {
      "model_module": "@jupyter-widgets/base",
      "model_module_version": "1.1.0",
      "model_name": "LayoutModel",
      "state": {}
     },
     "3705518094ba492db64884c7d9934ddf": {
      "model_module": "@jupyter-widgets/base",
      "model_module_version": "1.1.0",
      "model_name": "LayoutModel",
      "state": {}
     },
     "3cf71691ed3a45788e854120454ffb91": {
      "model_module": "@jupyter-widgets/controls",
      "model_module_version": "1.4.0",
      "model_name": "IntProgressModel",
      "state": {
       "bar_style": "success",
       "layout": "IPY_MODEL_b79ec55a28294c6bbf956dfc8e61c6d2",
       "max": 7,
       "style": "IPY_MODEL_f1361377c3184fb688b28bfe61451e86",
       "value": 7
      }
     },
     "432a0f81101043fc812406cb9699cf55": {
      "model_module": "@jupyter-widgets/base",
      "model_module_version": "1.1.0",
      "model_name": "LayoutModel",
      "state": {}
     },
     "43cd3c30e9ed40589af0a84e4ad8165a": {
      "model_module": "@jupyter-widgets/controls",
      "model_module_version": "1.4.0",
      "model_name": "HTMLModel",
      "state": {
       "layout": "IPY_MODEL_3288f5a70453437e8314c7c34446ad83",
       "style": "IPY_MODEL_1156627bae864085bbc3167c5b2a5cb3",
       "value": "100% 31/31 [03:22&lt;00:00, 13.89s/it]"
      }
     },
     "488d7a0878974888921fe30c7a8ccce6": {
      "model_module": "@jupyter-widgets/base",
      "model_module_version": "1.1.0",
      "model_name": "LayoutModel",
      "state": {}
     },
     "4aaf5ca76a38467087582b42de1f6a1e": {
      "model_module": "@jupyter-widgets/controls",
      "model_module_version": "1.4.0",
      "model_name": "IntProgressModel",
      "state": {
       "bar_style": "success",
       "layout": "IPY_MODEL_d86d424d7d2040bea285a821eb3ffaf6",
       "max": 54,
       "style": "IPY_MODEL_fc2e0e50b4024f2089000a027350ad62",
       "value": 54
      }
     },
     "4c3a4ac37bb349259fa3840a25b52a9f": {
      "model_module": "@jupyter-widgets/base",
      "model_module_version": "1.1.0",
      "model_name": "LayoutModel",
      "state": {}
     },
     "4cd9f8c1d14a460592573b5d5f4d1e68": {
      "model_module": "@jupyter-widgets/controls",
      "model_module_version": "1.4.0",
      "model_name": "DescriptionStyleModel",
      "state": {
       "description_width": ""
      }
     },
     "5724b7c6629e42db98f82141d3346d3f": {
      "model_module": "@jupyter-widgets/controls",
      "model_module_version": "1.4.0",
      "model_name": "HTMLModel",
      "state": {
       "layout": "IPY_MODEL_0ae749625db249539e573bdfcd6fa23c",
       "style": "IPY_MODEL_8ebb3008c95c416489b9db29d758008c",
       "value": "100% 29/29 [00:16&lt;00:00,  1.18s/it]"
      }
     },
     "5aba36f9297242688598109bc09046de": {
      "model_module": "@jupyter-widgets/controls",
      "model_module_version": "1.4.0",
      "model_name": "DescriptionStyleModel",
      "state": {
       "description_width": ""
      }
     },
     "5cae48b866984d99a1e15f8822d57ed9": {
      "model_module": "@jupyter-widgets/base",
      "model_module_version": "1.1.0",
      "model_name": "LayoutModel",
      "state": {}
     },
     "5d84ecdf55794062bc15794cd6d48d87": {
      "model_module": "@jupyter-widgets/base",
      "model_module_version": "1.1.0",
      "model_name": "LayoutModel",
      "state": {}
     },
     "5f7e65435bd74f0eb6a1c412dfb425cc": {
      "model_module": "@jupyter-widgets/controls",
      "model_module_version": "1.4.0",
      "model_name": "DescriptionStyleModel",
      "state": {
       "description_width": ""
      }
     },
     "616c61e0e1774e4dba06565d10df95e7": {
      "model_module": "@jupyter-widgets/base",
      "model_module_version": "1.1.0",
      "model_name": "LayoutModel",
      "state": {}
     },
     "61ab17aa9e4540939240cce1f8b4c32e": {
      "model_module": "@jupyter-widgets/base",
      "model_module_version": "1.1.0",
      "model_name": "LayoutModel",
      "state": {}
     },
     "63d4d742d31e49eb9f408d4b1d5205a8": {
      "model_module": "@jupyter-widgets/controls",
      "model_module_version": "1.4.0",
      "model_name": "HBoxModel",
      "state": {
       "children": [
        "IPY_MODEL_281631f2651241d896b1300b748f94cc",
        "IPY_MODEL_5724b7c6629e42db98f82141d3346d3f"
       ],
       "layout": "IPY_MODEL_6ec3aa7a23a64d20995bdf93351224f2"
      }
     },
     "646c3ac9c11944748551fbf8c83663b1": {
      "model_module": "@jupyter-widgets/controls",
      "model_module_version": "1.4.0",
      "model_name": "IntProgressModel",
      "state": {
       "bar_style": "success",
       "layout": "IPY_MODEL_488d7a0878974888921fe30c7a8ccce6",
       "max": 29,
       "style": "IPY_MODEL_ae8a07808b3e45859f3cd921f129124b",
       "value": 29
      }
     },
     "67b4ef9809f6494c8230ffa837fb5f2d": {
      "model_module": "@jupyter-widgets/base",
      "model_module_version": "1.1.0",
      "model_name": "LayoutModel",
      "state": {}
     },
     "6d05a0207eb44be8a8194d7672bc3dc3": {
      "model_module": "@jupyter-widgets/controls",
      "model_module_version": "1.4.0",
      "model_name": "ProgressStyleModel",
      "state": {
       "description_width": ""
      }
     },
     "6ec3aa7a23a64d20995bdf93351224f2": {
      "model_module": "@jupyter-widgets/base",
      "model_module_version": "1.1.0",
      "model_name": "LayoutModel",
      "state": {}
     },
     "774238a7f4bc4bc39881b33452244ce3": {
      "model_module": "@jupyter-widgets/base",
      "model_module_version": "1.1.0",
      "model_name": "LayoutModel",
      "state": {}
     },
     "7a2861a1cfdb45bdac48eb59c8b660bc": {
      "model_module": "@jupyter-widgets/controls",
      "model_module_version": "1.4.0",
      "model_name": "ProgressStyleModel",
      "state": {
       "description_width": ""
      }
     },
     "7a4cd3a8b19d4fe58ed4d6d8f4ecae0e": {
      "model_module": "@jupyter-widgets/controls",
      "model_module_version": "1.4.0",
      "model_name": "HTMLModel",
      "state": {
       "layout": "IPY_MODEL_a6d7e8cc772f4b44ba43a23a407e7c12",
       "style": "IPY_MODEL_4cd9f8c1d14a460592573b5d5f4d1e68",
       "value": " 67% 8/12 [01:42&lt;01:34, 23.63s/it]"
      }
     },
     "7ab2be73db8c40cc896e0249bd3ea500": {
      "model_module": "@jupyter-widgets/controls",
      "model_module_version": "1.4.0",
      "model_name": "DescriptionStyleModel",
      "state": {
       "description_width": ""
      }
     },
     "7b16d9396fa8440d8b26d4309aac9dae": {
      "model_module": "@jupyter-widgets/controls",
      "model_module_version": "1.4.0",
      "model_name": "HTMLModel",
      "state": {
       "layout": "IPY_MODEL_b7ee7f0454ef43edba44cdb7eff62621",
       "style": "IPY_MODEL_7ab2be73db8c40cc896e0249bd3ea500",
       "value": "100% 54/54 [07:16&lt;00:00, 17.43s/it]"
      }
     },
     "875b2a51333945eaa1b8cc990026d552": {
      "model_module": "@jupyter-widgets/controls",
      "model_module_version": "1.4.0",
      "model_name": "HBoxModel",
      "state": {
       "children": [
        "IPY_MODEL_040769e561d949e39b17361d682bb4a8",
        "IPY_MODEL_43cd3c30e9ed40589af0a84e4ad8165a"
       ],
       "layout": "IPY_MODEL_cb8738fbc3d54b8ea12d23b970356248"
      }
     },
     "89bf37d725d0422ead1e32f25f1ff7a8": {
      "model_module": "@jupyter-widgets/controls",
      "model_module_version": "1.4.0",
      "model_name": "HBoxModel",
      "state": {
       "children": [
        "IPY_MODEL_646c3ac9c11944748551fbf8c83663b1",
        "IPY_MODEL_2bbce2307fd74e7fb6b48d80cf8b147a"
       ],
       "layout": "IPY_MODEL_17c69c17ec8344d2aeee5ae6dee93ce6"
      }
     },
     "8ebb3008c95c416489b9db29d758008c": {
      "model_module": "@jupyter-widgets/controls",
      "model_module_version": "1.4.0",
      "model_name": "DescriptionStyleModel",
      "state": {
       "description_width": ""
      }
     },
     "9a939ec092234106b3bbf13266650f29": {
      "model_module": "@jupyter-widgets/base",
      "model_module_version": "1.1.0",
      "model_name": "LayoutModel",
      "state": {}
     },
     "a194ac9f28564a6a805b24a1a742838c": {
      "model_module": "@jupyter-widgets/controls",
      "model_module_version": "1.4.0",
      "model_name": "DescriptionStyleModel",
      "state": {
       "description_width": ""
      }
     },
     "a34f3e8def0649618235b0c8d9648d99": {
      "model_module": "@jupyter-widgets/controls",
      "model_module_version": "1.4.0",
      "model_name": "DescriptionStyleModel",
      "state": {
       "description_width": ""
      }
     },
     "a6d7e8cc772f4b44ba43a23a407e7c12": {
      "model_module": "@jupyter-widgets/base",
      "model_module_version": "1.1.0",
      "model_name": "LayoutModel",
      "state": {}
     },
     "aa66c2d953c84ef9902875ccbc9c994e": {
      "model_module": "@jupyter-widgets/controls",
      "model_module_version": "1.4.0",
      "model_name": "ProgressStyleModel",
      "state": {
       "description_width": ""
      }
     },
     "ac4b2cd6abad4fbe9129ad2b39f79d1c": {
      "model_module": "@jupyter-widgets/base",
      "model_module_version": "1.1.0",
      "model_name": "LayoutModel",
      "state": {}
     },
     "ac9c8dcde2c14dbaa1173c31993a8425": {
      "model_module": "@jupyter-widgets/controls",
      "model_module_version": "1.4.0",
      "model_name": "IntProgressModel",
      "state": {
       "bar_style": "success",
       "layout": "IPY_MODEL_f6042c224cb04d4d80e76e24bcd752f0",
       "max": 54,
       "style": "IPY_MODEL_043afb832aa3492482fd973bb9d9bd7a",
       "value": 54
      }
     },
     "acc45206458d480a9f2ef27c9c8ef1df": {
      "model_module": "@jupyter-widgets/controls",
      "model_module_version": "1.4.0",
      "model_name": "HTMLModel",
      "state": {
       "layout": "IPY_MODEL_2b5f53a0083041e88ab8b35fbcb6adec",
       "style": "IPY_MODEL_5f7e65435bd74f0eb6a1c412dfb425cc",
       "value": " 61% 27/44 [01:11&lt;01:07,  4.00s/it]"
      }
     },
     "ae8a07808b3e45859f3cd921f129124b": {
      "model_module": "@jupyter-widgets/controls",
      "model_module_version": "1.4.0",
      "model_name": "ProgressStyleModel",
      "state": {
       "description_width": ""
      }
     },
     "b79ec55a28294c6bbf956dfc8e61c6d2": {
      "model_module": "@jupyter-widgets/base",
      "model_module_version": "1.1.0",
      "model_name": "LayoutModel",
      "state": {}
     },
     "b7ee7f0454ef43edba44cdb7eff62621": {
      "model_module": "@jupyter-widgets/base",
      "model_module_version": "1.1.0",
      "model_name": "LayoutModel",
      "state": {}
     },
     "bc47080108594d6398376ec90247fd7f": {
      "model_module": "@jupyter-widgets/controls",
      "model_module_version": "1.4.0",
      "model_name": "DescriptionStyleModel",
      "state": {
       "description_width": ""
      }
     },
     "bdc29d95eb5b4ef9aa958372545ee719": {
      "model_module": "@jupyter-widgets/base",
      "model_module_version": "1.1.0",
      "model_name": "LayoutModel",
      "state": {}
     },
     "c00586e1eccf461c9b0429e0ccfc324c": {
      "model_module": "@jupyter-widgets/controls",
      "model_module_version": "1.4.0",
      "model_name": "HBoxModel",
      "state": {
       "children": [
        "IPY_MODEL_c268087693ac4caea7ff5672e655a9d2",
        "IPY_MODEL_acc45206458d480a9f2ef27c9c8ef1df"
       ],
       "layout": "IPY_MODEL_d92aa9b32b694dcaabc8203167d6a20e"
      }
     },
     "c02a451e0731469ea91cc39abbf14c48": {
      "model_module": "@jupyter-widgets/base",
      "model_module_version": "1.1.0",
      "model_name": "LayoutModel",
      "state": {}
     },
     "c071aba1cd534b049eee2f1809f94fec": {
      "model_module": "@jupyter-widgets/base",
      "model_module_version": "1.1.0",
      "model_name": "LayoutModel",
      "state": {}
     },
     "c268087693ac4caea7ff5672e655a9d2": {
      "model_module": "@jupyter-widgets/controls",
      "model_module_version": "1.4.0",
      "model_name": "IntProgressModel",
      "state": {
       "layout": "IPY_MODEL_67b4ef9809f6494c8230ffa837fb5f2d",
       "max": 44,
       "style": "IPY_MODEL_0f5c61300af74d9c87b2e169a8d59564",
       "value": 27
      }
     },
     "c7666e83442f44259d58a3b1f3b48341": {
      "model_module": "@jupyter-widgets/controls",
      "model_module_version": "1.4.0",
      "model_name": "HTMLModel",
      "state": {
       "layout": "IPY_MODEL_fb350532137b4401810ece19b5140a35",
       "style": "IPY_MODEL_a34f3e8def0649618235b0c8d9648d99",
       "value": "100% 12/12 [00:03&lt;00:00,  2.07it/s]"
      }
     },
     "cb8738fbc3d54b8ea12d23b970356248": {
      "model_module": "@jupyter-widgets/base",
      "model_module_version": "1.1.0",
      "model_name": "LayoutModel",
      "state": {}
     },
     "cc2ce2b0abab4704b0d580cdd7897c24": {
      "model_module": "@jupyter-widgets/controls",
      "model_module_version": "1.4.0",
      "model_name": "ProgressStyleModel",
      "state": {
       "description_width": ""
      }
     },
     "d614664cf99743889aa9b084525990d8": {
      "model_module": "@jupyter-widgets/controls",
      "model_module_version": "1.4.0",
      "model_name": "HTMLModel",
      "state": {
       "layout": "IPY_MODEL_c071aba1cd534b049eee2f1809f94fec",
       "style": "IPY_MODEL_5aba36f9297242688598109bc09046de",
       "value": "100% 54/54 [01:11&lt;00:00,  2.69s/it]"
      }
     },
     "d86d424d7d2040bea285a821eb3ffaf6": {
      "model_module": "@jupyter-widgets/base",
      "model_module_version": "1.1.0",
      "model_name": "LayoutModel",
      "state": {}
     },
     "d92aa9b32b694dcaabc8203167d6a20e": {
      "model_module": "@jupyter-widgets/base",
      "model_module_version": "1.1.0",
      "model_name": "LayoutModel",
      "state": {}
     },
     "db91f69593764d1fbc8593c6264df3a7": {
      "model_module": "@jupyter-widgets/base",
      "model_module_version": "1.1.0",
      "model_name": "LayoutModel",
      "state": {}
     },
     "f1361377c3184fb688b28bfe61451e86": {
      "model_module": "@jupyter-widgets/controls",
      "model_module_version": "1.4.0",
      "model_name": "ProgressStyleModel",
      "state": {
       "description_width": ""
      }
     },
     "f504214792524c2cbbb8997e99aa7714": {
      "model_module": "@jupyter-widgets/base",
      "model_module_version": "1.1.0",
      "model_name": "LayoutModel",
      "state": {}
     },
     "f52bb86c1e564d5381ea1b9792d4ee48": {
      "model_module": "@jupyter-widgets/controls",
      "model_module_version": "1.4.0",
      "model_name": "HBoxModel",
      "state": {
       "children": [
        "IPY_MODEL_0f40caa17b6f45b19f9b67db6af682c3",
        "IPY_MODEL_c7666e83442f44259d58a3b1f3b48341"
       ],
       "layout": "IPY_MODEL_bdc29d95eb5b4ef9aa958372545ee719"
      }
     },
     "f6042c224cb04d4d80e76e24bcd752f0": {
      "model_module": "@jupyter-widgets/base",
      "model_module_version": "1.1.0",
      "model_name": "LayoutModel",
      "state": {}
     },
     "fb350532137b4401810ece19b5140a35": {
      "model_module": "@jupyter-widgets/base",
      "model_module_version": "1.1.0",
      "model_name": "LayoutModel",
      "state": {}
     },
     "fb9bace579f64af4b7ebb87789031257": {
      "model_module": "@jupyter-widgets/controls",
      "model_module_version": "1.4.0",
      "model_name": "HTMLModel",
      "state": {
       "layout": "IPY_MODEL_774238a7f4bc4bc39881b33452244ce3",
       "style": "IPY_MODEL_1099c3fb624b4608ac4d8274ff57ff46",
       "value": "100% 31/31 [20:02&lt;00:00, 89.74s/it]"
      }
     },
     "fc2e0e50b4024f2089000a027350ad62": {
      "model_module": "@jupyter-widgets/controls",
      "model_module_version": "1.4.0",
      "model_name": "ProgressStyleModel",
      "state": {
       "description_width": ""
      }
     }
    },
    "version_major": 2,
    "version_minor": 0
   }
  }
 },
 "nbformat": 4,
 "nbformat_minor": 2
}
